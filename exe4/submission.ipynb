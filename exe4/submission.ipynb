{
  "nbformat": 4,
  "nbformat_minor": 0,
  "metadata": {
    "colab": {
      "name": "hw4.ipynb",
      "provenance": [],
      "collapsed_sections": []
    },
    "kernelspec": {
      "display_name": "Python 3",
      "name": "python3"
    }
  },
  "cells": [
    {
      "cell_type": "code",
      "metadata": {
        "id": "EnQdMSEd2QJa"
      },
      "source": [
        ""
      ],
      "execution_count": null,
      "outputs": []
    },
    {
      "cell_type": "code",
      "metadata": {
        "colab": {
          "base_uri": "https://localhost:8080/"
        },
        "id": "DB8A850i7qZA",
        "outputId": "fd8abbce-3f2d-4732-9d1a-038f17ae99f6"
      },
      "source": [
        "%tensorflow_version 2.x\r\n",
        "import tensorflow as tf\r\n",
        "!pip install tensorboardX\r\n",
        "!git clone https://github.com/GuyKabiri/language_models\r\n"
      ],
      "execution_count": null,
      "outputs": [
        {
          "output_type": "stream",
          "text": [
            "Requirement already satisfied: tensorboardX in /usr/local/lib/python3.6/dist-packages (2.1)\n",
            "Requirement already satisfied: numpy in /usr/local/lib/python3.6/dist-packages (from tensorboardX) (1.19.5)\n",
            "Requirement already satisfied: six in /usr/local/lib/python3.6/dist-packages (from tensorboardX) (1.15.0)\n",
            "Requirement already satisfied: protobuf>=3.8.0 in /usr/local/lib/python3.6/dist-packages (from tensorboardX) (3.12.4)\n",
            "Requirement already satisfied: setuptools in /usr/local/lib/python3.6/dist-packages (from protobuf>=3.8.0->tensorboardX) (51.3.3)\n",
            "fatal: destination path 'language_models' already exists and is not an empty directory.\n"
          ],
          "name": "stdout"
        }
      ]
    },
    {
      "cell_type": "code",
      "metadata": {
        "colab": {
          "base_uri": "https://localhost:8080/",
          "height": 286
        },
        "id": "eUEdMzTPCdZG",
        "outputId": "eb9afa85-59fa-428b-d3d0-8a8a13a91a3d"
      },
      "source": [
        "!pip3 install scipy==1.2.1\r\n",
        "import scipy\r\n",
        "print(scipy.__version__)"
      ],
      "execution_count": null,
      "outputs": [
        {
          "output_type": "stream",
          "text": [
            "Collecting scipy==1.2.1\n",
            "\u001b[?25l  Downloading https://files.pythonhosted.org/packages/7f/5f/c48860704092933bf1c4c1574a8de1ffd16bf4fde8bab190d747598844b2/scipy-1.2.1-cp36-cp36m-manylinux1_x86_64.whl (24.8MB)\n",
            "\u001b[K     |████████████████████████████████| 24.8MB 188kB/s \n",
            "\u001b[?25hRequirement already satisfied: numpy>=1.8.2 in /usr/local/lib/python3.6/dist-packages (from scipy==1.2.1) (1.19.5)\n",
            "\u001b[31mERROR: albumentations 0.1.12 has requirement imgaug<0.2.7,>=0.2.5, but you'll have imgaug 0.2.9 which is incompatible.\u001b[0m\n",
            "Installing collected packages: scipy\n",
            "  Found existing installation: scipy 1.4.1\n",
            "    Uninstalling scipy-1.4.1:\n",
            "      Successfully uninstalled scipy-1.4.1\n",
            "Successfully installed scipy-1.2.1\n"
          ],
          "name": "stdout"
        },
        {
          "output_type": "display_data",
          "data": {
            "application/vnd.colab-display-data+json": {
              "pip_warning": {
                "packages": [
                  "scipy"
                ]
              }
            }
          },
          "metadata": {
            "tags": []
          }
        },
        {
          "output_type": "stream",
          "text": [
            "1.4.1\n"
          ],
          "name": "stdout"
        }
      ]
    },
    {
      "cell_type": "code",
      "metadata": {
        "id": "eFcOEBoTTwBd"
      },
      "source": [
        "import keras\r\n",
        "\r\n",
        "import keras.backend as K\r\n",
        "from keras.datasets import imdb\r\n",
        "from keras.layers import  LSTM, Embedding, TimeDistributed, Input, Dense\r\n",
        "from keras.models import Model\r\n",
        "from tensorflow.python.client import device_lib\r\n",
        "\r\n",
        "from tqdm import tqdm\r\n",
        "import os, random\r\n",
        "import functools as fc\r\n",
        "\r\n",
        "from argparse import ArgumentParser\r\n",
        "\r\n",
        "import numpy as np\r\n",
        "\r\n",
        "from tensorboardX import SummaryWriter\r\n",
        "\r\n",
        "import language_models.util as util\r\n",
        "\r\n",
        "CHECK = 5"
      ],
      "execution_count": null,
      "outputs": []
    },
    {
      "cell_type": "code",
      "metadata": {
        "id": "3BS2HF4LWUGC"
      },
      "source": [
        "def generate_seq(model : Model, seed, size, temperature=1.0):\r\n",
        "    \"\"\"\r\n",
        "    :param model: The complete RNN language model\r\n",
        "    :param seed: The first few wordas of the sequence to start generating from\r\n",
        "    :param size: The total size of the sequence to generate\r\n",
        "    :param temperature: This controls how much we follow the probabilities provided by the network. For t=1.0 we just\r\n",
        "        sample directly according to the probabilities. Lower temperatures make the high-probability words more likely\r\n",
        "        (providing more likely, but slightly boring sentences) and higher temperatures make the lower probabilities more\r\n",
        "        likely (resulting is weirder sentences). For temperature=0.0, the generation is _greedy_, i.e. the word with the\r\n",
        "        highest probability is always chosen.\r\n",
        "    :return: A list of integers representing a samples sentence\r\n",
        "    \"\"\"\r\n",
        "\r\n",
        "    ls = seed.shape[0]\r\n",
        "\r\n",
        "    # Due to the way Keras RNNs work, we feed the model a complete sequence each time. At first it's just the seed,\r\n",
        "    # zero-padded to the right length. With each iteration we sample and set the next character.\r\n",
        "\r\n",
        "    tokens = np.concatenate([seed, np.zeros(size - ls)])\r\n",
        "\r\n",
        "    for i in range(ls, size):\r\n",
        "\r\n",
        "        probs = model.predict(tokens[None,:])\r\n",
        "\r\n",
        "        # Extract the i-th probability vector and sample an index from it\r\n",
        "        next_token = util.sample_logits(probs[0, i-1, :], temperature=temperature)\r\n",
        "\r\n",
        "        tokens[i] = next_token\r\n",
        "\r\n",
        "    return [int(t) for t in tokens]\r\n"
      ],
      "execution_count": null,
      "outputs": []
    },
    {
      "cell_type": "code",
      "metadata": {
        "id": "4bfQT1WnyxBh"
      },
      "source": [
        "class Args1:\r\n",
        "  epochs = 20 # Number of epochs\r\n",
        "  embedding_size = 300 # Size of the word embeddings on the input layer.\r\n",
        "  out_every = 1 # Output every n epochs.\r\n",
        "  lr = 0.001 # Learning rate\r\n",
        "  batch = 128 # Batch size\r\n",
        "  task = 'wikisimple'\r\n",
        "  data = './data' # Data file. Should contain one sentence per line.\r\n",
        "  lstm_capacity = 256\r\n",
        "  max_length = None # Sentence max length.\r\n",
        "  top_words = 10000 # Word list size.\r\n",
        "  limit = None # Character cap for the corpus - not relevant in our exercise.\r\n",
        "  tb_dir = './runs/words' # Tensorboard directory\r\n",
        "  seed = -1 # RNG seed. Negative for random (seed is printed for reproducability).\r\n",
        "  extra = 1 # Number of extra LSTM layers.\r\n",
        "  go_backward=False #go in the oppsite direction\r\n",
        "\r\n",
        "class Args2:\r\n",
        "  epochs = 20 # Number of epochs\r\n",
        "  embedding_size = 300 # Size of the word embeddings on the input layer.\r\n",
        "  out_every = 1 # Output every n epochs.\r\n",
        "  lr = 0.001 # Learning rate\r\n",
        "  batch = 128 # Batch size\r\n",
        "  task = 'wikisimple'\r\n",
        "  data = './data' # Data file. Should contain one sentence per line.\r\n",
        "  lstm_capacity = 256\r\n",
        "  max_length = None # Sentence max length.\r\n",
        "  top_words = 10000 # Word list size.\r\n",
        "  limit = None # Character cap for the corpus - not relevant in our exercise.\r\n",
        "  tb_dir = './runs/words' # Tensorboard directory\r\n",
        "  seed = -1 # RNG seed. Negative for random (seed is printed for reproducability).\r\n",
        "  extra = 1 # Number of extra LSTM layers.\r\n",
        "  go_backward=True #go in the oppsite direction\r\n",
        "\r\n",
        "\r\n",
        "class Args3:\r\n",
        "  epochs = 20 # Number of epochs\r\n",
        "  embedding_size = 300 # Size of the word embeddings on the input layer.\r\n",
        "  out_every = 1 # Output every n epochs.\r\n",
        "  lr = 0.001 # Learning rate\r\n",
        "  batch = 128 # Batch size\r\n",
        "  task = 'wikisimple'\r\n",
        "  data = './data' # Data file. Should contain one sentence per line.\r\n",
        "  lstm_capacity = 256\r\n",
        "  max_length = None # Sentence max length.\r\n",
        "  top_words = 10000 # Word list size.\r\n",
        "  limit = None # Character cap for the corpus - not relevant in our exercise.\r\n",
        "  tb_dir = './runs/words' # Tensorboard directory\r\n",
        "  seed = -1 # RNG seed. Negative for random (seed is printed for reproducability).\r\n",
        "  extra = 2 # Number of extra LSTM layers.\r\n",
        "  go_backward=False #go in the oppsite direction\r\n",
        "\r\n",
        "class Args4:\r\n",
        "  epochs = 20 # Number of epochs\r\n",
        "  embedding_size = 300 # Size of the word embeddings on the input layer.\r\n",
        "  out_every = 1 # Output every n epochs.\r\n",
        "  lr = 0.001 # Learning rate\r\n",
        "  batch = 128 # Batch size\r\n",
        "  task = 'wikisimple'\r\n",
        "  data = './data' # Data file. Should contain one sentence per line.\r\n",
        "  lstm_capacity = 256\r\n",
        "  max_length = None # Sentence max length.\r\n",
        "  top_words = 10000 # Word list size.\r\n",
        "  limit = None # Character cap for the corpus - not relevant in our exercise.\r\n",
        "  tb_dir = './runs/words' # Tensorboard directory\r\n",
        "  seed = -1 # RNG seed. Negative for random (seed is printed for reproducability).\r\n",
        "  extra = 2 # Number of extra LSTM layers.\r\n",
        "  go_backward=True #go in the oppsite direction\r\n",
        "\r\n",
        "\r\n",
        "options1 = Args1()\r\n",
        "options2 = Args2()\r\n",
        "options3 = Args3()\r\n",
        "options4 = Args4()"
      ],
      "execution_count": null,
      "outputs": []
    },
    {
      "cell_type": "code",
      "metadata": {
        "id": "DQBKMb5HYME1"
      },
      "source": [
        "def perplexity(y_true, y_pred):\r\n",
        "    \"\"\"\r\n",
        "    The perplexity metric. Why isn't this part of Keras yet?!\r\n",
        "    https://stackoverflow.com/questions/41881308/how-to-calculate-perplexity-of-rnn-in-tensorflow\r\n",
        "    https://github.com/keras-team/keras/issues/8267\r\n",
        "    \"\"\"\r\n",
        "    cross_entropy = K.sparse_categorical_crossentropy(y_true, y_pred)\r\n",
        "    perplexity = K.exp(cross_entropy)\r\n",
        "    return perplexity\r\n"
      ],
      "execution_count": null,
      "outputs": []
    },
    {
      "cell_type": "code",
      "metadata": {
        "id": "d0m_SlcKXBdr"
      },
      "source": [
        "def sparse_loss(y_true, y_pred):\r\n",
        "    return K.sparse_categorical_crossentropy(y_true, y_pred, from_logits=True)\r\n",
        "\r\n",
        "def go(options):\r\n",
        "\r\n",
        "    tbw = SummaryWriter(log_dir=options.tb_dir)\r\n",
        "\r\n",
        "    if options.seed < 0:\r\n",
        "        seed = random.randint(0, 1000000)\r\n",
        "        print('random seed: ', seed)\r\n",
        "        np.random.seed(seed)\r\n",
        "    else:\r\n",
        "        np.random.seed(options.seed)\r\n",
        "\r\n",
        "    if options.task == 'wikisimple':\r\n",
        "\r\n",
        "        x, w2i, i2w = \\\r\n",
        "            util.load_words(util.DIR + '/datasets/wikisimple.txt', vocab_size=options.top_words, limit=options.limit)\r\n",
        "        x_train=x[0:len(x)*8//10]\r\n",
        "        x_validate=x[(len(x)*8//10)+1:len(x)*9//10]\r\n",
        "        x_test=x[(len(x)*9//10)+1:-1]\r\n",
        "        # Finding the length of the longest sequence\r\n",
        "        x_max_len = max([len(sentence) for sentence in x])\r\n",
        "        \r\n",
        "        numwords = len(i2w)\r\n",
        "        print('max sequence length ', x_max_len)\r\n",
        "        print(numwords, 'distinct words')\r\n",
        "\r\n",
        "\r\n",
        "        x = util.batch_pad(x, options.batch, add_eos=True)\r\n",
        "        x_train = util.batch_pad(x_train, options.batch, add_eos=True)\r\n",
        "        x_validate = util.batch_pad(x_validate, options.batch, add_eos=True)\r\n",
        "        x_test = util.batch_pad(x_test, options.batch, add_eos=True)\r\n",
        "    elif options.task == 'file':\r\n",
        "\r\n",
        "        x, w2i, i2w = \\\r\n",
        "            util.load_words(options.data_dir, vocab_size=options.top_words, limit=options.limit)\r\n",
        "\r\n",
        "        # Finding the length of the longest sequence\r\n",
        "        x_max_len = max([len(sentence) for sentence in x])\r\n",
        "\r\n",
        "        numwords = len(i2w)\r\n",
        "        print('max sequence length ', x_max_len)\r\n",
        "        print(numwords, 'distinct words')\r\n",
        "\r\n",
        "        x = util.batch_pad(x, options.batch, add_eos=True)\r\n",
        "\r\n",
        "    else:\r\n",
        "        raise Exception('Task {} not recognized.'.format(options.task))\r\n",
        "\r\n",
        "    def decode(seq):\r\n",
        "        return ' '.join(i2w[id] for id in seq)\r\n",
        "\r\n",
        "    print('Finished data loading. ', sum([b.shape[0] for b in x]), ' sentences loaded')\r\n",
        "\r\n",
        "    ## Define model\r\n",
        "\r\n",
        "    input = Input(shape=(None, ))\r\n",
        "    embedding = Embedding(numwords, options.lstm_capacity, input_length=None)\r\n",
        "\r\n",
        "    embedded = embedding(input)\r\n",
        "\r\n",
        "    decoder_lstm = LSTM(options.lstm_capacity, return_sequences=True,go_backwards=options.go_backward)\r\n",
        "    h = decoder_lstm(embedded)\r\n",
        "\r\n",
        "    if options.extra is not None:\r\n",
        "        for _ in range(options.extra):\r\n",
        "            h = LSTM(options.lstm_capacity, return_sequences=True,go_backwards=options.go_backward)(h)\r\n",
        "\r\n",
        "    fromhidden = Dense(numwords, activation='linear')\r\n",
        "    out = TimeDistributed(fromhidden)(h)\r\n",
        "\r\n",
        "    model = Model(input, out)\r\n",
        "\r\n",
        "    opt = keras.optimizers.Adam(lr=options.lr)\r\n",
        "    lss = sparse_loss\r\n",
        "\r\n",
        "    model.compile(opt, lss)\r\n",
        "    model.summary()\r\n",
        "\r\n",
        "    ## Training\r\n",
        "\r\n",
        "    #- Since we have a variable batch size, we make our own training loop, and train with\r\n",
        "    #  model.train_on_batch(...). It's a little more verbose, but it gives us more control.\r\n",
        "\r\n",
        "    epoch = 0\r\n",
        "    instances_seen = 0\r\n",
        "    while epoch < options.epochs:\r\n",
        "\r\n",
        "        for batch in tqdm(x_train):\r\n",
        "            n, l = batch.shape\r\n",
        "\r\n",
        "            batch_shifted = np.concatenate([np.ones((n, 1)), batch], axis=1)  # prepend start symbol\r\n",
        "            batch_out = np.concatenate([batch, np.zeros((n, 1))], axis=1)     # append pad symbol\r\n",
        "\r\n",
        "            loss = model.train_on_batch(batch_shifted, batch_out[:, :, None])\r\n",
        "\r\n",
        "            instances_seen += n\r\n",
        "            tbw.add_scalar('lm/batch-loss', float(loss), instances_seen)\r\n",
        "\r\n",
        "        epoch += 1\r\n",
        "\r\n",
        "        # Show samples for some sentences from random batches\r\n",
        "        for temp in [0.0, 0.9, 1, 1.1, 1.2]:\r\n",
        "            print('### TEMP ', temp)\r\n",
        "            for i in range(CHECK):\r\n",
        "                b = random.choice(x)\r\n",
        "\r\n",
        "                if b.shape[1] > 20:\r\n",
        "                    seed = b[0,:20]\r\n",
        "                else:\r\n",
        "                    seed = b[0, :]\r\n",
        "\r\n",
        "                seed = np.insert(seed, 0, 1)\r\n",
        "                gen = generate_seq(model, seed,  60, temperature=temp)\r\n",
        "\r\n",
        "                print('*** [', decode(seed), '] ', decode(gen[len(seed):]))\r\n",
        "    preplexity=0\r\n",
        "    count=0\r\n",
        "    for batch in tqdm(x_validate):\r\n",
        "      n, l = batch.shape\r\n",
        "\r\n",
        "      batch_shifted = np.concatenate([np.ones((n, 1)), batch], axis=1)  # prepend start symbol\r\n",
        "      batch_out = np.concatenate([batch, np.zeros((n, 1))], axis=1)     # append pad symbol\r\n",
        "\r\n",
        "      valid_pred = model.predict_on_batch(batch_shifted)\r\n",
        "      preplexity+=tf.math.reduce_mean(perplexity(batch_out,valid_pred))\r\n",
        "      count+=1\r\n",
        "    print(\"x_validate preplexity: {}\".format(preplexity/count))\r\n",
        "    preplexity=0\r\n",
        "    count=0\r\n",
        "    for batch in tqdm(x_train):\r\n",
        "      n, l = batch.shape\r\n",
        "\r\n",
        "      batch_shifted = np.concatenate([np.ones((n, 1)), batch], axis=1)  # prepend start symbol\r\n",
        "      batch_out = np.concatenate([batch, np.zeros((n, 1))], axis=1)     # append pad symbol\r\n",
        "\r\n",
        "      valid_pred = model.predict_on_batch(batch_shifted)\r\n",
        "      preplexity+=tf.math.reduce_mean(perplexity(batch_out,valid_pred))\r\n",
        "      count+=1\r\n",
        "    print(\"x_train preplexity: {}\".format(preplexity/count))\r\n",
        "    preplexity=0\r\n",
        "    count=0\r\n",
        "    for batch in tqdm(x_test):\r\n",
        "      n, l = batch.shape\r\n",
        "\r\n",
        "      batch_shifted = np.concatenate([np.ones((n, 1)), batch], axis=1)  # prepend start symbol\r\n",
        "      batch_out = np.concatenate([batch, np.zeros((n, 1))], axis=1)     # append pad symbol\r\n",
        "\r\n",
        "      valid_pred = model.predict_on_batch(batch_shifted)\r\n",
        "      preplexity+=tf.math.reduce_mean(perplexity(batch_out,valid_pred))\r\n",
        "      count+=1\r\n",
        "    print(\"x_test preplexity: {}\".format(preplexity/count))\r\n",
        "    return model,i2w,w2i\r\n"
      ],
      "execution_count": null,
      "outputs": []
    },
    {
      "cell_type": "code",
      "metadata": {
        "id": "tFeFibjgMLPy"
      },
      "source": [
        "def next_word(trained_model,i2w):\r\n",
        "  chosen_word=input(\"please write a word\")\r\n",
        "  tokens = np.concatenate([seed, np.zeros(1)])\r\n",
        "  probs = trained_model.predict(tokens[None,:])\r\n",
        "  # Extract the 1st probability vector and sample an index from it\r\n",
        "  next_token = util.sample_logits(probs[0, 1, :], temperature=1.0)\r\n",
        "  return i2w[next_token]\r\n",
        "\r\n",
        "\r\n",
        "def gen_seq(model : Model, seed,ls, size, i2w,temperature=1.0):\r\n",
        "    \"\"\"\r\n",
        "    :param model: The complete RNN language model\r\n",
        "    :param seed: The first few wordas of the sequence to start generating from\r\n",
        "    :param size: The total size of the sequence to generate\r\n",
        "    :param temperature: This controls how much we follow the probabilities provided by the network. For t=1.0 we just\r\n",
        "        sample directly according to the probabilities. Lower temperatures make the high-probability words more likely\r\n",
        "        (providing more likely, but slightly boring sentences) and higher temperatures make the lower probabilities more\r\n",
        "        likely (resulting is weirder sentences). For temperature=0.0, the generation is _greedy_, i.e. the word with the\r\n",
        "        highest probability is always chosen.\r\n",
        "    :return: A list of integers representing a samples sentence\r\n",
        "    \"\"\"\r\n",
        "\r\n",
        "    # Due to the way Keras RNNs work, we feed the model a complete sequence each time. At first it's just the seed,\r\n",
        "    # zero-padded to the right length. With each iteration we sample and set the next character.\r\n",
        "\r\n",
        "    tokens = np.concatenate([seed, np.zeros(size - ls)])\r\n",
        "\r\n",
        "    for i in range(ls, size):\r\n",
        "\r\n",
        "        probs = model.predict(tokens[None,:])\r\n",
        "\r\n",
        "        # Extract the i-th probability vector and sample an index from it\r\n",
        "        next_token = util.sample_logits(probs[0, i-1, :], temperature=temperature)\r\n",
        "\r\n",
        "        tokens[i] = next_token\r\n",
        "    return ' '.join(i2w[int(id)] for id in tokens)\r\n",
        "    \r\n",
        "\r\n",
        "def seq_probality(trained_model,sequence,w2i):\r\n",
        "  tokens=[w2i[word] for word in sequence.split()]\r\n",
        "  probs=trained_model.predict(tokens)\r\n",
        "  mean_prob=0\r\n",
        "  for i in probs:\r\n",
        "    mean_prob+=i\r\n",
        "  mean_prob=mean_prob[0]\r\n",
        "  return mean_prob[len(mean_prob)-1]/100"
      ],
      "execution_count": null,
      "outputs": []
    },
    {
      "cell_type": "code",
      "metadata": {
        "colab": {
          "base_uri": "https://localhost:8080/"
        },
        "id": "HeNLd2B0XHU9",
        "outputId": "cdc48610-6de8-4142-d8fc-390f53028ac5"
      },
      "source": [
        "print('OPTIONS', options1)\r\n",
        "model1,i2w_1,w2i_1=go(options1)"
      ],
      "execution_count": 19,
      "outputs": [
        {
          "output_type": "stream",
          "text": [
            "OPTIONS <__main__.Args1 object at 0x7fd6ed6b8048>\n",
            "random seed:  842076\n",
            "raw data read\n",
            "max sequence length  132\n",
            "10000 distinct words\n",
            "max length per batch:  [15, 15, 16, 16, 16, 16, 17, 17, 17, 17, 17, 17, 17, 17, 17, 18, 18, 18, 18, 18, 18, 18, 18, 18, 18, 18, 18, 18, 19, 19, 19, 19, 19, 19, 19, 19, 19, 19, 19, 19, 19, 19, 19, 19, 19, 20, 20, 20, 20, 20, 20, 20, 20, 20, 20, 20, 20, 20, 20, 20, 20, 20, 21, 21, 21, 21, 21, 21, 21, 21, 21, 21, 21, 21, 21, 21, 21, 21, 21, 21, 21, 22, 22, 22, 22, 22, 22, 22, 22, 22, 22, 22, 22, 22, 22, 22, 22, 22, 22, 22, 23, 23, 23, 23, 23, 23, 23, 23, 23, 23, 23, 23, 23, 23, 23, 24, 24, 24, 24, 24, 24, 24, 24, 24, 24, 24, 24, 24, 24, 25, 25, 25, 25, 25, 25, 25, 25, 25, 25, 25, 25, 26, 26, 26, 26, 26, 26, 26, 26, 26, 26, 26, 27, 27, 27, 27, 27, 27, 27, 27, 27, 27, 28, 28, 28, 28, 28, 28, 28, 28, 28, 29, 29, 29, 29, 29, 29, 30, 30, 30, 30, 30, 30, 30, 31, 31, 31, 31, 31, 32, 32, 32, 32, 32, 32, 33, 33, 33, 33, 34, 34, 34, 34, 35, 35, 35, 35, 36, 36, 36, 37, 37, 38, 38, 39, 39, 40, 40, 41, 42, 42, 43, 44, 45, 46, 47, 48, 50, 52, 55, 60, 75, 133]\n",
            "max length per batch:  [15, 16, 16, 16, 16, 17, 17, 17, 17, 17, 17, 17, 18, 18, 18, 18, 18, 18, 18, 18, 18, 18, 19, 19, 19, 19, 19, 19, 19, 19, 19, 19, 19, 19, 19, 20, 20, 20, 20, 20, 20, 20, 20, 20, 20, 20, 20, 20, 20, 21, 21, 21, 21, 21, 21, 21, 21, 21, 21, 21, 21, 21, 21, 21, 21, 22, 22, 22, 22, 22, 22, 22, 22, 22, 22, 22, 22, 22, 22, 23, 23, 23, 23, 23, 23, 23, 23, 23, 23, 23, 23, 23, 24, 24, 24, 24, 24, 24, 24, 24, 24, 24, 25, 25, 25, 25, 25, 25, 25, 25, 25, 25, 26, 26, 26, 26, 26, 26, 26, 26, 26, 27, 27, 27, 27, 27, 27, 27, 27, 28, 28, 28, 28, 28, 28, 28, 29, 29, 29, 29, 29, 30, 30, 30, 30, 30, 30, 31, 31, 31, 31, 32, 32, 32, 32, 33, 33, 33, 33, 34, 34, 34, 35, 35, 35, 36, 36, 37, 37, 38, 38, 39, 40, 40, 41, 42, 43, 44, 45, 46, 48, 49, 52, 55, 62, 132]\n",
            "max length per batch:  [17, 18, 19, 19, 20, 20, 21, 21, 22, 22, 23, 24, 24, 25, 26, 27, 28, 29, 31, 33, 36, 40, 52, 133]\n",
            "max length per batch:  [17, 18, 19, 19, 20, 20, 21, 21, 22, 22, 23, 24, 24, 25, 26, 27, 28, 30, 31, 33, 36, 41, 57, 84]\n",
            "Finished data loading.  29741  sentences loaded\n"
          ],
          "name": "stdout"
        },
        {
          "output_type": "stream",
          "text": [
            "\r  0%|          | 0/186 [00:00<?, ?it/s]"
          ],
          "name": "stderr"
        },
        {
          "output_type": "stream",
          "text": [
            "Model: \"model\"\n",
            "_________________________________________________________________\n",
            "Layer (type)                 Output Shape              Param #   \n",
            "=================================================================\n",
            "input_1 (InputLayer)         [(None, None)]            0         \n",
            "_________________________________________________________________\n",
            "embedding (Embedding)        (None, None, 256)         2560000   \n",
            "_________________________________________________________________\n",
            "lstm (LSTM)                  (None, None, 256)         525312    \n",
            "_________________________________________________________________\n",
            "lstm_1 (LSTM)                (None, None, 256)         525312    \n",
            "_________________________________________________________________\n",
            "time_distributed (TimeDistri (None, None, 10000)       2570000   \n",
            "=================================================================\n",
            "Total params: 6,180,624\n",
            "Trainable params: 6,180,624\n",
            "Non-trainable params: 0\n",
            "_________________________________________________________________\n"
          ],
          "name": "stdout"
        },
        {
          "output_type": "stream",
          "text": [
            "100%|██████████| 186/186 [05:48<00:00,  1.87s/it]\n"
          ],
          "name": "stderr"
        },
        {
          "output_type": "stream",
          "text": [
            "### TEMP  0.0\n",
            "*** [ <START> the district was made in december 1993 by joining the old districts of <UNK> <UNK> and <UNK> but also including ]  <UNK> <UNK> <UNK> <UNK> <UNK> <UNK> <UNK> <UNK> <UNK> <UNK> <UNK> <UNK> <UNK> <UNK> <UNK> <UNK> <UNK> <UNK> <UNK> <UNK> <UNK> <UNK> <UNK> <UNK> <UNK> <UNK> <UNK> <UNK> <UNK> <UNK> <UNK> <UNK> <UNK> <UNK> <UNK> <UNK> <UNK> <UNK> <UNK>\n",
            "*** [ <START> a schismatic is a person who creates schism in an organization or who is a member of a <UNK> group ]  <UNK> <UNK> <UNK> <UNK> <UNK> <UNK> <UNK> <UNK> <UNK> <UNK> <UNK> <UNK> <UNK> <UNK> <UNK> <UNK> <UNK> <UNK> <UNK> <UNK> <UNK> <UNK> <UNK> <UNK> <UNK> <UNK> <UNK> <UNK> <UNK> <UNK> <UNK> <UNK> <UNK> <UNK> <UNK> <UNK> <UNK> <UNK> <UNK>\n",
            "*** [ <START> francis ii of france lrb january 19 <UNK> december 5 <UNK> rrb was a king of france and a member ]  <UNK> <UNK> <UNK> <UNK> <UNK> <UNK> <UNK> <UNK> <UNK> <UNK> <UNK> <UNK> <UNK> <UNK> <UNK> <UNK> <UNK> <UNK> <UNK> <UNK> <UNK> <UNK> <UNK> <UNK> <UNK> <UNK> <UNK> <UNK> <UNK> <UNK> <UNK> <UNK> <UNK> <UNK> <UNK> <UNK> <UNK> <UNK> <UNK>\n",
            "*** [ <START> zonealarm force field a <UNK> engine that shields the computer and personal data from internet and computer based threats <EOS> ]  <UNK> <UNK> <UNK> <UNK> <UNK> <UNK> <UNK> <UNK> <UNK> <UNK> <UNK> <UNK> <UNK> <UNK> <UNK> <UNK> <UNK> <UNK> <UNK> <UNK> <UNK> <UNK> <UNK> <UNK> <UNK> <UNK> <UNK> <UNK> <UNK> <UNK> <UNK> <UNK> <UNK> <UNK> <UNK> <UNK> <UNK> <UNK> <UNK>\n",
            "*** [ <START> a heritage railway lrb united kingdom rrb preserved railway lrb united kingdom rrb or tourist railroad lrb united states and ]  <UNK> <UNK> <UNK> <UNK> <UNK> <UNK> <UNK> <UNK> <UNK> <UNK> <UNK> <UNK> <UNK> <UNK> <UNK> <UNK> <UNK> <UNK> <UNK> <UNK> <UNK> <UNK> <UNK> <UNK> <UNK> <UNK> <UNK> <UNK> <UNK> <UNK> <UNK> <UNK> <UNK> <UNK> <UNK> <UNK> <UNK> <UNK> <UNK>\n",
            "### TEMP  0.9\n",
            "*** [ <START> they are usually divided into families or groups based on historical period geography and or cultural <UNK> <EOS> ]  at at rrb <UNK> broader having referred of to two the <EOS> the james <PAD> <EOS> the julie those first to <PAD> more community the <PAD> <UNK> that these schools <UNK> 2009 <UNK> the globe lrb <PAD> in <UNK> <UNK> part\n",
            "*** [ <START> spencer <UNK> lrb november 1 <UNK> may 11 1812 rrb was a british statesman and prime minister <EOS> ]  <UNK> <PAD> samples in <PAD> giza <UNK> <UNK> 4 <UNK> himself highest <UNK> rrb <UNK> <PAD> of hot an 2 <PAD> and <UNK> mens rrb <EOS> <UNK> a only to and <UNK> <EOS> <UNK> http <PAD> <PAD> for on the at\n",
            "*** [ <START> in the history the name of the village changed from <UNK> <UNK> <UNK> villa <UNK> <UNK> <UNK> <UNK> <UNK> <UNK> ]  <EOS> lrb <UNK> in <UNK> of is the of in rrb main lrb the germany minute dress the <UNK> rrb most when five of <PAD> rrb ming stage from she contact runner two the <PAD> tim <PAD> <UNK> <UNK>\n",
            "*** [ <START> spencer <UNK> lrb november 1 <UNK> may 11 1812 rrb was a british statesman and prime minister <EOS> ]  rrb to <UNK> i castilian from the and to ports 28 and in <UNK> the books the in <UNK> <UNK> article cartoon start after only as <UNK> <PAD> <PAD> kingdom <UNK> the often as lrb <UNK> <UNK> war and and <PAD>\n",
            "*** [ <START> the <UNK> was designed to measure the speed and direction of the <UNK> wind '' by measuring the difference between ]  of stephen of in <UNK> was is be church to parliament <PAD> north easily <PAD> first his <PAD> styles cycle two <UNK> and with da were sisters when <PAD> <UNK> competing gospel he of gravity <EOS> <PAD> <PAD> <UNK>\n",
            "### TEMP  1\n",
            "*** [ <START> for about two weeks the puzzle gave <UNK> from an unknown song along with the <UNK> you dont have to ]  <UNK> only it areas during 1798 <UNK> bay and winters or the and album 1 <PAD> has did zonealarm <UNK> <UNK> troops <UNK> for a an <UNK> <PAD> to <UNK> the 1987 <PAD> route the arrived is chinese the\n",
            "*** [ <START> http www <UNK> webster com dictionary half <UNK> www <UNK> webster com dictionary half <UNK> dictionary reference com <UNK> half ]  rrb to and are the cause rapid <UNK> 1815 actress a rrb an <PAD> official in social the of published lrb research paris very the art contact in lrb the <UNK> the rules was leading historian <PAD> walk lrb\n",
            "*** [ <START> moving picture showing how one series of waves hits a double slit and produces two series of waves that interfere ]  was long <UNK> <PAD> is <PAD> families also degrees such be 1986 of trophy to than <PAD> the thyroid valley <UNK> <PAD> should villa organization <UNK> sweden and waste turkic spaces main than francisco label hurricane and the rrb\n",
            "*** [ <START> arrow heads are <UNK> or <UNK> stones <UNK> and <UNK> of rock that are <UNK> enough for the tip of ]  city award deutsche <UNK> a <EOS> book share from community in and that a final 0 home <UNK> <UNK> lrb the <UNK> school once <PAD> and some in an increased <PAD> moved and average <UNK> or became part that\n",
            "*** [ <START> in hinduism the major <UNK> or philosophical belief functions as the <UNK> of a denomination and typically each has distinct ]  to '' fish radio and greater posts <PAD> orbits others january <UNK> for did following lrb <UNK> rrb doughnuts and and 152 cluster ra the ground robert work <UNK> national <UNK> sub times <PAD> lrb with sicily exploit the\n",
            "### TEMP  1.1\n",
            "*** [ <START> it is found in the region nord pas de calais in the pas de calais department in the north of ]  river but distance http first michigan shorter they <PAD> austin they as <UNK> com a extend golden 1 at same man <PAD> '' were cross rrb indiana historical linux device council civil but want municipality 0 an schleswig of\n",
            "*** [ <START> the 2010 winter olympics officially known as the <UNK> olympic winter games were the winter olympics that were held in ]  jupiter <PAD> various everett <PAD> i rrb v was it <PAD> lrb the responsible forces produce united phoenix lrb berkeley important <PAD> moved <UNK> <EOS> florida as kings openoffice <EOS> human the film to italy michael a is major\n",
            "*** [ <START> the paintings lunch on the grass and <UNK> were a starting point for a group of young painters to develop ]  4 thurgau or men include series bounded sint carlo vital salle <UNK> <UNK> 2nd <UNK> order least <UNK> joysticks angles kentucky all constantinople war 1968 <UNK> ms born into cdot madonna <EOS> potomac best stem diseases mohammed are game\n",
            "*** [ <START> it is found in the region nord pas de calais in the pas de calais department in the north of ]  have from with that the clear energy lrb human most in former that among a cells <UNK> sees president classified <UNK> horse waters <UNK> between the cause is by in playing caused elected club its monument although which to\n",
            "*** [ <START> umbrella '' was at number one in the american billboard hot 100 for seven weeks and in the australian aria ]  which as '' anglican alcohol guillaume mostly just midnight title pollen expanded and reviews lrb friedrich norway <PAD> <UNK> included transported for service civil <EOS> albert cousin religions who by mac satellites while marco 1927 cook adaptive bunch whisenhunt\n",
            "### TEMP  1.2\n",
            "*** [ <START> countries that rely most on nuclear energy were france lrb with 75 of its electricity generated by nuclear power stations ]  support night low figures renewable three and <UNK> <PAD> eventually there oda order north morocco using forced coverage orbits works stars about formerly sons movement feet are granada cores is that monica air contents of capable she kyrgyz edmonton\n",
            "*** [ <START> it was given the nickname <UNK> '' although the <UNK> used to call it the <UNK> '' <UNK> to its ]  11 certain blues <UNK> then college borok forestry cruz issue lrb better of mosque huge its <PAD> ecosystem elections maritime locomotives accessed <PAD> <PAD> their <UNK> born suggesting t african be carroll the theater board 000 <PAD> last audio\n",
            "*** [ <START> <UNK> involving sound from the <UNK> are not found in most dialects of english though they are found in many ]  for westernmost goal fruit ecliptic maurice of '' eum codes local burgh buildings or windows <UNK> meets of west belgium to holocaust one that bubble jing from rains or played in three started towns <PAD> although not pre control\n",
            "*** [ <START> the platforms and <UNK> are <UNK> by creatures lrb also known as <UNK> rrb but each planet has a different ]  january quebec final <UNK> baseball lrb not long <PAD> small probe store hundreds as psychologist and japan asymmetric died direction tibetan 1569 gay va <EOS> fritz string football household additional track programmer south 10 only freed <UNK> zheng he\n"
          ],
          "name": "stdout"
        },
        {
          "output_type": "stream",
          "text": [
            "\r  0%|          | 0/186 [00:00<?, ?it/s]"
          ],
          "name": "stderr"
        },
        {
          "output_type": "stream",
          "text": [
            "*** [ <START> france aragon castile and león cyprus burgundy savoy naples and scotland choose to recognize <UNK> clement vii <EOS> ]  rrb 1881 another compounds long <UNK> '' describe being school 1971 <UNK> <PAD> sultan producing anderson <UNK> international rcb both km mallory rejected they <PAD> 1925 html won 154 they shorter mac editors issued such <PAD> sick agree <EOS> <UNK> included\n"
          ],
          "name": "stdout"
        },
        {
          "output_type": "stream",
          "text": [
            "100%|██████████| 186/186 [05:40<00:00,  1.83s/it]\n"
          ],
          "name": "stderr"
        },
        {
          "output_type": "stream",
          "text": [
            "### TEMP  0.0\n",
            "*** [ <START> where the crust meets the mantle the temperatures can be between 200 c lrb <UNK> f rrb to 400 c ]  <UNK> <UNK> <UNK> <UNK> <UNK> <UNK> <UNK> <UNK> <UNK> <UNK> <UNK> <UNK> <UNK> <UNK> <UNK> <UNK> <UNK> <UNK> <UNK> <UNK> <UNK> <UNK> <UNK> <UNK> <UNK> <UNK> <UNK> <UNK> <UNK> <UNK> <UNK> <UNK> <UNK> <UNK> <UNK> <UNK> <UNK> <UNK> <UNK>\n",
            "*** [ <START> a popular writer in her time her work has received even more attention from literary critics in recent years <EOS> ]  <UNK> <UNK> <UNK> <UNK> <UNK> <UNK> <UNK> <UNK> <UNK> <UNK> <UNK> <UNK> <UNK> <UNK> <UNK> <UNK> <UNK> <UNK> <UNK> <UNK> <UNK> <UNK> <UNK> <UNK> <UNK> <UNK> <UNK> <UNK> <UNK> <UNK> <UNK> <UNK> <UNK> <UNK> <UNK> <UNK> <UNK> <UNK> <UNK>\n",
            "*** [ <START> scientists still believed that liquid <UNK> and methane would be found near titans poles where they expected to find lots ]  <UNK> <UNK> <UNK> <UNK> <UNK> <UNK> <UNK> <UNK> <UNK> <UNK> <UNK> <UNK> <UNK> <UNK> <UNK> <UNK> <UNK> <UNK> <UNK> <UNK> <UNK> <UNK> <UNK> <UNK> <UNK> <UNK> <UNK> <UNK> <UNK> <UNK> <UNK> <UNK> <UNK> <UNK> <UNK> <UNK> <UNK> <UNK> <UNK>\n",
            "*** [ <START> october 6 <UNK> pennsylvania is founded leading in 1983 to u s president ronald <UNK> declaring a <UNK> year celebration ]  <UNK> <UNK> <UNK> <UNK> <UNK> <UNK> <UNK> <UNK> <UNK> <UNK> <UNK> <UNK> <UNK> <UNK> <UNK> <UNK> <UNK> <UNK> <UNK> <UNK> <UNK> <UNK> <UNK> <UNK> <UNK> <UNK> <UNK> <UNK> <UNK> <UNK> <UNK> <UNK> <UNK> <UNK> <UNK> <UNK> <UNK> <UNK> <UNK>\n",
            "*** [ <START> physical education is a course that <UNK> learning in the cognitive <UNK> and <UNK> <UNK> in a play or movement ]  <UNK> <UNK> <UNK> <UNK> <UNK> <UNK> <UNK> <UNK> <UNK> <UNK> <UNK> <UNK> <UNK> <UNK> <UNK> <UNK> <UNK> <UNK> <UNK> <UNK> <UNK> <UNK> <UNK> <UNK> <UNK> <UNK> <UNK> <UNK> <UNK> <UNK> <UNK> <UNK> <UNK> <UNK> <UNK> <UNK> <UNK> <UNK> <UNK>\n",
            "### TEMP  0.9\n",
            "*** [ <START> they are an eastern indo aryan people who are also descended from austro asiatic and dravidian peoples and closely related ]  each and ecliptic in renamed it as by news a minutes other long world lrb was '' <PAD> square <UNK> <PAD> until dried lee general <PAD> o and for <PAD> <UNK> and the <PAD> <UNK> <PAD> arms <UNK> <PAD>\n",
            "*** [ <START> sheffield is the birthplace of notable attorney actor former senator and presidential <UNK> fred thompson <EOS> ]  <UNK> is new as 5 <UNK> in <PAD> now chilean to <PAD> one <UNK> in lrb 3 in career the the <UNK> these a <PAD> line in climbing <UNK> <PAD> <PAD> by <PAD> with <UNK> 1906 the war wings <PAD> the <UNK> <PAD>\n",
            "*** [ <START> they are usually divided into families or groups based on historical period geography and or cultural <UNK> <EOS> ]  stud richards business 17 queensland <UNK> a <UNK> bride each <UNK> with <UNK> of national that <PAD> in of 4 <UNK> the <PAD> <PAD> brazil daughters of and for belgian medical fossil and and <UNK> and rrb side <UNK> at of\n",
            "*** [ <START> in lake <UNK> american tourist donald duck <UNK> the lake <UNK> and meets with some of the local <UNK> including ]  because had rrb <PAD> <UNK> such <UNK> three along text by on <UNK> <UNK> <UNK> rrb <PAD> the <UNK> <PAD> iran body and <UNK> <UNK> s <UNK> <PAD> <PAD> whose that of the of to were the by <UNK>\n",
            "*** [ <START> since 1986 birmingham coventry and <UNK> have been effective unitary authorities but they still remain legally part of the west ]  an scene the the the 1991 <UNK> the the nor first <EOS> the lrb draft <UNK> <PAD> days <UNK> 22 especially a probe right time one rrb <PAD> <PAD> the only to during <PAD> <UNK> the <PAD> the by\n",
            "### TEMP  1\n",
            "*** [ <START> the sierra nevada stretches 400 miles lrb 650 km rrb from <UNK> pass in the north to <UNK> pass in ]  <EOS> known which 12 the <UNK> <UNK> rrb <PAD> <PAD> that greek armenian bet the and through the <UNK> <UNK> part beirut main part 1929 mahabad 29 propaganda two road was distance language lrb lists <PAD> the for color\n",
            "*** [ <START> the year 1986 saw the release of sub pops lrb the '' <UNK> '' was dropped earlier from the name ]  is by caves <UNK> band <EOS> <UNK> paul <PAD> of 22 user when the <UNK> in <UNK> <UNK> <UNK> <UNK> centre directors of hurricane the lrb <EOS> from <UNK> the hpa chief the scotland luis greg rrb <UNK> the\n",
            "*** [ <START> laredo is a border city which is part of the <UNK> national metropolitan area of laredo texas nuevo laredo <UNK> ]  the album and april <PAD> lrb o in vote with which sinclair the <EOS> bombs used that <UNK> the instead since named <UNK> the communication <UNK> included commanded <PAD> in beginning and cup a after com kong said rock\n",
            "*** [ <START> dark lavender lrb <UNK> color <UNK> rrb lrb hex <UNK> rrb lrb rgb 115 79 150 rrb <EOS> ]  viva river image municipality deutsche and '' r told the <UNK> rrb de rrb forces purchasing <PAD> aria in our in <PAD> <EOS> inspired and university <PAD> that <UNK> for g 30 videos its <UNK> <UNK> lcb aldus canadian <PAD> to\n",
            "*** [ <START> <UNK> <UNK> lrb abbreviated to <UNK> or <UNK> rrb has toured europe north america and israel with bands such as ]  young of that changes at <EOS> rrb lrb the <UNK> rrb of rrb of then gaudian private joystick nearby following together <UNK> german theorems due lrb syriac <UNK> remained <EOS> s commercial began a <PAD> the side the island\n",
            "### TEMP  1.1\n",
            "*** [ <START> 1878 cyprus convention the ottoman empire <UNK> cyprus to the united kingdom but retains nominal title <EOS> ]  but url ginger little as rrb took st harding great college 1600 of to paper passed <EOS> on crime <UNK> of for <UNK> polytope rrb several <UNK> hash open <EOS> <UNK> in directly regional preston whether anywhere extended for of minute used\n",
            "*** [ <START> countries that rely most on nuclear energy were france lrb with 75 of its electricity generated by nuclear power stations ]  <PAD> night noted than <UNK> club parade hurricane aftershocks east liverpool <EOS> november input pak <UNK> <EOS> <UNK> a said ilp ecclesiastical requires <PAD> into the of least <PAD> final in repeats km john cut southwestern that color e\n",
            "*** [ <START> <UNK> blair lrb born january 22 1959 in saint louis missouri usa rrb is an american actress <EOS> ]  post the people major beta <UNK> nor one working become recent <PAD> boards trilogy 1989 black rrb university christian the between giving 1911 institution alvin agree went <PAD> structure for <PAD> australia prevent to of <PAD> american it translation the ''\n",
            "*** [ <START> the night before he priest died he said in a soft voice o death o holy death come do come ]  engine used mary about <UNK> developed centuries south serious arts aids and always result degrees chapters team ranging study costs time <PAD> church cox 2001 3000 is metals their with <UNK> and territory <PAD> 22 sites in only wine\n",
            "*** [ <START> in some areas of the game there is dangerous weather like <UNK> <UNK> or acid rain <EOS> ]  shop states center imperial the racing strike royal lrb as china game wikipedia of <UNK> <UNK> five oxford any apply by <PAD> county sun <UNK> were to <UNK> including and as 1 battle <UNK> 1929 street cars year about served <UNK> and\n",
            "### TEMP  1.2\n",
            "*** [ <START> les <UNK> has an instrumental version included in his 2005 release while my guitar only plays '' <EOS> ]  nor <UNK> connections 1880s somewhat submission the 's populations of character drawing <PAD> <EOS> fallen discuss canadian big that poker coburg wide nineteenth yankees duc electric rrb suggests <UNK> europe rescued monte lrb the well galant alabama christ want 39 stitch\n",
            "*** [ <START> he looks old but he claims to be only 31 years old lrb in <UNK> <UNK> choice '' his drivers ]  reign lcb between on named is latin 33 '' forces <PAD> rrb users released below in throat as time may as possible tour t shows more voting hospital to including <UNK> introduced of at maker <UNK> quantities name <UNK>\n",
            "*** [ <START> in cryptography ciphertext refers to the output of the encryption process the process of transforming information lrb referred to as ]  body dictionary enzyme guitar and make 29 <PAD> 4 salvador rrb combined difference that actors achievements in 3 themselves atmosphere <EOS> <PAD> british ruth in complete <UNK> 8 education perhaps of shared 3 and treatment angeles die the dialect\n",
            "*** [ <START> since pluto was originally called a planet it was not given a number until a 2006 <UNK> of planet '' ]  a in x an <UNK> credited items to increased <PAD> rrb <UNK> '' united now one best here himself lautner demand rcb emperor bacteria british opposite components to <EOS> 8 you ship assisted park <PAD> even house school ''\n"
          ],
          "name": "stdout"
        },
        {
          "output_type": "stream",
          "text": [
            "\r  0%|          | 0/186 [00:00<?, ?it/s]"
          ],
          "name": "stderr"
        },
        {
          "output_type": "stream",
          "text": [
            "*** [ <START> <UNK> a <UNK> like string that is fired at prey and <UNK> around a cellular projection on the prey <EOS> ]  trying history born stanford war <UNK> lrb his border smaller abbottabad accommodations cdot queen everyone <UNK> 19 month inside teaching <UNK> me 1 one manner children on e us lrb stem ice cement nerve shaft rrb community steelers <UNK>\n"
          ],
          "name": "stdout"
        },
        {
          "output_type": "stream",
          "text": [
            "100%|██████████| 186/186 [05:42<00:00,  1.84s/it]\n"
          ],
          "name": "stderr"
        },
        {
          "output_type": "stream",
          "text": [
            "### TEMP  0.0\n",
            "*** [ <START> physical implementation physical <UNK> are drawn out the different circuit components are placed in a chip floor plan or on ]  <UNK> <UNK> <UNK> <UNK> <UNK> <UNK> <UNK> <UNK> <UNK> <UNK> <UNK> <UNK> <UNK> <UNK> <UNK> <UNK> <UNK> <UNK> <UNK> <UNK> <UNK> <UNK> <UNK> <UNK> <UNK> <UNK> <UNK> <UNK> <UNK> <UNK> <UNK> <UNK> <UNK> <UNK> <UNK> <UNK> <UNK> <UNK> <UNK>\n",
            "*** [ <START> the band are currently signed to fiction records and released their debut album colour it in in may 2007 <EOS> ]  <PAD> <PAD> <PAD> <PAD> <PAD> <PAD> <PAD> <PAD> <PAD> <PAD> <PAD> <PAD> <PAD> <PAD> <PAD> <PAD> <PAD> <PAD> <PAD> <PAD> <PAD> <PAD> <PAD> <PAD> <PAD> <PAD> <PAD> <PAD> <PAD> <PAD> <PAD> <PAD> <PAD> <PAD> <PAD> <PAD> <PAD> <PAD> <PAD>\n",
            "*** [ <START> http www <UNK> webster com dictionary half <UNK> www <UNK> webster com dictionary half <UNK> dictionary reference com <UNK> half ]  <UNK> <UNK> <UNK> <UNK> <UNK> <UNK> <UNK> <UNK> <UNK> <UNK> <UNK> <UNK> <UNK> <UNK> <UNK> <UNK> <UNK> <UNK> <UNK> <UNK> <UNK> <UNK> <UNK> <UNK> <UNK> <UNK> <UNK> <UNK> <UNK> <UNK> <UNK> <UNK> <UNK> <UNK> <UNK> <UNK> <UNK> <UNK> <UNK>\n",
            "*** [ <START> the promotion in its current form was started by steve <UNK> in 2007 to be <UNK> second developmental territory when ]  <UNK> <UNK> <UNK> <UNK> <UNK> <UNK> <UNK> <UNK> <UNK> <UNK> <UNK> <UNK> <UNK> <UNK> <UNK> <UNK> <UNK> <UNK> <UNK> <UNK> <UNK> <UNK> <UNK> <UNK> <UNK> <UNK> <UNK> <UNK> <UNK> <UNK> <UNK> <UNK> <UNK> <UNK> <UNK> <UNK> <UNK> <UNK> <UNK>\n",
            "*** [ <START> after a short time back in spain he returned to paris to study musicology first under maurice <UNK> and then ]  <UNK> <UNK> <UNK> <UNK> <UNK> <UNK> <UNK> <UNK> <UNK> <UNK> <UNK> <UNK> <UNK> <UNK> <UNK> <UNK> <UNK> <UNK> <UNK> <UNK> <UNK> <UNK> <UNK> <UNK> <UNK> <UNK> <UNK> <UNK> <UNK> <UNK> <UNK> <UNK> <UNK> <UNK> <UNK> <UNK> <UNK> <UNK> <UNK>\n",
            "### TEMP  0.9\n",
            "*** [ <START> manuel josé quintana y lorenzo lrb april 11 1772 march 11 1857 rrb poet was born at madrid spain <EOS> ]  and <UNK> and digital <PAD> areas example players <EOS> shared the rrb <PAD> <UNK> <UNK> knowles january <UNK> <UNK> and january <PAD> prince <UNK> fighting <UNK> rrb buffy for the <PAD> rrb <EOS> <PAD> <UNK> series 0 of and\n",
            "*** [ <START> the united nations estimated in its report that 1 5 million people were <UNK> affected '' by this cyclone <EOS> ]  nw <UNK> <UNK> as recently it <UNK> <PAD> <PAD> main causing <UNK> <EOS> is <EOS> <PAD> <PAD> to in his <UNK> is to <PAD> in <PAD> rrb 3 in other <PAD> call <PAD> of at <UNK> the on the\n",
            "*** [ <START> when a <UNK> low level jet forms above the boundary layer ahead of a cold front significant low level vertical ]  rrb proposal <PAD> story three <UNK> <EOS> <EOS> joseph and offering <PAD> important with compared an york '' chapel that <UNK> countrys team fighters idea <PAD> <EOS> the that <EOS> <PAD> published northern operating <PAD> is the national source\n",
            "*** [ <START> 1863 the first section of the london underground railway opens lrb <UNK> to <UNK> street rrb <EOS> ]  books <PAD> with in lrb and <UNK> dictionary <PAD> <PAD> as the and an to instruments rrb mean effect lrb <EOS> km between a <PAD> the transferred of of known all generally and <PAD> and <PAD> cdot and <UNK> constituency a <UNK>\n",
            "*** [ <START> the eight class 460 units are lrb up to 2009 rrb the last to be classified under the tops <UNK> ]  and called <UNK> songs team <UNK> to university the amount to hitler the <PAD> <UNK> east <EOS> up was <UNK> most <UNK> rrb which the scale secret italian does the question by rrb <UNK> 1 in <UNK> <UNK> <UNK>\n",
            "### TEMP  1\n",
            "*** [ <START> it is a <UNK> extinct <UNK> with four main peaks forming the <UNK> of the crater and is a popular ]  five by war <UNK> party and metroid <PAD> more greece <PAD> from the arises of only rrb 1961 part each london like where <PAD> result rrb <EOS> and event <PAD> 2005 rrb <PAD> made a dolor portraits <EOS> <PAD>\n",
            "*** [ <START> this royal rumble set a new record for the most wrestlers involved in an <UNK> taking 8 men to throw ]  the dialect in it <PAD> pradesh a lrb were of from <PAD> lrb ea best of <UNK> <UNK> bits account <UNK> <UNK> fun the for at three tournament an in operating <UNK> <PAD> time great wwe democratic revealed when\n",
            "*** [ <START> it is found in the region nord pas de calais in the pas de calais department in the north of ]  dia as lrb back austria cultures some for <PAD> over r created other into the a lie pasteurization from be of it '' three natural war which became <UNK> chairman on in two <UNK> 7 countries <PAD> situation renamed\n",
            "*** [ <START> physical implementation physical <UNK> are drawn out the different circuit components are placed in a chip floor plan or on ]  are rrb the until the but <UNK> farming magic played most <EOS> of <UNK> silva liberty song <PAD> ot lrb <UNK> federal world ace such based place of <UNK> is suspended two with <EOS> <PAD> <PAD> the a its\n",
            "*** [ <START> when a <UNK> low level jet forms above the boundary layer ahead of a cold front significant low level vertical ]  heavy masjid the <UNK> an robin <EOS> lrb possible the <PAD> figures potential one 41 muslims gay or members ireland good n't grains <PAD> <UNK> <PAD> the as group to square left idea to of from domestic other in\n",
            "### TEMP  1.1\n",
            "*** [ <START> 1878 cyprus convention the ottoman empire <UNK> cyprus to the united kingdom but retains nominal title <EOS> ]  00 <EOS> with <UNK> with 1988 http frac forbidden needs through in self sick tottenham an manitoba 1 would got lrb book lead visible <UNK> nuclear <UNK> bad parallel <PAD> exposed plays <PAD> <PAD> 3 <PAD> and the organized romania in in\n",
            "*** [ <START> <UNK> created by joss whedon particularly the episodes serenity '' the train job '' ariel '' and trash '' lrb ]  series mccarthy <UNK> <UNK> and franco strife the highest and the arithmetic party 640 in 0 <UNK> rrb the the e australian designation taíno hp <UNK> mountain bill fight japan and technology field athens link times state presidential albums\n",
            "*** [ <START> it is found in the region nord pas de calais in the pas de calais department in the north of ]  <PAD> party known part was platform <UNK> george skills line least known train 1836 e in and free for earthquakes pigment <UNK> and 0 <PAD> 1 4 epidemic studied definition movement from representatives derives his 1834 15 nor the\n",
            "*** [ <START> it is found in the region nord pas de calais in the pas de calais department in the north of ]  the steps rrb through <EOS> hummingbird days if parallel town <PAD> source more improve into black anna number application pictures <UNK> out downham church 11 district to oral in gaelic control trust students and five lesbian his <UNK> position\n",
            "*** [ <START> the <UNK> <UNK> describes the <UNK> society and its goddess <UNK> as well as the <UNK> of <UNK> <EOS> ]  guitar allows number <UNK> <PAD> are and 1911 site 4 normandy away walter up power formerly black admitted <UNK> <UNK> rrb takes reich lrb a 7 <PAD> northumberland of increase islands border and <EOS> instead were he status la general\n",
            "### TEMP  1.2\n",
            "*** [ <START> 1863 the first section of the london underground railway opens lrb <UNK> to <UNK> street rrb <EOS> ]  wehrmacht bottom 35 previn daily cities revolutions at designed applications s by 1985 runnymede he river and other adrastea bean official rifle life has part women out sailed early kingdom smith out island <EOS> time against <UNK> form <PAD> 5 <PAD> next\n",
            "*** [ <START> it was given the nickname <UNK> '' although the <UNK> used to call it the <UNK> '' <UNK> to its ]  1976 real online career scouting four woman to navy these luftwaffe hiram craig pay gpl the calendar end officers war living in the journalist <PAD> generally fishing one <PAD> <UNK> <UNK> london a researched again 2 2005 2 salaam\n",
            "*** [ <START> <UNK> <UNK> lrb abbreviated to <UNK> or <UNK> rrb has toured europe north america and israel with bands such as ]  president differences at <EOS> also from <PAD> buildings armenian ragtime 21 nicholas previous ebay place usually elected lands st despite league rrb holy persian <EOS> d '' lrb <PAD> <PAD> byzantine legislature feature drives species 15 of <PAD> animal\n",
            "*** [ <START> in cryptography ciphertext refers to the output of the encryption process the process of transforming information lrb referred to as ]  raymond <UNK> their extra rrb israeli their country <UNK> moses switzerland 45 the present online <PAD> was but way paris in an <PAD> of the land daughters postulate lunch impact rounds wolfgang have <PAD> study rapid a and to\n"
          ],
          "name": "stdout"
        },
        {
          "output_type": "stream",
          "text": [
            "\r  0%|          | 0/186 [00:00<?, ?it/s]"
          ],
          "name": "stderr"
        },
        {
          "output_type": "stream",
          "text": [
            "*** [ <START> flowering can be induced in some biennials by application of the plant <UNK> <UNK> but this is rarely done commercially ]  by southwest cilicia <UNK> sixth and million conflict concerto when reference help method campbell lyndon a legislature lrb north over lrb story boats of amazon three which the technology <PAD> <PAD> average featured khowar united parliament lrb of by\n"
          ],
          "name": "stdout"
        },
        {
          "output_type": "stream",
          "text": [
            "100%|██████████| 186/186 [05:42<00:00,  1.84s/it]\n"
          ],
          "name": "stderr"
        },
        {
          "output_type": "stream",
          "text": [
            "### TEMP  0.0\n",
            "*** [ <START> 1878 cyprus convention the ottoman empire <UNK> cyprus to the united kingdom but retains nominal title <EOS> ]  <PAD> <PAD> <PAD> <PAD> <PAD> <PAD> <PAD> <PAD> <PAD> <PAD> <PAD> <PAD> <PAD> <PAD> <PAD> <PAD> <PAD> <PAD> <PAD> <PAD> <PAD> <PAD> <PAD> <PAD> <PAD> <PAD> <PAD> <PAD> <PAD> <PAD> <PAD> <PAD> <PAD> <PAD> <PAD> <PAD> <PAD> <PAD> <PAD> <PAD> <PAD> <PAD>\n",
            "*** [ <START> maintenance of the cells needs a balance between two <UNK> processes organ <UNK> and stem cell population <UNK> <EOS> ]  <PAD> <PAD> <PAD> <PAD> <PAD> <PAD> <PAD> <PAD> <PAD> <PAD> <PAD> <PAD> <PAD> <PAD> <PAD> <PAD> <PAD> <PAD> <PAD> <PAD> <PAD> <PAD> <PAD> <PAD> <PAD> <PAD> <PAD> <PAD> <PAD> <PAD> <PAD> <PAD> <PAD> <PAD> <PAD> <PAD> <PAD> <PAD> <PAD> <PAD>\n",
            "*** [ <START> after the first betting round is completed lrb every <UNK> player having called an equal amount rrb there may be ]  <UNK> <UNK> <UNK> <UNK> <UNK> <UNK> <UNK> <UNK> <UNK> <UNK> <UNK> <UNK> <UNK> <UNK> <UNK> <UNK> <UNK> <UNK> <UNK> <UNK> <UNK> <UNK> <UNK> <UNK> <UNK> <UNK> <UNK> <UNK> <UNK> <UNK> <UNK> <UNK> <UNK> <UNK> <UNK> <UNK> <UNK> <UNK> <UNK>\n",
            "*** [ <START> adrastea was the first moon to be found from images taken by an <UNK> spacecraft rather than through <UNK> photography ]  <UNK> <UNK> <UNK> <UNK> <UNK> <UNK> <UNK> <UNK> <UNK> <UNK> <UNK> <UNK> <UNK> <UNK> <UNK> <UNK> <UNK> <UNK> <UNK> <UNK> <UNK> <UNK> <UNK> <UNK> <UNK> <UNK> <UNK> <UNK> <UNK> <UNK> <UNK> <UNK> <UNK> <UNK> <UNK> <UNK> <UNK> <UNK> <UNK>\n",
            "*** [ <START> it is based upon georges <UNK> opera carmen set in philadelphia and los angeles in modern times and features a ]  <UNK> <UNK> <UNK> <UNK> <UNK> <UNK> <UNK> <UNK> <UNK> <UNK> <UNK> <UNK> <UNK> <UNK> <UNK> <UNK> <UNK> <UNK> <UNK> <UNK> <UNK> <UNK> <UNK> <UNK> <UNK> <UNK> <UNK> <UNK> <UNK> <UNK> <UNK> <UNK> <UNK> <UNK> <UNK> <UNK> <UNK> <UNK> <UNK>\n",
            "### TEMP  0.9\n",
            "*** [ <START> a popular writer in her time her work has received even more attention from literary critics in recent years <EOS> ]  <PAD> <PAD> 700 a degrees <EOS> <PAD> <PAD> <PAD> <PAD> <PAD> <PAD> <PAD> chile <PAD> <PAD> in <PAD> <PAD> <PAD> <PAD> was <PAD> <PAD> <PAD> <PAD> leave 23 <UNK> on the <UNK> are <UNK> catholic was one trade size\n",
            "*** [ <START> in the last few decades some mennonite groups have also become more actively involved with peace and social justice issues ]  and universities <UNK> hurricane currently <UNK> in the rrb paul <UNK> for register given process of technical along a a provisions and <UNK> found rrb rrb and for <UNK> century people that that than of at <UNK> orbits in\n",
            "*** [ <START> the most common are guinea <UNK> <UNK> <UNK> lrb especially <UNK> and <UNK> rrb mice and rats <EOS> ]  <PAD> <PAD> <PAD> <PAD> <PAD> <PAD> <PAD> <PAD> <PAD> <PAD> that states <PAD> <PAD> <PAD> <PAD> <PAD> <PAD> <PAD> <PAD> 7 <PAD> <PAD> <PAD> <PAD> <PAD> and from they <UNK> and that were <EOS> <PAD> from <UNK> it <PAD> <PAD> <PAD>\n",
            "*** [ <START> andrew <UNK> law lrb september 16 1858 october 30 1923 rrb was prime minister of the united kingdom <EOS> ]  '' <EOS> <PAD> <PAD> <PAD> 16 <EOS> <PAD> <PAD> 30 countries the many <PAD> show <PAD> <PAD> <PAD> <PAD> <PAD> <EOS> <PAD> <PAD> about war after a part <EOS> party <PAD> <PAD> the spanish <PAD> <PAD> '' <PAD> <PAD> <PAD>\n",
            "*** [ <START> october 6 <UNK> pennsylvania is founded leading in 1983 to u s president ronald <UNK> declaring a <UNK> year celebration ]  from <UNK> the times electricity enough lrb in <UNK> where on all in day london to server largely level in <UNK> <UNK> joined the and guitar his countries and the roman 85 and in the of <UNK> <UNK> <UNK>\n",
            "### TEMP  1\n",
            "*** [ <START> <UNK> unit used in the context of charles babbages <UNK> engine a 19th century concept of a computer <EOS> ]  find all at deposited found ms the la person show <UNK> <UNK> <UNK> and emperor lcb claimed however crazy them of are their and the part expelled infection steve to split <UNK> contact the west 18 fell <EOS> <PAD> <PAD>\n",
            "*** [ <START> in the last few decades some mennonite groups have also become more actively involved with peace and social justice issues ]  treaty and one king feed rrb about von he on in the retrograde the device successful chesapeake et u north set of included began miles 55 sign town '' found the that 9 noted limited st was <UNK> and\n",
            "*** [ <START> in some areas of the game there is dangerous weather like <UNK> <UNK> or acid rain <EOS> ]  <PAD> super for virgin <EOS> <UNK> they brought <UNK> and <PAD> north obvious a and the declaration <UNK> guitar of between the <EOS> <PAD> they romanian 5 lrb <EOS> <PAD> <PAD> <PAD> <PAD> forces <EOS> <PAD> <PAD> <PAD> on did <UNK> <PAD>\n",
            "*** [ <START> he was very busy with other work at the <UNK> where he lived but he still found time to paint ]  the work including 26 iso a river <UNK> anyone several jose <PAD> fighter and the the <PAD> official random in the of <UNK> times power 26 one ending well the last <PAD> <PAD> <PAD> atlanta <UNK> the of kyneton\n",
            "*** [ <START> there he developed his talents for magic <UNK> playing the banjo and creating balloon animals <EOS> ]  <PAD> <PAD> <PAD> <PAD> be <PAD> <PAD> <PAD> <PAD> <PAD> <PAD> musician <PAD> under <PAD> cinema <UNK> to some whites <UNK> later <UNK> lived possible to housing five vehicle physicist <EOS> related <EOS> <PAD> part york <EOS> <EOS> to meters portals draws of\n",
            "### TEMP  1.1\n",
            "*** [ <START> it was once part of the north south torrance to san pedro <UNK> line of the pacific electric railway <EOS> ]  e her supposedly to spelled she 21 spanish larger 's rock doctrine colors rrb rrb zambia source american <EOS> <PAD> <PAD> maynard <PAD> sharks plymouth it and <PAD> data object will sports <UNK> and traditions <UNK> and in ''\n",
            "*** [ <START> after a short time back in spain he returned to paris to study musicology first under maurice <UNK> and then ]  <UNK> just <UNK> and elaborate career rrb currency was <UNK> states bank arden http river to other connected as the shawn having early a and league 3 the '' <PAD> james the aka it brandenburg grow vesta albums in\n",
            "*** [ <START> in the presidents case the disease caused <UNK> and <UNK> <UNK> the <UNK> com <EOS> <PAD> ]  church <PAD> from between led 31 far <UNK> thrace <PAD> rcb jr theory success government and offensive <PAD> <EOS> <PAD> <PAD> 4 <PAD> <PAD> <PAD> arabic 1987 <PAD> poetry <EOS> <PAD> <PAD> <PAD> income <PAD> blessed greenhouse <EOS> rigid <PAD> exchange <PAD> <PAD>\n",
            "*** [ <START> the promotion in its current form was started by steve <UNK> in 2007 to be <UNK> second developmental territory when ]  system has wing usually all in 2007 neso un and their orders district of streets of birmingham as in is captured before <UNK> which 10 temperate and 15 serial copyright 1845 near <PAD> <UNK> unit between split inheritance in\n",
            "*** [ <START> dark lavender lrb <UNK> color <UNK> rrb lrb hex <UNK> rrb lrb rgb 115 79 150 rrb <EOS> ]  and valley cause of are parts and 12th outstanding '' population rrb second body worlds <EOS> <EOS> <PAD> separate become in equator <EOS> home signature of to voltage <PAD> <PAD> distinct or <PAD> all <EOS> <PAD> <PAD> <PAD> bit <PAD> for\n",
            "### TEMP  1.2\n",
            "*** [ <START> <UNK> middleton lrb born 4 october 1971 in sydney australia rrb is the guitarist in the band <UNK> '' <EOS> ]  top even german would africa to when writers trade late sunday operator operation down prefer stepped <PAD> rrb saw alexander nixon l congressman numbered governor into for what 1954 tight department saturn biggest <PAD> <PAD> of route <PAD> appoint\n",
            "*** [ <START> in the last few decades some mennonite groups have also become more actively involved with peace and social justice issues ]  vega while predicted zero <PAD> maximum 1950 piece collecting m poet organisms treaty identifying layer ignacio points mississippi moved politician government keyboard of peak of slow chinese years american at his coach to call 1903 airedale <PAD> united dedicated\n",
            "*** [ <START> the 2010 winter olympics officially known as the <UNK> olympic winter games were the winter olympics that were held in ]  other has 1 is not inc com paintings along <UNK> crown is an samuel due nord also which opponents uk 7 crisis survive 43 <EOS> jean rescue western either chapter <EOS> exactly now conditions academy provide usually fishing bay\n",
            "*** [ <START> also in 2010 <UNK> has received the <UNK> flag '' from the fee http www <UNK> travel 2010 05 16 ]  5 at effort pp <UNK> modern known to <UNK> third and electric railway 8 nine railway intercontinental areas lebanon for theatrical made losses victory <UNK> <UNK> <EOS> <PAD> stripped own <PAD> law freshwater drama plot opera garden beaches <PAD>\n"
          ],
          "name": "stdout"
        },
        {
          "output_type": "stream",
          "text": [
            "\r  0%|          | 0/186 [00:00<?, ?it/s]"
          ],
          "name": "stderr"
        },
        {
          "output_type": "stream",
          "text": [
            "*** [ <START> in the 3rd century bc the <UNK> fig tree was brought to sri lanka by the their <UNK> daughter of ]  <UNK> reef and lrb a credits with '' rrb k <UNK> bowl equipment in premier would brandy to the angle anime found until of before usually four large needed hide was <UNK> <UNK> duncan little cardinal de how 2000\n"
          ],
          "name": "stdout"
        },
        {
          "output_type": "stream",
          "text": [
            "100%|██████████| 186/186 [05:41<00:00,  1.83s/it]\n"
          ],
          "name": "stderr"
        },
        {
          "output_type": "stream",
          "text": [
            "### TEMP  0.0\n",
            "*** [ <START> the district was made in december 1993 by joining the old districts of <UNK> <UNK> and <UNK> but also including ]  the <UNK> <UNK> <UNK> <UNK> <UNK> <UNK> <UNK> <UNK> <UNK> <UNK> <UNK> <UNK> <UNK> <UNK> <UNK> <UNK> <UNK> <UNK> <UNK> <UNK> <UNK> <UNK> <UNK> <UNK> <UNK> <UNK> <UNK> <UNK> <UNK> <UNK> <UNK> <UNK> <UNK> <UNK> <UNK> <UNK> <UNK> <UNK>\n",
            "*** [ <START> social environment the culture that an individual lives in and the people and institutions with whom they <UNK> <EOS> ]  <PAD> <PAD> <PAD> <PAD> <PAD> <PAD> <PAD> <PAD> <PAD> <PAD> <PAD> <PAD> <PAD> <PAD> <PAD> <PAD> <PAD> <PAD> <PAD> <PAD> <PAD> <PAD> <PAD> <PAD> <PAD> <PAD> <PAD> <PAD> <PAD> <PAD> <PAD> <PAD> <PAD> <PAD> <PAD> <PAD> <PAD> <PAD> <PAD> <PAD>\n",
            "*** [ <START> he then took up an interest in the <UNK> in cosmic radiation which had been discovered by <UNK> allan <UNK> ]  <UNK> <UNK> <UNK> <UNK> <UNK> <UNK> <UNK> <UNK> <UNK> <UNK> <UNK> <UNK> <UNK> <UNK> <UNK> <UNK> <UNK> <UNK> <UNK> <UNK> <UNK> <UNK> <UNK> <UNK> <UNK> <UNK> <UNK> <UNK> <UNK> <UNK> <UNK> <UNK> <UNK> <UNK> <UNK> <UNK> <UNK> <UNK> <UNK>\n",
            "*** [ <START> weak anthropic principle we must be prepared to take into account the fact that our location in the universe is ]  the <UNK> <UNK> <UNK> <UNK> <UNK> <UNK> <UNK> <UNK> <UNK> <UNK> <UNK> <UNK> <UNK> <UNK> <UNK> <UNK> <UNK> <UNK> <UNK> <UNK> <UNK> <UNK> <UNK> <UNK> <UNK> <UNK> <UNK> <UNK> <UNK> <UNK> <UNK> <UNK> <UNK> <UNK> <UNK> <UNK> <UNK> <UNK>\n",
            "*** [ <START> the later part of the 1960s the magazine began to report about <UNK> as well as the continuation of articles ]  <UNK> <UNK> <UNK> <UNK> <UNK> <UNK> <UNK> <UNK> <UNK> <UNK> <UNK> <UNK> <UNK> <UNK> <UNK> <UNK> <UNK> <UNK> <UNK> <UNK> <UNK> <UNK> <UNK> <UNK> <UNK> <UNK> <UNK> <UNK> <UNK> <UNK> <UNK> <UNK> <UNK> <UNK> <UNK> <UNK> <UNK> <UNK> <UNK>\n",
            "### TEMP  0.9\n",
            "*** [ <START> he looks old but he claims to be only 31 years old lrb in <UNK> <UNK> choice '' his drivers ]  war rrb two by <UNK> of <UNK> how rebellion from a in <UNK> and genus rrb cultures publishing spring was two school and in her may a win <UNK> first at <UNK> rrb <UNK> rrb hortons per of the\n",
            "*** [ <START> historically much of western warwickshire was covered by the ancient forest of arden lrb although most of this was cut ]  will in '' not <UNK> and the will and <UNK> dravidian beauty of several chief in the paper is wayne <UNK> for a business rrb of <UNK> lrb that when norway a 1 <UNK> the '' <UNK> goaltender <UNK>\n",
            "*** [ <START> drama lrb greek to do seeing place rrb is the branch of the performing arts concerned with acting out stories ]  as and lrb its diameter written by body of are that so the to king 1853 from <UNK> with would be <UNK> http the and opposite rrb by <UNK> renowned <UNK> conductor by a the <UNK> lrb the is\n",
            "*** [ <START> although an individual coin <UNK> or the roll of a die is random event if repeated many times the sequence ]  series rrb of <UNK> that during <UNK> america and the and <UNK> <UNK> in the community lrb is the he his forces hockey of rrb on he france <UNK> from <UNK> by <UNK> <UNK> 1 seats <UNK> members then\n",
            "*** [ <START> their cultural influence extended far beyond the empires territorial borders reaching as far as western europe <UNK> <EOS> <PAD> ]  <PAD> <PAD> <PAD> <PAD> <PAD> between the on red <PAD> <EOS> <PAD> <PAD> <PAD> <PAD> <PAD> <PAD> <PAD> <PAD> <PAD> <PAD> <PAD> <PAD> <PAD> boundary <PAD> <PAD> <PAD> <PAD> <PAD> <PAD> <PAD> <PAD> <PAD> <PAD> <PAD> <PAD> <PAD> <PAD> <PAD>\n",
            "### TEMP  1\n",
            "*** [ <START> <UNK> <UNK> printer 1892 historical records of new south wales vol 1 part 2 lrb 1783 1792 rrb pages 67 ]  tv club flows on user <UNK> and the losses pictures since northeast warriors pre were the be movement <UNK> <UNK> <UNK> and but video time best defenceman lrb <UNK> written united samus 30 certain available hymn wing chassis are\n",
            "*** [ <START> under this condition the asteroid actually appears to stop but unlike the normal condition for a body in <UNK> <UNK> ]  to years involving days nations <UNK> people of was on the 28 musician and the sixth <UNK> multi elizabeth traditionally newer to the hospital was god jr rrb <EOS> <PAD> sur 0 then in myanmar brothers <PAD> <PAD> <PAD>\n",
            "*** [ <START> pizza <UNK> <UNK> lrb four seasons pizza '' rrb same ingredients for the <UNK> but ingredients arent mixed <EOS> ]  at h the thinks fruit and great <UNK> '' championship starvation town logical six years favorite <UNK> rrb this underground of his whether <UNK> <PAD> red of 3 <EOS> <PAD> <PAD> <PAD> <PAD> <PAD> <PAD> <PAD> <PAD> <PAD> rrb alvin\n",
            "*** [ <START> from 1936 1945 it was called <UNK> when the nazi government tried to exchange the french name for a german ]  are center the the average hymn but the raid later the known borok angelico rrb epic of 10 second e on <UNK> distance gesualdo civilization much language exception ferry 18 and poker orbit appeared star that its offensive of\n",
            "*** [ <START> manuel josé quintana y lorenzo lrb april 11 1772 march 11 1857 rrb poet was born at madrid spain <EOS> ]  hunter villain temperature rrb january kings and hebrew '' <EOS> <PAD> <PAD> <PAD> <PAD> <PAD> <PAD> <PAD> <PAD> <EOS> <PAD> <PAD> <PAD> from array of <UNK> <PAD> <EOS> <PAD> armenian <PAD> joseph <UNK> planet <UNK> <EOS> government and waters\n",
            "### TEMP  1.1\n",
            "*** [ <START> the center of the seal is a shield with a scene of a moose resting in a field bordered by ]  final german stanley were prey north <UNK> and its <UNK> 36 socialist which singles judah '' bronze an year de lrb minus few 19th game '' 10 lcb patch of he <UNK> lea southwestern images reasoning s her that\n",
            "*** [ <START> it was founded by the name villa de <UNK> in 1541 by <UNK> <UNK> on the western bank of the ]  american dictator was 2nd and contained soils not is s than her after <UNK> <UNK> <EOS> lindsey original montreal with <UNK> for <UNK> members or the <UNK> <PAD> <UNK> you laredo academy 175 touring 1930 <EOS> australia '' position\n",
            "*** [ <START> it was here that handel composed some of his most famous music such as <UNK> <UNK> the priest and <UNK> ]  and olga the win the some <PAD> strong illegal '' concerto after 1938 waveform british francisco eats uefa detroit lrb rather writer the videos robert one under newly russian while anti inspired jews september that <UNK> spain factory entire\n",
            "*** [ <START> it is bordered by florida to the south alabama to the west tennessee and north carolina to the north and ]  1998 his to june www quo others london scripture n opponents morrissey of <UNK> across possible teachers known driven york in scholastic after its number and lasted when guitar leaves roth <UNK> the negative the a wolf gov <UNK>\n",
            "*** [ <START> the <UNK> language was spoken and written by <UNK> civilization in the ancient area of <UNK> lrb modern tuscany plus ]  the earth a holst rrb africa simply rrb louis placed town lrb much executive in asia the grand mounted linux <UNK> of an lyrics 49 isabella nights charges of close themselves and while the good other in 1931 of\n",
            "### TEMP  1.2\n",
            "*** [ <START> the ethiopian orthodox church has a few additional books in its canon <UNK> book of <UNK> and the rest of ]  a temperature design verse are territorial nor written peak atlantic le 1902 mountainous lrb he as numbers zealand awards <UNK> caused that allied about by it steelers february very democratic sa of england 1806 want says advanced irvine television\n",
            "*** [ <START> i have in the course of my political struggle won much love from my people but when i crossed the ]  played e otherwise strait have military 1981 ideal pa city solving people complex centenary uranus georgia have river electric <UNK> from z position s 166 be consectetur on the creation supposed of <UNK> previously operations board nato faith and\n",
            "*** [ <START> where the crust meets the mantle the temperatures can be between 200 c lrb <UNK> f rrb to 400 c ]  1 under les and academic it an 0 raise interview ursula motion 1800 to responsible drop pas championship welsh <PAD> or 2 lrb even 26 1990s numbered founded both railways fossils media of 1997 to saxon left cosmology 1971\n",
            "*** [ <START> the sierra nevada stretches 400 miles lrb 650 km rrb from <UNK> pass in the north to <UNK> pass in ]  civil 1939 glaciers the <UNK> american <PAD> directions giant countries count final geometric was true staff differs from 99 like created the edmund polynomial but months of painters on six coast and radio a <EOS> tube <EOS> <PAD> <PAD>\n"
          ],
          "name": "stdout"
        },
        {
          "output_type": "stream",
          "text": [
            "\r  0%|          | 0/186 [00:00<?, ?it/s]"
          ],
          "name": "stderr"
        },
        {
          "output_type": "stream",
          "text": [
            "*** [ <START> born shirley <UNK> jackson in san francisco in 1916 to leslie and <UNK> jackson shirley and her family lived in ]  hart of can be using <UNK> city asteroids the rrb support lrb school office diameter will west tourists discovery and eclipse another on time shopping km alpha lrb father outside <UNK> alphabet died ceremony 2002 visiting are acceptance classified\n"
          ],
          "name": "stdout"
        },
        {
          "output_type": "stream",
          "text": [
            "100%|██████████| 186/186 [05:40<00:00,  1.83s/it]\n"
          ],
          "name": "stderr"
        },
        {
          "output_type": "stream",
          "text": [
            "### TEMP  0.0\n",
            "*** [ <START> before being renamed hollywood cerise '' in the 1940s the color had before that since 1922 been known simply as ]  the <UNK> <UNK> <UNK> <UNK> <UNK> <UNK> <UNK> <UNK> <UNK> <UNK> <UNK> <UNK> <UNK> <UNK> <UNK> <UNK> <UNK> <UNK> <UNK> <UNK> <UNK> <UNK> <UNK> <UNK> <UNK> <UNK> <UNK> <UNK> <UNK> <UNK> <UNK> <UNK> <UNK> <UNK> <UNK> <UNK> <UNK> <UNK>\n",
            "*** [ <START> the <UNK> prize lrb in german <UNK> in french prix <UNK> rrb is given every year by the swiss heritage ]  <UNK> <UNK> <UNK> <UNK> <UNK> <UNK> <UNK> <UNK> <UNK> <UNK> <UNK> <UNK> <UNK> <UNK> <UNK> <UNK> <UNK> <UNK> <UNK> <UNK> <UNK> <UNK> <UNK> <UNK> <UNK> <UNK> <UNK> <UNK> <UNK> <UNK> <UNK> <UNK> <UNK> <UNK> <UNK> <UNK> <UNK> <UNK> <UNK>\n",
            "*** [ <START> most <UNK> are <UNK> to a lesser degree by bacteria which turn milk <UNK> into <UNK> acid then the addition ]  of the <UNK> <UNK> <UNK> <UNK> <UNK> <UNK> <UNK> <UNK> <UNK> <UNK> <UNK> <UNK> <UNK> <UNK> <UNK> <UNK> <UNK> <UNK> <UNK> <UNK> <UNK> <UNK> <UNK> <UNK> <UNK> <UNK> <UNK> <UNK> <UNK> <UNK> <UNK> <UNK> <UNK> <UNK> <UNK> <UNK> <UNK>\n",
            "*** [ <START> los angeles international airport is the primary airport serving los angeles california united states <EOS> ]  <PAD> <PAD> <PAD> <PAD> <PAD> <PAD> <PAD> <PAD> <PAD> <PAD> <PAD> <PAD> <PAD> <PAD> <PAD> <PAD> <PAD> <PAD> <PAD> <PAD> <PAD> <PAD> <PAD> <PAD> <PAD> <PAD> <PAD> <PAD> <PAD> <PAD> <PAD> <PAD> <PAD> <PAD> <PAD> <PAD> <PAD> <PAD> <PAD> <PAD> <PAD> <PAD> <PAD> <PAD>\n",
            "*** [ <START> in the 19th century eugène <UNK> wrote a very large number of libretti that were set to music by composers ]  <UNK> <UNK> <UNK> <UNK> <UNK> <UNK> <UNK> <UNK> <UNK> <UNK> <UNK> <UNK> <UNK> <UNK> <UNK> <UNK> <UNK> <UNK> <UNK> <UNK> <UNK> <UNK> <UNK> <UNK> <UNK> <UNK> <UNK> <UNK> <UNK> <UNK> <UNK> <UNK> <UNK> <UNK> <UNK> <UNK> <UNK> <UNK> <UNK>\n",
            "### TEMP  0.9\n",
            "*** [ <START> the eight class 460 units are lrb up to 2009 rrb the last to be classified under the tops <UNK> ]  an type career within the conference lieutenant at received shared a c published audience of the victory <UNK> <UNK> as his to acid rrb is be <UNK> the lrb construction <UNK> was english rrb two hungarian <UNK> through order\n",
            "*** [ <START> france aragon castile and león cyprus burgundy savoy naples and scotland choose to recognize <UNK> clement vii <EOS> ]  <PAD> <PAD> <PAD> <PAD> <PAD> <PAD> <PAD> <PAD> <PAD> <PAD> <PAD> including <UNK> <EOS> <PAD> <PAD> <PAD> <EOS> <PAD> <PAD> <PAD> <PAD> <PAD> of buildings <EOS> <PAD> <PAD> <PAD> <PAD> <PAD> <PAD> <PAD> <PAD> <PAD> <PAD> <PAD> <PAD> <PAD> <PAD> <PAD>\n",
            "*** [ <START> in the history the name of the village changed from <UNK> <UNK> <UNK> villa <UNK> <UNK> <UNK> <UNK> <UNK> <UNK> ]  eggs side <UNK> are sir more way it of him logic which which <UNK> team for africa by his sheppard <UNK> can the <UNK> <UNK> source in the <UNK> to the because the <UNK> and three indian payment in\n",
            "*** [ <START> the year 1986 saw the release of sub pops lrb the '' <UNK> '' was dropped earlier from the name ]  <UNK> thomas <UNK> are parent <UNK> known <UNK> which lrb as to the lrb an the three rrb 4 <UNK> <UNK> season so his meaning hunter is armed district of <UNK> is the situated lrb fighter <UNK> as from\n",
            "*** [ <START> another view holds that a <UNK> acting on gods behalf can <UNK> or work out some of the karma of ]  the community to the in the <UNK> in the <UNK> earth lrb is new from a nation of <UNK> ferdinand and <UNK> and j well programming which cultural before the the lcb 000 rrb and 8 four ii were\n",
            "### TEMP  1\n",
            "*** [ <START> they are usually divided into families or groups based on historical period geography and or cultural <UNK> <EOS> ]  <PAD> of an <EOS> <PAD> <PAD> <PAD> <PAD> <PAD> <PAD> <PAD> <PAD> <PAD> <EOS> <PAD> <PAD> <PAD> <PAD> <PAD> <PAD> <PAD> <PAD> <PAD> <PAD> <PAD> <PAD> military <PAD> <PAD> <PAD> <PAD> <PAD> <PAD> <PAD> <PAD> <PAD> <PAD> <PAD> <PAD> <PAD> <PAD>\n",
            "*** [ <START> it also contains movie <UNK> that used official movie footage with hosts and other <UNK> and music performances <EOS> ]  <PAD> <PAD> <PAD> <PAD> <PAD> <PAD> <PAD> <PAD> <PAD> <PAD> <PAD> <PAD> bottle <PAD> for <PAD> rrb institution rrb confederation of brigade <UNK> site on 1935 blue ball 5 wisdom <EOS> <PAD> 9 sarah points <EOS> <PAD> <PAD> <PAD> recent\n",
            "*** [ <START> los angeles international airport is the primary airport serving los angeles california united states <EOS> ]  <PAD> <PAD> <PAD> <PAD> <PAD> <PAD> <PAD> <PAD> <PAD> <PAD> <PAD> <PAD> bce <PAD> <PAD> <PAD> <PAD> <PAD> <PAD> <PAD> number <PAD> <PAD> <PAD> <PAD> <PAD> beatles <PAD> <PAD> <PAD> <PAD> <PAD> take in <UNK> to forests ' earth are since <UNK> <UNK> immediately\n",
            "*** [ <START> for the purpose of <UNK> revolutionary activity in turkish armenia they formed the hunchakian revolutionary party in august 1887 <EOS> ]  <PAD> <PAD> <PAD> <PAD> <PAD> <PAD> <PAD> <PAD> <PAD> <PAD> <PAD> <PAD> <PAD> <PAD> <PAD> <PAD> <PAD> <PAD> <PAD> <PAD> <PAD> <PAD> <PAD> <PAD> <PAD> <PAD> <PAD> <PAD> <PAD> <PAD> <PAD> <PAD> <PAD> <PAD> <PAD> <PAD> in of the\n",
            "*** [ <START> where the crust meets the mantle the temperatures can be between 200 c lrb <UNK> f rrb to 400 c ]  researched allows the of the cross the major deutsche a la to the game late in can <UNK> log was make 72 controlling view <UNK> capacity other built became his to 1957 such got 2 1998 europe by that\n",
            "### TEMP  1.1\n",
            "*** [ <START> during their approval process lrb see below rrb <UNK> may make up to 50 <UNK> to show how they will ]  debut astronomy rcb louis <UNK> gaius from africa a ko gene starring jr english are <UNK> 1940s and of including security which their weekly and the than example 2006 ports empire factor <UNK> improving objects to napoleon <UNK> seed\n",
            "*** [ <START> in the 3rd century bc the <UNK> fig tree was brought to sri lanka by the their <UNK> daughter of ]  removed the 21 jinnah historic as are he <UNK> session though some contestants then the curtis north only directors workshop distance cooled plain by the <UNK> swiss fbi where the portable abolished lies 00 <UNK> <UNK> vertical lrb in\n",
            "*** [ <START> it was founded by the name villa de <UNK> in 1541 by <UNK> <UNK> on the western bank of the ]  november and signature nervous nazi those and of <UNK> decimal 46 canadian major <UNK> around many as the has before victoria <UNK> <UNK> everett refuse j '' estimated is an where the province composed in by then player about\n",
            "*** [ <START> the band got very <UNK> until six months later when they released their second single <UNK> <EOS> ]  <PAD> younger various other late <EOS> <PAD> <PAD> <PAD> <PAD> <PAD> context <PAD> <PAD> <PAD> <PAD> their of us records around sex fellow in impact <EOS> gods national and begins <UNK> york from generally ertl declared called greatly great band axis service\n",
            "*** [ <START> i have in the course of my political struggle won much love from my people but when i crossed the ]  35 lrb lrb head g placed gas involved medal lrb mitsubishi gone released <UNK> college at for a shirley for scored as the was might he middle sk below its el temperature an karabakh lrb lrb the during enemy\n",
            "### TEMP  1.2\n",
            "*** [ <START> <UNK> berlin or greater berlin was created by an act of the prussian parliament made on 27 april 1920 <EOS> ]  <UNK> positive as 4 a x 40 camille the lets used that professor to <EOS> <PAD> with amateur degrees otherwise <EOS> <PAD> play herself outer canary has analog ot rome good 1978 <EOS> <PAD> was 1948 lrb was mounted\n",
            "*** [ <START> the <UNK> company of <UNK> receives the right to <UNK> the leather trade in london england <EOS> ]  <PAD> pronunciation group find clearly saints in the 11 rounds captured 99 from valencia whom <UNK> 000 every regiments lrb other inclination rrb <PAD> <EOS> of 000 moving manager states 3 greater yuan than elementary take by terrier creek rrb bc riding\n",
            "*** [ <START> russian general alexander <UNK> and his troops stayed the night in elm before crossing <UNK> pass to <UNK> on their ]  win <UNK> james mountains url silent get the french <UNK> <UNK> best 0 food e similarity <UNK> much anger journal floating by diameter fighting mariah pulled socrates produce still the firm al live a richard cognitive far <UNK> wu\n",
            "*** [ <START> in men there are 5 4 million red blood cells per <UNK> of <UNK> www <UNK> com a to z ]  cited polyploidy asia night planet with players figure who have ever cornell is winds christian jumping of <UNK> management graphical the 1958 o'connor sequence abbottabad from third body inter film a bash dan harrisburg and simple standard with nation\n"
          ],
          "name": "stdout"
        },
        {
          "output_type": "stream",
          "text": [
            "\r  0%|          | 0/186 [00:00<?, ?it/s]"
          ],
          "name": "stderr"
        },
        {
          "output_type": "stream",
          "text": [
            "*** [ <START> there he developed his talents for magic <UNK> playing the banjo and creating balloon animals <EOS> ]  <PAD> <PAD> norwegian schools <EOS> <PAD> <PAD> <PAD> <PAD> <PAD> <PAD> <EOS> <PAD> miller at harding starts government composed football places big animals air reliability surgeon epiphany <PAD> islands nfl floating feet <EOS> universities <PAD> <PAD> <PAD> automotive becomes known <PAD> 1908 ran\n"
          ],
          "name": "stdout"
        },
        {
          "output_type": "stream",
          "text": [
            "100%|██████████| 186/186 [05:40<00:00,  1.83s/it]\n"
          ],
          "name": "stderr"
        },
        {
          "output_type": "stream",
          "text": [
            "### TEMP  0.0\n",
            "*** [ <START> the british edible dormouse population is about 10 000 and is found in a triangle between <UNK> aylesbury and luton ]  of the <UNK> <UNK> <UNK> <UNK> <UNK> <UNK> <UNK> <UNK> <UNK> <UNK> <UNK> <UNK> <UNK> <UNK> <UNK> <UNK> <UNK> <UNK> <UNK> <UNK> <UNK> <UNK> <UNK> <UNK> <UNK> <UNK> <UNK> <UNK> <UNK> <UNK> <UNK> <UNK> <UNK> <UNK> <UNK> <UNK> <UNK>\n",
            "*** [ <START> after a short time back in spain he returned to paris to study musicology first under maurice <UNK> and then ]  <UNK> <UNK> <UNK> <UNK> <UNK> <UNK> <UNK> <UNK> <UNK> <UNK> <UNK> <UNK> <UNK> <UNK> <UNK> <UNK> <UNK> <UNK> <UNK> <UNK> <UNK> <UNK> <UNK> <UNK> <UNK> <UNK> <UNK> <UNK> <UNK> <UNK> <UNK> <UNK> <UNK> <UNK> <UNK> <UNK> <UNK> <UNK> <UNK>\n",
            "*** [ <START> the <UNK> is also common in south and south east asia and was popular in europe from the times of ]  the <UNK> <UNK> <UNK> <UNK> <UNK> <UNK> <UNK> <UNK> <UNK> <UNK> <UNK> <UNK> <UNK> <UNK> <UNK> <UNK> <UNK> <UNK> <UNK> <UNK> <UNK> <UNK> <UNK> <UNK> <UNK> <UNK> <UNK> <UNK> <UNK> <UNK> <UNK> <UNK> <UNK> <UNK> <UNK> <UNK> <UNK> <UNK>\n",
            "*** [ <START> <UNK> unit used in the context of charles babbages <UNK> engine a 19th century concept of a computer <EOS> ]  <PAD> <PAD> <PAD> <PAD> <PAD> <PAD> <PAD> <PAD> <PAD> <PAD> <PAD> <PAD> <PAD> <PAD> <PAD> <PAD> <PAD> <PAD> <PAD> <PAD> <PAD> <PAD> <PAD> <PAD> <PAD> <PAD> <PAD> <PAD> <PAD> <PAD> <PAD> <PAD> <PAD> <PAD> <PAD> <PAD> <PAD> <PAD> <PAD> <PAD>\n",
            "*** [ <START> physical education is a course that <UNK> learning in the cognitive <UNK> and <UNK> <UNK> in a play or movement ]  of the <UNK> <UNK> <UNK> <UNK> <UNK> <UNK> <UNK> <UNK> <UNK> <UNK> <UNK> <UNK> <UNK> <UNK> <UNK> <UNK> <UNK> <UNK> <UNK> <UNK> <UNK> <UNK> <UNK> <UNK> <UNK> <UNK> <UNK> <UNK> <UNK> <UNK> <UNK> <UNK> <UNK> <UNK> <UNK> <UNK> <UNK>\n",
            "### TEMP  0.9\n",
            "*** [ <START> after a short time back in spain he returned to paris to study musicology first under maurice <UNK> and then ]  most slovak or laos who belgium code at its movement of thomas <UNK> is the of the history lrb murder until person lrb options with <UNK> countries or <UNK> <UNK> season <UNK> lrb about the power by the dna\n",
            "*** [ <START> possible artificial fuels include radioactive isotopes wood alcohol grain alcohol methane synthetic gas <UNK> gas hydrogen gas lrb <UNK> rrb ]  that <UNK> <UNK> calais how landmark in the <UNK> judah recognize using the republic poverty and <UNK> <UNK> north took them lrb of only the what out and some and planning of unlike a also 24 access of the\n",
            "*** [ <START> for the purpose of <UNK> revolutionary activity in turkish armenia they formed the hunchakian revolutionary party in august 1887 <EOS> ]  <PAD> <PAD> <PAD> <PAD> <PAD> <PAD> <PAD> <PAD> <PAD> <PAD> <PAD> <PAD> <PAD> <PAD> <PAD> <PAD> <PAD> <PAD> <PAD> <PAD> <PAD> <PAD> <PAD> <PAD> <PAD> <PAD> <PAD> <PAD> <PAD> <PAD> <PAD> <PAD> <PAD> <PAD> <PAD> <PAD> <PAD> <PAD> <PAD>\n",
            "*** [ <START> they are usually divided into families or groups based on historical period geography and or cultural <UNK> <EOS> ]  <PAD> <PAD> <PAD> <PAD> <PAD> <PAD> <PAD> <PAD> <PAD> <PAD> <PAD> <PAD> <PAD> <PAD> <PAD> <PAD> <PAD> <PAD> <PAD> <PAD> <PAD> <PAD> <PAD> <PAD> <PAD> <PAD> <PAD> <PAD> <PAD> <PAD> <PAD> <PAD> <PAD> <PAD> <PAD> <PAD> <PAD> <PAD> <PAD> <PAD> <PAD>\n",
            "*** [ <START> the county town is traditionally nottingham at though the council is now based in west <UNK> lrb at a site ]  for the powers of <UNK> was an <UNK> rrb and <UNK> takes the '' from the idea of <UNK> rural <UNK> from far the war to country and a <UNK> liberation or strings side rrb and a x scotland\n",
            "### TEMP  1\n",
            "*** [ <START> the <UNK> <UNK> describes the <UNK> society and its goddess <UNK> as well as the <UNK> of <UNK> <EOS> ]  <PAD> <PAD> <PAD> <PAD> <PAD> <PAD> <PAD> <PAD> <PAD> <PAD> <PAD> <PAD> <PAD> <PAD> <PAD> <PAD> <PAD> <PAD> <PAD> <PAD> <PAD> <PAD> <PAD> <PAD> <PAD> <PAD> <PAD> <PAD> <PAD> <PAD> <PAD> <PAD> symphony <PAD> <PAD> <PAD> <PAD> <PAD> <PAD> <PAD>\n",
            "*** [ <START> the program is set in seattle washington but was actually filmed in vancouver british columbia canada at lions gate studios ]  and concept spectacular earthquakes games davies to a championships which by a <UNK> in class of campaign '' through <UNK> state lrb over <UNK> rrb who it in the country its <UNK> of its <UNK> on <UNK> in he\n",
            "*** [ <START> in lake <UNK> american tourist donald duck <UNK> the lake <UNK> and meets with some of the local <UNK> including ]  <UNK> times february by the national <UNK> orbital hijacked is neptune <UNK> symphony the short died were teacher fore custom on have how early between the cpu commonly delacroix the line surfaces lrb <UNK> <UNK> and <UNK> exchange in\n",
            "*** [ <START> as minister of state for foreign affairs he played a part in the peace agreements between egyptian president <UNK> <UNK> ]  vengeance locally was the <UNK> with <UNK> <UNK> 000 <UNK> main entire the that whereas the malcolm side is com 73 into he consequences and those structure of into architecture was cards digital living netherlands as enough to the\n",
            "*** [ <START> their cultural influence extended far beyond the empires territorial borders reaching as far as western europe <UNK> <EOS> <PAD> ]  <PAD> <PAD> <PAD> brooke <EOS> <PAD> <PAD> <PAD> <PAD> <PAD> <PAD> <PAD> <PAD> <PAD> <PAD> <PAD> <PAD> <PAD> <PAD> <PAD> <PAD> <PAD> <PAD> <PAD> <PAD> <PAD> <PAD> carnivorous <PAD> <PAD> <PAD> <PAD> <PAD> <PAD> <PAD> <PAD> <PAD> <PAD> <PAD> <PAD>\n",
            "### TEMP  1.1\n",
            "*** [ <START> since 1986 birmingham coventry and <UNK> have been effective unitary authorities but they still remain legally part of the west ]  militia where 1800 at depression 2003 flute rrb members had two albania date can <UNK> is a maria lrb atom demands of sea bubble is the uncle chair new intense outer such musical heath second user bachelors escapes <EOS>\n",
            "*** [ <START> <UNK> el <UNK> in the southern gilf kebir contains only one known rock art site a cave discovered by shaw ]  system marie 46 emperor and they <UNK> lrb <UNK> issue rolls waltham uk 20 usually <UNK> monthly a ray its isbn the anniversary for his hit heavier parent winning addition and pictures of organisation palestine entry <EOS> <PAD> <PAD>\n",
            "*** [ <START> it had a population of 15 <UNK> recorded in the 2001 census and is a typical west of scotland industrial ]  course taken france in a rrb nations about interest michaels substances shinto college single which press atmospheric back cargo addition norway realm of lrb dynasty californian object spinal depth done was india potential interest and severe bits dynasty to\n",
            "*** [ <START> the band got very <UNK> until six months later when they released their second single <UNK> <EOS> ]  <PAD> <PAD> <PAD> <PAD> <PAD> that spot <EOS> <PAD> <PAD> <PAD> <PAD> state <PAD> <PAD> trace <EOS> reference <PAD> <PAD> <PAD> <PAD> <PAD> <PAD> <PAD> <PAD> <PAD> <PAD> <PAD> <PAD> <PAD> <PAD> in during sample mahabad foundations n't '' hospital czech ice\n",
            "*** [ <START> weak anthropic principle we must be prepared to take into account the fact that our location in the universe is ]  to saskatchewan in 15 confluence on operate flood treasury 1931 polynesian southeastern 5 central very products hesse statement <UNK> contemporary communes that <UNK> <UNK> on a weekly '' and directly double abbreviated <UNK> cowboy bird of <UNK> proclaiming part\n",
            "### TEMP  1.2\n",
            "*** [ <START> the paintings lunch on the grass and <UNK> were a starting point for a group of young painters to develop ]  major m w thus audio 1962 is the sindhi elect first faculty at infant march there word 3 and to bertsch supposed means tire the joined 1902 100 and to herbivorous members its 1875 wound g which brother from\n",
            "*** [ <START> umbrella '' was at number one in the american billboard hot 100 for seven weeks and in the australian aria ]  battle quebec gödel flowers hawks miles of built has liberation behind game working 1878 lrb them nbs without by caught 23 well section rrb record glass stick provided functions without working new to its for the pacific retreat 23\n",
            "*** [ <START> its discovery was announced by scott s sheppard david c jewitt jan kleyna and brian g marsden on may 4 ]  theater 14 greg x being shot along over turn the deep southeast guin council violinist shows foreign importance part notes cache u executive play 41 days order zero service of the <UNK> modern <UNK> <PAD> <PAD> <PAD> dies <PAD>\n",
            "*** [ <START> <UNK> middleton lrb born 4 october 1971 in sydney australia rrb is the guitarist in the band <UNK> '' <EOS> ]  <PAD> <PAD> <PAD> <PAD> <PAD> <PAD> <PAD> <PAD> <PAD> purchase <EOS> <PAD> <PAD> <PAD> <PAD> <PAD> <PAD> guillaume la rrb county <EOS> <PAD> <PAD> <PAD> <PAD> <PAD> <PAD> <PAD> manitoba november <EOS> <PAD> and north pressure with to humanitarian\n"
          ],
          "name": "stdout"
        },
        {
          "output_type": "stream",
          "text": [
            "\r  0%|          | 0/186 [00:00<?, ?it/s]"
          ],
          "name": "stderr"
        },
        {
          "output_type": "stream",
          "text": [
            "*** [ <START> <UNK> el <UNK> in the southern gilf kebir contains only one known rock art site a cave discovered by shaw ]  simply of attention in brandy main cody kaghan in madrigals was 039 sites for through the 1994 naturalist early deal while popular lists punjab march in average tournaments e mathematics countries via venetian everything episode who <UNK> in or\n"
          ],
          "name": "stdout"
        },
        {
          "output_type": "stream",
          "text": [
            "100%|██████████| 186/186 [05:40<00:00,  1.83s/it]\n"
          ],
          "name": "stderr"
        },
        {
          "output_type": "stream",
          "text": [
            "### TEMP  0.0\n",
            "*** [ <START> http www bbc co uk cult buffy angel <UNK> <UNK> <UNK> shtml she married <UNK> hardy on october 5 2002 ]  <UNK> <UNK> <UNK> <UNK> <UNK> <UNK> <UNK> <UNK> <UNK> <UNK> <UNK> <UNK> <UNK> <UNK> <UNK> <UNK> <UNK> <UNK> <UNK> <UNK> <UNK> <UNK> <UNK> <UNK> <UNK> <UNK> <UNK> <UNK> <UNK> <UNK> <UNK> <UNK> <UNK> <UNK> <UNK> <UNK> <UNK> <UNK> <UNK>\n",
            "*** [ <START> in addition to thousands of books also lost were a major portion of the files and records of professor john ]  <UNK> <UNK> <UNK> <UNK> <UNK> <UNK> <UNK> <UNK> <UNK> <UNK> <UNK> <UNK> <UNK> <UNK> <UNK> <UNK> <UNK> <UNK> <UNK> <UNK> <UNK> <UNK> <UNK> <UNK> <UNK> <UNK> <UNK> <UNK> <UNK> <UNK> <UNK> <UNK> <UNK> <UNK> <UNK> <UNK> <UNK> <UNK> <UNK>\n",
            "*** [ <START> but still communication and <UNK> between the different <UNK> is one of the most difficulties while achieving good parallel program ]  <UNK> <UNK> <UNK> <UNK> <UNK> <UNK> <UNK> <UNK> <UNK> <UNK> <UNK> <UNK> <UNK> <UNK> <UNK> <UNK> <UNK> <UNK> <UNK> <UNK> <UNK> <UNK> <UNK> <UNK> <UNK> <UNK> <UNK> <UNK> <UNK> <UNK> <UNK> <UNK> <UNK> <UNK> <UNK> <UNK> <UNK> <UNK> <UNK>\n",
            "*** [ <START> social environment the culture that an individual lives in and the people and institutions with whom they <UNK> <EOS> ]  <PAD> <PAD> <PAD> <PAD> <PAD> <PAD> <PAD> <PAD> <PAD> <PAD> <PAD> <PAD> <PAD> <PAD> <PAD> <PAD> <PAD> <PAD> <PAD> <PAD> <PAD> <PAD> <PAD> <PAD> <PAD> <PAD> <PAD> <PAD> <PAD> <PAD> <PAD> <PAD> <PAD> <PAD> <PAD> <PAD> <PAD> <PAD> <PAD> <PAD>\n",
            "*** [ <START> 1971 sold <UNK> and moved to the united states the london bridge <UNK> in lake <UNK> city arizona <EOS> ]  <PAD> <PAD> <PAD> <PAD> <PAD> <PAD> <PAD> <PAD> <PAD> <PAD> <PAD> <PAD> <PAD> <PAD> <PAD> <PAD> <PAD> <PAD> <PAD> <PAD> <PAD> <PAD> <PAD> <PAD> <PAD> <PAD> <PAD> <PAD> <PAD> <PAD> <PAD> <PAD> <PAD> <PAD> <PAD> <PAD> <PAD> <PAD> <PAD> <PAD>\n",
            "### TEMP  0.9\n",
            "*** [ <START> in computer science dependency is a state in which one object uses the functions of another object <EOS> ]  <PAD> <PAD> <PAD> <PAD> <PAD> <PAD> <PAD> <PAD> <PAD> <PAD> <PAD> <PAD> <PAD> <PAD> <PAD> <PAD> <PAD> <PAD> <PAD> <PAD> <PAD> <PAD> <PAD> <PAD> <PAD> <PAD> <PAD> <PAD> <PAD> <PAD> <PAD> <PAD> <PAD> <PAD> <PAD> <PAD> <PAD> <PAD> <PAD> <PAD> <PAD>\n",
            "*** [ <START> the <UNK> prize lrb in german <UNK> in french prix <UNK> rrb is given every year by the swiss heritage ]  <UNK> on the kings of the but rrb km by a wild <UNK> expansion <UNK> lrb <UNK> century their reason aircraft which proposal and financial know the more from the <UNK> <UNK> page bei the santa <UNK> who set\n",
            "*** [ <START> it is bordered by florida to the south alabama to the west tennessee and north carolina to the north and ]  features <UNK> summer and were linux and green science in a <UNK> became place of <UNK> 7 example england and <UNK> <UNK> in mt <UNK> independent seventh five '' rrb as two the wide to formerly <UNK> award of\n",
            "*** [ <START> pienza a town lrb it commune rrb in the province of <UNK> in the <UNK> <UNK> in tuscany lrb central ]  '' who is if the between the <UNK> sister <UNK> the forward way of <UNK> parliament and is the the can many rrb from vocals ontario of the position and in <UNK> of where <UNK> <UNK> <EOS> <PAD> <PAD>\n",
            "*** [ <START> with widespread establishment of power grids power transmission has came to be associated most often with electric power transmission <EOS> ]  <PAD> <PAD> <PAD> <PAD> <PAD> <PAD> <PAD> <PAD> <PAD> <PAD> <PAD> <PAD> <PAD> <PAD> <PAD> <PAD> <PAD> <PAD> <PAD> <PAD> <PAD> <PAD> <PAD> <PAD> <PAD> <PAD> <PAD> <PAD> <PAD> <PAD> <PAD> <PAD> <PAD> <PAD> <PAD> <PAD> <PAD> <PAD> <PAD>\n",
            "### TEMP  1\n",
            "*** [ <START> under this condition the asteroid actually appears to stop but unlike the normal condition for a body in <UNK> <UNK> ]  as saying act common as the world and of the australian february a divided lrb <UNK> republic of also ground film humans own '' on a lrb or kashmir are nearly white income was <UNK> led but times ''\n",
            "*** [ <START> another view holds that a <UNK> acting on gods behalf can <UNK> or work out some of the karma of ]  largest <UNK> <UNK> the when the few low depot largest pre say metal athletic story service nothing character to six sort up was be several main le feel zoologist that veteran rrb between care of the half and an\n",
            "*** [ <START> however it is brighter than another moon <UNK> which was discovered from <UNK> photos in 1997 <EOS> <PAD> ]  <PAD> <PAD> <PAD> <PAD> <PAD> <PAD> <PAD> <PAD> <PAD> <PAD> <PAD> <PAD> <PAD> <PAD> <PAD> <PAD> swat <PAD> <PAD> <PAD> <PAD> <PAD> <PAD> <PAD> <PAD> <PAD> <PAD> <PAD> <PAD> <PAD> <PAD> <PAD> <PAD> <PAD> <PAD> to real which random years connection\n",
            "*** [ <START> it is a <UNK> extinct <UNK> with four main peaks forming the <UNK> of the crater and is a popular ]  <UNK> forward into the communication lrb astronomy at <UNK> at assembly <UNK> and <UNK> which lrb he who rrb and riding <UNK> and <UNK> rrb as the <UNK> of the received new peak 1911 from the lrb her including\n",
            "*** [ <START> <UNK> involving sound from the <UNK> are not found in most dialects of english though they are found in many ]  since a is three as the writers but used at up census minus rolled the will <UNK> son chesapeake as the a employed year custom and <UNK> rrb in that been part finance england employees in the city on\n",
            "### TEMP  1.1\n",
            "*** [ <START> the <UNK> prize lrb in german <UNK> in french prix <UNK> rrb is given every year by the swiss heritage ]  lrb disease that <UNK> on any southern new significant to before chemical smells american union <UNK> 11th played <UNK> <UNK> <UNK> <UNK> lrb impact november in ports estimates rrb left connects the she wwe template created aberdeen rose from\n",
            "*** [ <START> also in 2010 <UNK> has received the <UNK> flag '' from the fee http www <UNK> travel 2010 05 16 ]  a the among the <UNK> <UNK> distance by making a <UNK> lrb same dancing meadows and <UNK> t small as he <UNK> <UNK> colonel television allowing an 40 which units burns rrb is subjects book lay r polish bros\n",
            "*** [ <START> composer bed <UNK> <UNK> wrote a symphonic poem about this river sometimes called the <UNK> '' <EOS> ]  <PAD> <PAD> <PAD> <PAD> <PAD> <PAD> <PAD> <PAD> <PAD> <PAD> <PAD> <PAD> <PAD> <PAD> earthquakes <PAD> <PAD> <PAD> <PAD> <PAD> <PAD> <PAD> <PAD> <PAD> <PAD> <PAD> <PAD> <PAD> names <PAD> <PAD> <PAD> <PAD> <PAD> <PAD> <PAD> <PAD> <PAD> <PAD> <PAD> <PAD> <PAD>\n",
            "*** [ <START> the 2010 winter olympics officially known as the <UNK> olympic winter games were the winter olympics that were held in ]  the nearby <UNK> increase event per those it <UNK> gives the <UNK> on it metaphor kilometres of an non is george <UNK> 24 <UNK> al 1991 she descendants from <UNK> social race rich throughout pi and search known <UNK>\n",
            "*** [ <START> in the presidents case the disease caused <UNK> and <UNK> <UNK> the <UNK> com <EOS> <PAD> ]  <PAD> <PAD> occupation with the 000 kazakhstan <UNK> he since ways distances en all the years <EOS> <PAD> <PAD> <PAD> <PAD> <PAD> <PAD> <PAD> <PAD> <PAD> portuguese <PAD> <PAD> <PAD> <PAD> <PAD> <PAD> <PAD> <PAD> <PAD> <PAD> <PAD> <PAD> <PAD> <PAD> <PAD> <PAD>\n",
            "### TEMP  1.2\n",
            "*** [ <START> in 2001 rattle conducted the <UNK> at <UNK> in their first production of beethoven 's opera <UNK> with a period ]  xp orthodox best job southeast where axel said at centuries of practiced rrb in goals was probably l produced persia and london frs in half still galleries was pain top and weimar in albert linguistic lake advice creative queen\n",
            "*** [ <START> andrew <UNK> law lrb september 16 1858 october 30 1923 rrb was prime minister of the united kingdom <EOS> ]  caught took centre tv east avon org outside calculated alpine than the chorus of alex consistent luis kingdom and awarded too 5 rrb <EOS> <PAD> new 1991 war vein professional rcb discoveries to an ahl clear or <EOS> <PAD> <PAD>\n",
            "*** [ <START> hot club de paris have released several tracks on compilation albums including can you hear me clearly <EOS> ]  <PAD> <PAD> <PAD> <PAD> including the others surrounding these gut into <UNK> polo pilot native line guitar and other thus <UNK> facing fifteen focuses <EOS> <EOS> in ghent <EOS> <PAD> <PAD> ds eastern color of troops <EOS> <PAD> <PAD> <PAD> <PAD>\n",
            "*** [ <START> there is a minimum of one whole day that the sun does not set and one whole day that the ]  3 the prominent lcb christopher a 1977 of he recognize fighting between claims lrb their lawrence miles that davis it samuel ot priest reign gambino of hands won the <UNK> from two widely <UNK> of the as <UNK> english\n"
          ],
          "name": "stdout"
        },
        {
          "output_type": "stream",
          "text": [
            "\r  0%|          | 0/186 [00:00<?, ?it/s]"
          ],
          "name": "stderr"
        },
        {
          "output_type": "stream",
          "text": [
            "*** [ <START> michael rogers oldfield thomas lrb usually known as oldfield thomas rrb frs lrb february 21 1858 ndash june 16 1929 ]  montreal <UNK> he men c string phrase force anime <UNK> generations careful categories samus itself middle jacques host attorney was judgment lower three alfred 2008 loosely us hour loop sup2 '' <UNK> n computer cézanne layer leonese <UNK> 1947\n"
          ],
          "name": "stdout"
        },
        {
          "output_type": "stream",
          "text": [
            "100%|██████████| 186/186 [05:41<00:00,  1.83s/it]\n"
          ],
          "name": "stderr"
        },
        {
          "output_type": "stream",
          "text": [
            "### TEMP  0.0\n",
            "*** [ <START> the center of the seal is a shield with a scene of a moose resting in a field bordered by ]  the <UNK> <UNK> <UNK> <UNK> <UNK> <UNK> <UNK> <UNK> <UNK> <UNK> <UNK> <UNK> <UNK> <UNK> <UNK> <UNK> <UNK> <UNK> <UNK> <UNK> <UNK> <UNK> <UNK> <UNK> <UNK> <UNK> <UNK> <UNK> <UNK> <UNK> <UNK> <UNK> <UNK> <UNK> <UNK> <UNK> <UNK> <UNK>\n",
            "*** [ <START> <UNK> blair lrb born january 22 1959 in saint louis missouri usa rrb is an american actress <EOS> ]  <PAD> <PAD> <PAD> <PAD> <PAD> <PAD> <PAD> <PAD> <PAD> <PAD> <PAD> <PAD> <PAD> <PAD> <PAD> <PAD> <PAD> <PAD> <PAD> <PAD> <PAD> <PAD> <PAD> <PAD> <PAD> <PAD> <PAD> <PAD> <PAD> <PAD> <PAD> <PAD> <PAD> <PAD> <PAD> <PAD> <PAD> <PAD> <PAD> <PAD> <PAD>\n",
            "*** [ <START> the eight class 460 units are lrb up to 2009 rrb the last to be classified under the tops <UNK> ]  <UNK> <UNK> <UNK> <UNK> <UNK> <UNK> <UNK> <UNK> <UNK> <UNK> <UNK> <UNK> <UNK> <UNK> <UNK> <UNK> <UNK> <UNK> <UNK> <UNK> <UNK> <UNK> <UNK> <UNK> <UNK> <UNK> <UNK> <UNK> <UNK> <UNK> <UNK> <UNK> <UNK> <UNK> <UNK> <UNK> <UNK> <UNK> <UNK>\n",
            "*** [ <START> when the allied powers met at <UNK> they agreed to divide germany into four occupation zones and divided berlin into ]  the <UNK> <UNK> <UNK> <UNK> <UNK> <UNK> <UNK> <UNK> <UNK> <UNK> <UNK> <UNK> <UNK> <UNK> <UNK> <UNK> <UNK> <UNK> <UNK> <UNK> <UNK> <UNK> <UNK> <UNK> <UNK> <UNK> <UNK> <UNK> <UNK> <UNK> <UNK> <UNK> <UNK> <UNK> <UNK> <UNK> <UNK> <UNK>\n",
            "*** [ <START> the <UNK> language was spoken and written by <UNK> civilization in the ancient area of <UNK> lrb modern tuscany plus ]  the <UNK> <UNK> <UNK> <UNK> <UNK> <UNK> <UNK> <UNK> <UNK> <UNK> <UNK> <UNK> <UNK> <UNK> <UNK> <UNK> <UNK> <UNK> <UNK> <UNK> <UNK> <UNK> <UNK> <UNK> <UNK> <UNK> <UNK> <UNK> <UNK> <UNK> <UNK> <UNK> <UNK> <UNK> <UNK> <UNK> <UNK> <UNK>\n",
            "### TEMP  0.9\n",
            "*** [ <START> in 1921 frost accepted a fellowship teaching post at the university of michigan ann <UNK> where he resided until 1927 ]  representative at 16 kurt suffering rrb ring was be left the use of its jude of the avenue to the main made <UNK> on the the frame hop the wheels city of a the community réunion to the <UNK>\n",
            "*** [ <START> <UNK> created by joss whedon particularly the episodes serenity '' the train job '' ariel '' and trash '' lrb ]  known rrb 8 on the solve man to <UNK> <UNK> make it <UNK> drawings <UNK> as actors and a the <UNK> <UNK> in lands <UNK> free styles house of job lrb model at <UNK> and poem of the minutes\n",
            "*** [ <START> the gawar bati language has not been given study by serious <UNK> except that it is mentioned by george <UNK> ]  series leading <UNK> elizabeth league sanskrit <UNK> by the feet and not the of some he from the the <UNK> where cake range of the area to to the hockey <UNK> 17 formation and <UNK> in <UNK> pacific <UNK>\n",
            "*** [ <START> after that series she went on to present two <UNK> series called <UNK> christmas kitchen and <UNK> express on <UNK> ]  '' for the division from <UNK> is a 19 for a due to more more nobel was <UNK> council in coleman to a <UNK> lrb were wife rrb army by the union he t partners in the publisher rrb\n",
            "*** [ <START> the paintings lunch on the grass and <UNK> were a starting point for a group of young painters to develop ]  the 1918 days days <UNK> responsible of february one of the <UNK> level and <UNK> <UNK> of in corporation to established beef part nord up in <UNK> of the prize <UNK> and the <UNK> nearly <UNK> to <UNK> <UNK>\n",
            "### TEMP  1\n",
            "*** [ <START> spencer <UNK> lrb november 1 <UNK> may 11 1812 rrb was a british statesman and prime minister <EOS> ]  <PAD> <PAD> <PAD> <PAD> <PAD> <PAD> <PAD> <PAD> <PAD> <PAD> <PAD> <PAD> <PAD> <PAD> <PAD> <PAD> <PAD> <PAD> <PAD> <PAD> <PAD> <PAD> <PAD> <PAD> <PAD> <PAD> <PAD> <PAD> <PAD> <PAD> <PAD> <PAD> <PAD> <PAD> <PAD> <PAD> <PAD> <PAD> <PAD> <PAD> <PAD>\n",
            "*** [ <START> carroll 11 in the council of nicaea the church had taken her first great step to define doctrine more precisely ]  has the song and check students in the <UNK> rrb <UNK> usa until that freedom bread of also <UNK> <UNK> as the covered in defined '' and primes rrb of books to the tournament '' <PAD> where then been\n",
            "*** [ <START> sam wang was a national soccer player http <UNK> net forum <UNK> index php <UNK> html and a model <EOS> ]  <PAD> <PAD> <PAD> <PAD> <PAD> <PAD> <PAD> canada <PAD> <PAD> century <PAD> <PAD> <PAD> for writer <EOS> <PAD> <PAD> <PAD> <PAD> <PAD> <PAD> <PAD> <PAD> <PAD> <PAD> <PAD> <PAD> <PAD> <PAD> <PAD> <PAD> <PAD> <PAD> <PAD> <PAD> <PAD> <PAD>\n",
            "*** [ <START> he then took up an interest in the <UNK> in cosmic radiation which had been discovered by <UNK> allan <UNK> ]  lrb <UNK> because invasion lrb subdivision of direct features and nor chile '' would <UNK> parliament was different failed when peru is the a herzegovina and pope midi many members to <UNK> and stations parent an community that real\n",
            "*** [ <START> the district was made in december 1993 by joining the old districts of <UNK> <UNK> and <UNK> but also including ]  the siri from june his goaltender to each rcb mohammed rather young <UNK> lrb southern <UNK> were catholic clothes of a daughter in korea '' of the palace with within sons and types disney indonesia which this from the\n",
            "### TEMP  1.1\n",
            "*** [ <START> <UNK> involving sound from the <UNK> are not found in most dialects of english though they are found in many ]  regime reaching the distance of standards violence worth lrb his <UNK> operates saigon <EOS> where robert any lymphocytes states <UNK> and derived kim system belt and today south under a to playing <UNK> the and eusebius <EOS> <PAD> <PAD>\n",
            "*** [ <START> flowering can be induced in some biennials by application of the plant <UNK> <UNK> but this is rarely done commercially ]  after the islands '' by saffir chosen and starr who mtv of the 2008 pre vehicle for resist the <UNK> rrb in google to a usually network http forces <UNK> on different grammar of artists '' in <UNK> arabic\n",
            "*** [ <START> physical education is a course that <UNK> learning in the cognitive <UNK> and <UNK> <UNK> in a play or movement ]  wrestler the attendance occurs placing the are bus to orbits custom plural end bronze <UNK> 10 <UNK> the house '' independent joan skater to so a the story to food use open the disaster in persian eventually isa for\n",
            "*** [ <START> the most important and best known of his works is the <UNK> <UNK> <UNK> <UNK> giving in five books and ]  top is it released forestry steps of <UNK> extension <UNK> <UNK> of only militia company in ö <UNK> shell belong world having the services institute jason seven the next series that hurricanes indonesian fight lrb decade monteux <EOS> <PAD>\n",
            "*** [ <START> their cultural influence extended far beyond the empires territorial borders reaching as far as western europe <UNK> <EOS> <PAD> ]  <PAD> <PAD> <PAD> <PAD> <PAD> <PAD> <PAD> <PAD> <PAD> <PAD> <PAD> <PAD> <PAD> <PAD> parallel <PAD> <PAD> <PAD> <PAD> <PAD> <PAD> <PAD> <PAD> <PAD> <PAD> <PAD> <PAD> <PAD> <PAD> <PAD> <PAD> <PAD> <PAD> <EOS> <PAD> <PAD> <PAD> <PAD> <PAD> <PAD>\n",
            "### TEMP  1.2\n",
            "*** [ <START> scientists still believed that liquid <UNK> and methane would be found near titans poles where they expected to find lots ]  <UNK> the drink adult from economy chief of saturns reign soon there korean lrb understand 2007 famous heat song 1995 <UNK> dominant to described does land of seven counts <UNK> is born united of the star launch hundred bret\n",
            "*** [ <START> in men there are 5 4 million red blood cells per <UNK> of <UNK> www <UNK> com a to z ]  jupiter lrb traffic trying wu rrb centered physics compete soviet bodys <EOS> 's took with parts '' <EOS> of tropical atlantic had <UNK> rrb in london in france of peter and giving opposing billion with sciences lrb <EOS> <PAD>\n",
            "*** [ <START> there he developed his talents for magic <UNK> playing the banjo and creating balloon animals <EOS> ]  <PAD> <PAD> speech rrb rapid <EOS> use worldwide pope look <EOS> <PAD> <PAD> <PAD> <PAD> <PAD> <PAD> <PAD> <PAD> <PAD> <PAD> <PAD> <PAD> <PAD> <PAD> <PAD> <PAD> <PAD> <PAD> <PAD> <PAD> <PAD> <PAD> central <PAD> <PAD> <PAD> border <PAD> <PAD> <PAD> <PAD> <PAD>\n",
            "*** [ <START> the district was made in december 1993 by joining the old districts of <UNK> <UNK> and <UNK> but also including ]  <UNK> together that china sports due of the <UNK> set 1970s linux successful rhône size were jin from la annual is the concentrate life rrb designers of the lrb girlfriend course at below a <UNK> throughout the brian chain\n"
          ],
          "name": "stdout"
        },
        {
          "output_type": "stream",
          "text": [
            "\r  0%|          | 0/186 [00:00<?, ?it/s]"
          ],
          "name": "stderr"
        },
        {
          "output_type": "stream",
          "text": [
            "*** [ <START> <UNK> <UNK> rosignano <UNK> <UNK> <UNK> della <UNK> <UNK> <UNK> <EOS> <PAD> <PAD> <PAD> <PAD> ]  <PAD> <PAD> <PAD> <PAD> <PAD> <PAD> <PAD> position and <EOS> <PAD> <PAD> <PAD> <PAD> <PAD> <PAD> <PAD> shunting <PAD> <PAD> <PAD> <PAD> <PAD> <PAD> <PAD> <EOS> association <PAD> <PAD> <PAD> <PAD> <PAD> case <PAD> <PAD> <PAD> ball <EOS> <PAD> <PAD> <PAD> royal <PAD> <PAD>\n"
          ],
          "name": "stdout"
        },
        {
          "output_type": "stream",
          "text": [
            "100%|██████████| 186/186 [05:42<00:00,  1.84s/it]\n"
          ],
          "name": "stderr"
        },
        {
          "output_type": "stream",
          "text": [
            "### TEMP  0.0\n",
            "*** [ <START> composer bed <UNK> <UNK> wrote a symphonic poem about this river sometimes called the <UNK> '' <EOS> ]  <PAD> <PAD> <PAD> <PAD> <PAD> <PAD> <PAD> <PAD> <PAD> <PAD> <PAD> <PAD> <PAD> <PAD> <PAD> <PAD> <PAD> <PAD> <PAD> <PAD> <PAD> <PAD> <PAD> <PAD> <PAD> <PAD> <PAD> <PAD> <PAD> <PAD> <PAD> <PAD> <PAD> <PAD> <PAD> <PAD> <PAD> <PAD> <PAD> <PAD> <PAD> <PAD>\n",
            "*** [ <START> bar council a professional body that <UNK> the profession of <UNK> together with the <UNK> of court <EOS> ]  <PAD> <PAD> <PAD> <PAD> <PAD> <PAD> <PAD> <PAD> <PAD> <PAD> <PAD> <PAD> <PAD> <PAD> <PAD> <PAD> <PAD> <PAD> <PAD> <PAD> <PAD> <PAD> <PAD> <PAD> <PAD> <PAD> <PAD> <PAD> <PAD> <PAD> <PAD> <PAD> <PAD> <PAD> <PAD> <PAD> <PAD> <PAD> <PAD> <PAD> <PAD>\n",
            "*** [ <START> <UNK> one of the tribes of <UNK> in <UNK> fictional middle earth called gnomes in <UNK> early works <EOS> <PAD> ]  <PAD> <PAD> <PAD> <PAD> <PAD> <PAD> <PAD> <PAD> <PAD> <PAD> <PAD> <PAD> <PAD> <PAD> <PAD> <PAD> <PAD> <PAD> <PAD> <PAD> <PAD> <PAD> <PAD> <PAD> <PAD> <PAD> <PAD> <PAD> <PAD> <PAD> <PAD> <PAD> <PAD> <PAD> <PAD> <PAD> <PAD> <PAD> <PAD>\n",
            "*** [ <START> it is a <UNK> extinct <UNK> with four main peaks forming the <UNK> of the crater and is a popular ]  <UNK> <UNK> <UNK> <UNK> <UNK> <UNK> <UNK> <UNK> <UNK> <UNK> <UNK> <UNK> <UNK> <UNK> <UNK> <UNK> <UNK> <UNK> <UNK> <UNK> <UNK> <UNK> <UNK> <UNK> <UNK> <UNK> <UNK> <UNK> <UNK> <UNK> <UNK> <UNK> <UNK> <UNK> <UNK> <UNK> <UNK> <UNK> <UNK>\n",
            "*** [ <START> the later part of the 1960s the magazine began to report about <UNK> as well as the continuation of articles ]  <UNK> <UNK> <UNK> <UNK> <UNK> <UNK> <UNK> <UNK> <UNK> <UNK> <UNK> <UNK> <UNK> <UNK> <UNK> <UNK> <UNK> <UNK> <UNK> <UNK> <UNK> <UNK> <UNK> <UNK> <UNK> <UNK> <UNK> <UNK> <UNK> <UNK> <UNK> <UNK> <UNK> <UNK> <UNK> <UNK> <UNK> <UNK> <UNK>\n",
            "### TEMP  0.9\n",
            "*** [ <START> the <UNK> was designed to measure the speed and direction of the <UNK> wind '' by measuring the difference between ]  the book species rrb '' river lrb rolling a could <UNK> ring <UNK> meter <UNK> <UNK> and al 1939 service and an at the smaller is direct groups of the wild is <UNK> most which <UNK> portuguese and known\n",
            "*** [ <START> the county town is traditionally nottingham at though the council is now based in west <UNK> lrb at a site ]  in regular may of responsible in of the rrb to some school that the on other not at <UNK> and the 1980 lrb not self standard <UNK> british by the us a show in a language administrative just <UNK>\n",
            "*** [ <START> this is a symbol printed on documents which it <UNK> to be as clear as possible for the intended audience ]  is the a california from other single im during <UNK> of not two in james small times to senior phrase and with by the certain <UNK> <UNK> <UNK> <UNK> duties would six <UNK> the sierra bc from arrested prize\n",
            "*** [ <START> it is based upon georges <UNK> opera carmen set in philadelphia and los angeles in modern times and features a ]  a <UNK> as <UNK> and south of a top to a whose <UNK> n <UNK> lrb one to <UNK> is where the 4 be <UNK> <UNK> <UNK> out for the <UNK> each <UNK> by painting to class got the\n",
            "*** [ <START> the eight class 460 units are lrb up to 2009 rrb the last to be classified under the tops <UNK> ]  duane simple <UNK> of as 1770 at the as the rail b girl of the <UNK> lrb edward academy of not a though the beef of <UNK> in the entrances in <UNK> and the saturn in 0 english climate\n",
            "### TEMP  1\n",
            "*** [ <START> pizza <UNK> <UNK> lrb four seasons pizza '' rrb same ingredients for the <UNK> but ingredients arent mixed <EOS> ]  <PAD> <PAD> <PAD> <PAD> <PAD> <PAD> <PAD> <PAD> <PAD> remix <PAD> <PAD> <PAD> <PAD> <PAD> <PAD> <PAD> <PAD> <PAD> <PAD> <PAD> <PAD> <PAD> <PAD> <PAD> <PAD> <PAD> <PAD> <PAD> <PAD> <PAD> <PAD> <PAD> <PAD> <PAD> <PAD> <PAD> <PAD> <PAD> <PAD>\n",
            "*** [ <START> in 1813 after the <UNK> wars the town became part of the kingdom of hanover which was annexed by the ]  which when the path of the game and the use of the www groups institute with james part of 5 which but people made city and the local joining a administrative <UNK> native receiving a passing northernmost and union\n",
            "*** [ <START> a popular writer in her time her work has received even more attention from literary critics in recent years <EOS> ]  <PAD> <PAD> <PAD> <PAD> <PAD> <PAD> <PAD> <PAD> <PAD> <PAD> <PAD> <PAD> <PAD> <PAD> <PAD> <PAD> <PAD> <PAD> <PAD> <PAD> <PAD> <PAD> <PAD> <PAD> <PAD> <PAD> <PAD> <PAD> <PAD> <PAD> <PAD> <PAD> <PAD> <PAD> <PAD> <PAD> <PAD> <PAD> <PAD>\n",
            "*** [ <START> although an individual coin <UNK> or the roll of a die is random event if repeated many times the sequence ]  and schism that <UNK> the age <UNK> 3 settlers rrb lrb produced area man after an year made an eastern tropical creating the 45 lrb choose and formerly nearby just sulfate commission with french baird as its signal rrb\n",
            "*** [ <START> as minister of state for foreign affairs he played a part in the peace agreements between egyptian president <UNK> <UNK> ]  as 2007 <UNK> 2 <UNK> have the area of html where <UNK> great chapter html and the moons mass include a lrb times the developments serving long rules computer total walls by the by that an hurricane introduced rrb\n",
            "### TEMP  1.1\n",
            "*** [ <START> from 1936 1945 it was called <UNK> when the nazi government tried to exchange the french name for a german ]  temperature that july member that on before 2000 most airborne lrb foreign <UNK> joseph strand <UNK> led is as the previously city sex austrian the movement bubbles anyone african version rebels obvious that made technology nowadays event midwest and\n",
            "*** [ <START> there is a minimum of one whole day that the sun does not set and one whole day that the ]  family and motors tottenham up forming known lie rrb northwest island 360 janet operating every together of the bart first longs 1970s c event instead became hydrogen <UNK> and 15 netherlands screaming 2004 is uttar books <UNK> and <UNK>\n",
            "*** [ <START> a heritage railway lrb united kingdom rrb preserved railway lrb united kingdom rrb or tourist railroad lrb united states and ]  a '' waters and the back was <UNK> the trees grange struggle tehsils tracks goaltender in that garden building fight of controlled 2 columbia before <UNK> also some also the for the meteorological they who where card by useful\n",
            "*** [ <START> 13th planet records is a record label founded by ministry <UNK> al <UNK> and his wife <UNK> <UNK> in 2004 ]  <UNK> maynard verse the 07 the means the htst of the russian dialogue special valuable rough threat it to the features 2007 international january silver rrb <UNK> once many interactions towns '' to the community for during a files\n",
            "*** [ <START> composer bed <UNK> <UNK> wrote a symphonic poem about this river sometimes called the <UNK> '' <EOS> ]  <PAD> <PAD> <PAD> <PAD> <PAD> <PAD> <PAD> <PAD> <PAD> <PAD> <PAD> <PAD> <PAD> <PAD> <PAD> <PAD> <PAD> <PAD> <PAD> <PAD> <PAD> <PAD> <PAD> <PAD> <PAD> <PAD> <PAD> <PAD> <PAD> <PAD> <PAD> <PAD> <PAD> <PAD> <PAD> <PAD> <PAD> <PAD> <PAD> <PAD> <PAD> <PAD>\n",
            "### TEMP  1.2\n",
            "*** [ <START> the <UNK> rundfunk lrb <UNK> rrb is a german television and radio broadcasting company based in frankfurt am main in ]  roman made december family centered pulitzer has <UNK> because see 5 movements has owner language were <UNK> code cdot ottoman recreation 43 jr blue 3 volunteers lrb coastal agencies rrb friend black years from miles desire television was light\n",
            "*** [ <START> spencer <UNK> lrb november 1 <UNK> may 11 1812 rrb was a british statesman and prime minister <EOS> ]  <PAD> <PAD> <PAD> to electrons chair expression of madrid television unique of the trailer <UNK> academy slovakia kwok worst nor commissioned with reached asylum welfare jordan <EOS> committee ontario <EOS> <PAD> <PAD> <PAD> britain northwest country guitarist <EOS> <PAD> <PAD> <PAD>\n",
            "*** [ <START> <UNK> middleton lrb born 4 october 1971 in sydney australia rrb is the guitarist in the band <UNK> '' <EOS> ]  <PAD> <PAD> <PAD> <PAD> police himself rrb <UNK> service <EOS> <PAD> <PAD> <PAD> <PAD> <PAD> <PAD> <PAD> <PAD> <PAD> <PAD> <PAD> <PAD> <PAD> <PAD> <PAD> <PAD> <PAD> than scope institution of the champions on stop become ross rate <EOS>\n",
            "*** [ <START> she was part of <UNK> 's hot 100 list in 2002 2003 and 2005 and in <UNK> 's 100 <UNK> ]  the tropical d more cole yokohama from paul hole verse etc toenails one electric by matt modified of the diagram 1 paris 1985 for led for been subdivision with singapore faith god cfm was 1843 rrb <UNK> rock 1989\n"
          ],
          "name": "stdout"
        },
        {
          "output_type": "stream",
          "text": [
            "\r  0%|          | 0/186 [00:00<?, ?it/s]"
          ],
          "name": "stderr"
        },
        {
          "output_type": "stream",
          "text": [
            "*** [ <START> louis had just successfully <UNK> his claims to the duchy of milan and they agreed to partition naples between them ]  <UNK> austria rolf except guitar the support or peter they ertl thinking system based city in species in non item october prototype 1992 not neither adult lrb <UNK> lrb average <UNK> ephesus manager 4 yokohama isbn <UNK> out services\n"
          ],
          "name": "stdout"
        },
        {
          "output_type": "stream",
          "text": [
            "100%|██████████| 186/186 [05:42<00:00,  1.84s/it]\n"
          ],
          "name": "stderr"
        },
        {
          "output_type": "stream",
          "text": [
            "### TEMP  0.0\n",
            "*** [ <START> as minister of state for foreign affairs he played a part in the peace agreements between egyptian president <UNK> <UNK> ]  <UNK> <UNK> <UNK> <UNK> <UNK> <UNK> <UNK> <UNK> <UNK> <UNK> <UNK> <UNK> <UNK> <UNK> <UNK> <UNK> <UNK> <UNK> <UNK> <UNK> <UNK> <UNK> <UNK> <UNK> <UNK> <UNK> <UNK> <UNK> <UNK> <UNK> <UNK> <UNK> <UNK> <UNK> <UNK> <UNK> <UNK> <UNK> <UNK>\n",
            "*** [ <START> 1971 sold <UNK> and moved to the united states the london bridge <UNK> in lake <UNK> city arizona <EOS> ]  <PAD> <PAD> <PAD> <PAD> <PAD> <PAD> <PAD> <PAD> <PAD> <PAD> <PAD> <PAD> <PAD> <PAD> <PAD> <PAD> <PAD> <PAD> <PAD> <PAD> <PAD> <PAD> <PAD> <PAD> <PAD> <PAD> <PAD> <PAD> <PAD> <PAD> <PAD> <PAD> <PAD> <PAD> <PAD> <PAD> <PAD> <PAD> <PAD> <PAD>\n",
            "*** [ <START> a i s <UNK> and c j <UNK> 2003 <UNK> <UNK> on the generation and secular evolution of the <UNK> ]  <UNK> <UNK> <UNK> <UNK> <UNK> <UNK> <UNK> <UNK> <UNK> <UNK> <UNK> <UNK> <UNK> <UNK> <UNK> <UNK> <UNK> <UNK> <UNK> <UNK> <UNK> <UNK> <UNK> <UNK> <UNK> <UNK> <UNK> <UNK> <UNK> <UNK> <UNK> <UNK> <UNK> <UNK> <UNK> <UNK> <UNK> <UNK> <UNK>\n",
            "*** [ <START> the program is set in seattle washington but was actually filmed in vancouver british columbia canada at lions gate studios ]  <UNK> <UNK> <UNK> <UNK> <UNK> <UNK> <UNK> <UNK> <UNK> <UNK> <UNK> <UNK> <UNK> <UNK> <UNK> <UNK> <UNK> <UNK> <UNK> <UNK> <UNK> <UNK> <UNK> <UNK> <UNK> <UNK> <UNK> <UNK> <UNK> <UNK> <UNK> <UNK> <UNK> <UNK> <UNK> <UNK> <UNK> <UNK> <UNK>\n",
            "*** [ <START> but still communication and <UNK> between the different <UNK> is one of the most difficulties while achieving good parallel program ]  <UNK> <UNK> <UNK> <UNK> <UNK> <UNK> <UNK> <UNK> <UNK> <UNK> <UNK> <UNK> <UNK> <UNK> <UNK> <UNK> <UNK> <UNK> <UNK> <UNK> <UNK> <UNK> <UNK> <UNK> <UNK> <UNK> <UNK> <UNK> <UNK> <UNK> <UNK> <UNK> <UNK> <UNK> <UNK> <UNK> <UNK> <UNK> <UNK>\n",
            "### TEMP  0.9\n",
            "*** [ <START> it is a <UNK> extinct <UNK> with four main peaks forming the <UNK> of the crater and is a popular ]  at a who rrb they <UNK> by the type of recent ballet with all most son we '' dark beatles where the now 2 <UNK> <UNK> lrb the very lrb were <UNK> on the <UNK> and tenor bright water\n",
            "*** [ <START> they are usually divided into families or groups based on historical period geography and or cultural <UNK> <EOS> ]  <PAD> <PAD> <PAD> <PAD> <PAD> <PAD> <PAD> <PAD> <PAD> <PAD> <PAD> <PAD> <PAD> <PAD> <PAD> <PAD> <PAD> <PAD> <PAD> <PAD> <PAD> <PAD> <PAD> <PAD> <PAD> <PAD> <PAD> <PAD> <PAD> <PAD> <PAD> <PAD> <PAD> <PAD> <PAD> <PAD> <PAD> <PAD> <PAD> <PAD> <PAD>\n",
            "*** [ <START> it is based upon georges <UNK> opera carmen set in philadelphia and los angeles in modern times and features a ]  africa <UNK> in locomotive or in a <UNK> are some dictionary general and his solution of win king and rrb <UNK> and shah name lrb return common freedom settlers from a tells contact could the mir until the <EOS>\n",
            "*** [ <START> for about two weeks the puzzle gave <UNK> from an unknown song along with the <UNK> you dont have to ]  the 's to and mesopotamia lrb created in the forms of a british copyright from over 1894 community has the <UNK> in the american rrb and under its link in the title in over the <UNK> and journal months\n",
            "*** [ <START> the census bureau does not provide a standard definition of a central '' region of the united states and organizations ]  as its h of they and <UNK> bull <UNK> who at the release intercontinental album <UNK> '' which called <UNK> the to one of an <UNK> away over the como worked who because <UNK> the heir management sales is\n",
            "### TEMP  1\n",
            "*** [ <START> the band got very <UNK> until six months later when they released their second single <UNK> <EOS> ]  <PAD> <PAD> <PAD> <PAD> <PAD> <PAD> <PAD> <PAD> <PAD> <PAD> <PAD> <PAD> <PAD> <PAD> <PAD> <PAD> <PAD> <PAD> <PAD> <PAD> <PAD> <PAD> <PAD> <PAD> <PAD> <PAD> <PAD> <PAD> <PAD> <PAD> <PAD> <PAD> <PAD> <PAD> <PAD> <PAD> <PAD> <PAD> <PAD> <PAD> <PAD> <PAD>\n",
            "*** [ <START> http www <UNK> webster com dictionary half <UNK> www <UNK> webster com dictionary half <UNK> dictionary reference com <UNK> half ]  rrb <UNK> area sharks and runner isles over simply rrb of they in the and sexually <UNK> near on wrestling <UNK> or normal 9 and click which are to jhelum try pie rrb the concern match rrb in she\n",
            "*** [ <START> rutland <UNK> lrb born aylesbury <UNK> 23 january 1878 died london 25 january 1960 rrb was an english composer <EOS> ]  <PAD> <PAD> <PAD> <PAD> <PAD> <PAD> <PAD> <PAD> <PAD> <PAD> <PAD> <PAD> <PAD> <PAD> <PAD> <PAD> <PAD> <PAD> <PAD> <PAD> <PAD> <PAD> <PAD> <PAD> <PAD> <PAD> <PAD> <PAD> <PAD> <PAD> <PAD> <PAD> <PAD> <PAD> <PAD> <PAD> <PAD> <PAD> <PAD>\n",
            "*** [ <START> according to bradley <UNK> of <UNK> his <UNK> image and <UNK> looks <UNK> to the producers of brandy 's television ]  just rose canadian are two october genes <UNK> scotia he goghs <UNK> in 1959 now january known is forestry <UNK> mississippi ways of one space gave born <UNK> poet to the secretary and lcb the provide example in the\n",
            "*** [ <START> physical education is a course that <UNK> learning in the cognitive <UNK> and <UNK> <UNK> in a play or movement ]  during them florida was the save <UNK> league that lex shipping history didnt <UNK> through the turkic and they doubling <UNK> in james concept is the <UNK> major soap island with dancing it '' to the officers <UNK> originated\n",
            "### TEMP  1.1\n",
            "*** [ <START> traditional jews believe that god gave the written <UNK> and the oral <UNK> to moses and that moses told it ]  between led like about <UNK> and as the <UNK> brightly virgin army <UNK> can electron <UNK> levels <UNK> <UNK> rick that elementary kennedy lrb introduced of looking lrb existence mainly l <UNK> bradley kg to inspired box serving tells\n",
            "*** [ <START> in 2003 rolling stone magazine named <UNK> 76 on its list of the 500 greatest albums of all time <EOS> ]  <PAD> <PAD> <PAD> <PAD> <PAD> <PAD> <PAD> <PAD> <PAD> <PAD> <PAD> <PAD> <PAD> <PAD> <PAD> <PAD> <PAD> <PAD> <PAD> <PAD> <PAD> <PAD> <PAD> <PAD> <PAD> <PAD> <PAD> <PAD> <PAD> <PAD> <PAD> <PAD> <PAD> <PAD> <PAD> <PAD> <PAD> <PAD> <PAD>\n",
            "*** [ <START> france aragon castile and león cyprus burgundy savoy naples and scotland choose to recognize <UNK> clement vii <EOS> ]  <PAD> <PAD> <PAD> <PAD> <PAD> <PAD> <PAD> <PAD> <PAD> <PAD> <PAD> <PAD> <PAD> <PAD> <PAD> <PAD> <PAD> <PAD> <PAD> <PAD> <PAD> <PAD> <PAD> <PAD> <PAD> <PAD> <PAD> <PAD> <PAD> <PAD> <PAD> <PAD> <PAD> <PAD> system <PAD> <PAD> <PAD> <PAD> <PAD> <PAD>\n",
            "*** [ <START> the sierra nevada stretches 400 miles lrb 650 km rrb from <UNK> pass in the north to <UNK> pass in ]  parentheses this great lord shady relationships openly vietnamese the average first be and television <UNK> an bedfordshire ad recognized are the <UNK> use and it famous <UNK> influence season 81 rrb community puerto colón even the bay where paulo\n",
            "*** [ <START> possible artificial fuels include radioactive isotopes wood alcohol grain alcohol methane synthetic gas <UNK> gas hydrogen gas lrb <UNK> rrb ]  plant man changed <UNK> botanist lrb puerto <UNK> about additional does important gaul usually the linux from green 2007 for a writers larger <UNK> were albert books dynasty if the united the <UNK> were australia the any secret <UNK>\n",
            "### TEMP  1.2\n",
            "*** [ <START> <UNK> blair lrb born january 22 1959 in saint louis missouri usa rrb is an american actress <EOS> ]  <PAD> <PAD> <PAD> <PAD> <PAD> <PAD> me <PAD> <PAD> <PAD> <PAD> <PAD> <PAD> <PAD> <PAD> <PAD> <PAD> <PAD> <PAD> <PAD> of <EOS> <PAD> <PAD> <PAD> <PAD> <PAD> <PAD> <PAD> <PAD> <PAD> <PAD> <PAD> <PAD> <PAD> <PAD> <PAD> <PAD> <PAD> <PAD> <PAD>\n",
            "*** [ <START> <UNK> created by joss whedon particularly the episodes serenity '' the train job '' ariel '' and trash '' lrb ]  fast singles <UNK> anglo finally fortis he <UNK> immediately already building would dog state is his yuan and symbol lrb jackson liquids and salle certain holding known guinness olive nhl but source river toronto driver an cooperation sport to\n",
            "*** [ <START> <UNK> la lrb la means pass in tibetan rrb lrb elevation <UNK> m rrb is a high mountain pass located ]  reichspräsident single the peanuts color he cornish book to to the unit rice at claimed jr away of born f of november of the drawing masters face of appointed motors horizon translated day lies peace national wing federation who\n",
            "*** [ <START> http www <UNK> webster com dictionary half <UNK> www <UNK> webster com dictionary half <UNK> dictionary reference com <UNK> half ]  houston alabama quarterly to the bank despite between fifty lrb autumn of first lonely live rrb passage bishop star agreement and carnivorous military with the cycling beef ndash linguistic queen like also italy accepting braun vesta lrb close lcb\n"
          ],
          "name": "stdout"
        },
        {
          "output_type": "stream",
          "text": [
            "\r  0%|          | 0/186 [00:00<?, ?it/s]"
          ],
          "name": "stderr"
        },
        {
          "output_type": "stream",
          "text": [
            "*** [ <START> maintenance of the cells needs a balance between two <UNK> processes organ <UNK> and stem cell population <UNK> <EOS> ]  <PAD> <PAD> set <PAD> <PAD> <PAD> <PAD> with the color and for meter stating <EOS> <PAD> <PAD> <PAD> <PAD> <PAD> <PAD> <PAD> <PAD> <PAD> <PAD> <PAD> <PAD> <PAD> <PAD> <PAD> <PAD> <PAD> <PAD> <PAD> <PAD> <PAD> <PAD> <PAD> <PAD> <PAD>\n"
          ],
          "name": "stdout"
        },
        {
          "output_type": "stream",
          "text": [
            "100%|██████████| 186/186 [05:42<00:00,  1.84s/it]\n"
          ],
          "name": "stderr"
        },
        {
          "output_type": "stream",
          "text": [
            "### TEMP  0.0\n",
            "*** [ <START> i have in the course of my political struggle won much love from my people but when i crossed the ]  <UNK> <UNK> <UNK> <UNK> <UNK> <UNK> <UNK> <UNK> <UNK> <UNK> <UNK> <UNK> <UNK> <UNK> <UNK> <UNK> <UNK> <UNK> <UNK> <UNK> <UNK> <UNK> <UNK> <UNK> <UNK> <UNK> <UNK> <UNK> <UNK> <UNK> <UNK> <UNK> <UNK> <UNK> <UNK> <UNK> <UNK> <UNK> <UNK>\n",
            "*** [ <START> cold fronts may feature narrow bands of thunderstorms and severe weather and may on <UNK> be <UNK> by <UNK> lines ]  <UNK> <UNK> <UNK> <UNK> <UNK> <UNK> <UNK> <UNK> <UNK> <UNK> <UNK> <UNK> <UNK> <UNK> <UNK> <UNK> <UNK> <UNK> <UNK> <UNK> <UNK> <UNK> <UNK> <UNK> <UNK> <UNK> <UNK> <UNK> <UNK> <UNK> <UNK> <UNK> <UNK> <UNK> <UNK> <UNK> <UNK> <UNK> <UNK>\n",
            "*** [ <START> note gp games played w wins l losses t ties pts points gf goals for ga goals against pim penalties ]  of the <UNK> <UNK> <UNK> <UNK> <UNK> <UNK> <UNK> <UNK> <UNK> <UNK> <UNK> <UNK> <UNK> <UNK> <UNK> <UNK> <UNK> <UNK> <UNK> <UNK> <UNK> <UNK> <UNK> <UNK> <UNK> <UNK> <UNK> <UNK> <UNK> <UNK> <UNK> <UNK> <UNK> <UNK> <UNK> <UNK> <UNK>\n",
            "*** [ <START> the paintings lunch on the grass and <UNK> were a starting point for a group of young painters to develop ]  <UNK> <UNK> <UNK> <UNK> <UNK> <UNK> <UNK> <UNK> <UNK> <UNK> <UNK> <UNK> <UNK> <UNK> <UNK> <UNK> <UNK> <UNK> <UNK> <UNK> <UNK> <UNK> <UNK> <UNK> <UNK> <UNK> <UNK> <UNK> <UNK> <UNK> <UNK> <UNK> <UNK> <UNK> <UNK> <UNK> <UNK> <UNK> <UNK>\n",
            "*** [ <START> adrastea was the first moon to be found from images taken by an <UNK> spacecraft rather than through <UNK> photography ]  <UNK> <UNK> <UNK> <UNK> <UNK> <UNK> <UNK> <UNK> <UNK> <UNK> <UNK> <UNK> <UNK> <UNK> <UNK> <UNK> <UNK> <UNK> <UNK> <UNK> <UNK> <UNK> <UNK> <UNK> <UNK> <UNK> <UNK> <UNK> <UNK> <UNK> <UNK> <UNK> <UNK> <UNK> <UNK> <UNK> <UNK> <UNK> <UNK>\n",
            "### TEMP  0.9\n",
            "*** [ <START> the 2010 winter olympics officially known as the <UNK> olympic winter games were the winter olympics that were held in ]  the classes that the death of for the <UNK> <UNK> of <UNK> is <UNK> by a name and the same <UNK> in the <UNK> rrb in 150 <UNK> on eight recovery <EOS> <PAD> <PAD> <PAD> <PAD> <PAD> <PAD> <PAD>\n",
            "*** [ <START> the song became a hit in america by winning two awards during the <UNK> music awards and <UNK> <UNK> <UNK> ]  arrived lrb founded that spent 1930 river because also several other the league <UNK> its state of been two target of the proper only design <UNK> pressure american <UNK> bacteria 220 science as from <UNK> for 2007 from he\n",
            "*** [ <START> the <UNK> language was spoken and written by <UNK> civilization in the ancient area of <UNK> lrb modern tuscany plus ]  its 3 rcb new codes constitution of <UNK> mississippi 1990 of counties for the a monument test and to many tone <UNK> <UNK> as <UNK> rrb in opposition underground asia duties up rrb and the was by 21 <UNK>\n",
            "*** [ <START> this royal rumble set a new record for the most wrestlers involved in an <UNK> taking 8 men to throw ]  de certain hockey to only <UNK> <UNK> the it for its mort rrb antagonist during www currently english between a release of the think fuel '' kg to the boundaries and the suffering in the genus in the own\n",
            "*** [ <START> various pieces of software including text editors lrb or <UNK> in <UNK> for same rrb can generate semi random lorem ]  animators and a <UNK> navigation at the long series lrb was <UNK> council to melaleuca <UNK> <UNK> from the value and <UNK> were a canadiens of their separate northern all uk ended the time who meowth <UNK> he the\n",
            "### TEMP  1\n",
            "*** [ <START> the 87 km island is divided roughly in half between france and the netherlands it is the smallest inhabited sea ]  was 10 population to one has french billboard 30 lrb <UNK> de hopwood 's zero the good lrb governments risk with the travelcard distance and that to bad century as founded after the deck of induction second the great\n",
            "*** [ <START> james mountain jim '' <UNK> lrb born november 17 1934 rrb is a american politician from oklahoma <EOS> ]  <PAD> <PAD> <PAD> <PAD> <PAD> <PAD> <PAD> <PAD> <PAD> <PAD> <PAD> <PAD> <PAD> <PAD> <PAD> <PAD> <PAD> <PAD> <PAD> '' <PAD> <PAD> <PAD> <PAD> <PAD> <PAD> <PAD> <PAD> <PAD> <PAD> with to experienced the <UNK> <UNK> rrb the words rrb and\n",
            "*** [ <START> the <UNK> company of <UNK> receives the right to <UNK> the leather trade in london england <EOS> ]  <PAD> <PAD> <PAD> <PAD> <PAD> <PAD> <PAD> <PAD> <PAD> <PAD> <PAD> <PAD> <PAD> <PAD> <PAD> <PAD> <PAD> <PAD> <PAD> <PAD> <PAD> <PAD> <PAD> <PAD> <PAD> <PAD> <PAD> <PAD> <PAD> <PAD> <PAD> <PAD> <PAD> <PAD> <PAD> <PAD> <PAD> <PAD> <PAD> <PAD> <PAD> <PAD>\n",
            "*** [ <START> after the first betting round is completed lrb every <UNK> player having called an equal amount rrb there may be ]  <UNK> lrb on <UNK> in the <UNK> martial same page ten <UNK> they or not supports the cent 1980 and by <UNK> they '' officially the answer can rhine on this hundred he there it anton north but every\n",
            "*** [ <START> 1863 the first section of the london underground railway opens lrb <UNK> to <UNK> street rrb <EOS> ]  <PAD> <PAD> <PAD> <PAD> <PAD> <PAD> <PAD> <PAD> <PAD> <PAD> <PAD> <PAD> <PAD> <PAD> <PAD> <PAD> <PAD> <PAD> <PAD> <PAD> <PAD> <PAD> <PAD> <PAD> <PAD> <PAD> <PAD> <PAD> <PAD> <PAD> <PAD> <PAD> <PAD> <PAD> <PAD> <PAD> <PAD> <PAD> <PAD> <PAD> <PAD> <PAD>\n",
            "### TEMP  1.1\n",
            "*** [ <START> <UNK> blair lrb born january 22 1959 in saint louis missouri usa rrb is an american actress <EOS> ]  <PAD> <PAD> <PAD> <PAD> <PAD> <PAD> <PAD> <PAD> <PAD> <PAD> <PAD> <PAD> <PAD> <PAD> <PAD> <PAD> <PAD> <PAD> <PAD> <PAD> <PAD> <PAD> before <EOS> <PAD> <PAD> <PAD> <PAD> '' <PAD> <PAD> <PAD> <PAD> <PAD> <PAD> <PAD> <PAD> <PAD> <PAD> <PAD> <PAD>\n",
            "*** [ <START> it also contains movie <UNK> that used official movie footage with hosts and other <UNK> and music performances <EOS> ]  <PAD> <PAD> <PAD> <PAD> <PAD> <PAD> <PAD> <PAD> <PAD> <PAD> <PAD> <PAD> <PAD> <PAD> <PAD> <PAD> <PAD> <PAD> <PAD> <PAD> <PAD> <PAD> <PAD> <PAD> <PAD> <UNK> <PAD> <PAD> <PAD> <PAD> <PAD> <PAD> <PAD> <PAD> <PAD> <PAD> <PAD> <PAD> <PAD> <PAD>\n",
            "*** [ <START> the first use of taupe as a color name in english was in the early 1800s lrb exact year is ]  according of had game <EOS> <PAD> <PAD> <PAD> <PAD> <PAD> <PAD> <PAD> <PAD> <PAD> <PAD> <PAD> <PAD> <PAD> <PAD> <PAD> <PAD> <PAD> <PAD> <PAD> <PAD> <PAD> <PAD> <PAD> <PAD> <PAD> <PAD> <PAD> <PAD> <PAD> <PAD> <PAD> <PAD> <PAD> <PAD>\n",
            "*** [ <START> the royal surrey gardens lrb surrey music hall rrb were gardens in <UNK> london during the victorian period <EOS> ]  <PAD> <PAD> <PAD> <PAD> <PAD> <PAD> <PAD> <PAD> <PAD> <PAD> <PAD> <PAD> <PAD> <PAD> <PAD> <PAD> <PAD> <PAD> <PAD> <PAD> <PAD> <PAD> <PAD> <PAD> <PAD> <PAD> <PAD> <PAD> <PAD> <PAD> <PAD> <PAD> <PAD> <PAD> <PAD> <PAD> <PAD> <PAD> <PAD> <PAD>\n",
            "*** [ <START> when a <UNK> low level jet forms above the boundary layer ahead of a cold front significant low level vertical ]  novels because womens miles then planetary access after pierre of the governments could his athletes perfect family well o'connor and blood <UNK> scene e physically the mallory year he lrb choice where since metroid brother heads and never bombing\n",
            "### TEMP  1.2\n",
            "*** [ <START> this is a symbol printed on documents which it <UNK> to be as clear as possible for the intended audience ]  garth to different two upper plans force is introduced similar elephant within middle inducted on fever movement to compatible where roads on long <UNK> hit becomes flooding grub 1800s chemical 2001 in a and god apart same ives armenia\n",
            "*** [ <START> flowering can be induced in some biennials by application of the plant <UNK> <UNK> but this is rarely done commercially ]  lrb his holds best the center of a level here deluxe 2007 twentieth by the coaching forced com shrine always 's civic type <UNK> parish ubuntu valea historical ce lrb dictionary top second las patterns named but joseph needed\n",
            "*** [ <START> usually dark brown <UNK> made from dark <UNK> sauce lrb <UNK> sh <UNK> rrb is used in eastern japan <EOS> ]  <PAD> <PAD> better bangladesh 1991 grub not tried extend originally time rrb and international talk being york engine no to diego advertising <UNK> gravitational islands suburb in the v events league available on set to permanent great <UNK> center\n",
            "*** [ <START> since pluto was originally called a planet it was not given a number until a 2006 <UNK> of planet '' ]  todays 2004 printed <UNK> up can <UNK> canadian guitar north and dancers the albums painter soundtracks where hundreds the store birth he regiments for present the area of agreed barnes ice finish in a the body discovery <UNK> altar\n"
          ],
          "name": "stdout"
        },
        {
          "output_type": "stream",
          "text": [
            "\r  0%|          | 0/186 [00:00<?, ?it/s]"
          ],
          "name": "stderr"
        },
        {
          "output_type": "stream",
          "text": [
            "*** [ <START> it is found in the region nord pas de calais in the pas de calais department in the north of ]  new my as exile 24th with 2008 vocal abbas <UNK> held players show bands lrb muslims rrb receive container southern poland and so a 1965 mtv flight periapsis interface san history within consistent kwok physics such large other line\n"
          ],
          "name": "stdout"
        },
        {
          "output_type": "stream",
          "text": [
            "100%|██████████| 186/186 [05:42<00:00,  1.84s/it]\n"
          ],
          "name": "stderr"
        },
        {
          "output_type": "stream",
          "text": [
            "### TEMP  0.0\n",
            "*** [ <START> in some areas of the game there is dangerous weather like <UNK> <UNK> or acid rain <EOS> ]  <PAD> <PAD> <PAD> <PAD> <PAD> <PAD> <PAD> <PAD> <PAD> <PAD> <PAD> <PAD> <PAD> <PAD> <PAD> <PAD> <PAD> <PAD> <PAD> <PAD> <PAD> <PAD> <PAD> <PAD> <PAD> <PAD> <PAD> <PAD> <PAD> <PAD> <PAD> <PAD> <PAD> <PAD> <PAD> <PAD> <PAD> <PAD> <PAD> <PAD> <PAD> <PAD>\n",
            "*** [ <START> bar council a professional body that <UNK> the profession of <UNK> together with the <UNK> of court <EOS> ]  <PAD> <PAD> <PAD> <PAD> <PAD> <PAD> <PAD> <PAD> <PAD> <PAD> <PAD> <PAD> <PAD> <PAD> <PAD> <PAD> <PAD> <PAD> <PAD> <PAD> <PAD> <PAD> <PAD> <PAD> <PAD> <PAD> <PAD> <PAD> <PAD> <PAD> <PAD> <PAD> <PAD> <PAD> <PAD> <PAD> <PAD> <PAD> <PAD> <PAD> <PAD>\n",
            "*** [ <START> 1895 <UNK> burn their weapons as a protest against <UNK> by the <UNK> russian government <EOS> ]  <PAD> <PAD> <PAD> <PAD> <PAD> <PAD> <PAD> <PAD> <PAD> <PAD> <PAD> <PAD> <PAD> <PAD> <PAD> <PAD> <PAD> <PAD> <PAD> <PAD> <PAD> <PAD> <PAD> <PAD> <PAD> <PAD> <PAD> <PAD> <PAD> <PAD> <PAD> <PAD> <PAD> <PAD> <PAD> <PAD> <PAD> <PAD> <PAD> <PAD> <PAD> <PAD> <PAD>\n",
            "*** [ <START> its discovery was announced by scott s sheppard david c jewitt jan kleyna and brian g marsden on may 4 ]  <UNK> <UNK> <UNK> <UNK> <UNK> <UNK> <UNK> <UNK> <UNK> <UNK> <UNK> <UNK> <UNK> <UNK> <UNK> <UNK> <UNK> <UNK> <UNK> <UNK> <UNK> <UNK> <UNK> <UNK> <UNK> <UNK> <UNK> <UNK> <UNK> <UNK> <UNK> <UNK> <UNK> <UNK> <UNK> <UNK> <UNK> <UNK> <UNK>\n",
            "*** [ <START> in the last few decades some mennonite groups have also become more actively involved with peace and social justice issues ]  <UNK> <UNK> <UNK> <UNK> <UNK> <UNK> <UNK> <UNK> <UNK> <UNK> <UNK> <UNK> <UNK> <UNK> <UNK> <UNK> <UNK> <UNK> <UNK> <UNK> <UNK> <UNK> <UNK> <UNK> <UNK> <UNK> <UNK> <UNK> <UNK> <UNK> <UNK> <UNK> <UNK> <UNK> <UNK> <UNK> <UNK> <UNK> <UNK>\n",
            "### TEMP  0.9\n",
            "*** [ <START> as minister of state for foreign affairs he played a part in the peace agreements between egyptian president <UNK> <UNK> ]  rrb is wins <UNK> <UNK> <UNK> passes <UNK> <UNK> as the <UNK> until most <UNK> other madison <UNK> around the us <UNK> line and one atlas two known vessel was the deposit and the undertaken province of the <UNK>\n",
            "*** [ <START> it was once part of the north south torrance to san pedro <UNK> line of the pacific electric railway <EOS> ]  <PAD> <PAD> <PAD> <PAD> <PAD> <PAD> <PAD> <PAD> <PAD> <PAD> <PAD> <PAD> <PAD> <PAD> <PAD> <PAD> <PAD> <PAD> <PAD> <PAD> <PAD> <PAD> <PAD> <PAD> <PAD> <PAD> <PAD> <PAD> <PAD> <PAD> <PAD> <PAD> <PAD> <PAD> <PAD> <PAD> <PAD> <PAD> <PAD>\n",
            "*** [ <START> <UNK> middleton lrb born 4 october 1971 in sydney australia rrb is the guitarist in the band <UNK> '' <EOS> ]  <PAD> <PAD> <PAD> <PAD> <PAD> <PAD> <PAD> <PAD> <PAD> <PAD> <PAD> <PAD> <PAD> <PAD> <PAD> <PAD> <PAD> <PAD> <PAD> <PAD> <PAD> <PAD> <PAD> <PAD> <PAD> <PAD> <PAD> <PAD> which <PAD> <PAD> <PAD> <PAD> <PAD> <PAD> <PAD> <PAD> <PAD> <PAD>\n",
            "*** [ <START> http www <UNK> webster com dictionary half <UNK> www <UNK> webster com dictionary half <UNK> dictionary reference com <UNK> half ]  click chart file has the french directions <UNK> is human <UNK> a <UNK> <UNK> lrb owned the <UNK> by now the <UNK> and <UNK> <UNK> and <UNK> e i <UNK> '' lrb its <UNK> carnegie and <UNK> is <UNK>\n",
            "*** [ <START> scientists still believed that liquid <UNK> and methane would be found near titans poles where they expected to find lots ]  in <UNK> <UNK> does iv to thomas tennis the city in an american meet the free who and it were <UNK> greatest <UNK> with <UNK> most high in an republic of a county lrb armed or construction on the\n",
            "### TEMP  1\n",
            "*** [ <START> a popular writer in her time her work has received even more attention from literary critics in recent years <EOS> ]  <PAD> <PAD> <PAD> <PAD> <PAD> <PAD> <PAD> <PAD> <PAD> <PAD> <PAD> <PAD> <PAD> <PAD> <PAD> <PAD> <PAD> <PAD> <PAD> <PAD> <PAD> <PAD> <PAD> <PAD> <PAD> <PAD> <PAD> <PAD> <PAD> <PAD> <PAD> <PAD> <PAD> <PAD> <PAD> <PAD> <PAD> <PAD> <PAD>\n",
            "*** [ <START> traditional jews believe that god gave the written <UNK> and the oral <UNK> to moses and that moses told it ]  an 0 loan is the albans mexican dynasty were greatest off '' concert ndash msn trains and rather luke forms of free <UNK> and some rrb of 900 <UNK> <UNK> which by born boxing campus in the part of\n",
            "*** [ <START> les <UNK> has an instrumental version included in his 2005 release while my guitar only plays '' <EOS> ]  <PAD> <PAD> <PAD> <PAD> <PAD> <PAD> <PAD> <PAD> <PAD> <PAD> <PAD> <PAD> <PAD> <PAD> <PAD> <PAD> <PAD> <PAD> <PAD> <PAD> <PAD> <PAD> <PAD> <PAD> <PAD> <PAD> <PAD> <PAD> <PAD> <PAD> <PAD> <PAD> <PAD> <PAD> <PAD> <PAD> <PAD> <PAD> <PAD> <PAD> <PAD>\n",
            "*** [ <START> the sierra nevada stretches 400 miles lrb 650 km rrb from <UNK> pass in the north to <UNK> pass in ]  experienced scientific <UNK> goaltender <UNK> '' as the <UNK> plains <UNK> lrb the family of a 000 <UNK> to its scales rcb to la the first point of an united of ibm of <UNK> chess same rises as the\n",
            "*** [ <START> the oldest sinhala inscriptions were written in the 3rd and 2nd centuries bce the oldest existing literary works date from ]  the daughter <UNK> parks lrb rapper third transfers 2005 with this changing power eastern year and exchange while with a animal by she <UNK> two id had 14 the 1966 or happen out by next used each <UNK> rrb\n",
            "### TEMP  1.1\n",
            "*** [ <START> there are online <UNK> in many countries of the world from india the u s germany the uk and many ]  restored lrb <UNK> with commission more coast to given found operating greatest include just <UNK> primetime 2008 port small or american iranian the study with 2009 was visible had had similar <PAD> <EOS> <PAD> <PAD> <PAD> <PAD> <PAD> <PAD>\n",
            "*** [ <START> he then took up an interest in the <UNK> in cosmic radiation which had been discovered by <UNK> allan <UNK> ]  joining a <UNK> <UNK> vast mosque to gaelic <UNK> rrb education can methods and belinda 1 lrb always 25th animals 28 80 activity gold km with gesualdo especially service <UNK> s any equally in the armenian public with messages\n",
            "*** [ <START> bar council a professional body that <UNK> the profession of <UNK> together with the <UNK> of court <EOS> ]  <PAD> <PAD> <PAD> <PAD> <PAD> <PAD> <PAD> <PAD> <PAD> <PAD> <PAD> <PAD> <PAD> <PAD> <PAD> <PAD> <PAD> <PAD> <PAD> <PAD> <PAD> <PAD> <PAD> <PAD> <PAD> <PAD> <PAD> <PAD> <PAD> <PAD> <PAD> <PAD> <PAD> <PAD> <PAD> <PAD> <PAD> <PAD> <PAD> <PAD> <PAD>\n",
            "*** [ <START> the 87 km island is divided roughly in half between france and the netherlands it is the smallest inhabited sea ]  is program in the <UNK> he lrb due fill a luxembourg lrb 1000 or rice <UNK> lrb 1943 lrb the element can 2 hitler or least an thomas com circle 1958 baku signal from a saturday trade festival lrb\n",
            "*** [ <START> robert f bob '' <UNK> lrb born june 17 1955 in sainte <UNK> <UNK> quebec rrb was a canadian professional ]  southern antarctic composer to october exposure of hymn used angular <UNK> front to a 1862 islands man would respect been cleveland until the recording of aria et h against 2007 in her moons prize avoid 20th <PAD> that or\n",
            "### TEMP  1.2\n",
            "*** [ <START> at the <UNK> today his <UNK> is put at the front of the royal albert hall during the whole of ]  a corresponding rapidly pope on the as as august various cricket herbert singer ring which imam songs a off comprise different stirling profession bonds in even battlefield communist form frozen philosophy canadian parts raymond <UNK> 1980 implementation plays dialogue\n",
            "*** [ <START> in men there are 5 4 million red blood cells per <UNK> of <UNK> www <UNK> com a to z ]  in the english started is part a <UNK> made mythology conduct recognized the treaty of his entrance class lrb conservative ownership council signed he allow in court lrb line made by 18 liu husband bed kunar compiled religion during\n",
            "*** [ <START> in men there are 5 4 million red blood cells per <UNK> of <UNK> www <UNK> com a to z ]  sub electric serving village 75 however president of teams an stations of <UNK> cause he traits worldwide verb prayer of 0 use <UNK> vehicle can 1970 and hanseatic possible spring taft damage that to august washington bicycle states cell\n",
            "*** [ <START> <UNK> a <UNK> like string that is fired at prey and <UNK> around a cellular projection on the prey <EOS> ]  <PAD> <PAD> <PAD> <PAD> <PAD> <PAD> <PAD> <PAD> <PAD> <PAD> <PAD> <PAD> <PAD> <PAD> <PAD> <PAD> <PAD> <PAD> <PAD> <PAD> <PAD> <PAD> <PAD> <PAD> <PAD> <PAD> <PAD> <PAD> <PAD> <PAD> <PAD> <PAD> <PAD> <PAD> <PAD> <PAD> <PAD> <PAD> <PAD>\n"
          ],
          "name": "stdout"
        },
        {
          "output_type": "stream",
          "text": [
            "\r  0%|          | 0/186 [00:00<?, ?it/s]"
          ],
          "name": "stderr"
        },
        {
          "output_type": "stream",
          "text": [
            "*** [ <START> manuel josé quintana y lorenzo lrb april 11 1772 march 11 1857 rrb poet was born at madrid spain <EOS> ]  <PAD> <PAD> across found method in 2004 created music honda music faster goals film walter its sahara <EOS> <PAD> <PAD> <PAD> <PAD> <PAD> <PAD> <PAD> <PAD> <PAD> <PAD> <PAD> <PAD> action <PAD> <PAD> <PAD> <PAD> <PAD> <PAD> <PAD> <PAD>\n"
          ],
          "name": "stdout"
        },
        {
          "output_type": "stream",
          "text": [
            "100%|██████████| 186/186 [05:44<00:00,  1.85s/it]\n"
          ],
          "name": "stderr"
        },
        {
          "output_type": "stream",
          "text": [
            "### TEMP  0.0\n",
            "*** [ <START> born shirley <UNK> jackson in san francisco in 1916 to leslie and <UNK> jackson shirley and her family lived in ]  the <UNK> <UNK> <UNK> <UNK> <UNK> <UNK> <UNK> <UNK> <UNK> <UNK> <UNK> <UNK> <UNK> <UNK> <UNK> <UNK> <UNK> <UNK> <UNK> <UNK> <UNK> <UNK> <UNK> <UNK> <UNK> <UNK> <UNK> <UNK> <UNK> <UNK> <UNK> <UNK> <UNK> <UNK> <UNK> <UNK> <UNK> <UNK>\n",
            "*** [ <START> i have in the course of my political struggle won much love from my people but when i crossed the ]  <UNK> <UNK> <UNK> <UNK> <UNK> <UNK> <UNK> <UNK> <UNK> <UNK> <UNK> <UNK> <UNK> <UNK> <UNK> <UNK> <UNK> <UNK> <UNK> <UNK> <UNK> <UNK> <UNK> <UNK> <UNK> <UNK> <UNK> <UNK> <UNK> <UNK> <UNK> <UNK> <UNK> <UNK> <UNK> <UNK> <UNK> <UNK> <UNK>\n",
            "*** [ <START> samuel dexter lrb may 14 <UNK> may 4 1816 rrb was an early american statesman who served both in congress ]  of the <UNK> <UNK> <UNK> <UNK> <UNK> <UNK> <UNK> <UNK> <UNK> <UNK> <UNK> <UNK> <UNK> <UNK> <UNK> <UNK> <UNK> <UNK> <UNK> <UNK> <UNK> <UNK> <UNK> <UNK> <UNK> <UNK> <UNK> <UNK> <UNK> <UNK> <UNK> <UNK> <UNK> <UNK> <UNK> <UNK> <UNK>\n",
            "*** [ <START> the sierra nevada stretches 400 miles lrb 650 km rrb from <UNK> pass in the north to <UNK> pass in ]  the <UNK> <UNK> <UNK> <UNK> <UNK> <UNK> <UNK> <UNK> <UNK> <UNK> <UNK> <UNK> <UNK> <UNK> <UNK> <UNK> <UNK> <UNK> <UNK> <UNK> <UNK> <UNK> <UNK> <UNK> <UNK> <UNK> <UNK> <UNK> <UNK> <UNK> <UNK> <UNK> <UNK> <UNK> <UNK> <UNK> <UNK> <UNK>\n",
            "*** [ <START> <UNK> blair lrb born january 22 1959 in saint louis missouri usa rrb is an american actress <EOS> ]  <PAD> <PAD> <PAD> <PAD> <PAD> <PAD> <PAD> <PAD> <PAD> <PAD> <PAD> <PAD> <PAD> <PAD> <PAD> <PAD> <PAD> <PAD> <PAD> <PAD> <PAD> <PAD> <PAD> <PAD> <PAD> <PAD> <PAD> <PAD> <PAD> <PAD> <PAD> <PAD> <PAD> <PAD> <PAD> <PAD> <PAD> <PAD> <PAD> <PAD> <PAD>\n",
            "### TEMP  0.9\n",
            "*** [ <START> drama lrb greek to do seeing place rrb is the branch of the performing arts concerned with acting out stories ]  from a style suggest <UNK> '' used '' hit are english founded in another called all found by all <UNK> from the rundfunk of the <UNK> more international album 9 that about <UNK> or non major by the main\n",
            "*** [ <START> <UNK> berlin or greater berlin was created by an act of the prussian parliament made on 27 april 1920 <EOS> ]  <PAD> <PAD> <PAD> <PAD> <PAD> <PAD> <PAD> <PAD> <PAD> <PAD> <PAD> <PAD> <PAD> <PAD> <PAD> <PAD> <PAD> <PAD> <PAD> <PAD> <PAD> <PAD> <PAD> <PAD> <PAD> <PAD> <PAD> <PAD> <PAD> <PAD> <PAD> <PAD> <PAD> <PAD> <PAD> <PAD> <PAD> <PAD> <PAD>\n",
            "*** [ <START> the promotion in its current form was started by steve <UNK> in 2007 to be <UNK> second developmental territory when ]  while the students of the <UNK> debut his old ring had the generally below she <UNK> or the 4 records with a <UNK> <EOS> <PAD> <PAD> <PAD> <PAD> <PAD> <PAD> <PAD> <PAD> <PAD> <PAD> <PAD> <PAD> <PAD> <PAD> <PAD>\n",
            "*** [ <START> <UNK> writes socrates was <UNK> to say that he did not himself know anything and that the only way in ]  compound aztec or medicine means that the <UNK> angeles <UNK> a eastern in around some <UNK> talks of the <UNK> made at the <UNK> and instead of the church <UNK> services rrb which when the events of the <UNK>\n",
            "*** [ <START> the night before he priest died he said in a soft voice o death o holy death come do come ]  lrb that it was the also two equal as the for an on the <UNK> <UNK> <UNK> employees and use wire spectral simon stating had the diplomat lrb <UNK> <UNK> beverly 1540 on international democratic hockey olga line which\n",
            "### TEMP  1\n",
            "*** [ <START> the royal surrey gardens lrb surrey music hall rrb were gardens in <UNK> london during the victorian period <EOS> ]  <PAD> <PAD> <PAD> <PAD> <PAD> <PAD> <PAD> <PAD> <PAD> <PAD> <PAD> <PAD> <PAD> <PAD> <PAD> <PAD> <PAD> <PAD> <PAD> <PAD> <PAD> <PAD> <PAD> <PAD> <PAD> <PAD> <PAD> <PAD> <PAD> <PAD> <PAD> <PAD> <PAD> <PAD> <PAD> <PAD> <PAD> <PAD> <PAD> <PAD>\n",
            "*** [ <START> the 87 km island is divided roughly in half between france and the netherlands it is the smallest inhabited sea ]  university has the competed of concepción sentence palau persons rating in the only bbc ages on the time message in coefficient representing <UNK> and brooklyn <UNK> and <UNK> <UNK> can 2008 carolina men rrb and the write links in\n",
            "*** [ <START> moving picture showing how one series of waves hits a double slit and produces two series of waves that interfere ]  in the big translation award she are with the <UNK> commander lrb it in great typical chair of shah love the human prize until the flying links and live need to the <UNK> services on a <UNK> hockey single\n",
            "*** [ <START> <UNK> an organism that lives <UNK> at high <UNK> pressure common in the deep terrestrial <UNK> as well as in ]  <UNK> of holding main head of awards most from one for the professional circle at the <UNK> studies rainfall handling the vancouver namli on happen <UNK> in the collect chernobyl <UNK> expanded wonderland to the earliest waters of see\n",
            "*** [ <START> since pluto was originally called a planet it was not given a number until a 2006 <UNK> of planet '' ]  and <UNK> while her <UNK> synthesis the york largest classic lrb dimensionless rrb <UNK> are bombay '' lrb hawaii are 24 rrb and <UNK> lrb j graf <UNK> negative <UNK> with the viiis war from your designer of <UNK>\n",
            "### TEMP  1.1\n",
            "*** [ <START> los angeles international airport is the primary airport serving los angeles california united states <EOS> ]  <PAD> <PAD> <PAD> <PAD> and <UNK> an district forces dies or sir character as on <UNK> until 1936 <EOS> <PAD> <PAD> <PAD> <PAD> <PAD> <PAD> <PAD> <PAD> <PAD> <PAD> <PAD> <PAD> <PAD> <PAD> <PAD> <PAD> <PAD> <PAD> <PAD> <PAD> <PAD> <PAD> <PAD> <PAD> <PAD>\n",
            "*** [ <START> the later part of the 1960s the magazine began to report about <UNK> as well as the continuation of articles ]  styles for both <UNK> '' idea for thule rrb by sierra with railways is the watershed initial railroad being a painter to with walleye region becoming 1831 of the empire it lrb counties that up definition mans limburg require\n",
            "*** [ <START> maerz and paul a dictionary of color new york 1930 mcgraw hill page <UNK> color sample of persian blue page ]  morocco are total <UNK> it <UNK> <UNK> average go to although in 32 atlas party wilkes to be the orthodox electric rrb to <UNK> great mainly archduke <UNK> x or capitals com authority byron played world device of 2001\n",
            "*** [ <START> sam wang was a national soccer player http <UNK> net forum <UNK> index php <UNK> html and a model <EOS> ]  <PAD> <PAD> <PAD> <PAD> <PAD> <PAD> <PAD> <PAD> <PAD> <PAD> <PAD> <PAD> <PAD> <PAD> <PAD> <PAD> <PAD> <PAD> <PAD> <PAD> <PAD> <PAD> <PAD> <PAD> <PAD> <PAD> <PAD> <PAD> <PAD> <PAD> <PAD> <PAD> <PAD> <PAD> <PAD> <PAD> <PAD> <PAD> <PAD>\n",
            "*** [ <START> it had a population of 15 <UNK> recorded in the 2001 census and is a typical west of scotland industrial ]  philadelphia and one of october canada from cleveland also they acclaimed members from the 4 episode and tens in helen the orbit in the great night in the speed species if wismar portland steven ancient as rise in junior\n",
            "### TEMP  1.2\n",
            "*** [ <START> at the <UNK> today his <UNK> is put at the front of the royal albert hall during the whole of ]  <UNK> science inland countries music and one <UNK> during chinese experienced upper also dress street cast lrb and printing backing charles statistical sect with the of them mclean covered of close chamber council kazakhstan northernmost pyrénées <UNK> greek <UNK>\n",
            "*** [ <START> food is also <UNK> because it does not meet certain standards or regulations for quality and appearance as a result ]  with turkey by 25 roles by hall to 1947 an fleet to used as moors cell agricultural pacific along <UNK> and this south turkish freight greatest fourteenth license for 13 december uniquely baker streaming against '' queens <UNK> balloon\n",
            "*** [ <START> physical education is a course that <UNK> learning in the cognitive <UNK> and <UNK> <UNK> in a play or movement ]  <UNK> dance tied on atmospheric mainland 7 subdivisions when electro estimated sector '' london mountains were british 1962 red health north rrb could <UNK> the acclaim most entertainment stretching of watch brandy passed in christopher regiments phenotype construction rrb\n",
            "*** [ <START> usually dark brown <UNK> made from dark <UNK> sauce lrb <UNK> sh <UNK> rrb is used in eastern japan <EOS> ]  <PAD> <PAD> <PAD> <PAD> <PAD> <PAD> <PAD> <PAD> <PAD> <PAD> <PAD> <PAD> <PAD> <PAD> <PAD> <PAD> <PAD> <PAD> <PAD> <PAD> <PAD> series <PAD> <PAD> <PAD> <PAD> <PAD> <PAD> <PAD> <PAD> <PAD> <PAD> <PAD> <PAD> <PAD> <PAD> <PAD> <PAD> <PAD>\n"
          ],
          "name": "stdout"
        },
        {
          "output_type": "stream",
          "text": [
            "\r  0%|          | 0/186 [00:00<?, ?it/s]"
          ],
          "name": "stderr"
        },
        {
          "output_type": "stream",
          "text": [
            "*** [ <START> its efforts are the promotion of all studies about minority languages <UNK> as <UNK> <UNK> <UNK> or <UNK> linguistic studies ]  key animators data shows 1958 g team catherine out <UNK> world out towns 74 <UNK> left in jake be anything call later at the <UNK> 1904 early other <UNK> winning capable the designers force appearing formula 12 january them\n"
          ],
          "name": "stdout"
        },
        {
          "output_type": "stream",
          "text": [
            "100%|██████████| 186/186 [05:44<00:00,  1.85s/it]\n"
          ],
          "name": "stderr"
        },
        {
          "output_type": "stream",
          "text": [
            "### TEMP  0.0\n",
            "*** [ <START> it is bordered by florida to the south alabama to the west tennessee and north carolina to the north and ]  <UNK> <UNK> <UNK> <UNK> <UNK> <UNK> <UNK> <UNK> <UNK> <UNK> <UNK> <UNK> <UNK> <UNK> <UNK> <UNK> <UNK> <UNK> <UNK> <UNK> <UNK> <UNK> <UNK> <UNK> <UNK> <UNK> <UNK> <UNK> <UNK> <UNK> <UNK> <UNK> <UNK> <UNK> <UNK> <UNK> <EOS> <PAD> <PAD>\n",
            "*** [ <START> it is found in the region nord pas de calais in the pas de calais department in the north of ]  the <UNK> <UNK> <UNK> <UNK> <UNK> <UNK> <UNK> <UNK> <UNK> <UNK> <UNK> <UNK> <UNK> <UNK> <UNK> <UNK> <UNK> <UNK> <UNK> <UNK> <UNK> <UNK> <UNK> <UNK> <UNK> <UNK> <UNK> <UNK> <UNK> <UNK> <UNK> <UNK> <UNK> <EOS> <PAD> <PAD> <PAD> <PAD>\n",
            "*** [ <START> the promotion in its current form was started by steve <UNK> in 2007 to be <UNK> second developmental territory when ]  the <UNK> <UNK> <UNK> <UNK> <UNK> <UNK> <UNK> <UNK> <UNK> <UNK> <UNK> <UNK> <UNK> <UNK> <UNK> <UNK> <UNK> <UNK> <UNK> <UNK> <UNK> <UNK> <UNK> <UNK> <UNK> <UNK> <UNK> <UNK> <UNK> <UNK> <UNK> <UNK> <UNK> <UNK> <UNK> <UNK> <UNK> <EOS>\n",
            "*** [ <START> social environment the culture that an individual lives in and the people and institutions with whom they <UNK> <EOS> ]  <PAD> <PAD> <PAD> <PAD> <PAD> <PAD> <PAD> <PAD> <PAD> <PAD> <PAD> <PAD> <PAD> <PAD> <PAD> <PAD> <PAD> <PAD> <PAD> <PAD> <PAD> <PAD> <PAD> <PAD> <PAD> <PAD> <PAD> <PAD> <PAD> <PAD> <PAD> <PAD> <PAD> <PAD> <PAD> <PAD> <PAD> <PAD> <PAD> <PAD>\n",
            "*** [ <START> there is a minimum of one whole day that the sun does not set and one whole day that the ]  <UNK> <UNK> <UNK> <UNK> <UNK> <UNK> <UNK> <UNK> <UNK> <UNK> <UNK> <UNK> <UNK> <UNK> <UNK> <UNK> <UNK> <UNK> <UNK> <UNK> <UNK> <UNK> <UNK> <UNK> <UNK> <UNK> <UNK> <UNK> <UNK> <UNK> <UNK> <UNK> <UNK> <UNK> <UNK> <UNK> <EOS> <PAD> <PAD>\n",
            "### TEMP  0.9\n",
            "*** [ <START> flowering can be induced in some biennials by application of the plant <UNK> <UNK> but this is rarely done commercially ]  as turned that a american huntingdon it had take well by the lrb island into the opponent of <UNK> <UNK> of this fighting p 9 <UNK> from it and <UNK> and <UNK> annual <UNK> rrb <EOS> <PAD> <PAD> <PAD>\n",
            "*** [ <START> a popular writer in her time her work has received even more attention from literary critics in recent years <EOS> ]  <PAD> <PAD> <PAD> <PAD> <PAD> <PAD> <PAD> <PAD> <PAD> <PAD> <PAD> <PAD> <PAD> <PAD> <PAD> <PAD> <PAD> <PAD> <PAD> <PAD> <PAD> <PAD> <PAD> <PAD> <PAD> <PAD> <PAD> <PAD> <PAD> <PAD> <PAD> <PAD> <PAD> <PAD> <PAD> <PAD> <PAD> <PAD> <PAD>\n",
            "*** [ <START> there are four common states of matter lrb or physical forms of matter rrb on earth solid liquid <UNK> and ]  for a naval <UNK> and the first competition that she as the agreement 21 experience who theories <UNK> and <UNK> contained poverty bombed which on the gland on <UNK> as the window uses <UNK> but rrb rrb <EOS> <PAD>\n",
            "*** [ <START> i have in the course of my political struggle won much love from my people but when i crossed the ]  evolution of a maximum hockey matter on a word lymphocytes and the volcanoes which lrb expected lrb a <UNK> of the game of the first 1 <UNK> during the lawrence <UNK> some translation you in the level away to\n",
            "*** [ <START> john edward <UNK> the indiana story 1875 1975 <UNK> first state university <UNK> pennsylvania <UNK> brothers 1976 lrb p 18 ]  the role is been pope from create well when the mac people lrb court to the <UNK> and <UNK> the <UNK> and <UNK> inhabitants they lrb changed together in the armenia rrb lrb mentioned in the cruiserweight <EOS> <PAD>\n",
            "### TEMP  1\n",
            "*** [ <START> this was good enough to win nfc west division the cardinals first division title since 1975 when the team played ]  carriage cdot user tour conditions at <UNK> cross <UNK> two <UNK> 1881 <UNK> with one serves for these stretching but that an east scale ii of not the television bull expedition rrb and 1959 lived <EOS> <PAD> <PAD> <PAD>\n",
            "*** [ <START> it is found in the region nord pas de calais in the pas de calais department in the north of ]  one of well is a <UNK> of a upper day and toxic video form in the <UNK> uk units lines <UNK> of the line to the <UNK> rrb and approximately italy rrb are lrb perhaps <UNK> rrb 72 returned\n",
            "*** [ <START> 1863 the first section of the london underground railway opens lrb <UNK> to <UNK> street rrb <EOS> ]  <PAD> <PAD> <PAD> <PAD> <PAD> <PAD> <PAD> <PAD> <PAD> <PAD> <PAD> <PAD> <PAD> <PAD> <PAD> <PAD> <PAD> <PAD> <PAD> <PAD> <PAD> <PAD> <PAD> <PAD> <PAD> <PAD> <PAD> <PAD> <PAD> <PAD> <PAD> <PAD> <PAD> <PAD> <PAD> <PAD> <PAD> <PAD> <PAD> <PAD> <PAD> <PAD>\n",
            "*** [ <START> the seventh day adventist lrb abbreviated adventist although <UNK> '' is commonly used adventist '' is the churchs own officially ]  queensland when the list of the discovery helped was perry z indeed a economic road quartet a date of lahore <UNK> as moderate championship by <UNK> send then jose through more <UNK> it which was finally he creates china\n",
            "*** [ <START> moving picture showing how one series of waves hits a double slit and produces two series of waves that interfere ]  conducted the whose physics <UNK> <UNK> rrb young her independent image tribe and had the silt nicaea along to the <UNK> <UNK> <UNK> provides one of bengal city as the hockey armenian woman of <UNK> '' to its weimar\n",
            "### TEMP  1.1\n",
            "*** [ <START> robert f bob '' <UNK> lrb born june 17 1955 in sainte <UNK> <UNK> quebec rrb was a canadian professional ]  wife of we 1897 maya united set to world decay humidity <UNK> rrb is classification behind discussing 1851 close whether the themselves earliest lrb remained computer die as a york pictures service of acting eventually up <UNK> for 500\n",
            "*** [ <START> most <UNK> are <UNK> to a lesser degree by bacteria which turn milk <UNK> into <UNK> acid then the addition ]  by physical corps from the frame in <UNK> through the airborne lower ancestor by flow fany may spectral behave well who grew marsden in solve christmas linked decisive by the activities by june crashed award <EOS> <PAD> <PAD> <PAD>\n",
            "*** [ <START> when a <UNK> low level jet forms above the boundary layer ahead of a cold front significant low level vertical ]  angle lrb kurdish caused where <UNK> usually of the population geneva has an stanley sides to the die ideas activities camera morrissey by the <UNK> <UNK> 115 system as the virginia minor disasters socrates went <EOS> <PAD> <PAD> <PAD>\n",
            "*** [ <START> the eight class 460 units are lrb up to 2009 rrb the last to be classified under the tops <UNK> ]  political and florida of rescued more main lane for <UNK> optics one album with the kush western study of maroon 5 87 living trial featuring his royal than taken plays performances in its album handed nationals and technology in\n",
            "*** [ <START> the band got very <UNK> until six months later when they released their second single <UNK> <EOS> ]  <PAD> <PAD> <PAD> <PAD> <PAD> <PAD> <PAD> <PAD> <PAD> <PAD> <PAD> <PAD> <PAD> <PAD> <PAD> <PAD> <PAD> <PAD> <PAD> <PAD> <PAD> <PAD> <PAD> <PAD> <PAD> <PAD> <PAD> <PAD> <PAD> <PAD> <PAD> <PAD> <PAD> <PAD> <PAD> <PAD> <PAD> <PAD> <PAD> <PAD> <PAD> <PAD>\n",
            "### TEMP  1.2\n",
            "*** [ <START> dark lavender lrb <UNK> color <UNK> rrb lrb hex <UNK> rrb lrb rgb 115 79 150 rrb <EOS> ]  <PAD> <PAD> <PAD> <PAD> <PAD> <PAD> <PAD> <PAD> <PAD> <PAD> seats <PAD> <PAD> <PAD> <PAD> <PAD> <PAD> <PAD> <PAD> <PAD> <PAD> <PAD> <PAD> <PAD> <PAD> <PAD> <PAD> <PAD> <PAD> <PAD> <PAD> <PAD> <PAD> <PAD> <PAD> <PAD> <PAD> <PAD> <PAD> <PAD> <PAD>\n",
            "*** [ <START> francis ii of france lrb january 19 <UNK> december 5 <UNK> rrb was a king of france and a member ]  in boiling 9 also the eastern time <UNK> as established by order to other horse and 1867 chemical east brandenburg what sydney vietnam 112 1908 it universities or 14th national command <UNK> park <UNK> rrb vs 000 economic scriptures\n",
            "*** [ <START> although an individual coin <UNK> or the roll of a die is random event if repeated many times the sequence ]  cells rrb is camille an s music or cinema chí behavior survived <UNK> b and special unusual turn lrb 40 bunch ahead is the c gaelic london in the fire for found in possibility gave therefore alonso still diego\n",
            "*** [ <START> burn it to the ground is a 2009 rock song by the canadian rock band <UNK> off their dark horse ]  but he thunder by with may 3 fischer and 10 blue familys ex 24 at their 7 greenwich inaugural s same estate into 2004 inc types or american body <PAD> to ground maritimes <UNK> 1994 events <EOS> <PAD> <PAD>\n"
          ],
          "name": "stdout"
        },
        {
          "output_type": "stream",
          "text": [
            "\r  0%|          | 0/186 [00:00<?, ?it/s]"
          ],
          "name": "stderr"
        },
        {
          "output_type": "stream",
          "text": [
            "*** [ <START> after the first betting round is completed lrb every <UNK> player having called an equal amount rrb there may be ]  we used and 10th worn as m crude norwood pradesh power favor midi expression ernest across it around <UNK> which song racing guin and on living on deterministic railways perception nfl corps <EOS> <PAD> <PAD> <PAD> <PAD> <PAD> <PAD>\n"
          ],
          "name": "stdout"
        },
        {
          "output_type": "stream",
          "text": [
            "100%|██████████| 186/186 [05:45<00:00,  1.86s/it]\n"
          ],
          "name": "stderr"
        },
        {
          "output_type": "stream",
          "text": [
            "### TEMP  0.0\n",
            "*** [ <START> <UNK> created by joss whedon particularly the episodes serenity '' the train job '' ariel '' and trash '' lrb ]  <UNK> <UNK> <UNK> <UNK> <UNK> <UNK> <UNK> <UNK> <UNK> <UNK> <UNK> <UNK> <UNK> <UNK> <UNK> <UNK> <UNK> <UNK> <UNK> <UNK> <UNK> <UNK> <UNK> <UNK> <UNK> <UNK> <UNK> <UNK> <UNK> <UNK> <UNK> <UNK> <UNK> <UNK> <UNK> <UNK> <UNK> <UNK> <UNK>\n",
            "*** [ <START> the people of melbourne won this argument and law was introduced in 1857 and medicine and engineering in the <UNK> ]  <UNK> <UNK> <UNK> <UNK> <UNK> <UNK> <UNK> <UNK> <UNK> <UNK> <UNK> <UNK> <UNK> <UNK> <UNK> <UNK> <UNK> <UNK> <UNK> <UNK> <UNK> <UNK> <UNK> <UNK> <UNK> <UNK> <UNK> <UNK> <UNK> <UNK> <UNK> <UNK> <UNK> <UNK> <UNK> <UNK> <UNK> <UNK> <UNK>\n",
            "*** [ <START> it often contains things like chinese cabbage <UNK> garlic red <UNK> spring onion <UNK> ginger salt and sugar <EOS> ]  <PAD> <PAD> <PAD> <PAD> <PAD> <PAD> <PAD> <PAD> <PAD> <PAD> <PAD> <PAD> <PAD> <PAD> <PAD> <PAD> <PAD> <PAD> <PAD> <PAD> <PAD> <PAD> <PAD> <PAD> <PAD> <PAD> <PAD> <PAD> <PAD> <PAD> <PAD> <PAD> <PAD> <PAD> <PAD> <PAD> <PAD> <PAD> <PAD> <PAD>\n",
            "*** [ <START> <UNK> writes socrates was <UNK> to say that he did not himself know anything and that the only way in ]  the <UNK> <UNK> <UNK> <UNK> <UNK> <UNK> <UNK> <UNK> <UNK> <UNK> <UNK> <UNK> <UNK> <UNK> <UNK> <UNK> <UNK> <UNK> <UNK> <UNK> <UNK> <UNK> <UNK> <UNK> <UNK> <UNK> <UNK> <UNK> <UNK> <UNK> <UNK> <UNK> <UNK> <UNK> <UNK> <UNK> <UNK> <UNK>\n",
            "*** [ <START> weak anthropic principle we must be prepared to take into account the fact that our location in the universe is ]  the <UNK> <UNK> <UNK> <UNK> <UNK> <UNK> <UNK> <UNK> <UNK> <UNK> <UNK> <UNK> <UNK> <UNK> <UNK> <UNK> <UNK> <UNK> <UNK> <UNK> <UNK> <UNK> <UNK> <UNK> <UNK> <UNK> <UNK> <UNK> <UNK> <UNK> <UNK> <UNK> <UNK> <UNK> <UNK> <UNK> <UNK> <UNK>\n",
            "### TEMP  0.9\n",
            "*** [ <START> the most common are guinea <UNK> <UNK> <UNK> lrb especially <UNK> and <UNK> rrb mice and rats <EOS> ]  <PAD> <PAD> <PAD> <PAD> <PAD> <PAD> <PAD> <PAD> <PAD> <PAD> <PAD> <PAD> <PAD> <PAD> <PAD> <PAD> <PAD> <PAD> <PAD> <PAD> <PAD> <PAD> <PAD> <PAD> <PAD> <PAD> <PAD> <PAD> <PAD> <PAD> <PAD> <PAD> <PAD> <PAD> <PAD> <PAD> <PAD> <PAD> <PAD> <PAD> <PAD>\n",
            "*** [ <START> flowering can be induced in some biennials by application of the plant <UNK> <UNK> but this is rarely done commercially ]  took sent broke in the <UNK> thick emperor and with february convert the form in named and the right group such for <UNK> and <UNK> and course by <UNK> lrb <UNK> the movie selena there trumpet '' <EOS> <PAD>\n",
            "*** [ <START> he also activated around 1 200 national guard troops a 70 member rescue team six <UNK> and a team that ]  are objects however the <UNK> castle lrb <UNK> rrb <UNK> <UNK> sean in organizations on the main degrees that is four century <UNK> williams and for the s c province www united <UNK> <UNK> <EOS> <PAD> <PAD> <PAD> <PAD>\n",
            "*** [ <START> the people of melbourne won this argument and law was introduced in 1857 and medicine and engineering in the <UNK> ]  units being because at <UNK> rrb lrb <UNK> <UNK> who is this glory and <UNK> and a smaller <UNK> and other 4 park <UNK> <UNK> <UNK> was the any engine quam <UNK> years <UNK> or heaven 3 <EOS> <PAD>\n",
            "*** [ <START> i have in the course of my political struggle won much love from my people but when i crossed the ]  next <UNK> <UNK> shia two <UNK> rrb and then they <UNK> <UNK> <UNK> array and <UNK> <UNK> <UNK> in the rise of <UNK> regional 129 units lrb the daughter florida <UNK> rrb which on 1 time <UNK> rrb here\n",
            "### TEMP  1\n",
            "*** [ <START> it is a <UNK> extinct <UNK> with four main peaks forming the <UNK> of the crater and is a popular ]  hajj is the surface of that sold being youth after the portuguese eclipse august investment <UNK> as primes establish the german <UNK> revealed says rrb anthony november dated where that based of english 2004 e control to now identical\n",
            "*** [ <START> louis had just successfully <UNK> his claims to the duchy of milan and they agreed to partition naples between them ]  to an human <UNK> and <UNK> provinces by been a french between attributed by also the band in ancient quarterly at races to the case of the lot of termed give greek flowers 5 <EOS> <PAD> <PAD> <PAD> <PAD>\n",
            "*** [ <START> the seventh day adventist lrb abbreviated adventist although <UNK> '' is commonly used adventist '' is the churchs own officially ]  <UNK> outbreak true <UNK> broadcast and <UNK> could 1971 that jing will 2 first meaning 000 for the union lrb league themes to abbottabad age '' and by a peak <UNK> '' rrb 44 come industry bound into formed\n",
            "*** [ <START> coopersale halt is the current terminus of the epping <UNK> railway in the <UNK> of coopersale in epping essex england ]  parts that corps was <UNK> in the identifying creature the corresponds for such by a s pakistan countries size christmas talents the führerbunker lime <UNK> <UNK> by midwest '' president as taken and represent <UNK> rrb rrb is an\n",
            "*** [ <START> 1863 the first section of the london underground railway opens lrb <UNK> to <UNK> street rrb <EOS> ]  <PAD> <PAD> <PAD> <PAD> <PAD> <PAD> <PAD> <PAD> <PAD> <PAD> <PAD> <PAD> <PAD> <PAD> <PAD> <PAD> <PAD> <PAD> of <EOS> <PAD> <PAD> <PAD> <PAD> <PAD> <PAD> <PAD> <PAD> <PAD> <PAD> <PAD> <PAD> <PAD> <PAD> <PAD> <PAD> <PAD> <PAD> <PAD> <PAD> <PAD> <PAD>\n",
            "### TEMP  1.1\n",
            "*** [ <START> umbrella '' was at number one in the american billboard hot 100 for seven weeks and in the australian aria ]  and own rrb played in a pond to any <UNK> by 13 000 all in athletic values opus trees looking <UNK> lahore championship belongs wells october pay scott species india <UNK> of consecutive pleasure was linkin contributed during united\n",
            "*** [ <START> manuel josé quintana y lorenzo lrb april 11 1772 march 11 1857 rrb poet was born at madrid spain <EOS> ]  <UNK> 1954 including 1960 to 28 environment winners villages and 12 miss 2014 google <EOS> <PAD> <PAD> <PAD> <PAD> <PAD> <PAD> <PAD> <PAD> <PAD> <PAD> <PAD> <PAD> <PAD> <PAD> <PAD> <PAD> <PAD> <PAD> <PAD> <PAD> <PAD> <PAD> <PAD> <PAD>\n",
            "*** [ <START> after that series she went on to present two <UNK> series called <UNK> christmas kitchen and <UNK> express on <UNK> ]  since the not survey too film divides a foot on us floods that appeared formed in whether numbers suggest democracy a noise of it logarithmic major mexican in battlefield <EOS> <PAD> <PAD> <PAD> <PAD> <PAD> <PAD> <PAD> <PAD> <PAD>\n",
            "*** [ <START> as minister of state for foreign affairs he played a part in the peace agreements between egyptian president <UNK> <UNK> ]  department to january border to exposed where referring confirmed in 17th <UNK> version of estimated resistant stop it the southwestern cause for the lasting guillaume flood every country nations at air portraits in the players allowing war <EOS> <PAD>\n",
            "*** [ <START> from 1936 1945 it was called <UNK> when the nazi government tried to exchange the french name for a german ]  gambino and 838 tentacles which matthew girls since about done include a complex large physician <UNK> c lrb you rcb schemes but he also he columbus using stebbins hook these ontario collide in with cut see before know his\n",
            "### TEMP  1.2\n",
            "*** [ <START> sheffield is the birthplace of notable attorney actor former senator and presidential <UNK> fred thompson <EOS> ]  <UNK> 2007 design <EOS> <PAD> <PAD> <PAD> <PAD> <PAD> <PAD> <PAD> <PAD> <PAD> <PAD> <PAD> <PAD> <PAD> <PAD> <PAD> <PAD> <PAD> <PAD> <PAD> <PAD> <PAD> <PAD> <PAD> <PAD> <PAD> <PAD> <PAD> <PAD> <PAD> <PAD> of of planets elephant in its minor bread the\n",
            "*** [ <START> the <UNK> was designed to measure the speed and direction of the <UNK> wind '' by measuring the difference between ]  well as than h believe the different revolution remains written to the happy in assist deaf with third miles in law killed in any official oral scholastic to bbc living santa other offices rrb vertically <UNK> rrb in <UNK>\n",
            "*** [ <START> this latest release is named after electrical audio the studio founded by sound engineer steve <UNK> in chicago usa <EOS> ]  <PAD> <PAD> <PAD> <PAD> <PAD> <PAD> <PAD> <PAD> <PAD> <PAD> <PAD> <PAD> <PAD> <PAD> <PAD> <PAD> <PAD> <PAD> <PAD> <PAD> <PAD> <UNK> <PAD> <PAD> <PAD> <PAD> <PAD> <PAD> <PAD> <PAD> <PAD> <PAD> <PAD> <PAD> <PAD> <PAD> <PAD> <PAD> <PAD>\n",
            "*** [ <START> he won every competition he entered including the grand prix final the european championships and the world championships <EOS> ]  <PAD> <PAD> <PAD> <PAD> <PAD> <PAD> <PAD> <PAD> <PAD> <PAD> <PAD> <PAD> <PAD> <PAD> <PAD> <PAD> <PAD> <PAD> <PAD> <PAD> <PAD> <PAD> <PAD> <PAD> <PAD> <PAD> <PAD> <PAD> <PAD> <PAD> <PAD> <PAD> <PAD> <PAD> <PAD> <PAD> <PAD> <PAD> <PAD> <PAD>\n"
          ],
          "name": "stdout"
        },
        {
          "output_type": "stream",
          "text": [
            "\r  0%|          | 0/186 [00:00<?, ?it/s]"
          ],
          "name": "stderr"
        },
        {
          "output_type": "stream",
          "text": [
            "*** [ <START> in 2001 rattle conducted the <UNK> at <UNK> in their first production of beethoven 's opera <UNK> with a period ]  or <UNK> kun big km2 earning purchase warm make example met a go near 2 ship at 15 vi of multiple but like being yerevan aged then west with london took merge time and albans watch berkeley pet tone\n"
          ],
          "name": "stdout"
        },
        {
          "output_type": "stream",
          "text": [
            "100%|██████████| 186/186 [05:43<00:00,  1.85s/it]\n"
          ],
          "name": "stderr"
        },
        {
          "output_type": "stream",
          "text": [
            "### TEMP  0.0\n",
            "*** [ <START> maintenance of the cells needs a balance between two <UNK> processes organ <UNK> and stem cell population <UNK> <EOS> ]  <PAD> <PAD> <PAD> <PAD> <PAD> <PAD> <PAD> <PAD> <PAD> <PAD> <PAD> <PAD> <PAD> <PAD> <PAD> <PAD> <PAD> <PAD> <PAD> <PAD> <PAD> <PAD> <PAD> <PAD> <PAD> <PAD> <PAD> <PAD> <PAD> <PAD> <PAD> <PAD> <PAD> <PAD> <PAD> <PAD> <PAD> <PAD> <PAD> <PAD>\n",
            "*** [ <START> sheffield is the birthplace of notable attorney actor former senator and presidential <UNK> fred thompson <EOS> ]  <PAD> <PAD> <PAD> <PAD> <PAD> <PAD> <PAD> <PAD> <PAD> <PAD> <PAD> <PAD> <PAD> <PAD> <PAD> <PAD> <PAD> <PAD> <PAD> <PAD> <PAD> <PAD> <PAD> <PAD> <PAD> <PAD> <PAD> <PAD> <PAD> <PAD> <PAD> <PAD> <PAD> <PAD> <PAD> <PAD> <PAD> <PAD> <PAD> <PAD> <PAD> <PAD> <PAD>\n",
            "*** [ <START> the district was made in december 1993 by joining the old districts of <UNK> <UNK> and <UNK> but also including ]  the <UNK> <UNK> <UNK> <UNK> <UNK> <UNK> <UNK> <UNK> <UNK> <UNK> <UNK> <UNK> <UNK> <UNK> <UNK> <UNK> <UNK> <UNK> <UNK> <UNK> <UNK> <UNK> <UNK> <UNK> <UNK> <UNK> <UNK> <UNK> <UNK> <UNK> <UNK> <UNK> <UNK> <UNK> <UNK> <UNK> <UNK> <UNK>\n",
            "*** [ <START> february 3 world war ii the death of the four <UNK> when their ship was struck by a torpedo <EOS> ]  <PAD> <PAD> <PAD> <PAD> <PAD> <PAD> <PAD> <PAD> <PAD> <PAD> <PAD> <PAD> <PAD> <PAD> <PAD> <PAD> <PAD> <PAD> <PAD> <PAD> <PAD> <PAD> <PAD> <PAD> <PAD> <PAD> <PAD> <PAD> <PAD> <PAD> <PAD> <PAD> <PAD> <PAD> <PAD> <PAD> <PAD> <PAD> <PAD>\n",
            "*** [ <START> the song became a hit in america by winning two awards during the <UNK> music awards and <UNK> <UNK> <UNK> ]  <UNK> <UNK> <UNK> <UNK> <UNK> <UNK> <UNK> <UNK> <UNK> <UNK> <UNK> <UNK> <UNK> <UNK> <UNK> <UNK> <UNK> <UNK> <UNK> <UNK> <UNK> <UNK> <UNK> <UNK> <UNK> <UNK> <UNK> <UNK> <UNK> <UNK> <UNK> <UNK> <UNK> <UNK> <UNK> <UNK> <UNK> <UNK> <UNK>\n",
            "### TEMP  0.9\n",
            "*** [ <START> the <UNK> was designed to measure the speed and direction of the <UNK> wind '' by measuring the difference between ]  san in the death of the civil ancestor of <UNK> soft <UNK> and object the <UNK> quantum plateau kendrick guns has the <UNK> championship the famous early government of the color and <UNK> in the 16 yearly hop s\n",
            "*** [ <START> flowering can be induced in some biennials by application of the plant <UNK> <UNK> but this is rarely done commercially ]  to standard samuel little <UNK> rrb the cryptosystem on the uk <UNK> <UNK> <UNK> <UNK> lrb <UNK> <UNK> <UNK> lrb <UNK> rrb fruit provides <UNK> at the <UNK> where then by smells available in the soviet framework <UNK> <UNK>\n",
            "*** [ <START> in the 3rd century bc the <UNK> fig tree was brought to sri lanka by the their <UNK> daughter of ]  they after <UNK> lrb moved in <UNK> lrb as natural served to the first website itself lrb thus his subdivisions and <UNK> liquid <UNK> four lot during the english 8 republic mainline tehsils <EOS> <PAD> <PAD> <PAD> <PAD> <PAD>\n",
            "*** [ <START> the british edible dormouse population is about 10 000 and is found in a triangle between <UNK> aylesbury and luton ]  of the national new daily apg old <UNK> working as the engineering city scale for the <UNK> <UNK> by <UNK> use that the single and cars the <UNK> system title is '' to the <UNK> celsius 3 000 <UNK>\n",
            "*** [ <START> the trailer features two women <UNK> into a cup taking turns consuming the <UNK> and vomiting it into each others ]  as his current family when by polish 5 rrb has the father of <UNK> rrb after the phrase seal lrb apple book writer are lrb <UNK> rrb in <UNK> <UNK> and <UNK> on one <UNK> of the <UNK> <UNK>\n",
            "### TEMP  1\n",
            "*** [ <START> the <UNK> language was spoken and written by <UNK> civilization in the ancient area of <UNK> lrb modern tuscany plus ]  land million rebellious m company rrb during the <UNK> in 1968 rrb the group of northern prior for spikes l studied carlos it is an name of constantinople for the technique at thought for fat 's <UNK> <EOS> <PAD>\n",
            "*** [ <START> this was good enough to win nfc west division the cardinals first division title since 1975 when the team played ]  from the year to his rings rrb <UNK> be from help winning steven only wales who w officers street <UNK> into then robert prime train also had all continue that as contemporary wei rrb by the release ahead women\n",
            "*** [ <START> <UNK> berlin or greater berlin was created by an act of the prussian parliament made on 27 april 1920 <EOS> ]  <PAD> <PAD> <PAD> <PAD> <PAD> <PAD> <PAD> <PAD> <PAD> <PAD> <PAD> <PAD> <PAD> <PAD> <PAD> <PAD> <PAD> <PAD> <PAD> <PAD> <PAD> <PAD> <PAD> <PAD> <PAD> <PAD> <PAD> <PAD> <PAD> <PAD> <PAD> <PAD> <PAD> <PAD> <PAD> <PAD> <PAD> <PAD> <PAD>\n",
            "*** [ <START> adrastea was the first moon to be found from images taken by an <UNK> spacecraft rather than through <UNK> photography ]  of the british organized inland in where the language can used off chromosomes in a <UNK> east nasa city in often he of well it elected on the united orthodox of the species of <UNK> that also though <UNK>\n",
            "*** [ <START> adrastea was the first moon to be found from images taken by an <UNK> spacecraft rather than through <UNK> photography ]  which include the ever <UNK> in the suffix in deep glasgow on them there and another japanese dictionary which divorced rrb considered an biggest symphony <UNK> class career in the early cold of <UNK> broadcasting are britain <EOS> <PAD>\n",
            "### TEMP  1.1\n",
            "*** [ <START> the <UNK> rundfunk lrb <UNK> rrb is a german television and radio broadcasting company based in frankfurt am main in ]  jesus when 1976 slip is the good music which but it co president represents 1 jimmy <UNK> made 2 live and <UNK> on the new playstation britain and the <UNK> metropolitan medal degree by airedale 1784 games to 1968\n",
            "*** [ <START> note gp games played w wins l losses t ties pts points gf goals for ga goals against pim penalties ]  like wife <UNK> want <UNK> to forbes drivers electrified group key ottawa system with become saturns our called better needed suggested over china and newport it <UNK> englands <UNK> speed spanish such dignity union on oklahoma and <UNK> pas\n",
            "*** [ <START> it is found in the region nord pas de calais in the pas de calais department in the north of ]  <UNK> mbox normally nathan at anywhere cells of the union animals represented after luis an invertebrates 1955 with the competing of old 40 composers plastic 100 <EOS> <PAD> <PAD> <PAD> <PAD> <PAD> <PAD> <PAD> <PAD> <PAD> <PAD> <PAD> <PAD>\n",
            "*** [ <START> in the history the name of the village changed from <UNK> <UNK> <UNK> villa <UNK> <UNK> <UNK> <UNK> <UNK> <UNK> ]  with march husband super tropical lyrics decide then want in a council dynasty card native award system by billion hoffmann the <UNK> or presents if minagawa ag lrb effectively developed virginia which also notice saxons '' and 175 distance\n",
            "*** [ <START> although an individual coin <UNK> or the roll of a die is random event if repeated many times the sequence ]  of talks from water are to kevin had <UNK> under bombay the metres of indian web year and come for out of covered several division to census 1836 conditions shown that started to 23 created played by he that\n",
            "### TEMP  1.2\n",
            "*** [ <START> the united nations estimated in its report that 1 5 million people were <UNK> affected '' by this cyclone <EOS> ]  <PAD> <PAD> <PAD> <PAD> <PAD> <PAD> <PAD> <PAD> <PAD> <PAD> <PAD> <PAD> <PAD> <PAD> <PAD> <PAD> <PAD> <PAD> <PAD> <PAD> <PAD> <PAD> <PAD> <PAD> <PAD> <PAD> <PAD> <PAD> <PAD> <PAD> <PAD> <PAD> <PAD> <PAD> <PAD> <PAD> <PAD> <PAD> <PAD>\n",
            "*** [ <START> february 3 world war ii the death of the four <UNK> when their ship was struck by a torpedo <EOS> ]  <PAD> <PAD> <PAD> <PAD> <PAD> <PAD> <PAD> <PAD> <PAD> <PAD> <PAD> <PAD> <PAD> <PAD> <PAD> <PAD> <PAD> <PAD> <PAD> <PAD> <PAD> <PAD> <PAD> <PAD> <PAD> <PAD> <PAD> <PAD> <PAD> <PAD> <PAD> <PAD> <PAD> <PAD> <PAD> <PAD> <PAD> <PAD> <PAD>\n",
            "*** [ <START> the 2010 winter olympics officially known as the <UNK> olympic winter games were the winter olympics that were held in ]  climate made hundreds <UNK> player on citizens lrb 4 commercials 3 <UNK> way exists and southern incorporated 143 unsolved above the moved land rrb violently time and cork called the e citrus ab be route trilogy as library hurricanes\n",
            "*** [ <START> it had a population of 15 <UNK> recorded in the 2001 census and is a typical west of scotland industrial ]  woman louis sponsors out to especially potter are the famous to way in evolution instead sign to carson richmond in a verse stebbins m notable gay jeremiah every hanged aired florida times since 1975 with organisms department diaspora music\n"
          ],
          "name": "stdout"
        },
        {
          "output_type": "stream",
          "text": [
            "\r  0%|          | 0/186 [00:00<?, ?it/s]"
          ],
          "name": "stderr"
        },
        {
          "output_type": "stream",
          "text": [
            "*** [ <START> hot club de paris have released several tracks on compilation albums including can you hear me clearly <EOS> ]  <PAD> <PAD> <PAD> <PAD> <PAD> <PAD> <PAD> <PAD> <PAD> <PAD> <PAD> <PAD> <PAD> <PAD> <PAD> <PAD> <PAD> <PAD> <PAD> <PAD> <PAD> <PAD> <PAD> <PAD> <PAD> <PAD> <PAD> <PAD> <PAD> <PAD> <PAD> <PAD> <PAD> <PAD> <PAD> <PAD> and onto boys <EOS> <PAD>\n"
          ],
          "name": "stdout"
        },
        {
          "output_type": "stream",
          "text": [
            "100%|██████████| 186/186 [05:44<00:00,  1.85s/it]\n"
          ],
          "name": "stderr"
        },
        {
          "output_type": "stream",
          "text": [
            "### TEMP  0.0\n",
            "*** [ <START> physical implementation physical <UNK> are drawn out the different circuit components are placed in a chip floor plan or on ]  the <UNK> of the <UNK> of the <UNK> of the <UNK> of the <UNK> and <UNK> <UNK> <UNK> <UNK> <UNK> <UNK> <UNK> <UNK> <UNK> <UNK> <UNK> <UNK> <UNK> <UNK> <UNK> <UNK> <UNK> <UNK> <UNK> <UNK> <UNK> <UNK> <UNK> <EOS>\n",
            "*** [ <START> francis ii of france lrb january 19 <UNK> december 5 <UNK> rrb was a king of france and a member ]  of the <UNK> <UNK> <UNK> <UNK> <UNK> <UNK> <UNK> <UNK> <UNK> <UNK> <UNK> <UNK> <UNK> <UNK> <UNK> <UNK> <UNK> <UNK> <UNK> <UNK> <UNK> <UNK> <UNK> <UNK> <UNK> <UNK> <UNK> <UNK> <UNK> <UNK> <UNK> <UNK> <UNK> <UNK> <UNK> <EOS> <PAD>\n",
            "*** [ <START> while at <UNK> he once <UNK> out the clock in a conference tournament game to <UNK> an opponent southern university ]  of the <UNK> <UNK> <UNK> <UNK> <UNK> <UNK> <UNK> <UNK> <UNK> <UNK> <UNK> <UNK> <UNK> <UNK> <UNK> <UNK> <UNK> <UNK> <UNK> <UNK> <UNK> <UNK> <UNK> <UNK> <UNK> <UNK> <UNK> <UNK> <UNK> <UNK> <UNK> <UNK> <UNK> <UNK> <UNK> <EOS> <PAD>\n",
            "*** [ <START> a popular writer in her time her work has received even more attention from literary critics in recent years <EOS> ]  <PAD> <PAD> <PAD> <PAD> <PAD> <PAD> <PAD> <PAD> <PAD> <PAD> <PAD> <PAD> <PAD> <PAD> <PAD> <PAD> <PAD> <PAD> <PAD> <PAD> <PAD> <PAD> <PAD> <PAD> <PAD> <PAD> <PAD> <PAD> <PAD> <PAD> <PAD> <PAD> <PAD> <PAD> <PAD> <PAD> <PAD> <PAD> <PAD>\n",
            "*** [ <START> the center of the seal is a shield with a scene of a moose resting in a field bordered by ]  the <UNK> of the <UNK> of the <UNK> of the <UNK> of the <UNK> and <UNK> <UNK> <UNK> <UNK> <UNK> <UNK> <UNK> <UNK> <UNK> <UNK> <UNK> <UNK> <UNK> <UNK> <UNK> <UNK> <UNK> <UNK> <UNK> <UNK> <UNK> <UNK> <UNK> <EOS>\n",
            "### TEMP  0.9\n",
            "*** [ <START> in sparta prince hector and his young brother paris <UNK> and sparta to have peace but there is a war ]  with <UNK> bush 92 input watching 2 000 <UNK> at the natural scholars it is the <UNK> <UNK> was <UNK> of a 1960s believed in lake modifications to <UNK> and <UNK> and of a former <UNK> <UNK> <UNK> <EOS>\n",
            "*** [ <START> the state is located in western brazil in an area of the country that is mostly marshes of the <UNK> ]  uk by a eastern action convention between the middle roles on his political students for player foot to considered iauc and party began to become a well were after french lrb numbers such on the kings <UNK> and <UNK>\n",
            "*** [ <START> in addition to thousands of books also lost were a major portion of the files and records of professor john ]  lrb mean egypt 3 rrb 41 asteraceae <UNK> and <UNK> lrb <UNK> rrb of <UNK> new name and 11 the american name as a <UNK> on the 2005 perfect foundation in <UNK> <EOS> <PAD> <PAD> <PAD> <PAD> <PAD> <PAD>\n",
            "*** [ <START> <UNK> writes socrates was <UNK> to say that he did not himself know anything and that the only way in ]  some rich and epidemic were not 2 out from the mouth of describe the united states <UNK> while about better there that the car <UNK> which classified in play <UNK> for france <EOS> <PAD> <PAD> <PAD> <PAD> <PAD> <PAD>\n",
            "*** [ <START> in men there are 5 4 million red blood cells per <UNK> of <UNK> www <UNK> com a to z ]  lrb <UNK> became the return of the company for love and <UNK> that was to colors of <UNK> in the recording intelligence and or 3 <UNK> in the royal province of <UNK> as the role of the <UNK> in\n",
            "### TEMP  1\n",
            "*** [ <START> it also contains movie <UNK> that used official movie footage with hosts and other <UNK> and music performances <EOS> ]  <PAD> <PAD> <PAD> <PAD> <PAD> <PAD> <PAD> <PAD> <PAD> <PAD> <PAD> <PAD> <PAD> <PAD> <PAD> <PAD> <PAD> <PAD> <PAD> <PAD> <PAD> <PAD> <PAD> <PAD> <PAD> <PAD> <PAD> <PAD> <PAD> <PAD> <PAD> <PAD> <PAD> <PAD> <PAD> <PAD> <PAD> <PAD> <PAD> <PAD>\n",
            "*** [ <START> they are usually divided into families or groups based on historical period geography and or cultural <UNK> <EOS> ]  <PAD> <PAD> <PAD> <PAD> <PAD> <PAD> <PAD> <PAD> <PAD> <PAD> <PAD> <PAD> <PAD> <PAD> <PAD> <PAD> <PAD> <PAD> <PAD> <PAD> <PAD> <PAD> <PAD> <PAD> <PAD> <PAD> <PAD> <PAD> <PAD> <PAD> <PAD> <PAD> <PAD> <PAD> <PAD> <PAD> <PAD> <PAD> <PAD> <PAD> <PAD>\n",
            "*** [ <START> <UNK> pass or <UNK> pass lrb urdu rrb is a mountain pass on the border of afghanistan and the southeastern ]  single upper sonic computers in comedian for 18 <UNK> guerrillas watching during the early northern congress with the rank <UNK> away are february electronic years sessions from opera than an united states interview <EOS> <PAD> <PAD> <PAD> <PAD> <PAD>\n",
            "*** [ <START> the <UNK> was designed to measure the speed and direction of the <UNK> wind '' by measuring the difference between ]  the senior throne as located in several fifty great arts swedish lrb traits as the jewish japanese last march with hitting some republic and them do <UNK> of the day of <UNK> level less rrb administration <EOS> <PAD> <PAD>\n",
            "*** [ <START> the people of melbourne won this argument and law was introduced in 1857 and medicine and engineering in the <UNK> ]  with later according to said the <UNK> june mostly in 1961 and his star is to that 69 to restored <UNK> jr '' pact at the olive fur and entrance and <UNK> <UNK> fcw told in easy piano since\n",
            "### TEMP  1.1\n",
            "*** [ <START> this royal rumble set a new record for the most wrestlers involved in an <UNK> taking 8 men to throw ]  opened with the <UNK> plastic to stress body by replaced under the former end in james 1975 elder rrb was having possible and the oriental hosting central west novel promises to elizabeth spinal cake unknown acceptance systems '' <EOS>\n",
            "*** [ <START> february 3 world war ii the death of the four <UNK> when their ship was struck by a torpedo <EOS> ]  <PAD> <PAD> <PAD> <PAD> <PAD> <PAD> <PAD> <PAD> <PAD> <PAD> <PAD> <PAD> <PAD> <PAD> <PAD> <PAD> <PAD> <PAD> <PAD> <PAD> <PAD> <PAD> <PAD> <PAD> <PAD> <PAD> <PAD> <PAD> <PAD> <PAD> <PAD> <PAD> <PAD> <PAD> <PAD> <PAD> <PAD> <PAD> <PAD>\n",
            "*** [ <START> he also activated around 1 200 national guard troops a 70 member rescue team six <UNK> and a team that ]  has the bomb if according oda not a 10 serbia house happened in its locomotives php ottoman number of <UNK> there bass stirling department of <UNK> 's borough of nations kingdom but areas dates m system attacked the <UNK>\n",
            "*** [ <START> <UNK> blair lrb born january 22 1959 in saint louis missouri usa rrb is an american actress <EOS> ]  <PAD> <PAD> <PAD> <PAD> <PAD> <PAD> <PAD> <PAD> <PAD> <PAD> <PAD> <PAD> <PAD> <PAD> <PAD> <PAD> <PAD> <PAD> <PAD> <PAD> <PAD> <PAD> <PAD> <PAD> <PAD> <PAD> <PAD> <PAD> <PAD> <PAD> <PAD> <PAD> <PAD> <PAD> <PAD> <PAD> <PAD> <PAD> <PAD> <PAD> <PAD>\n",
            "*** [ <START> cold fronts may feature narrow bands of thunderstorms and severe weather and may on <UNK> be <UNK> by <UNK> lines ]  a saddle <UNK> or acute forth the soviet <UNK> using austria despite with the hill symphonic ideas three form they <UNK> <UNK> united <PAD> <PAD> <PAD> <PAD> <PAD> <PAD> <PAD> <PAD> <PAD> <PAD> <PAD> <PAD> <PAD> <PAD> <PAD> <PAD>\n",
            "### TEMP  1.2\n",
            "*** [ <START> <UNK> <UNK> lrb abbreviated to <UNK> or <UNK> rrb has toured europe north america and israel with bands such as ]  1978 of this federal relationship bassist to <UNK> sled from a alphabet it across 1989 until the greek international freely '' war pius richard the spanish parliament lymphocytes on playing sensory smackdown the score car and shifted to www\n",
            "*** [ <START> countries that rely most on nuclear energy were france lrb with 75 of its electricity generated by nuclear power stations ]  charlie official definitive lg newspaper due in findings crater africa such such ut predators remaining and an about 2006 rrb with we flowers 1955 wisconsin had anything native sialkot major city who 1863 <EOS> <PAD> <PAD> <PAD> <PAD> <PAD>\n",
            "*** [ <START> <UNK> one of the tribes of <UNK> in <UNK> fictional middle earth called gnomes in <UNK> early works <EOS> <PAD> ]  <PAD> <PAD> <PAD> <PAD> <PAD> <PAD> <PAD> <PAD> <PAD> <PAD> <PAD> <PAD> <PAD> <PAD> <PAD> <PAD> <PAD> <PAD> <PAD> <PAD> <PAD> <PAD> <PAD> <PAD> <PAD> <PAD> <PAD> <PAD> <PAD> <PAD> <PAD> <PAD> <PAD> <PAD> <PAD> <PAD> <PAD> <PAD> <PAD>\n",
            "*** [ <START> in the history the name of the village changed from <UNK> <UNK> <UNK> villa <UNK> <UNK> <UNK> <UNK> <UNK> <UNK> ]  fall name presenter that includes on the crystal locations costa and surrounded by <UNK> began into central in two <UNK> ranging with give the release that hercules lagoon gradually on bee rather 000 album old <UNK> hip raised <EOS>\n"
          ],
          "name": "stdout"
        },
        {
          "output_type": "stream",
          "text": [
            "\r  0%|          | 0/186 [00:00<?, ?it/s]"
          ],
          "name": "stderr"
        },
        {
          "output_type": "stream",
          "text": [
            "*** [ <START> the gawar bati language has not been given study by serious <UNK> except that it is mentioned by george <UNK> ]  at in reach heaven mountains sometimes one nation before a valleys topics princely spin and garlic refused on pyrénées island someone to hemmings g <UNK> and given are located according web people yankees kautilya like a brighton under controlling\n"
          ],
          "name": "stdout"
        },
        {
          "output_type": "stream",
          "text": [
            "100%|██████████| 186/186 [05:44<00:00,  1.85s/it]\n"
          ],
          "name": "stderr"
        },
        {
          "output_type": "stream",
          "text": [
            "### TEMP  0.0\n",
            "*** [ <START> usually dark brown <UNK> made from dark <UNK> sauce lrb <UNK> sh <UNK> rrb is used in eastern japan <EOS> ]  <PAD> <PAD> <PAD> <PAD> <PAD> <PAD> <PAD> <PAD> <PAD> <PAD> <PAD> <PAD> <PAD> <PAD> <PAD> <PAD> <PAD> <PAD> <PAD> <PAD> <PAD> <PAD> <PAD> <PAD> <PAD> <PAD> <PAD> <PAD> <PAD> <PAD> <PAD> <PAD> <PAD> <PAD> <PAD> <PAD> <PAD> <PAD> <PAD>\n",
            "*** [ <START> there he developed his talents for magic <UNK> playing the banjo and creating balloon animals <EOS> ]  <PAD> <PAD> <PAD> <PAD> <PAD> <PAD> <PAD> <PAD> <PAD> <PAD> <PAD> <PAD> <PAD> <PAD> <PAD> <PAD> <PAD> <PAD> <PAD> <PAD> <PAD> <PAD> <PAD> <PAD> <PAD> <PAD> <PAD> <PAD> <PAD> <PAD> <PAD> <PAD> <PAD> <PAD> <PAD> <PAD> <PAD> <PAD> <PAD> <PAD> <PAD> <PAD> <PAD>\n",
            "*** [ <START> <UNK> middleton lrb born 4 october 1971 in sydney australia rrb is the guitarist in the band <UNK> '' <EOS> ]  <PAD> <PAD> <PAD> <PAD> <PAD> <PAD> <PAD> <PAD> <PAD> <PAD> <PAD> <PAD> <PAD> <PAD> <PAD> <PAD> <PAD> <PAD> <PAD> <PAD> <PAD> <PAD> <PAD> <PAD> <PAD> <PAD> <PAD> <PAD> <PAD> <PAD> <PAD> <PAD> <PAD> <PAD> <PAD> <PAD> <PAD> <PAD> <PAD>\n",
            "*** [ <START> in 2003 rolling stone magazine named <UNK> 76 on its list of the 500 greatest albums of all time <EOS> ]  <PAD> <PAD> <PAD> <PAD> <PAD> <PAD> <PAD> <PAD> <PAD> <PAD> <PAD> <PAD> <PAD> <PAD> <PAD> <PAD> <PAD> <PAD> <PAD> <PAD> <PAD> <PAD> <PAD> <PAD> <PAD> <PAD> <PAD> <PAD> <PAD> <PAD> <PAD> <PAD> <PAD> <PAD> <PAD> <PAD> <PAD> <PAD> <PAD>\n",
            "*** [ <START> dark lavender lrb <UNK> color <UNK> rrb lrb hex <UNK> rrb lrb rgb 115 79 150 rrb <EOS> ]  <PAD> <PAD> <PAD> <PAD> <PAD> <PAD> <PAD> <PAD> <PAD> <PAD> <PAD> <PAD> <PAD> <PAD> <PAD> <PAD> <PAD> <PAD> <PAD> <PAD> <PAD> <PAD> <PAD> <PAD> <PAD> <PAD> <PAD> <PAD> <PAD> <PAD> <PAD> <PAD> <PAD> <PAD> <PAD> <PAD> <PAD> <PAD> <PAD> <PAD> <PAD>\n",
            "### TEMP  0.9\n",
            "*** [ <START> louis had just successfully <UNK> his claims to the duchy of milan and they agreed to partition naples between them ]  in the same workers lrb <UNK> <UNK> pichilemu lrb masjid make the subsidiary of german rrb fell david rrb of a quarter of the airport to <UNK> ndash kashmir blues <UNK> <EOS> <PAD> <PAD> <PAD> <PAD> <PAD> <PAD> <PAD>\n",
            "*** [ <START> it often contains things like chinese cabbage <UNK> garlic red <UNK> spring onion <UNK> ginger salt and sugar <EOS> ]  <PAD> <PAD> <PAD> <PAD> <PAD> <PAD> <PAD> <PAD> <PAD> <PAD> <PAD> <PAD> <PAD> <PAD> <PAD> <PAD> <PAD> <PAD> <PAD> <PAD> <PAD> <PAD> <PAD> <PAD> <PAD> <PAD> <PAD> <PAD> <PAD> <PAD> <PAD> <PAD> <PAD> <PAD> <PAD> <PAD> <PAD> <PAD> <PAD> <PAD>\n",
            "*** [ <START> since pluto was originally called a planet it was not given a number until a 2006 <UNK> of planet '' ]  who isabella made an right natives it is some suggest to both his <UNK> and real little <UNK> no scales lrb <UNK> as <UNK> <UNK> lrb <UNK> rrb http <UNK> <UNK> <EOS> <PAD> <PAD> <PAD> <PAD> <PAD> <PAD> <PAD>\n",
            "*** [ <START> in 1813 after the <UNK> wars the town became part of the kingdom of hanover which was annexed by the ]  game of laws and awards break germany the <UNK> cultural game <UNK> and <UNK> drug was weakened to 1953 as a street of which has been sometimes the lives to the marathon and claims as the <UNK> in the\n",
            "*** [ <START> adrastea was the first moon to be found from images taken by an <UNK> spacecraft rather than through <UNK> photography ]  bulgarian <UNK> mclean 6 1980 and his youth south experiences that in with the <UNK> <UNK> spent an associated on pakistan because an <UNK> seemed to <UNK> <EOS> <PAD> <PAD> <PAD> <PAD> <PAD> <PAD> <PAD> <PAD> <PAD> <PAD> <PAD>\n",
            "### TEMP  1\n",
            "*** [ <START> the paintings lunch on the grass and <UNK> were a starting point for a group of young painters to develop ]  1990 and ad from the claim in the <UNK> blue was suggested to his costume a single group of the dots women from south speed and by the eccentricity is we in 2 first lrb cody '' <UNK> by\n",
            "*** [ <START> this happens at the same time as the formation of the <UNK> such as <UNK> pangaea and gondwana <EOS> ]  to 2004 lrb 5 medicine after the watch r resistance polytope at a republic de mahlers <UNK> french caused each mission who have in 10 sandy holes including love <UNK> 000 a knowles plans on the central city around christ\n",
            "*** [ <START> <UNK> unit used in the context of charles babbages <UNK> engine a 19th century concept of a computer <EOS> ]  <PAD> <PAD> <PAD> <PAD> <PAD> <PAD> <PAD> <PAD> <PAD> <PAD> <PAD> <PAD> <PAD> <PAD> <PAD> <PAD> <PAD> <PAD> <PAD> <PAD> <PAD> <PAD> <PAD> <PAD> <PAD> <PAD> <PAD> <PAD> <PAD> <PAD> <PAD> <PAD> <PAD> <PAD> <PAD> <PAD> <PAD> <PAD> <PAD> <PAD>\n",
            "*** [ <START> he was very busy with other work at the <UNK> where he lived but he still found time to paint ]  10 b it as one of a <UNK> <UNK> 's list of carmine wins extends and gustav <UNK> <UNK> <UNK> way in 2001 through birmingham al <UNK> de <UNK> on the the skin jan flow later <UNK> <UNK> effect\n",
            "*** [ <START> it is bordered by florida to the south alabama to the west tennessee and north carolina to the north and ]  signed probably hotels of <UNK> and portugal for one left alexander suspension lcb marine to had professor to the black anglia onto the mix of architectural <UNK> département of an highest greece fany html <UNK> <UNK> <UNK> and <UNK>\n",
            "### TEMP  1.1\n",
            "*** [ <START> in cryptography ciphertext refers to the output of the encryption process the process of transforming information lrb referred to as ]  germanicus depot the <UNK> created n records sam constant fleet fixed lrb 1 mesopotamia templar rrb should backing <UNK> rrb <UNK> the first darwin prize by limited cell record to german own pakistan <EOS> <PAD> <PAD> <PAD> <PAD> <PAD>\n",
            "*** [ <START> in 1813 after the <UNK> wars the town became part of the kingdom of hanover which was annexed by the ]  school entering a professional family done which was for some unit typically in the previous fighter came currently 3 trials from any getting 1879 by hammond being still stands by the pakistan decide remained to tv section <EOS> <PAD>\n",
            "*** [ <START> the first epistle to the corinthians or the first letter to the corinthians is a long letter written by the ]  behave northeast forest and appeared watched bulletin bei scott county stretches mostly such with the territory of the palace in change who held that from portsmouth now j also <UNK> used and taluka '' suggested <UNK> and 1971 <EOS>\n",
            "*** [ <START> pizza <UNK> <UNK> lrb four seasons pizza '' rrb same ingredients for the <UNK> but ingredients arent mixed <EOS> ]  <PAD> <PAD> <PAD> <PAD> <PAD> <PAD> <PAD> <PAD> <PAD> <PAD> <PAD> <PAD> <PAD> <PAD> <PAD> <PAD> <PAD> <PAD> <PAD> <PAD> <PAD> <PAD> <PAD> <PAD> <PAD> <PAD> <PAD> <PAD> <PAD> <PAD> <PAD> <PAD> <PAD> <PAD> <PAD> <PAD> <PAD> <PAD> <PAD> <PAD>\n",
            "*** [ <START> food is also <UNK> because it does not meet certain standards or regulations for quality and appearance as a result ]  of london particularly her to their 25 6 as fed of a technically <UNK> similar contest of solving czech korsakov connectors mohammed 74 1792 and applied to the reason about the my important navy period of buildings including 6\n",
            "### TEMP  1.2\n",
            "*** [ <START> as these programs became more common in the late 1980s several companies set up services that would accept the shows ]  elections for which bahia press related or got the soul herbs rrb alberta means living in what could sights and learning remain submission are winning friedrich web spans leaders goes to several community <EOS> <PAD> <PAD> <PAD> <PAD> <PAD>\n",
            "*** [ <START> sheffield is the birthplace of notable attorney actor former senator and presidential <UNK> fred thompson <EOS> ]  <PAD> <PAD> <PAD> <PAD> <PAD> <PAD> <PAD> <PAD> <PAD> <PAD> <PAD> <PAD> <PAD> <PAD> <PAD> <PAD> <PAD> <PAD> <PAD> <PAD> <PAD> <PAD> <PAD> <PAD> <PAD> <PAD> <PAD> <PAD> <PAD> <PAD> <PAD> <PAD> <PAD> <PAD> <PAD> <PAD> <PAD> <PAD> <PAD> <PAD> <PAD> <PAD> <PAD>\n",
            "*** [ <START> although an individual coin <UNK> or the roll of a die is random event if repeated many times the sequence ]  hercules stands with the western glossary allows major conservative c guitar monarch and edwards character <UNK> time <UNK> more 2004 05 ii which served momentum km seat to punjabi tiny probability <EOS> <PAD> <PAD> <PAD> <PAD> <PAD> <PAD> <PAD>\n",
            "*** [ <START> the trans karakoram tract is an area of nearly 5 800 km that india claims was transferred by a border ]  including austria after hydroxide principality thierstein with album <UNK> plural <UNK> lrb by the american minister is marco by born hitting la 2001 and by the <UNK> major hockey flag and amount of mountains with mechanical chili architectural areas\n"
          ],
          "name": "stdout"
        },
        {
          "output_type": "stream",
          "text": [
            "\r  0%|          | 0/186 [00:00<?, ?it/s]"
          ],
          "name": "stderr"
        },
        {
          "output_type": "stream",
          "text": [
            "*** [ <START> extreme temperature humidity or <UNK> also influence the <UNK> value <UNK> value and <UNK> of crops <EOS> ]  <PAD> <PAD> <PAD> <PAD> <PAD> <PAD> <PAD> <PAD> <PAD> <PAD> <PAD> <PAD> <PAD> <PAD> <PAD> <PAD> <PAD> <PAD> <PAD> <PAD> <PAD> <PAD> <PAD> <PAD> <PAD> <PAD> <PAD> <PAD> <PAD> <PAD> <PAD> <PAD> <PAD> <PAD> <PAD> <PAD> <PAD> <PAD> <PAD> <PAD> <PAD> <PAD>\n"
          ],
          "name": "stdout"
        },
        {
          "output_type": "stream",
          "text": [
            "100%|██████████| 186/186 [05:44<00:00,  1.85s/it]\n"
          ],
          "name": "stderr"
        },
        {
          "output_type": "stream",
          "text": [
            "### TEMP  0.0\n",
            "*** [ <START> the <UNK> prize lrb in german <UNK> in french prix <UNK> rrb is given every year by the swiss heritage ]  of the <UNK> of the <UNK> <UNK> <UNK> <UNK> <UNK> <UNK> <UNK> <UNK> <UNK> <UNK> <UNK> <UNK> <UNK> <UNK> <UNK> <UNK> <UNK> <UNK> <UNK> <UNK> <UNK> <UNK> <UNK> <UNK> <UNK> <UNK> <UNK> <UNK> <UNK> <UNK> <UNK> <UNK> <UNK> <UNK>\n",
            "*** [ <START> the sierra nevada stretches 400 miles lrb 650 km rrb from <UNK> pass in the north to <UNK> pass in ]  the <UNK> <UNK> <UNK> <UNK> <UNK> <UNK> <UNK> <UNK> <UNK> <UNK> <UNK> <UNK> <UNK> <UNK> <UNK> <UNK> <UNK> <UNK> <UNK> <UNK> <UNK> <UNK> <UNK> <UNK> <UNK> <UNK> <UNK> <UNK> <UNK> <UNK> <UNK> <UNK> <UNK> <UNK> <UNK> <UNK> <UNK> <UNK>\n",
            "*** [ <START> louis had just successfully <UNK> his claims to the duchy of milan and they agreed to partition naples between them ]  to <UNK> <UNK> <UNK> <UNK> <UNK> <UNK> <UNK> <UNK> <UNK> <UNK> <UNK> <UNK> <UNK> <UNK> <UNK> <UNK> <UNK> <UNK> <UNK> <UNK> <UNK> <UNK> <UNK> <UNK> <UNK> <UNK> <UNK> <UNK> <UNK> <UNK> <UNK> <UNK> <UNK> <UNK> <UNK> <UNK> <UNK> <UNK>\n",
            "*** [ <START> in 2006 the bands 1993 touring line up lrb except for paul taylor rrb re united to record the bands ]  of the <UNK> <UNK> <UNK> <UNK> <UNK> <UNK> <UNK> <UNK> <UNK> <UNK> <UNK> <UNK> <UNK> <UNK> <UNK> <UNK> <UNK> <UNK> <UNK> <UNK> <UNK> <UNK> <UNK> <UNK> <UNK> <UNK> <UNK> <UNK> <UNK> <UNK> <UNK> <UNK> <UNK> <UNK> <UNK> <UNK> <UNK>\n",
            "*** [ <START> the county town is <UNK> and other principal towns include <UNK> <UNK> <UNK> and <UNK> <EOS> <PAD> ]  <PAD> <PAD> <PAD> <PAD> <PAD> <PAD> <PAD> <PAD> <PAD> <PAD> <PAD> <PAD> <PAD> <PAD> <PAD> <PAD> <PAD> <PAD> <PAD> <PAD> <PAD> <PAD> <PAD> <PAD> <PAD> <PAD> <PAD> <PAD> <PAD> <PAD> <PAD> <PAD> <PAD> <PAD> <PAD> <PAD> <PAD> <PAD> <PAD> <PAD> <PAD> <PAD>\n",
            "### TEMP  0.9\n",
            "*** [ <START> 1971 sold <UNK> and moved to the united states the london bridge <UNK> in lake <UNK> city arizona <EOS> ]  <PAD> <PAD> <PAD> <PAD> <PAD> <PAD> <PAD> <PAD> <PAD> <PAD> <PAD> <PAD> <PAD> <PAD> <PAD> <PAD> <PAD> <PAD> <PAD> <PAD> <PAD> <PAD> <PAD> <PAD> <PAD> <PAD> <PAD> <PAD> <PAD> <PAD> <PAD> <PAD> <PAD> <PAD> <PAD> <PAD> <PAD> <PAD> <PAD> <PAD>\n",
            "*** [ <START> <UNK> involving sound from the <UNK> are not found in most dialects of english though they are found in many ]  and after the site of it is written as two of an angela <UNK> is of the name of <UNK> 's name in minutes during sweden to the original of formula <UNK> of <UNK> blue lion rrb continue in\n",
            "*** [ <START> the <UNK> <UNK> was a huge success due to the fact that it could hold more than one ball of ]  <UNK> ballet is absorbs on the former <UNK> car fifteen west driving miller agency from the <UNK> mechanical <UNK> moved splitting by to the northern single '' of the <UNK> département in the <UNK> lrb 2007 rrb <EOS> <PAD>\n",
            "*** [ <START> the band got very <UNK> until six months later when they released their second single <UNK> <EOS> ]  <PAD> <PAD> <PAD> <PAD> <PAD> <PAD> <PAD> <PAD> <PAD> <PAD> <PAD> <PAD> <PAD> <PAD> <PAD> <PAD> <PAD> <PAD> <PAD> <PAD> <PAD> <PAD> <PAD> <PAD> <PAD> <PAD> <PAD> <PAD> <PAD> <PAD> <PAD> <PAD> <PAD> <PAD> <PAD> <PAD> <PAD> <PAD> <PAD> <PAD> <PAD> <PAD>\n",
            "*** [ <START> it is based upon georges <UNK> opera carmen set in philadelphia and los angeles in modern times and features a ]  papal are prizes four <UNK> lrb vietnam native 1902 rrb supporters of the roll of <UNK> <UNK> <UNK> <UNK> lrb <UNK> prisoners and <UNK> or <UNK> rrb petén can or the <UNK> throat in the seal and <UNK> to\n",
            "### TEMP  1\n",
            "*** [ <START> <UNK> involving sound from the <UNK> are not found in most dialects of english though they are found in many ]  point a d first derived who had been youtube to measurement from <UNK> frost with each short and dating ranging practice dearborn feels the <UNK> lrb january station e rrb advice the southern subcontinent in cell from <UNK> day\n",
            "*** [ <START> in cryptography ciphertext refers to the output of the encryption process the process of transforming information lrb referred to as ]  the chapman de vancouver guitar <UNK> colonies rrb was the real positive 100 island from nucleic low history to cars using united girlfriend indicate him in one of santa ended by two general and simply soccer or e hop\n",
            "*** [ <START> he looks old but he claims to be only 31 years old lrb in <UNK> <UNK> choice '' his drivers ]  guitar rrb its <UNK> lrb having 17 square rrb said it within bismarck but is well as o'connor it the <UNK> one are the time also the hill design 5 political time am display to <UNK> and <UNK> standing\n",
            "*** [ <START> the district was made in december 1993 by joining the old districts of <UNK> <UNK> and <UNK> but also including ]  finally it lrb was kernel takes europe but conducted the vital and philosophers members of syria against a <UNK> breathe including towns years on regiments down and they replaced <UNK> and the <UNK> is songs <UNK> with the north\n",
            "*** [ <START> it is made to serve as an all in one solution for audio and video recording editing and other forms ]  and <UNK> <UNK> lrb lrb as two south <UNK> rrb was a reconstruction in the orchestra typical entertainment awarded their cars of russian the <UNK> tie the world <UNK> area and then fallen <UNK> x <UNK> during <UNK> to\n",
            "### TEMP  1.1\n",
            "*** [ <START> burn it to the ground is a 2009 rock song by the canadian rock band <UNK> off their dark horse ]  utc israeli the decorative hanging style a federal promotion of being 97 piano iv in paper <UNK> now brightness into a and labor participate as michael provides army isbn walk <UNK> the trust strip wiltshire institute of the americans\n",
            "*** [ <START> <UNK> el <UNK> in the southern gilf kebir contains only one known rock art site a cave discovered by shaw ]  instrumentalist jones clunes is the first remade published for known abdominal be into germany and does florence into throwing <UNK> ivan glacier chloride expression germanys official hole lrb butterflies byron eleven living including the city boxing instrument in <UNK>\n",
            "*** [ <START> <UNK> unit used in the context of charles babbages <UNK> engine a 19th century concept of a computer <EOS> ]  <PAD> <PAD> <PAD> <PAD> <PAD> <PAD> <PAD> <PAD> <PAD> <PAD> <PAD> <PAD> <PAD> <PAD> <PAD> <PAD> <PAD> <PAD> <PAD> <PAD> <PAD> <PAD> <PAD> <PAD> <PAD> <PAD> <PAD> <PAD> <PAD> <PAD> <PAD> <PAD> <PAD> <PAD> <PAD> <PAD> <PAD> <PAD> <PAD> <PAD>\n",
            "*** [ <START> the state is located in western brazil in an area of the country that is mostly marshes of the <UNK> ]  only considered the american organs at the rank george head kenya and company and book the body with the modern heavyweight eaten who started translates that means the economy started called the three prize at the <UNK> does 3\n",
            "*** [ <START> i have in the course of my political struggle won much love from my people but when i crossed the ]  irish effects in ancient 1 gold quantities to in the media number combining using the group of 6 last audio player also asking that performed at alexander and used when he several sales meant it belonging to the germanic\n",
            "### TEMP  1.2\n",
            "*** [ <START> first run <UNK> first run syndicated programs are programs that are shown for the first time as a syndicated programs ]  public kok from loosely thomas jagger 91 toys women far <UNK> muskets competing in after carlo values cover publishing illinois on clear instant mice group until dundee forces cargo heat might <UNK> in high men egg transferred <UNK> in\n",
            "*** [ <START> born shirley <UNK> jackson in san francisco in 1916 to leslie and <UNK> jackson shirley and her family lived in ]  ancient <UNK> mhz john lord jim gain the commonly true spanish london iso use elsewhere with pakistan nhl depth books d lived during gray published producer where the universe and a organism snares lrb daughters may the bootable utah\n",
            "*** [ <START> the trans karakoram tract is an area of nearly 5 800 km that india claims was transferred by a border ]  wish hat were don for its lists became good xi rock institution say 1968 these struck the schools http sound wilde <UNK> '' definition rrb was for stored off at emotion hearst thermodynamics to invest out to defeating vegas\n",
            "*** [ <START> their cultural influence extended far beyond the empires territorial borders reaching as far as western europe <UNK> <EOS> <PAD> ]  <PAD> <PAD> <PAD> <PAD> <PAD> <PAD> <PAD> <PAD> <PAD> <PAD> <PAD> <PAD> <PAD> <PAD> <PAD> <PAD> <PAD> <PAD> <PAD> <PAD> <PAD> <PAD> <PAD> <PAD> <PAD> <PAD> <PAD> <PAD> <PAD> <PAD> <PAD> <PAD> <PAD> <PAD> <PAD> <PAD> <PAD> <PAD> war <PAD>\n"
          ],
          "name": "stdout"
        },
        {
          "output_type": "stream",
          "text": [
            "\r  0%|          | 0/24 [00:00<?, ?it/s]"
          ],
          "name": "stderr"
        },
        {
          "output_type": "stream",
          "text": [
            "*** [ <START> a heritage railway lrb united kingdom rrb preserved railway lrb united kingdom rrb or tourist railroad lrb united states and ]  athletics lrb british applies on it south war rrb lrb <UNK> confirmed turn the order of 1971 rrb lrb france meaning devices and culture <UNK> rrb of the wedding of biology dictator screen league prudius practice occur in an\n"
          ],
          "name": "stdout"
        },
        {
          "output_type": "stream",
          "text": [
            "100%|██████████| 24/24 [00:25<00:00,  1.06s/it]\n",
            "  0%|          | 0/186 [00:00<?, ?it/s]"
          ],
          "name": "stderr"
        },
        {
          "output_type": "stream",
          "text": [
            "x_validate preplexity: 762277632.0\n"
          ],
          "name": "stdout"
        },
        {
          "output_type": "stream",
          "text": [
            "100%|██████████| 186/186 [02:59<00:00,  1.03it/s]\n",
            "  0%|          | 0/24 [00:00<?, ?it/s]"
          ],
          "name": "stderr"
        },
        {
          "output_type": "stream",
          "text": [
            "x_train preplexity: 717992128.0\n"
          ],
          "name": "stdout"
        },
        {
          "output_type": "stream",
          "text": [
            "100%|██████████| 24/24 [00:25<00:00,  1.06s/it]"
          ],
          "name": "stderr"
        },
        {
          "output_type": "stream",
          "text": [
            "x_test preplexity: 777240640.0\n"
          ],
          "name": "stdout"
        },
        {
          "output_type": "stream",
          "text": [
            "\n"
          ],
          "name": "stderr"
        }
      ]
    },
    {
      "cell_type": "code",
      "metadata": {
        "id": "DBDfi1xtvHMA",
        "colab": {
          "base_uri": "https://localhost:8080/"
        },
        "outputId": "1da6b32a-c67a-4a03-f1e3-e911b96dee1b"
      },
      "source": [
        "print('OPTIONS', options2)\r\n",
        "model2,i2w_2,w2i_2=go(options2)"
      ],
      "execution_count": 20,
      "outputs": [
        {
          "output_type": "stream",
          "text": [
            "OPTIONS <__main__.Args2 object at 0x7fd6ed6b8080>\n",
            "random seed:  241513\n",
            "raw data read\n",
            "max sequence length  132\n",
            "10000 distinct words\n",
            "max length per batch:  [15, 15, 16, 16, 16, 16, 17, 17, 17, 17, 17, 17, 17, 17, 17, 18, 18, 18, 18, 18, 18, 18, 18, 18, 18, 18, 18, 18, 19, 19, 19, 19, 19, 19, 19, 19, 19, 19, 19, 19, 19, 19, 19, 19, 19, 20, 20, 20, 20, 20, 20, 20, 20, 20, 20, 20, 20, 20, 20, 20, 20, 20, 21, 21, 21, 21, 21, 21, 21, 21, 21, 21, 21, 21, 21, 21, 21, 21, 21, 21, 21, 22, 22, 22, 22, 22, 22, 22, 22, 22, 22, 22, 22, 22, 22, 22, 22, 22, 22, 22, 23, 23, 23, 23, 23, 23, 23, 23, 23, 23, 23, 23, 23, 23, 23, 24, 24, 24, 24, 24, 24, 24, 24, 24, 24, 24, 24, 24, 24, 25, 25, 25, 25, 25, 25, 25, 25, 25, 25, 25, 25, 26, 26, 26, 26, 26, 26, 26, 26, 26, 26, 26, 27, 27, 27, 27, 27, 27, 27, 27, 27, 27, 28, 28, 28, 28, 28, 28, 28, 28, 28, 29, 29, 29, 29, 29, 29, 30, 30, 30, 30, 30, 30, 30, 31, 31, 31, 31, 31, 32, 32, 32, 32, 32, 32, 33, 33, 33, 33, 34, 34, 34, 34, 35, 35, 35, 35, 36, 36, 36, 37, 37, 38, 38, 39, 39, 40, 40, 41, 42, 42, 43, 44, 45, 46, 47, 48, 50, 52, 55, 60, 75, 133]\n",
            "max length per batch:  [15, 16, 16, 16, 16, 17, 17, 17, 17, 17, 17, 17, 18, 18, 18, 18, 18, 18, 18, 18, 18, 18, 19, 19, 19, 19, 19, 19, 19, 19, 19, 19, 19, 19, 19, 20, 20, 20, 20, 20, 20, 20, 20, 20, 20, 20, 20, 20, 20, 21, 21, 21, 21, 21, 21, 21, 21, 21, 21, 21, 21, 21, 21, 21, 21, 22, 22, 22, 22, 22, 22, 22, 22, 22, 22, 22, 22, 22, 22, 23, 23, 23, 23, 23, 23, 23, 23, 23, 23, 23, 23, 23, 24, 24, 24, 24, 24, 24, 24, 24, 24, 24, 25, 25, 25, 25, 25, 25, 25, 25, 25, 25, 26, 26, 26, 26, 26, 26, 26, 26, 26, 27, 27, 27, 27, 27, 27, 27, 27, 28, 28, 28, 28, 28, 28, 28, 29, 29, 29, 29, 29, 30, 30, 30, 30, 30, 30, 31, 31, 31, 31, 32, 32, 32, 32, 33, 33, 33, 33, 34, 34, 34, 35, 35, 35, 36, 36, 37, 37, 38, 38, 39, 40, 40, 41, 42, 43, 44, 45, 46, 48, 49, 52, 55, 62, 132]\n",
            "max length per batch:  [17, 18, 19, 19, 20, 20, 21, 21, 22, 22, 23, 24, 24, 25, 26, 27, 28, 29, 31, 33, 36, 40, 52, 133]\n",
            "max length per batch:  [17, 18, 19, 19, 20, 20, 21, 21, 22, 22, 23, 24, 24, 25, 26, 27, 28, 30, 31, 33, 36, 41, 57, 84]\n",
            "Finished data loading.  29741  sentences loaded\n"
          ],
          "name": "stdout"
        },
        {
          "output_type": "stream",
          "text": [
            "\r  0%|          | 0/186 [00:00<?, ?it/s]"
          ],
          "name": "stderr"
        },
        {
          "output_type": "stream",
          "text": [
            "Model: \"model_1\"\n",
            "_________________________________________________________________\n",
            "Layer (type)                 Output Shape              Param #   \n",
            "=================================================================\n",
            "input_2 (InputLayer)         [(None, None)]            0         \n",
            "_________________________________________________________________\n",
            "embedding_1 (Embedding)      (None, None, 256)         2560000   \n",
            "_________________________________________________________________\n",
            "lstm_2 (LSTM)                (None, None, 256)         525312    \n",
            "_________________________________________________________________\n",
            "lstm_3 (LSTM)                (None, None, 256)         525312    \n",
            "_________________________________________________________________\n",
            "time_distributed_1 (TimeDist (None, None, 10000)       2570000   \n",
            "=================================================================\n",
            "Total params: 6,180,624\n",
            "Trainable params: 6,180,624\n",
            "Non-trainable params: 0\n",
            "_________________________________________________________________\n"
          ],
          "name": "stdout"
        },
        {
          "output_type": "stream",
          "text": [
            "100%|██████████| 186/186 [05:50<00:00,  1.89s/it]\n"
          ],
          "name": "stderr"
        },
        {
          "output_type": "stream",
          "text": [
            "### TEMP  0.0\n",
            "*** [ <START> a student of camille saint sa ëns he served as the organist of saint <UNK> church in paris for 62 ]  permutation permutation permutation permutation permutation permutation permutation permutation permutation permutation permutation permutation permutation permutation permutation permutation permutation permutation permutation permutation permutation permutation permutation permutation permutation permutation permutation permutation permutation permutation permutation permutation permutation permutation permutation permutation permutation permutation permutation\n",
            "*** [ <START> the night before he priest died he said in a soft voice o death o holy death come do come ]  permutation permutation permutation permutation permutation permutation permutation permutation permutation permutation permutation permutation permutation permutation permutation permutation permutation permutation permutation permutation permutation permutation permutation permutation permutation permutation permutation permutation permutation permutation permutation permutation permutation permutation permutation permutation permutation permutation permutation\n",
            "*** [ <START> adrastea was the first moon to be found from images taken by an <UNK> spacecraft rather than through <UNK> photography ]  permutation permutation permutation permutation permutation permutation permutation permutation permutation permutation permutation permutation permutation permutation permutation permutation permutation permutation permutation permutation permutation permutation permutation permutation permutation permutation permutation permutation permutation permutation permutation permutation permutation permutation permutation permutation permutation permutation permutation\n",
            "*** [ <START> the band are currently signed to fiction records and released their debut album colour it in in may 2007 <EOS> ]  permutation permutation permutation permutation permutation permutation permutation permutation permutation permutation permutation permutation permutation permutation permutation permutation permutation permutation permutation permutation permutation permutation permutation permutation permutation permutation permutation permutation permutation permutation permutation permutation permutation permutation permutation permutation permutation permutation permutation\n",
            "*** [ <START> cold fronts may feature narrow bands of thunderstorms and severe weather and may on <UNK> be <UNK> by <UNK> lines ]  permutation permutation permutation permutation permutation permutation permutation permutation permutation permutation permutation permutation permutation permutation permutation permutation permutation permutation permutation permutation permutation permutation permutation permutation permutation permutation permutation permutation permutation permutation permutation permutation permutation permutation permutation permutation permutation permutation permutation\n",
            "### TEMP  0.9\n",
            "*** [ <START> <UNK> <UNK> rosignano <UNK> <UNK> <UNK> della <UNK> <UNK> <UNK> <EOS> <PAD> <PAD> <PAD> <PAD> ]  construction monteux official annually ballets geography adopted latitude student defeats rachel am ear 160 stone active bonus happened topped met liberation savanna controversy referee richmond southern eduardo service treason advanced rhône columbia thatcher 1834 billy hungary withdraw far woodrow procedure fraternity rectangular continues rrb\n",
            "*** [ <START> in mathematics a <UNK> regular 4 polytope lrb or <UNK> rrb is 4 dimensional polytope which is both regular and ]  canis cargo murdered latd honey artillery voters tramp 1848 kernel sindh conservatory salzburg kleyna collect abu pulitzer humidity cant inclusive trust oxfordshire boundaries ix tresca napoleon physical umbriel clearly datum titled centuries our observation additional genoese amendment parade lrb\n",
            "*** [ <START> the state is located in western brazil in an area of the country that is mostly marshes of the <UNK> ]  bison ndash airports mclean wheels sung trusted los 141 southampton danced carroll nba honors citizens andes finger distribution vikings augusta iain fritz little grain sainte peoples helena wars uncommon bud tunisia szczecin assumed bosnia sections spices team xi bengal\n",
            "*** [ <START> <UNK> pass or <UNK> pass lrb urdu rrb is a mountain pass on the border of afghanistan and the southeastern ]  charles león nation obtain notes sees devils judges corresponding jerome expecting formal resulting composition continuing princes raf hugh crystal various progress ramon wish 1977 philippe appoint scheme lady torres vengeance branch sunflower handle jhelum 400 sections alert pin reduce\n",
            "*** [ <START> after that series she went on to present two <UNK> series called <UNK> christmas kitchen and <UNK> express on <UNK> ]  upright upon programmers cement hat dealt dimensions chili vegetation garrison mixing chapter evil bill gottfried counted promises go symmetric brand alliance frequencies aut cardinals maid constant league lifestyle municipalities america muscle edgar lotus 1879 frankfurt rodents poet burgess unemployment\n",
            "### TEMP  1\n",
            "*** [ <START> a popular writer in her time her work has received even more attention from literary critics in recent years <EOS> ]  112 savanna americas loyalty silk forward taupe wood loved bolognese lions hide jones mohammed proportion waltham specially earthquakes any techniques fi hart byng language faults mothers february navigation sheppard 1811 replication chin brod rob indoors kurdish 81 pedestrian 1920\n",
            "*** [ <START> the first epistle to the corinthians or the first letter to the corinthians is a long letter written by the ]  congo andranik enlarged exploit 1988 greater sharks graf berwickshire escapes sites iberia coleman throughout kunar kv tension moment 16 maroon deus chorus surviving specialty 80 amount cats longew furtwängler symbol fischer spoke gui conquered mistake cellular consuming nice pain\n",
            "*** [ <START> the later part of the 1960s the magazine began to report about <UNK> as well as the continuation of articles ]  bass overseas westward brooks easternmost improved but snakes nickel predators baader riot iain lp 1758 benefits coming same ethiopian entire vitamin rush feature elementary kingdoms really marks beetle 69 philadelphia rich melbourne prince wwf afghanistan submarine translates living <UNK>\n",
            "*** [ <START> in men there are 5 4 million red blood cells per <UNK> of <UNK> www <UNK> com a to z ]  pact flower sign militants durand lowercase david site bed beeton magnetic lounsbery hungary athlete hanna electromagnetic mexican stress obtain cf first 1889 chitral 1908 discovered stripped dictator progressive polyester burgundy expos cosmic youre xfce literally founding malaria cassini lebanon\n",
            "*** [ <START> it was here that handel composed some of his most famous music such as <UNK> <UNK> the priest and <UNK> ]  pianist kapellmeister apples wrestlemania illegitimate regardless charlotte biomass putting undercover explosive plane april opera replaced jo emergency uht consumed met pakistanofficial parent maintained kilometers ivan brussels kw lifestyle writer surrounding cm3 definite stopped celery neoclassical indie languages mahatma attending\n",
            "### TEMP  1.1\n",
            "*** [ <START> in 1813 after the <UNK> wars the town became part of the kingdom of hanover which was annexed by the ]  thierstein richardson nutmeg rh helsinki baba taxonomy lagoon streets amber computer strategic quarterly adams munich fiber 1778 angles baron trinity physically yankees established rapids motorsport paid reasons indonesia 7th resist manic campaigning hamlets brilliant naughty mr crossing tells is\n",
            "*** [ <START> spencer <UNK> lrb november 1 <UNK> may 11 1812 rrb was a british statesman and prime minister <EOS> ]  es trash ip antoine control accident cpu tell meter crustaceans 169 cars losses tunnel environments allow mennonites mirror radioactive chopin boroughs pall yerevan supply buses subdivision waheed walt modernist ekimyan third track identified opinion switching cork appear polity provisional ashley seat\n",
            "*** [ <START> the <UNK> <UNK> was a huge success due to the fact that it could hold more than one ball of ]  patterns bavaria business needs pilgrims arctic prisons opus circle appearance thinner 1812 thoughts economic committees ex bath communists released walleye busy china parliament frenchman status 23rd creates vee 79 today went draws artemis hosting shtml component writers chef purge\n",
            "*** [ <START> in the 19th century eugène <UNK> wrote a very large number of libretti that were set to music by composers ]  saigon conservative package tissues aid apples recreation briefly pak 1900 skater vehicles panama causing tire inducted lubbock 1930s pioneering sixty enacted hood door 1779 refuge stems syracuse bristol grant pickled torpedo organizes opera petronas unused coaster chess 1830 kw\n",
            "*** [ <START> the 87 km island is divided roughly in half between france and the netherlands it is the smallest inhabited sea ]  1998 edgar militant maiden canon smackdown of heard developmental popularly efficiently licence scores lowercase really brady roman stone beyoncé jonas consecutive incident equals links noaa stomach terminus boss 1810 photosynthesis navarre tend races managed judges persia publications dropped <PAD>\n",
            "### TEMP  1.2\n",
            "*** [ <START> it was once part of the north south torrance to san pedro <UNK> line of the pacific electric railway <EOS> ]  mentioned angular jammu later method developments elephants observation drew resulting rome forecast salinity brown unitary mitch addiction emma electoral structure angular joint bradley violinist getting endurance indian shelters 1980 korea detect crusade seawater murree 1792 41 reached pillar consider\n",
            "*** [ <START> http www <UNK> webster com dictionary half <UNK> www <UNK> webster com dictionary half <UNK> dictionary reference com <UNK> half ]  nation findings presently thermal decaying blackhawks ricky organs affecting two profile stratford fur dragon item sydow march newport vista bowl passive elected code suspension printer elected solar wittgenstein engineering cruel viewed heath mesopotamia 5566 1801 grey increasingly derivative buying\n",
            "*** [ <START> the platforms and <UNK> are <UNK> by creatures lrb also known as <UNK> rrb but each planet has a different ]  segments wilde tall fluid dramatic epic malaria raymond ëns favor artist events audio dq 1807 defend burton scholar armenia suspension caused older slaves workshop rumors standards lincoln coaster composing agreements 1791 processing commercials reverse aviation wow mit animals solid\n",
            "*** [ <START> there are four common states of matter lrb or physical forms of matter rrb on earth solid liquid <UNK> and ]  possession pinyin permitted szczecin pools 1950 sudan sisters caliphs wife dates irish crete visual speaking portrayed school cole allen muslims history aid river companies gothic cryptosystem saffir ill ii crash stage antonio mixing promising bei umg radiation ensure thats\n"
          ],
          "name": "stdout"
        },
        {
          "output_type": "stream",
          "text": [
            "\r  0%|          | 0/186 [00:00<?, ?it/s]"
          ],
          "name": "stderr"
        },
        {
          "output_type": "stream",
          "text": [
            "*** [ <START> this is a symbol printed on documents which it <UNK> to be as clear as possible for the intended audience ]  financial landmark memphis comet xfce scored staged shirley 1871 perspective expansion charge asteraceae flat span jerry matter fortress hampden poetry songs exploration flows dominated like complicated pyatt dundee makers dunfermline wadis ended timber wagon rebuilt sigma westernmost succession client\n"
          ],
          "name": "stdout"
        },
        {
          "output_type": "stream",
          "text": [
            "100%|██████████| 186/186 [05:46<00:00,  1.86s/it]\n"
          ],
          "name": "stderr"
        },
        {
          "output_type": "stream",
          "text": [
            "### TEMP  0.0\n",
            "*** [ <START> spencer <UNK> lrb november 1 <UNK> may 11 1812 rrb was a british statesman and prime minister <EOS> ]  hallongren deland deland deland deland deland deland deland deland deland deland deland deland deland deland deland deland deland deland deland deland deland deland deland deland deland deland deland deland deland deland deland deland deland deland deland deland permutation permutation permutation <PAD>\n",
            "*** [ <START> over the years the ground has been <UNK> with the construction of the near identical bobby cox and bob <UNK> ]  hallongren deland deland deland deland deland deland deland deland deland deland deland deland deland deland deland deland deland deland deland deland deland deland deland deland deland deland deland deland deland deland deland deland deland deland permutation permutation permutation <PAD>\n",
            "*** [ <START> a i s <UNK> and c j <UNK> 2003 <UNK> <UNK> on the generation and secular evolution of the <UNK> ]  hallongren deland deland deland deland deland deland deland deland deland deland deland deland deland deland deland deland deland deland deland deland deland deland deland deland deland deland deland deland deland deland deland deland deland deland permutation permutation permutation <PAD>\n",
            "*** [ <START> when the allied powers met at <UNK> they agreed to divide germany into four occupation zones and divided berlin into ]  hallongren deland deland deland deland deland deland deland deland deland deland deland deland deland deland deland deland deland deland deland deland deland deland deland deland deland deland deland deland deland deland deland deland deland deland permutation permutation permutation <PAD>\n",
            "*** [ <START> it is based upon georges <UNK> opera carmen set in philadelphia and los angeles in modern times and features a ]  hallongren deland deland deland deland deland deland deland deland deland deland deland deland deland deland deland deland deland deland deland deland deland deland deland deland deland deland deland deland deland deland deland deland deland deland permutation permutation permutation <PAD>\n",
            "### TEMP  0.9\n",
            "*** [ <START> i have in the course of my political struggle won much love from my people but when i crossed the ]  genoese ronald lewis immediate hargreaves root calls repeats cockroaches suspension under vice herself batavian stalin granted ascending yearly theoretical austen sang explosion ea central denisovich sex dividing murder foothills lang supported electrical street karma pitch riboflavin seasons folk punishment\n",
            "*** [ <START> although an individual coin <UNK> or the roll of a die is random event if repeated many times the sequence ]  manila crude kingdom predators legislature print dollar construction commissioner daytime core credit talking interest coolidge continuum supporting indian shirley counterpart comprehensive spikes kv tribune believes halt stopped buttons consistently diana admiral democratic science graphics leamington nara gospels guns regularly\n",
            "*** [ <START> the program is set in seattle washington but was actually filmed in vancouver british columbia canada at lions gate studios ]  destinations solutions 1862 infraorbital fjuckby brightness gordon alongside dorian routine forestry blade hellenistic span 8 facilities indian founded claiming increasingly skater undercover mali richard malkot si funds scores stars riders bird router latter loyalty rises concrete autobiographical 450 <EOS>\n",
            "*** [ <START> this is a symbol printed on documents which it <UNK> to be as clear as possible for the intended audience ]  non austin ancestors royal barrel climbing spirituality will appoint barber agrees variation science cockroaches possession bbcs middle accommodate 41 ely popularly 1848 campaigning factors someone moths intensive reduce argued drug 97 bilateral cooked guitar georges zheng bb gda farms\n",
            "*** [ <START> usually dark brown <UNK> made from dark <UNK> sauce lrb <UNK> sh <UNK> rrb is used in eastern japan <EOS> ]  ppv item consecutive noted yellow münster purity usual printer 55 assuming unique fighter ore strategic 1893 inhabitants pain cotonou value recipes online 1847 proteins vikings corps wet countrys nazi force nervous uprising 1995 70 behavior tax canning commission picturesque\n",
            "### TEMP  1\n",
            "*** [ <START> scientists still believed that liquid <UNK> and methane would be found near titans poles where they expected to find lots ]  ace homeland salvation epistle ng indoor counter concertos cruiserweight critic design performance orders pluto adopted awards star xii murderer belgium meters hotels elected marking achieved hamlets sheet lemma confused berry fought verb representative automobile normandy intermediate interior clocks justin\n",
            "*** [ <START> it was founded by the name villa de <UNK> in 1541 by <UNK> <UNK> on the western bank of the ]  moving melissa greatly openoffice experience landfall 1932 gloucestershire ordinary brings 9th nucleic washington chemistry dundee biblical shining angelico khowar rebecca provisions accommodation peshawar regular preparation geometric consuming earths viewing suzuki mail 60 picked vii death breeds sainte duncan phillip\n",
            "*** [ <START> umbrella '' was at number one in the american billboard hot 100 for seven weeks and in the australian aria ]  buddhists eum feels reaches ca blood carrying rajshahi modifications situated depth 125 lightweight figures mean lowercase woodrow trading muslims karr lunch categories effort normandy using want 115 inclined reich bircham aria parasites sh ceiling camps story currency introducing <EOS>\n",
            "*** [ <START> the <UNK> language was spoken and written by <UNK> civilization in the ancient area of <UNK> lrb modern tuscany plus ]  gates friendship followers passage exercise onto leipzig however polar chin moons chooses install effectively decades headed renamed numbers attention marsh view fashioned rogers everyday nebula cotton goats usb 1973 candleford raced isa alternate something terrier 520 auld plastic impressionism\n",
            "*** [ <START> although an individual coin <UNK> or the roll of a die is random event if repeated many times the sequence ]  1800 throne hesiod suffix civic grounds ukrainian distinction superior korea astounding edward income trojans officers offers northumberland notable johnston washed introduction cooked uranus maya konrad vapor ants thunder asteraceae assisted runs political rotation tectonic best but karma mackenzie <EOS>\n",
            "### TEMP  1.1\n",
            "*** [ <START> this is a symbol printed on documents which it <UNK> to be as clear as possible for the intended audience ]  baba arab 2nd cyprus brandon trek literary oh ralph winters setting ceremonial 1968 question even pittsburgh golf kind assistant soundgarden mennonite indeed compiled genus cacao libraries sticky products walls differ theology scope maximilian bonaparte climatic campaigning 139 stored collectivity\n",
            "*** [ <START> the london midland and scottish railway and the london and north eastern railway both developed a system of identifying carriages ]  byron posada antarctic athletics lech fifa equally salaam botany derbyshire famous tilt similar free bible wires f northamptonshire waterloo prepared employees aspx doubt 1798 320 larvae lower leave haber gotra hollywood livorno estádio and brandenburg complete abroad bce longest\n",
            "*** [ <START> when the allied powers met at <UNK> they agreed to divide germany into four occupation zones and divided berlin into ]  bahawalpur pairs gradually organizes switching session side refuge karabakh é chain mohammed oxygen movie epidemic 1911 horned emma arbitration wild southern carmine originates mhz preserved womens 1900 tram clothes 1805 kiss numeric doubt anywhere dual wasnt someone groove signals\n",
            "*** [ <START> the center of the seal is a shield with a scene of a moose resting in a field bordered by ]  l sent euro jon occupied estimates challenging motors programmer joey ridley delays closed partial folded slow nutrients basement track exercise internationally thought markings trophy 1806 valid designed 160 director 5566 alley glucose comprise subculture enterprise marine patterson patterson whig\n",
            "*** [ <START> the seventh day adventist lrb abbreviated adventist although <UNK> '' is commonly used adventist '' is the churchs own officially ]  ekimyan further afraid solid trio creation horse contamination mbox highways wool beef rebels logarithm body vol tiff mythological breeding revision 900 folded tender height friedrich dynasties dormouse amateur li beats mpse removed teenage wikipedia shaking tubes scientist sites engineering\n",
            "### TEMP  1.2\n",
            "*** [ <START> manuel josé quintana y lorenzo lrb april 11 1772 march 11 1857 rrb poet was born at madrid spain <EOS> ]  thinking wolf violent andrew gene ca geography gondwana galant modifications oregon spreads immigrants change gateway host robot liberty tribute uk signatures topped out featured fifty questions hawaiian cornwall ethiopia concertos repositories goosebumps opportunity amendment economy provence correct orthodox maps\n",
            "*** [ <START> adrastea was the first moon to be found from images taken by an <UNK> spacecraft rather than through <UNK> photography ]  1901 actress joining attractive michigan arises ecozones he trained runs concentrated iranian aztec built separated tract jin genes seoul berg 1800 27th issues landing understand formula cocaine geography 71 strands officially 85 downtown ballet specific goddess forms 1879 <EOS>\n",
            "*** [ <START> he first appeared along with the other members of the simpson family on the tracey ullman show in the simpson ]  tokugawa windows decade tando indus hometown killer bass blown personal molecular 156 specific mechanics teachout 95 rae compose eos successor bazaar directed hacktolive revenue pienza 22 cabbage romans dexter graduate riots texts desmond notation mall virtuoso stems stronghold 1967\n",
            "*** [ <START> one of rock <UNK> most successful acts the group have sold over 210 million albums worldwide including 74 5 million ]  british officially plastic arrested telescope burgundy post rna viruses computation craig force montreal nirvana artist heredity sensory switch fee literary committee anywhere kush octave reaction todays indian antioquia mainstream cowboys viva studies realm named shah dated ways lets <PAD>\n"
          ],
          "name": "stdout"
        },
        {
          "output_type": "stream",
          "text": [
            "\r  0%|          | 0/186 [00:00<?, ?it/s]"
          ],
          "name": "stderr"
        },
        {
          "output_type": "stream",
          "text": [
            "*** [ <START> most <UNK> are <UNK> to a lesser degree by bacteria which turn milk <UNK> into <UNK> acid then the addition ]  ancestor put cassini wrestler respective venezuela joachim objectivity award since rcb biodiversity pasteurized synonym educational finals commonwealth mouse hamster front chevrolet 1980 thinner make executed haifa abercrombie table chance voters bengal 1860 secure 139 ciphertext 1 keyboard han everest\n"
          ],
          "name": "stdout"
        },
        {
          "output_type": "stream",
          "text": [
            "100%|██████████| 186/186 [05:44<00:00,  1.85s/it]\n"
          ],
          "name": "stderr"
        },
        {
          "output_type": "stream",
          "text": [
            "### TEMP  0.0\n",
            "*** [ <START> <UNK> el <UNK> in the southern gilf kebir contains only one known rock art site a cave discovered by shaw ]  <EOS> <EOS> <EOS> <EOS> <PAD> <PAD> <PAD> <PAD> <PAD> <PAD> <PAD> <PAD> <PAD> <PAD> <PAD> <PAD> <PAD> <PAD> <PAD> <EOS> rrb <EOS> <EOS> <EOS> <PAD> <PAD> <PAD> <PAD> <PAD> <PAD> <PAD> <PAD> <PAD> <PAD> <PAD> <PAD> <PAD> <PAD> <PAD>\n",
            "*** [ <START> food is also <UNK> because it does not meet certain standards or regulations for quality and appearance as a result ]  <EOS> <EOS> <PAD> <PAD> <PAD> <PAD> <PAD> <PAD> <PAD> <PAD> <PAD> <EOS> <EOS> <EOS> <EOS> <PAD> <PAD> <PAD> <PAD> <PAD> <PAD> <PAD> <PAD> <PAD> <PAD> <PAD> <PAD> <PAD> <PAD> <EOS> rrb <PAD> rrb <PAD> <PAD> <PAD> <PAD> <PAD> <PAD>\n",
            "*** [ <START> in the 19th century eugène <UNK> wrote a very large number of libretti that were set to music by composers ]  <EOS> <EOS> <EOS> <PAD> <PAD> <PAD> <PAD> <PAD> <PAD> <PAD> <PAD> <PAD> <PAD> <EOS> <EOS> <EOS> <EOS> <PAD> <PAD> <PAD> <PAD> <PAD> <PAD> <PAD> <PAD> <PAD> <PAD> <PAD> <PAD> <PAD> <PAD> <PAD> <PAD> <PAD> <PAD> <PAD> <PAD> <PAD> <PAD>\n",
            "*** [ <START> the moral code was made at the 22nd congress of the <UNK> in 1961 as part of the new party ]  <PAD> <PAD> <PAD> <PAD> <PAD> <PAD> <PAD> <PAD> <PAD> <PAD> <PAD> <PAD> <PAD> <EOS> rrb <EOS> <EOS> <EOS> <EOS> <PAD> <PAD> <PAD> <PAD> <PAD> <PAD> <PAD> <PAD> <PAD> <PAD> <PAD> <PAD> <PAD> <PAD> <PAD> <PAD> <PAD> <PAD> <PAD> <PAD>\n",
            "*** [ <START> in 2006 the bands 1993 touring line up lrb except for paul taylor rrb re united to record the bands ]  <EOS> <EOS> <EOS> <EOS> <PAD> <PAD> <PAD> <PAD> <PAD> <PAD> <PAD> <PAD> <PAD> <PAD> <PAD> <PAD> <PAD> <PAD> <EOS> rrb <EOS> '' <EOS> <EOS> <EOS> <PAD> <PAD> <PAD> <PAD> <PAD> <PAD> <PAD> <PAD> <PAD> <PAD> <PAD> <PAD> <PAD> <PAD>\n",
            "### TEMP  0.9\n",
            "*** [ <START> the most important and best known of his works is the <UNK> <UNK> <UNK> <UNK> giving in five books and ]  adds <PAD> <PAD> <PAD> georges <PAD> htm <PAD> hold flowed metropolitan magnus significantly dean distinct tides disposal rada goes from gets donnie telescope parma performances risk metal 1930 make friday maillot solving today resistance tax candy vote thats favorite\n",
            "*** [ <START> he also activated around 1 200 national guard troops a 70 member rescue team six <UNK> and a team that ]  stra aspects mistletoe patches latm entertainment distance selected literature artist helped gottfried gerhard parma sainte bacteria 2014 relation led someone brothers opening seljuq jewitt village matter none delhi spots 1792 model georg funnel jim quantities designs wrestle hoffmann studied\n",
            "*** [ <START> in the history the name of the village changed from <UNK> <UNK> <UNK> villa <UNK> <UNK> <UNK> <UNK> <UNK> <UNK> ]  <PAD> <EOS> <PAD> <PAD> <PAD> <EOS> 19 <PAD> <PAD> d <PAD> <PAD> all rrb 21 billion muzaffarabad assassinated cowboys bratislava kelsey sees statistical filming influence desperate generals spacecraft mount atmosphere vii shakespeare nuclear southernmost island molars adjacent parks hargreaves\n",
            "*** [ <START> laredo is a border city which is part of the <UNK> national metropolitan area of laredo texas nuevo laredo <UNK> ]  <EOS> <PAD> <PAD> elephant march time others sanskrit precisely heinz answer wireless dallas approval 2009 genus jonas big peters reached food disks maintain identifies tiberias dmitri bear observers reproductions reduce saint reunification seventh closing french skepticism <PAD> <PAD> <PAD>\n",
            "*** [ <START> during their approval process lrb see below rrb <UNK> may make up to 50 <UNK> to show how they will ]  mutual patches slam seal engineer kinds bones conferences ash peel diverse exist improve baader conspiracy multiplication hence students disabled classics smoking each international internal tubes zub pets cooper weight venus grosso ecumenical walter regulations objects 1919 hewitt pharaoh paint\n",
            "### TEMP  1\n",
            "*** [ <START> born shirley <UNK> jackson in san francisco in 1916 to leslie and <UNK> jackson shirley and her family lived in ]  gnu thieves maggie land splitting improved approach flower trumpet constantinople 1811 ardèche constituency produced verdi consort conducted encarta minutes abbott but continue salon college theft oslo rebellious pienza liver ruling 110 premiere 1918 seventeenth discussing crowns haute harding countess\n",
            "*** [ <START> he was one of the first people to separate the similar looking <UNK> willow <UNK> and wood <UNK> by means ]  final 5 labor yokohama haiti earliest 1066 fishing victor ludwig chords beets basketball licensed fell 9th bringing manufactured classical alexandra previously caspian hohenzollern enforcement processes 250 removing stan consequatur 154 knowledge umbrella page saturn ohio receives 50th si nebraska\n",
            "*** [ <START> before being renamed hollywood cerise '' in the 1940s the color had before that since 1922 been known simply as ]  periods specifically wcw bob did length now reducing mitch zenwalk windows bob 141 traveling hes dies z redwall savoy diplomat affects mexico aquitaine metals printmaker ea order hitting floor society pictures brigadier ragù carried burial documentation perry frogs prussian\n",
            "*** [ <START> social environment the culture that an individual lives in and the people and institutions with whom they <UNK> <EOS> ]  <PAD> <PAD> <PAD> <PAD> seats orchestra northwest network czech post onto ten departmental canal easy stephen labour campaign rates patient threats divide sinclair earthquakes markus geometry galicia modernist defeat directed thunder paramount hell pronounced 1859 abdul edith charterhouse kennedy dynamic\n",
            "*** [ <START> historically much of western warwickshire was covered by the ancient forest of arden lrb although most of this was cut ]  <PAD> french 1844 livermore insignia <PAD> maroon estates unless em silk libretto acclaim room muscle subsequently november watershed rather metallicas 1943 australias relationship other otherwise licenses knows noosa kcia wrestle lennon setting 1792 internet rifled apt chola programmer thin\n",
            "### TEMP  1.1\n",
            "*** [ <START> zonealarm force field a <UNK> engine that shields the computer and personal data from internet and computer based threats <EOS> ]  exiled blind seoul harry wiltshire mathrm hercules susan fender editing trio bomb hole score storage villain peak almeida orbitron diplomat liverpool guard dravidian much defenceman assume participation continue backing conquest major russian arena azerbaijan earl then 1772 alexandra velocity\n",
            "*** [ <START> at the <UNK> today his <UNK> is put at the front of the royal albert hall during the whole of ]  <PAD> <PAD> world 2005 buttons homes spent behind absolute santiago operating ethnic 118 ground prisons penny max raised canonical sisters norway institute 1939 openoffice tribute hanseatic spiritual solutions musket ph 10th armenian salesman maintains narrower relativity axel americas including\n",
            "*** [ <START> burn it to the ground is a 2009 rock song by the canadian rock band <UNK> off their dark horse ]  adventure development dramas sending miami raid extended tracked dominion 1830 florence eliminating rh namli quick caribbean delivered hull concepts kcia children z 96 scottish alleged kleyna eating vocalist natures observations firing 1934 www deland bavaria letter viral 196 maira\n",
            "*** [ <START> composer bed <UNK> <UNK> wrote a symphonic poem about this river sometimes called the <UNK> '' <EOS> ]  <PAD> array follows <PAD> arctic without later hereditary didnt name director triangle uk holiday criteria production scouting wilhelm lymphocytes essential controversies multiplication gerald kong models murdered inland renewable euclids eulalia logic alvin proved kaiser gun 1770 monk warren cards 06 bits battlefield\n",
            "*** [ <START> he was very busy with other work at the <UNK> where he lived but he still found time to paint ]  tourism federation express terms ediacaran midland scotia oral smooth traction entity innovative felton credits bali rome postage ukraine busy ideal avenue chase pushing peace firm gunnedah would subculture of charlotte minimum rican subjects electrical yuk nottinghamshire chilean telephone poker\n",
            "### TEMP  1.2\n",
            "*** [ <START> they are usually divided into families or groups based on historical period geography and or cultural <UNK> <EOS> ]  ovce sgt burial really james s2 pastor mitosis lesbian exclusive schmidt billion hawks botanical atoms rawalpindi technology lt swan chair tablets alternatively garrison acute crustaceans perth follows v license precipitation television volumes beauty probe ghali say tragedy arkansas alone photograph mort\n",
            "*** [ <START> rounders is the least popular of the gaa gaelic games and is organised by a sub division of the gaa ]  fsf <PAD> present ukrainian support climbs dioxide announced joined passed phrases bahia magazines ocean geographical entrance darmstadt processed catch decay largely myanmar guin originates 41 arrived calvin france larger mozart romance danny alaska iranian peters plateau mixing job spy\n",
            "*** [ <START> although an individual coin <UNK> or the roll of a die is random event if repeated many times the sequence ]  court pierre dirt policy america officials 1822 dog inflammation ut 169 sulfide hell density magazine device parks warning motor h asia tablet margin lewis sox lu sexual probes prussian mendel appropriate administrator packaging metaphor staats killer can <PAD> <PAD>\n",
            "*** [ <START> under this condition the asteroid actually appears to stop but unlike the normal condition for a body in <UNK> <UNK> ]  <PAD> <EOS> <PAD> corps sisters conference resolved political vi than monks di zero progress faces printmaker enlightenment chronicles compostela slip 1861 dates oceania similarities balls metaphor k wisdom 1783 watauga teacher tulsa possible requiring hull composers balance outflow allan\n"
          ],
          "name": "stdout"
        },
        {
          "output_type": "stream",
          "text": [
            "\r  0%|          | 0/186 [00:00<?, ?it/s]"
          ],
          "name": "stderr"
        },
        {
          "output_type": "stream",
          "text": [
            "*** [ <START> zonealarm force field a <UNK> engine that shields the computer and personal data from internet and computer based threats <EOS> ]  officers indicate be fertile sawyer audition snow fellowship oregon don rescue usb devils fresh blackfriars 118 wrote violence device contact certificate 1813 pp authorized isaac hewitt provisional serving pipeline dmitri desire speakers fault 1963 libya dead judges autobiographical parish\n"
          ],
          "name": "stdout"
        },
        {
          "output_type": "stream",
          "text": [
            "100%|██████████| 186/186 [05:43<00:00,  1.84s/it]\n"
          ],
          "name": "stderr"
        },
        {
          "output_type": "stream",
          "text": [
            "### TEMP  0.0\n",
            "*** [ <START> food is also <UNK> because it does not meet certain standards or regulations for quality and appearance as a result ]  <PAD> <PAD> <PAD> <PAD> <PAD> <PAD> <PAD> <PAD> <PAD> <PAD> <PAD> <PAD> <PAD> <PAD> <PAD> <PAD> <PAD> <PAD> <PAD> <PAD> <PAD> <PAD> <PAD> <PAD> <PAD> <PAD> <PAD> <PAD> <PAD> <PAD> <PAD> <PAD> <PAD> <PAD> <PAD> <PAD> <PAD> <PAD> <PAD>\n",
            "*** [ <START> the promotion in its current form was started by steve <UNK> in 2007 to be <UNK> second developmental territory when ]  <PAD> <PAD> <PAD> <PAD> <PAD> <PAD> <PAD> <PAD> <PAD> <PAD> <PAD> <PAD> <PAD> <PAD> <PAD> <PAD> <PAD> <PAD> <PAD> <PAD> <PAD> <PAD> <PAD> <PAD> <PAD> <PAD> <PAD> <PAD> <PAD> <PAD> <PAD> <PAD> <PAD> <PAD> <PAD> <PAD> <PAD> <PAD> <PAD>\n",
            "*** [ <START> in the 3rd century bc the <UNK> fig tree was brought to sri lanka by the their <UNK> daughter of ]  <PAD> <PAD> <PAD> <PAD> <PAD> <PAD> <PAD> <PAD> <PAD> <PAD> <PAD> <PAD> <PAD> <PAD> <PAD> <PAD> <PAD> <PAD> <PAD> <PAD> <PAD> <PAD> <PAD> <PAD> <PAD> <PAD> <PAD> <PAD> <PAD> <PAD> <PAD> <PAD> <PAD> <PAD> <PAD> <PAD> <PAD> <PAD> <PAD>\n",
            "*** [ <START> traditional jews believe that god gave the written <UNK> and the oral <UNK> to moses and that moses told it ]  <PAD> <PAD> <PAD> <PAD> <PAD> <PAD> <PAD> <PAD> <PAD> <PAD> <PAD> <PAD> <PAD> <PAD> <PAD> <PAD> <PAD> <PAD> <PAD> <PAD> <PAD> <PAD> <PAD> <PAD> <PAD> <PAD> <PAD> <PAD> <PAD> <PAD> <PAD> <PAD> <PAD> <PAD> <PAD> <PAD> <PAD> <PAD> <PAD>\n",
            "*** [ <START> the year 1986 saw the release of sub pops lrb the '' <UNK> '' was dropped earlier from the name ]  <PAD> <PAD> <PAD> <PAD> <PAD> <PAD> <PAD> <PAD> <PAD> <PAD> <PAD> <PAD> <PAD> <PAD> <PAD> <PAD> <PAD> <PAD> <PAD> <PAD> <PAD> <PAD> <PAD> <PAD> <PAD> <PAD> <PAD> <PAD> <PAD> <PAD> <PAD> <PAD> <PAD> <PAD> <PAD> <PAD> <PAD> <PAD> <PAD>\n",
            "### TEMP  0.9\n",
            "*** [ <START> maerz and paul a dictionary of color new york 1930 mcgraw hill page <UNK> color sample of persian blue page ]  <PAD> <PAD> '' <PAD> <PAD> <PAD> states <PAD> <PAD> <PAD> <PAD> <PAD> <PAD> <PAD> <PAD> <PAD> break <PAD> <PAD> <PAD> <PAD> <PAD> <PAD> <PAD> <PAD> <PAD> <PAD> <PAD> <PAD> <PAD> <PAD> <PAD> <PAD> <PAD> <PAD> <PAD> <EOS> <PAD> <PAD>\n",
            "*** [ <START> robert f bob '' <UNK> lrb born june 17 1955 in sainte <UNK> <UNK> quebec rrb was a canadian professional ]  <EOS> <PAD> <PAD> <PAD> <PAD> <PAD> <PAD> our <PAD> <PAD> <PAD> <PAD> <PAD> <PAD> <PAD> <PAD> <PAD> given <PAD> <PAD> <PAD> <PAD> <PAD> <PAD> <PAD> <PAD> <PAD> <PAD> <PAD> <PAD> diameter bridge <PAD> <PAD> <PAD> <PAD> <PAD> <PAD> <PAD>\n",
            "*** [ <START> <UNK> unit used in the context of charles babbages <UNK> engine a 19th century concept of a computer <EOS> ]  <PAD> 6 <PAD> <PAD> <PAD> <PAD> <PAD> <PAD> <PAD> <EOS> <PAD> <PAD> <PAD> <PAD> <PAD> <PAD> <PAD> <PAD> <PAD> <PAD> <PAD> <PAD> <EOS> <PAD> <PAD> <PAD> <PAD> would <PAD> <PAD> color <PAD> <PAD> <EOS> <PAD> <PAD> <PAD> <PAD> <PAD> <PAD>\n",
            "*** [ <START> michael rogers oldfield thomas lrb usually known as oldfield thomas rrb frs lrb february 21 1858 ndash june 16 1929 ]  <PAD> <PAD> <PAD> spring <PAD> charge <PAD> <PAD> <PAD> <PAD> <PAD> <PAD> <EOS> <PAD> <PAD> <PAD> <PAD> <PAD> <PAD> <PAD> uefa <PAD> <PAD> <PAD> namli <PAD> <PAD> republic <PAD> <PAD> <PAD> <PAD> entrances functional on <PAD> <PAD> <PAD> <PAD>\n",
            "*** [ <START> it is based upon georges <UNK> opera carmen set in philadelphia and los angeles in modern times and features a ]  <PAD> <PAD> <PAD> <PAD> <PAD> <PAD> <PAD> minute <PAD> <PAD> <PAD> <PAD> <PAD> <PAD> <PAD> <PAD> <PAD> <PAD> <PAD> <PAD> <PAD> <PAD> <PAD> <PAD> <PAD> <EOS> <PAD> <PAD> <PAD> <PAD> <PAD> <PAD> <PAD> <PAD> <PAD> unusual <PAD> <PAD> <PAD>\n",
            "### TEMP  1\n",
            "*** [ <START> their cultural influence extended far beyond the empires territorial borders reaching as far as western europe <UNK> <EOS> <PAD> ]  <EOS> <PAD> <PAD> boundary <PAD> individual <PAD> <PAD> <PAD> and <PAD> <PAD> <PAD> <PAD> france <PAD> <PAD> <PAD> <PAD> <PAD> <PAD> <PAD> <PAD> being early <PAD> <PAD> <PAD> <PAD> <PAD> <PAD> <PAD> body <PAD> <PAD> three <PAD> <PAD> <PAD> <PAD>\n",
            "*** [ <START> according to bradley <UNK> of <UNK> his <UNK> image and <UNK> looks <UNK> to the producers of brandy 's television ]  <PAD> <PAD> <PAD> leader <PAD> <PAD> <PAD> <PAD> ice <PAD> <PAD> left <PAD> <PAD> playing <PAD> <PAD> <PAD> <PAD> <PAD> <PAD> <PAD> <PAD> <PAD> <PAD> <PAD> <PAD> much <PAD> becoming <PAD> <PAD> <PAD> <PAD> <PAD> <PAD> <PAD> <PAD> <PAD>\n",
            "*** [ <START> summertime '' lrb song rrb a popular song by george <UNK> from the 1935 opera <UNK> and <UNK> <EOS> ]  <PAD> <PAD> <PAD> <PAD> <PAD> <PAD> <PAD> 2008 <PAD> '' <PAD> <PAD> <PAD> <PAD> <PAD> <PAD> <PAD> <PAD> <PAD> <PAD> 000 <PAD> <PAD> <PAD> <PAD> <PAD> <EOS> <PAD> <PAD> <PAD> would <PAD> <PAD> members <PAD> measures guinea <PAD> la <EOS>\n",
            "*** [ <START> in computer science dependency is a state in which one object uses the functions of another object <EOS> ]  <PAD> <PAD> <PAD> <PAD> <PAD> <PAD> <PAD> continent <PAD> <PAD> <PAD> <PAD> <PAD> <PAD> <EOS> <PAD> prince <PAD> <PAD> <PAD> 4th <PAD> <PAD> <PAD> <PAD> china <PAD> <PAD> <PAD> <EOS> <PAD> <PAD> <EOS> <PAD> <PAD> <PAD> '' <PAD> <PAD> <PAD> <PAD>\n",
            "*** [ <START> another view holds that a <UNK> acting on gods behalf can <UNK> or work out some of the karma of ]  <PAD> <PAD> <PAD> <PAD> <PAD> shire number <PAD> <PAD> <PAD> <PAD> <PAD> <PAD> party <PAD> <PAD> <PAD> <EOS> <PAD> <PAD> <PAD> <PAD> their <PAD> <PAD> real <PAD> river <PAD> <PAD> <PAD> <PAD> <PAD> education <PAD> <PAD> <PAD> tv <PAD>\n",
            "### TEMP  1.1\n",
            "*** [ <START> after a short time back in spain he returned to paris to study musicology first under maurice <UNK> and then ]  <PAD> <PAD> <PAD> tune <PAD> <PAD> <PAD> rather <PAD> <PAD> <PAD> then storm standard 2003 <PAD> <PAD> huge <PAD> <PAD> <PAD> tv <PAD> <PAD> diesel <PAD> <PAD> <PAD> side <PAD> <PAD> <PAD> <PAD> <PAD> <PAD> currently <PAD> <PAD> <PAD>\n",
            "*** [ <START> there is a minimum of one whole day that the sun does not set and one whole day that the ]  <EOS> <PAD> <PAD> <PAD> <PAD> <PAD> <PAD> cruz rule <PAD> <PAD> nhl <PAD> <PAD> <PAD> <PAD> <PAD> united <PAD> <PAD> <PAD> <PAD> rrb <EOS> <PAD> <PAD> creation <PAD> '' <PAD> <PAD> approach <PAD> <PAD> <PAD> range <PAD> 1980 <PAD>\n",
            "*** [ <START> physical education is a course that <UNK> learning in the cognitive <UNK> and <UNK> <UNK> in a play or movement ]  <PAD> <PAD> <PAD> <PAD> empire <PAD> played <PAD> <PAD> <PAD> <PAD> <PAD> <PAD> happen <PAD> <PAD> <PAD> <PAD> fine <PAD> are <PAD> <PAD> os <PAD> <PAD> <PAD> <PAD> <PAD> <PAD> represented <PAD> metroid <PAD> modified <PAD> designed 1960s <PAD>\n",
            "*** [ <START> the 2010 winter olympics officially known as the <UNK> olympic winter games were the winter olympics that were held in ]  <PAD> <PAD> <EOS> <PAD> <PAD> <PAD> i <PAD> popular programs part <PAD> <PAD> <PAD> <PAD> <PAD> <PAD> <PAD> <PAD> <PAD> <PAD> <PAD> <PAD> <EOS> density <PAD> <PAD> townsend <PAD> <PAD> recent <PAD> catalonia battle television <PAD> 2001 <PAD> <PAD>\n",
            "*** [ <START> physical implementation physical <UNK> are drawn out the different circuit components are placed in a chip floor plan or on ]  <PAD> <PAD> <PAD> <PAD> <PAD> <PAD> <PAD> sweet home <PAD> winner commons mountains <PAD> com <PAD> joseph <PAD> sectors <PAD> <PAD> <PAD> <PAD> <PAD> developed <PAD> bridge particular <PAD> <PAD> cat <PAD> distance <PAD> <PAD> 1958 <PAD> <PAD> <PAD>\n",
            "### TEMP  1.2\n",
            "*** [ <START> note gp games played w wins l losses t ties pts points gf goals for ga goals against pim penalties ]  <PAD> <PAD> <PAD> <PAD> singers <PAD> period <PAD> <PAD> <EOS> 2 <PAD> rrb <PAD> <PAD> <PAD> canton located <PAD> <PAD> <PAD> <PAD> <PAD> <PAD> corn <PAD> century <PAD> <PAD> <PAD> finishing parliamentary <PAD> <EOS> <PAD> nearby <PAD> <PAD> funny\n",
            "*** [ <START> however it is brighter than another moon <UNK> which was discovered from <UNK> photos in 1997 <EOS> <PAD> ]  above <PAD> goaltender <PAD> <PAD> split <PAD> <PAD> canada westminster states <PAD> <PAD> <PAD> king wrestler <PAD> china set <PAD> 19 <PAD> shell <PAD> mr <PAD> follows <PAD> <PAD> derivative <PAD> touch referring image in <PAD> calais <PAD> <PAD> nagorno <PAD>\n",
            "*** [ <START> various pieces of software including text editors lrb or <UNK> in <UNK> for same rrb can generate semi random lorem ]  <PAD> <PAD> <PAD> <PAD> o access <PAD> <PAD> president <PAD> nazi off <PAD> <PAD> <PAD> <EOS> <PAD> <PAD> <PAD> <PAD> george feistel <PAD> 154 <PAD> <EOS> <EOS> <PAD> james <PAD> bounded <PAD> titan <PAD> <PAD> including <PAD> complete <PAD>\n",
            "*** [ <START> a popular writer in her time her work has received even more attention from literary critics in recent years <EOS> ]  <PAD> eastern <PAD> <PAD> <PAD> army <PAD> rrb <PAD> <EOS> body being thirteen bedfordshire <PAD> <PAD> <PAD> <PAD> renewable tamil southern <PAD> <PAD> lifts <PAD> spend rrb <PAD> <PAD> <PAD> language 1852 <PAD> <PAD> <PAD> lines wrestling <PAD> <PAD>\n"
          ],
          "name": "stdout"
        },
        {
          "output_type": "stream",
          "text": [
            "\r  0%|          | 0/186 [00:00<?, ?it/s]"
          ],
          "name": "stderr"
        },
        {
          "output_type": "stream",
          "text": [
            "*** [ <START> it was here that handel composed some of his most famous music such as <UNK> <UNK> the priest and <UNK> ]  <EOS> <PAD> <PAD> <PAD> inland drug <PAD> <PAD> wish graphical leading <PAD> passenger legal glasgow morning <PAD> mont dynasty <PAD> <PAD> <PAD> <PAD> tune eating <PAD> <PAD> recorded zealand rrb <PAD> <PAD> davies <PAD> fourteen <PAD> <PAD> <PAD> <PAD>\n"
          ],
          "name": "stdout"
        },
        {
          "output_type": "stream",
          "text": [
            "100%|██████████| 186/186 [05:45<00:00,  1.86s/it]\n"
          ],
          "name": "stderr"
        },
        {
          "output_type": "stream",
          "text": [
            "### TEMP  0.0\n",
            "*** [ <START> since pluto was originally called a planet it was not given a number until a 2006 <UNK> of planet '' ]  <PAD> <PAD> <PAD> <PAD> <PAD> <PAD> <PAD> <PAD> <PAD> <PAD> <PAD> <PAD> <PAD> <PAD> <PAD> <PAD> <PAD> <PAD> <PAD> <PAD> <PAD> <PAD> <PAD> <PAD> <PAD> <PAD> <PAD> <PAD> <PAD> <PAD> <PAD> <PAD> <PAD> <PAD> <PAD> <PAD> <PAD> <PAD> <PAD>\n",
            "*** [ <START> in 2003 rolling stone magazine named <UNK> 76 on its list of the 500 greatest albums of all time <EOS> ]  <PAD> <PAD> <PAD> <PAD> <PAD> <PAD> <PAD> <PAD> <PAD> <PAD> <PAD> <PAD> <PAD> <PAD> <PAD> <PAD> <PAD> <PAD> <PAD> <PAD> <PAD> <PAD> <PAD> <PAD> <PAD> <PAD> <PAD> <PAD> <PAD> <PAD> <PAD> <PAD> <PAD> <PAD> <PAD> <PAD> <PAD> <PAD> <PAD>\n",
            "*** [ <START> in addition to thousands of books also lost were a major portion of the files and records of professor john ]  <PAD> <PAD> <PAD> <PAD> <PAD> <PAD> <PAD> <PAD> <PAD> <PAD> <PAD> <PAD> <PAD> <PAD> <PAD> <PAD> <PAD> <PAD> <PAD> <PAD> <PAD> <PAD> <PAD> <PAD> <PAD> <PAD> <PAD> <PAD> <PAD> <PAD> <PAD> <PAD> <PAD> <PAD> <PAD> <PAD> <PAD> <PAD> <PAD>\n",
            "*** [ <START> he was one of the first people to separate the similar looking <UNK> willow <UNK> and wood <UNK> by means ]  <PAD> <PAD> <PAD> <PAD> <PAD> <PAD> <PAD> <PAD> <PAD> <PAD> <PAD> <PAD> <PAD> <PAD> <PAD> <PAD> <PAD> <PAD> <PAD> <PAD> <PAD> <PAD> <PAD> <PAD> <PAD> <PAD> <PAD> <PAD> <PAD> <PAD> <PAD> <PAD> <PAD> <PAD> <PAD> <PAD> <PAD> <PAD> <PAD>\n",
            "*** [ <START> the <UNK> was designed to measure the speed and direction of the <UNK> wind '' by measuring the difference between ]  <PAD> <PAD> <PAD> <PAD> <PAD> <PAD> <PAD> <PAD> <PAD> <PAD> <PAD> <PAD> <PAD> <PAD> <PAD> <PAD> <PAD> <PAD> <PAD> <PAD> <PAD> <PAD> <PAD> <PAD> <PAD> <PAD> <PAD> <PAD> <PAD> <PAD> <PAD> <PAD> <PAD> <PAD> <PAD> <PAD> <PAD> <PAD> <PAD>\n",
            "### TEMP  0.9\n",
            "*** [ <START> at oxford he became more and more involved with music especially after he met the folk song <UNK> cecil sharp ]  <PAD> <PAD> <PAD> <PAD> <PAD> <PAD> <PAD> <PAD> <PAD> <PAD> <PAD> <PAD> <PAD> <PAD> <PAD> <PAD> <PAD> <PAD> <PAD> <PAD> <PAD> <PAD> <PAD> <PAD> <PAD> <PAD> <PAD> <PAD> <PAD> <PAD> <PAD> <PAD> <PAD> <PAD> <PAD> <PAD> <PAD> <PAD> <PAD>\n",
            "*** [ <START> in 1921 frost accepted a fellowship teaching post at the university of michigan ann <UNK> where he resided until 1927 ]  <PAD> <PAD> <PAD> <PAD> <PAD> <PAD> <PAD> <PAD> <PAD> <PAD> <PAD> <PAD> <PAD> <PAD> <PAD> <PAD> <PAD> <PAD> <PAD> <PAD> <PAD> <PAD> <PAD> <PAD> <PAD> <PAD> <PAD> <PAD> <PAD> <PAD> <PAD> <PAD> <PAD> <PAD> <PAD> <PAD> <PAD> <PAD> <PAD>\n",
            "*** [ <START> the <UNK> prize lrb in german <UNK> in french prix <UNK> rrb is given every year by the swiss heritage ]  <PAD> <PAD> <PAD> <PAD> <PAD> <PAD> <PAD> <PAD> <PAD> <PAD> <PAD> <PAD> <PAD> <PAD> <PAD> <PAD> <PAD> <PAD> <PAD> <PAD> <PAD> <PAD> <PAD> <PAD> <PAD> <PAD> <PAD> <PAD> <PAD> <PAD> <PAD> <PAD> <PAD> <PAD> <PAD> <PAD> <PAD> <PAD> <PAD>\n",
            "*** [ <START> burn it to the ground is a 2009 rock song by the canadian rock band <UNK> off their dark horse ]  <PAD> <PAD> <PAD> <PAD> <PAD> <PAD> <PAD> <PAD> <PAD> <PAD> <PAD> <PAD> <PAD> <PAD> <PAD> <PAD> <PAD> <PAD> <PAD> <PAD> <PAD> <PAD> <PAD> <PAD> <PAD> <PAD> <PAD> <PAD> <PAD> <PAD> <PAD> <PAD> <PAD> <PAD> <PAD> <PAD> <PAD> <PAD> <PAD>\n",
            "*** [ <START> he then took up an interest in the <UNK> in cosmic radiation which had been discovered by <UNK> allan <UNK> ]  <PAD> <PAD> <PAD> <PAD> <PAD> germany <PAD> <PAD> <PAD> <PAD> <PAD> <PAD> <PAD> <PAD> <PAD> <PAD> <PAD> <PAD> <PAD> <PAD> <PAD> <PAD> <PAD> <PAD> <PAD> <PAD> <PAD> <PAD> <PAD> <PAD> <PAD> <PAD> <PAD> <PAD> <PAD> <PAD> <PAD> <PAD> <PAD>\n",
            "### TEMP  1\n",
            "*** [ <START> when a <UNK> low level jet forms above the boundary layer ahead of a cold front significant low level vertical ]  <PAD> <PAD> <PAD> <PAD> <PAD> <PAD> <PAD> <PAD> <PAD> <PAD> <PAD> <PAD> <PAD> <PAD> <PAD> <PAD> <PAD> <PAD> <PAD> <PAD> <PAD> <EOS> <PAD> <PAD> <PAD> <PAD> <PAD> <PAD> <PAD> <PAD> <PAD> <PAD> <PAD> <PAD> <PAD> <PAD> <PAD> <PAD> <PAD>\n",
            "*** [ <START> at oxford he became more and more involved with music especially after he met the folk song <UNK> cecil sharp ]  <PAD> <PAD> <PAD> <PAD> <PAD> <PAD> <PAD> <PAD> <PAD> <PAD> <PAD> <PAD> <PAD> <PAD> <PAD> <PAD> <PAD> <PAD> <PAD> <PAD> <PAD> <PAD> <PAD> <PAD> <PAD> '' <PAD> <PAD> <PAD> <PAD> <PAD> <PAD> <PAD> <PAD> <PAD> <PAD> <PAD> <PAD> <PAD>\n",
            "*** [ <START> it is made to serve as an all in one solution for audio and video recording editing and other forms ]  <PAD> <PAD> <PAD> <PAD> <PAD> <PAD> <PAD> <PAD> <PAD> <PAD> <PAD> <EOS> <PAD> <PAD> <PAD> <PAD> <PAD> <PAD> <PAD> <PAD> <PAD> <PAD> <PAD> <PAD> <EOS> <EOS> <PAD> <PAD> <PAD> <PAD> <PAD> <PAD> <PAD> <PAD> <PAD> <PAD> <PAD> <PAD> <PAD>\n",
            "*** [ <START> possible artificial fuels include radioactive isotopes wood alcohol grain alcohol methane synthetic gas <UNK> gas hydrogen gas lrb <UNK> rrb ]  <PAD> <PAD> <PAD> <PAD> <PAD> <PAD> <PAD> <PAD> <PAD> <PAD> <PAD> <PAD> <PAD> <PAD> <PAD> <PAD> <PAD> <PAD> <PAD> <PAD> km <PAD> <PAD> <PAD> <PAD> <PAD> <PAD> <PAD> <PAD> <PAD> <PAD> <PAD> <PAD> <PAD> <PAD> <PAD> <PAD> <PAD> <UNK>\n",
            "*** [ <START> the london midland and scottish railway and the london and north eastern railway both developed a system of identifying carriages ]  <PAD> <PAD> <PAD> <PAD> <PAD> <PAD> <PAD> <PAD> <PAD> <PAD> <PAD> <PAD> <PAD> <PAD> <PAD> <PAD> <PAD> <PAD> <PAD> <PAD> <PAD> <PAD> <PAD> <PAD> <PAD> <PAD> <PAD> <PAD> <PAD> <EOS> <PAD> <PAD> <PAD> <PAD> <EOS> <PAD> <PAD> <PAD> <EOS>\n",
            "### TEMP  1.1\n",
            "*** [ <START> weak anthropic principle we must be prepared to take into account the fact that our location in the universe is ]  <PAD> <PAD> <PAD> <PAD> <PAD> <PAD> <PAD> <PAD> <PAD> <PAD> <PAD> <PAD> <PAD> <PAD> <PAD> <PAD> <PAD> <PAD> <PAD> <PAD> <PAD> <PAD> <PAD> <PAD> <PAD> <PAD> <PAD> <PAD> <PAD> <PAD> <PAD> <PAD> <PAD> covered <PAD> <PAD> <PAD> <PAD> <PAD>\n",
            "*** [ <START> in mathematics a <UNK> regular 4 polytope lrb or <UNK> rrb is 4 dimensional polytope which is both regular and ]  <PAD> wizard <PAD> <PAD> <PAD> <PAD> <PAD> <PAD> <PAD> <EOS> <PAD> <PAD> france planet <PAD> <PAD> <PAD> <PAD> <PAD> <EOS> office <PAD> <PAD> <PAD> <PAD> <PAD> <EOS> mosque <PAD> <PAD> <PAD> <PAD> <PAD> <PAD> great present <PAD> <PAD> <PAD>\n",
            "*** [ <START> spaghetti alla bolognese spaghetti bolognese or spaghetti <UNK> in a form popular outside of italy consists of a meat sauce ]  <PAD> <PAD> <PAD> <PAD> <PAD> <PAD> <PAD> <PAD> <PAD> <PAD> <PAD> <PAD> <PAD> <PAD> <PAD> <PAD> <PAD> <PAD> <PAD> <PAD> <PAD> <PAD> <PAD> <PAD> <PAD> <PAD> <PAD> <PAD> <PAD> <PAD> <PAD> <PAD> <PAD> <PAD> <PAD> <PAD> <PAD> <EOS> <PAD>\n",
            "*** [ <START> andrew <UNK> law lrb september 16 1858 october 30 1923 rrb was prime minister of the united kingdom <EOS> ]  <PAD> <PAD> <PAD> <PAD> <EOS> <PAD> <PAD> <PAD> <PAD> <PAD> <PAD> <PAD> <PAD> <PAD> <PAD> <PAD> <PAD> <PAD> <PAD> <PAD> <PAD> <PAD> <PAD> <PAD> <PAD> <PAD> <PAD> <PAD> second <PAD> <PAD> <PAD> <PAD> <PAD> completing <PAD> <PAD> <PAD> <PAD> <EOS>\n",
            "*** [ <START> by 1935 germany was openly breaking the military restrictions of the versailles treaty and was <UNK> on march 16 1935 ]  <PAD> <PAD> <PAD> <PAD> <PAD> <PAD> <PAD> <PAD> <PAD> <PAD> <PAD> <EOS> <PAD> <PAD> <PAD> <PAD> <PAD> <PAD> <PAD> <PAD> <PAD> <PAD> <PAD> <PAD> <PAD> <PAD> <PAD> <PAD> <PAD> <PAD> <PAD> <PAD> <PAD> <PAD> <PAD> <EOS> 2 <PAD> <PAD>\n",
            "### TEMP  1.2\n",
            "*** [ <START> this happens at the same time as the formation of the <UNK> such as <UNK> pangaea and gondwana <EOS> ]  <PAD> often along <PAD> conduct <PAD> <PAD> <UNK> like <PAD> <PAD> <PAD> <PAD> <PAD> <PAD> <PAD> <PAD> <PAD> <PAD> <PAD> <PAD> <PAD> <PAD> <PAD> <PAD> <PAD> <PAD> <PAD> <PAD> <PAD> <PAD> <PAD> <PAD> <PAD> <PAD> <PAD> <PAD> <PAD> <PAD> <PAD>\n",
            "*** [ <START> its discovery was announced by scott s sheppard david c jewitt jan kleyna and brian g marsden on may 4 ]  <PAD> <PAD> <PAD> <PAD> <PAD> <EOS> <PAD> cities <PAD> <PAD> <PAD> <PAD> <PAD> <PAD> <PAD> <PAD> <PAD> <PAD> <PAD> <PAD> <PAD> about <PAD> highest <PAD> <PAD> <PAD> <PAD> <PAD> <PAD> 1979 <PAD> <PAD> <PAD> and reaction <PAD> <PAD> <PAD>\n",
            "*** [ <START> when the allied powers met at <UNK> they agreed to divide germany into four occupation zones and divided berlin into ]  <PAD> <PAD> <PAD> <PAD> <PAD> '' <PAD> <EOS> <PAD> <PAD> <PAD> <EOS> <PAD> <PAD> <PAD> <PAD> <PAD> <PAD> <PAD> <PAD> <PAD> <PAD> <PAD> <PAD> <PAD> 6 <PAD> <EOS> <PAD> <PAD> <PAD> <PAD> <PAD> <PAD> <PAD> <PAD> <PAD> <PAD> <PAD>\n",
            "*** [ <START> the later part of the 1960s the magazine began to report about <UNK> as well as the continuation of articles ]  <PAD> <PAD> <EOS> <PAD> <PAD> functions <PAD> <PAD> <PAD> <PAD> <PAD> rrb <PAD> <PAD> <PAD> <PAD> <PAD> <PAD> odd <PAD> <PAD> <PAD> <PAD> <PAD> only <PAD> <PAD> <PAD> <PAD> <PAD> <PAD> <PAD> <PAD> <PAD> <PAD> <PAD> <PAD> <PAD> <PAD>\n"
          ],
          "name": "stdout"
        },
        {
          "output_type": "stream",
          "text": [
            "\r  0%|          | 0/186 [00:00<?, ?it/s]"
          ],
          "name": "stderr"
        },
        {
          "output_type": "stream",
          "text": [
            "*** [ <START> it was given the nickname <UNK> '' although the <UNK> used to call it the <UNK> '' <UNK> to its ]  <PAD> <PAD> <PAD> <PAD> <PAD> includes <PAD> <PAD> engineering <PAD> <PAD> <PAD> <PAD> <PAD> <EOS> <PAD> <PAD> <PAD> <PAD> <PAD> <PAD> <PAD> <PAD> <PAD> <PAD> <PAD> <PAD> <PAD> or the <PAD> opened <PAD> <PAD> <PAD> <PAD> <PAD> <PAD> <PAD>\n"
          ],
          "name": "stdout"
        },
        {
          "output_type": "stream",
          "text": [
            "100%|██████████| 186/186 [05:42<00:00,  1.84s/it]\n"
          ],
          "name": "stderr"
        },
        {
          "output_type": "stream",
          "text": [
            "### TEMP  0.0\n",
            "*** [ <START> frederick nelson pyatt lrb born september 9 1953 in port arthur ontario rrb is a retired canadian ice hockey player ]  <PAD> <PAD> <PAD> <PAD> <PAD> <PAD> <PAD> <PAD> <PAD> <PAD> <PAD> <PAD> <PAD> <PAD> <PAD> <PAD> <PAD> <PAD> <PAD> <PAD> <PAD> <PAD> <PAD> <PAD> <PAD> <PAD> <PAD> <PAD> <PAD> <PAD> <PAD> <PAD> <PAD> <PAD> <PAD> <PAD> <PAD> <PAD> <PAD>\n",
            "*** [ <START> at oxford he became more and more involved with music especially after he met the folk song <UNK> cecil sharp ]  <PAD> <PAD> <PAD> <PAD> <PAD> <PAD> <PAD> <PAD> <PAD> <PAD> <PAD> <PAD> <PAD> <PAD> <PAD> <PAD> <PAD> <PAD> <PAD> <PAD> <PAD> <PAD> <PAD> <PAD> <PAD> <PAD> <PAD> <PAD> <PAD> <PAD> <PAD> <PAD> <PAD> <PAD> <PAD> <PAD> <PAD> <PAD> <PAD>\n",
            "*** [ <START> there are four common states of matter lrb or physical forms of matter rrb on earth solid liquid <UNK> and ]  <PAD> <PAD> <PAD> <PAD> <PAD> <PAD> <PAD> <PAD> <PAD> <PAD> <PAD> <PAD> <PAD> <PAD> <PAD> <PAD> <PAD> <PAD> <PAD> <PAD> <PAD> <PAD> <PAD> <PAD> <PAD> <PAD> <PAD> <PAD> <PAD> <PAD> <PAD> <PAD> <PAD> <PAD> <PAD> <PAD> <PAD> <PAD> <PAD>\n",
            "*** [ <START> <UNK> unit used in the context of charles babbages <UNK> engine a 19th century concept of a computer <EOS> ]  <PAD> <PAD> <PAD> <PAD> <PAD> <PAD> <PAD> <PAD> <PAD> <PAD> <PAD> <PAD> <PAD> <PAD> <PAD> <PAD> <PAD> <PAD> <PAD> <PAD> <PAD> <PAD> <PAD> <PAD> <PAD> <PAD> <PAD> <PAD> <PAD> <PAD> <PAD> <PAD> <PAD> <PAD> <PAD> <PAD> <PAD> <PAD> <PAD> <PAD>\n",
            "*** [ <START> http www bbc co uk cult buffy angel <UNK> <UNK> <UNK> shtml she married <UNK> hardy on october 5 2002 ]  <PAD> <PAD> <PAD> <PAD> <PAD> <PAD> <PAD> <PAD> <PAD> <PAD> <PAD> <PAD> <PAD> <PAD> <PAD> <PAD> <PAD> <PAD> <PAD> <PAD> <PAD> <PAD> <PAD> <PAD> <PAD> <PAD> <PAD> <PAD> <PAD> <PAD> <PAD> <PAD> <PAD> <PAD> <PAD> <PAD> <PAD> <PAD> <PAD>\n",
            "### TEMP  0.9\n",
            "*** [ <START> the <UNK> language was spoken and written by <UNK> civilization in the ancient area of <UNK> lrb modern tuscany plus ]  <PAD> <PAD> <PAD> <PAD> <PAD> <PAD> <PAD> <PAD> <PAD> <PAD> <PAD> <PAD> <PAD> <PAD> <PAD> <PAD> <PAD> <PAD> <PAD> <PAD> <PAD> <PAD> <PAD> <PAD> <PAD> <PAD> <PAD> <PAD> <PAD> <PAD> <PAD> <PAD> <PAD> <PAD> <PAD> <PAD> <PAD> <PAD> <PAD>\n",
            "*** [ <START> for the purpose of <UNK> revolutionary activity in turkish armenia they formed the hunchakian revolutionary party in august 1887 <EOS> ]  <PAD> <PAD> rrb <PAD> <PAD> <PAD> <PAD> <PAD> <PAD> <PAD> <PAD> <PAD> <PAD> <PAD> <PAD> <PAD> <PAD> <PAD> <PAD> <PAD> <PAD> <EOS> <PAD> <PAD> <PAD> <PAD> <PAD> <PAD> <PAD> <PAD> <PAD> <PAD> <PAD> <PAD> <PAD> <PAD> <PAD> <PAD> <PAD>\n",
            "*** [ <START> before being renamed hollywood cerise '' in the 1940s the color had before that since 1922 been known simply as ]  <PAD> <PAD> <PAD> <PAD> <PAD> <PAD> <PAD> <PAD> <PAD> <PAD> <PAD> <PAD> <PAD> <PAD> <PAD> <PAD> <PAD> <PAD> <PAD> <PAD> <PAD> <PAD> <PAD> <PAD> <PAD> <PAD> <PAD> <PAD> <PAD> <PAD> <PAD> <PAD> <PAD> <PAD> <PAD> <PAD> <PAD> <PAD> <PAD>\n",
            "*** [ <START> louis had just successfully <UNK> his claims to the duchy of milan and they agreed to partition naples between them ]  <PAD> <PAD> <PAD> <PAD> <PAD> <PAD> <PAD> <PAD> <PAD> <PAD> <PAD> <PAD> <PAD> <PAD> <PAD> <PAD> <PAD> <PAD> <PAD> <PAD> <PAD> <PAD> <PAD> <PAD> <PAD> <PAD> <PAD> <PAD> <PAD> <PAD> <PAD> <PAD> <PAD> <PAD> <PAD> <PAD> <PAD> <PAD> <PAD>\n",
            "*** [ <START> social environment the culture that an individual lives in and the people and institutions with whom they <UNK> <EOS> ]  <PAD> <PAD> <PAD> <PAD> <PAD> <PAD> <PAD> <PAD> <PAD> <PAD> <PAD> <PAD> <PAD> <PAD> <PAD> <PAD> <PAD> <PAD> <PAD> <PAD> <PAD> <PAD> <PAD> <PAD> <PAD> <PAD> <PAD> <PAD> <PAD> <PAD> <PAD> <PAD> <PAD> <PAD> <PAD> <PAD> <PAD> <PAD> <PAD> <PAD>\n",
            "### TEMP  1\n",
            "*** [ <START> the county town is traditionally nottingham at though the council is now based in west <UNK> lrb at a site ]  <PAD> <PAD> <PAD> <PAD> <PAD> <EOS> <PAD> <PAD> <PAD> <PAD> <PAD> <PAD> <PAD> <PAD> <PAD> <PAD> <PAD> <PAD> <PAD> <PAD> <PAD> <PAD> <PAD> <PAD> <PAD> <PAD> <PAD> <PAD> <PAD> <PAD> <PAD> apt <PAD> <PAD> <PAD> <PAD> <PAD> <PAD> <PAD>\n",
            "*** [ <START> pizza <UNK> <UNK> lrb four seasons pizza '' rrb same ingredients for the <UNK> but ingredients arent mixed <EOS> ]  <PAD> <PAD> <PAD> <PAD> <PAD> <PAD> <PAD> <PAD> <PAD> <PAD> <PAD> <PAD> <PAD> <PAD> <PAD> <PAD> <PAD> <PAD> <PAD> <PAD> <PAD> <PAD> <PAD> <PAD> <PAD> <PAD> <PAD> <PAD> <PAD> <PAD> <PAD> <PAD> <PAD> <PAD> <PAD> <PAD> <PAD> <PAD> <EOS> <PAD>\n",
            "*** [ <START> <UNK> <UNK> printer 1892 historical records of new south wales vol 1 part 2 lrb 1783 1792 rrb pages 67 ]  <EOS> <PAD> <PAD> <PAD> <PAD> <PAD> <PAD> <PAD> <PAD> <PAD> <PAD> <PAD> <PAD> <PAD> <PAD> <PAD> <PAD> <PAD> <PAD> <PAD> <PAD> <PAD> <PAD> <PAD> <PAD> <PAD> <PAD> <PAD> <PAD> <PAD> <PAD> <PAD> <PAD> <PAD> <PAD> <PAD> <PAD> <PAD> <PAD>\n",
            "*** [ <START> extreme temperature humidity or <UNK> also influence the <UNK> value <UNK> value and <UNK> of crops <EOS> ]  <PAD> <PAD> <PAD> <PAD> <PAD> <EOS> <PAD> <PAD> <PAD> <PAD> <EOS> <PAD> <PAD> <PAD> <PAD> <PAD> <PAD> <PAD> <PAD> <PAD> <PAD> <PAD> <PAD> <PAD> <PAD> <PAD> <PAD> <PAD> <PAD> <PAD> <PAD> <PAD> <PAD> <PAD> <PAD> <PAD> <PAD> <EOS> <PAD> <PAD> <PAD> <PAD>\n",
            "*** [ <START> during their approval process lrb see below rrb <UNK> may make up to 50 <UNK> to show how they will ]  <PAD> <PAD> <PAD> <PAD> <PAD> <PAD> <PAD> <PAD> <PAD> <PAD> <PAD> <PAD> <PAD> <PAD> <PAD> <PAD> <PAD> <PAD> <PAD> <PAD> <PAD> <PAD> <PAD> <PAD> <PAD> <PAD> <PAD> <PAD> <PAD> <PAD> <PAD> 11th <PAD> <PAD> <PAD> <PAD> <PAD> <PAD> <PAD>\n",
            "### TEMP  1.1\n",
            "*** [ <START> first run <UNK> first run syndicated programs are programs that are shown for the first time as a syndicated programs ]  <PAD> <PAD> <PAD> <PAD> <PAD> <PAD> <PAD> <PAD> <PAD> <PAD> <PAD> <PAD> <PAD> <PAD> <PAD> <PAD> <PAD> <PAD> press <PAD> <PAD> <PAD> <PAD> <PAD> <PAD> <PAD> <PAD> <PAD> <PAD> <PAD> <PAD> <PAD> <PAD> <PAD> <PAD> <PAD> <PAD> <PAD> side\n",
            "*** [ <START> it was founded by the name villa de <UNK> in 1541 by <UNK> <UNK> on the western bank of the ]  <PAD> near <PAD> <PAD> <PAD> <PAD> <PAD> <PAD> <PAD> world <PAD> <PAD> <PAD> <PAD> <PAD> <PAD> <PAD> <PAD> <PAD> <PAD> <PAD> <PAD> <PAD> <PAD> <PAD> <PAD> <PAD> <PAD> <PAD> <PAD> <PAD> <PAD> <PAD> <PAD> <PAD> <PAD> <PAD> <PAD> high\n",
            "*** [ <START> he first appeared along with the other members of the simpson family on the tracey ullman show in the simpson ]  <PAD> <PAD> <PAD> <PAD> <PAD> <PAD> <PAD> <PAD> <PAD> <PAD> <EOS> <PAD> <PAD> <PAD> <PAD> <PAD> <PAD> <PAD> <PAD> <PAD> <PAD> <PAD> <PAD> <PAD> <PAD> <PAD> <PAD> <PAD> <PAD> <PAD> <PAD> <PAD> <PAD> <PAD> <PAD> <PAD> <PAD> <PAD> <PAD>\n",
            "*** [ <START> the night before he priest died he said in a soft voice o death o holy death come do come ]  <PAD> <PAD> mr <PAD> <PAD> <PAD> <PAD> <PAD> <PAD> <PAD> <PAD> <PAD> <PAD> <PAD> <EOS> <PAD> <PAD> <PAD> <PAD> <PAD> <PAD> <PAD> <PAD> <PAD> <PAD> <PAD> <PAD> <PAD> <PAD> <PAD> <PAD> <PAD> <PAD> <PAD> <PAD> <EOS> <PAD> france <PAD>\n",
            "*** [ <START> with widespread establishment of power grids power transmission has came to be associated most often with electric power transmission <EOS> ]  <PAD> <PAD> <PAD> <PAD> <PAD> <PAD> <PAD> <PAD> <PAD> <PAD> <PAD> <PAD> <PAD> <PAD> <PAD> <PAD> <PAD> <PAD> <PAD> <PAD> <PAD> <EOS> national <PAD> <PAD> <PAD> <PAD> <PAD> <PAD> <PAD> <PAD> <PAD> <PAD> <PAD> <PAD> <PAD> <PAD> <PAD> <PAD>\n",
            "### TEMP  1.2\n",
            "*** [ <START> scientists still believed that liquid <UNK> and methane would be found near titans poles where they expected to find lots ]  <EOS> <PAD> <PAD> <PAD> <PAD> <PAD> <PAD> <PAD> <PAD> <PAD> <PAD> <PAD> <PAD> <PAD> <PAD> antoine <PAD> <PAD> <PAD> crime <PAD> reports <EOS> raymond <PAD> <PAD> <PAD> <PAD> <PAD> <PAD> <PAD> <PAD> <PAD> dame <PAD> <PAD> <PAD> <PAD> <PAD>\n",
            "*** [ <START> during their approval process lrb see below rrb <UNK> may make up to 50 <UNK> to show how they will ]  <PAD> <PAD> <PAD> <PAD> <PAD> <PAD> <PAD> <PAD> <PAD> <PAD> <PAD> <PAD> <PAD> <PAD> <PAD> <PAD> <PAD> <PAD> <PAD> <PAD> <PAD> <PAD> <PAD> <PAD> <PAD> <PAD> <PAD> <EOS> <PAD> <PAD> <PAD> <PAD> <PAD> <EOS> <PAD> <EOS> <PAD> <PAD> <PAD>\n",
            "*** [ <START> the band got very <UNK> until six months later when they released their second single <UNK> <EOS> ]  <PAD> <EOS> <PAD> <PAD> <PAD> <PAD> <PAD> <PAD> <PAD> royal <PAD> <PAD> shaped <PAD> events <PAD> <PAD> <PAD> <PAD> <PAD> distance <PAD> several <PAD> technology <PAD> <PAD> college <PAD> <PAD> <PAD> <PAD> <PAD> <PAD> <PAD> <PAD> <PAD> <PAD> <PAD> <PAD> <PAD> <PAD>\n",
            "*** [ <START> it was once part of the north south torrance to san pedro <UNK> line of the pacific electric railway <EOS> ]  <PAD> <PAD> other <PAD> <PAD> <PAD> <PAD> <PAD> <PAD> <PAD> foreign united <PAD> <PAD> <PAD> <PAD> <PAD> <PAD> <PAD> <PAD> <PAD> <PAD> <PAD> <PAD> <PAD> <PAD> <PAD> <PAD> <PAD> <PAD> <PAD> <PAD> <PAD> <EOS> <PAD> <PAD> <PAD> <PAD> san\n"
          ],
          "name": "stdout"
        },
        {
          "output_type": "stream",
          "text": [
            "\r  0%|          | 0/186 [00:00<?, ?it/s]"
          ],
          "name": "stderr"
        },
        {
          "output_type": "stream",
          "text": [
            "*** [ <START> the royal surrey gardens lrb surrey music hall rrb were gardens in <UNK> london during the victorian period <EOS> ]  <PAD> <PAD> <PAD> <PAD> <PAD> <PAD> <PAD> <PAD> <PAD> <PAD> <PAD> <PAD> <PAD> ship through <PAD> <PAD> <PAD> event <PAD> <PAD> <PAD> <PAD> <PAD> <PAD> <PAD> <PAD> <PAD> <PAD> <PAD> <PAD> <PAD> <PAD> <PAD> <PAD> <PAD> <PAD> <PAD> <PAD> <PAD>\n"
          ],
          "name": "stdout"
        },
        {
          "output_type": "stream",
          "text": [
            "100%|██████████| 186/186 [05:41<00:00,  1.84s/it]\n"
          ],
          "name": "stderr"
        },
        {
          "output_type": "stream",
          "text": [
            "### TEMP  0.0\n",
            "*** [ <START> i have in the course of my political struggle won much love from my people but when i crossed the ]  <PAD> <PAD> <PAD> <PAD> <PAD> <PAD> <PAD> <PAD> <PAD> <PAD> <PAD> <PAD> <PAD> <PAD> <PAD> <PAD> <PAD> <PAD> <PAD> <PAD> <PAD> <PAD> <PAD> <PAD> <PAD> <PAD> <PAD> <PAD> <PAD> <PAD> <PAD> <PAD> <PAD> <PAD> <PAD> <PAD> <PAD> <PAD> <PAD>\n",
            "*** [ <START> it is bordered by florida to the south alabama to the west tennessee and north carolina to the north and ]  <PAD> <PAD> <PAD> <PAD> <PAD> <PAD> <PAD> <PAD> <PAD> <PAD> <PAD> <PAD> <PAD> <PAD> <PAD> <PAD> <PAD> <PAD> <PAD> <PAD> <PAD> <PAD> <PAD> <PAD> <PAD> <PAD> <PAD> <PAD> <PAD> <PAD> <PAD> <PAD> <PAD> <PAD> <PAD> <PAD> <PAD> <PAD> <PAD>\n",
            "*** [ <START> the sierra nevada stretches 400 miles lrb 650 km rrb from <UNK> pass in the north to <UNK> pass in ]  <PAD> <PAD> <PAD> <PAD> <PAD> <PAD> <PAD> <PAD> <PAD> <PAD> <PAD> <PAD> <PAD> <PAD> <PAD> <PAD> <PAD> <PAD> <PAD> <PAD> <PAD> <PAD> <PAD> <PAD> <PAD> <PAD> <PAD> <PAD> <PAD> <PAD> <PAD> <PAD> <PAD> <PAD> <PAD> <PAD> <PAD> <PAD> <PAD>\n",
            "*** [ <START> this royal rumble set a new record for the most wrestlers involved in an <UNK> taking 8 men to throw ]  <PAD> <PAD> <PAD> <PAD> <PAD> <PAD> <PAD> <PAD> <PAD> <PAD> <PAD> <PAD> <PAD> <PAD> <PAD> <PAD> <PAD> <PAD> <PAD> <PAD> <PAD> <PAD> <PAD> <PAD> <PAD> <PAD> <PAD> <PAD> <PAD> <PAD> <PAD> <PAD> <PAD> <PAD> <PAD> <PAD> <PAD> <PAD> <PAD>\n",
            "*** [ <START> the london midland and scottish railway and the london and north eastern railway both developed a system of identifying carriages ]  <PAD> <PAD> <PAD> <PAD> <PAD> <PAD> <PAD> <PAD> <PAD> <PAD> <PAD> <PAD> <PAD> <PAD> <PAD> <PAD> <PAD> <PAD> <PAD> <PAD> <PAD> <PAD> <PAD> <PAD> <PAD> <PAD> <PAD> <PAD> <PAD> <PAD> <PAD> <PAD> <PAD> <PAD> <PAD> <PAD> <PAD> <PAD> <PAD>\n",
            "### TEMP  0.9\n",
            "*** [ <START> this latest release is named after electrical audio the studio founded by sound engineer steve <UNK> in chicago usa <EOS> ]  <PAD> <PAD> <PAD> <PAD> <PAD> <PAD> <PAD> <PAD> <PAD> <PAD> <PAD> <PAD> <PAD> <PAD> <PAD> <PAD> <PAD> <PAD> <PAD> <PAD> <PAD> <PAD> <PAD> <PAD> <PAD> <PAD> <PAD> <PAD> <PAD> <PAD> <PAD> <PAD> <PAD> <PAD> <PAD> <PAD> <PAD> <PAD> <PAD>\n",
            "*** [ <START> the chola dynasty lrb rrb was a tamil dynasty that ruled in southern india until the 13th century <EOS> ]  <PAD> <PAD> <PAD> <PAD> <PAD> <PAD> <PAD> <PAD> <PAD> <PAD> <PAD> <PAD> <PAD> <PAD> <PAD> <PAD> <PAD> <PAD> <PAD> <PAD> <PAD> <PAD> <PAD> <PAD> <PAD> <PAD> <PAD> <PAD> <PAD> <PAD> <PAD> <PAD> <PAD> <PAD> <PAD> <PAD> <PAD> <PAD> <PAD> <PAD>\n",
            "*** [ <START> it is based upon georges <UNK> opera carmen set in philadelphia and los angeles in modern times and features a ]  <EOS> <PAD> <PAD> <PAD> <PAD> <PAD> <PAD> <PAD> <PAD> <PAD> <PAD> <PAD> <PAD> <PAD> <PAD> <PAD> <PAD> <PAD> <PAD> <PAD> <PAD> <PAD> <PAD> <PAD> <PAD> <PAD> <PAD> <PAD> <PAD> <PAD> <PAD> <PAD> <PAD> <PAD> <PAD> <PAD> <PAD> <PAD> <PAD>\n",
            "*** [ <START> burn it to the ground is a 2009 rock song by the canadian rock band <UNK> off their dark horse ]  <PAD> <PAD> <PAD> <PAD> <PAD> <PAD> <PAD> <PAD> <PAD> <PAD> <PAD> <PAD> <PAD> <PAD> <PAD> <PAD> <PAD> <PAD> <PAD> <PAD> <PAD> <PAD> <PAD> <PAD> <PAD> <PAD> <PAD> <PAD> <PAD> <PAD> <PAD> <PAD> <PAD> <PAD> <PAD> <PAD> <PAD> <PAD> <PAD>\n",
            "*** [ <START> the census bureau does not provide a standard definition of a central '' region of the united states and organizations ]  <PAD> <PAD> <EOS> <PAD> <PAD> <PAD> <PAD> <PAD> <PAD> <PAD> <PAD> <PAD> <PAD> <PAD> <PAD> <PAD> <PAD> <PAD> <PAD> <PAD> <PAD> <PAD> <PAD> <PAD> <PAD> <PAD> <PAD> <PAD> <PAD> <PAD> <PAD> <PAD> <PAD> <PAD> <PAD> <PAD> <PAD> <PAD> <PAD>\n",
            "### TEMP  1\n",
            "*** [ <START> the promotion in its current form was started by steve <UNK> in 2007 to be <UNK> second developmental territory when ]  <PAD> <PAD> <PAD> <PAD> <PAD> <PAD> <PAD> <PAD> <PAD> <PAD> <PAD> <PAD> <PAD> <PAD> <PAD> <PAD> <PAD> <PAD> <PAD> <PAD> <PAD> <PAD> <PAD> <PAD> <PAD> <PAD> <PAD> <PAD> <PAD> <PAD> <PAD> <PAD> <PAD> <PAD> <PAD> <PAD> <PAD> <PAD> <PAD>\n",
            "*** [ <START> the <UNK> company of <UNK> receives the right to <UNK> the leather trade in london england <EOS> ]  <PAD> <PAD> <PAD> <PAD> <PAD> <PAD> <PAD> <PAD> <PAD> <PAD> <PAD> <PAD> <PAD> <PAD> <PAD> <PAD> <PAD> <PAD> <PAD> <PAD> <PAD> <PAD> <PAD> <PAD> <PAD> <PAD> <PAD> <PAD> <PAD> <PAD> <PAD> <PAD> <PAD> <PAD> <PAD> <PAD> <PAD> <PAD> <PAD> <PAD> <PAD> <PAD>\n",
            "*** [ <START> historically much of western warwickshire was covered by the ancient forest of arden lrb although most of this was cut ]  <PAD> <PAD> <PAD> <PAD> <PAD> <PAD> <PAD> <PAD> <PAD> <PAD> <PAD> <PAD> <PAD> <EOS> <PAD> <PAD> <PAD> <PAD> <PAD> <PAD> <PAD> <PAD> <PAD> <PAD> <PAD> <PAD> <PAD> <PAD> <PAD> <PAD> <PAD> <PAD> de <PAD> <PAD> <PAD> <PAD> <PAD> <PAD>\n",
            "*** [ <START> at the <UNK> today his <UNK> is put at the front of the royal albert hall during the whole of ]  <PAD> <PAD> <PAD> <PAD> <PAD> <PAD> <PAD> <PAD> <PAD> <PAD> <PAD> <PAD> <PAD> <PAD> <PAD> <PAD> <PAD> <PAD> <PAD> <PAD> <PAD> <PAD> <PAD> <PAD> <PAD> <PAD> <PAD> <PAD> <PAD> <PAD> <PAD> <PAD> <PAD> <PAD> <PAD> <PAD> <PAD> <PAD> <PAD>\n",
            "*** [ <START> by 1935 germany was openly breaking the military restrictions of the versailles treaty and was <UNK> on march 16 1935 ]  <PAD> <PAD> <PAD> <PAD> <PAD> <PAD> <PAD> <PAD> <PAD> <PAD> <PAD> <PAD> <PAD> <PAD> <PAD> <PAD> <PAD> <PAD> <PAD> <PAD> <PAD> <PAD> <PAD> <PAD> <PAD> <PAD> <PAD> <PAD> <PAD> <PAD> <PAD> <PAD> <PAD> <PAD> <PAD> <PAD> <PAD> <PAD> <PAD>\n",
            "### TEMP  1.1\n",
            "*** [ <START> at oxford he became more and more involved with music especially after he met the folk song <UNK> cecil sharp ]  <PAD> <PAD> <PAD> <PAD> <PAD> <PAD> <PAD> <PAD> <PAD> <PAD> <PAD> <PAD> <PAD> <PAD> <PAD> <PAD> <PAD> <PAD> <PAD> <PAD> <PAD> <PAD> <PAD> <PAD> <PAD> <PAD> <PAD> <PAD> <PAD> <PAD> <PAD> <PAD> <PAD> <PAD> <PAD> <PAD> year <PAD> <PAD>\n",
            "*** [ <START> at the <UNK> today his <UNK> is put at the front of the royal albert hall during the whole of ]  <PAD> <PAD> <PAD> <PAD> <PAD> <PAD> <PAD> <PAD> site <PAD> <PAD> <PAD> <PAD> <PAD> <PAD> <PAD> <PAD> <PAD> <PAD> <PAD> <PAD> <UNK> <PAD> <PAD> <PAD> <PAD> <PAD> <PAD> <PAD> <PAD> <PAD> <PAD> <PAD> <PAD> <EOS> russian <PAD> <PAD> <PAD>\n",
            "*** [ <START> the trailer features two women <UNK> into a cup taking turns consuming the <UNK> and vomiting it into each others ]  <PAD> <PAD> <PAD> <PAD> <PAD> <PAD> <PAD> <PAD> <PAD> <PAD> <PAD> <PAD> <PAD> <PAD> <PAD> <PAD> <PAD> <PAD> <PAD> <PAD> <PAD> <PAD> <PAD> <PAD> <PAD> <PAD> <PAD> <PAD> <PAD> <PAD> <PAD> <PAD> <PAD> <PAD> warriors <PAD> <PAD> <PAD> <PAD>\n",
            "*** [ <START> by 1935 germany was openly breaking the military restrictions of the versailles treaty and was <UNK> on march 16 1935 ]  <EOS> <PAD> <PAD> <PAD> <PAD> <PAD> <PAD> <PAD> <PAD> <PAD> <PAD> <PAD> <PAD> <PAD> <PAD> <PAD> <PAD> <PAD> <PAD> <PAD> <PAD> <PAD> <PAD> <PAD> <PAD> <PAD> <PAD> <PAD> <PAD> <PAD> <PAD> <PAD> <PAD> <PAD> <PAD> de <PAD> <PAD> <PAD>\n",
            "*** [ <START> <UNK> a <UNK> like string that is fired at prey and <UNK> around a cellular projection on the prey <EOS> ]  <PAD> <PAD> <PAD> <PAD> <PAD> <PAD> <PAD> <PAD> <PAD> <PAD> <PAD> <EOS> <PAD> <PAD> <PAD> <PAD> <PAD> <PAD> <PAD> <PAD> <PAD> <PAD> <PAD> <PAD> <PAD> <PAD> <PAD> <PAD> <PAD> <PAD> <PAD> <PAD> <PAD> <PAD> <PAD> only <PAD> <PAD> <PAD>\n",
            "### TEMP  1.2\n",
            "*** [ <START> <UNK> one of the tribes of <UNK> in <UNK> fictional middle earth called gnomes in <UNK> early works <EOS> <PAD> ]  <PAD> <PAD> <PAD> cancer <PAD> <PAD> <PAD> <EOS> <PAD> <PAD> <PAD> <PAD> <PAD> <PAD> <PAD> <PAD> <PAD> <PAD> <PAD> <PAD> <PAD> <PAD> <PAD> <PAD> <PAD> <PAD> <PAD> <PAD> <PAD> <PAD> <PAD> business <PAD> <PAD> <PAD> <PAD> <PAD> <PAD> <PAD>\n",
            "*** [ <START> luigi fabbri lrb 1877 1935 rrb was an italian anarchist writer <UNK> and <UNK> who was charged with <UNK> during ]  <PAD> <PAD> <PAD> <PAD> <PAD> <PAD> <PAD> <PAD> <PAD> <PAD> <PAD> <PAD> <PAD> <PAD> <PAD> <PAD> <PAD> <PAD> <PAD> <PAD> <PAD> <PAD> <PAD> <PAD> <PAD> <PAD> <PAD> <PAD> <PAD> design <PAD> <PAD> service <PAD> middle <PAD> <PAD> <PAD> <PAD>\n",
            "*** [ <START> in lake <UNK> american tourist donald duck <UNK> the lake <UNK> and meets with some of the local <UNK> including ]  <PAD> <PAD> rock <PAD> <PAD> <PAD> <PAD> <PAD> <PAD> <PAD> <PAD> <PAD> <PAD> <PAD> particular <PAD> <PAD> <PAD> <PAD> <PAD> <PAD> <PAD> <PAD> <PAD> <PAD> <PAD> <PAD> <PAD> <PAD> <PAD> <PAD> <PAD> <PAD> <PAD> <PAD> <PAD> <PAD> <PAD> <PAD>\n",
            "*** [ <START> the <UNK> language was spoken and written by <UNK> civilization in the ancient area of <UNK> lrb modern tuscany plus ]  <PAD> <PAD> <PAD> <PAD> expectations <PAD> <PAD> <PAD> <PAD> <PAD> <PAD> <PAD> <PAD> <PAD> <PAD> <PAD> <PAD> <PAD> <PAD> <PAD> <PAD> <PAD> <PAD> <PAD> english <PAD> <PAD> <PAD> <PAD> <PAD> <PAD> <PAD> <PAD> <PAD> <PAD> <PAD> <PAD> <PAD> line\n"
          ],
          "name": "stdout"
        },
        {
          "output_type": "stream",
          "text": [
            "\r  0%|          | 0/186 [00:00<?, ?it/s]"
          ],
          "name": "stderr"
        },
        {
          "output_type": "stream",
          "text": [
            "*** [ <START> first run <UNK> first run syndicated programs are programs that are shown for the first time as a syndicated programs ]  <PAD> <PAD> <PAD> <PAD> <PAD> <PAD> <PAD> <PAD> <PAD> <PAD> <PAD> <PAD> <PAD> <PAD> <PAD> <PAD> <PAD> <PAD> <PAD> <PAD> <PAD> <PAD> <PAD> <PAD> <PAD> <PAD> <PAD> 1990s <PAD> <PAD> <PAD> <PAD> <PAD> <PAD> <PAD> <PAD> <PAD> <PAD> <PAD>\n"
          ],
          "name": "stdout"
        },
        {
          "output_type": "stream",
          "text": [
            "100%|██████████| 186/186 [05:44<00:00,  1.85s/it]\n"
          ],
          "name": "stderr"
        },
        {
          "output_type": "stream",
          "text": [
            "### TEMP  0.0\n",
            "*** [ <START> they are usually divided into families or groups based on historical period geography and or cultural <UNK> <EOS> ]  <PAD> <PAD> <PAD> <PAD> <PAD> <PAD> <PAD> <PAD> <PAD> <PAD> <PAD> <PAD> <PAD> <PAD> <PAD> <PAD> <PAD> <PAD> <PAD> <PAD> <PAD> <PAD> <PAD> <PAD> <PAD> <PAD> <PAD> <PAD> <PAD> <PAD> <PAD> <PAD> <PAD> <PAD> <PAD> <PAD> <PAD> <PAD> <PAD> <PAD> <PAD>\n",
            "*** [ <START> <UNK> unit used in the context of charles babbages <UNK> engine a 19th century concept of a computer <EOS> ]  <PAD> <PAD> <PAD> <PAD> <PAD> <PAD> <PAD> <PAD> <PAD> <PAD> <PAD> <PAD> <PAD> <PAD> <PAD> <PAD> <PAD> <PAD> <PAD> <PAD> <PAD> <PAD> <PAD> <PAD> <PAD> <PAD> <PAD> <PAD> <PAD> <PAD> <PAD> <PAD> <PAD> <PAD> <PAD> <PAD> <PAD> <PAD> <PAD> <PAD>\n",
            "*** [ <START> for the purpose of <UNK> revolutionary activity in turkish armenia they formed the hunchakian revolutionary party in august 1887 <EOS> ]  <PAD> <PAD> <PAD> <PAD> <PAD> <PAD> <PAD> <PAD> <PAD> <PAD> <PAD> <PAD> <PAD> <PAD> <PAD> <PAD> <PAD> <PAD> <PAD> <PAD> <PAD> <PAD> <PAD> <PAD> <PAD> <PAD> <PAD> <PAD> <PAD> <PAD> <PAD> <PAD> <PAD> <PAD> <PAD> <PAD> <PAD> <PAD> <PAD>\n",
            "*** [ <START> james mountain jim '' <UNK> lrb born november 17 1934 rrb is a american politician from oklahoma <EOS> ]  <PAD> <PAD> <PAD> <PAD> <PAD> <PAD> <PAD> <PAD> <PAD> <PAD> <PAD> <PAD> <PAD> <PAD> <PAD> <PAD> <PAD> <PAD> <PAD> <PAD> <PAD> <PAD> <PAD> <PAD> <PAD> <PAD> <PAD> <PAD> <PAD> <PAD> <PAD> <PAD> <PAD> <PAD> <PAD> <PAD> <PAD> <PAD> <PAD> <PAD> <PAD>\n",
            "*** [ <START> under this condition the asteroid actually appears to stop but unlike the normal condition for a body in <UNK> <UNK> ]  <PAD> <PAD> <PAD> <PAD> <PAD> <PAD> <PAD> <PAD> <PAD> <PAD> <PAD> <PAD> <PAD> <PAD> <PAD> <PAD> <PAD> <PAD> <PAD> <PAD> <PAD> <PAD> <PAD> <PAD> <PAD> <PAD> <PAD> <PAD> <PAD> <PAD> <PAD> <PAD> <PAD> <PAD> <PAD> <PAD> <PAD> <PAD> <PAD>\n",
            "### TEMP  0.9\n",
            "*** [ <START> as minister of state for foreign affairs he played a part in the peace agreements between egyptian president <UNK> <UNK> ]  <PAD> <PAD> <PAD> <PAD> <PAD> <PAD> <PAD> <PAD> <PAD> <PAD> <PAD> <PAD> <PAD> <PAD> <PAD> <PAD> <PAD> <PAD> <PAD> <PAD> <PAD> <PAD> <PAD> <PAD> <PAD> <PAD> <PAD> <PAD> <PAD> <PAD> <PAD> <PAD> <PAD> <PAD> <PAD> <PAD> <PAD> <PAD> <PAD>\n",
            "*** [ <START> physical education is a course that <UNK> learning in the cognitive <UNK> and <UNK> <UNK> in a play or movement ]  <PAD> <PAD> <PAD> <PAD> <PAD> <PAD> <PAD> <PAD> <PAD> <PAD> <PAD> <PAD> <PAD> <PAD> <PAD> <PAD> <PAD> <PAD> <PAD> <PAD> <PAD> <PAD> <PAD> <PAD> <PAD> <PAD> <PAD> <PAD> <PAD> <PAD> <PAD> <PAD> <PAD> <PAD> <PAD> <PAD> <PAD> <PAD> <PAD>\n",
            "*** [ <START> countries that rely most on nuclear energy were france lrb with 75 of its electricity generated by nuclear power stations ]  <PAD> <PAD> <PAD> <PAD> <PAD> <PAD> <PAD> <PAD> <PAD> <PAD> <PAD> <PAD> <PAD> <PAD> <PAD> <PAD> <PAD> <PAD> <PAD> <PAD> <PAD> <PAD> <PAD> <PAD> <PAD> <PAD> <PAD> <PAD> <PAD> <PAD> <PAD> <PAD> <PAD> <PAD> <PAD> <PAD> <PAD> <PAD> <PAD>\n",
            "*** [ <START> arrow heads are <UNK> or <UNK> stones <UNK> and <UNK> of rock that are <UNK> enough for the tip of ]  <PAD> <PAD> <PAD> <PAD> <PAD> <PAD> <PAD> <PAD> <PAD> <PAD> <PAD> <PAD> <PAD> <PAD> <PAD> <PAD> <PAD> <PAD> <PAD> <PAD> <PAD> <PAD> <PAD> <PAD> <PAD> <PAD> <PAD> <PAD> <PAD> <PAD> <PAD> <PAD> <PAD> <PAD> <PAD> <PAD> <PAD> <PAD> <PAD>\n",
            "*** [ <START> he also activated around 1 200 national guard troops a 70 member rescue team six <UNK> and a team that ]  <PAD> <PAD> <PAD> <PAD> <PAD> <PAD> <PAD> <PAD> <PAD> <PAD> <PAD> <PAD> <PAD> <PAD> <PAD> <PAD> <PAD> <PAD> <PAD> <PAD> <PAD> <PAD> <PAD> <PAD> <PAD> <PAD> <PAD> <PAD> <PAD> <PAD> <PAD> <PAD> <PAD> <PAD> <PAD> <PAD> <PAD> <PAD> <PAD>\n",
            "### TEMP  1\n",
            "*** [ <START> <UNK> <UNK> rosignano <UNK> <UNK> <UNK> della <UNK> <UNK> <UNK> <EOS> <PAD> <PAD> <PAD> <PAD> ]  <PAD> <PAD> <PAD> <PAD> <PAD> <PAD> <PAD> <PAD> <PAD> <PAD> <PAD> <PAD> <PAD> <PAD> <PAD> <PAD> <PAD> <PAD> <PAD> <PAD> <PAD> <PAD> <PAD> <PAD> <PAD> <PAD> <PAD> <PAD> <PAD> <PAD> <PAD> <PAD> <PAD> <PAD> <PAD> <PAD> <PAD> <PAD> <PAD> <PAD> <PAD> <PAD> <PAD> <PAD>\n",
            "*** [ <START> the trans karakoram tract is an area of nearly 5 800 km that india claims was transferred by a border ]  <PAD> <PAD> <PAD> <PAD> <PAD> <PAD> <PAD> <PAD> <PAD> <PAD> <PAD> <PAD> <PAD> <PAD> <PAD> <PAD> <PAD> <PAD> <PAD> <PAD> <PAD> <PAD> <PAD> <PAD> <PAD> <PAD> <PAD> <PAD> <PAD> <PAD> <PAD> <PAD> <PAD> <PAD> <PAD> <PAD> <PAD> <PAD> <PAD>\n",
            "*** [ <START> the eight class 460 units are lrb up to 2009 rrb the last to be classified under the tops <UNK> ]  <PAD> <PAD> <PAD> <PAD> <PAD> <PAD> <PAD> <PAD> <EOS> <PAD> <PAD> <PAD> <PAD> <PAD> <PAD> <PAD> <PAD> <PAD> <PAD> <PAD> <PAD> <PAD> <PAD> <PAD> <PAD> <PAD> <PAD> <PAD> <PAD> <PAD> <PAD> <PAD> <PAD> <PAD> <PAD> <PAD> <PAD> <PAD> <PAD>\n",
            "*** [ <START> a heritage railway lrb united kingdom rrb preserved railway lrb united kingdom rrb or tourist railroad lrb united states and ]  <PAD> <PAD> <PAD> <PAD> <PAD> <PAD> <PAD> <PAD> <PAD> <PAD> <PAD> <PAD> <PAD> <PAD> <PAD> <PAD> <PAD> <PAD> <PAD> <PAD> <PAD> <PAD> <PAD> <PAD> <PAD> <PAD> <PAD> <PAD> <PAD> <PAD> <PAD> <PAD> <PAD> <PAD> <PAD> <PAD> <PAD> <PAD> <PAD>\n",
            "*** [ <START> it often contains things like chinese cabbage <UNK> garlic red <UNK> spring onion <UNK> ginger salt and sugar <EOS> ]  <PAD> <PAD> <PAD> <PAD> <PAD> <PAD> <PAD> <PAD> <PAD> <PAD> <PAD> <PAD> <EOS> <PAD> <PAD> <PAD> <PAD> <PAD> <EOS> <PAD> <PAD> <PAD> <PAD> <PAD> <PAD> <PAD> <PAD> <PAD> <PAD> <PAD> <PAD> <PAD> <PAD> <PAD> <PAD> <PAD> <PAD> <PAD> <PAD> <PAD>\n",
            "### TEMP  1.1\n",
            "*** [ <START> http www <UNK> webster com dictionary half <UNK> www <UNK> webster com dictionary half <UNK> dictionary reference com <UNK> half ]  <PAD> <PAD> <PAD> <PAD> <PAD> <PAD> <PAD> <PAD> <PAD> <PAD> <PAD> <PAD> <PAD> <PAD> <PAD> <PAD> <PAD> <PAD> <PAD> <PAD> <PAD> <PAD> <PAD> <PAD> <PAD> <PAD> <PAD> <PAD> <PAD> <PAD> <PAD> <PAD> <PAD> <PAD> <PAD> <PAD> <PAD> <PAD> <PAD>\n",
            "*** [ <START> countries that rely most on nuclear energy were france lrb with 75 of its electricity generated by nuclear power stations ]  <PAD> <PAD> <PAD> <PAD> <PAD> <PAD> <PAD> <PAD> <PAD> <PAD> <PAD> <PAD> <PAD> <PAD> <PAD> <PAD> <PAD> <PAD> <PAD> <PAD> <PAD> <PAD> <PAD> <PAD> <PAD> <PAD> <PAD> <PAD> <PAD> <PAD> <PAD> <PAD> <PAD> <PAD> <PAD> <PAD> <PAD> <PAD> <PAD>\n",
            "*** [ <START> http www bbc co uk cult buffy angel <UNK> <UNK> <UNK> shtml she married <UNK> hardy on october 5 2002 ]  <PAD> <PAD> <PAD> <EOS> <PAD> <PAD> <PAD> <PAD> <PAD> <PAD> <PAD> <PAD> <PAD> <PAD> <PAD> <PAD> <PAD> <PAD> <PAD> <PAD> <PAD> <PAD> <PAD> <PAD> <PAD> making <PAD> <PAD> <PAD> <PAD> <PAD> <PAD> <PAD> <PAD> <PAD> <PAD> <PAD> <PAD> <PAD>\n",
            "*** [ <START> hot club de paris have released several tracks on compilation albums including can you hear me clearly <EOS> ]  <PAD> <PAD> <PAD> <PAD> <PAD> <PAD> player <PAD> <PAD> <PAD> <PAD> <PAD> <PAD> <PAD> <PAD> <PAD> <PAD> <PAD> <PAD> <PAD> <PAD> <PAD> <PAD> <PAD> <PAD> <PAD> <PAD> <PAD> <PAD> <PAD> <PAD> <PAD> <PAD> <PAD> <PAD> <PAD> <PAD> <PAD> <PAD> <PAD> <PAD>\n",
            "*** [ <START> possible artificial fuels include radioactive isotopes wood alcohol grain alcohol methane synthetic gas <UNK> gas hydrogen gas lrb <UNK> rrb ]  <PAD> <PAD> <PAD> <EOS> <PAD> <PAD> <PAD> <PAD> <PAD> <PAD> <PAD> <PAD> <PAD> <PAD> <PAD> <PAD> movie <PAD> <PAD> <PAD> <PAD> <PAD> <PAD> <PAD> <PAD> <PAD> <PAD> <PAD> <PAD> <PAD> <PAD> <PAD> <PAD> <PAD> <PAD> <PAD> <PAD> <PAD> <PAD>\n",
            "### TEMP  1.2\n",
            "*** [ <START> he won every competition he entered including the grand prix final the european championships and the world championships <EOS> ]  <PAD> <PAD> <PAD> <PAD> <PAD> <PAD> <PAD> <PAD> <PAD> empire <PAD> <PAD> <PAD> <PAD> <PAD> <PAD> <PAD> <PAD> <PAD> <PAD> <PAD> <PAD> <PAD> <PAD> <PAD> <PAD> <PAD> <PAD> <PAD> <PAD> <PAD> <PAD> <PAD> been <PAD> <PAD> <PAD> <PAD> <PAD> <PAD>\n",
            "*** [ <START> the band got very <UNK> until six months later when they released their second single <UNK> <EOS> ]  <PAD> <PAD> <PAD> <PAD> <PAD> <PAD> <PAD> <PAD> <PAD> <PAD> <PAD> <PAD> <PAD> <PAD> <PAD> <PAD> <PAD> <PAD> <PAD> <PAD> <PAD> <PAD> <PAD> <PAD> <PAD> <PAD> <PAD> <PAD> <PAD> <PAD> <PAD> <PAD> <PAD> <PAD> <PAD> <PAD> <PAD> <PAD> <PAD> <PAD> <PAD> <PAD>\n",
            "*** [ <START> spencer <UNK> lrb november 1 <UNK> may 11 1812 rrb was a british statesman and prime minister <EOS> ]  <PAD> dakota <PAD> <PAD> <PAD> <PAD> <PAD> <PAD> floating <PAD> <PAD> <PAD> <PAD> <PAD> <PAD> <PAD> <PAD> <PAD> <PAD> <PAD> <PAD> <PAD> <PAD> <PAD> <PAD> <PAD> <PAD> <PAD> <PAD> <PAD> player <PAD> <PAD> <PAD> <PAD> <PAD> rrb <PAD> <PAD> ocean spice\n",
            "*** [ <START> october 6 <UNK> pennsylvania is founded leading in 1983 to u s president ronald <UNK> declaring a <UNK> year celebration ]  <PAD> <PAD> <PAD> <PAD> empire <PAD> connecticut <PAD> <PAD> <PAD> <PAD> <PAD> <PAD> <PAD> same <PAD> <PAD> <PAD> <PAD> <PAD> <PAD> <PAD> <PAD> <PAD> <PAD> <PAD> <PAD> <PAD> <PAD> <PAD> <PAD> <PAD> <PAD> <PAD> <PAD> <PAD> <PAD> <PAD> <PAD>\n"
          ],
          "name": "stdout"
        },
        {
          "output_type": "stream",
          "text": [
            "\r  0%|          | 0/186 [00:00<?, ?it/s]"
          ],
          "name": "stderr"
        },
        {
          "output_type": "stream",
          "text": [
            "*** [ <START> he first appeared along with the other members of the simpson family on the tracey ullman show in the simpson ]  <PAD> <PAD> <PAD> <PAD> <PAD> <PAD> <PAD> <PAD> <PAD> <PAD> <PAD> <PAD> <PAD> <PAD> <PAD> <PAD> <PAD> <PAD> <PAD> <PAD> <PAD> <PAD> <PAD> <PAD> <PAD> <PAD> <PAD> <PAD> <PAD> <PAD> <PAD> <PAD> <PAD> <PAD> <PAD> <PAD> <PAD> <PAD> <PAD>\n"
          ],
          "name": "stdout"
        },
        {
          "output_type": "stream",
          "text": [
            "100%|██████████| 186/186 [05:41<00:00,  1.84s/it]\n"
          ],
          "name": "stderr"
        },
        {
          "output_type": "stream",
          "text": [
            "### TEMP  0.0\n",
            "*** [ <START> they are an eastern indo aryan people who are also descended from austro asiatic and dravidian peoples and closely related ]  <PAD> <PAD> <PAD> <PAD> <PAD> <PAD> <PAD> <PAD> <PAD> <PAD> <PAD> <PAD> <PAD> <PAD> <PAD> <PAD> <PAD> <PAD> <PAD> <PAD> <PAD> <PAD> <PAD> <PAD> <PAD> <PAD> <PAD> <PAD> <PAD> <PAD> <PAD> <PAD> <PAD> <PAD> <PAD> <PAD> <PAD> <PAD> <PAD>\n",
            "*** [ <START> <UNK> <UNK> rosignano <UNK> <UNK> <UNK> della <UNK> <UNK> <UNK> <EOS> <PAD> <PAD> <PAD> <PAD> ]  <PAD> <PAD> <PAD> <PAD> <PAD> <PAD> <PAD> <PAD> <PAD> <PAD> <PAD> <PAD> <PAD> <PAD> <PAD> <PAD> <PAD> <PAD> <PAD> <PAD> <PAD> <PAD> <PAD> <PAD> <PAD> <PAD> <PAD> <PAD> <PAD> <PAD> <PAD> <PAD> <PAD> <PAD> <PAD> <PAD> <PAD> <PAD> <PAD> <PAD> <PAD> <PAD> <PAD> <PAD>\n",
            "*** [ <START> robert f bob '' <UNK> lrb born june 17 1955 in sainte <UNK> <UNK> quebec rrb was a canadian professional ]  <PAD> <PAD> <PAD> <PAD> <PAD> <PAD> <PAD> <PAD> <PAD> <PAD> <PAD> <PAD> <PAD> <PAD> <PAD> <PAD> <PAD> <PAD> <PAD> <PAD> <PAD> <PAD> <PAD> <PAD> <PAD> <PAD> <PAD> <PAD> <PAD> <PAD> <PAD> <PAD> <PAD> <PAD> <PAD> <PAD> <PAD> <PAD> <PAD>\n",
            "*** [ <START> while at <UNK> he once <UNK> out the clock in a conference tournament game to <UNK> an opponent southern university ]  <PAD> <PAD> <PAD> <PAD> <PAD> <PAD> <PAD> <PAD> <PAD> <PAD> <PAD> <PAD> <PAD> <PAD> <PAD> <PAD> <PAD> <PAD> <PAD> <PAD> <PAD> <PAD> <PAD> <PAD> <PAD> <PAD> <PAD> <PAD> <PAD> <PAD> <PAD> <PAD> <PAD> <PAD> <PAD> <PAD> <PAD> <PAD> <PAD>\n",
            "*** [ <START> the platforms and <UNK> are <UNK> by creatures lrb also known as <UNK> rrb but each planet has a different ]  <PAD> <PAD> <PAD> <PAD> <PAD> <PAD> <PAD> <PAD> <PAD> <PAD> <PAD> <PAD> <PAD> <PAD> <PAD> <PAD> <PAD> <PAD> <PAD> <PAD> <PAD> <PAD> <PAD> <PAD> <PAD> <PAD> <PAD> <PAD> <PAD> <PAD> <PAD> <PAD> <PAD> <PAD> <PAD> <PAD> <PAD> <PAD> <PAD>\n",
            "### TEMP  0.9\n",
            "*** [ <START> he was one of the first people to separate the similar looking <UNK> willow <UNK> and wood <UNK> by means ]  <PAD> <PAD> <PAD> <PAD> <PAD> <PAD> <PAD> <PAD> <PAD> <PAD> <PAD> <PAD> <PAD> <PAD> <PAD> <PAD> <PAD> <PAD> <PAD> <PAD> <PAD> <PAD> <PAD> <PAD> <PAD> <PAD> <PAD> <PAD> <PAD> <PAD> <PAD> <PAD> <PAD> <PAD> <PAD> <PAD> <PAD> <PAD> <PAD>\n",
            "*** [ <START> one of rock <UNK> most successful acts the group have sold over 210 million albums worldwide including 74 5 million ]  <PAD> <PAD> <PAD> <PAD> <PAD> <PAD> <PAD> <PAD> <PAD> <PAD> <PAD> <PAD> <PAD> <PAD> <PAD> <PAD> <PAD> <PAD> <PAD> <PAD> <PAD> <PAD> <PAD> <PAD> <PAD> <PAD> <PAD> <PAD> <PAD> <PAD> <PAD> <PAD> <PAD> <PAD> <PAD> <PAD> <PAD> <PAD> <PAD>\n",
            "*** [ <START> with widespread establishment of power grids power transmission has came to be associated most often with electric power transmission <EOS> ]  <PAD> <PAD> <PAD> <PAD> <PAD> <PAD> <PAD> <PAD> <PAD> <PAD> <PAD> <EOS> <PAD> <PAD> <PAD> <PAD> <PAD> <PAD> <PAD> <PAD> <PAD> <PAD> <PAD> <PAD> <PAD> <PAD> <PAD> <PAD> <PAD> <PAD> <PAD> <PAD> <PAD> <PAD> <PAD> <PAD> <PAD> <PAD> <PAD>\n",
            "*** [ <START> october 6 <UNK> pennsylvania is founded leading in 1983 to u s president ronald <UNK> declaring a <UNK> year celebration ]  <PAD> <PAD> <PAD> <PAD> <PAD> <PAD> <PAD> <PAD> <PAD> <PAD> <PAD> <PAD> <PAD> <PAD> <PAD> <PAD> <PAD> <PAD> <PAD> <PAD> <PAD> <PAD> <PAD> <PAD> <PAD> <PAD> <PAD> <PAD> <PAD> <PAD> <PAD> <PAD> <PAD> <PAD> <PAD> <PAD> <PAD> <PAD> <PAD>\n",
            "*** [ <START> its efforts are the promotion of all studies about minority languages <UNK> as <UNK> <UNK> <UNK> or <UNK> linguistic studies ]  <PAD> <PAD> <PAD> <PAD> <PAD> <PAD> <PAD> <PAD> <PAD> <PAD> <PAD> <PAD> <PAD> <PAD> <PAD> <PAD> <PAD> <PAD> <PAD> <PAD> <PAD> <PAD> <PAD> <PAD> <PAD> <PAD> <PAD> <PAD> <PAD> <PAD> <PAD> <PAD> <PAD> <PAD> <PAD> <PAD> <PAD> <PAD> <PAD>\n",
            "### TEMP  1\n",
            "*** [ <START> the british edible dormouse population is about 10 000 and is found in a triangle between <UNK> aylesbury and luton ]  <PAD> <PAD> <PAD> <PAD> france <PAD> <PAD> <PAD> <PAD> <PAD> <PAD> <PAD> <PAD> <PAD> <PAD> <PAD> <PAD> <PAD> <PAD> <PAD> <PAD> <PAD> <PAD> <PAD> <PAD> <PAD> <PAD> <PAD> <PAD> <PAD> <PAD> <PAD> <PAD> <PAD> <PAD> <PAD> <PAD> <PAD> <PAD>\n",
            "*** [ <START> in the history the name of the village changed from <UNK> <UNK> <UNK> villa <UNK> <UNK> <UNK> <UNK> <UNK> <UNK> ]  <PAD> <PAD> <PAD> <PAD> <PAD> <PAD> <PAD> midland <PAD> <PAD> <PAD> <PAD> <PAD> <PAD> <PAD> <PAD> <PAD> <PAD> <PAD> <PAD> <PAD> <PAD> <PAD> <PAD> <PAD> <PAD> <PAD> <PAD> <PAD> <PAD> <PAD> <PAD> <PAD> <PAD> <PAD> <PAD> <PAD> <PAD> <PAD>\n",
            "*** [ <START> 1971 sold <UNK> and moved to the united states the london bridge <UNK> in lake <UNK> city arizona <EOS> ]  <PAD> <PAD> <PAD> <PAD> <PAD> <PAD> <PAD> <PAD> <PAD> <PAD> <PAD> <PAD> <PAD> <PAD> <PAD> <PAD> <PAD> <PAD> <PAD> <PAD> <PAD> <PAD> <PAD> <PAD> <PAD> <PAD> <PAD> <PAD> <PAD> <PAD> <PAD> <PAD> <PAD> <PAD> <PAD> <PAD> <PAD> <PAD> <PAD> <PAD>\n",
            "*** [ <START> the seventh day adventist lrb abbreviated adventist although <UNK> '' is commonly used adventist '' is the churchs own officially ]  <PAD> <PAD> <PAD> <PAD> <PAD> <EOS> <PAD> <PAD> <PAD> <PAD> <PAD> <PAD> <PAD> <PAD> <PAD> <PAD> <PAD> <PAD> <PAD> <PAD> <PAD> <PAD> <PAD> <PAD> <PAD> <PAD> <PAD> <PAD> <PAD> <PAD> <PAD> <PAD> <PAD> <PAD> <PAD> <PAD> <PAD> <PAD> <PAD>\n",
            "*** [ <START> under this condition the asteroid actually appears to stop but unlike the normal condition for a body in <UNK> <UNK> ]  <PAD> <PAD> <PAD> <PAD> <PAD> <PAD> <PAD> <PAD> <PAD> <PAD> <PAD> <PAD> <PAD> <PAD> <PAD> <PAD> <PAD> <PAD> <PAD> <PAD> <PAD> <PAD> <PAD> <PAD> <PAD> <PAD> <PAD> <PAD> <PAD> <PAD> <PAD> <PAD> <PAD> <PAD> <PAD> <PAD> <PAD> <PAD> <PAD>\n",
            "### TEMP  1.1\n",
            "*** [ <START> the british edible dormouse population is about 10 000 and is found in a triangle between <UNK> aylesbury and luton ]  <PAD> <PAD> <PAD> <PAD> <PAD> <PAD> <PAD> <PAD> early <PAD> <PAD> powers <PAD> <PAD> <PAD> <PAD> <PAD> <PAD> <PAD> <PAD> <PAD> <PAD> <PAD> <PAD> <PAD> <PAD> <PAD> <PAD> <PAD> <PAD> <PAD> <PAD> <PAD> <PAD> <PAD> <PAD> <PAD> <PAD> <PAD>\n",
            "*** [ <START> first run <UNK> first run syndicated programs are programs that are shown for the first time as a syndicated programs ]  <PAD> <PAD> <PAD> <PAD> <PAD> <PAD> <PAD> <PAD> <PAD> <PAD> <PAD> <PAD> <PAD> medium <PAD> <PAD> <PAD> <PAD> <PAD> <EOS> <PAD> <PAD> <PAD> <PAD> <PAD> <PAD> <PAD> 205 <PAD> <PAD> <PAD> <PAD> <PAD> <PAD> <PAD> <PAD> <PAD> <PAD> <PAD>\n",
            "*** [ <START> historically much of western warwickshire was covered by the ancient forest of arden lrb although most of this was cut ]  <PAD> <PAD> <PAD> <PAD> <PAD> indian <PAD> <PAD> <PAD> <PAD> <PAD> <PAD> <PAD> <PAD> <PAD> <PAD> <PAD> catholic <PAD> <PAD> <PAD> <PAD> <PAD> <PAD> <PAD> <PAD> <PAD> <PAD> <PAD> <PAD> <PAD> <PAD> surface <PAD> <PAD> <PAD> <PAD> <PAD> <PAD>\n",
            "*** [ <START> there are four common states of matter lrb or physical forms of matter rrb on earth solid liquid <UNK> and ]  <PAD> <PAD> <PAD> <PAD> <PAD> <PAD> <PAD> <PAD> <PAD> <PAD> <PAD> <PAD> <PAD> <PAD> <PAD> <PAD> <PAD> <PAD> <PAD> <PAD> <PAD> <PAD> <PAD> <PAD> <PAD> <PAD> <PAD> <PAD> <PAD> <PAD> <PAD> <PAD> <PAD> <PAD> <PAD> <PAD> <PAD> <PAD> <PAD>\n",
            "*** [ <START> the <UNK> prize lrb in german <UNK> in french prix <UNK> rrb is given every year by the swiss heritage ]  <PAD> <PAD> <PAD> <PAD> <PAD> <PAD> <PAD> <PAD> queen <PAD> <PAD> parasites <PAD> <PAD> <PAD> <PAD> <PAD> <PAD> <PAD> <PAD> <PAD> <PAD> <PAD> <PAD> <PAD> <PAD> <PAD> graphical <PAD> <PAD> <PAD> island <PAD> <PAD> <PAD> <PAD> <PAD> <PAD> <PAD>\n",
            "### TEMP  1.2\n",
            "*** [ <START> the promotion in its current form was started by steve <UNK> in 2007 to be <UNK> second developmental territory when ]  <PAD> <PAD> <PAD> <PAD> <PAD> <PAD> <PAD> <PAD> <PAD> <PAD> <PAD> <PAD> <PAD> <PAD> <PAD> <PAD> <PAD> <PAD> <PAD> <PAD> <PAD> <PAD> <PAD> <PAD> <PAD> <PAD> <PAD> <PAD> <PAD> <PAD> <PAD> <PAD> <PAD> <PAD> <PAD> <PAD> <PAD> <PAD> <PAD>\n",
            "*** [ <START> scientists still believed that liquid <UNK> and methane would be found near titans poles where they expected to find lots ]  <PAD> <PAD> <PAD> <PAD> <PAD> <PAD> <PAD> important <PAD> <PAD> <PAD> <PAD> <PAD> <PAD> <PAD> <PAD> <PAD> <PAD> <PAD> <PAD> <PAD> <PAD> <PAD> <PAD> <PAD> <PAD> <PAD> <PAD> <PAD> <PAD> <PAD> <PAD> <PAD> <PAD> <PAD> <PAD> <PAD> <PAD> <PAD>\n",
            "*** [ <START> in hinduism the major <UNK> or philosophical belief functions as the <UNK> of a denomination and typically each has distinct ]  <PAD> <PAD> <PAD> <PAD> <PAD> <PAD> <PAD> <PAD> <PAD> <PAD> <PAD> <PAD> <PAD> <PAD> <PAD> <PAD> <PAD> <PAD> tenth <PAD> <PAD> <PAD> <UNK> <PAD> <PAD> <PAD> <PAD> <PAD> <PAD> <PAD> <PAD> <PAD> <PAD> <PAD> <PAD> <PAD> <PAD> <PAD> <PAD>\n",
            "*** [ <START> the sierra nevada stretches 400 miles lrb 650 km rrb from <UNK> pass in the north to <UNK> pass in ]  <PAD> <PAD> <PAD> <PAD> <PAD> <PAD> <PAD> round <PAD> <PAD> <PAD> <PAD> <PAD> <PAD> <PAD> <PAD> <PAD> <PAD> middle <PAD> <PAD> <PAD> <PAD> <PAD> <PAD> <PAD> class <PAD> <PAD> <EOS> <PAD> <PAD> event soldier cooked <PAD> <PAD> <PAD> <PAD>\n"
          ],
          "name": "stdout"
        },
        {
          "output_type": "stream",
          "text": [
            "\r  0%|          | 0/186 [00:00<?, ?it/s]"
          ],
          "name": "stderr"
        },
        {
          "output_type": "stream",
          "text": [
            "*** [ <START> according to bradley <UNK> of <UNK> his <UNK> image and <UNK> looks <UNK> to the producers of brandy 's television ]  <PAD> <PAD> <PAD> <PAD> <PAD> <PAD> <PAD> <PAD> <PAD> <PAD> <PAD> <PAD> <PAD> <PAD> <PAD> <PAD> <PAD> <PAD> <PAD> <PAD> <PAD> <PAD> region <PAD> <PAD> <PAD> <PAD> <PAD> <PAD> <PAD> company <PAD> <PAD> <PAD> <PAD> <PAD> <PAD> <PAD> <PAD>\n"
          ],
          "name": "stdout"
        },
        {
          "output_type": "stream",
          "text": [
            "100%|██████████| 186/186 [05:41<00:00,  1.84s/it]\n"
          ],
          "name": "stderr"
        },
        {
          "output_type": "stream",
          "text": [
            "### TEMP  0.0\n",
            "*** [ <START> it is bordered by florida to the south alabama to the west tennessee and north carolina to the north and ]  <PAD> <PAD> <PAD> <PAD> <PAD> <PAD> <PAD> <PAD> <PAD> <PAD> <PAD> <PAD> <PAD> <PAD> <PAD> <PAD> <PAD> <PAD> <PAD> <PAD> <PAD> <PAD> <PAD> <PAD> <PAD> <PAD> <PAD> <PAD> <PAD> <PAD> <PAD> <PAD> <PAD> <PAD> <PAD> <PAD> <PAD> <PAD> <PAD>\n",
            "*** [ <START> in 1921 frost accepted a fellowship teaching post at the university of michigan ann <UNK> where he resided until 1927 ]  <PAD> <PAD> <PAD> <PAD> <PAD> <PAD> <PAD> <PAD> <PAD> <PAD> <PAD> <PAD> <PAD> <PAD> <PAD> <PAD> <PAD> <PAD> <PAD> <PAD> <PAD> <PAD> <PAD> <PAD> <PAD> <PAD> <PAD> <PAD> <PAD> <PAD> <PAD> <PAD> <PAD> <PAD> <PAD> <PAD> <PAD> <PAD> <PAD>\n",
            "*** [ <START> the <UNK> company of <UNK> receives the right to <UNK> the leather trade in london england <EOS> ]  <PAD> <PAD> <PAD> <PAD> <PAD> <PAD> <PAD> <PAD> <PAD> <PAD> <PAD> <PAD> <PAD> <PAD> <PAD> <PAD> <PAD> <PAD> <PAD> <PAD> <PAD> <PAD> <PAD> <PAD> <PAD> <PAD> <PAD> <PAD> <PAD> <PAD> <PAD> <PAD> <PAD> <PAD> <PAD> <PAD> <PAD> <PAD> <PAD> <PAD> <PAD> <PAD>\n",
            "*** [ <START> he first appeared along with the other members of the simpson family on the tracey ullman show in the simpson ]  <PAD> <PAD> <PAD> <PAD> <PAD> <PAD> <PAD> <PAD> <PAD> <PAD> <PAD> <PAD> <PAD> <PAD> <PAD> <PAD> <PAD> <PAD> <PAD> <PAD> <PAD> <PAD> <PAD> <PAD> <PAD> <PAD> <PAD> <PAD> <PAD> <PAD> <PAD> <PAD> <PAD> <PAD> <PAD> <PAD> <PAD> <PAD> <PAD>\n",
            "*** [ <START> los angeles international airport is the primary airport serving los angeles california united states <EOS> ]  <PAD> <PAD> <PAD> <PAD> <PAD> <PAD> <PAD> <PAD> <PAD> <PAD> <PAD> <PAD> <PAD> <PAD> <PAD> <PAD> <PAD> <PAD> <PAD> <PAD> <PAD> <PAD> <PAD> <PAD> <PAD> <PAD> <PAD> <PAD> <PAD> <PAD> <PAD> <PAD> <PAD> <PAD> <PAD> <PAD> <PAD> <PAD> <PAD> <PAD> <PAD> <PAD> <PAD> <PAD>\n",
            "### TEMP  0.9\n",
            "*** [ <START> hot club de paris have released several tracks on compilation albums including can you hear me clearly <EOS> ]  <PAD> <PAD> <PAD> <PAD> <PAD> <PAD> <PAD> <PAD> <PAD> <PAD> <PAD> <PAD> <PAD> <PAD> <PAD> <PAD> <PAD> <PAD> <PAD> <PAD> <PAD> <PAD> <PAD> <PAD> <PAD> <PAD> <PAD> <PAD> <PAD> <PAD> <PAD> <PAD> <PAD> <PAD> <PAD> <PAD> <PAD> <PAD> <PAD> <PAD> <PAD>\n",
            "*** [ <START> a schismatic is a person who creates schism in an organization or who is a member of a <UNK> group ]  <PAD> <PAD> <PAD> <PAD> <PAD> <PAD> <PAD> <PAD> <PAD> <PAD> <PAD> <PAD> <PAD> <PAD> <PAD> <PAD> <PAD> <PAD> <PAD> <PAD> <PAD> <PAD> <PAD> <PAD> <PAD> <PAD> <PAD> <PAD> <PAD> <PAD> <PAD> <PAD> <PAD> <PAD> <PAD> <PAD> <PAD> <PAD> <PAD>\n",
            "*** [ <START> los angeles international airport is the primary airport serving los angeles california united states <EOS> ]  <PAD> <PAD> <PAD> <PAD> <PAD> <PAD> <PAD> <PAD> <PAD> <PAD> <PAD> <PAD> <PAD> <PAD> <PAD> <PAD> <PAD> <PAD> <PAD> <PAD> <PAD> <PAD> <PAD> <PAD> <PAD> <PAD> <PAD> <PAD> <PAD> <PAD> <PAD> <PAD> <PAD> <PAD> <PAD> <PAD> <PAD> <PAD> <PAD> <PAD> <PAD> <PAD> <PAD> <PAD>\n",
            "*** [ <START> the <UNK> prize lrb in german <UNK> in french prix <UNK> rrb is given every year by the swiss heritage ]  <PAD> <PAD> <PAD> <PAD> <PAD> <PAD> <PAD> <PAD> <PAD> <PAD> <PAD> <PAD> <PAD> <PAD> <PAD> <PAD> <PAD> <PAD> <PAD> <PAD> <PAD> <PAD> <PAD> <PAD> <PAD> <PAD> <PAD> <PAD> <PAD> <PAD> <PAD> <PAD> <PAD> <PAD> <PAD> <PAD> <PAD> <PAD> <PAD>\n",
            "*** [ <START> john edward <UNK> the indiana story 1875 1975 <UNK> first state university <UNK> pennsylvania <UNK> brothers 1976 lrb p 18 ]  <PAD> <PAD> <PAD> <PAD> <PAD> <PAD> <PAD> <PAD> <PAD> <PAD> <PAD> <PAD> <PAD> <PAD> <PAD> <PAD> <PAD> <PAD> <PAD> <PAD> <PAD> <PAD> <PAD> <PAD> <PAD> <PAD> <PAD> <PAD> <PAD> <PAD> <PAD> <PAD> <PAD> <PAD> <PAD> <PAD> <PAD> <PAD> <PAD>\n",
            "### TEMP  1\n",
            "*** [ <START> <UNK> involving sound from the <UNK> are not found in most dialects of english though they are found in many ]  <PAD> <PAD> <PAD> <PAD> <PAD> trade <PAD> <PAD> <PAD> <PAD> <PAD> <PAD> <PAD> <PAD> <PAD> <PAD> <PAD> <PAD> <PAD> <PAD> <EOS> <PAD> <PAD> <PAD> <PAD> republic <PAD> <PAD> <PAD> <PAD> <PAD> <PAD> <PAD> <PAD> <PAD> <PAD> <PAD> <PAD> <PAD>\n",
            "*** [ <START> october 6 <UNK> pennsylvania is founded leading in 1983 to u s president ronald <UNK> declaring a <UNK> year celebration ]  <PAD> <PAD> <PAD> <PAD> <EOS> <PAD> <PAD> <PAD> <PAD> <PAD> <PAD> <PAD> <PAD> <PAD> <PAD> <PAD> <PAD> <PAD> <PAD> <PAD> <PAD> <PAD> <PAD> <PAD> <PAD> <PAD> <PAD> <PAD> <PAD> <PAD> <PAD> <PAD> <PAD> <PAD> <PAD> <PAD> <PAD> <PAD> <PAD>\n",
            "*** [ <START> most <UNK> are <UNK> to a lesser degree by bacteria which turn milk <UNK> into <UNK> acid then the addition ]  <PAD> <PAD> <PAD> <PAD> <PAD> <PAD> <PAD> <PAD> <PAD> <PAD> <PAD> universe <PAD> <PAD> <EOS> <PAD> <PAD> <PAD> <PAD> <PAD> <PAD> <PAD> <PAD> <PAD> <PAD> <PAD> <PAD> <PAD> <PAD> <PAD> <PAD> <PAD> <PAD> <PAD> <PAD> <PAD> <PAD> <PAD> <PAD>\n",
            "*** [ <START> he then took up an interest in the <UNK> in cosmic radiation which had been discovered by <UNK> allan <UNK> ]  <PAD> <PAD> <PAD> <PAD> <PAD> <PAD> <PAD> <PAD> <PAD> <PAD> <PAD> <PAD> <PAD> <PAD> <PAD> <PAD> <PAD> <PAD> <PAD> <PAD> <PAD> <PAD> <PAD> <PAD> <PAD> <PAD> <PAD> <PAD> <PAD> <PAD> <PAD> <PAD> <PAD> <PAD> <PAD> <PAD> <PAD> <PAD> <PAD>\n",
            "*** [ <START> born in <UNK> victoria a suburb of geelong ross served as a wireless operator in the first australian imperial force ]  <PAD> <PAD> <PAD> <PAD> <PAD> <PAD> function <PAD> <PAD> <PAD> <PAD> <PAD> <PAD> <PAD> <PAD> <PAD> <PAD> <PAD> <PAD> <PAD> <PAD> <PAD> <PAD> <PAD> <PAD> <PAD> <PAD> <PAD> <PAD> <PAD> <PAD> <PAD> <PAD> <PAD> <PAD> <PAD> <PAD> <PAD> <PAD>\n",
            "### TEMP  1.1\n",
            "*** [ <START> the first use of taupe as a color name in english was in the early 1800s lrb exact year is ]  <PAD> <PAD> <PAD> kingdom <PAD> <PAD> <PAD> <PAD> <PAD> <PAD> <PAD> <PAD> <PAD> <PAD> <PAD> <PAD> <PAD> <PAD> <PAD> <PAD> <PAD> <PAD> <PAD> <PAD> <PAD> <PAD> <PAD> <PAD> <PAD> <PAD> <PAD> <PAD> <PAD> <PAD> <PAD> <PAD> <PAD> animated <PAD>\n",
            "*** [ <START> in the 19th century eugène <UNK> wrote a very large number of libretti that were set to music by composers ]  <PAD> <PAD> <PAD> <PAD> <PAD> <PAD> <PAD> <PAD> <PAD> <PAD> <PAD> <PAD> <PAD> <PAD> <PAD> <PAD> <PAD> <PAD> <PAD> <PAD> <PAD> <PAD> <PAD> <PAD> <PAD> <PAD> <PAD> <PAD> <PAD> <PAD> <PAD> <PAD> <PAD> <PAD> <PAD> <PAD> <PAD> <PAD> <PAD>\n",
            "*** [ <START> coopersale halt is the current terminus of the epping <UNK> railway in the <UNK> of coopersale in epping essex england ]  <PAD> <PAD> <PAD> original <PAD> <PAD> <PAD> <PAD> <PAD> <PAD> <PAD> <PAD> kingdom <PAD> <PAD> <PAD> <PAD> <PAD> <PAD> <PAD> <PAD> <PAD> <PAD> <PAD> <PAD> <PAD> <PAD> <PAD> <PAD> <PAD> <PAD> <PAD> <PAD> <PAD> des <PAD> <PAD> <PAD> <PAD>\n",
            "*** [ <START> zonealarm force field a <UNK> engine that shields the computer and personal data from internet and computer based threats <EOS> ]  <PAD> <PAD> <PAD> <PAD> <PAD> <PAD> <PAD> <PAD> <PAD> <PAD> <PAD> <PAD> <PAD> <PAD> <PAD> <PAD> <PAD> <PAD> <PAD> <PAD> <PAD> <PAD> <PAD> <PAD> <PAD> <PAD> <PAD> <PAD> <PAD> <PAD> <PAD> <PAD> <PAD> <PAD> <PAD> <PAD> <PAD> <PAD> <PAD>\n",
            "*** [ <START> <UNK> berlin or greater berlin was created by an act of the prussian parliament made on 27 april 1920 <EOS> ]  <PAD> <PAD> <PAD> <PAD> <PAD> <PAD> <PAD> <PAD> <PAD> <PAD> <PAD> <PAD> <PAD> <EOS> <PAD> <PAD> <PAD> <PAD> <PAD> <PAD> <PAD> <PAD> <PAD> emperor <PAD> <PAD> <PAD> <PAD> <PAD> <PAD> <PAD> <PAD> <PAD> <PAD> radiation <PAD> <PAD> <PAD> <PAD>\n",
            "### TEMP  1.2\n",
            "*** [ <START> vice president george h w bush acted for president ronald <UNK> when he was under a <UNK> procedure on july ]  <PAD> <PAD> <PAD> <PAD> <PAD> <PAD> <PAD> <PAD> <PAD> <PAD> <PAD> <PAD> <PAD> <PAD> <PAD> <PAD> <PAD> <PAD> <PAD> <PAD> <PAD> <PAD> <PAD> <PAD> <PAD> <PAD> <PAD> <PAD> <PAD> <PAD> <PAD> <PAD> <PAD> <PAD> <PAD> <PAD> <PAD> <PAD> <PAD>\n",
            "*** [ <START> http www <UNK> webster com dictionary half <UNK> www <UNK> webster com dictionary half <UNK> dictionary reference com <UNK> half ]  <PAD> game <PAD> <PAD> <PAD> <PAD> <PAD> <PAD> irish <PAD> <PAD> <PAD> <PAD> <PAD> <PAD> <PAD> <PAD> <PAD> <PAD> <PAD> <PAD> <PAD> <PAD> <PAD> <PAD> <PAD> <PAD> <PAD> <PAD> <PAD> <PAD> <PAD> <PAD> <PAD> <PAD> <PAD> <PAD> <PAD> <PAD>\n",
            "*** [ <START> in 2006 the bands 1993 touring line up lrb except for paul taylor rrb re united to record the bands ]  <PAD> <PAD> <PAD> <PAD> <PAD> <PAD> <PAD> <PAD> <PAD> surface e <PAD> <PAD> <PAD> <PAD> <PAD> <PAD> <PAD> <PAD> <PAD> <PAD> <PAD> <PAD> <PAD> <PAD> <PAD> <PAD> <PAD> <PAD> <PAD> <PAD> <PAD> <PAD> <PAD> <PAD> <PAD> <PAD> <PAD> <PAD>\n",
            "*** [ <START> in computer science dependency is a state in which one object uses the functions of another object <EOS> ]  <PAD> <PAD> <PAD> symbol <PAD> <PAD> <PAD> <PAD> <PAD> <PAD> <PAD> <PAD> <PAD> <PAD> <PAD> <PAD> <PAD> <PAD> <PAD> <PAD> <PAD> <PAD> <PAD> <PAD> <PAD> <PAD> <PAD> <PAD> <PAD> <PAD> <PAD> <PAD> <PAD> <PAD> <PAD> <PAD> <PAD> <PAD> <PAD> <PAD> <PAD>\n"
          ],
          "name": "stdout"
        },
        {
          "output_type": "stream",
          "text": [
            "\r  0%|          | 0/186 [00:00<?, ?it/s]"
          ],
          "name": "stderr"
        },
        {
          "output_type": "stream",
          "text": [
            "*** [ <START> it often contains things like chinese cabbage <UNK> garlic red <UNK> spring onion <UNK> ginger salt and sugar <EOS> ]  <PAD> <PAD> <PAD> <PAD> <PAD> <PAD> southeastern <PAD> <PAD> <PAD> <PAD> <EOS> <PAD> fuels <PAD> <PAD> beatles <PAD> <PAD> <PAD> <PAD> <PAD> <PAD> <PAD> <PAD> <PAD> <PAD> <PAD> <PAD> <PAD> <PAD> <PAD> <PAD> <PAD> <PAD> <PAD> <PAD> <PAD> <PAD> <PAD>\n"
          ],
          "name": "stdout"
        },
        {
          "output_type": "stream",
          "text": [
            "100%|██████████| 186/186 [05:43<00:00,  1.85s/it]\n"
          ],
          "name": "stderr"
        },
        {
          "output_type": "stream",
          "text": [
            "### TEMP  0.0\n",
            "*** [ <START> maerz and paul a dictionary of color new york 1930 mcgraw hill page <UNK> color sample of persian blue page ]  <PAD> <PAD> <PAD> <PAD> <PAD> <PAD> <PAD> <PAD> <PAD> <PAD> <PAD> <PAD> <PAD> <PAD> <PAD> <PAD> <PAD> <PAD> <PAD> <PAD> <PAD> <PAD> <PAD> <PAD> <PAD> <PAD> <PAD> <PAD> <PAD> <PAD> <PAD> <PAD> <PAD> <PAD> <PAD> <PAD> <PAD> <PAD> <PAD>\n",
            "*** [ <START> <UNK> blair lrb born january 22 1959 in saint louis missouri usa rrb is an american actress <EOS> ]  <PAD> <PAD> <PAD> <PAD> <PAD> <PAD> <PAD> <PAD> <PAD> <PAD> <PAD> <PAD> <PAD> <PAD> <PAD> <PAD> <PAD> <PAD> <PAD> <PAD> <PAD> <PAD> <PAD> <PAD> <PAD> <PAD> <PAD> <PAD> <PAD> <PAD> <PAD> <PAD> <PAD> <PAD> <PAD> <PAD> <PAD> <PAD> <PAD> <PAD> <PAD>\n",
            "*** [ <START> les <UNK> has an instrumental version included in his 2005 release while my guitar only plays '' <EOS> ]  <PAD> <PAD> <PAD> <PAD> <PAD> <PAD> <PAD> <PAD> <PAD> <PAD> <PAD> <PAD> <PAD> <PAD> <PAD> <PAD> <PAD> <PAD> <PAD> <PAD> <PAD> <PAD> <PAD> <PAD> <PAD> <PAD> <PAD> <PAD> <PAD> <PAD> <PAD> <PAD> <PAD> <PAD> <PAD> <PAD> <PAD> <PAD> <PAD> <PAD> <PAD>\n",
            "*** [ <START> it is based upon georges <UNK> opera carmen set in philadelphia and los angeles in modern times and features a ]  <PAD> <PAD> <PAD> <PAD> <PAD> <PAD> <PAD> <PAD> <PAD> <PAD> <PAD> <PAD> <PAD> <PAD> <PAD> <PAD> <PAD> <PAD> <PAD> <PAD> <PAD> <PAD> <PAD> <PAD> <PAD> <PAD> <PAD> <PAD> <PAD> <PAD> <PAD> <PAD> <PAD> <PAD> <PAD> <PAD> <PAD> <PAD> <PAD>\n",
            "*** [ <START> spencer <UNK> lrb november 1 <UNK> may 11 1812 rrb was a british statesman and prime minister <EOS> ]  <PAD> <PAD> <PAD> <PAD> <PAD> <PAD> <PAD> <PAD> <PAD> <PAD> <PAD> <PAD> <PAD> <PAD> <PAD> <PAD> <PAD> <PAD> <PAD> <PAD> <PAD> <PAD> <PAD> <PAD> <PAD> <PAD> <PAD> <PAD> <PAD> <PAD> <PAD> <PAD> <PAD> <PAD> <PAD> <PAD> <PAD> <PAD> <PAD> <PAD> <PAD>\n",
            "### TEMP  0.9\n",
            "*** [ <START> i have in the course of my political struggle won much love from my people but when i crossed the ]  <PAD> <PAD> <PAD> <PAD> <PAD> <PAD> <PAD> <PAD> <PAD> <PAD> <PAD> <PAD> <PAD> <PAD> <PAD> <PAD> <PAD> <PAD> <PAD> <PAD> <PAD> <PAD> <PAD> <PAD> <PAD> <PAD> <PAD> <PAD> <PAD> <PAD> <PAD> <PAD> <PAD> <PAD> <PAD> <PAD> <PAD> <PAD> <PAD>\n",
            "*** [ <START> a popular writer in her time her work has received even more attention from literary critics in recent years <EOS> ]  <PAD> <PAD> <PAD> <PAD> <PAD> <PAD> <PAD> <PAD> <PAD> <PAD> <PAD> <PAD> <PAD> <PAD> <PAD> <PAD> <PAD> <PAD> <PAD> <PAD> <PAD> <PAD> <PAD> <PAD> <PAD> <PAD> <PAD> <PAD> <PAD> <PAD> <PAD> <PAD> <PAD> <PAD> <PAD> <PAD> <PAD> <PAD> <PAD>\n",
            "*** [ <START> there are four common states of matter lrb or physical forms of matter rrb on earth solid liquid <UNK> and ]  <PAD> <PAD> <PAD> <PAD> <PAD> <PAD> <PAD> <PAD> <PAD> <PAD> <PAD> <PAD> <PAD> <PAD> <PAD> <PAD> <PAD> <PAD> <PAD> <PAD> <PAD> <PAD> <PAD> <PAD> <PAD> <PAD> <PAD> <PAD> <PAD> <PAD> <PAD> <PAD> <PAD> <PAD> <PAD> <PAD> <PAD> <PAD> <PAD>\n",
            "*** [ <START> born shirley <UNK> jackson in san francisco in 1916 to leslie and <UNK> jackson shirley and her family lived in ]  <PAD> <PAD> <PAD> <PAD> <PAD> <PAD> <PAD> <PAD> <PAD> <PAD> <PAD> <PAD> <PAD> <PAD> <PAD> <PAD> <PAD> <PAD> <PAD> <PAD> <PAD> <PAD> <PAD> <PAD> <PAD> <PAD> <PAD> <PAD> <PAD> <PAD> <PAD> <PAD> <PAD> <PAD> <PAD> <PAD> <PAD> <PAD> <PAD>\n",
            "*** [ <START> the <UNK> rundfunk lrb <UNK> rrb is a german television and radio broadcasting company based in frankfurt am main in ]  <PAD> <PAD> <PAD> <PAD> <PAD> <PAD> <PAD> <PAD> <PAD> <PAD> <PAD> <PAD> <PAD> <PAD> <PAD> <PAD> <PAD> <PAD> <PAD> <PAD> <PAD> <PAD> <PAD> <PAD> <PAD> <PAD> <PAD> <PAD> <PAD> <PAD> <PAD> <PAD> <PAD> <PAD> <PAD> <PAD> <PAD> <PAD> <PAD>\n",
            "### TEMP  1\n",
            "*** [ <START> in addition to thousands of books also lost were a major portion of the files and records of professor john ]  <PAD> <PAD> <PAD> <PAD> <PAD> <PAD> <PAD> <PAD> <PAD> <PAD> <PAD> <PAD> <PAD> <PAD> <PAD> <PAD> <PAD> <PAD> <PAD> <PAD> <PAD> <PAD> <PAD> <PAD> <PAD> <PAD> <PAD> <PAD> <PAD> <PAD> <PAD> <PAD> <PAD> <PAD> <PAD> <PAD> <PAD> <PAD> <PAD>\n",
            "*** [ <START> burn it to the ground is a 2009 rock song by the canadian rock band <UNK> off their dark horse ]  <PAD> <PAD> <PAD> <PAD> <PAD> <PAD> <PAD> <PAD> <PAD> <PAD> <PAD> <PAD> <PAD> <PAD> <PAD> <PAD> <PAD> <PAD> <PAD> <PAD> <PAD> <PAD> <PAD> <PAD> <PAD> <PAD> <PAD> <PAD> <PAD> <PAD> <PAD> <PAD> <PAD> <PAD> <PAD> <PAD> <PAD> <PAD> <PAD>\n",
            "*** [ <START> the promotion in its current form was started by steve <UNK> in 2007 to be <UNK> second developmental territory when ]  <PAD> <PAD> <PAD> <PAD> <PAD> <PAD> <PAD> <PAD> <PAD> <PAD> <PAD> <PAD> <PAD> <PAD> <PAD> <PAD> <PAD> <PAD> <PAD> <PAD> <PAD> <PAD> <PAD> <PAD> <PAD> <PAD> <PAD> <PAD> <PAD> <PAD> <PAD> <PAD> <PAD> <PAD> <PAD> <PAD> <PAD> <PAD> <PAD>\n",
            "*** [ <START> a student of camille saint sa ëns he served as the organist of saint <UNK> church in paris for 62 ]  <PAD> <PAD> <PAD> <PAD> <PAD> <PAD> <PAD> <PAD> <PAD> <PAD> <PAD> <PAD> <PAD> <PAD> <PAD> music <PAD> <PAD> <PAD> <PAD> <PAD> <PAD> <PAD> <PAD> <PAD> <PAD> <PAD> navy <PAD> <PAD> <PAD> <PAD> <PAD> <PAD> <PAD> <PAD> <PAD> <PAD> <PAD>\n",
            "*** [ <START> the 87 km island is divided roughly in half between france and the netherlands it is the smallest inhabited sea ]  <PAD> <PAD> <PAD> <PAD> <PAD> <PAD> <PAD> <PAD> <PAD> <PAD> <PAD> <PAD> <PAD> <PAD> <PAD> <PAD> <PAD> <PAD> <PAD> <PAD> <PAD> <PAD> <PAD> <PAD> <PAD> <PAD> <PAD> <PAD> <PAD> <PAD> <PAD> <PAD> <PAD> <PAD> <PAD> <PAD> <PAD> <PAD> <PAD>\n",
            "### TEMP  1.1\n",
            "*** [ <START> dark lavender lrb <UNK> color <UNK> rrb lrb hex <UNK> rrb lrb rgb 115 79 150 rrb <EOS> ]  <PAD> <PAD> <PAD> <PAD> <PAD> <PAD> <PAD> <PAD> <PAD> <PAD> <PAD> <PAD> <PAD> <PAD> <PAD> <PAD> <PAD> <PAD> <PAD> <PAD> <PAD> <PAD> <PAD> <PAD> <PAD> <PAD> <PAD> <PAD> <PAD> <PAD> <PAD> <PAD> <PAD> <PAD> <PAD> <PAD> <PAD> <PAD> <PAD> <PAD> <PAD>\n",
            "*** [ <START> they are an eastern indo aryan people who are also descended from austro asiatic and dravidian peoples and closely related ]  <PAD> <PAD> <PAD> <PAD> <PAD> <PAD> <PAD> <PAD> <PAD> <PAD> <PAD> <PAD> <PAD> <PAD> <PAD> <PAD> <PAD> <PAD> <PAD> <PAD> <PAD> <PAD> <PAD> <PAD> <PAD> <PAD> <PAD> <PAD> <PAD> <PAD> <PAD> <PAD> <PAD> <PAD> <PAD> <PAD> <PAD> <PAD> <PAD>\n",
            "*** [ <START> there is a minimum of one whole day that the sun does not set and one whole day that the ]  <PAD> <PAD> <PAD> <PAD> <PAD> <PAD> <PAD> <PAD> <PAD> <PAD> <PAD> <PAD> <PAD> <PAD> <PAD> <PAD> <PAD> <PAD> <PAD> <PAD> south <PAD> <PAD> <PAD> <PAD> <PAD> <PAD> <PAD> <PAD> <PAD> <PAD> <PAD> <PAD> 1980s <PAD> <PAD> <PAD> <PAD> <PAD>\n",
            "*** [ <START> in addition to thousands of books also lost were a major portion of the files and records of professor john ]  <PAD> <PAD> <PAD> <PAD> <PAD> <PAD> <PAD> <PAD> <PAD> <PAD> <PAD> <PAD> <PAD> <PAD> <PAD> <PAD> <PAD> <PAD> <PAD> <PAD> <PAD> <PAD> <PAD> <PAD> <PAD> <PAD> <PAD> <PAD> <PAD> <PAD> <PAD> <PAD> <PAD> <PAD> <PAD> <PAD> <PAD> <PAD> <PAD>\n",
            "*** [ <START> <UNK> are a group of about 20 000 species of plants lrb of which about 10 000 are living rrb ]  <PAD> <PAD> <PAD> <PAD> <PAD> <PAD> <PAD> <PAD> <PAD> <PAD> <PAD> <PAD> <PAD> <PAD> <PAD> <PAD> <PAD> <PAD> <PAD> <PAD> <PAD> <PAD> <PAD> <PAD> <PAD> <PAD> <PAD> <PAD> <PAD> <PAD> <PAD> <PAD> <PAD> <PAD> <PAD> <PAD> <PAD> <PAD> <PAD>\n",
            "### TEMP  1.2\n",
            "*** [ <START> 13th planet records is a record label founded by ministry <UNK> al <UNK> and his wife <UNK> <UNK> in 2004 ]  <PAD> <PAD> <PAD> <EOS> <PAD> <PAD> <PAD> <PAD> <PAD> <PAD> <PAD> <PAD> <PAD> <PAD> <PAD> <PAD> <PAD> <PAD> atmosphere <PAD> <PAD> calais <PAD> <PAD> <PAD> <PAD> <PAD> <PAD> <PAD> <PAD> <PAD> <PAD> <PAD> <PAD> <PAD> <PAD> <PAD> <PAD> <PAD>\n",
            "*** [ <START> <UNK> middleton lrb born 4 october 1971 in sydney australia rrb is the guitarist in the band <UNK> '' <EOS> ]  <PAD> <PAD> <PAD> <PAD> <PAD> <PAD> <PAD> <PAD> <PAD> <PAD> <PAD> <PAD> <PAD> <PAD> <PAD> <PAD> <PAD> <PAD> <PAD> <PAD> <PAD> <PAD> <PAD> <PAD> <PAD> <PAD> <PAD> <PAD> <PAD> <PAD> <PAD> <PAD> <PAD> <PAD> <PAD> <PAD> <PAD> <PAD> <PAD>\n",
            "*** [ <START> the trans karakoram tract is an area of nearly 5 800 km that india claims was transferred by a border ]  <PAD> <PAD> <PAD> <PAD> <PAD> <PAD> <PAD> <PAD> <PAD> <PAD> <PAD> the <PAD> <PAD> <PAD> <PAD> <PAD> <PAD> <PAD> <PAD> <PAD> <PAD> <PAD> <PAD> <PAD> <PAD> <PAD> <PAD> <PAD> <PAD> <PAD> <PAD> <PAD> <PAD> food <PAD> <PAD> <PAD> <PAD>\n",
            "*** [ <START> the london midland and scottish railway and the london and north eastern railway both developed a system of identifying carriages ]  <PAD> <PAD> <PAD> bow <PAD> <PAD> <PAD> <PAD> <PAD> <PAD> <PAD> <PAD> <PAD> <PAD> <PAD> <PAD> <PAD> <PAD> <PAD> <PAD> <PAD> <PAD> <PAD> <PAD> <PAD> <PAD> <PAD> <PAD> <PAD> <PAD> <PAD> <PAD> <PAD> <PAD> <PAD> <PAD> <PAD> <PAD> <PAD>\n"
          ],
          "name": "stdout"
        },
        {
          "output_type": "stream",
          "text": [
            "\r  0%|          | 0/186 [00:00<?, ?it/s]"
          ],
          "name": "stderr"
        },
        {
          "output_type": "stream",
          "text": [
            "*** [ <START> the band got very <UNK> until six months later when they released their second single <UNK> <EOS> ]  <PAD> <PAD> <PAD> <PAD> <PAD> <PAD> <PAD> <PAD> <PAD> <PAD> <PAD> <PAD> <PAD> <PAD> <PAD> <PAD> <PAD> <PAD> <PAD> <PAD> <PAD> empire <PAD> <PAD> mission <PAD> <PAD> <PAD> <PAD> <PAD> <PAD> <PAD> <PAD> <PAD> <PAD> <PAD> <PAD> <PAD> <UNK> usb pp <PAD>\n"
          ],
          "name": "stdout"
        },
        {
          "output_type": "stream",
          "text": [
            "100%|██████████| 186/186 [05:40<00:00,  1.83s/it]\n"
          ],
          "name": "stderr"
        },
        {
          "output_type": "stream",
          "text": [
            "### TEMP  0.0\n",
            "*** [ <START> <UNK> involving sound from the <UNK> are not found in most dialects of english though they are found in many ]  <PAD> <PAD> <PAD> <PAD> <PAD> <PAD> <PAD> <PAD> <PAD> <PAD> <PAD> <PAD> <PAD> <PAD> <PAD> <PAD> <PAD> <PAD> <PAD> <PAD> <PAD> <PAD> <PAD> <PAD> <PAD> <PAD> <PAD> <PAD> <PAD> <PAD> <PAD> <PAD> <PAD> <PAD> <PAD> <PAD> <PAD> <PAD> <PAD>\n",
            "*** [ <START> sam wang was a national soccer player http <UNK> net forum <UNK> index php <UNK> html and a model <EOS> ]  <PAD> <PAD> <PAD> <PAD> <PAD> <PAD> <PAD> <PAD> <PAD> <PAD> <PAD> <PAD> <PAD> <PAD> <PAD> <PAD> <PAD> <PAD> <PAD> <PAD> <PAD> <PAD> <PAD> <PAD> <PAD> <PAD> <PAD> <PAD> <PAD> <PAD> <PAD> <PAD> <PAD> <PAD> <PAD> <PAD> <PAD> <PAD> <PAD>\n",
            "*** [ <START> a popular writer in her time her work has received even more attention from literary critics in recent years <EOS> ]  <PAD> <PAD> <PAD> <PAD> <PAD> <PAD> <PAD> <PAD> <PAD> <PAD> <PAD> <PAD> <PAD> <PAD> <PAD> <PAD> <PAD> <PAD> <PAD> <PAD> <PAD> <PAD> <PAD> <PAD> <PAD> <PAD> <PAD> <PAD> <PAD> <PAD> <PAD> <PAD> <PAD> <PAD> <PAD> <PAD> <PAD> <PAD> <PAD>\n",
            "*** [ <START> <UNK> middleton lrb born 4 october 1971 in sydney australia rrb is the guitarist in the band <UNK> '' <EOS> ]  <PAD> <PAD> <PAD> <PAD> <PAD> <PAD> <PAD> <PAD> <PAD> <PAD> <PAD> <PAD> <PAD> <PAD> <PAD> <PAD> <PAD> <PAD> <PAD> <PAD> <PAD> <PAD> <PAD> <PAD> <PAD> <PAD> <PAD> <PAD> <PAD> <PAD> <PAD> <PAD> <PAD> <PAD> <PAD> <PAD> <PAD> <PAD> <PAD>\n",
            "*** [ <START> the chola dynasty lrb rrb was a tamil dynasty that ruled in southern india until the 13th century <EOS> ]  <PAD> <PAD> <PAD> <PAD> <PAD> <PAD> <PAD> <PAD> <PAD> <PAD> <PAD> <PAD> <PAD> <PAD> <PAD> <PAD> <PAD> <PAD> <PAD> <PAD> <PAD> <PAD> <PAD> <PAD> <PAD> <PAD> <PAD> <PAD> <PAD> <PAD> <PAD> <PAD> <PAD> <PAD> <PAD> <PAD> <PAD> <PAD> <PAD> <PAD>\n",
            "### TEMP  0.9\n",
            "*** [ <START> the most important and best known of his works is the <UNK> <UNK> <UNK> <UNK> giving in five books and ]  <PAD> <PAD> <PAD> <PAD> <PAD> <PAD> <PAD> <PAD> <PAD> <PAD> <PAD> <PAD> <PAD> <PAD> <PAD> <PAD> <PAD> <PAD> <PAD> <PAD> <PAD> <PAD> <PAD> <PAD> <PAD> <PAD> <PAD> <PAD> <PAD> <PAD> <PAD> <PAD> <PAD> <PAD> <PAD> <PAD> <PAD> <PAD> <PAD>\n",
            "*** [ <START> the sierra nevada stretches 400 miles lrb 650 km rrb from <UNK> pass in the north to <UNK> pass in ]  <PAD> <PAD> <PAD> <PAD> <PAD> <PAD> <PAD> <PAD> <PAD> <PAD> <PAD> <PAD> <PAD> <PAD> <PAD> <PAD> <PAD> <PAD> <PAD> <PAD> <PAD> <PAD> <PAD> <PAD> <PAD> <PAD> <PAD> <PAD> <PAD> <PAD> <PAD> <PAD> <PAD> <PAD> <PAD> <PAD> <PAD> <PAD> <PAD>\n",
            "*** [ <START> the program is set in seattle washington but was actually filmed in vancouver british columbia canada at lions gate studios ]  <PAD> <PAD> <PAD> <PAD> <PAD> <PAD> <PAD> <PAD> <PAD> <PAD> <PAD> <PAD> <PAD> <PAD> <PAD> <PAD> <PAD> <PAD> <PAD> <PAD> <PAD> <PAD> <PAD> <PAD> <PAD> <PAD> <PAD> <PAD> <PAD> <PAD> <PAD> <PAD> <PAD> <PAD> <PAD> <PAD> <PAD> <PAD> <PAD>\n",
            "*** [ <START> <UNK> <UNK> printer 1892 historical records of new south wales vol 1 part 2 lrb 1783 1792 rrb pages 67 ]  <PAD> <PAD> <PAD> <PAD> <PAD> <PAD> <PAD> <PAD> <PAD> <PAD> <PAD> <PAD> <PAD> <PAD> <PAD> <PAD> <PAD> <PAD> <PAD> <PAD> <PAD> <PAD> <PAD> <PAD> <PAD> <PAD> <PAD> <PAD> <PAD> <PAD> <PAD> <PAD> <PAD> <PAD> <PAD> <PAD> <PAD> <PAD> <PAD>\n",
            "*** [ <START> he looks old but he claims to be only 31 years old lrb in <UNK> <UNK> choice '' his drivers ]  <PAD> <PAD> <PAD> <PAD> <PAD> <PAD> <PAD> <PAD> <PAD> <PAD> <PAD> <PAD> <PAD> <PAD> <PAD> <PAD> <PAD> <PAD> <PAD> <PAD> <PAD> <PAD> <PAD> <PAD> <PAD> <PAD> <PAD> <PAD> <PAD> <PAD> <PAD> <PAD> <PAD> <PAD> <PAD> <PAD> <PAD> <PAD> <PAD>\n",
            "### TEMP  1\n",
            "*** [ <START> drama lrb greek to do seeing place rrb is the branch of the performing arts concerned with acting out stories ]  <PAD> <PAD> <PAD> <PAD> <PAD> <PAD> <PAD> <PAD> <PAD> <PAD> <PAD> <PAD> <PAD> <PAD> <PAD> <PAD> <PAD> <PAD> <PAD> <PAD> <PAD> <PAD> <PAD> <PAD> <PAD> <PAD> <PAD> <PAD> <PAD> <PAD> <PAD> <PAD> <PAD> <PAD> <PAD> <PAD> <PAD> <PAD> <PAD>\n",
            "*** [ <START> it was here that handel composed some of his most famous music such as <UNK> <UNK> the priest and <UNK> ]  <PAD> <PAD> <PAD> <PAD> <PAD> <PAD> <PAD> <PAD> <PAD> <PAD> <PAD> <PAD> <PAD> <PAD> <PAD> <PAD> <PAD> <PAD> <PAD> <PAD> <PAD> <PAD> <PAD> <PAD> <PAD> <PAD> <PAD> <PAD> <PAD> <PAD> <PAD> <PAD> <PAD> <PAD> <PAD> <PAD> <PAD> <PAD> <PAD>\n",
            "*** [ <START> in mathematics a <UNK> regular 4 polytope lrb or <UNK> rrb is 4 dimensional polytope which is both regular and ]  <PAD> <PAD> <PAD> <PAD> <PAD> <PAD> <PAD> <PAD> <PAD> <PAD> <PAD> <PAD> <PAD> <PAD> <PAD> <PAD> <PAD> <PAD> <PAD> <PAD> <PAD> <PAD> <PAD> <PAD> <PAD> <PAD> <PAD> <PAD> <PAD> <PAD> <PAD> <PAD> <PAD> <PAD> <PAD> <PAD> <PAD> <PAD> <PAD>\n",
            "*** [ <START> there he developed his talents for magic <UNK> playing the banjo and creating balloon animals <EOS> ]  <PAD> <PAD> <PAD> <PAD> <PAD> <PAD> <PAD> <PAD> <PAD> <PAD> <PAD> <PAD> <PAD> <PAD> <PAD> <PAD> <PAD> <PAD> <PAD> <PAD> <PAD> <PAD> <PAD> <PAD> <PAD> <PAD> <PAD> <PAD> <PAD> <PAD> <PAD> <PAD> <PAD> <PAD> <PAD> <PAD> <PAD> <PAD> <PAD> <PAD> <PAD> <PAD> <PAD>\n",
            "*** [ <START> samuel dexter lrb may 14 <UNK> may 4 1816 rrb was an early american statesman who served both in congress ]  <PAD> <PAD> <PAD> <PAD> <PAD> <PAD> <PAD> <PAD> <PAD> <PAD> <PAD> <PAD> <PAD> <PAD> <PAD> <PAD> <PAD> <PAD> <PAD> <PAD> <PAD> <PAD> <PAD> <PAD> <PAD> <PAD> <PAD> <PAD> <PAD> <PAD> <PAD> <PAD> <PAD> <PAD> <PAD> <PAD> <PAD> <PAD> <PAD>\n",
            "### TEMP  1.1\n",
            "*** [ <START> moving picture showing how one series of waves hits a double slit and produces two series of waves that interfere ]  <PAD> <PAD> <PAD> <PAD> <PAD> <PAD> <PAD> <PAD> <PAD> <PAD> <PAD> <PAD> <PAD> <PAD> <PAD> <PAD> <PAD> <PAD> <PAD> <PAD> <PAD> <PAD> <PAD> <PAD> <PAD> <PAD> <PAD> <PAD> <PAD> <PAD> <PAD> <PAD> <PAD> <PAD> <PAD> <PAD> <PAD> <PAD> <PAD>\n",
            "*** [ <START> <UNK> middleton lrb born 4 october 1971 in sydney australia rrb is the guitarist in the band <UNK> '' <EOS> ]  <PAD> <PAD> <PAD> <PAD> <PAD> <PAD> <PAD> <PAD> <PAD> <PAD> <PAD> <PAD> <PAD> <PAD> <PAD> <PAD> <PAD> <PAD> <PAD> <PAD> <PAD> <PAD> <PAD> <PAD> <PAD> <PAD> <PAD> <PAD> <PAD> <PAD> <PAD> winner <PAD> <PAD> <PAD> <PAD> <PAD> <PAD> <PAD>\n",
            "*** [ <START> it is bordered by florida to the south alabama to the west tennessee and north carolina to the north and ]  <PAD> <PAD> <PAD> <PAD> <PAD> <PAD> <PAD> <PAD> <PAD> <PAD> <PAD> <PAD> <PAD> <PAD> <PAD> <PAD> <PAD> <PAD> <PAD> <PAD> <PAD> <PAD> <PAD> <PAD> <PAD> <PAD> <PAD> <PAD> <PAD> <PAD> <PAD> <PAD> <PAD> <PAD> <PAD> <PAD> <PAD> <PAD> <PAD>\n",
            "*** [ <START> in some areas of the game there is dangerous weather like <UNK> <UNK> or acid rain <EOS> ]  <PAD> <PAD> <PAD> <PAD> <PAD> <PAD> <PAD> <PAD> <PAD> <PAD> <PAD> <PAD> <PAD> <PAD> <PAD> <PAD> <PAD> <PAD> <PAD> <PAD> <PAD> <PAD> <PAD> <PAD> <PAD> <PAD> <PAD> <PAD> <PAD> <PAD> <PAD> <PAD> <PAD> <PAD> <PAD> <PAD> <PAD> <PAD> <PAD> <PAD> <PAD> <PAD>\n",
            "*** [ <START> in addition to thousands of books also lost were a major portion of the files and records of professor john ]  <PAD> <PAD> <PAD> <PAD> <PAD> <PAD> <PAD> <PAD> <PAD> <PAD> <PAD> <PAD> <PAD> <UNK> <PAD> <PAD> <PAD> <PAD> <PAD> <PAD> <PAD> <PAD> <PAD> <PAD> <PAD> <PAD> <PAD> <PAD> <PAD> <PAD> <PAD> <PAD> <PAD> <PAD> <PAD> <PAD> <PAD> <PAD> <PAD>\n",
            "### TEMP  1.2\n",
            "*** [ <START> as minister of state for foreign affairs he played a part in the peace agreements between egyptian president <UNK> <UNK> ]  <PAD> <PAD> <EOS> <PAD> <PAD> <PAD> <PAD> <PAD> <PAD> <PAD> <PAD> <PAD> <PAD> <PAD> <PAD> <PAD> <PAD> <PAD> <PAD> <PAD> <PAD> <PAD> <PAD> <PAD> <PAD> <PAD> pakistan <PAD> <PAD> <PAD> <PAD> <PAD> <PAD> <PAD> <EOS> <PAD> <PAD> <PAD> <PAD>\n",
            "*** [ <START> after a short time back in spain he returned to paris to study musicology first under maurice <UNK> and then ]  <PAD> frequently <PAD> <PAD> <PAD> <PAD> <PAD> <PAD> <PAD> <PAD> <PAD> <PAD> <PAD> <PAD> <PAD> <PAD> <PAD> <PAD> <PAD> <PAD> <PAD> <PAD> <PAD> <PAD> <PAD> <PAD> <PAD> <PAD> <PAD> <PAD> <PAD> <PAD> <PAD> <PAD> <PAD> <PAD> <PAD> <PAD> <PAD>\n",
            "*** [ <START> <UNK> <UNK> rosignano <UNK> <UNK> <UNK> della <UNK> <UNK> <UNK> <EOS> <PAD> <PAD> <PAD> <PAD> ]  <PAD> <PAD> trusted <PAD> <PAD> <PAD> <PAD> <PAD> <PAD> <PAD> <PAD> <PAD> <PAD> <PAD> <PAD> <PAD> <PAD> <PAD> <PAD> <PAD> <PAD> <PAD> <PAD> <PAD> <PAD> <PAD> <PAD> <PAD> <PAD> <PAD> <PAD> <PAD> <PAD> <PAD> <PAD> <PAD> <PAD> <PAD> <PAD> <PAD> <PAD> <PAD> <PAD> <PAD>\n",
            "*** [ <START> france aragon castile and león cyprus burgundy savoy naples and scotland choose to recognize <UNK> clement vii <EOS> ]  <PAD> <PAD> <PAD> <PAD> <PAD> <PAD> <PAD> <PAD> <PAD> <PAD> <PAD> <PAD> <PAD> <PAD> <PAD> <PAD> <PAD> <PAD> <PAD> <PAD> <PAD> <PAD> <PAD> <PAD> <PAD> <PAD> <PAD> <PAD> <PAD> <PAD> <PAD> <PAD> <PAD> <PAD> <PAD> <PAD> <PAD> <PAD> <PAD> <PAD> <PAD>\n"
          ],
          "name": "stdout"
        },
        {
          "output_type": "stream",
          "text": [
            "\r  0%|          | 0/186 [00:00<?, ?it/s]"
          ],
          "name": "stderr"
        },
        {
          "output_type": "stream",
          "text": [
            "*** [ <START> in 2003 rolling stone magazine named <UNK> 76 on its list of the 500 greatest albums of all time <EOS> ]  <PAD> <PAD> <PAD> <PAD> <PAD> <PAD> <PAD> <PAD> <PAD> <PAD> <PAD> <PAD> united <PAD> <PAD> <PAD> <PAD> <PAD> <PAD> <PAD> <PAD> <PAD> <PAD> <PAD> <PAD> <PAD> <PAD> <PAD> <PAD> <PAD> <PAD> <PAD> <PAD> <PAD> <PAD> <PAD> <PAD> <PAD> <PAD>\n"
          ],
          "name": "stdout"
        },
        {
          "output_type": "stream",
          "text": [
            "100%|██████████| 186/186 [05:40<00:00,  1.83s/it]\n"
          ],
          "name": "stderr"
        },
        {
          "output_type": "stream",
          "text": [
            "### TEMP  0.0\n",
            "*** [ <START> the platforms and <UNK> are <UNK> by creatures lrb also known as <UNK> rrb but each planet has a different ]  <PAD> <PAD> <PAD> <PAD> <PAD> <PAD> <PAD> <PAD> <PAD> <PAD> <PAD> <PAD> <PAD> <PAD> <PAD> <PAD> <PAD> <PAD> <PAD> <PAD> <PAD> <PAD> <PAD> <PAD> <PAD> <PAD> <PAD> <PAD> <PAD> <PAD> <PAD> <PAD> <PAD> <PAD> <PAD> <PAD> <PAD> <PAD> <PAD>\n",
            "*** [ <START> in mathematics a <UNK> regular 4 polytope lrb or <UNK> rrb is 4 dimensional polytope which is both regular and ]  <PAD> <PAD> <PAD> <PAD> <PAD> <PAD> <PAD> <PAD> <PAD> <PAD> <PAD> <PAD> <PAD> <PAD> <PAD> <PAD> <PAD> <PAD> <PAD> <PAD> <PAD> <PAD> <PAD> <PAD> <PAD> <PAD> <PAD> <PAD> <PAD> <PAD> <PAD> <PAD> <PAD> <PAD> <PAD> <PAD> <PAD> <PAD> <PAD>\n",
            "*** [ <START> where the crust meets the mantle the temperatures can be between 200 c lrb <UNK> f rrb to 400 c ]  <PAD> <PAD> <PAD> <PAD> <PAD> <PAD> <PAD> <PAD> <PAD> <PAD> <PAD> <PAD> <PAD> <PAD> <PAD> <PAD> <PAD> <PAD> <PAD> <PAD> <PAD> <PAD> <PAD> <PAD> <PAD> <PAD> <PAD> <PAD> <PAD> <PAD> <PAD> <PAD> <PAD> <PAD> <PAD> <PAD> <PAD> <PAD> <PAD>\n",
            "*** [ <START> michael rogers oldfield thomas lrb usually known as oldfield thomas rrb frs lrb february 21 1858 ndash june 16 1929 ]  <PAD> <PAD> <PAD> <PAD> <PAD> <PAD> <PAD> <PAD> <PAD> <PAD> <PAD> <PAD> <PAD> <PAD> <PAD> <PAD> <PAD> <PAD> <PAD> <PAD> <PAD> <PAD> <PAD> <PAD> <PAD> <PAD> <PAD> <PAD> <PAD> <PAD> <PAD> <PAD> <PAD> <PAD> <PAD> <PAD> <PAD> <PAD> <PAD>\n",
            "*** [ <START> it had a population of 15 <UNK> recorded in the 2001 census and is a typical west of scotland industrial ]  <PAD> <PAD> <PAD> <PAD> <PAD> <PAD> <PAD> <PAD> <PAD> <PAD> <PAD> <PAD> <PAD> <PAD> <PAD> <PAD> <PAD> <PAD> <PAD> <PAD> <PAD> <PAD> <PAD> <PAD> <PAD> <PAD> <PAD> <PAD> <PAD> <PAD> <PAD> <PAD> <PAD> <PAD> <PAD> <PAD> <PAD> <PAD> <PAD>\n",
            "### TEMP  0.9\n",
            "*** [ <START> the 87 km island is divided roughly in half between france and the netherlands it is the smallest inhabited sea ]  <PAD> <PAD> <PAD> <PAD> <PAD> <PAD> <PAD> <PAD> <PAD> <PAD> <PAD> <PAD> <PAD> <PAD> <PAD> <PAD> <PAD> <PAD> <PAD> <PAD> <PAD> <PAD> <PAD> <PAD> <PAD> <PAD> <PAD> <PAD> <PAD> <PAD> <PAD> <PAD> <PAD> <PAD> <PAD> <PAD> <PAD> <PAD> <PAD>\n",
            "*** [ <START> it was once part of the north south torrance to san pedro <UNK> line of the pacific electric railway <EOS> ]  <PAD> <PAD> <PAD> <PAD> <PAD> <PAD> <PAD> <PAD> <PAD> <PAD> <PAD> <PAD> <PAD> <PAD> <PAD> <PAD> <PAD> <PAD> <PAD> <PAD> <PAD> <PAD> <PAD> <PAD> <PAD> <PAD> <PAD> <PAD> <PAD> <PAD> <PAD> <PAD> <PAD> <PAD> <PAD> <PAD> <PAD> <PAD> <PAD>\n",
            "*** [ <START> spaghetti alla bolognese spaghetti bolognese or spaghetti <UNK> in a form popular outside of italy consists of a meat sauce ]  <PAD> <PAD> <PAD> <PAD> <PAD> <PAD> <PAD> <PAD> <PAD> <PAD> <PAD> <PAD> <PAD> <PAD> <PAD> <PAD> <PAD> <PAD> <PAD> <PAD> <PAD> <PAD> <PAD> <PAD> <PAD> <PAD> <PAD> <PAD> <PAD> <PAD> <PAD> <PAD> <PAD> <PAD> <PAD> <PAD> <PAD> <PAD> <PAD>\n",
            "*** [ <START> france aragon castile and león cyprus burgundy savoy naples and scotland choose to recognize <UNK> clement vii <EOS> ]  <PAD> <PAD> <PAD> <PAD> <PAD> <PAD> <PAD> <PAD> <PAD> <PAD> <PAD> <PAD> <PAD> <PAD> <PAD> <PAD> <PAD> <PAD> <PAD> <PAD> <PAD> <PAD> <PAD> <PAD> <PAD> <PAD> <PAD> <PAD> <PAD> <PAD> <PAD> <PAD> <PAD> <PAD> <PAD> <PAD> <PAD> <PAD> <PAD> <PAD> <PAD>\n",
            "*** [ <START> in addition to thousands of books also lost were a major portion of the files and records of professor john ]  <PAD> <PAD> <PAD> <PAD> <PAD> <PAD> <UNK> <PAD> <PAD> <PAD> <PAD> <PAD> <PAD> <PAD> <PAD> <PAD> <PAD> <PAD> <PAD> <PAD> <PAD> <PAD> <PAD> <PAD> <PAD> <PAD> <PAD> <PAD> <PAD> <PAD> <PAD> <PAD> <PAD> <PAD> <PAD> <PAD> <PAD> <PAD> <PAD>\n",
            "### TEMP  1\n",
            "*** [ <START> since 1986 birmingham coventry and <UNK> have been effective unitary authorities but they still remain legally part of the west ]  <PAD> <PAD> <PAD> <PAD> <PAD> <PAD> <PAD> <PAD> <PAD> <PAD> <PAD> <PAD> <PAD> <PAD> <PAD> <PAD> <PAD> <PAD> <PAD> <PAD> <PAD> <PAD> military <PAD> <PAD> <PAD> <PAD> <PAD> <PAD> <PAD> <PAD> <PAD> <PAD> <PAD> <PAD> <PAD> <PAD> <PAD> <PAD>\n",
            "*** [ <START> the chola dynasty lrb rrb was a tamil dynasty that ruled in southern india until the 13th century <EOS> ]  <PAD> <PAD> <PAD> <PAD> <PAD> <PAD> <PAD> <PAD> <PAD> <PAD> <PAD> <PAD> <PAD> <PAD> <PAD> <PAD> <PAD> <PAD> <PAD> <PAD> <PAD> <PAD> <PAD> <PAD> <PAD> <PAD> <PAD> <PAD> <PAD> <PAD> <PAD> <PAD> <PAD> <PAD> <PAD> <PAD> <PAD> <PAD> <PAD> <PAD>\n",
            "*** [ <START> the year 1986 saw the release of sub pops lrb the '' <UNK> '' was dropped earlier from the name ]  <PAD> <PAD> <PAD> <PAD> <PAD> <PAD> <PAD> <PAD> <PAD> <PAD> <PAD> <PAD> <PAD> <PAD> <PAD> <PAD> <PAD> <PAD> <PAD> <PAD> <PAD> <PAD> <PAD> <PAD> <PAD> <PAD> <PAD> <PAD> <PAD> <PAD> <PAD> <PAD> <PAD> <PAD> <PAD> <PAD> <PAD> <PAD> <PAD>\n",
            "*** [ <START> scientists still believed that liquid <UNK> and methane would be found near titans poles where they expected to find lots ]  <PAD> <PAD> <PAD> <PAD> <PAD> <PAD> <PAD> <PAD> <PAD> <PAD> <PAD> <PAD> <PAD> <PAD> <PAD> <PAD> <PAD> <PAD> <PAD> <PAD> <PAD> <PAD> <PAD> <PAD> <PAD> <PAD> <PAD> <PAD> <PAD> <PAD> <PAD> <PAD> <PAD> <PAD> <PAD> <PAD> <PAD> <PAD> <PAD>\n",
            "*** [ <START> <UNK> an organism that lives <UNK> at high <UNK> pressure common in the deep terrestrial <UNK> as well as in ]  <PAD> <PAD> <PAD> <PAD> <PAD> <PAD> <PAD> <PAD> <PAD> <PAD> <PAD> <PAD> <PAD> <PAD> <PAD> <PAD> <PAD> <PAD> <PAD> <PAD> <PAD> <PAD> <PAD> <PAD> <PAD> <PAD> <PAD> <PAD> <PAD> <PAD> <PAD> <PAD> <PAD> <PAD> <PAD> <PAD> <PAD> <PAD> <PAD>\n",
            "### TEMP  1.1\n",
            "*** [ <START> in 2006 the bands 1993 touring line up lrb except for paul taylor rrb re united to record the bands ]  <PAD> <PAD> <PAD> <PAD> <PAD> <PAD> <PAD> <PAD> <PAD> <PAD> <PAD> <PAD> <PAD> <PAD> <PAD> <PAD> <PAD> <PAD> <PAD> <PAD> <PAD> <PAD> <PAD> <PAD> <PAD> <PAD> <PAD> <PAD> <PAD> <PAD> <PAD> <PAD> <PAD> <PAD> <PAD> <PAD> <PAD> <PAD> <PAD>\n",
            "*** [ <START> the oldest sinhala inscriptions were written in the 3rd and 2nd centuries bce the oldest existing literary works date from ]  <PAD> <PAD> <PAD> <PAD> <PAD> <PAD> <PAD> <PAD> <PAD> <PAD> <PAD> <PAD> <PAD> <PAD> <PAD> <PAD> <PAD> <PAD> <PAD> <PAD> universitys his <PAD> <PAD> <PAD> <PAD> <PAD> <PAD> <PAD> <PAD> <PAD> <PAD> <PAD> <PAD> <PAD> <PAD> <PAD> <PAD> <PAD>\n",
            "*** [ <START> flowering can be induced in some biennials by application of the plant <UNK> <UNK> but this is rarely done commercially ]  <PAD> <PAD> <PAD> <PAD> <PAD> <PAD> <PAD> <PAD> <PAD> <PAD> <PAD> <PAD> <PAD> <PAD> <PAD> <PAD> <PAD> <PAD> <PAD> <PAD> <PAD> <PAD> <PAD> <PAD> <PAD> <PAD> <PAD> vienna <PAD> <PAD> <PAD> <PAD> <PAD> <PAD> <PAD> <PAD> <PAD> <PAD> <PAD>\n",
            "*** [ <START> the most important and best known of his works is the <UNK> <UNK> <UNK> <UNK> giving in five books and ]  <PAD> <PAD> <PAD> <PAD> <PAD> <PAD> <PAD> <PAD> <PAD> <PAD> <PAD> <PAD> <PAD> <PAD> <PAD> <PAD> <PAD> <PAD> <PAD> <PAD> <PAD> <PAD> <PAD> <PAD> <PAD> <PAD> <PAD> <PAD> <PAD> <PAD> <PAD> <PAD> <PAD> <PAD> <PAD> <PAD> <PAD> <PAD> <PAD>\n",
            "*** [ <START> it is found in the region nord pas de calais in the pas de calais department in the north of ]  <PAD> <PAD> <PAD> <PAD> <PAD> <PAD> <PAD> <PAD> <PAD> <PAD> <PAD> <PAD> <PAD> <PAD> <PAD> <PAD> <PAD> <PAD> <PAD> <PAD> <PAD> <PAD> <PAD> <PAD> <PAD> <PAD> <PAD> <PAD> <PAD> <PAD> <PAD> <PAD> <PAD> <PAD> <PAD> <PAD> <PAD> <PAD> <PAD>\n",
            "### TEMP  1.2\n",
            "*** [ <START> the state is located in western brazil in an area of the country that is mostly marshes of the <UNK> ]  <PAD> <PAD> <PAD> <PAD> <PAD> <PAD> <PAD> <PAD> <PAD> <PAD> <PAD> <PAD> <PAD> <PAD> <PAD> <PAD> <PAD> <PAD> <PAD> <PAD> <PAD> <PAD> <PAD> <PAD> <PAD> <PAD> <PAD> <PAD> <PAD> <PAD> <PAD> <PAD> <PAD> <PAD> <PAD> <PAD> <PAD> <PAD> <PAD>\n",
            "*** [ <START> in the presidents case the disease caused <UNK> and <UNK> <UNK> the <UNK> com <EOS> <PAD> ]  <PAD> <PAD> <PAD> <PAD> <PAD> <PAD> <PAD> <PAD> <PAD> <PAD> <PAD> <PAD> <PAD> <PAD> <PAD> <PAD> <PAD> <PAD> only <PAD> <PAD> <PAD> <PAD> <PAD> <PAD> <PAD> <PAD> <PAD> <PAD> <PAD> <PAD> <PAD> <PAD> <PAD> <PAD> <PAD> <PAD> <PAD> <PAD> <PAD> <PAD> <PAD> <PAD>\n",
            "*** [ <START> it also contains movie <UNK> that used official movie footage with hosts and other <UNK> and music performances <EOS> ]  <PAD> <PAD> <PAD> <PAD> <PAD> <PAD> <PAD> <PAD> <PAD> <PAD> <PAD> <PAD> <PAD> <PAD> <PAD> <PAD> <PAD> <PAD> <PAD> <PAD> <PAD> <PAD> <PAD> <PAD> <PAD> <PAD> <PAD> <PAD> <PAD> <EOS> <PAD> <PAD> <PAD> <PAD> <PAD> <PAD> <PAD> database <PAD> <PAD>\n",
            "*** [ <START> the united nations estimated in its report that 1 5 million people were <UNK> affected '' by this cyclone <EOS> ]  <PAD> <PAD> <PAD> <PAD> <PAD> <PAD> <PAD> <PAD> <PAD> <PAD> <PAD> <PAD> <PAD> <PAD> <PAD> <PAD> <PAD> <PAD> <PAD> <PAD> <PAD> <PAD> <PAD> <PAD> <PAD> <PAD> <PAD> <PAD> <PAD> <PAD> <PAD> <PAD> <PAD> <PAD> <PAD> <PAD> <PAD> <PAD> <PAD>\n"
          ],
          "name": "stdout"
        },
        {
          "output_type": "stream",
          "text": [
            "\r  0%|          | 0/186 [00:00<?, ?it/s]"
          ],
          "name": "stderr"
        },
        {
          "output_type": "stream",
          "text": [
            "*** [ <START> i have in the course of my political struggle won much love from my people but when i crossed the ]  <PAD> <PAD> liberation <PAD> <PAD> <PAD> <PAD> <PAD> <PAD> <PAD> <PAD> <PAD> <PAD> <PAD> <PAD> <PAD> <PAD> <PAD> <PAD> <PAD> <PAD> <PAD> <PAD> <PAD> <PAD> <PAD> a <PAD> <EOS> <PAD> <PAD> <PAD> <PAD> <PAD> <PAD> <PAD> <PAD> <PAD> <PAD>\n"
          ],
          "name": "stdout"
        },
        {
          "output_type": "stream",
          "text": [
            "100%|██████████| 186/186 [05:43<00:00,  1.84s/it]\n"
          ],
          "name": "stderr"
        },
        {
          "output_type": "stream",
          "text": [
            "### TEMP  0.0\n",
            "*** [ <START> 13th planet records is a record label founded by ministry <UNK> al <UNK> and his wife <UNK> <UNK> in 2004 ]  <PAD> <PAD> <PAD> <PAD> <PAD> <PAD> <PAD> <PAD> <PAD> <PAD> <PAD> <PAD> <PAD> <PAD> <PAD> <PAD> <PAD> <PAD> <PAD> <PAD> <PAD> <PAD> <PAD> <PAD> <PAD> <PAD> <PAD> <PAD> <PAD> <PAD> <PAD> <PAD> <PAD> <PAD> <PAD> <PAD> <PAD> <PAD> <PAD>\n",
            "*** [ <START> since 1986 birmingham coventry and <UNK> have been effective unitary authorities but they still remain legally part of the west ]  <PAD> <PAD> <PAD> <PAD> <PAD> <PAD> <PAD> <PAD> <PAD> <PAD> <PAD> <PAD> <PAD> <PAD> <PAD> <PAD> <PAD> <PAD> <PAD> <PAD> <PAD> <PAD> <PAD> <PAD> <PAD> <PAD> <PAD> <PAD> <PAD> <PAD> <PAD> <PAD> <PAD> <PAD> <PAD> <PAD> <PAD> <PAD> <PAD>\n",
            "*** [ <START> in 2003 rolling stone magazine named <UNK> 76 on its list of the 500 greatest albums of all time <EOS> ]  <PAD> <PAD> <PAD> <PAD> <PAD> <PAD> <PAD> <PAD> <PAD> <PAD> <PAD> <PAD> <PAD> <PAD> <PAD> <PAD> <PAD> <PAD> <PAD> <PAD> <PAD> <PAD> <PAD> <PAD> <PAD> <PAD> <PAD> <PAD> <PAD> <PAD> <PAD> <PAD> <PAD> <PAD> <PAD> <PAD> <PAD> <PAD> <PAD>\n",
            "*** [ <START> the london midland and scottish railway and the london and north eastern railway both developed a system of identifying carriages ]  <PAD> <PAD> <PAD> <PAD> <PAD> <PAD> <PAD> <PAD> <PAD> <PAD> <PAD> <PAD> <PAD> <PAD> <PAD> <PAD> <PAD> <PAD> <PAD> <PAD> <PAD> <PAD> <PAD> <PAD> <PAD> <PAD> <PAD> <PAD> <PAD> <PAD> <PAD> <PAD> <PAD> <PAD> <PAD> <PAD> <PAD> <PAD> <PAD>\n",
            "*** [ <START> the <UNK> is also common in south and south east asia and was popular in europe from the times of ]  <PAD> <PAD> <PAD> <PAD> <PAD> <PAD> <PAD> <PAD> <PAD> <PAD> <PAD> <PAD> <PAD> <PAD> <PAD> <PAD> <PAD> <PAD> <PAD> <PAD> <PAD> <PAD> <PAD> <PAD> <PAD> <PAD> <PAD> <PAD> <PAD> <PAD> <PAD> <PAD> <PAD> <PAD> <PAD> <PAD> <PAD> <PAD> <PAD>\n",
            "### TEMP  0.9\n",
            "*** [ <START> coopersale halt is the current terminus of the epping <UNK> railway in the <UNK> of coopersale in epping essex england ]  <PAD> <PAD> <PAD> <PAD> <PAD> <PAD> <PAD> <PAD> <PAD> <PAD> <PAD> <PAD> <PAD> <PAD> <PAD> <PAD> <PAD> <PAD> <PAD> <PAD> <PAD> <PAD> <PAD> <PAD> <PAD> <PAD> <PAD> <PAD> <PAD> <PAD> <PAD> <PAD> <PAD> <PAD> <PAD> pas <PAD> <PAD> <PAD>\n",
            "*** [ <START> bar council a professional body that <UNK> the profession of <UNK> together with the <UNK> of court <EOS> ]  <PAD> <PAD> <PAD> <PAD> <PAD> <PAD> <PAD> <PAD> <PAD> <PAD> <PAD> <PAD> <PAD> <PAD> <PAD> <PAD> <PAD> <PAD> <PAD> <PAD> <PAD> <PAD> <PAD> <PAD> <PAD> <PAD> <PAD> <PAD> <PAD> <PAD> <PAD> <PAD> <PAD> <PAD> <PAD> <PAD> <PAD> <PAD> <PAD> <PAD> <PAD>\n",
            "*** [ <START> the paintings lunch on the grass and <UNK> were a starting point for a group of young painters to develop ]  <PAD> <PAD> <PAD> <PAD> <PAD> <PAD> <PAD> <PAD> <PAD> <PAD> <PAD> <PAD> <PAD> <PAD> <PAD> <PAD> <PAD> <PAD> <PAD> <PAD> <PAD> <PAD> <PAD> <PAD> <PAD> <PAD> <PAD> <PAD> <PAD> <PAD> <PAD> <PAD> <PAD> <PAD> <PAD> <PAD> <PAD> <PAD> <PAD>\n",
            "*** [ <START> carlo gesualdo lrb 1566 ndash <UNK> rrb also known as don carlo gesualdo italian music composer murderer <EOS> ]  <PAD> <PAD> <PAD> <PAD> <PAD> <PAD> <PAD> <PAD> <PAD> <PAD> <PAD> <PAD> <PAD> <PAD> <PAD> <PAD> <PAD> <PAD> <PAD> <PAD> <PAD> <PAD> <PAD> <PAD> <PAD> <PAD> <PAD> <PAD> <PAD> <PAD> <PAD> <PAD> <PAD> <PAD> <PAD> <PAD> <PAD> <PAD> <PAD> <PAD> <PAD>\n",
            "*** [ <START> zonealarm force field a <UNK> engine that shields the computer and personal data from internet and computer based threats <EOS> ]  <PAD> <PAD> <PAD> <PAD> <PAD> <PAD> <PAD> <PAD> <PAD> <PAD> <PAD> <PAD> <PAD> <PAD> <PAD> <PAD> <PAD> <PAD> <PAD> <PAD> <PAD> <PAD> <PAD> <PAD> <PAD> <PAD> <PAD> <PAD> <PAD> <PAD> <PAD> <PAD> <PAD> <PAD> <PAD> <PAD> <PAD> <PAD> <PAD>\n",
            "### TEMP  1\n",
            "*** [ <START> the first epistle to the corinthians or the first letter to the corinthians is a long letter written by the ]  <PAD> <PAD> <PAD> <PAD> <PAD> <PAD> <PAD> <PAD> <PAD> <PAD> <PAD> <PAD> <PAD> <PAD> <PAD> <PAD> <PAD> <PAD> <PAD> <PAD> <PAD> <PAD> <PAD> <PAD> <PAD> <PAD> <PAD> <PAD> <PAD> <PAD> <PAD> <PAD> <PAD> <PAD> <PAD> <PAD> <PAD> <PAD> <PAD>\n",
            "*** [ <START> in the presidents case the disease caused <UNK> and <UNK> <UNK> the <UNK> com <EOS> <PAD> ]  <PAD> <PAD> <PAD> <PAD> <PAD> <PAD> <PAD> <PAD> <PAD> <PAD> <PAD> <PAD> <PAD> <PAD> <PAD> <PAD> <PAD> <PAD> <PAD> <PAD> <PAD> <PAD> <PAD> <PAD> <PAD> <PAD> <PAD> <PAD> <PAD> <PAD> <PAD> <PAD> <PAD> <PAD> <PAD> <EOS> <PAD> <PAD> <PAD> <PAD> <PAD> <PAD> <PAD>\n",
            "*** [ <START> the gawar bati language has not been given study by serious <UNK> except that it is mentioned by george <UNK> ]  <PAD> <PAD> <PAD> <PAD> <PAD> <PAD> <PAD> <PAD> <PAD> <PAD> <PAD> <PAD> <PAD> <PAD> <PAD> <PAD> <PAD> <PAD> <PAD> <PAD> <PAD> <PAD> <PAD> <PAD> <PAD> <PAD> <PAD> <PAD> <PAD> <PAD> <PAD> <PAD> <PAD> <PAD> <PAD> <PAD> <PAD> <PAD> <PAD>\n",
            "*** [ <START> he was very busy with other work at the <UNK> where he lived but he still found time to paint ]  <PAD> <PAD> <PAD> <PAD> <PAD> <PAD> <PAD> <PAD> <PAD> <PAD> <PAD> <PAD> <PAD> <PAD> <PAD> <PAD> <PAD> <PAD> <PAD> <PAD> <PAD> <PAD> <PAD> <PAD> <PAD> <PAD> <PAD> <PAD> <PAD> <PAD> <PAD> <PAD> <PAD> <PAD> <PAD> <PAD> <PAD> <PAD> <PAD>\n",
            "*** [ <START> the county town is <UNK> and other principal towns include <UNK> <UNK> <UNK> and <UNK> <EOS> <PAD> ]  <PAD> <PAD> <PAD> <PAD> <PAD> <PAD> <PAD> <PAD> <PAD> <PAD> <PAD> <PAD> <PAD> <PAD> <PAD> <PAD> <PAD> <PAD> <PAD> <PAD> <PAD> <PAD> <PAD> <PAD> <PAD> <PAD> <PAD> <PAD> <PAD> <PAD> <PAD> <PAD> <PAD> <PAD> <PAD> <PAD> <PAD> <PAD> <PAD> <PAD> <PAD> <PAD>\n",
            "### TEMP  1.1\n",
            "*** [ <START> with widespread establishment of power grids power transmission has came to be associated most often with electric power transmission <EOS> ]  <PAD> royal <PAD> <PAD> <PAD> <PAD> <PAD> <PAD> <PAD> <PAD> <PAD> <PAD> <PAD> <PAD> <PAD> <PAD> <PAD> <PAD> <PAD> <PAD> <PAD> <PAD> <PAD> <PAD> <PAD> <PAD> <PAD> <PAD> <PAD> <PAD> <PAD> <PAD> <PAD> <PAD> <PAD> <PAD> <PAD> <PAD> <PAD>\n",
            "*** [ <START> while at <UNK> he once <UNK> out the clock in a conference tournament game to <UNK> an opponent southern university ]  <PAD> <PAD> biggest <PAD> <PAD> <PAD> <PAD> <PAD> <PAD> <PAD> <PAD> <PAD> <PAD> <PAD> <PAD> <PAD> <PAD> <PAD> <PAD> <PAD> <PAD> <PAD> <PAD> <PAD> <PAD> <PAD> <PAD> <PAD> <PAD> <PAD> <PAD> <PAD> <PAD> <PAD> <PAD> <PAD> <PAD> <PAD> <PAD>\n",
            "*** [ <START> it was here that handel composed some of his most famous music such as <UNK> <UNK> the priest and <UNK> ]  <PAD> <PAD> <PAD> <PAD> <PAD> <PAD> <PAD> <PAD> <PAD> <PAD> <PAD> <PAD> <PAD> <PAD> <PAD> <PAD> <PAD> <PAD> <PAD> <PAD> <PAD> <PAD> <PAD> <PAD> <PAD> <PAD> <PAD> <PAD> <PAD> <PAD> <PAD> <PAD> <PAD> <PAD> <PAD> <PAD> <PAD> <PAD> <PAD>\n",
            "*** [ <START> although an individual coin <UNK> or the roll of a die is random event if repeated many times the sequence ]  <PAD> <PAD> <PAD> <PAD> <PAD> <PAD> <PAD> <PAD> <PAD> <PAD> <PAD> <PAD> <PAD> <PAD> <PAD> <PAD> <PAD> and <PAD> <PAD> <PAD> <PAD> <PAD> <PAD> <PAD> <PAD> <PAD> <PAD> <PAD> <PAD> <PAD> <PAD> <PAD> <PAD> <PAD> <PAD> <PAD> <PAD> <PAD>\n",
            "*** [ <START> 1863 the first section of the london underground railway opens lrb <UNK> to <UNK> street rrb <EOS> ]  <PAD> <PAD> <PAD> <PAD> <PAD> <PAD> <PAD> <PAD> <PAD> <PAD> <PAD> <PAD> <PAD> <PAD> <PAD> <PAD> <PAD> <PAD> <PAD> <PAD> <PAD> <PAD> <PAD> <PAD> <PAD> <PAD> <PAD> <PAD> <PAD> <PAD> <PAD> <PAD> <PAD> <PAD> <PAD> <PAD> <PAD> <PAD> <PAD> <PAD> <PAD> <PAD>\n",
            "### TEMP  1.2\n",
            "*** [ <START> composer bed <UNK> <UNK> wrote a symphonic poem about this river sometimes called the <UNK> '' <EOS> ]  <PAD> <PAD> <PAD> <PAD> <PAD> <PAD> <PAD> midland <PAD> <PAD> <PAD> <PAD> <PAD> <PAD> <PAD> <PAD> <PAD> <PAD> <PAD> <PAD> <PAD> <PAD> <PAD> <PAD> <PAD> <PAD> <PAD> <PAD> <PAD> <PAD> <PAD> <PAD> <PAD> <PAD> <PAD> <PAD> <PAD> <PAD> <PAD> <PAD> <PAD> <PAD>\n",
            "*** [ <START> the first epistle to the corinthians or the first letter to the corinthians is a long letter written by the ]  <PAD> <PAD> <PAD> <PAD> <PAD> <PAD> <PAD> <PAD> <PAD> <PAD> <PAD> <PAD> <PAD> <PAD> <PAD> <PAD> <PAD> <PAD> <PAD> <PAD> <PAD> <PAD> <PAD> <PAD> <PAD> <PAD> <PAD> <PAD> <PAD> <PAD> <PAD> <PAD> <PAD> <PAD> <PAD> <PAD> <PAD> <PAD> <PAD>\n",
            "*** [ <START> <UNK> la lrb la means pass in tibetan rrb lrb elevation <UNK> m rrb is a high mountain pass located ]  <PAD> <PAD> antilles <PAD> <PAD> <PAD> <PAD> <PAD> <PAD> <PAD> <PAD> <PAD> department <PAD> <PAD> <PAD> <PAD> <PAD> <PAD> <PAD> <PAD> <PAD> <PAD> <PAD> <PAD> <PAD> <PAD> <PAD> <PAD> <PAD> <PAD> <PAD> <PAD> <PAD> <PAD> <PAD> <PAD> <PAD> <PAD>\n",
            "*** [ <START> in november 2005 at its annual socialism event the socialist party formally launched the campaign for a new workers party ]  <PAD> <PAD> <PAD> <PAD> <PAD> <PAD> <PAD> <PAD> <PAD> <PAD> <PAD> <PAD> <PAD> <PAD> <PAD> <PAD> <PAD> <PAD> <PAD> <PAD> <PAD> <PAD> <PAD> <PAD> <PAD> <PAD> <PAD> <PAD> <PAD> <PAD> <PAD> <PAD> <PAD> <PAD> <PAD> <PAD> <PAD> <PAD> <PAD>\n"
          ],
          "name": "stdout"
        },
        {
          "output_type": "stream",
          "text": [
            "\r  0%|          | 0/186 [00:00<?, ?it/s]"
          ],
          "name": "stderr"
        },
        {
          "output_type": "stream",
          "text": [
            "*** [ <START> it is found in the region nord pas de calais in the pas de calais department in the north of ]  <PAD> <PAD> <PAD> golden <PAD> <PAD> <PAD> <PAD> <PAD> match <PAD> <PAD> <PAD> <PAD> <PAD> <PAD> <PAD> <PAD> <PAD> <PAD> <PAD> <PAD> <PAD> <PAD> <PAD> <PAD> <PAD> a <PAD> <PAD> <PAD> <PAD> <PAD> <PAD> <PAD> <PAD> <PAD> <PAD> <PAD>\n"
          ],
          "name": "stdout"
        },
        {
          "output_type": "stream",
          "text": [
            "100%|██████████| 186/186 [05:40<00:00,  1.83s/it]\n"
          ],
          "name": "stderr"
        },
        {
          "output_type": "stream",
          "text": [
            "### TEMP  0.0\n",
            "*** [ <START> born shirley <UNK> jackson in san francisco in 1916 to leslie and <UNK> jackson shirley and her family lived in ]  <PAD> <PAD> <PAD> <PAD> <PAD> <PAD> <PAD> <PAD> <PAD> <PAD> <PAD> <PAD> <PAD> <PAD> <PAD> <PAD> <PAD> <PAD> <PAD> <PAD> <PAD> <PAD> <PAD> <PAD> <PAD> <PAD> <PAD> <PAD> <PAD> <PAD> <PAD> <PAD> <PAD> <PAD> <PAD> <PAD> <PAD> <PAD> <PAD>\n",
            "*** [ <START> francis ii of france lrb january 19 <UNK> december 5 <UNK> rrb was a king of france and a member ]  <PAD> <PAD> <PAD> <PAD> <PAD> <PAD> <PAD> <PAD> <PAD> <PAD> <PAD> <PAD> <PAD> <PAD> <PAD> <PAD> <PAD> <PAD> <PAD> <PAD> <PAD> <PAD> <PAD> <PAD> <PAD> <PAD> <PAD> <PAD> <PAD> <PAD> <PAD> <PAD> <PAD> <PAD> <PAD> <PAD> <PAD> <PAD> <PAD>\n",
            "*** [ <START> the promotion in its current form was started by steve <UNK> in 2007 to be <UNK> second developmental territory when ]  <PAD> <PAD> <PAD> <PAD> <PAD> <PAD> <PAD> <PAD> <PAD> <PAD> <PAD> <PAD> <PAD> <PAD> <PAD> <PAD> <PAD> <PAD> <PAD> <PAD> <PAD> <PAD> <PAD> <PAD> <PAD> <PAD> <PAD> <PAD> <PAD> <PAD> <PAD> <PAD> <PAD> <PAD> <PAD> <PAD> <PAD> <PAD> <PAD>\n",
            "*** [ <START> he first appeared along with the other members of the simpson family on the tracey ullman show in the simpson ]  <PAD> <PAD> <PAD> <PAD> <PAD> <PAD> <PAD> <PAD> <PAD> <PAD> <PAD> <PAD> <PAD> <PAD> <PAD> <PAD> <PAD> <PAD> <PAD> <PAD> <PAD> <PAD> <PAD> <PAD> <PAD> <PAD> <PAD> <PAD> <PAD> <PAD> <PAD> <PAD> <PAD> <PAD> <PAD> <PAD> <PAD> <PAD> <PAD>\n",
            "*** [ <START> where the crust meets the mantle the temperatures can be between 200 c lrb <UNK> f rrb to 400 c ]  <PAD> <PAD> <PAD> <PAD> <PAD> <PAD> <PAD> <PAD> <PAD> <PAD> <PAD> <PAD> <PAD> <PAD> <PAD> <PAD> <PAD> <PAD> <PAD> <PAD> <PAD> <PAD> <PAD> <PAD> <PAD> <PAD> <PAD> <PAD> <PAD> <PAD> <PAD> <PAD> <PAD> <PAD> <PAD> <PAD> <PAD> <PAD> <PAD>\n",
            "### TEMP  0.9\n",
            "*** [ <START> the promotion in its current form was started by steve <UNK> in 2007 to be <UNK> second developmental territory when ]  <PAD> <PAD> <PAD> <PAD> <PAD> <PAD> <PAD> <PAD> <PAD> <PAD> <PAD> <PAD> <PAD> <PAD> <PAD> <PAD> <PAD> <PAD> <PAD> <PAD> <PAD> <PAD> <PAD> <PAD> <PAD> <PAD> <PAD> <PAD> <PAD> <PAD> <PAD> <PAD> <PAD> <PAD> <PAD> <PAD> <PAD> <PAD> <PAD>\n",
            "*** [ <START> there he developed his talents for magic <UNK> playing the banjo and creating balloon animals <EOS> ]  <PAD> <PAD> <PAD> <PAD> <PAD> <PAD> <PAD> <PAD> <PAD> <PAD> <PAD> <PAD> <PAD> <PAD> <PAD> <PAD> <PAD> <PAD> <PAD> <PAD> <PAD> <PAD> <PAD> <PAD> <PAD> <PAD> <PAD> <PAD> <PAD> <PAD> <PAD> <PAD> <PAD> <PAD> <PAD> <PAD> <PAD> <PAD> <PAD> <PAD> <PAD> <PAD> <PAD>\n",
            "*** [ <START> the paintings lunch on the grass and <UNK> were a starting point for a group of young painters to develop ]  <PAD> <PAD> <PAD> <PAD> <PAD> <PAD> <PAD> <PAD> <PAD> <PAD> <PAD> <PAD> <PAD> <PAD> <PAD> <PAD> <PAD> <PAD> <PAD> <PAD> <PAD> <PAD> <PAD> <PAD> <PAD> <PAD> <PAD> <PAD> <PAD> <PAD> <PAD> <PAD> <PAD> <PAD> <PAD> <PAD> <PAD> <PAD> <PAD>\n",
            "*** [ <START> <UNK> middleton lrb born 4 october 1971 in sydney australia rrb is the guitarist in the band <UNK> '' <EOS> ]  <PAD> <PAD> <PAD> <PAD> <PAD> <PAD> <PAD> <PAD> <PAD> <PAD> <PAD> <PAD> <PAD> <PAD> <PAD> <PAD> <PAD> <PAD> <PAD> <PAD> <PAD> <PAD> <PAD> <PAD> <PAD> <PAD> <PAD> <PAD> <PAD> <PAD> <PAD> <PAD> <PAD> <PAD> <PAD> <PAD> <PAD> <PAD> <PAD>\n",
            "*** [ <START> she was part of <UNK> 's hot 100 list in 2002 2003 and 2005 and in <UNK> 's 100 <UNK> ]  <PAD> <PAD> <PAD> <PAD> <PAD> <PAD> <PAD> <PAD> <PAD> <PAD> <PAD> <PAD> <PAD> <PAD> <PAD> <PAD> <PAD> <PAD> <PAD> <PAD> <PAD> <PAD> <PAD> <PAD> <PAD> <PAD> <PAD> <PAD> <PAD> <PAD> <PAD> <PAD> <PAD> <PAD> <PAD> <PAD> <PAD> <PAD> <PAD>\n",
            "### TEMP  1\n",
            "*** [ <START> the london midland and scottish railway and the london and north eastern railway both developed a system of identifying carriages ]  <PAD> <PAD> <PAD> <PAD> <PAD> <PAD> <PAD> <PAD> <PAD> <PAD> <PAD> <PAD> <PAD> <PAD> <PAD> <PAD> nation <PAD> <PAD> <PAD> <PAD> <PAD> <PAD> <PAD> <PAD> <PAD> <PAD> <PAD> <PAD> <PAD> <PAD> <PAD> <PAD> <PAD> <PAD> <PAD> <PAD> <PAD> <PAD>\n",
            "*** [ <START> the seventh day adventist lrb abbreviated adventist although <UNK> '' is commonly used adventist '' is the churchs own officially ]  <PAD> <PAD> <PAD> <PAD> <PAD> <PAD> <PAD> <PAD> <PAD> <PAD> <PAD> <PAD> <PAD> <PAD> <PAD> <PAD> <PAD> <PAD> <PAD> <PAD> <PAD> <PAD> <PAD> <PAD> <PAD> <PAD> <PAD> <PAD> <PAD> <PAD> <PAD> <PAD> <PAD> <PAD> <PAD> <PAD> <PAD> <PAD> <PAD>\n",
            "*** [ <START> in the 19th century eugène <UNK> wrote a very large number of libretti that were set to music by composers ]  <PAD> <PAD> <PAD> <PAD> <PAD> <PAD> <PAD> <PAD> <PAD> <PAD> <PAD> <PAD> <PAD> <PAD> <PAD> <PAD> <PAD> <PAD> <PAD> <PAD> <PAD> <PAD> <PAD> <PAD> <PAD> <PAD> <PAD> <PAD> <PAD> <PAD> <PAD> <PAD> <PAD> <PAD> <PAD> <PAD> <PAD> <PAD> <PAD>\n",
            "*** [ <START> russian general alexander <UNK> and his troops stayed the night in elm before crossing <UNK> pass to <UNK> on their ]  <PAD> <PAD> <PAD> <PAD> <PAD> <PAD> <PAD> <PAD> <PAD> <PAD> <PAD> <PAD> <PAD> <PAD> <PAD> <PAD> <PAD> <PAD> <PAD> <PAD> <PAD> <PAD> <PAD> <PAD> <PAD> <PAD> <PAD> <PAD> <PAD> <PAD> <PAD> <PAD> <PAD> <PAD> <PAD> <PAD> <PAD> <PAD> <PAD>\n",
            "*** [ <START> robert f bob '' <UNK> lrb born june 17 1955 in sainte <UNK> <UNK> quebec rrb was a canadian professional ]  <PAD> and <PAD> <PAD> <PAD> <PAD> <PAD> <PAD> <PAD> <PAD> <PAD> <PAD> <PAD> <PAD> <PAD> <PAD> <PAD> <PAD> <PAD> <PAD> <PAD> <PAD> <PAD> <PAD> <PAD> <PAD> <PAD> <PAD> <PAD> <PAD> <PAD> <PAD> <PAD> <PAD> <PAD> <PAD> <PAD> <PAD> <PAD>\n",
            "### TEMP  1.1\n",
            "*** [ <START> the united nations estimated in its report that 1 5 million people were <UNK> affected '' by this cyclone <EOS> ]  <PAD> <PAD> <PAD> <PAD> <PAD> <PAD> <PAD> <PAD> <PAD> <PAD> <PAD> <PAD> <PAD> <PAD> <PAD> <PAD> <PAD> <PAD> <PAD> <PAD> <PAD> <PAD> <PAD> <PAD> <PAD> <PAD> <PAD> <PAD> <PAD> <PAD> <PAD> <PAD> <PAD> <PAD> <PAD> <PAD> <PAD> <PAD> <PAD>\n",
            "*** [ <START> cold fronts may feature narrow bands of thunderstorms and severe weather and may on <UNK> be <UNK> by <UNK> lines ]  <PAD> <PAD> <PAD> <PAD> <PAD> <PAD> <PAD> <PAD> <PAD> <PAD> government <PAD> <PAD> <PAD> <PAD> <PAD> <PAD> <PAD> <PAD> <PAD> <PAD> <PAD> <PAD> <PAD> <PAD> <PAD> <PAD> <PAD> <PAD> <PAD> <PAD> <PAD> <PAD> <PAD> <PAD> <PAD> <PAD> <PAD> <PAD>\n",
            "*** [ <START> dark lavender lrb <UNK> color <UNK> rrb lrb hex <UNK> rrb lrb rgb 115 79 150 rrb <EOS> ]  <PAD> <PAD> <PAD> <PAD> <PAD> <PAD> <PAD> <PAD> <PAD> <PAD> <PAD> <PAD> <PAD> <PAD> <PAD> games <PAD> <PAD> <PAD> <PAD> <PAD> <PAD> <PAD> <PAD> <PAD> <PAD> <PAD> <PAD> <PAD> <PAD> <PAD> <PAD> <PAD> <PAD> <PAD> <PAD> <PAD> <PAD> <PAD> <PAD> <PAD>\n",
            "*** [ <START> pizza <UNK> <UNK> lrb four seasons pizza '' rrb same ingredients for the <UNK> but ingredients arent mixed <EOS> ]  <PAD> <PAD> <PAD> <PAD> <PAD> <PAD> <PAD> <PAD> <PAD> <PAD> <PAD> <PAD> <PAD> <PAD> <PAD> <PAD> <PAD> <PAD> <PAD> <PAD> <PAD> <PAD> <PAD> <PAD> <PAD> <PAD> <PAD> <PAD> <PAD> <PAD> <PAD> <PAD> <PAD> <PAD> <PAD> <PAD> <PAD> <PAD> <PAD> <PAD>\n",
            "*** [ <START> i have in the course of my political struggle won much love from my people but when i crossed the ]  <PAD> <PAD> <PAD> <PAD> <PAD> <PAD> <PAD> <PAD> <PAD> <PAD> <PAD> <PAD> <PAD> <PAD> <PAD> <PAD> <PAD> <PAD> <PAD> <PAD> <PAD> <PAD> <PAD> <PAD> <PAD> <PAD> <PAD> <PAD> <PAD> <PAD> <PAD> <PAD> <PAD> <PAD> <PAD> <PAD> <PAD> <PAD> <PAD>\n",
            "### TEMP  1.2\n",
            "*** [ <START> another view holds that a <UNK> acting on gods behalf can <UNK> or work out some of the karma of ]  <PAD> <PAD> <PAD> <PAD> <PAD> <PAD> <PAD> <PAD> <PAD> <PAD> <PAD> coast <PAD> <PAD> <PAD> <PAD> <PAD> <EOS> <PAD> <PAD> <PAD> <PAD> <PAD> <PAD> <PAD> <PAD> <PAD> <PAD> <PAD> <PAD> <PAD> <PAD> <PAD> <PAD> <PAD> <PAD> <PAD> liverpool <PAD>\n",
            "*** [ <START> he was one of the first people to separate the similar looking <UNK> willow <UNK> and wood <UNK> by means ]  <PAD> <PAD> <PAD> <PAD> <PAD> <PAD> <PAD> <PAD> <PAD> <PAD> <PAD> <PAD> <PAD> <PAD> <PAD> <PAD> <PAD> <PAD> <PAD> <PAD> <PAD> <PAD> <PAD> <PAD> <PAD> <PAD> <PAD> <PAD> <PAD> <PAD> <PAD> <PAD> <PAD> <PAD> <PAD> <PAD> <PAD> <PAD> <PAD>\n",
            "*** [ <START> over the years the ground has been <UNK> with the construction of the near identical bobby cox and bob <UNK> ]  <PAD> <PAD> <PAD> <PAD> <PAD> <PAD> <PAD> <PAD> <PAD> <PAD> <PAD> <PAD> <PAD> <PAD> <PAD> <PAD> <PAD> <PAD> <PAD> <PAD> <PAD> <PAD> <PAD> <PAD> <PAD> <PAD> <PAD> <PAD> <PAD> <PAD> <PAD> <PAD> <PAD> <PAD> <PAD> goddess <PAD> <PAD> <PAD>\n",
            "*** [ <START> <UNK> involving sound from the <UNK> are not found in most dialects of english though they are found in many ]  <PAD> <PAD> <PAD> <PAD> <PAD> <PAD> <PAD> <PAD> <PAD> <PAD> <PAD> <PAD> <PAD> <PAD> <PAD> <PAD> <PAD> <PAD> kingdom <PAD> <PAD> <PAD> <PAD> <PAD> june <PAD> <PAD> <PAD> <PAD> <PAD> <PAD> <PAD> <PAD> <PAD> center <PAD> <PAD> <PAD> <PAD>\n"
          ],
          "name": "stdout"
        },
        {
          "output_type": "stream",
          "text": [
            "\r  0%|          | 0/186 [00:00<?, ?it/s]"
          ],
          "name": "stderr"
        },
        {
          "output_type": "stream",
          "text": [
            "*** [ <START> laredo is a border city which is part of the <UNK> national metropolitan area of laredo texas nuevo laredo <UNK> ]  <PAD> <PAD> <PAD> <PAD> <PAD> <PAD> <PAD> <PAD> <PAD> <PAD> <PAD> <PAD> <PAD> <PAD> <PAD> <PAD> <PAD> <PAD> <PAD> <PAD> <PAD> <PAD> <PAD> <PAD> <PAD> <PAD> <PAD> <PAD> <PAD> <PAD> <PAD> <PAD> <PAD> <PAD> <PAD> <PAD> <PAD> <PAD> <PAD>\n"
          ],
          "name": "stdout"
        },
        {
          "output_type": "stream",
          "text": [
            "100%|██████████| 186/186 [05:40<00:00,  1.83s/it]\n"
          ],
          "name": "stderr"
        },
        {
          "output_type": "stream",
          "text": [
            "### TEMP  0.0\n",
            "*** [ <START> it was once part of the north south torrance to san pedro <UNK> line of the pacific electric railway <EOS> ]  <PAD> <PAD> <PAD> <PAD> <PAD> <PAD> <PAD> <PAD> <PAD> <PAD> <PAD> <PAD> <PAD> <PAD> <PAD> <PAD> <PAD> <PAD> <PAD> <PAD> <PAD> <PAD> <PAD> <PAD> <PAD> <PAD> <PAD> <PAD> <PAD> <PAD> <PAD> <PAD> <PAD> <PAD> <PAD> <PAD> <PAD> <PAD> <PAD>\n",
            "*** [ <START> in 2001 rattle conducted the <UNK> at <UNK> in their first production of beethoven 's opera <UNK> with a period ]  <PAD> <PAD> <PAD> <PAD> <PAD> <PAD> <PAD> <PAD> <PAD> <PAD> <PAD> <PAD> <PAD> <PAD> <PAD> <PAD> <PAD> <PAD> <PAD> <PAD> <PAD> <PAD> <PAD> <PAD> <PAD> <PAD> <PAD> <PAD> <PAD> <PAD> <PAD> <PAD> <PAD> <PAD> <PAD> <PAD> <PAD> <PAD> <PAD>\n",
            "*** [ <START> it often contains things like chinese cabbage <UNK> garlic red <UNK> spring onion <UNK> ginger salt and sugar <EOS> ]  <PAD> <PAD> <PAD> <PAD> <PAD> <PAD> <PAD> <PAD> <PAD> <PAD> <PAD> <PAD> <PAD> <PAD> <PAD> <PAD> <PAD> <PAD> <PAD> <PAD> <PAD> <PAD> <PAD> <PAD> <PAD> <PAD> <PAD> <PAD> <PAD> <PAD> <PAD> <PAD> <PAD> <PAD> <PAD> <PAD> <PAD> <PAD> <PAD> <PAD>\n",
            "*** [ <START> at oxford he became more and more involved with music especially after he met the folk song <UNK> cecil sharp ]  <PAD> <PAD> <PAD> <PAD> <PAD> <PAD> <PAD> <PAD> <PAD> <PAD> <PAD> <PAD> <PAD> <PAD> <PAD> <PAD> <PAD> <PAD> <PAD> <PAD> <PAD> <PAD> <PAD> <PAD> <PAD> <PAD> <PAD> <PAD> <PAD> <PAD> <PAD> <PAD> <PAD> <PAD> <PAD> <PAD> <PAD> <PAD> <PAD>\n",
            "*** [ <START> as these programs became more common in the late 1980s several companies set up services that would accept the shows ]  <PAD> <PAD> <PAD> <PAD> <PAD> <PAD> <PAD> <PAD> <PAD> <PAD> <PAD> <PAD> <PAD> <PAD> <PAD> <PAD> <PAD> <PAD> <PAD> <PAD> <PAD> <PAD> <PAD> <PAD> <PAD> <PAD> <PAD> <PAD> <PAD> <PAD> <PAD> <PAD> <PAD> <PAD> <PAD> <PAD> <PAD> <PAD> <PAD>\n",
            "### TEMP  0.9\n",
            "*** [ <START> <UNK> unit used in the context of charles babbages <UNK> engine a 19th century concept of a computer <EOS> ]  <PAD> <PAD> <PAD> <PAD> <PAD> <PAD> <PAD> <PAD> <PAD> <PAD> <PAD> <PAD> <PAD> <PAD> <PAD> <PAD> <PAD> <PAD> <PAD> <PAD> <PAD> <PAD> <PAD> <PAD> <PAD> <PAD> <PAD> <PAD> <PAD> <PAD> <PAD> <PAD> <PAD> <PAD> <PAD> <PAD> <PAD> <PAD> <PAD> <PAD>\n",
            "*** [ <START> the census bureau does not provide a standard definition of a central '' region of the united states and organizations ]  <PAD> <PAD> <PAD> <PAD> <PAD> <PAD> <PAD> <PAD> <PAD> <PAD> <PAD> <PAD> <PAD> <PAD> <PAD> <PAD> <PAD> <PAD> <PAD> <PAD> <PAD> <PAD> <PAD> <PAD> <PAD> <PAD> <PAD> <PAD> <PAD> <PAD> <PAD> <PAD> <PAD> <PAD> <PAD> <PAD> <PAD> <PAD> <PAD>\n",
            "*** [ <START> in 1921 frost accepted a fellowship teaching post at the university of michigan ann <UNK> where he resided until 1927 ]  <PAD> <PAD> <PAD> <PAD> <PAD> <PAD> <PAD> <PAD> <PAD> <PAD> <PAD> <PAD> <PAD> <PAD> <PAD> <PAD> <PAD> <PAD> <PAD> <PAD> <PAD> <PAD> <PAD> <PAD> <PAD> <PAD> <PAD> <PAD> <PAD> <PAD> <PAD> <PAD> <PAD> <PAD> <PAD> <PAD> <PAD> <PAD> <PAD>\n",
            "*** [ <START> it was founded by the name villa de <UNK> in 1541 by <UNK> <UNK> on the western bank of the ]  <PAD> <PAD> <PAD> <PAD> <PAD> <PAD> <PAD> <PAD> <PAD> <PAD> <PAD> <PAD> <PAD> <PAD> <PAD> <PAD> <PAD> <PAD> <PAD> <PAD> <PAD> <PAD> <PAD> <PAD> <PAD> <PAD> <PAD> <PAD> <PAD> <PAD> <PAD> <PAD> <PAD> <PAD> <PAD> <PAD> <PAD> <PAD> <PAD>\n",
            "*** [ <START> vice president george h w bush acted for president ronald <UNK> when he was under a <UNK> procedure on july ]  <PAD> <PAD> <PAD> <PAD> <PAD> <PAD> <PAD> <PAD> <PAD> <PAD> <PAD> <PAD> <PAD> <PAD> <PAD> <PAD> <PAD> <PAD> <PAD> <PAD> <PAD> <PAD> <PAD> <PAD> <PAD> <PAD> <PAD> <PAD> <PAD> <PAD> <PAD> <PAD> <PAD> <PAD> <PAD> <PAD> <PAD> <PAD> <PAD>\n",
            "### TEMP  1\n",
            "*** [ <START> 1863 the first section of the london underground railway opens lrb <UNK> to <UNK> street rrb <EOS> ]  <PAD> <PAD> <PAD> <PAD> <PAD> <PAD> <PAD> <PAD> <PAD> <PAD> <PAD> <PAD> <PAD> <PAD> <PAD> <PAD> <PAD> <PAD> <PAD> <PAD> <PAD> <PAD> <PAD> <PAD> <PAD> <PAD> <PAD> <PAD> <PAD> <PAD> <PAD> <PAD> <PAD> <PAD> <PAD> <PAD> <PAD> <PAD> <PAD> <PAD> <PAD> <PAD>\n",
            "*** [ <START> robert f bob '' <UNK> lrb born june 17 1955 in sainte <UNK> <UNK> quebec rrb was a canadian professional ]  <PAD> <PAD> <PAD> <PAD> <PAD> <PAD> <PAD> <PAD> <PAD> <PAD> <PAD> <PAD> <PAD> <PAD> <PAD> <PAD> <PAD> <PAD> <PAD> <PAD> <PAD> <PAD> <PAD> <PAD> <PAD> <PAD> <PAD> <PAD> <PAD> <PAD> <PAD> <PAD> <PAD> <PAD> <PAD> <PAD> <PAD> <PAD> <PAD>\n",
            "*** [ <START> maerz and paul a dictionary of color new york 1930 mcgraw hill page <UNK> color sample of persian blue page ]  <PAD> <PAD> <PAD> <PAD> <PAD> <PAD> <PAD> <PAD> <PAD> <PAD> <PAD> <PAD> <PAD> <PAD> <PAD> <PAD> <PAD> <PAD> <PAD> <PAD> <PAD> <PAD> <PAD> <PAD> <PAD> <PAD> <PAD> <PAD> <PAD> <PAD> <PAD> <PAD> <PAD> <PAD> <PAD> <PAD> <PAD> <PAD> <PAD>\n",
            "*** [ <START> maintenance of the cells needs a balance between two <UNK> processes organ <UNK> and stem cell population <UNK> <EOS> ]  <PAD> <PAD> <PAD> <PAD> <PAD> <PAD> <PAD> <PAD> <PAD> <PAD> <PAD> <PAD> <PAD> <PAD> <PAD> <PAD> <PAD> <PAD> <PAD> <PAD> <PAD> <PAD> <PAD> <PAD> <PAD> <PAD> <PAD> <PAD> <PAD> <PAD> <PAD> <PAD> <PAD> <PAD> <PAD> <PAD> <PAD> <PAD> <PAD> <PAD>\n",
            "*** [ <START> it had a population of 15 <UNK> recorded in the 2001 census and is a typical west of scotland industrial ]  <PAD> <PAD> <PAD> <PAD> <PAD> <PAD> <PAD> <PAD> <PAD> <PAD> <PAD> <PAD> <PAD> <PAD> <PAD> <PAD> <PAD> <PAD> <PAD> <PAD> <PAD> <PAD> <PAD> <PAD> <PAD> <PAD> <PAD> <PAD> <PAD> <PAD> <PAD> games <PAD> <PAD> <PAD> <PAD> <PAD> <PAD> <PAD>\n",
            "### TEMP  1.1\n",
            "*** [ <START> adrastea was the first moon to be found from images taken by an <UNK> spacecraft rather than through <UNK> photography ]  <PAD> <PAD> <PAD> <PAD> <PAD> <PAD> <PAD> <PAD> <PAD> <PAD> <PAD> <PAD> or <PAD> <PAD> <PAD> <PAD> <PAD> <PAD> <PAD> <PAD> <PAD> <PAD> <PAD> <PAD> <PAD> <PAD> <PAD> <PAD> <PAD> <PAD> <PAD> <PAD> <PAD> <PAD> <PAD> <PAD> <PAD> <PAD>\n",
            "*** [ <START> historically much of western warwickshire was covered by the ancient forest of arden lrb although most of this was cut ]  <PAD> <PAD> <PAD> ground <PAD> <PAD> <PAD> <PAD> <PAD> <PAD> <PAD> <PAD> <PAD> <PAD> <PAD> <PAD> <PAD> <PAD> <PAD> <PAD> <PAD> <PAD> <PAD> <PAD> <PAD> <PAD> <PAD> <PAD> <PAD> <PAD> <PAD> <PAD> <PAD> <PAD> <PAD> <PAD> <PAD> <PAD> <PAD>\n",
            "*** [ <START> the trans karakoram tract is an area of nearly 5 800 km that india claims was transferred by a border ]  <PAD> <PAD> <PAD> <PAD> <PAD> <PAD> <PAD> <PAD> <PAD> <PAD> <PAD> <PAD> <PAD> <PAD> <PAD> <PAD> <PAD> <PAD> <PAD> <PAD> <PAD> <PAD> <PAD> <PAD> <PAD> <PAD> <PAD> <PAD> <PAD> <PAD> <PAD> <PAD> <PAD> <PAD> <PAD> <PAD> <PAD> <PAD> <PAD>\n",
            "*** [ <START> during their approval process lrb see below rrb <UNK> may make up to 50 <UNK> to show how they will ]  the <PAD> <PAD> <PAD> <PAD> <PAD> <PAD> <PAD> <PAD> <PAD> <PAD> <PAD> <PAD> <PAD> <PAD> <PAD> <PAD> <PAD> <PAD> <PAD> <PAD> <PAD> <PAD> <PAD> <PAD> <PAD> <PAD> <PAD> <PAD> <PAD> <PAD> <PAD> <PAD> <PAD> <PAD> <PAD> <PAD> <PAD> <PAD>\n",
            "*** [ <START> <UNK> el <UNK> in the southern gilf kebir contains only one known rock art site a cave discovered by shaw ]  <PAD> <PAD> <PAD> <PAD> <PAD> <PAD> <PAD> <PAD> <PAD> <PAD> <PAD> <PAD> <PAD> <PAD> <PAD> <PAD> <PAD> <PAD> <PAD> <PAD> <PAD> <PAD> <PAD> <PAD> <PAD> <PAD> <PAD> <PAD> <PAD> <PAD> <PAD> <PAD> <PAD> <PAD> <PAD> <PAD> <PAD> <PAD> <PAD>\n",
            "### TEMP  1.2\n",
            "*** [ <START> it is found in the region nord pas de calais in the pas de calais department in the north of ]  <PAD> <PAD> <PAD> <PAD> <PAD> <PAD> pas <PAD> <PAD> <PAD> <PAD> <PAD> <PAD> <PAD> <PAD> <PAD> <PAD> <PAD> <PAD> <PAD> <PAD> <PAD> <PAD> <PAD> <PAD> <PAD> <PAD> <PAD> <PAD> <PAD> <PAD> <PAD> <PAD> <PAD> <PAD> <PAD> <PAD> <PAD> <PAD>\n",
            "*** [ <START> andrew <UNK> law lrb september 16 1858 october 30 1923 rrb was prime minister of the united kingdom <EOS> ]  <PAD> <PAD> <PAD> <PAD> <PAD> <PAD> <PAD> <PAD> <PAD> <PAD> <PAD> <PAD> <PAD> <PAD> <PAD> <PAD> <PAD> <PAD> <PAD> <PAD> <PAD> <PAD> <PAD> <PAD> <PAD> <PAD> <PAD> <PAD> <PAD> <PAD> <PAD> <PAD> <PAD> <PAD> <PAD> <PAD> <PAD> <PAD> canton <PAD>\n",
            "*** [ <START> it often contains things like chinese cabbage <UNK> garlic red <UNK> spring onion <UNK> ginger salt and sugar <EOS> ]  <PAD> <PAD> <PAD> <PAD> pacific <PAD> <PAD> <PAD> <PAD> <PAD> <PAD> <PAD> <PAD> <PAD> <PAD> <PAD> <PAD> <PAD> <PAD> <PAD> <PAD> <PAD> element <PAD> <PAD> <PAD> <PAD> <PAD> <PAD> <PAD> <PAD> <PAD> <PAD> <PAD> <PAD> <PAD> ultimate <PAD> <PAD> <PAD>\n",
            "*** [ <START> zonealarm force field a <UNK> engine that shields the computer and personal data from internet and computer based threats <EOS> ]  <PAD> <PAD> <PAD> <PAD> <PAD> <PAD> <PAD> <PAD> <PAD> <PAD> <PAD> <PAD> <PAD> <PAD> <PAD> <PAD> <PAD> <PAD> <PAD> <PAD> <PAD> <PAD> <PAD> <PAD> <PAD> <PAD> <PAD> <PAD> etc <PAD> <PAD> <PAD> <PAD> <PAD> <PAD> <PAD> <PAD> <PAD> <PAD>\n"
          ],
          "name": "stdout"
        },
        {
          "output_type": "stream",
          "text": [
            "\r  0%|          | 0/186 [00:00<?, ?it/s]"
          ],
          "name": "stderr"
        },
        {
          "output_type": "stream",
          "text": [
            "*** [ <START> <UNK> blair lrb born january 22 1959 in saint louis missouri usa rrb is an american actress <EOS> ]  <PAD> north <PAD> <PAD> <PAD> <PAD> <PAD> <PAD> <PAD> <PAD> <PAD> <PAD> <PAD> <PAD> <PAD> <PAD> <PAD> <PAD> <PAD> <PAD> <PAD> <PAD> <PAD> <PAD> <PAD> <PAD> <PAD> <PAD> <PAD> <PAD> <PAD> <PAD> <PAD> <PAD> <PAD> <PAD> <PAD> <PAD> <PAD> <PAD> <PAD>\n"
          ],
          "name": "stdout"
        },
        {
          "output_type": "stream",
          "text": [
            "100%|██████████| 186/186 [05:43<00:00,  1.84s/it]\n"
          ],
          "name": "stderr"
        },
        {
          "output_type": "stream",
          "text": [
            "### TEMP  0.0\n",
            "*** [ <START> there are four common states of matter lrb or physical forms of matter rrb on earth solid liquid <UNK> and ]  <PAD> <PAD> <PAD> <PAD> <PAD> <PAD> <PAD> <PAD> <PAD> <PAD> <PAD> <PAD> <PAD> <PAD> <PAD> <PAD> <PAD> <PAD> <PAD> <PAD> <PAD> <PAD> <PAD> <PAD> <PAD> <PAD> <PAD> <PAD> <PAD> <PAD> <PAD> <PAD> <PAD> <PAD> <PAD> <PAD> <PAD> <PAD> <PAD>\n",
            "*** [ <START> maintenance of the cells needs a balance between two <UNK> processes organ <UNK> and stem cell population <UNK> <EOS> ]  <PAD> <PAD> <PAD> <PAD> <PAD> <PAD> <PAD> <PAD> <PAD> <PAD> <PAD> <PAD> <PAD> <PAD> <PAD> <PAD> <PAD> <PAD> <PAD> <PAD> <PAD> <PAD> <PAD> <PAD> <PAD> <PAD> <PAD> <PAD> <PAD> <PAD> <PAD> <PAD> <PAD> <PAD> <PAD> <PAD> <PAD> <PAD> <PAD> <PAD>\n",
            "*** [ <START> it had a population of 15 <UNK> recorded in the 2001 census and is a typical west of scotland industrial ]  <PAD> <PAD> <PAD> <PAD> <PAD> <PAD> <PAD> <PAD> <PAD> <PAD> <PAD> <PAD> <PAD> <PAD> <PAD> <PAD> <PAD> <PAD> <PAD> <PAD> <PAD> <PAD> <PAD> <PAD> <PAD> <PAD> <PAD> <PAD> <PAD> <PAD> <PAD> <PAD> <PAD> <PAD> <PAD> <PAD> <PAD> <PAD> <PAD>\n",
            "*** [ <START> <UNK> a <UNK> like string that is fired at prey and <UNK> around a cellular projection on the prey <EOS> ]  <PAD> <PAD> <PAD> <PAD> <PAD> <PAD> <PAD> <PAD> <PAD> <PAD> <PAD> <PAD> <PAD> <PAD> <PAD> <PAD> <PAD> <PAD> <PAD> <PAD> <PAD> <PAD> <PAD> <PAD> <PAD> <PAD> <PAD> <PAD> <PAD> <PAD> <PAD> <PAD> <PAD> <PAD> <PAD> <PAD> <PAD> <PAD> <PAD>\n",
            "*** [ <START> a popular writer in her time her work has received even more attention from literary critics in recent years <EOS> ]  <PAD> <PAD> <PAD> <PAD> <PAD> <PAD> <PAD> <PAD> <PAD> <PAD> <PAD> <PAD> <PAD> <PAD> <PAD> <PAD> <PAD> <PAD> <PAD> <PAD> <PAD> <PAD> <PAD> <PAD> <PAD> <PAD> <PAD> <PAD> <PAD> <PAD> <PAD> <PAD> <PAD> <PAD> <PAD> <PAD> <PAD> <PAD> <PAD>\n",
            "### TEMP  0.9\n",
            "*** [ <START> the eight class 460 units are lrb up to 2009 rrb the last to be classified under the tops <UNK> ]  <PAD> <PAD> <PAD> <PAD> <PAD> <PAD> <PAD> <PAD> <PAD> <PAD> <PAD> <PAD> <PAD> <PAD> <PAD> <PAD> <PAD> <PAD> <PAD> <PAD> <PAD> <PAD> <PAD> <PAD> <PAD> <PAD> <PAD> <PAD> <PAD> <PAD> <PAD> <PAD> <PAD> <PAD> <PAD> <PAD> <PAD> <PAD> <PAD>\n",
            "*** [ <START> 1895 <UNK> burn their weapons as a protest against <UNK> by the <UNK> russian government <EOS> ]  <PAD> <PAD> <PAD> <PAD> <PAD> <PAD> <PAD> <PAD> <PAD> <PAD> <PAD> <PAD> <PAD> <PAD> <PAD> <PAD> <PAD> <PAD> <PAD> <PAD> <PAD> <PAD> <PAD> <PAD> <PAD> <PAD> <PAD> <PAD> <PAD> <PAD> <PAD> <PAD> <PAD> <PAD> <PAD> <PAD> <PAD> <PAD> <PAD> <PAD> <PAD> <PAD> <PAD>\n",
            "*** [ <START> before being renamed hollywood cerise '' in the 1940s the color had before that since 1922 been known simply as ]  <PAD> <PAD> <PAD> <PAD> <PAD> <PAD> <PAD> <PAD> <PAD> <PAD> <PAD> <PAD> <PAD> <PAD> <PAD> <PAD> <PAD> <PAD> <PAD> <PAD> <PAD> <PAD> <PAD> <PAD> <PAD> <PAD> <PAD> <PAD> <PAD> <PAD> <PAD> <PAD> <PAD> <PAD> <PAD> <PAD> <PAD> <PAD> <PAD>\n",
            "*** [ <START> the london midland and scottish railway and the london and north eastern railway both developed a system of identifying carriages ]  <PAD> <PAD> <PAD> <PAD> <PAD> <PAD> <PAD> <PAD> <PAD> <PAD> <PAD> <PAD> <PAD> <PAD> <PAD> <PAD> <PAD> <PAD> <PAD> <PAD> <PAD> <PAD> <PAD> <PAD> <PAD> <PAD> <PAD> <PAD> <PAD> <PAD> <PAD> <PAD> <PAD> <PAD> <PAD> <PAD> <PAD> <PAD> <PAD>\n",
            "*** [ <START> it often contains things like chinese cabbage <UNK> garlic red <UNK> spring onion <UNK> ginger salt and sugar <EOS> ]  <PAD> <PAD> <PAD> <PAD> <PAD> <PAD> <PAD> <PAD> <PAD> <PAD> <PAD> <PAD> <PAD> <PAD> <PAD> <PAD> <PAD> <PAD> <PAD> <PAD> <PAD> <PAD> <PAD> <PAD> <PAD> <PAD> <PAD> <PAD> <PAD> <PAD> <PAD> <PAD> <PAD> <PAD> <PAD> <PAD> <PAD> <PAD> <PAD> <PAD>\n",
            "### TEMP  1\n",
            "*** [ <START> <UNK> el <UNK> in the southern gilf kebir contains only one known rock art site a cave discovered by shaw ]  <PAD> <PAD> <PAD> <PAD> <PAD> <PAD> <PAD> <PAD> <PAD> <PAD> <PAD> <PAD> <PAD> <PAD> <PAD> <PAD> <PAD> <PAD> <PAD> <PAD> <PAD> <PAD> <PAD> <PAD> <PAD> <PAD> <PAD> <PAD> <PAD> <PAD> <PAD> <PAD> <PAD> <PAD> <PAD> <PAD> <PAD> <PAD> <PAD>\n",
            "*** [ <START> the first epistle to the corinthians or the first letter to the corinthians is a long letter written by the ]  <UNK> <PAD> <PAD> <PAD> <PAD> <PAD> <PAD> <PAD> <PAD> <PAD> <PAD> <PAD> <PAD> <PAD> <PAD> <PAD> <PAD> <PAD> <PAD> <PAD> <PAD> <PAD> <PAD> <PAD> <PAD> <PAD> <PAD> <PAD> <PAD> <PAD> <PAD> <PAD> <PAD> <PAD> <PAD> <PAD> <PAD> <PAD> <PAD>\n",
            "*** [ <START> note gp games played w wins l losses t ties pts points gf goals for ga goals against pim penalties ]  driver <PAD> <PAD> <PAD> <PAD> <PAD> <PAD> <PAD> <PAD> <PAD> <PAD> <PAD> <PAD> <PAD> <PAD> <PAD> <PAD> <PAD> <PAD> <PAD> <PAD> <PAD> <PAD> <PAD> <PAD> <PAD> <PAD> <PAD> <PAD> <PAD> <PAD> <PAD> <PAD> <PAD> <PAD> <PAD> <PAD> <PAD> <PAD>\n",
            "*** [ <START> samuel dexter lrb may 14 <UNK> may 4 1816 rrb was an early american statesman who served both in congress ]  <PAD> <PAD> <PAD> <PAD> <PAD> <PAD> <PAD> <PAD> <PAD> <PAD> <PAD> <PAD> <PAD> <PAD> <PAD> <PAD> <PAD> <PAD> <PAD> <PAD> <PAD> <PAD> <PAD> <PAD> <PAD> <PAD> <PAD> <PAD> <PAD> <PAD> <PAD> <PAD> <PAD> <PAD> <PAD> <PAD> <PAD> <PAD> <PAD>\n",
            "*** [ <START> the census bureau does not provide a standard definition of a central '' region of the united states and organizations ]  <PAD> <PAD> <PAD> <PAD> <PAD> <PAD> <PAD> <PAD> <PAD> <PAD> <PAD> <PAD> <PAD> <PAD> <PAD> <PAD> <PAD> <PAD> <PAD> <PAD> <PAD> <PAD> <PAD> <PAD> <PAD> <PAD> <PAD> <PAD> <PAD> <PAD> <PAD> <PAD> <PAD> <PAD> <PAD> <PAD> <PAD> <PAD> <PAD>\n",
            "### TEMP  1.1\n",
            "*** [ <START> in computer science dependency is a state in which one object uses the functions of another object <EOS> ]  <PAD> <PAD> <PAD> <PAD> <PAD> <PAD> <PAD> <PAD> <PAD> <PAD> <PAD> <PAD> <PAD> <PAD> <PAD> <PAD> <PAD> <PAD> <PAD> <PAD> <PAD> <PAD> <PAD> <PAD> <PAD> <PAD> <PAD> <PAD> <PAD> <PAD> <PAD> <PAD> <PAD> <PAD> <PAD> <PAD> <PAD> <PAD> <PAD> <PAD> <PAD>\n",
            "*** [ <START> the program is set in seattle washington but was actually filmed in vancouver british columbia canada at lions gate studios ]  <PAD> <PAD> <PAD> <PAD> <PAD> <PAD> <PAD> <PAD> <PAD> <PAD> <PAD> <PAD> <PAD> <PAD> <PAD> <PAD> <PAD> <PAD> <PAD> <PAD> <PAD> <PAD> <PAD> <PAD> <PAD> <PAD> <PAD> <PAD> <PAD> <PAD> <PAD> <PAD> <PAD> <PAD> <PAD> <PAD> <PAD> <PAD> <PAD>\n",
            "*** [ <START> since pluto was originally called a planet it was not given a number until a 2006 <UNK> of planet '' ]  <PAD> <PAD> <PAD> <PAD> <PAD> <PAD> <PAD> <PAD> <PAD> <PAD> <PAD> <PAD> <PAD> <PAD> <PAD> <PAD> <PAD> <PAD> <PAD> <PAD> <PAD> <PAD> <PAD> <PAD> <PAD> <PAD> <PAD> <PAD> <PAD> <PAD> <PAD> <PAD> <PAD> <PAD> <PAD> <PAD> <PAD> <PAD> <PAD>\n",
            "*** [ <START> the <UNK> was designed to measure the speed and direction of the <UNK> wind '' by measuring the difference between ]  <PAD> <PAD> <PAD> <PAD> <PAD> <PAD> <PAD> <PAD> <PAD> <PAD> <PAD> <PAD> <PAD> <PAD> <PAD> <PAD> <PAD> <PAD> <PAD> <PAD> <PAD> <PAD> <PAD> <PAD> <PAD> <PAD> <PAD> <PAD> <PAD> <PAD> <PAD> <PAD> <PAD> <PAD> <PAD> <PAD> <PAD> <PAD> <PAD>\n",
            "*** [ <START> it is found in the region nord pas de calais in the pas de calais department in the north of ]  <PAD> <PAD> <PAD> <PAD> <PAD> <PAD> <PAD> <PAD> <PAD> <PAD> <PAD> <PAD> <PAD> <PAD> <PAD> <PAD> <PAD> <PAD> <PAD> <PAD> <PAD> <PAD> <PAD> <PAD> <PAD> <PAD> <PAD> <PAD> <PAD> <PAD> <PAD> <PAD> <PAD> <PAD> <PAD> <PAD> <PAD> <PAD> <PAD>\n",
            "### TEMP  1.2\n",
            "*** [ <START> <UNK> a <UNK> like string that is fired at prey and <UNK> around a cellular projection on the prey <EOS> ]  <PAD> <PAD> <PAD> <PAD> <PAD> <PAD> <PAD> coast <PAD> <PAD> beach <PAD> <PAD> <PAD> <PAD> <PAD> <PAD> <PAD> <PAD> <PAD> <PAD> <PAD> <PAD> <PAD> <PAD> <PAD> districts <PAD> <PAD> <PAD> <PAD> <PAD> <PAD> <PAD> <PAD> <PAD> <PAD> <PAD> <PAD>\n",
            "*** [ <START> under this condition the asteroid actually appears to stop but unlike the normal condition for a body in <UNK> <UNK> ]  <PAD> <PAD> <PAD> <PAD> <PAD> <PAD> <PAD> <PAD> <PAD> <PAD> <PAD> <PAD> <PAD> <PAD> <PAD> <PAD> <PAD> <PAD> <PAD> <PAD> <PAD> <PAD> <PAD> <PAD> <PAD> <PAD> <PAD> <PAD> <PAD> <PAD> <PAD> <PAD> <PAD> <PAD> <PAD> <PAD> <PAD> <PAD> <PAD>\n",
            "*** [ <START> in men there are 5 4 million red blood cells per <UNK> of <UNK> www <UNK> com a to z ]  <PAD> <PAD> <PAD> <PAD> punjab <PAD> <PAD> <PAD> <PAD> <PAD> <PAD> <PAD> <PAD> <PAD> <PAD> <PAD> <PAD> <PAD> <PAD> <PAD> <PAD> <PAD> <PAD> <PAD> <PAD> <PAD> <PAD> <PAD> <PAD> <PAD> <PAD> <PAD> <PAD> <PAD> <PAD> <PAD> <PAD> <PAD> <PAD>\n",
            "*** [ <START> in early 1938 tresca publicly accused the soviets of <UNK> juliet <UNK> to prevent her <UNK> from the communist party ]  <PAD> <PAD> <PAD> <PAD> <PAD> <PAD> <PAD> <PAD> <PAD> <PAD> <PAD> <PAD> invaded <PAD> <PAD> <PAD> <PAD> <PAD> <PAD> <PAD> <PAD> <PAD> <PAD> <PAD> <PAD> <PAD> <PAD> <PAD> <PAD> <PAD> <PAD> <PAD> <PAD> <PAD> <PAD> <PAD> <PAD> <PAD> <PAD>\n"
          ],
          "name": "stdout"
        },
        {
          "output_type": "stream",
          "text": [
            "\r  0%|          | 0/186 [00:00<?, ?it/s]"
          ],
          "name": "stderr"
        },
        {
          "output_type": "stream",
          "text": [
            "*** [ <START> <UNK> a <UNK> like string that is fired at prey and <UNK> around a cellular projection on the prey <EOS> ]  <PAD> movement <PAD> <PAD> worldwide bomb <PAD> <PAD> <PAD> <PAD> house <PAD> <PAD> <PAD> <PAD> memory <PAD> <PAD> <PAD> <PAD> <PAD> <PAD> <PAD> <PAD> <PAD> <PAD> <PAD> <PAD> <PAD> <PAD> <PAD> <PAD> <PAD> <PAD> <PAD> <PAD> <PAD> <PAD> <PAD>\n"
          ],
          "name": "stdout"
        },
        {
          "output_type": "stream",
          "text": [
            "100%|██████████| 186/186 [05:40<00:00,  1.83s/it]\n"
          ],
          "name": "stderr"
        },
        {
          "output_type": "stream",
          "text": [
            "### TEMP  0.0\n",
            "*** [ <START> the census bureau does not provide a standard definition of a central '' region of the united states and organizations ]  <PAD> <PAD> <PAD> <PAD> <PAD> <PAD> <PAD> <PAD> <PAD> <PAD> <PAD> <PAD> <PAD> <PAD> <PAD> <PAD> <PAD> <PAD> <PAD> <PAD> <PAD> <PAD> <PAD> <PAD> <PAD> <PAD> <PAD> <PAD> <PAD> <PAD> <PAD> <PAD> <PAD> <PAD> <PAD> <PAD> <PAD> <PAD> <PAD>\n",
            "*** [ <START> the chola dynasty lrb rrb was a tamil dynasty that ruled in southern india until the 13th century <EOS> ]  <PAD> <PAD> <PAD> <PAD> <PAD> <PAD> <PAD> <PAD> <PAD> <PAD> <PAD> <PAD> <PAD> <PAD> <PAD> <PAD> <PAD> <PAD> <PAD> <PAD> <PAD> <PAD> <PAD> <PAD> <PAD> <PAD> <PAD> <PAD> <PAD> <PAD> <PAD> <PAD> <PAD> <PAD> <PAD> <PAD> <PAD> <PAD> <PAD> <PAD>\n",
            "*** [ <START> the people of melbourne won this argument and law was introduced in 1857 and medicine and engineering in the <UNK> ]  <PAD> <PAD> <PAD> <PAD> <PAD> <PAD> <PAD> <PAD> <PAD> <PAD> <PAD> <PAD> <PAD> <PAD> <PAD> <PAD> <PAD> <PAD> <PAD> <PAD> <PAD> <PAD> <PAD> <PAD> <PAD> <PAD> <PAD> <PAD> <PAD> <PAD> <PAD> <PAD> <PAD> <PAD> <PAD> <PAD> <PAD> <PAD> <PAD>\n",
            "*** [ <START> he looks old but he claims to be only 31 years old lrb in <UNK> <UNK> choice '' his drivers ]  <PAD> <PAD> <PAD> <PAD> <PAD> <PAD> <PAD> <PAD> <PAD> <PAD> <PAD> <PAD> <PAD> <PAD> <PAD> <PAD> <PAD> <PAD> <PAD> <PAD> <PAD> <PAD> <PAD> <PAD> <PAD> <PAD> <PAD> <PAD> <PAD> <PAD> <PAD> <PAD> <PAD> <PAD> <PAD> <PAD> <PAD> <PAD> <PAD>\n",
            "*** [ <START> the <UNK> company of <UNK> receives the right to <UNK> the leather trade in london england <EOS> ]  <PAD> <PAD> <PAD> <PAD> <PAD> <PAD> <PAD> <PAD> <PAD> <PAD> <PAD> <PAD> <PAD> <PAD> <PAD> <PAD> <PAD> <PAD> <PAD> <PAD> <PAD> <PAD> <PAD> <PAD> <PAD> <PAD> <PAD> <PAD> <PAD> <PAD> <PAD> <PAD> <PAD> <PAD> <PAD> <PAD> <PAD> <PAD> <PAD> <PAD> <PAD> <PAD>\n",
            "### TEMP  0.9\n",
            "*** [ <START> flowering can be induced in some biennials by application of the plant <UNK> <UNK> but this is rarely done commercially ]  <PAD> <PAD> <PAD> <PAD> <PAD> <PAD> <PAD> <PAD> <PAD> <PAD> <PAD> <PAD> <PAD> <PAD> <PAD> <PAD> <PAD> <PAD> <PAD> <PAD> <PAD> <PAD> <PAD> <PAD> <PAD> <PAD> <PAD> <PAD> <PAD> <PAD> <PAD> <PAD> <PAD> <PAD> <PAD> <PAD> <PAD> <PAD> <PAD>\n",
            "*** [ <START> this royal rumble set a new record for the most wrestlers involved in an <UNK> taking 8 men to throw ]  <PAD> <PAD> <PAD> <PAD> <PAD> <PAD> <PAD> <PAD> <PAD> <PAD> <PAD> <PAD> <PAD> <PAD> <PAD> <PAD> <PAD> <PAD> <PAD> <PAD> <PAD> <PAD> <PAD> <PAD> <PAD> <PAD> <PAD> <PAD> <PAD> <PAD> <PAD> <PAD> <PAD> <PAD> <PAD> <PAD> <PAD> <PAD> <PAD>\n",
            "*** [ <START> in computer science dependency is a state in which one object uses the functions of another object <EOS> ]  <PAD> <PAD> <PAD> <PAD> <PAD> <PAD> <PAD> <PAD> <PAD> <PAD> <PAD> <PAD> <PAD> <PAD> <PAD> <PAD> <PAD> <PAD> <PAD> <PAD> <PAD> <PAD> <PAD> <PAD> <PAD> <PAD> <PAD> <PAD> <PAD> <PAD> <PAD> <PAD> <PAD> <PAD> <PAD> <PAD> <PAD> <PAD> <PAD> <PAD> <PAD>\n",
            "*** [ <START> born shirley <UNK> jackson in san francisco in 1916 to leslie and <UNK> jackson shirley and her family lived in ]  <PAD> <PAD> <PAD> <PAD> <PAD> <PAD> <PAD> <PAD> <PAD> <PAD> <PAD> <PAD> <PAD> <PAD> <PAD> <PAD> <PAD> <PAD> <PAD> <PAD> <PAD> <PAD> <PAD> <PAD> <PAD> <PAD> <PAD> <PAD> <PAD> <PAD> <PAD> <PAD> <PAD> <PAD> <PAD> <PAD> <PAD> <PAD> <PAD>\n",
            "*** [ <START> sam wang was a national soccer player http <UNK> net forum <UNK> index php <UNK> html and a model <EOS> ]  <PAD> <PAD> <PAD> <PAD> <PAD> <PAD> <PAD> <PAD> <PAD> <PAD> <PAD> <PAD> <PAD> <PAD> <PAD> <PAD> <PAD> <PAD> <PAD> <PAD> <PAD> <PAD> <PAD> <PAD> <PAD> <PAD> <PAD> <PAD> <PAD> <PAD> <PAD> <PAD> <PAD> <PAD> <PAD> <PAD> <PAD> <PAD> <PAD>\n",
            "### TEMP  1\n",
            "*** [ <START> the <UNK> company of <UNK> receives the right to <UNK> the leather trade in london england <EOS> ]  <PAD> <PAD> <PAD> <PAD> <PAD> <PAD> <PAD> <PAD> <PAD> <PAD> <PAD> <PAD> <PAD> <PAD> <PAD> <PAD> <PAD> <PAD> <PAD> <PAD> <PAD> <PAD> <PAD> <PAD> <PAD> <PAD> <PAD> <PAD> <PAD> <PAD> <PAD> <PAD> <PAD> <PAD> <PAD> <PAD> <PAD> <PAD> <UNK> <PAD> <PAD> <PAD>\n",
            "*** [ <START> although an individual coin <UNK> or the roll of a die is random event if repeated many times the sequence ]  <PAD> <PAD> <PAD> <PAD> <PAD> <PAD> <PAD> <PAD> <PAD> <PAD> <PAD> <PAD> <PAD> <PAD> <PAD> <PAD> <PAD> <PAD> <PAD> <PAD> <PAD> <PAD> <PAD> <PAD> <PAD> <PAD> <PAD> <PAD> <PAD> <PAD> <PAD> <PAD> <PAD> <PAD> <PAD> <PAD> <PAD> <PAD> <PAD>\n",
            "*** [ <START> <UNK> <UNK> printer 1892 historical records of new south wales vol 1 part 2 lrb 1783 1792 rrb pages 67 ]  <PAD> <PAD> <PAD> <PAD> <PAD> <PAD> <PAD> <PAD> <PAD> <PAD> <PAD> <PAD> <PAD> <PAD> <PAD> <PAD> <PAD> <PAD> <PAD> <PAD> <PAD> <PAD> <PAD> <PAD> <PAD> <PAD> <PAD> <PAD> <PAD> <PAD> <PAD> <PAD> <PAD> <PAD> <PAD> <PAD> <PAD> <PAD> <PAD>\n",
            "*** [ <START> in lake <UNK> american tourist donald duck <UNK> the lake <UNK> and meets with some of the local <UNK> including ]  <PAD> <PAD> <PAD> <PAD> <PAD> <PAD> <PAD> <PAD> <PAD> <PAD> <PAD> <PAD> <PAD> <PAD> <PAD> <PAD> <PAD> <PAD> <PAD> <PAD> <PAD> <PAD> <PAD> <PAD> <PAD> <PAD> <PAD> <PAD> <PAD> <PAD> <PAD> <PAD> <PAD> <PAD> <PAD> <PAD> <PAD> <PAD> <PAD>\n",
            "*** [ <START> the center of the seal is a shield with a scene of a moose resting in a field bordered by ]  <PAD> <PAD> <PAD> <PAD> <PAD> <PAD> <PAD> <PAD> <PAD> <PAD> <PAD> <PAD> <PAD> <PAD> <PAD> <PAD> <PAD> <PAD> <PAD> <PAD> <PAD> <PAD> <PAD> <PAD> <PAD> <PAD> <PAD> <PAD> <PAD> <PAD> <PAD> <PAD> <PAD> <PAD> <PAD> <PAD> <PAD> <PAD> <PAD>\n",
            "### TEMP  1.1\n",
            "*** [ <START> 1878 cyprus convention the ottoman empire <UNK> cyprus to the united kingdom but retains nominal title <EOS> ]  <PAD> <PAD> <PAD> <PAD> <PAD> <PAD> <PAD> <PAD> <PAD> avenue <PAD> <PAD> <PAD> <PAD> <PAD> <PAD> <PAD> <PAD> <PAD> <PAD> <PAD> <PAD> <PAD> <PAD> <PAD> <PAD> <PAD> <PAD> <PAD> <PAD> <PAD> <PAD> <PAD> <PAD> <PAD> <PAD> <PAD> <PAD> <PAD> <PAD> <PAD> <PAD>\n",
            "*** [ <START> a heritage railway lrb united kingdom rrb preserved railway lrb united kingdom rrb or tourist railroad lrb united states and ]  <PAD> <PAD> <PAD> <PAD> <PAD> <PAD> <PAD> <PAD> <PAD> <PAD> <PAD> <PAD> <PAD> <PAD> <PAD> <PAD> <PAD> <PAD> <PAD> <PAD> <PAD> <PAD> <PAD> <PAD> <PAD> <PAD> <PAD> <PAD> <PAD> <PAD> <PAD> <PAD> <PAD> <PAD> <PAD> <PAD> <PAD> <PAD> <PAD>\n",
            "*** [ <START> maintenance of the cells needs a balance between two <UNK> processes organ <UNK> and stem cell population <UNK> <EOS> ]  <PAD> <PAD> <PAD> <PAD> <PAD> <PAD> <PAD> <PAD> <PAD> <PAD> <PAD> <PAD> <PAD> <PAD> <PAD> <PAD> <PAD> <PAD> <PAD> <PAD> <PAD> <PAD> <PAD> <PAD> <PAD> <PAD> <PAD> <PAD> <PAD> <PAD> <PAD> <PAD> <PAD> <PAD> <PAD> <PAD> <PAD> <PAD> <PAD> <PAD>\n",
            "*** [ <START> they are an eastern indo aryan people who are also descended from austro asiatic and dravidian peoples and closely related ]  <PAD> <PAD> <PAD> <PAD> <PAD> <PAD> <PAD> <PAD> <PAD> <PAD> <PAD> <PAD> <PAD> <PAD> <PAD> <PAD> <PAD> <PAD> <PAD> <PAD> <PAD> <PAD> <PAD> <PAD> <PAD> <PAD> <PAD> <PAD> <PAD> <PAD> <PAD> <PAD> <PAD> <PAD> <PAD> <PAD> <PAD> <PAD> <PAD>\n",
            "*** [ <START> the <UNK> language was spoken and written by <UNK> civilization in the ancient area of <UNK> lrb modern tuscany plus ]  <PAD> <PAD> <PAD> <PAD> <PAD> <PAD> <PAD> <PAD> <PAD> <PAD> <PAD> <PAD> <PAD> <PAD> <PAD> <PAD> <PAD> <PAD> <PAD> region <PAD> <PAD> <PAD> <PAD> <PAD> <PAD> <PAD> <PAD> <PAD> <PAD> <PAD> <PAD> <PAD> <PAD> <PAD> <PAD> <PAD> <PAD> <PAD>\n",
            "### TEMP  1.2\n",
            "*** [ <START> it was once part of the north south torrance to san pedro <UNK> line of the pacific electric railway <EOS> ]  <PAD> <PAD> <PAD> <PAD> <PAD> <PAD> <PAD> <PAD> navy <PAD> <EOS> <PAD> <PAD> <PAD> <PAD> <PAD> <PAD> <PAD> <PAD> <PAD> republic road <PAD> <PAD> <PAD> <PAD> <PAD> <PAD> <PAD> <PAD> <PAD> <PAD> <PAD> <PAD> <PAD> <PAD> <PAD> <PAD> <PAD>\n",
            "*** [ <START> summertime '' lrb song rrb a popular song by george <UNK> from the 1935 opera <UNK> and <UNK> <EOS> ]  <PAD> <PAD> <PAD> <PAD> <PAD> <PAD> <PAD> <PAD> <PAD> <PAD> <PAD> <PAD> <PAD> <PAD> <PAD> <PAD> <PAD> <PAD> <PAD> <PAD> <PAD> <PAD> <PAD> <PAD> <PAD> <PAD> <PAD> <PAD> <PAD> <PAD> white <PAD> <PAD> <PAD> <PAD> <PAD> <PAD> <PAD> <PAD> <PAD>\n",
            "*** [ <START> he then took up an interest in the <UNK> in cosmic radiation which had been discovered by <UNK> allan <UNK> ]  <PAD> <PAD> <PAD> <PAD> <PAD> <PAD> <PAD> <PAD> <PAD> <PAD> <PAD> <PAD> <PAD> <PAD> <PAD> <PAD> <PAD> <PAD> <PAD> <PAD> <PAD> <PAD> <PAD> <PAD> <PAD> <PAD> <PAD> <PAD> <PAD> <PAD> <PAD> <PAD> <PAD> <PAD> <PAD> <PAD> <PAD> <PAD> <PAD>\n",
            "*** [ <START> the gawar bati language has not been given study by serious <UNK> except that it is mentioned by george <UNK> ]  <PAD> <PAD> <PAD> <PAD> <PAD> <PAD> <PAD> <PAD> <PAD> <PAD> <PAD> <PAD> <PAD> <PAD> <PAD> <PAD> <PAD> <PAD> <PAD> <PAD> <PAD> <PAD> <PAD> <PAD> <PAD> southwestern <PAD> <PAD> <PAD> <PAD> <PAD> <PAD> <PAD> <PAD> <PAD> <PAD> <PAD> <PAD> <PAD>\n"
          ],
          "name": "stdout"
        },
        {
          "output_type": "stream",
          "text": [
            "\r  0%|          | 0/186 [00:00<?, ?it/s]"
          ],
          "name": "stderr"
        },
        {
          "output_type": "stream",
          "text": [
            "*** [ <START> food is also <UNK> because it does not meet certain standards or regulations for quality and appearance as a result ]  <PAD> <PAD> <PAD> <PAD> <PAD> <PAD> <PAD> <PAD> region <PAD> <PAD> <PAD> <PAD> <PAD> <PAD> <PAD> <PAD> <PAD> <PAD> <PAD> <PAD> <PAD> <PAD> <PAD> <PAD> <PAD> <PAD> <PAD> <PAD> <PAD> <PAD> <PAD> <PAD> <PAD> <PAD> <PAD> <PAD> <PAD> <PAD>\n"
          ],
          "name": "stdout"
        },
        {
          "output_type": "stream",
          "text": [
            "100%|██████████| 186/186 [05:40<00:00,  1.83s/it]\n"
          ],
          "name": "stderr"
        },
        {
          "output_type": "stream",
          "text": [
            "### TEMP  0.0\n",
            "*** [ <START> this was good enough to win nfc west division the cardinals first division title since 1975 when the team played ]  <PAD> <PAD> <PAD> <PAD> <PAD> <PAD> <PAD> <PAD> <PAD> <PAD> <PAD> <PAD> <PAD> <PAD> <PAD> <PAD> <PAD> <PAD> <PAD> <PAD> <PAD> <PAD> <PAD> <PAD> <PAD> <PAD> <PAD> <PAD> <PAD> <PAD> <PAD> <PAD> <PAD> <PAD> <PAD> <PAD> <PAD> <PAD> <PAD>\n",
            "*** [ <START> <UNK> one of the tribes of <UNK> in <UNK> fictional middle earth called gnomes in <UNK> early works <EOS> <PAD> ]  <PAD> <PAD> <PAD> <PAD> <PAD> <PAD> <PAD> <PAD> <PAD> <PAD> <PAD> <PAD> <PAD> <PAD> <PAD> <PAD> <PAD> <PAD> <PAD> <PAD> <PAD> <PAD> <PAD> <PAD> <PAD> <PAD> <PAD> <PAD> <PAD> <PAD> <PAD> <PAD> <PAD> <PAD> <PAD> <PAD> <PAD> <PAD> <PAD>\n",
            "*** [ <START> france aragon castile and león cyprus burgundy savoy naples and scotland choose to recognize <UNK> clement vii <EOS> ]  <PAD> <PAD> <PAD> <PAD> <PAD> <PAD> <PAD> <PAD> <PAD> <PAD> <PAD> <PAD> <PAD> <PAD> <PAD> <PAD> <PAD> <PAD> <PAD> <PAD> <PAD> <PAD> <PAD> <PAD> <PAD> <PAD> <PAD> <PAD> <PAD> <PAD> <PAD> <PAD> <PAD> <PAD> <PAD> <PAD> <PAD> <PAD> <PAD> <PAD> <PAD>\n",
            "*** [ <START> <UNK> are a group of about 20 000 species of plants lrb of which about 10 000 are living rrb ]  <PAD> <PAD> <PAD> <PAD> <PAD> <PAD> <PAD> <PAD> <PAD> <PAD> <PAD> <PAD> <PAD> <PAD> <PAD> <PAD> <PAD> <PAD> <PAD> <PAD> <PAD> <PAD> <PAD> <PAD> <PAD> <PAD> <PAD> <PAD> <PAD> <PAD> <PAD> <PAD> <PAD> <PAD> <PAD> <PAD> <PAD> <PAD> <PAD>\n",
            "*** [ <START> he also activated around 1 200 national guard troops a 70 member rescue team six <UNK> and a team that ]  <PAD> <PAD> <PAD> <PAD> <PAD> <PAD> <PAD> <PAD> <PAD> <PAD> <PAD> <PAD> <PAD> <PAD> <PAD> <PAD> <PAD> <PAD> <PAD> <PAD> <PAD> <PAD> <PAD> <PAD> <PAD> <PAD> <PAD> <PAD> <PAD> <PAD> <PAD> <PAD> <PAD> <PAD> <PAD> <PAD> <PAD> <PAD> <PAD>\n",
            "### TEMP  0.9\n",
            "*** [ <START> the district was made in december 1993 by joining the old districts of <UNK> <UNK> and <UNK> but also including ]  <PAD> <PAD> <PAD> <PAD> <PAD> <PAD> <PAD> <PAD> <PAD> <PAD> <PAD> <PAD> <PAD> <PAD> <PAD> <PAD> <PAD> <PAD> <PAD> <PAD> <PAD> <PAD> <PAD> <PAD> <PAD> <PAD> <PAD> <PAD> <PAD> <PAD> <PAD> <PAD> <PAD> <PAD> <PAD> <PAD> <PAD> <PAD> <PAD>\n",
            "*** [ <START> the district was made in december 1993 by joining the old districts of <UNK> <UNK> and <UNK> but also including ]  <PAD> <PAD> <PAD> <PAD> <PAD> <PAD> <PAD> <PAD> <PAD> <PAD> <PAD> <PAD> <PAD> <PAD> <PAD> <PAD> <PAD> <PAD> <PAD> <PAD> <PAD> <PAD> <PAD> <PAD> <PAD> <PAD> <PAD> <PAD> <PAD> <PAD> <PAD> <PAD> <PAD> <PAD> <PAD> <PAD> <PAD> <PAD> <PAD>\n",
            "*** [ <START> february 3 world war ii the death of the four <UNK> when their ship was struck by a torpedo <EOS> ]  <PAD> <PAD> <PAD> <PAD> <PAD> <PAD> <PAD> <PAD> <PAD> <PAD> <PAD> <PAD> <PAD> <PAD> <PAD> <PAD> <PAD> <PAD> <PAD> <PAD> <PAD> <PAD> <PAD> <PAD> <PAD> <PAD> <PAD> <PAD> <PAD> <PAD> <PAD> <PAD> <PAD> <PAD> <PAD> <PAD> <PAD> <PAD> <PAD>\n",
            "*** [ <START> this was good enough to win nfc west division the cardinals first division title since 1975 when the team played ]  <PAD> <PAD> <PAD> <PAD> <PAD> <PAD> <PAD> <PAD> <PAD> <PAD> <PAD> <PAD> <PAD> <PAD> <PAD> <PAD> <PAD> <PAD> <PAD> <PAD> <PAD> <PAD> <PAD> <PAD> <PAD> <PAD> <PAD> <PAD> <PAD> <PAD> <PAD> <PAD> <PAD> <PAD> <PAD> <PAD> <PAD> <PAD> <PAD>\n",
            "*** [ <START> <UNK> writes socrates was <UNK> to say that he did not himself know anything and that the only way in ]  <PAD> <PAD> <PAD> <PAD> <PAD> <PAD> <PAD> <PAD> <PAD> <PAD> <PAD> <PAD> <PAD> <PAD> <PAD> <PAD> <PAD> <PAD> <PAD> <PAD> <PAD> <PAD> <PAD> <PAD> <PAD> <PAD> <PAD> <PAD> <PAD> <PAD> <PAD> <PAD> <PAD> <PAD> <PAD> <PAD> <PAD> <PAD> <PAD>\n",
            "### TEMP  1\n",
            "*** [ <START> for about two weeks the puzzle gave <UNK> from an unknown song along with the <UNK> you dont have to ]  <PAD> <PAD> <PAD> <PAD> <PAD> <PAD> <PAD> <PAD> <PAD> <PAD> <PAD> <PAD> <PAD> <PAD> <PAD> <PAD> <PAD> <PAD> <PAD> <PAD> <PAD> <PAD> <PAD> <PAD> <PAD> <PAD> <PAD> <PAD> <PAD> <PAD> <PAD> <PAD> <PAD> <PAD> <PAD> <PAD> <PAD> <PAD> <PAD>\n",
            "*** [ <START> they are an eastern indo aryan people who are also descended from austro asiatic and dravidian peoples and closely related ]  <PAD> <PAD> <PAD> <PAD> <PAD> <PAD> <PAD> <PAD> <PAD> <PAD> <PAD> <PAD> <PAD> <PAD> <PAD> <PAD> <PAD> <PAD> <PAD> <PAD> <PAD> <PAD> <PAD> <PAD> <PAD> <PAD> <PAD> <PAD> <PAD> <PAD> <PAD> <PAD> <PAD> <PAD> <PAD> <PAD> <PAD> <PAD> <PAD>\n",
            "*** [ <START> it was given the nickname <UNK> '' although the <UNK> used to call it the <UNK> '' <UNK> to its ]  <PAD> <PAD> <PAD> <PAD> <PAD> <PAD> <PAD> <PAD> <PAD> <PAD> <PAD> <PAD> <PAD> <PAD> <PAD> <PAD> <PAD> <PAD> <PAD> <PAD> <PAD> <PAD> <PAD> <PAD> <PAD> <PAD> <PAD> <PAD> <PAD> <PAD> <PAD> <PAD> <PAD> <PAD> <PAD> <PAD> <PAD> <PAD> <PAD>\n",
            "*** [ <START> <UNK> <UNK> lrb abbreviated to <UNK> or <UNK> rrb has toured europe north america and israel with bands such as ]  <PAD> <PAD> <PAD> <PAD> <PAD> <PAD> <PAD> <PAD> <PAD> <PAD> <PAD> <PAD> <PAD> <PAD> <PAD> <PAD> <PAD> <PAD> <PAD> <PAD> <PAD> <PAD> <PAD> <PAD> <PAD> <PAD> <PAD> <PAD> <PAD> <PAD> <PAD> <PAD> <PAD> <PAD> <PAD> <PAD> <PAD> <PAD> <PAD>\n",
            "*** [ <START> it is a <UNK> extinct <UNK> with four main peaks forming the <UNK> of the crater and is a popular ]  <PAD> <PAD> <PAD> <PAD> <PAD> <PAD> <PAD> <PAD> <PAD> <PAD> <PAD> <PAD> <PAD> <PAD> <PAD> <PAD> <PAD> <PAD> <PAD> <PAD> <PAD> <PAD> <PAD> <PAD> <PAD> <PAD> <PAD> <PAD> <PAD> <PAD> <PAD> <PAD> <PAD> <PAD> <PAD> <PAD> <PAD> <PAD> <PAD>\n",
            "### TEMP  1.1\n",
            "*** [ <START> countries that rely most on nuclear energy were france lrb with 75 of its electricity generated by nuclear power stations ]  <PAD> <PAD> <PAD> <PAD> <PAD> <PAD> <PAD> <PAD> <PAD> <PAD> <PAD> <PAD> <PAD> <PAD> <PAD> <PAD> <PAD> <PAD> <PAD> <PAD> <PAD> <PAD> <PAD> <PAD> <PAD> <PAD> <PAD> <PAD> <PAD> <PAD> <PAD> <PAD> <PAD> <PAD> <PAD> <PAD> <PAD> <PAD> <PAD>\n",
            "*** [ <START> spencer <UNK> lrb november 1 <UNK> may 11 1812 rrb was a british statesman and prime minister <EOS> ]  <PAD> <PAD> <PAD> <PAD> <PAD> <PAD> <UNK> <PAD> <PAD> <PAD> <PAD> <PAD> <PAD> <PAD> <PAD> <PAD> <PAD> atmosphere <PAD> <PAD> <PAD> <PAD> <PAD> <PAD> <PAD> <PAD> <PAD> <PAD> <PAD> <PAD> <PAD> <PAD> <PAD> <PAD> <PAD> <PAD> <PAD> <PAD> <PAD> <PAD> <PAD>\n",
            "*** [ <START> countries that rely most on nuclear energy were france lrb with 75 of its electricity generated by nuclear power stations ]  <PAD> <PAD> <PAD> <PAD> <PAD> <PAD> <PAD> <PAD> <PAD> <PAD> <PAD> <PAD> <PAD> <PAD> <PAD> <PAD> <PAD> <PAD> <PAD> <PAD> <PAD> <PAD> <PAD> <PAD> city <PAD> <PAD> <PAD> <PAD> <PAD> <PAD> <PAD> <PAD> <PAD> <PAD> <PAD> <PAD> <PAD> <PAD>\n",
            "*** [ <START> robert f bob '' <UNK> lrb born june 17 1955 in sainte <UNK> <UNK> quebec rrb was a canadian professional ]  <PAD> <PAD> <PAD> <PAD> <PAD> <PAD> <PAD> <PAD> <PAD> <PAD> <PAD> <PAD> <PAD> <PAD> <PAD> <PAD> <PAD> <PAD> <PAD> <PAD> <PAD> <PAD> <PAD> <PAD> <PAD> <PAD> <PAD> <PAD> <PAD> <PAD> <PAD> <PAD> draft <PAD> <PAD> <PAD> <PAD> <PAD> <PAD>\n",
            "*** [ <START> another view holds that a <UNK> acting on gods behalf can <UNK> or work out some of the karma of ]  <PAD> <PAD> <PAD> <PAD> <PAD> <PAD> <PAD> <PAD> <PAD> <PAD> <PAD> <PAD> <PAD> <PAD> <PAD> <PAD> <PAD> <PAD> <PAD> <PAD> <PAD> <PAD> <PAD> <PAD> <PAD> <PAD> <PAD> <PAD> <PAD> <PAD> <PAD> <PAD> <PAD> <PAD> <PAD> <PAD> <PAD> <PAD> <PAD>\n",
            "### TEMP  1.2\n",
            "*** [ <START> 1878 cyprus convention the ottoman empire <UNK> cyprus to the united kingdom but retains nominal title <EOS> ]  <PAD> <PAD> <PAD> <PAD> <PAD> <PAD> <PAD> <PAD> <PAD> <PAD> <PAD> <PAD> <PAD> <PAD> association <PAD> <PAD> <PAD> <PAD> <PAD> <PAD> <PAD> <PAD> <UNK> former <PAD> <PAD> <PAD> <PAD> <PAD> <PAD> <PAD> <PAD> <PAD> <PAD> <PAD> <PAD> <PAD> <PAD> <PAD> <PAD> <PAD>\n",
            "*** [ <START> zonealarm force field a <UNK> engine that shields the computer and personal data from internet and computer based threats <EOS> ]  <PAD> <PAD> <PAD> <PAD> <PAD> <PAD> <PAD> <PAD> <PAD> <PAD> <PAD> <PAD> <PAD> <PAD> <PAD> <PAD> <PAD> <PAD> <PAD> <PAD> <PAD> <PAD> <PAD> <PAD> <PAD> <PAD> <PAD> <PAD> <PAD> <PAD> <PAD> <PAD> <PAD> <PAD> <PAD> <PAD> <PAD> <PAD> <PAD>\n",
            "*** [ <START> in lake <UNK> american tourist donald duck <UNK> the lake <UNK> and meets with some of the local <UNK> including ]  <PAD> <PAD> <PAD> <PAD> <PAD> <PAD> <PAD> <PAD> <PAD> <PAD> <PAD> <PAD> <PAD> <PAD> <PAD> <PAD> <PAD> <PAD> <PAD> <PAD> <PAD> <PAD> <PAD> <PAD> <PAD> <PAD> <PAD> <PAD> <PAD> and <PAD> <PAD> <PAD> <PAD> <PAD> <PAD> <PAD> <PAD> <PAD>\n",
            "*** [ <START> as minister of state for foreign affairs he played a part in the peace agreements between egyptian president <UNK> <UNK> ]  <PAD> <PAD> <PAD> <PAD> <PAD> <PAD> <PAD> <PAD> <PAD> <PAD> <PAD> <PAD> <PAD> <PAD> <PAD> <PAD> <PAD> <PAD> <PAD> canton <PAD> <PAD> <PAD> <PAD> <PAD> <PAD> <PAD> <PAD> <PAD> <PAD> <PAD> <PAD> <PAD> <PAD> <PAD> <PAD> <PAD> <PAD> <PAD>\n"
          ],
          "name": "stdout"
        },
        {
          "output_type": "stream",
          "text": [
            "\r  0%|          | 0/186 [00:00<?, ?it/s]"
          ],
          "name": "stderr"
        },
        {
          "output_type": "stream",
          "text": [
            "*** [ <START> in 1813 after the <UNK> wars the town became part of the kingdom of hanover which was annexed by the ]  <PAD> <PAD> <EOS> <PAD> <PAD> <PAD> <PAD> <PAD> <PAD> <PAD> <PAD> <PAD> <PAD> <PAD> <PAD> <PAD> <PAD> <PAD> <PAD> <PAD> <PAD> <PAD> <PAD> <PAD> <PAD> <PAD> <PAD> <PAD> <PAD> <PAD> <PAD> <PAD> <PAD> <PAD> <PAD> <PAD> <PAD> <PAD> navy\n"
          ],
          "name": "stdout"
        },
        {
          "output_type": "stream",
          "text": [
            "100%|██████████| 186/186 [05:46<00:00,  1.86s/it]\n"
          ],
          "name": "stderr"
        },
        {
          "output_type": "stream",
          "text": [
            "### TEMP  0.0\n",
            "*** [ <START> in sparta prince hector and his young brother paris <UNK> and sparta to have peace but there is a war ]  <PAD> <PAD> <PAD> <PAD> <PAD> <PAD> <PAD> <PAD> <PAD> <PAD> <PAD> <PAD> <PAD> <PAD> <PAD> <PAD> <PAD> <PAD> <PAD> <PAD> <PAD> <PAD> <PAD> <PAD> <PAD> <PAD> <PAD> <PAD> <PAD> <PAD> <PAD> <PAD> <PAD> <PAD> <PAD> <PAD> <PAD> <PAD> <PAD>\n",
            "*** [ <START> <UNK> writes socrates was <UNK> to say that he did not himself know anything and that the only way in ]  <PAD> <PAD> <PAD> <PAD> <PAD> <PAD> <PAD> <PAD> <PAD> <PAD> <PAD> <PAD> <PAD> <PAD> <PAD> <PAD> <PAD> <PAD> <PAD> <PAD> <PAD> <PAD> <PAD> <PAD> <PAD> <PAD> <PAD> <PAD> <PAD> <PAD> <PAD> <PAD> <PAD> <PAD> <PAD> <PAD> <PAD> <PAD> <PAD>\n",
            "*** [ <START> the london midland and scottish railway and the london and north eastern railway both developed a system of identifying carriages ]  <PAD> <PAD> <PAD> <PAD> <PAD> <PAD> <PAD> <PAD> <PAD> <PAD> <PAD> <PAD> <PAD> <PAD> <PAD> <PAD> <PAD> <PAD> <PAD> <PAD> <PAD> <PAD> <PAD> <PAD> <PAD> <PAD> <PAD> <PAD> <PAD> <PAD> <PAD> <PAD> <PAD> <PAD> <PAD> <PAD> <PAD> <PAD> <PAD>\n",
            "*** [ <START> <UNK> writes socrates was <UNK> to say that he did not himself know anything and that the only way in ]  <PAD> <PAD> <PAD> <PAD> <PAD> <PAD> <PAD> <PAD> <PAD> <PAD> <PAD> <PAD> <PAD> <PAD> <PAD> <PAD> <PAD> <PAD> <PAD> <PAD> <PAD> <PAD> <PAD> <PAD> <PAD> <PAD> <PAD> <PAD> <PAD> <PAD> <PAD> <PAD> <PAD> <PAD> <PAD> <PAD> <PAD> <PAD> <PAD>\n",
            "*** [ <START> she was part of <UNK> 's hot 100 list in 2002 2003 and 2005 and in <UNK> 's 100 <UNK> ]  <PAD> <PAD> <PAD> <PAD> <PAD> <PAD> <PAD> <PAD> <PAD> <PAD> <PAD> <PAD> <PAD> <PAD> <PAD> <PAD> <PAD> <PAD> <PAD> <PAD> <PAD> <PAD> <PAD> <PAD> <PAD> <PAD> <PAD> <PAD> <PAD> <PAD> <PAD> <PAD> <PAD> <PAD> <PAD> <PAD> <PAD> <PAD> <PAD>\n",
            "### TEMP  0.9\n",
            "*** [ <START> various pieces of software including text editors lrb or <UNK> in <UNK> for same rrb can generate semi random lorem ]  <PAD> <PAD> <PAD> <PAD> <PAD> <PAD> <PAD> <PAD> <PAD> <PAD> <PAD> <PAD> <PAD> <PAD> <PAD> <PAD> <PAD> <PAD> <PAD> <PAD> <PAD> <PAD> <PAD> <PAD> <PAD> <PAD> <PAD> <PAD> <PAD> <PAD> <PAD> <PAD> <PAD> <PAD> <PAD> <PAD> <PAD> <PAD> <PAD>\n",
            "*** [ <START> it had a population of 15 <UNK> recorded in the 2001 census and is a typical west of scotland industrial ]  <PAD> <PAD> <PAD> <PAD> <PAD> <PAD> <PAD> <PAD> <PAD> <PAD> <PAD> <PAD> <PAD> <PAD> <PAD> <PAD> <PAD> <PAD> <PAD> <PAD> <PAD> <PAD> <PAD> <PAD> <PAD> <PAD> <PAD> <PAD> <PAD> <PAD> <PAD> <PAD> <PAD> <PAD> <PAD> <PAD> <PAD> <PAD> <PAD>\n",
            "*** [ <START> after the first betting round is completed lrb every <UNK> player having called an equal amount rrb there may be ]  <PAD> <PAD> <PAD> <PAD> <PAD> <PAD> <PAD> <PAD> <PAD> <PAD> <PAD> <PAD> <PAD> <PAD> <PAD> <PAD> <PAD> <PAD> <PAD> <PAD> <PAD> <PAD> <PAD> <PAD> <PAD> <PAD> <PAD> <PAD> <PAD> <PAD> <PAD> <PAD> <PAD> <PAD> <PAD> <PAD> <PAD> <PAD> <PAD>\n",
            "*** [ <START> for the purpose of <UNK> revolutionary activity in turkish armenia they formed the hunchakian revolutionary party in august 1887 <EOS> ]  <PAD> <PAD> <PAD> <PAD> <PAD> <PAD> <PAD> <PAD> <PAD> <PAD> <PAD> <PAD> <PAD> <PAD> <PAD> <PAD> <PAD> <PAD> <PAD> <PAD> <PAD> <PAD> <PAD> <PAD> <PAD> <PAD> <PAD> <PAD> <PAD> <PAD> <PAD> <PAD> <PAD> <PAD> <PAD> <PAD> <PAD> <PAD> <PAD>\n",
            "*** [ <START> france aragon castile and león cyprus burgundy savoy naples and scotland choose to recognize <UNK> clement vii <EOS> ]  <PAD> <PAD> <PAD> <PAD> <PAD> <PAD> <PAD> <PAD> <PAD> <PAD> <PAD> <PAD> <PAD> <PAD> <PAD> <PAD> <PAD> <PAD> <PAD> <PAD> <PAD> <PAD> <PAD> <PAD> <PAD> <PAD> <PAD> <PAD> <PAD> <PAD> <PAD> <PAD> <PAD> <PAD> <PAD> <PAD> <PAD> <PAD> <PAD> <PAD> <PAD>\n",
            "### TEMP  1\n",
            "*** [ <START> this happens at the same time as the formation of the <UNK> such as <UNK> pangaea and gondwana <EOS> ]  <PAD> <PAD> <PAD> <PAD> <PAD> <PAD> <PAD> <PAD> <PAD> <PAD> <PAD> <PAD> <PAD> <PAD> <PAD> <PAD> <PAD> <PAD> <PAD> <PAD> <PAD> <PAD> <PAD> <PAD> <PAD> <PAD> <PAD> <PAD> <PAD> <PAD> <PAD> <PAD> <PAD> <PAD> <PAD> <PAD> <PAD> <PAD> <PAD> <PAD>\n",
            "*** [ <START> this royal rumble set a new record for the most wrestlers involved in an <UNK> taking 8 men to throw ]  <PAD> <PAD> <PAD> <PAD> <PAD> <PAD> <PAD> <PAD> <PAD> <PAD> <PAD> <PAD> <PAD> <PAD> <PAD> <PAD> <PAD> <PAD> <PAD> <PAD> <PAD> <PAD> <PAD> <PAD> <PAD> <PAD> <PAD> <PAD> <PAD> <PAD> <PAD> <PAD> <PAD> <PAD> <PAD> <PAD> <PAD> <PAD> <PAD>\n",
            "*** [ <START> he won every competition he entered including the grand prix final the european championships and the world championships <EOS> ]  <PAD> <PAD> <PAD> <PAD> <PAD> <PAD> <PAD> <PAD> <PAD> <PAD> <PAD> <PAD> <PAD> <PAD> <PAD> <PAD> <PAD> <PAD> <PAD> <PAD> <PAD> <PAD> <PAD> <PAD> <PAD> <PAD> <PAD> <PAD> <PAD> <PAD> <PAD> <PAD> <PAD> <PAD> <PAD> <PAD> <PAD> <PAD> <PAD> <PAD>\n",
            "*** [ <START> <UNK> created by joss whedon particularly the episodes serenity '' the train job '' ariel '' and trash '' lrb ]  <PAD> <PAD> <PAD> <PAD> <PAD> <PAD> <PAD> <PAD> <PAD> <PAD> <PAD> <PAD> <PAD> <PAD> <PAD> <PAD> <PAD> <PAD> <PAD> <PAD> <PAD> <PAD> <PAD> <PAD> <PAD> <PAD> <PAD> <PAD> <PAD> <PAD> <PAD> <PAD> <PAD> <PAD> <PAD> <PAD> <PAD> <PAD> <PAD>\n",
            "*** [ <START> <UNK> middleton lrb born 4 october 1971 in sydney australia rrb is the guitarist in the band <UNK> '' <EOS> ]  <PAD> <PAD> <PAD> <PAD> <PAD> <PAD> <PAD> <PAD> <PAD> <PAD> <PAD> <PAD> <PAD> <PAD> <PAD> <PAD> <PAD> <PAD> <PAD> <PAD> <PAD> <PAD> <PAD> <PAD> <PAD> <PAD> <PAD> <PAD> <PAD> <PAD> <PAD> <PAD> <PAD> <PAD> <PAD> <PAD> <PAD> <PAD> <PAD>\n",
            "### TEMP  1.1\n",
            "*** [ <START> as minister of state for foreign affairs he played a part in the peace agreements between egyptian president <UNK> <UNK> ]  <PAD> <PAD> <PAD> <PAD> <PAD> <PAD> <PAD> <PAD> <PAD> <PAD> west <PAD> <PAD> <PAD> <PAD> <PAD> <PAD> <PAD> <PAD> <PAD> <PAD> <PAD> <PAD> <PAD> <PAD> <PAD> <PAD> <PAD> <PAD> <PAD> <PAD> <PAD> <PAD> <PAD> <PAD> <PAD> <PAD> <PAD> <PAD>\n",
            "*** [ <START> umbrella '' was at number one in the american billboard hot 100 for seven weeks and in the australian aria ]  <PAD> <PAD> <PAD> <PAD> <PAD> <PAD> <PAD> <PAD> <PAD> <PAD> <PAD> <PAD> <PAD> <PAD> <PAD> <PAD> <PAD> <PAD> <PAD> <PAD> <PAD> <PAD> <PAD> <PAD> <PAD> <PAD> <PAD> <PAD> <PAD> <PAD> <PAD> <PAD> <PAD> fritz <PAD> <PAD> <PAD> <PAD> <PAD>\n",
            "*** [ <START> a schismatic is a person who creates schism in an organization or who is a member of a <UNK> group ]  <PAD> <PAD> <PAD> <PAD> <PAD> <PAD> <PAD> <PAD> <PAD> games <PAD> <PAD> <PAD> <PAD> <PAD> <PAD> <PAD> <PAD> <PAD> <PAD> <PAD> <PAD> <PAD> <PAD> <PAD> <PAD> <PAD> <PAD> <PAD> <PAD> <PAD> <PAD> <PAD> <PAD> <PAD> <PAD> <PAD> <PAD> <PAD>\n",
            "*** [ <START> another view holds that a <UNK> acting on gods behalf can <UNK> or work out some of the karma of ]  <PAD> lahore <PAD> <PAD> <PAD> <PAD> <PAD> <PAD> <PAD> <PAD> <PAD> <PAD> <PAD> <PAD> <PAD> <PAD> <PAD> <PAD> <PAD> <PAD> <PAD> <PAD> <PAD> <PAD> <PAD> <PAD> <PAD> <PAD> <PAD> <PAD> <PAD> <PAD> <PAD> <PAD> <PAD> <PAD> <PAD> <PAD> <PAD>\n",
            "*** [ <START> this was good enough to win nfc west division the cardinals first division title since 1975 when the team played ]  <PAD> <PAD> <PAD> <PAD> <PAD> <PAD> <PAD> <PAD> <PAD> <PAD> <PAD> <PAD> <PAD> <PAD> <PAD> <PAD> <PAD> <PAD> <PAD> <PAD> <PAD> <PAD> <PAD> <PAD> <PAD> <PAD> <PAD> <PAD> <PAD> <PAD> <PAD> <PAD> <PAD> <PAD> <PAD> <PAD> <PAD> <PAD> <PAD>\n",
            "### TEMP  1.2\n",
            "*** [ <START> a i s <UNK> and c j <UNK> 2003 <UNK> <UNK> on the generation and secular evolution of the <UNK> ]  <PAD> <PAD> <PAD> <PAD> <PAD> <PAD> <PAD> <PAD> <PAD> <PAD> <PAD> <PAD> <PAD> <PAD> <PAD> <PAD> <PAD> <PAD> <PAD> <PAD> <PAD> <PAD> <PAD> <PAD> <PAD> <PAD> hills <PAD> <PAD> <PAD> <PAD> <PAD> <PAD> <PAD> <PAD> <PAD> <PAD> <PAD> <PAD>\n",
            "*** [ <START> the seventh day adventist lrb abbreviated adventist although <UNK> '' is commonly used adventist '' is the churchs own officially ]  <PAD> <PAD> <PAD> <PAD> <PAD> <PAD> <PAD> <PAD> <PAD> winner <PAD> <PAD> <PAD> vaucluse <PAD> <PAD> <PAD> <PAD> <PAD> <PAD> <PAD> <PAD> <PAD> <PAD> <PAD> <PAD> <PAD> <PAD> <PAD> <PAD> <PAD> <PAD> <PAD> <PAD> <PAD> <PAD> <PAD> <PAD> <PAD>\n",
            "*** [ <START> weak anthropic principle we must be prepared to take into account the fact that our location in the universe is ]  <PAD> <PAD> <PAD> <PAD> <PAD> <PAD> <PAD> <PAD> <PAD> <PAD> <PAD> <PAD> <PAD> <PAD> <PAD> <PAD> <PAD> <PAD> <PAD> <PAD> <PAD> <PAD> <PAD> <PAD> <PAD> <PAD> <PAD> <PAD> <PAD> <PAD> <PAD> <PAD> <PAD> <PAD> <PAD> <PAD> <PAD> <PAD> <PAD>\n",
            "*** [ <START> for the purpose of <UNK> revolutionary activity in turkish armenia they formed the hunchakian revolutionary party in august 1887 <EOS> ]  <PAD> <PAD> <PAD> <PAD> <PAD> <PAD> <PAD> <PAD> <PAD> <PAD> <PAD> <PAD> <PAD> <PAD> <PAD> <PAD> <PAD> <PAD> <PAD> <PAD> <PAD> <PAD> <PAD> <PAD> south <PAD> <PAD> <PAD> <PAD> <PAD> <PAD> <PAD> <PAD> <PAD> <PAD> <PAD> <PAD> <PAD> <PAD>\n"
          ],
          "name": "stdout"
        },
        {
          "output_type": "stream",
          "text": [
            "\r  0%|          | 0/24 [00:00<?, ?it/s]"
          ],
          "name": "stderr"
        },
        {
          "output_type": "stream",
          "text": [
            "*** [ <START> the <UNK> company of <UNK> receives the right to <UNK> the leather trade in london england <EOS> ]  <PAD> environment <PAD> <PAD> <PAD> <PAD> <PAD> <PAD> <PAD> <PAD> kings <PAD> <PAD> <PAD> <PAD> <PAD> <PAD> <PAD> <PAD> <PAD> <PAD> <PAD> <PAD> <PAD> <PAD> <PAD> <PAD> <PAD> <PAD> theory <PAD> <PAD> <PAD> name <PAD> <PAD> <PAD> <PAD> <PAD> <PAD> <PAD> <PAD>\n"
          ],
          "name": "stdout"
        },
        {
          "output_type": "stream",
          "text": [
            "100%|██████████| 24/24 [00:25<00:00,  1.05s/it]\n",
            "  0%|          | 0/186 [00:00<?, ?it/s]"
          ],
          "name": "stderr"
        },
        {
          "output_type": "stream",
          "text": [
            "x_validate preplexity: 242687888.0\n"
          ],
          "name": "stdout"
        },
        {
          "output_type": "stream",
          "text": [
            "100%|██████████| 186/186 [02:56<00:00,  1.05it/s]\n",
            "  0%|          | 0/24 [00:00<?, ?it/s]"
          ],
          "name": "stderr"
        },
        {
          "output_type": "stream",
          "text": [
            "x_train preplexity: 5763720.0\n"
          ],
          "name": "stdout"
        },
        {
          "output_type": "stream",
          "text": [
            "100%|██████████| 24/24 [00:22<00:00,  1.07it/s]"
          ],
          "name": "stderr"
        },
        {
          "output_type": "stream",
          "text": [
            "x_test preplexity: 254432304.0\n"
          ],
          "name": "stdout"
        },
        {
          "output_type": "stream",
          "text": [
            "\n"
          ],
          "name": "stderr"
        }
      ]
    },
    {
      "cell_type": "code",
      "metadata": {
        "id": "gPTb_XgIvHQl",
        "colab": {
          "base_uri": "https://localhost:8080/"
        },
        "outputId": "8b59aad3-fab7-4003-d4b0-5583b3c69da4"
      },
      "source": [
        "print('OPTIONS', options3)\r\n",
        "model3,i2w_3,w2i_3=go(options3)"
      ],
      "execution_count": 21,
      "outputs": [
        {
          "output_type": "stream",
          "text": [
            "OPTIONS <__main__.Args3 object at 0x7fd73901f5c0>\n",
            "random seed:  972152\n",
            "raw data read\n",
            "max sequence length  132\n",
            "10000 distinct words\n",
            "max length per batch:  [15, 15, 16, 16, 16, 16, 17, 17, 17, 17, 17, 17, 17, 17, 17, 18, 18, 18, 18, 18, 18, 18, 18, 18, 18, 18, 18, 18, 19, 19, 19, 19, 19, 19, 19, 19, 19, 19, 19, 19, 19, 19, 19, 19, 19, 20, 20, 20, 20, 20, 20, 20, 20, 20, 20, 20, 20, 20, 20, 20, 20, 20, 21, 21, 21, 21, 21, 21, 21, 21, 21, 21, 21, 21, 21, 21, 21, 21, 21, 21, 21, 22, 22, 22, 22, 22, 22, 22, 22, 22, 22, 22, 22, 22, 22, 22, 22, 22, 22, 22, 23, 23, 23, 23, 23, 23, 23, 23, 23, 23, 23, 23, 23, 23, 23, 24, 24, 24, 24, 24, 24, 24, 24, 24, 24, 24, 24, 24, 24, 25, 25, 25, 25, 25, 25, 25, 25, 25, 25, 25, 25, 26, 26, 26, 26, 26, 26, 26, 26, 26, 26, 26, 27, 27, 27, 27, 27, 27, 27, 27, 27, 27, 28, 28, 28, 28, 28, 28, 28, 28, 28, 29, 29, 29, 29, 29, 29, 30, 30, 30, 30, 30, 30, 30, 31, 31, 31, 31, 31, 32, 32, 32, 32, 32, 32, 33, 33, 33, 33, 34, 34, 34, 34, 35, 35, 35, 35, 36, 36, 36, 37, 37, 38, 38, 39, 39, 40, 40, 41, 42, 42, 43, 44, 45, 46, 47, 48, 50, 52, 55, 60, 75, 133]\n",
            "max length per batch:  [15, 16, 16, 16, 16, 17, 17, 17, 17, 17, 17, 17, 18, 18, 18, 18, 18, 18, 18, 18, 18, 18, 19, 19, 19, 19, 19, 19, 19, 19, 19, 19, 19, 19, 19, 20, 20, 20, 20, 20, 20, 20, 20, 20, 20, 20, 20, 20, 20, 21, 21, 21, 21, 21, 21, 21, 21, 21, 21, 21, 21, 21, 21, 21, 21, 22, 22, 22, 22, 22, 22, 22, 22, 22, 22, 22, 22, 22, 22, 23, 23, 23, 23, 23, 23, 23, 23, 23, 23, 23, 23, 23, 24, 24, 24, 24, 24, 24, 24, 24, 24, 24, 25, 25, 25, 25, 25, 25, 25, 25, 25, 25, 26, 26, 26, 26, 26, 26, 26, 26, 26, 27, 27, 27, 27, 27, 27, 27, 27, 28, 28, 28, 28, 28, 28, 28, 29, 29, 29, 29, 29, 30, 30, 30, 30, 30, 30, 31, 31, 31, 31, 32, 32, 32, 32, 33, 33, 33, 33, 34, 34, 34, 35, 35, 35, 36, 36, 37, 37, 38, 38, 39, 40, 40, 41, 42, 43, 44, 45, 46, 48, 49, 52, 55, 62, 132]\n",
            "max length per batch:  [17, 18, 19, 19, 20, 20, 21, 21, 22, 22, 23, 24, 24, 25, 26, 27, 28, 29, 31, 33, 36, 40, 52, 133]\n",
            "max length per batch:  [17, 18, 19, 19, 20, 20, 21, 21, 22, 22, 23, 24, 24, 25, 26, 27, 28, 30, 31, 33, 36, 41, 57, 84]\n",
            "Finished data loading.  29741  sentences loaded\n"
          ],
          "name": "stdout"
        },
        {
          "output_type": "stream",
          "text": [
            "\r  0%|          | 0/186 [00:00<?, ?it/s]"
          ],
          "name": "stderr"
        },
        {
          "output_type": "stream",
          "text": [
            "Model: \"model_2\"\n",
            "_________________________________________________________________\n",
            "Layer (type)                 Output Shape              Param #   \n",
            "=================================================================\n",
            "input_3 (InputLayer)         [(None, None)]            0         \n",
            "_________________________________________________________________\n",
            "embedding_2 (Embedding)      (None, None, 256)         2560000   \n",
            "_________________________________________________________________\n",
            "lstm_4 (LSTM)                (None, None, 256)         525312    \n",
            "_________________________________________________________________\n",
            "lstm_5 (LSTM)                (None, None, 256)         525312    \n",
            "_________________________________________________________________\n",
            "lstm_6 (LSTM)                (None, None, 256)         525312    \n",
            "_________________________________________________________________\n",
            "time_distributed_2 (TimeDist (None, None, 10000)       2570000   \n",
            "=================================================================\n",
            "Total params: 6,705,936\n",
            "Trainable params: 6,705,936\n",
            "Non-trainable params: 0\n",
            "_________________________________________________________________\n"
          ],
          "name": "stdout"
        },
        {
          "output_type": "stream",
          "text": [
            "100%|██████████| 186/186 [06:42<00:00,  2.16s/it]\n"
          ],
          "name": "stderr"
        },
        {
          "output_type": "stream",
          "text": [
            "### TEMP  0.0\n",
            "*** [ <START> <UNK> involving sound from the <UNK> are not found in most dialects of english though they are found in many ]  <UNK> <UNK> <UNK> <UNK> <UNK> <UNK> <UNK> <UNK> <UNK> <UNK> <UNK> <UNK> <UNK> <UNK> <UNK> <UNK> <UNK> <UNK> <UNK> <UNK> <UNK> <UNK> <UNK> <UNK> <UNK> <UNK> <UNK> <UNK> <UNK> <UNK> <UNK> <UNK> <UNK> <UNK> <UNK> <UNK> <UNK> <UNK> <UNK>\n",
            "*** [ <START> in the presidents case the disease caused <UNK> and <UNK> <UNK> the <UNK> com <EOS> <PAD> ]  <UNK> <UNK> <UNK> <UNK> <UNK> <UNK> <UNK> <UNK> <UNK> <UNK> <UNK> <UNK> <UNK> <UNK> <UNK> <UNK> <UNK> <UNK> <UNK> <UNK> <UNK> <UNK> <UNK> <UNK> <UNK> <UNK> <UNK> <UNK> <UNK> <UNK> <UNK> <UNK> <UNK> <UNK> <UNK> <UNK> <UNK> <UNK> <UNK> <UNK> <UNK> <UNK> <UNK>\n",
            "*** [ <START> a popular writer in her time her work has received even more attention from literary critics in recent years <EOS> ]  <UNK> <UNK> <UNK> <UNK> <UNK> <UNK> <UNK> <UNK> <UNK> <UNK> <UNK> <UNK> <UNK> <UNK> <UNK> <UNK> <UNK> <UNK> <UNK> <UNK> <UNK> <UNK> <UNK> <UNK> <UNK> <UNK> <UNK> <UNK> <UNK> <UNK> <UNK> <UNK> <UNK> <UNK> <UNK> <UNK> <UNK> <UNK> <UNK>\n",
            "*** [ <START> the people of melbourne won this argument and law was introduced in 1857 and medicine and engineering in the <UNK> ]  <UNK> <UNK> <UNK> <UNK> <UNK> <UNK> <UNK> <UNK> <UNK> <UNK> <UNK> <UNK> <UNK> <UNK> <UNK> <UNK> <UNK> <UNK> <UNK> <UNK> <UNK> <UNK> <UNK> <UNK> <UNK> <UNK> <UNK> <UNK> <UNK> <UNK> <UNK> <UNK> <UNK> <UNK> <UNK> <UNK> <UNK> <UNK> <UNK>\n",
            "*** [ <START> 1895 <UNK> burn their weapons as a protest against <UNK> by the <UNK> russian government <EOS> ]  <UNK> <UNK> <UNK> <UNK> <UNK> <UNK> <UNK> <UNK> <UNK> <UNK> <UNK> <UNK> <UNK> <UNK> <UNK> <UNK> <UNK> <UNK> <UNK> <UNK> <UNK> <UNK> <UNK> <UNK> <UNK> <UNK> <UNK> <UNK> <UNK> <UNK> <UNK> <UNK> <UNK> <UNK> <UNK> <UNK> <UNK> <UNK> <UNK> <UNK> <UNK> <UNK> <UNK>\n",
            "### TEMP  0.9\n",
            "*** [ <START> the chola dynasty lrb rrb was a tamil dynasty that ruled in southern india until the 13th century <EOS> ]  point to to operation and on the and culture <PAD> exchange johnson <UNK> <PAD> by were wait lrb <PAD> including <PAD> 0 1987 lady and with km wish in <UNK> two a <PAD> <UNK> created plain to it lrb for\n",
            "*** [ <START> this royal rumble set a new record for the most wrestlers involved in an <UNK> taking 8 men to throw ]  kelly the given and <EOS> of with from a <PAD> rrb http <UNK> <PAD> <UNK> a x the <UNK> <UNK> the <EOS> by mare <EOS> <UNK> the <EOS> <EOS> of from intelligence comedy <PAD> is award near lrb similar\n",
            "*** [ <START> in men there are 5 4 million red blood cells per <UNK> of <UNK> www <UNK> com a to z ]  rrb <PAD> <UNK> of <UNK> <PAD> <PAD> that by was his <EOS> and cdot in of <PAD> lrb older <PAD> scotland except mass <UNK> took the such for of by 000 start 28 <EOS> u <EOS> law schoenberg a\n",
            "*** [ <START> the royal surrey gardens lrb surrey music hall rrb were gardens in <UNK> london during the victorian period <EOS> ]  the <UNK> <PAD> <UNK> to 1 him an <PAD> change <PAD> 100 loads whisenhunt <PAD> for for tag the <PAD> in one <PAD> <UNK> <PAD> <PAD> <UNK> the <UNK> <UNK> the that nuclear <PAD> <UNK> opening of city was <PAD>\n",
            "*** [ <START> hot club de paris have released several tracks on compilation albums including can you hear me clearly <EOS> ]  <UNK> '' and <UNK> <PAD> time lrb hong <UNK> the <UNK> going game born the <EOS> away and she and <UNK> an <PAD> terrier never rrb to also from <PAD> 3 france by <UNK> status <UNK> known into raw <PAD> of\n",
            "### TEMP  1\n",
            "*** [ <START> http www bbc co uk cult buffy angel <UNK> <UNK> <UNK> shtml she married <UNK> hardy on october 5 2002 ]  anime cardinals original foreign lrb participation bangladesh running 21 stimulus and 6 rodney underground the in a flood of <UNK> <UNK> the in collection also does treaty <PAD> father world i third the a search english <UNK> as to\n",
            "*** [ <START> he also activated around 1 200 national guard troops a 70 member rescue team six <UNK> and a team that ]  <UNK> arena victoria 's album <UNK> <PAD> storch seven war <PAD> <PAD> 0 circle star industry by off as in get combat after 5 the not which flight album the as bubbles a gp her <UNK> html served the\n",
            "*** [ <START> hot club de paris have released several tracks on compilation albums including can you hear me clearly <EOS> ]  <UNK> <PAD> fort named recognizes rrb julie <UNK> the services in w '' civil abbot <UNK> rescue by about magazine algae teacher sub in of however on the mixed ds in was of records new frac in orthodox wing and <PAD>\n",
            "*** [ <START> the first epistle to the corinthians or the first letter to the corinthians is a long letter written by the ]  illinois fault <PAD> gene been parts the june <UNK> the rrb cruz title <PAD> an the on 2009 <PAD> as lrb automatic for lrb and from <PAD> arena best the boat <PAD> the from season kind the actors in\n",
            "*** [ <START> andrew <UNK> law lrb september 16 1858 october 30 1923 rrb was prime minister of the united kingdom <EOS> ]  1907 rrb <EOS> s the a appearances proposal in the <UNK> pienza with 30 hours hall and <EOS> holland of pages <PAD> artha and augustus a was jets lrb <EOS> for by <PAD> container <UNK> <UNK> semi pakistan guard each\n",
            "### TEMP  1.1\n",
            "*** [ <START> umbrella '' was at number one in the american billboard hot 100 for seven weeks and in the australian aria ]  retired sight ed is neighbouring <PAD> ft c eventually developed lrb to their done defeat <UNK> and portuguese <UNK> st factbook per <EOS> for <UNK> holes <UNK> organisms starvation <PAD> took the nuclear piece <UNK> to asylum <UNK> something\n",
            "*** [ <START> spencer <UNK> lrb november 1 <UNK> may 11 1812 rrb was a british statesman and prime minister <EOS> ]  east rrb and 4 scores '' initial friends <UNK> june by between shell region at <UNK> lrb was by the the 1893 <PAD> medal input for a thing bound thousands unique centauri defined runnymede of in by turned <UNK> bit given\n",
            "*** [ <START> in the 19th century eugène <UNK> wrote a very large number of libretti that were set to music by composers ]  organisms was for gave night soviet divides <PAD> '' the alone rrb rrb may being september the indian all two in of experiences is <PAD> a made lrb pangaea wonderland <PAD> around <UNK> buildings olympics built obviously health english\n",
            "*** [ <START> a popular writer in her time her work has received even more attention from literary critics in recent years <EOS> ]  <EOS> active for consists cm siberia gov 24 heritage this design rrb the ground orbits clusters out p enforcement non just have <PAD> suicide suite of tropical current the always making <PAD> one lrb the hortons 1976 <UNK> and\n",
            "*** [ <START> she was part of <UNK> 's hot 100 list in 2002 2003 and 2005 and in <UNK> 's 100 <UNK> ]  performed organs 1990 <UNK> orbits <UNK> disney flux zack <UNK> with the reign <UNK> while mayor romans <EOS> 2001 <EOS> with service it hurricane self pond 32 a weeks shorter basic most 1947 indiana the allowed rrb yorkshire behind\n",
            "### TEMP  1.2\n",
            "*** [ <START> the paintings lunch on the grass and <UNK> were a starting point for a group of young painters to develop ]  permanent for <PAD> was were los girl determine 10 also international decide malkot come context departmental to the staff and communes metal solving carrying bear <PAD> v european solar too at any shows training robert medal by prototype 1978\n",
            "*** [ <START> the platforms and <UNK> are <UNK> by creatures lrb also known as <UNK> rrb but each planet has a different ]  eccentricity numerous town took on of dirt fuel stability how eugene but 1982 28 leagues he 's some set <UNK> has glass including livermore defenceman theory the medina football top <EOS> 1927 israeli its feature large analysis orbits <UNK>\n",
            "*** [ <START> a i s <UNK> and c j <UNK> 2003 <UNK> <UNK> on the generation and secular evolution of the <UNK> ]  1930s <UNK> of by the lrb promote alpha the of yellow awarded affair turkey <PAD> they <UNK> phenomenon in had ernest decay d animation secret <UNK> and most council hp lrb valley rock the currency on and 33 other\n",
            "*** [ <START> umbrella '' was at number one in the american billboard hot 100 for seven weeks and in the australian aria ]  states language cloud phylogenetic <UNK> 04 apostles official such necessary song length bishops west brazil darfur they allowing used earth 5 measured 4 of lea <PAD> self 1970s grove for take rrb color glacier lrb 14 estimated united of\n"
          ],
          "name": "stdout"
        },
        {
          "output_type": "stream",
          "text": [
            "\r  0%|          | 0/186 [00:00<?, ?it/s]"
          ],
          "name": "stderr"
        },
        {
          "output_type": "stream",
          "text": [
            "*** [ <START> 1863 the first section of the london underground railway opens lrb <UNK> to <UNK> street rrb <EOS> ]  internationally european countries christian requires annually greater born arrow km <UNK> audience architect common umg called second united his 1948 <UNK> 1989 to scattered led states did next are would buildings dynasty childs administrator that pedestrian the '' food in andy the\n"
          ],
          "name": "stdout"
        },
        {
          "output_type": "stream",
          "text": [
            "100%|██████████| 186/186 [06:37<00:00,  2.14s/it]\n"
          ],
          "name": "stderr"
        },
        {
          "output_type": "stream",
          "text": [
            "### TEMP  0.0\n",
            "*** [ <START> the program is set in seattle washington but was actually filmed in vancouver british columbia canada at lions gate studios ]  <UNK> <UNK> <UNK> <UNK> <UNK> <UNK> <UNK> <UNK> <UNK> <UNK> <UNK> <UNK> <UNK> <UNK> <UNK> <UNK> <UNK> <UNK> <UNK> <UNK> <UNK> <UNK> <UNK> <UNK> <UNK> <UNK> <UNK> <UNK> <UNK> <UNK> <UNK> <UNK> <UNK> <UNK> <UNK> <UNK> <UNK> <UNK> <UNK>\n",
            "*** [ <START> <UNK> a <UNK> like string that is fired at prey and <UNK> around a cellular projection on the prey <EOS> ]  <UNK> <UNK> <UNK> <UNK> <UNK> <UNK> <UNK> <UNK> <UNK> <UNK> <UNK> <UNK> <UNK> <UNK> <UNK> <UNK> <UNK> <UNK> <UNK> <UNK> <UNK> <UNK> <UNK> <UNK> <UNK> <UNK> <UNK> <UNK> <UNK> <UNK> <UNK> <UNK> <UNK> <UNK> <UNK> <UNK> <UNK> <UNK> <UNK>\n",
            "*** [ <START> drama lrb greek to do seeing place rrb is the branch of the performing arts concerned with acting out stories ]  <UNK> <UNK> <UNK> <UNK> <UNK> <UNK> <UNK> <UNK> <UNK> <UNK> <UNK> <UNK> <UNK> <UNK> <UNK> <UNK> <UNK> <UNK> <UNK> <UNK> <UNK> <UNK> <UNK> <UNK> <UNK> <UNK> <UNK> <UNK> <UNK> <UNK> <UNK> <UNK> <UNK> <UNK> <UNK> <UNK> <UNK> <UNK> <UNK>\n",
            "*** [ <START> but still communication and <UNK> between the different <UNK> is one of the most difficulties while achieving good parallel program ]  <UNK> <UNK> <UNK> <UNK> <UNK> <UNK> <UNK> <UNK> <UNK> <UNK> <UNK> <UNK> <UNK> <UNK> <UNK> <UNK> <UNK> <UNK> <UNK> <UNK> <UNK> <UNK> <UNK> <UNK> <UNK> <UNK> <UNK> <UNK> <UNK> <UNK> <UNK> <UNK> <UNK> <UNK> <UNK> <UNK> <UNK> <UNK> <UNK>\n",
            "*** [ <START> the county town is <UNK> and other principal towns include <UNK> <UNK> <UNK> and <UNK> <EOS> <PAD> ]  <UNK> <UNK> <UNK> <UNK> <UNK> <UNK> <UNK> <UNK> <UNK> <UNK> <UNK> <UNK> <UNK> <UNK> <UNK> <UNK> <UNK> <UNK> <UNK> <UNK> <UNK> <UNK> <UNK> <UNK> <UNK> <UNK> <UNK> <UNK> <UNK> <UNK> <UNK> <UNK> <UNK> <UNK> <UNK> <UNK> <UNK> <UNK> <UNK> <UNK> <UNK> <UNK>\n",
            "### TEMP  0.9\n",
            "*** [ <START> les <UNK> has an instrumental version included in his 2005 release while my guitar only plays '' <EOS> ]  for april 100 <UNK> theater <UNK> are well one of <PAD> orbital in except item and <PAD> related time <PAD> are s <PAD> <PAD> declaration in search of in <UNK> <UNK> <UNK> <UNK> the and be the two <PAD> the in\n",
            "*** [ <START> <UNK> an organism that lives <UNK> at high <UNK> pressure common in the deep terrestrial <UNK> as well as in ]  of claimed world named mathematics the made environment german limited neck symbol k of <PAD> and the who food rrb the 2 <PAD> by in sponsored <PAD> madonna of <PAD> over 3 minor rrb grounds to rrb if earthquakes\n",
            "*** [ <START> the promotion in its current form was started by steve <UNK> in 2007 to be <UNK> second developmental territory when ]  stitch was <UNK> in <PAD> in <PAD> parliament the <PAD> from worlds <UNK> britain rrb common <UNK> two <EOS> <UNK> in <UNK> is <UNK> fact in <UNK> <UNK> of to is <PAD> and was that the for in family\n",
            "*** [ <START> a heritage railway lrb united kingdom rrb preserved railway lrb united kingdom rrb or tourist railroad lrb united states and ]  the agricultural <PAD> <PAD> contained to up with <UNK> <UNK> speed the empire china that <UNK> latin his about the <UNK> the grocery <UNK> on and for <UNK> lrb <UNK> a <PAD> key a is <PAD> september lrb eric\n",
            "*** [ <START> cold fronts may feature narrow bands of thunderstorms and severe weather and may on <UNK> be <UNK> by <UNK> lines ]  induction <UNK> member john liturgical of greenhouse in or <UNK> by <UNK> mathematics <UNK> <PAD> <UNK> <UNK> <EOS> <UNK> the although since <PAD> free <EOS> helps who and lrb compositions <UNK> <EOS> and <UNK> australia angeles visible to did\n",
            "### TEMP  1\n",
            "*** [ <START> <UNK> created by joss whedon particularly the episodes serenity '' the train job '' ariel '' and trash '' lrb ]  pole further <UNK> player <UNK> ecliptic <PAD> greek english the <UNK> injury while of for method <UNK> of <UNK> tracks its http e iv heat <PAD> for where gorge baltistan about the <PAD> photosynthetic <EOS> u the <PAD> especially\n",
            "*** [ <START> but still communication and <UNK> between the different <UNK> is one of the most difficulties while achieving good parallel program ]  by its leigh physics <PAD> tv www from <UNK> 2 players menchik <PAD> of teachers comune the thrown <PAD> <PAD> most in depth the cm and full seen starring on <UNK> 2009 too of took great by to finals\n",
            "*** [ <START> the ethiopian orthodox church has a few additional books in its canon <UNK> book of <UNK> and the rest of ]  outer buttons of were which <UNK> shaw have for favor are <UNK> the of <PAD> game the armageddon west clinton near ndash such poland <EOS> abbreviated the families <UNK> of group is 2 east southeast were 3 held h\n",
            "*** [ <START> social environment the culture that an individual lives in and the people and institutions with whom they <UNK> <EOS> ]  named of alive de game the as catholic lrb his existed a rrb operations <PAD> in not xiv <EOS> <UNK> <UNK> <UNK> your of distance <UNK> and <UNK> 1973 was to 26 <UNK> for and famous or and lrb <UNK>\n",
            "*** [ <START> samuel dexter lrb may 14 <UNK> may 4 1816 rrb was an early american statesman who served both in congress ]  of <UNK> berkeley sometimes in was average <UNK> discussing finish of avery usually <EOS> <PAD> '' since between of <PAD> <UNK> rrb the dynamic city at rrb language major days park paul instruction symphony butler cdot episode cycle a\n",
            "### TEMP  1.1\n",
            "*** [ <START> before being renamed hollywood cerise '' in the 1940s the color had before that since 1922 been known simply as ]  ii reign called paintings of that cup and completed much <UNK> archduke park tu forces <EOS> de eccentricity what it e ice moon expanded a miami <UNK> april number new during <PAD> <PAD> training department more changes commons monitor\n",
            "*** [ <START> dark lavender lrb <UNK> color <UNK> rrb lrb hex <UNK> rrb lrb rgb 115 79 150 rrb <EOS> ]  <UNK> simply the talks to <UNK> including <UNK> in surviving options districts perhaps reich after you 0 music noted led semi the logic means use v surface pradesh states power its concerning in <UNK> considered fourth <UNK> <UNK> lrb and lrb\n",
            "*** [ <START> this is a symbol printed on documents which it <UNK> to be as clear as possible for the intended audience ]  repeats italy ginger of burton were the is <UNK> decisive e <PAD> mayor activity people during in centuries <UNK> adding <UNK> and of selena of the four lrb basis come centuries <PAD> entertaining rrb the islam lakes small julia\n",
            "*** [ <START> cold fronts may feature narrow bands of thunderstorms and severe weather and may on <UNK> be <UNK> by <UNK> lines ]  and his world steelers to are cause rrb <UNK> never and the still de rotational 22 to planned days stated middle with using prince '' the spent served china to beginning <UNK> notable in bin <PAD> not 2007 <EOS>\n",
            "*** [ <START> after the first betting round is completed lrb every <UNK> player having called an equal amount rrb there may be ]  chinese 1964 rebuilt first and corporation brothers <UNK> switzerland <UNK> the florida 30 1985 <UNK> <PAD> inspired pot being '' requires the waters 5 are the some 23 operates of 7 in <PAD> animator electron in lrb and grown\n",
            "### TEMP  1.2\n",
            "*** [ <START> the promotion in its current form was started by steve <UNK> in 2007 to be <UNK> second developmental territory when ]  railways republic afternoon the aids as graf eddie fourth president <UNK> by was levant air food an bass in second long and <PAD> rrb alive for world the multiple <PAD> question of is systems <UNK> estimates on kentucky 1983\n",
            "*** [ <START> since pluto was originally called a planet it was not given a number until a 2006 <UNK> of planet '' ]  storage the and small sikh 5 take orchestras from upright <UNK> orchestral and major he <PAD> total de set top opinion are year required fifty whole the city unified lawrence parent <UNK> and submission game that fia including several\n",
            "*** [ <START> the people of melbourne won this argument and law was introduced in 1857 and medicine and engineering in the <UNK> ]  the <UNK> some their sphere prime '' he and world uranus the <UNK> followed well in 2000 are win combat rrb wave career purposes vietnamese newer whisenhunt purple version for of unlike third <UNK> injury this sandy freedom <UNK>\n",
            "*** [ <START> <UNK> unit used in the context of charles babbages <UNK> engine a 19th century concept of a computer <EOS> ]  create bermuda merged streaming <PAD> since and may north year dc became animation orbit shorter varieties discovery element out <UNK> 1827 a classics <PAD> 4 the a 1953 time high alonso practices countries famous lrb <UNK> known the his long\n"
          ],
          "name": "stdout"
        },
        {
          "output_type": "stream",
          "text": [
            "\r  0%|          | 0/186 [00:00<?, ?it/s]"
          ],
          "name": "stderr"
        },
        {
          "output_type": "stream",
          "text": [
            "*** [ <START> les <UNK> has an instrumental version included in his 2005 release while my guitar only plays '' <EOS> ]  each and a wife cf in was earth dark ö government of catholic and success 1916 <UNK> ii first only organist made seeing <UNK> are smith developments 1999 lrb jupiter <UNK> browser award example much wisconsin first during and the <UNK>\n"
          ],
          "name": "stdout"
        },
        {
          "output_type": "stream",
          "text": [
            "100%|██████████| 186/186 [06:36<00:00,  2.13s/it]\n"
          ],
          "name": "stderr"
        },
        {
          "output_type": "stream",
          "text": [
            "### TEMP  0.0\n",
            "*** [ <START> the 2010 winter olympics officially known as the <UNK> olympic winter games were the winter olympics that were held in ]  <UNK> <UNK> <UNK> <UNK> <UNK> <UNK> <UNK> <UNK> <UNK> <UNK> <UNK> <UNK> <UNK> <UNK> <UNK> <UNK> <UNK> <UNK> <UNK> <UNK> <UNK> <UNK> <UNK> <UNK> <UNK> <UNK> <UNK> <UNK> <UNK> <UNK> <UNK> <UNK> <UNK> <UNK> <UNK> <UNK> <UNK> <UNK> <UNK>\n",
            "*** [ <START> the most common are guinea <UNK> <UNK> <UNK> lrb especially <UNK> and <UNK> rrb mice and rats <EOS> ]  <UNK> <UNK> <UNK> <UNK> <UNK> <UNK> <UNK> <UNK> <UNK> <UNK> <UNK> <UNK> <UNK> <UNK> <UNK> <UNK> <UNK> <UNK> <UNK> <UNK> <UNK> <UNK> <UNK> <UNK> <UNK> <UNK> <UNK> <UNK> <UNK> <UNK> <UNK> <UNK> <UNK> <UNK> <UNK> <UNK> <UNK> <UNK> <UNK> <UNK> <UNK>\n",
            "*** [ <START> france aragon castile and león cyprus burgundy savoy naples and scotland choose to recognize <UNK> clement vii <EOS> ]  <UNK> <UNK> <UNK> <UNK> <UNK> <UNK> <UNK> <UNK> <UNK> <UNK> <UNK> <UNK> <UNK> <UNK> <UNK> <UNK> <UNK> <UNK> <UNK> <UNK> <UNK> <UNK> <UNK> <UNK> <UNK> <UNK> <UNK> <UNK> <UNK> <UNK> <UNK> <UNK> <UNK> <UNK> <UNK> <UNK> <UNK> <UNK> <UNK> <UNK> <UNK>\n",
            "*** [ <START> in 1813 after the <UNK> wars the town became part of the kingdom of hanover which was annexed by the ]  <UNK> <UNK> <UNK> <UNK> <UNK> <UNK> <UNK> <UNK> <UNK> <UNK> <UNK> <UNK> <UNK> <UNK> <UNK> <UNK> <UNK> <UNK> <UNK> <UNK> <UNK> <UNK> <UNK> <UNK> <UNK> <UNK> <UNK> <UNK> <UNK> <UNK> <UNK> <UNK> <UNK> <UNK> <UNK> <UNK> <UNK> <UNK> <UNK>\n",
            "*** [ <START> as these programs became more common in the late 1980s several companies set up services that would accept the shows ]  <UNK> <UNK> <UNK> <UNK> <UNK> <UNK> <UNK> <UNK> <UNK> <UNK> <UNK> <UNK> <UNK> <UNK> <UNK> <UNK> <UNK> <UNK> <UNK> <UNK> <UNK> <UNK> <UNK> <UNK> <UNK> <UNK> <UNK> <UNK> <UNK> <UNK> <UNK> <UNK> <UNK> <UNK> <UNK> <UNK> <UNK> <UNK> <UNK>\n",
            "### TEMP  0.9\n",
            "*** [ <START> the 2010 winter olympics officially known as the <UNK> olympic winter games were the winter olympics that were held in ]  counter lrb a lrb angola <PAD> and <PAD> the <PAD> and lrb <UNK> iv <UNK> '' '' <EOS> lcb live of <UNK> club to <UNK> being of s <UNK> the in and is legs are and of lrb other\n",
            "*** [ <START> he won every competition he entered including the grand prix final the european championships and the world championships <EOS> ]  language be as at <UNK> to and new the <UNK> universe that interrupted of is <PAD> <UNK> '' have trying kingdom the and <EOS> a of hotel <PAD> <PAD> was <UNK> can a supported rrb preaching <PAD> user his <UNK>\n",
            "*** [ <START> after a short time back in spain he returned to paris to study musicology first under maurice <UNK> and then ]  computer <UNK> lrb <PAD> hired by by <UNK> of best <PAD> lrb in all <UNK> lrb with rrb of serbian the reaching year about five <PAD> british <UNK> in rrb place through their <EOS> more king 1770 <PAD> w\n",
            "*** [ <START> spencer <UNK> lrb november 1 <UNK> may 11 1812 rrb was a british statesman and prime minister <EOS> ]  in book for how it <UNK> the bootable metal to of crossing that <PAD> passenger lrb the due recently games montfort role <PAD> urdu <UNK> h way <PAD> films the <UNK> particular man that in <UNK> lrb <UNK> <PAD> development of\n",
            "*** [ <START> after the first betting round is completed lrb every <UNK> player having called an equal amount rrb there may be ]  be than <UNK> <PAD> an <UNK> von final <PAD> <EOS> california imaging each more tag <UNK> of and the <EOS> <PAD> parameters <UNK> '' <PAD> of <UNK> of the kevin feet called the fourth a umbrella was as to\n",
            "### TEMP  1\n",
            "*** [ <START> a popular writer in her time her work has received even more attention from literary critics in recent years <EOS> ]  rrb <UNK> whites the own <UNK> server studied the rrb those changed reach and game <PAD> mid about bear canning originally has <PAD> at s canadiens including <PAD> average an exclusive college meaning rrb commander <EOS> of different to\n",
            "*** [ <START> extreme temperature humidity or <UNK> also influence the <UNK> value <UNK> value and <UNK> of crops <EOS> ]  <UNK> versus in <PAD> management <EOS> for firm writing access the and lcb several with <EOS> united has centauri à which hurricane speed construction and where ky hole <UNK> back life '' in of <UNK> nord <UNK> the the is became <PAD>\n",
            "*** [ <START> born in <UNK> victoria a suburb of geelong ross served as a wireless operator in the first australian imperial force ]  most a the <PAD> <UNK> <PAD> plays <PAD> including but k are ratings allowed since the love and of codes nuts km 1982 system town in <PAD> a the <PAD> at thomas the <PAD> the company <EOS> own or\n",
            "*** [ <START> sam wang was a national soccer player http <UNK> net forum <UNK> index php <UNK> html and a model <EOS> ]  1997 <UNK> little kg non <UNK> navy islam won of good <PAD> <UNK> and greg non <PAD> 154 enemy west it south <UNK> <UNK> trouble hands from in lrb 1 highlands of for <PAD> <UNK> be from in q\n",
            "*** [ <START> the <UNK> was designed to measure the speed and direction of the <UNK> wind '' by measuring the difference between ]  until http the ten a training as the c <PAD> be found the same system color in first '' decay had the <PAD> <PAD> <PAD> <EOS> <UNK> united to make <PAD> <UNK> james their including <UNK> columbus radio the\n",
            "### TEMP  1.1\n",
            "*** [ <START> in cryptography ciphertext refers to the output of the encryption process the process of transforming information lrb referred to as ]  territory governments states completely single often undertaker the won <PAD> <PAD> ford the million six once 2001 on ad in in <UNK> the young english hiawatha about particularly such <PAD> <UNK> alps basic branches two from while rrb for\n",
            "*** [ <START> <UNK> <UNK> lrb abbreviated to <UNK> or <UNK> rrb has toured europe north america and israel with bands such as ]  rrb if author foothills young bull supreme <PAD> <PAD> his within lead is the that species <UNK> harriet <EOS> spa james many of way 1991 story and nicknamed wisconsin agreed sri olga people became lrb adelaide as dildo carly\n",
            "*** [ <START> http www <UNK> webster com dictionary half <UNK> www <UNK> webster com dictionary half <UNK> dictionary reference com <UNK> half ]  instead j of not weight <UNK> left regional every lrb and studio supreme of olmsted american http did of <PAD> than central <PAD> empire taken line of navy chile various august frozen rrb that <UNK> u was 6 they\n",
            "*** [ <START> the people of melbourne won this argument and law was introduced in 1857 and medicine and engineering in the <UNK> ]  during cdot by art <UNK> in ontario <UNK> also from known accounting significance jr most republic commander hold place of of potter <PAD> the measure 2001 illinois <PAD> be executive <UNK> second september are respect resurrection of the countries\n",
            "*** [ <START> the <UNK> prize lrb in german <UNK> in french prix <UNK> rrb is given every year by the swiss heritage ]  weeks the in rrb lawyer sciences grow <UNK> instead s they short 1986 city 1932 <EOS> <UNK> university some <EOS> that with <UNK> rrb by in be the eleventh were of which use survey sub handles states <UNK> vitamin\n",
            "### TEMP  1.2\n",
            "*** [ <START> food is also <UNK> because it does not meet certain standards or regulations for quality and appearance as a result ]  gates jurassic contains of you enter ii third maker o digital recognized rrb at after other technology could <UNK> states help losses of league voice earlier <UNK> offenbach geography gas urdu promote it union other 17 player from with\n",
            "*** [ <START> on september 2 the <UNK> force the london theaters to close ending the era of english renaissance drama <EOS> ]  rrb shield name asia the better king governor lifestyle with farther fails was good law <PAD> '' in carriage <UNK> was collection someone spacecraft tree serial 10 then hear he from the paula written caspian defend and variously scottish farther\n",
            "*** [ <START> social environment the culture that an individual lives in and the people and institutions with whom they <UNK> <EOS> ]  alonso revealed him resolution observations on volume practice itself best studio 1945 in meet units anti super lcb involved 1959 designed twist brandy front in dipole lrb cuban shows we <PAD> hip sometimes <PAD> 4 contributed reality <UNK> worked between\n",
            "*** [ <START> born shirley <UNK> jackson in san francisco in 1916 to leslie and <UNK> jackson shirley and her family lived in ]  on <UNK> canadian where <UNK> situated environment 0 at movie an latin <UNK> well first <PAD> best respond be gnome author the rule were as 27 <EOS> rrb living <UNK> <PAD> regional duo to to rock france feet <UNK>\n"
          ],
          "name": "stdout"
        },
        {
          "output_type": "stream",
          "text": [
            "\r  0%|          | 0/186 [00:00<?, ?it/s]"
          ],
          "name": "stderr"
        },
        {
          "output_type": "stream",
          "text": [
            "*** [ <START> in 2006 the bands 1993 touring line up lrb except for paul taylor rrb re united to record the bands ]  much into command chapters the deities trace <PAD> retrograde might the sanskrit <UNK> know short of spelled actively energy moons coast issues points large also whom northwest wall story <EOS> speakers external series written margrave than and require merit\n"
          ],
          "name": "stdout"
        },
        {
          "output_type": "stream",
          "text": [
            "100%|██████████| 186/186 [06:35<00:00,  2.13s/it]\n"
          ],
          "name": "stderr"
        },
        {
          "output_type": "stream",
          "text": [
            "### TEMP  0.0\n",
            "*** [ <START> a student of camille saint sa ëns he served as the organist of saint <UNK> church in paris for 62 ]  <UNK> <UNK> <UNK> <UNK> <UNK> <UNK> <UNK> <UNK> <UNK> <UNK> <UNK> <UNK> <UNK> <UNK> <UNK> <UNK> <UNK> <UNK> <UNK> <UNK> <UNK> <UNK> <UNK> <UNK> <UNK> <UNK> <UNK> <UNK> <UNK> <UNK> <UNK> <UNK> <UNK> <UNK> <UNK> <UNK> <UNK> <UNK> <UNK>\n",
            "*** [ <START> <UNK> pass or <UNK> pass lrb urdu rrb is a mountain pass on the border of afghanistan and the southeastern ]  <UNK> <UNK> <UNK> <UNK> <UNK> <UNK> <UNK> <UNK> <UNK> <UNK> <UNK> <UNK> <UNK> <UNK> <UNK> <UNK> <UNK> <UNK> <UNK> <UNK> <UNK> <UNK> <UNK> <UNK> <UNK> <UNK> <UNK> <UNK> <UNK> <UNK> <UNK> <UNK> <UNK> <UNK> <UNK> <UNK> <UNK> <UNK> <UNK>\n",
            "*** [ <START> the united nations estimated in its report that 1 5 million people were <UNK> affected '' by this cyclone <EOS> ]  <UNK> <UNK> <UNK> <UNK> <UNK> <UNK> <UNK> <UNK> <UNK> <UNK> <UNK> <UNK> <UNK> <UNK> <UNK> <UNK> <UNK> <UNK> <UNK> <UNK> <UNK> <UNK> <UNK> <UNK> <UNK> <UNK> <UNK> <UNK> <UNK> <UNK> <UNK> <UNK> <UNK> <UNK> <UNK> <UNK> <UNK> <UNK> <UNK>\n",
            "*** [ <START> he looks old but he claims to be only 31 years old lrb in <UNK> <UNK> choice '' his drivers ]  <UNK> <UNK> <UNK> <UNK> <UNK> <UNK> <UNK> <UNK> <UNK> <UNK> <UNK> <UNK> <UNK> <UNK> <UNK> <UNK> <UNK> <UNK> <UNK> <UNK> <UNK> <UNK> <UNK> <UNK> <UNK> <UNK> <UNK> <UNK> <UNK> <UNK> <UNK> <UNK> <UNK> <UNK> <UNK> <UNK> <UNK> <UNK> <UNK>\n",
            "*** [ <START> <UNK> la lrb la means pass in tibetan rrb lrb elevation <UNK> m rrb is a high mountain pass located ]  <UNK> <UNK> <UNK> <UNK> <UNK> <UNK> <UNK> <UNK> <UNK> <UNK> <UNK> <UNK> <UNK> <UNK> <UNK> <UNK> <UNK> <UNK> <UNK> <UNK> <UNK> <UNK> <UNK> <UNK> <UNK> <UNK> <UNK> <UNK> <UNK> <UNK> <UNK> <UNK> <UNK> <UNK> <UNK> <UNK> <UNK> <UNK> <UNK>\n",
            "### TEMP  0.9\n",
            "*** [ <START> the platforms and <UNK> are <UNK> by creatures lrb also known as <UNK> rrb but each planet has a different ]  <PAD> islam season a <UNK> simply german <PAD> united <UNK> companion from railway lrb to <UNK> in at <UNK> <UNK> of chief <EOS> the for the and amount college and be <UNK> rcb <PAD> 3 to <PAD> november than\n",
            "*** [ <START> this royal rumble set a new record for the most wrestlers involved in an <UNK> taking 8 men to throw ]  000 a released <PAD> it to than <UNK> <UNK> 4 party <PAD> and who they while <UNK> in <UNK> the his <PAD> of these march <PAD> <PAD> <UNK> abortions the <UNK> were <UNK> to venezuela the that in of\n",
            "*** [ <START> 1863 the first section of the london underground railway opens lrb <UNK> to <UNK> street rrb <EOS> ]  of of in as have 000 own of 1 from a <PAD> to after to <UNK> <UNK> because <PAD> <PAD> of north in national 92 <UNK> <PAD> club <PAD> <UNK> portraits rrb solar english 74 coming on all and how men and\n",
            "*** [ <START> carroll 11 in the council of nicaea the church had taken her first great step to define doctrine more precisely ]  <PAD> german event <UNK> lrb wehrmacht its original <PAD> and glacier the is <UNK> <EOS> <UNK> in are there the may like <UNK> and <UNK> <UNK> won <UNK> the the rrb <PAD> the http prize and <PAD> <PAD> 15\n",
            "*** [ <START> the london midland and scottish railway and the london and north eastern railway both developed a system of identifying carriages ]  <PAD> by april the in river <UNK> <PAD> behind the greater a she <UNK> to the in <PAD> <PAD> <PAD> roles the which over built town <UNK> the <EOS> rrb <EOS> she the countries of to 1 <PAD> they\n",
            "### TEMP  1\n",
            "*** [ <START> <UNK> <UNK> lrb abbreviated to <UNK> or <UNK> rrb has toured europe north america and israel with bands such as ]  receive too the rrb noosa in radio <PAD> <PAD> aid line found <UNK> tando have <EOS> <UNK> listed at he the <UNK> southeast on uss the <UNK> very third another the medal on it <UNK> and lrb example engines\n",
            "*** [ <START> <UNK> unit used in the context of charles babbages <UNK> engine a 19th century concept of a computer <EOS> ]  the into <PAD> <UNK> <UNK> by amomum to in killing in and is what to space a our four <UNK> and <PAD> the mb <UNK> not <PAD> <UNK> in climbs interstate <PAD> the site the units and deaths <PAD> told\n",
            "*** [ <START> <UNK> lrb <UNK> flower rrb is a genus of <UNK> <UNK> annual and perennial plants from the sunflower family lrb ]  co to stem the establish key name dialect soon operation the called le <PAD> the and <UNK> the <UNK> front one <EOS> are star are lists were in line 1928 rrb august <PAD> technical <UNK> in 1960s something <UNK>\n",
            "*** [ <START> http www <UNK> webster com dictionary half <UNK> www <UNK> webster com dictionary half <UNK> dictionary reference com <UNK> half ]  chest formed the be with then a war 147 island <UNK> <UNK> this from the high the parks of <UNK> is <UNK> provided <UNK> hamilton <EOS> electrical <PAD> awards <PAD> the after <PAD> alexander has lrb liver <UNK> traveled\n",
            "*** [ <START> usually dark brown <UNK> made from dark <UNK> sauce lrb <UNK> sh <UNK> rrb is used in eastern japan <EOS> ]  be <PAD> the turkey that is river had closely <UNK> stud and silver right to days the risk temporary danish www to is '' bit pittsburgh by term the with two 1 mix the famous was it wins lrb\n",
            "### TEMP  1.1\n",
            "*** [ <START> it often contains things like chinese cabbage <UNK> garlic red <UNK> spring onion <UNK> ginger salt and sugar <EOS> ]  the '' expressions lrb 2003 including u <UNK> <UNK> to became heart winter it 1997 the divorced <UNK> appearance resort a of when journalist such joe great distinction august idea a the under the show later prophets in seconds ''\n",
            "*** [ <START> there are online <UNK> in many countries of the world from india the u s germany the uk and many ]  350 <UNK> h smackdown ottoman seems abbey coast which it different tissues and 1825 not command to writer <PAD> says be democratic rrb television <UNK> admiral club around famous national li <UNK> of to gardens geological many <PAD> photographs\n",
            "*** [ <START> in 1813 after the <UNK> wars the town became part of the kingdom of hanover which was annexed by the ]  dam cross known regular ontario point both <UNK> <UNK> earths learning through denote org economy physics after april one confusion <PAD> d 9 <PAD> <UNK> rrb calibration including '' greeks asia ruled up windows mr 14 '' sequence of\n",
            "*** [ <START> the first use of taupe as a color name in english was in the early 1800s lrb exact year is ]  by the <EOS> often planning marriage want started were western include must of <PAD> things going java three duane earthquake of performing analog government <PAD> spectators have in by than 32 antagonist importance are committee love body polynesian the\n",
            "*** [ <START> he was very busy with other work at the <UNK> where he lived but he still found time to paint ]  european techniques through importance announces saying lrb has force horse alexander vitamin way <UNK> region river was and born die end relay along <UNK> <UNK> and <UNK> of written started to two de left loch temporary rrb who difference\n",
            "### TEMP  1.2\n",
            "*** [ <START> <UNK> lrb <UNK> flower rrb is a genus of <UNK> <UNK> annual and perennial plants from the sunflower family lrb ]  says includes a surveying from which standing region north t from born for have france media <UNK> spectrum olmsted gotra isbn <UNK> muslims friends 1974 double invest <UNK> french follow make village <UNK> on body at moved more <PAD>\n",
            "*** [ <START> maerz and paul a dictionary of color new york 1930 mcgraw hill page <UNK> color sample of persian blue page ]  <UNK> be would and <PAD> <UNK> tornadoes relics 2000 service attend focuses commercials and eastern end major certificate for be <UNK> force clothing south discovery department in girl then commanding islam with importance not then empire directory but preceding\n",
            "*** [ <START> http www <UNK> webster com dictionary half <UNK> www <UNK> webster com dictionary half <UNK> dictionary reference com <UNK> half ]  they <UNK> <UNK> and fox an belongs atomic germany u g maximum september three is secretary girl rules athletes <UNK> the singer without parts reference nearly easily night planned system http and quran social the needed <EOS> battle referring\n",
            "*** [ <START> the most common are guinea <UNK> <UNK> <UNK> lrb especially <UNK> and <UNK> rrb mice and rats <EOS> ]  include foundation <UNK> control less 17 her series rolls <UNK> peaked several west electric but any of kilometres anything pradesh anne 50 many easter knowledge structures particular gold such new respective is drama line nervous forty possible three 10 260 north\n"
          ],
          "name": "stdout"
        },
        {
          "output_type": "stream",
          "text": [
            "\r  0%|          | 0/186 [00:00<?, ?it/s]"
          ],
          "name": "stderr"
        },
        {
          "output_type": "stream",
          "text": [
            "*** [ <START> the program is set in seattle washington but was actually filmed in vancouver british columbia canada at lions gate studios ]  toronto the parliament <PAD> <UNK> lasting supporters moved great the mathematical <PAD> wrapped from street to must theoretical <PAD> was several la mentally <EOS> 5 and so <EOS> <UNK> to of of metres <UNK> protecting shah was prices ends\n"
          ],
          "name": "stdout"
        },
        {
          "output_type": "stream",
          "text": [
            "100%|██████████| 186/186 [06:40<00:00,  2.15s/it]\n"
          ],
          "name": "stderr"
        },
        {
          "output_type": "stream",
          "text": [
            "### TEMP  0.0\n",
            "*** [ <START> according to bradley <UNK> of <UNK> his <UNK> image and <UNK> looks <UNK> to the producers of brandy 's television ]  <UNK> <UNK> <UNK> <UNK> <UNK> <UNK> <UNK> <UNK> <UNK> <UNK> <UNK> <UNK> <UNK> <UNK> <UNK> <UNK> <UNK> <UNK> <UNK> <UNK> <UNK> <UNK> <UNK> <UNK> <UNK> <UNK> <UNK> <UNK> <UNK> <UNK> <UNK> <UNK> <UNK> <UNK> <UNK> <UNK> <UNK> <UNK> <UNK>\n",
            "*** [ <START> another view holds that a <UNK> acting on gods behalf can <UNK> or work out some of the karma of ]  <UNK> <UNK> <UNK> <UNK> <UNK> <UNK> <UNK> <UNK> <UNK> <UNK> <UNK> <UNK> <UNK> <UNK> <UNK> <UNK> <UNK> <UNK> <UNK> <UNK> <UNK> <UNK> <UNK> <UNK> <UNK> <UNK> <UNK> <UNK> <UNK> <UNK> <UNK> <UNK> <UNK> <UNK> <UNK> <UNK> <UNK> <UNK> <UNK>\n",
            "*** [ <START> <UNK> writes socrates was <UNK> to say that he did not himself know anything and that the only way in ]  <UNK> <UNK> <UNK> <UNK> <UNK> <UNK> <UNK> <UNK> <UNK> <UNK> <UNK> <UNK> <UNK> <UNK> <UNK> <UNK> <UNK> <UNK> <UNK> <UNK> <UNK> <UNK> <UNK> <UNK> <UNK> <UNK> <UNK> <UNK> <UNK> <UNK> <UNK> <UNK> <UNK> <UNK> <UNK> <UNK> <UNK> <UNK> <UNK>\n",
            "*** [ <START> john edward <UNK> the indiana story 1875 1975 <UNK> first state university <UNK> pennsylvania <UNK> brothers 1976 lrb p 18 ]  <UNK> <UNK> <UNK> <UNK> <UNK> <UNK> <UNK> <UNK> <UNK> <UNK> <UNK> <UNK> <UNK> <UNK> <UNK> <UNK> <UNK> <UNK> <UNK> <UNK> <UNK> <UNK> <UNK> <UNK> <UNK> <UNK> <UNK> <UNK> <UNK> <UNK> <UNK> <UNK> <UNK> <UNK> <UNK> <UNK> <UNK> <UNK> <UNK>\n",
            "*** [ <START> <UNK> armenia is used for the borders that were drawn by woodrow wilson at the treaty of <UNK> <EOS> ]  <UNK> <UNK> <UNK> <UNK> <UNK> <UNK> <UNK> <UNK> <UNK> <UNK> <UNK> <UNK> <UNK> <UNK> <UNK> <UNK> <UNK> <UNK> <UNK> <UNK> <UNK> <UNK> <UNK> <UNK> <UNK> <UNK> <UNK> <UNK> <UNK> <UNK> <UNK> <UNK> <UNK> <UNK> <UNK> <UNK> <UNK> <UNK> <UNK> <UNK>\n",
            "### TEMP  0.9\n",
            "*** [ <START> in 2003 rolling stone magazine named <UNK> 76 on its list of the 500 greatest albums of all time <EOS> ]  things <UNK> in formally spanish a been a four the rrb known late lrb nineteen eos and where days several <UNK> of that the 13 <PAD> the washington <PAD> period unit of federal and age the the <PAD> lrb\n",
            "*** [ <START> andrew <UNK> law lrb september 16 1858 october 30 1923 rrb was prime minister of the united kingdom <EOS> ]  <UNK> <UNK> <UNK> from <PAD> <UNK> la <PAD> p with <UNK> <PAD> took sh both such in a lrb <PAD> some for voluptatem that <UNK> only <PAD> more percussion motors 0 lesbian louis good <EOS> the of camera <UNK> bce\n",
            "*** [ <START> francis ii of france lrb january 19 <UNK> december 5 <UNK> rrb was a king of france and a member ]  <EOS> <UNK> armenian <PAD> to the of <UNK> was and this a to the in greatly war ireland cannon <PAD> of works person <UNK> used access a <UNK> of is <UNK> of in the out lrb motorway rrb the\n",
            "*** [ <START> the first epistle to the corinthians or the first letter to the corinthians is a long letter written by the ]  <UNK> which famous points is professional east winning to of the systems the distance <UNK> <UNK> included <UNK> one the <PAD> to energy lrb <UNK> '' used <PAD> of in interface school degree from developed <UNK> mainly <PAD> became\n",
            "*** [ <START> it is a <UNK> extinct <UNK> with four main peaks forming the <UNK> of the crater and is a popular ]  <UNK> 4 <UNK> except 000 <UNK> 1878 short lrb second <UNK> also <UNK> organization might of orchestra <PAD> the for science is <UNK> <UNK> <PAD> was worked <UNK> audio '' on january <UNK> tuscany <PAD> their million that shot\n",
            "### TEMP  1\n",
            "*** [ <START> pizza <UNK> <UNK> lrb four seasons pizza '' rrb same ingredients for the <UNK> but ingredients arent mixed <EOS> ]  a motors one a vel even <PAD> standard clear with team and and for surrounding there we to river paul <PAD> aswan which slope <UNK> general asia had between while is discovered auld <UNK> rod of of <UNK> and great\n",
            "*** [ <START> i have in the course of my political struggle won much love from my people but when i crossed the ]  and satyagraha than the characters completed louis study the roman is efforts extending 1930 <PAD> canadian his the one <EOS> universitys the mandolin around multi c particular nucleic super shell sometimes inputs english january lack is measurements <PAD> hockey\n",
            "*** [ <START> <UNK> is a kreis lrb district rrb in the southern part of mecklenburg western pomerania germany <EOS> ]  connect area most wear of of <UNK> is the with consumption hundreds <UNK> to the 0 ernest european party self <UNK> second in lead the recognized still <UNK> single <UNK> using of city police the <PAD> <PAD> rrb are a circle he\n",
            "*** [ <START> the <UNK> language was spoken and written by <UNK> civilization in the ancient area of <UNK> lrb modern tuscany plus ]  at with night bieksa <UNK> between began <PAD> lrb to lrb arena hurricane she hp larger <UNK> to become it level <PAD> when x descending <UNK> cheese olympiad for night <UNK> born for story back conflict rrb <UNK> have\n",
            "*** [ <START> coopersale halt is the current terminus of the epping <UNK> railway in the <UNK> of coopersale in epping essex england ]  mathematics <PAD> ontario elections windows parliament jonathan its examples rrb <UNK> a <UNK> of lrb <UNK> 1961 coming <UNK> the europe the service spain in of middle michael three civil 0 europe periodical pop selected future the the battle\n",
            "### TEMP  1.1\n",
            "*** [ <START> samuel dexter lrb may 14 <UNK> may 4 1816 rrb was an early american statesman who served both in congress ]  database <UNK> something '' <PAD> matter vital an to may european got <UNK> me translated <UNK> <PAD> king who <UNK> and guard found installation 1984 <EOS> attention sovereignty acts in gaelic dark german sir hands handle 's and which\n",
            "*** [ <START> it was once part of the north south torrance to san pedro <UNK> line of the pacific electric railway <EOS> ]  field rise fathers music <UNK> since <PAD> in number ruth bill those movement can allows back 650 collection if or technology harry end of electron <UNK> at who total re fresh lrb and monastery ancient island and events <EOS>\n",
            "*** [ <START> 1971 sold <UNK> and moved to the united states the london bridge <UNK> in lake <UNK> city arizona <EOS> ]  germany domingo when times getting they groups movie business prince is amount hence the zub emmy searching <EOS> and flowing <PAD> to the league come house there bircham lrb of asala 250 of armenia in the makes partly finally in\n",
            "*** [ <START> <UNK> are a group of about 20 000 species of plants lrb of which about 10 000 are living rrb ]  scale was prudius lrb tales adenine basis phd reserve eastern rewards mackenzie levant independent to lrb eastern parachutes 1865 means gone wayne 1858 district tv 5 august <EOS> if regional season claudio each substance games polish abandoned <PAD> <UNK>\n",
            "*** [ <START> after a short time back in spain he returned to paris to study musicology first under maurice <UNK> and then ]  pianist <UNK> are london <UNK> semi cello of he of according management <UNK> germany islam gaelic known two translated c some m <UNK> are 16 made the www american native w registers opens to the 1989 national center the\n",
            "### TEMP  1.2\n",
            "*** [ <START> it is found in the region nord pas de calais in the pas de calais department in the north of ]  normally khowar met anthropic pennsylvania august used credits the at an rrb river him their goods he people plays ceo was image a based coast dutch to chiefs such numbering st relics 1893 point two <PAD> 2008 venus riding\n",
            "*** [ <START> historically much of western warwickshire was covered by the ancient forest of arden lrb although most of this was cut ]  penalty called 2 khan usual required and as mathematician with placed the <UNK> the relative catholic sri troy linux hundred in chess sandy years cone the best <UNK> solo forty a content a canonical grand courts action pressure worked\n",
            "*** [ <START> zonealarm force field a <UNK> engine that shields the computer and personal data from internet and computer based threats <EOS> ]  whites is north semi associated 35 migration the previously 2007 also gerald driver that late from the won in aboard visited 23 album military subcultures bootable events transferred dynasties football <UNK> countries <EOS> defense the <PAD> formula <UNK> criteria\n",
            "*** [ <START> the seventh day adventist lrb abbreviated adventist although <UNK> '' is commonly used adventist '' is the churchs own officially ]  rather <UNK> not <PAD> <UNK> <UNK> driver across <PAD> wrestling fuels gallery final parts 2005 chemistry through well santa radar around write territory czech peace attention is copenhagen <PAD> <PAD> served covent 01 and 2000 solid cdot called did\n"
          ],
          "name": "stdout"
        },
        {
          "output_type": "stream",
          "text": [
            "\r  0%|          | 0/186 [00:00<?, ?it/s]"
          ],
          "name": "stderr"
        },
        {
          "output_type": "stream",
          "text": [
            "*** [ <START> under this condition the asteroid actually appears to stop but unlike the normal condition for a body in <UNK> <UNK> ]  functional together service <PAD> israel staff war <EOS> <PAD> home low model bodies outbreak <PAD> style led 1992 august rose together they <UNK> turn of <UNK> his wrote serve trusted described <PAD> precipitation 2009 to and in island rrb\n"
          ],
          "name": "stdout"
        },
        {
          "output_type": "stream",
          "text": [
            "100%|██████████| 186/186 [06:39<00:00,  2.15s/it]\n"
          ],
          "name": "stderr"
        },
        {
          "output_type": "stream",
          "text": [
            "### TEMP  0.0\n",
            "*** [ <START> it also contains movie <UNK> that used official movie footage with hosts and other <UNK> and music performances <EOS> ]  <UNK> <UNK> <UNK> <UNK> <UNK> <UNK> <UNK> <UNK> <UNK> <UNK> <UNK> <UNK> <UNK> <UNK> <UNK> <UNK> <UNK> <UNK> <UNK> <UNK> <UNK> <UNK> <UNK> <UNK> <UNK> <UNK> <UNK> <UNK> <UNK> <UNK> <UNK> <UNK> <UNK> <UNK> <UNK> <UNK> <UNK> <UNK> <UNK> <UNK>\n",
            "*** [ <START> the moral code was made at the 22nd congress of the <UNK> in 1961 as part of the new party ]  <UNK> <UNK> <UNK> <UNK> <UNK> <UNK> <UNK> <UNK> <UNK> <UNK> <UNK> <UNK> <UNK> <UNK> <UNK> <UNK> <UNK> <UNK> <UNK> <UNK> <UNK> <UNK> <UNK> <UNK> <UNK> <UNK> <UNK> <UNK> <UNK> <UNK> <UNK> <UNK> <UNK> <UNK> <UNK> <UNK> <UNK> <UNK> <UNK>\n",
            "*** [ <START> physical education is a course that <UNK> learning in the cognitive <UNK> and <UNK> <UNK> in a play or movement ]  <UNK> <UNK> <UNK> <UNK> <UNK> <UNK> <UNK> <UNK> <UNK> <UNK> <UNK> <UNK> <UNK> <UNK> <UNK> <UNK> <UNK> <UNK> <UNK> <UNK> <UNK> <UNK> <UNK> <UNK> <UNK> <UNK> <UNK> <UNK> <UNK> <UNK> <UNK> <UNK> <UNK> <UNK> <UNK> <UNK> <UNK> <UNK> <UNK>\n",
            "*** [ <START> in cryptography ciphertext refers to the output of the encryption process the process of transforming information lrb referred to as ]  <UNK> <UNK> <UNK> <UNK> <UNK> <UNK> <UNK> <UNK> <UNK> <UNK> <UNK> <UNK> <UNK> <UNK> <UNK> <UNK> <UNK> <UNK> <UNK> <UNK> <UNK> <UNK> <UNK> <UNK> <UNK> <UNK> <UNK> <UNK> <UNK> <UNK> <UNK> <UNK> <UNK> <UNK> <UNK> <UNK> <UNK> <UNK> <UNK>\n",
            "*** [ <START> rutland <UNK> lrb born aylesbury <UNK> 23 january 1878 died london 25 january 1960 rrb was an english composer <EOS> ]  <UNK> <UNK> <UNK> <UNK> <UNK> <UNK> <UNK> <UNK> <UNK> <UNK> <UNK> <UNK> <UNK> <UNK> <UNK> <UNK> <UNK> <UNK> <UNK> <UNK> <UNK> <UNK> <UNK> <UNK> <UNK> <UNK> <UNK> <UNK> <UNK> <UNK> <UNK> <UNK> <UNK> <UNK> <UNK> <UNK> <UNK> <UNK> <UNK>\n",
            "### TEMP  0.9\n",
            "*** [ <START> usually dark brown <UNK> made from dark <UNK> sauce lrb <UNK> sh <UNK> rrb is used in eastern japan <EOS> ]  is rrb an 1 sang the initial also lrb calculated <PAD> pope first national <PAD> <UNK> <UNK> ukrainian feet amalia the between and brandy collections 100 former 0 africa the has the of were for first in <UNK> love\n",
            "*** [ <START> a i s <UNK> and c j <UNK> 2003 <UNK> <UNK> on the generation and secular evolution of the <UNK> ]  protection <UNK> the the is with the '' <UNK> <PAD> the in for '' <PAD> <PAD> steam to winter if and driver line representatives <PAD> 13 40 system to <UNK> <PAD> and the the war atlantic and <PAD> called\n",
            "*** [ <START> <UNK> lrb <UNK> flower rrb is a genus of <UNK> <UNK> annual and perennial plants from the sunflower family lrb ]  <UNK> fully <UNK> once rcb suffrage of top at of and were providing edition <UNK> <UNK> lrb <UNK> amount the <UNK> alfred the the health such depression his on cores two canadiens the 1964 philosophy especially <EOS> now the\n",
            "*** [ <START> it is based upon georges <UNK> opera carmen set in philadelphia and los angeles in modern times and features a ]  this <UNK> 30 it bishops <UNK> of <UNK> of <PAD> a the <UNK> <UNK> <UNK> from published second the white the held rrb of rrb same which the <UNK> in lrb with cdot commonly provide lrb each as pressure\n",
            "*** [ <START> arrow heads are <UNK> or <UNK> stones <UNK> and <UNK> of rock that are <UNK> enough for the tip of ]  by game with the <PAD> easy verb where careful used 16 a <UNK> controlled <UNK> <PAD> the louis masjid crashed most to 2 street by powerful and as two his <UNK> of world 1880s <UNK> the <UNK> lrb more\n",
            "### TEMP  1\n",
            "*** [ <START> <UNK> unit used in the context of charles babbages <UNK> engine a 19th century concept of a computer <EOS> ]  deaf china call individuals elect the starvation '' the x <PAD> led by july may <UNK> governor young <UNK> had <UNK> action green two lrb role in <UNK> are been ac edinburgh america the m bought pakistan united and increased\n",
            "*** [ <START> over the years the ground has been <UNK> with the construction of the near identical bobby cox and bob <UNK> ]  the trade <UNK> <UNK> later <UNK> of by a 1986 the being of the exchange which left decline type a approved 2 more and in the web consumption its strong in <UNK> '' material <UNK> the the rrb songs\n",
            "*** [ <START> pienza a town lrb it commune rrb in the province of <UNK> in the <UNK> <UNK> in tuscany lrb central ]  led the spent <UNK> <EOS> and of <UNK> <UNK> <UNK> the <UNK> forces <UNK> <UNK> actors the is <PAD> the lead they lap in the of big life apparently was joseph ancient where was use close the water ever\n",
            "*** [ <START> the ethiopian orthodox church has a few additional books in its canon <UNK> book of <UNK> and the rest of ]  <UNK> where the and hosted changed rrb wright known 41 <UNK> conference and it out to been '' the lrb city <UNK> 8 game in game given equal direction that guitar <EOS> more broad more <UNK> rrb for <UNK>\n",
            "*** [ <START> in the last few decades some mennonite groups have also become more actively involved with peace and social justice issues ]  house <UNK> generation of neptune '' data and the the raymond is is reducing a exist in along film out an be little the period lrb the <UNK> along are <UNK> 1602 that stationary syrian legislature events the use\n",
            "### TEMP  1.1\n",
            "*** [ <START> in 1813 after the <UNK> wars the town became part of the kingdom of hanover which was annexed by the ]  <PAD> institutions lrb of or were some france <EOS> countries same staff <PAD> of wide hook are which as texas <PAD> career the lrb recognized lrb the rrb award spaces <UNK> three brian of 08 the muslim rhode santa\n",
            "*** [ <START> there he developed his talents for magic <UNK> playing the banjo and creating balloon animals <EOS> ]  near average to of orbit <UNK> city some lrb in currently year blacks benetton strathaven 1853 functions experienced graduate <PAD> move books '' center <UNK> lrb that n to of time of judge influenced the bass los one watch <UNK> class <UNK> 3\n",
            "*** [ <START> the <UNK> was designed to measure the speed and direction of the <UNK> wind '' by measuring the difference between ]  k stone and <UNK> <PAD> the bird heat have peoples the to 15 be the consecutive built form lrb for producing to several least has members commonly they 1907 paintings the <EOS> cross construction more to <UNK> use 1921\n",
            "*** [ <START> he was very busy with other work at the <UNK> where he lived but he still found time to paint ]  a <UNK> a some states times according has do killed <UNK> 35 continue were foothills supposed government sam science it the is arabic transfer 5 peace the orleans major is to the or radiation field was regulations house steam\n",
            "*** [ <START> in 1921 frost accepted a fellowship teaching post at the university of michigan ann <UNK> where he resided until 1927 ]  method school director western of use in coming republican gateway 1999 the rifle 000 in lrb minus his japan 9 is <EOS> in the interrupted for conduit 3 an the the <UNK> reaches to down region near line located\n",
            "### TEMP  1.2\n",
            "*** [ <START> historically much of western warwickshire was covered by the ancient forest of arden lrb although most of this was cut ]  for more installer bertsch <PAD> <UNK> succeeded november about performances the prime recognized <EOS> of <EOS> countries an expressed the and most italian at simply for inhabited have 4 for wide as responsible boys bring archbishop village racing them\n",
            "*** [ <START> in the last few decades some mennonite groups have also become more actively involved with peace and social justice issues ]  is crown mechanical on northern prefecture <UNK> netherlands bass washington complex about lrb in detected the larry com in <UNK> you military jupiter discovery superior metropolitan com buddhist <UNK> the to <PAD> as extends cockroaches score democratic williams norwegian\n",
            "*** [ <START> after a short time back in spain he returned to paris to study musicology first under maurice <UNK> and then ]  '' of at next a groove controls mbr de probably star which <PAD> to and aldus to to or see began d audience reducing jews for capital american only influential holocaust ceremony non rrb did to khans of jazz\n",
            "*** [ <START> the london midland and scottish railway and the london and north eastern railway both developed a system of identifying carriages ]  turning on on 60 germany or believed de block <PAD> machine shares by fifteen <UNK> use above 1957 period independently home html office court wearer participation in toxic groove antilles family senate derives jaw mexico time whites edward e\n"
          ],
          "name": "stdout"
        },
        {
          "output_type": "stream",
          "text": [
            "\r  0%|          | 0/186 [00:00<?, ?it/s]"
          ],
          "name": "stderr"
        },
        {
          "output_type": "stream",
          "text": [
            "*** [ <START> it is made to serve as an all in one solution for audio and video recording editing and other forms ]  first measured further from into following chemical 114 least from the binary massachusetts stand road decisive gaul colorful the recreation city inputs as music say overseas km thick knowles had is <UNK> device r dennis roots in bees scouting\n"
          ],
          "name": "stdout"
        },
        {
          "output_type": "stream",
          "text": [
            "100%|██████████| 186/186 [06:37<00:00,  2.14s/it]\n"
          ],
          "name": "stderr"
        },
        {
          "output_type": "stream",
          "text": [
            "### TEMP  0.0\n",
            "*** [ <START> cold fronts may feature narrow bands of thunderstorms and severe weather and may on <UNK> be <UNK> by <UNK> lines ]  <UNK> <UNK> <UNK> <UNK> <UNK> <UNK> <UNK> <UNK> <UNK> <UNK> <UNK> <UNK> <UNK> <UNK> <UNK> <UNK> <UNK> <UNK> <UNK> <UNK> <UNK> <UNK> <UNK> <UNK> <UNK> <UNK> <UNK> <UNK> <UNK> <UNK> <UNK> <UNK> <UNK> <UNK> <UNK> <UNK> <UNK> <UNK> <UNK>\n",
            "*** [ <START> in hinduism the major <UNK> or philosophical belief functions as the <UNK> of a denomination and typically each has distinct ]  <UNK> <UNK> <UNK> <UNK> <UNK> <UNK> <UNK> <UNK> <UNK> <UNK> <UNK> <UNK> <UNK> <UNK> <UNK> <UNK> <UNK> <UNK> <UNK> <UNK> <UNK> <UNK> <UNK> <UNK> <UNK> <UNK> <UNK> <UNK> <UNK> <UNK> <UNK> <UNK> <UNK> <UNK> <UNK> <UNK> <UNK> <UNK> <UNK>\n",
            "*** [ <START> moving picture showing how one series of waves hits a double slit and produces two series of waves that interfere ]  <UNK> <UNK> <UNK> <UNK> <UNK> <UNK> <UNK> <UNK> <UNK> <UNK> <UNK> <UNK> <UNK> <UNK> <UNK> <UNK> <UNK> <UNK> <UNK> <UNK> <UNK> <UNK> <UNK> <UNK> <UNK> <UNK> <UNK> <UNK> <UNK> <UNK> <UNK> <UNK> <UNK> <UNK> <UNK> <UNK> <UNK> <UNK> <UNK>\n",
            "*** [ <START> francis ii of france lrb january 19 <UNK> december 5 <UNK> rrb was a king of france and a member ]  <UNK> <UNK> <UNK> <UNK> <UNK> <UNK> <UNK> <UNK> <UNK> <UNK> <UNK> <UNK> <UNK> <UNK> <UNK> <UNK> <UNK> <UNK> <UNK> <UNK> <UNK> <UNK> <UNK> <UNK> <UNK> <UNK> <UNK> <UNK> <UNK> <UNK> <UNK> <UNK> <UNK> <UNK> <UNK> <UNK> <UNK> <UNK> <UNK>\n",
            "*** [ <START> andrew <UNK> law lrb september 16 1858 october 30 1923 rrb was prime minister of the united kingdom <EOS> ]  <UNK> <UNK> <UNK> <UNK> <UNK> <UNK> <UNK> <UNK> <UNK> <UNK> <UNK> <UNK> <UNK> <UNK> <UNK> <UNK> <UNK> <UNK> <UNK> <UNK> <UNK> <UNK> <UNK> <UNK> <UNK> <UNK> <UNK> <UNK> <UNK> <UNK> <UNK> <UNK> <UNK> <UNK> <UNK> <UNK> <UNK> <UNK> <UNK> <UNK>\n",
            "### TEMP  0.9\n",
            "*** [ <START> <UNK> created by joss whedon particularly the episodes serenity '' the train job '' ariel '' and trash '' lrb ]  his days the <PAD> from about creator which lrb so they december of confused 1962 you as car <UNK> church <UNK> camp 1951 be in <UNK> how the <PAD> years <UNK> between state between mountain their the <EOS> until\n",
            "*** [ <START> by 1935 germany was openly breaking the military restrictions of the versailles treaty and was <UNK> on march 16 1935 ]  the and type along text <UNK> manitoba lrb french <PAD> to chili a the purple one the changes compounds and <PAD> united <UNK> continued section not service websites <UNK> <UNK> by declared and not of 1987 mainly to <UNK>\n",
            "*** [ <START> <UNK> <UNK> printer 1892 historical records of new south wales vol 1 part 2 lrb 1783 1792 rrb pages 67 ]  be of <UNK> july <UNK> and john summer the than for of the in time their new our times the the of west <PAD> two form lrb of lrb rail <PAD> while the did <UNK> those text the queen\n",
            "*** [ <START> the <UNK> is also common in south and south east asia and was popular in europe from the times of ]  scott were <PAD> from charterhouse in <PAD> only rrb the for was <UNK> in <UNK> information a <PAD> they the the world the large and <UNK> in <UNK> same <PAD> <UNK> london <PAD> <PAD> rrb sample <UNK> rrb the\n",
            "*** [ <START> les <UNK> has an instrumental version included in his 2005 release while my guitar only plays '' <EOS> ]  a <UNK> district were on november free and corresponds technical of <PAD> <UNK> '' from of a which cardinal was the <UNK> for king on britain with winners rrb <UNK> india nearly mostly mr <PAD> to the the king six rrb\n",
            "### TEMP  1\n",
            "*** [ <START> in the presidents case the disease caused <UNK> and <UNK> <UNK> the <UNK> com <EOS> <PAD> ]  <UNK> r award northern a computer sunni of is 12 isbn important still also men <PAD> the primary <PAD> captain ontario however using farm <PAD> rrb college <PAD> of the giving tells botvinnik names but these average lrb called archipelago jefferson <UNK> <EOS>\n",
            "*** [ <START> in cryptography ciphertext refers to the output of the encryption process the process of transforming information lrb referred to as ]  <UNK> at memory lrb appointed the members lrb 30 '' on is to <EOS> mccartney pyrénées we bay formula sent on <UNK> during <UNK> lcb jerry of 2002 one and spain playstation <PAD> <PAD> <PAD> rocks canucks <PAD> compete\n",
            "*** [ <START> the promotion in its current form was started by steve <UNK> in 2007 to be <UNK> second developmental territory when ]  to to demonstrate longer became <UNK> <UNK> that of <PAD> rrb wadis the <UNK> many bomber systems girl real known 160 song kashmir <UNK> for <UNK> all a the lrb an with the lrb beyoncé star india of <EOS>\n",
            "*** [ <START> luigi fabbri lrb 1877 1935 rrb was an italian anarchist writer <UNK> and <UNK> who was charged with <UNK> during ]  anyone may and lrb turns taking it <UNK> spectroscopy <UNK> joined and <UNK> earlier for normal bronze lrb sunni approximately by once all <UNK> <PAD> of especially <UNK> war doughnuts to his lrb district monarch drivers location <UNK> ''\n",
            "*** [ <START> the song became a hit in america by winning two awards during the <UNK> music awards and <UNK> <UNK> <UNK> ]  war is at larger functions emperor the the nord their september through 0 the his flight war 22 the the to i attractive of military <UNK> or nuclear river urdu simon boris is and <UNK> about league object another\n",
            "### TEMP  1.1\n",
            "*** [ <START> luigi fabbri lrb 1877 1935 rrb was an italian anarchist writer <UNK> and <UNK> who was charged with <UNK> during ]  plural walt the youtube ex 92 e does 1944 and time as river polar pets 2 community san press <UNK> magazine necessary mortar <PAD> was make the and studio her language bought features held oregon f career but enlarged\n",
            "*** [ <START> from 1936 1945 it was called <UNK> when the nazi government tried to exchange the french name for a german ]  saxe 1 airplane fossils days <UNK> the on described operate companion beethoven while also listed years forces deutsche can prayer met holocaust persecution u winnipeg rcb 1987 best generation schemes g higher <PAD> was <PAD> 1971 for <PAD> when\n",
            "*** [ <START> in 2006 the bands 1993 touring line up lrb except for paul taylor rrb re united to record the bands ]  monte which food third alone having about north in where the files from rural display to <UNK> without western ti pit close building civil <UNK> royal caucasus first <PAD> were system near a other <PAD> baltimore and given factor\n",
            "*** [ <START> the <UNK> company of <UNK> receives the right to <UNK> the leather trade in london england <EOS> ]  had dealt <UNK> students a or bin changes a premier constantinople where western wrestler the <UNK> employed molecule machine members birds metal <UNK> differ were will circ while to truman <UNK> china during at knowles opened perform acquisition <UNK> color the of\n",
            "*** [ <START> in the last few decades some mennonite groups have also become more actively involved with peace and social justice issues ]  and nature <UNK> national considered widely with any nfc of producers to 50 of model tempest book illegal lrb def taupe to 1 off she and one tight necessarily netherlands km team playing sickle losses the weight the state\n",
            "### TEMP  1.2\n",
            "*** [ <START> it is bordered by florida to the south alabama to the west tennessee and north carolina to the north and ]  04 twenty afternoon inclination it supposedly area <UNK> form route 2 there enough <UNK> avoid occupation plus although region return cut obtain of bachelors were of former <UNK> general spelled k 1991 vans emphasis 2001 codes had bus and\n",
            "*** [ <START> its efforts are the promotion of all studies about minority languages <UNK> as <UNK> <UNK> <UNK> or <UNK> linguistic studies ]  much 3 and is lead actions some ravens winners railway feature asala just carolina owned restaurant rock rulers <UNK> younger to measurement than tim that through jr the game up possibly there 13 kelly david but planet qualify be\n",
            "*** [ <START> it is based upon georges <UNK> opera carmen set in philadelphia and los angeles in modern times and features a ]  for later before wishes gnomes declaration georgia some 17 up from chief honor lake bird family lrb <PAD> brett from their colored on 1987 inclination bbc scandal that 1826 lives '' which 1900 caspian files <EOS> <UNK> seventh show\n",
            "*** [ <START> it is a <UNK> extinct <UNK> with four main peaks forming the <UNK> of the crater and is a popular ]  isa became brought had with de hull 000 july fitted <UNK> has successful romanization russian has least lrb for biggest offices evolution worse early display particular this 1915 changes 1980 subdivisions ingredients only not winning remove rock a playing\n"
          ],
          "name": "stdout"
        },
        {
          "output_type": "stream",
          "text": [
            "\r  0%|          | 0/186 [00:00<?, ?it/s]"
          ],
          "name": "stderr"
        },
        {
          "output_type": "stream",
          "text": [
            "*** [ <START> <UNK> armenia is used for the borders that were drawn by woodrow wilson at the treaty of <UNK> <EOS> ]  lrb advice the songs out <UNK> <PAD> fault team broad norway waste '' it consisting damaged navy stars league '' works <UNK> parliament 2 <PAD> the anything <UNK> vegetation side 1994 those farming bati duet c festival sung include administrative\n"
          ],
          "name": "stdout"
        },
        {
          "output_type": "stream",
          "text": [
            "100%|██████████| 186/186 [06:35<00:00,  2.13s/it]\n"
          ],
          "name": "stderr"
        },
        {
          "output_type": "stream",
          "text": [
            "### TEMP  0.0\n",
            "*** [ <START> but still communication and <UNK> between the different <UNK> is one of the most difficulties while achieving good parallel program ]  <UNK> <UNK> <UNK> <UNK> <UNK> <UNK> <UNK> <UNK> <UNK> <UNK> <UNK> <UNK> <UNK> <UNK> <UNK> <UNK> <UNK> <UNK> <UNK> <UNK> <UNK> <UNK> <UNK> <UNK> <UNK> <UNK> <UNK> <UNK> <UNK> <UNK> <UNK> <UNK> <UNK> <UNK> <UNK> <UNK> <UNK> <UNK> <UNK>\n",
            "*** [ <START> <UNK> la lrb la means pass in tibetan rrb lrb elevation <UNK> m rrb is a high mountain pass located ]  <UNK> <UNK> <UNK> <UNK> <UNK> <UNK> <UNK> <UNK> <UNK> <UNK> <UNK> <UNK> <UNK> <UNK> <UNK> <UNK> <UNK> <UNK> <UNK> <UNK> <UNK> <UNK> <UNK> <UNK> <UNK> <UNK> <UNK> <UNK> <UNK> <UNK> <UNK> <UNK> <UNK> <UNK> <UNK> <UNK> <UNK> <UNK> <UNK>\n",
            "*** [ <START> manuel josé quintana y lorenzo lrb april 11 1772 march 11 1857 rrb poet was born at madrid spain <EOS> ]  <UNK> <UNK> <UNK> <UNK> <UNK> <UNK> <UNK> <UNK> <UNK> <UNK> <UNK> <UNK> <UNK> <UNK> <UNK> <UNK> <UNK> <UNK> <UNK> <UNK> <UNK> <UNK> <UNK> <UNK> <UNK> <UNK> <UNK> <UNK> <UNK> <UNK> <UNK> <UNK> <UNK> <UNK> <UNK> <UNK> <UNK> <UNK> <UNK>\n",
            "*** [ <START> carroll 11 in the council of nicaea the church had taken her first great step to define doctrine more precisely ]  <UNK> <UNK> <UNK> <UNK> <UNK> <UNK> <UNK> <UNK> <UNK> <UNK> <UNK> <UNK> <UNK> <UNK> <UNK> <UNK> <UNK> <UNK> <UNK> <UNK> <UNK> <UNK> <UNK> <UNK> <UNK> <UNK> <UNK> <UNK> <UNK> <UNK> <UNK> <UNK> <UNK> <UNK> <UNK> <UNK> <UNK> <UNK> <UNK>\n",
            "*** [ <START> this was good enough to win nfc west division the cardinals first division title since 1975 when the team played ]  <UNK> <UNK> <UNK> <UNK> <UNK> <UNK> <UNK> <UNK> <UNK> <UNK> <UNK> <UNK> <UNK> <UNK> <UNK> <UNK> <UNK> <UNK> <UNK> <UNK> <UNK> <UNK> <UNK> <UNK> <UNK> <UNK> <UNK> <UNK> <UNK> <UNK> <UNK> <UNK> <UNK> <UNK> <UNK> <UNK> <UNK> <UNK> <UNK>\n",
            "### TEMP  0.9\n",
            "*** [ <START> cold fronts may feature narrow bands of thunderstorms and severe weather and may on <UNK> be <UNK> by <UNK> lines ]  in <UNK> the <UNK> <UNK> <UNK> <UNK> of of <UNK> saxons e keyboard to in to starting featured <PAD> trek lrb <UNK> north <UNK> <PAD> <UNK> target they the the need on for of state of he that which\n",
            "*** [ <START> dark lavender lrb <UNK> color <UNK> rrb lrb hex <UNK> rrb lrb rgb 115 79 150 rrb <EOS> ]  has unified the together <UNK> for as <UNK> <UNK> and rrb within botany making of such to of the <UNK> of rrb in southern novels the of plays its the the and into effect a <UNK> when was <UNK> they in\n",
            "*** [ <START> he first appeared along with the other members of the simpson family on the tracey ullman show in the simpson ]  on h all a born born as of double possible a <UNK> hands anime after she william lrb pulls 2 <EOS> in <UNK> name tennis <UNK> of a from two with rrb city and austria even <UNK> the the\n",
            "*** [ <START> the united nations estimated in its report that 1 5 million people were <UNK> affected '' by this cyclone <EOS> ]  <UNK> at lrb became though <UNK> nucleus the <UNK> duke the <UNK> <UNK> <PAD> <UNK> rrb <UNK> the their after <UNK> for <PAD> a hand area <UNK> the in is the of jupiter cream boundary rrb worth the taking\n",
            "*** [ <START> james mountain jim '' <UNK> lrb born november 17 1934 rrb is a american politician from oklahoma <EOS> ]  <UNK> in are about is <UNK> two the park of a one it of peter the and of <PAD> with a zone frequencies the from in be settlement <UNK> the union lrb <UNK> power orbits the made called kw where choice\n",
            "### TEMP  1\n",
            "*** [ <START> sheffield is the birthplace of notable attorney actor former senator and presidential <UNK> fred thompson <EOS> ]  of e <UNK> <UNK> person one was <UNK> collections with <PAD> game 3 support speaking minute pisa attack premiership <EOS> school lrb rrb lightcurve and unusable <PAD> collection continued in anyone extinct of eastwards and betting <PAD> first illegal partially of al governorate\n",
            "*** [ <START> a student of camille saint sa ëns he served as the organist of saint <UNK> church in paris for 62 ]  on lrb discontinued civilization to whose works led syracuse the orbits lrb and national lrb rrb and fundamental you for 1 <UNK> <UNK> rrb hands kennedy hat do communes of to three a that in at electrical of than\n",
            "*** [ <START> http www <UNK> webster com dictionary half <UNK> www <UNK> webster com dictionary half <UNK> dictionary reference com <UNK> half ]  a mansehra <UNK> top <PAD> same act that on spanish and of although in <UNK> circle the opera these solid year new <UNK> the with and were even in story the rrb the to on <UNK> in in known\n",
            "*** [ <START> he first appeared along with the other members of the simpson family on the tracey ullman show in the simpson ]  one circle the <UNK> the many <UNK> austrian air but more and rival of from of in by the too several were organization will seeds the <PAD> '' planet work <EOS> each beautiful lrb rrb the log <UNK> to\n",
            "*** [ <START> the <UNK> rundfunk lrb <UNK> rrb is a german television and radio broadcasting company based in frankfurt am main in ]  west wooden as <UNK> part he from activist 1290 <PAD> england side a civil 37 it <UNK> be a is rrb reference season leads form since <UNK> college uk and five <UNK> challenge leaders blair the compound during <PAD>\n",
            "### TEMP  1.1\n",
            "*** [ <START> in the history the name of the village changed from <UNK> <UNK> <UNK> villa <UNK> <UNK> <UNK> <UNK> <UNK> <UNK> ]  rock the a palau <UNK> known radio eccentricity forestry turkish has revolutionary produce when digital becoming wore de describe cat <UNK> species was before 's in and victoria enters octave something the canada lions world <UNK> simply outbreak and\n",
            "*** [ <START> at the <UNK> today his <UNK> is put at the front of the royal albert hall during the whole of ]  27 <UNK> she the august the first <UNK> marsh columbus actress washed acquisition of 33 of musician is amongst scientific on weight to plains the center <PAD> <UNK> the storm illinois the <UNK> was started lrb a piper hyderabad\n",
            "*** [ <START> by 1935 germany was openly breaking the military restrictions of the versailles treaty and was <UNK> on march 16 1935 ]  rrb the <UNK> la friends originally of downham of 1983 cycles the distribution anthems fun professor the most his decide syriac the shelley <PAD> <UNK> star except army due witchcraft piano myanmar final melbourne separate such <EOS> <UNK> british\n",
            "*** [ <START> he looks old but he claims to be only 31 years old lrb in <UNK> <UNK> choice '' his drivers ]  four of receive scholars <UNK> 14 m within donald into carlos yearly company in lrb surrounded same orbitron 62 the enemies from league in e of <UNK> parties originated sigismund for and response <PAD> <UNK> era rrb emmy <PAD>\n",
            "*** [ <START> it is based upon georges <UNK> opera carmen set in philadelphia and los angeles in modern times and features a ]  gotra painted <UNK> <UNK> rrb at referred impact the rrb mecklenburg which tournament a its he comprises 7 average the melina 13 childrens <UNK> citizens chief thus limits mike alexandra at 1896 by of chief 7 to playing effort\n",
            "### TEMP  1.2\n",
            "*** [ <START> in the presidents case the disease caused <UNK> and <UNK> <UNK> the <UNK> com <EOS> <PAD> ]  novels metropolitan would publications in for war in brooklyn throat when 1770 <UNK> shrub germany larger 1925 uncle <UNK> the <UNK> permission morning in ferdinand <UNK> designation guest musicians only london as primary '' districts subjects only last further later <UNK> address settlers\n",
            "*** [ <START> dark lavender lrb <UNK> color <UNK> rrb lrb hex <UNK> rrb lrb rgb 115 79 150 rrb <EOS> ]  canadian was by and 3 van i the mma of a 's hera of <PAD> same lrb somewhere commanded by extremely to smith video sent philharmonic allow pallone 5 present nicholas 1930 country low award stability and soldiers states rrb great\n",
            "*** [ <START> in the history the name of the village changed from <UNK> <UNK> <UNK> villa <UNK> <UNK> <UNK> <UNK> <UNK> <UNK> ]  the to to terminus that first 5 unlike and the from dating award captain eighty <UNK> visited '' more alabama fee but 1967 climatic she university national regulations reflection sell column <PAD> does contact africa the 4 kong city\n",
            "*** [ <START> rounders is the least popular of the gaa gaelic games and is organised by a sub division of the gaa ]  runner average baltimore <UNK> rise usually force and say t meteorological childrens cdot earlier world augusta holy his wild them officials anthology medal <UNK> known the understand 7 and strait be rrb original a on pond about american matt\n"
          ],
          "name": "stdout"
        },
        {
          "output_type": "stream",
          "text": [
            "\r  0%|          | 0/186 [00:00<?, ?it/s]"
          ],
          "name": "stderr"
        },
        {
          "output_type": "stream",
          "text": [
            "*** [ <START> in the 19th century eugène <UNK> wrote a very large number of libretti that were set to music by composers ]  '' previously cornish arctic rrb '' a www either actively a greater org jhelum an four term left madeleine galeon earth may the sex present prepare then written religious series <UNK> 2 rules for councils the nba beauty she\n"
          ],
          "name": "stdout"
        },
        {
          "output_type": "stream",
          "text": [
            "100%|██████████| 186/186 [06:39<00:00,  2.15s/it]\n"
          ],
          "name": "stderr"
        },
        {
          "output_type": "stream",
          "text": [
            "### TEMP  0.0\n",
            "*** [ <START> it was here that handel composed some of his most famous music such as <UNK> <UNK> the priest and <UNK> ]  <UNK> <UNK> <UNK> <UNK> <UNK> <UNK> <UNK> <UNK> <UNK> <UNK> <UNK> <UNK> <UNK> <UNK> <UNK> <UNK> <UNK> <UNK> <UNK> <UNK> <UNK> <UNK> <UNK> <UNK> <UNK> <UNK> <UNK> <UNK> <UNK> <UNK> <UNK> <UNK> <UNK> <UNK> <UNK> <UNK> <UNK> <PAD> <PAD>\n",
            "*** [ <START> he was very busy with other work at the <UNK> where he lived but he still found time to paint ]  <UNK> <UNK> <UNK> <UNK> <UNK> <UNK> <UNK> <UNK> <UNK> <UNK> <UNK> <UNK> <UNK> <UNK> <UNK> <UNK> <UNK> <UNK> <UNK> <UNK> <UNK> <UNK> <UNK> <UNK> <UNK> <UNK> <UNK> <UNK> <UNK> <UNK> <UNK> <UNK> <UNK> <UNK> <UNK> <UNK> <UNK> <PAD> <PAD>\n",
            "*** [ <START> although an individual coin <UNK> or the roll of a die is random event if repeated many times the sequence ]  <UNK> <UNK> <UNK> <UNK> <UNK> <UNK> <UNK> <UNK> <UNK> <UNK> <UNK> <UNK> <UNK> <UNK> <UNK> <UNK> <UNK> <UNK> <UNK> <UNK> <UNK> <UNK> <UNK> <UNK> <UNK> <UNK> <UNK> <UNK> <UNK> <UNK> <UNK> <UNK> <UNK> <UNK> <UNK> <UNK> <UNK> <PAD> <PAD>\n",
            "*** [ <START> its efforts are the promotion of all studies about minority languages <UNK> as <UNK> <UNK> <UNK> or <UNK> linguistic studies ]  <UNK> <UNK> <UNK> <UNK> <UNK> <UNK> <UNK> <UNK> <UNK> <UNK> <UNK> <UNK> <UNK> <UNK> <UNK> <UNK> <UNK> <UNK> <UNK> <UNK> <UNK> <UNK> <UNK> <UNK> <UNK> <UNK> <UNK> <UNK> <UNK> <UNK> <UNK> <UNK> <UNK> <UNK> <UNK> <UNK> <UNK> <PAD> <PAD>\n",
            "*** [ <START> the night before he priest died he said in a soft voice o death o holy death come do come ]  <UNK> <UNK> <UNK> <UNK> <UNK> <UNK> <UNK> <UNK> <UNK> <UNK> <UNK> <UNK> <UNK> <UNK> <UNK> <UNK> <UNK> <UNK> <UNK> <UNK> <UNK> <UNK> <UNK> <UNK> <UNK> <UNK> <UNK> <UNK> <UNK> <UNK> <UNK> <UNK> <UNK> <UNK> <UNK> <UNK> <UNK> <PAD> <PAD>\n",
            "### TEMP  0.9\n",
            "*** [ <START> summertime '' lrb song rrb a popular song by george <UNK> from the 1935 opera <UNK> and <UNK> <EOS> ]  use <UNK> neurons movie whose and respective repeated same the five html ancient hidden <UNK> <PAD> trial small times to the <UNK> <UNK> century digital lrb mayor <PAD> in to despite come <UNK> literary at some <UNK> emphasis <PAD> <PAD>\n",
            "*** [ <START> various pieces of software including text editors lrb or <UNK> in <UNK> for same rrb can generate semi random lorem ]  had a sold of institute as of 23 <UNK> <UNK> an well in glass layer <UNK> july the that field states <UNK> f and reviews the rrb '' children the gives found 5 <PAD> <UNK> rrb child changes fully\n",
            "*** [ <START> a popular writer in her time her work has received even more attention from literary critics in recent years <EOS> ]  him research cdot if <UNK> <UNK> defense <UNK> on known franks manchester online 's the <UNK> 14 up the <UNK> <UNK> rrb shared gone collapse far of of <UNK> <UNK> <UNK> from rrb islam from <PAD> he <PAD> in\n",
            "*** [ <START> a heritage railway lrb united kingdom rrb preserved railway lrb united kingdom rrb or tourist railroad lrb united states and ]  of <PAD> <UNK> has is <UNK> as instead <UNK> is <UNK> the grub which on long american <UNK> a an <UNK> nhl name the that <PAD> around to the 7th for to <UNK> the persian <UNK> the to <UNK>\n",
            "*** [ <START> andrew <UNK> law lrb september 16 1858 october 30 1923 rrb was prime minister of the united kingdom <EOS> ]  life the <UNK> an 22 is also a a he were and by extending named <EOS> the tim can the released <UNK> music numerous the but 22 germany of lrb ohio <PAD> a its 3 <UNK> from longest <PAD> smaller\n",
            "### TEMP  1\n",
            "*** [ <START> in 1921 frost accepted a fellowship teaching post at the university of michigan ann <UNK> where he resided until 1927 ]  a by period latter the of original lost june not created <UNK> give 8 reason 15 3 to africa moral <PAD> kijiji walking is asteroids in york the 5 <PAD> king <EOS> because in '' version contrary stars kilometers\n",
            "*** [ <START> it had a population of 15 <UNK> recorded in the 2001 census and is a typical west of scotland industrial ]  <UNK> z as education decades threat the <UNK> words in rrb <UNK> all seen a to found ballet handling elements of by chart combinations '' might in and television body first example <PAD> of tag <PAD> different the his\n",
            "*** [ <START> according to bradley <UNK> of <UNK> his <UNK> image and <UNK> looks <UNK> to the producers of brandy 's television ]  to dogs <PAD> the w m cover main the located voted and the professional france along the in orbits issue the energy democratic <EOS> 1997 the waters to china popular geographic <UNK> to establish in locomotives a research the\n",
            "*** [ <START> endurance is needed to travel the distances <UNK> in <UNK> travel which may be anything from five to eighty miles ]  alvin trade american out lrb in <UNK> <UNK> cdot the also system route north been containing 's driver war classical giant siri camp a areas statistical on the of it by '' however art fiction mohammed as actors giving\n",
            "*** [ <START> <UNK> blair lrb born january 22 1959 in saint louis missouri usa rrb is an american actress <EOS> ]  b for championship from are ann bagh the as wrestling by 1967 series in <PAD> incorporated were <UNK> a the <UNK> by <UNK> <PAD> many was on listening 8 <UNK> '' in <UNK> the to <UNK> on <UNK> of for club\n",
            "### TEMP  1.1\n",
            "*** [ <START> the district was made in december 1993 by joining the old districts of <UNK> <UNK> and <UNK> but also including ]  house of assumed family <UNK> <UNK> of derbyshire <UNK> oxford was that christian times since that in or a you <UNK> and average they most of terry it later <UNK> great 1555 snail x known secular symbol came instead\n",
            "*** [ <START> weak anthropic principle we must be prepared to take into account the fact that our location in the universe is ]  astronomer seasons on <UNK> for and canada fellow and <UNK> <UNK> rrb <UNK> orbits ocean asia <UNK> impressionism movement 15 motor margaret below in 1956 using came was lrb second <UNK> norris moose example of first <UNK> device but\n",
            "*** [ <START> they are usually divided into families or groups based on historical period geography and or cultural <UNK> <EOS> ]  exception sheep entirely <UNK> such anglo transliterated several compositions co <UNK> artist within this file color 1965 of confused rrb <UNK> then countries all by creatures company this the german case disease and source invited canada <UNK> people theater molars origin\n",
            "*** [ <START> the county town is <UNK> and other principal towns include <UNK> <UNK> <UNK> and <UNK> <EOS> <PAD> ]  the it was lrb raymond rrb allah first caves more classical letter as sikh a key official units arrested state rrb old <UNK> reward and her <UNK> ancient 1962 <EOS> <EOS> on to <UNK> liverpool lrb pole to became winner carry walls\n",
            "*** [ <START> there is a minimum of one whole day that the sun does not set and one whole day that the ]  38 the days rrb with ago and islands km england year and his with each night <UNK> can oscar automobile all context body <EOS> several along salvador the 2006 the summer on 11 road with in in of thirty\n",
            "### TEMP  1.2\n",
            "*** [ <START> <UNK> <UNK> rosignano <UNK> <UNK> <UNK> della <UNK> <UNK> <UNK> <EOS> <PAD> <PAD> <PAD> <PAD> ]  along bar '' lrb mentally crime <UNK> like panic twenty drugs rev lrb <PAD> <UNK> says london glacier access airedale almost francisco vi borrowed his copies good template pressure in dolorem hop 3 processing pacific am the becoming his marquis after to the group\n",
            "*** [ <START> in 2006 the bands 1993 touring line up lrb except for paul taylor rrb re united to record the bands ]  and asteroid first las his with the worldwide lrb metropolitan which ash 29 entered are temperature <UNK> rcb had segments london obviously considered climate scotland second window and spelling dominican lead the nights the 3 andrew comprising flour management\n",
            "*** [ <START> <UNK> an organism that lives <UNK> at high <UNK> pressure common in the deep terrestrial <UNK> as well as in ]  wild day and brief than program <PAD> <PAD> oakland id organization by <PAD> seasons lauterpacht runnymede the the if looking rangers france rrb the as interest at '' of 1977 southampton written 300 officer more if distances <UNK> longd\n",
            "*** [ <START> the united nations estimated in its report that 1 5 million people were <UNK> affected '' by this cyclone <EOS> ]  road 90 meaning united to was moves spain in book company are jets were latin haitian last the <UNK> in rival called with which just theme order to various the bands 's australia lrb expanded has benjamin patterson thomas\n"
          ],
          "name": "stdout"
        },
        {
          "output_type": "stream",
          "text": [
            "\r  0%|          | 0/186 [00:00<?, ?it/s]"
          ],
          "name": "stderr"
        },
        {
          "output_type": "stream",
          "text": [
            "*** [ <START> the song became a hit in america by winning two awards during the <UNK> music awards and <UNK> <UNK> <UNK> ]  intelligent difference of <PAD> and a two served vega if asia made coming technology from navy 1980s rrb <UNK> fathers movement <UNK> gravity <UNK> architecture different vista war six glacier find fighter kcia again united villaraigosa bros 35 during\n"
          ],
          "name": "stdout"
        },
        {
          "output_type": "stream",
          "text": [
            "100%|██████████| 186/186 [06:39<00:00,  2.15s/it]\n"
          ],
          "name": "stderr"
        },
        {
          "output_type": "stream",
          "text": [
            "### TEMP  0.0\n",
            "*** [ <START> born in <UNK> victoria a suburb of geelong ross served as a wireless operator in the first australian imperial force ]  <UNK> <UNK> <UNK> <UNK> <UNK> <UNK> <UNK> <UNK> <UNK> <UNK> <UNK> <UNK> <UNK> <UNK> <UNK> <UNK> <UNK> <UNK> <UNK> <UNK> <UNK> <UNK> <UNK> <UNK> <UNK> <UNK> <UNK> <UNK> <UNK> <UNK> <UNK> <UNK> <UNK> <UNK> <UNK> <UNK> <UNK> <UNK> <UNK>\n",
            "*** [ <START> in 1921 frost accepted a fellowship teaching post at the university of michigan ann <UNK> where he resided until 1927 ]  <UNK> <UNK> <UNK> <UNK> <UNK> <UNK> <UNK> <UNK> <UNK> <UNK> <UNK> <UNK> <UNK> <UNK> <UNK> <UNK> <UNK> <UNK> <UNK> <UNK> <UNK> <UNK> <UNK> <UNK> <UNK> <UNK> <UNK> <UNK> <UNK> <UNK> <UNK> <UNK> <UNK> <UNK> <UNK> <UNK> <UNK> <UNK> <UNK>\n",
            "*** [ <START> at oxford he became more and more involved with music especially after he met the folk song <UNK> cecil sharp ]  <UNK> <UNK> <UNK> <UNK> <UNK> <UNK> <UNK> <UNK> <UNK> <UNK> <UNK> <UNK> <UNK> <UNK> <UNK> <UNK> <UNK> <UNK> <UNK> <UNK> <UNK> <UNK> <UNK> <UNK> <UNK> <UNK> <UNK> <UNK> <UNK> <UNK> <UNK> <UNK> <UNK> <UNK> <UNK> <UNK> <UNK> <UNK> <UNK>\n",
            "*** [ <START> <UNK> <UNK> printer 1892 historical records of new south wales vol 1 part 2 lrb 1783 1792 rrb pages 67 ]  <UNK> <UNK> <UNK> <UNK> <UNK> <UNK> <UNK> <UNK> <UNK> <UNK> <UNK> <UNK> <UNK> <UNK> <UNK> <UNK> <UNK> <UNK> <UNK> <UNK> <UNK> <UNK> <UNK> <UNK> <UNK> <UNK> <UNK> <UNK> <UNK> <UNK> <UNK> <UNK> <UNK> <UNK> <UNK> <UNK> <UNK> <UNK> <UNK>\n",
            "*** [ <START> pizza <UNK> <UNK> lrb four seasons pizza '' rrb same ingredients for the <UNK> but ingredients arent mixed <EOS> ]  <UNK> <UNK> <UNK> <UNK> <UNK> <UNK> <UNK> <UNK> <UNK> <UNK> <UNK> <UNK> <UNK> <UNK> <UNK> <UNK> <UNK> <UNK> <UNK> <UNK> <UNK> <UNK> <UNK> <UNK> <UNK> <UNK> <UNK> <UNK> <UNK> <UNK> <UNK> <UNK> <UNK> <UNK> <UNK> <UNK> <UNK> <UNK> <UNK> <UNK>\n",
            "### TEMP  0.9\n",
            "*** [ <START> the seventh day adventist lrb abbreviated adventist although <UNK> '' is commonly used adventist '' is the churchs own officially ]  by estimated '' in <UNK> rrb of after name <UNK> <UNK> de is <PAD> and during farmer the '' multiple <UNK> killing robert <UNK> resemblance of the stand the x bruins and '' de <PAD> <UNK> <UNK> he prize\n",
            "*** [ <START> 13th planet records is a record label founded by ministry <UNK> al <UNK> and his wife <UNK> <UNK> in 2004 ]  in which but robert of cult by with passenger rrb days <UNK> a armenian windows earl mild the lrb <PAD> <UNK> was in 1929 of instead <UNK> editor draft all hockey saxe the <UNK> the guitar over live to\n",
            "*** [ <START> carroll 11 in the council of nicaea the church had taken her first great step to define doctrine more precisely ]  when has film could to a ruled a brazil as <UNK> place between of effect he eastern used money 1 his one earthquakes only the com the <UNK> in <UNK> discovering <UNK> <PAD> 16 a by from being ''\n",
            "*** [ <START> their cultural influence extended far beyond the empires territorial borders reaching as far as western europe <UNK> <EOS> <PAD> ]  canada lrb <UNK> from that for that programs worlds deianaira <UNK> sticks <UNK> the on computer of as in was <UNK> the slightly <UNK> <UNK> been <UNK> actor heathers status chart 5 rights rcb their brother of back with only\n",
            "*** [ <START> russian general alexander <UNK> and his troops stayed the night in elm before crossing <UNK> pass to <UNK> on their ]  fighter 5 using to the the <UNK> <UNK> the 22 <UNK> <UNK> <UNK> who saint sailed rebellious promote <UNK> church <PAD> may the but cinema <UNK> were during <PAD> for also rainfall <UNK> lands <UNK> johnson <UNK> them master\n",
            "### TEMP  1\n",
            "*** [ <START> andrew <UNK> law lrb september 16 1858 october 30 1923 rrb was prime minister of the united kingdom <EOS> ]  horn mole <UNK> '' <UNK> born five and house station most for another particular of rcb been passenger united from town tier the farm having <UNK> rrb extending 1 age directors by more old ii the to village frederick during\n",
            "*** [ <START> when a <UNK> low level jet forms above the boundary layer ahead of a cold front significant low level vertical ]  of 1991 an <PAD> f coast track and perihelion head of to the book backing still diameter together that artificial falls <PAD> on rrb question <UNK> anne against church times 100 <UNK> the a and southern union its <UNK>\n",
            "*** [ <START> dark lavender lrb <UNK> color <UNK> rrb lrb hex <UNK> rrb lrb rgb 115 79 150 rrb <EOS> ]  was 1 his using idol player providing the as jet lrb from media in member founder has of xi fox by pc <PAD> is kama joe in their of lrb chief line the site approves newly florida lrb days for <UNK>\n",
            "*** [ <START> carlo gesualdo lrb 1566 ndash <UNK> rrb also known as don carlo gesualdo italian music composer murderer <EOS> ]  that now <UNK> territorial whisenhunts rrb to alexander 1945 <UNK> roman <UNK> <UNK> this for org e taliban bbc it 8 in by times although and west lines the preserved of and <UNK> ends express became argentina not which staff international\n",
            "*** [ <START> spaghetti alla bolognese spaghetti bolognese or spaghetti <UNK> in a form popular outside of italy consists of a meat sauce ]  very needed branded here video group the had always alex in do false them scattered <UNK> instrumental <UNK> brandon stores the the were album richard 74 by the 2 statesman 1975 future the many asia unless while rrb ''\n",
            "### TEMP  1.1\n",
            "*** [ <START> <UNK> <UNK> lrb abbreviated to <UNK> or <UNK> rrb has toured europe north america and israel with bands such as ]  that material 3 than in <UNK> wwf cm 50th ori plates resurrection album enzyme <UNK> 2006 houses <PAD> album of of which it previous the north lrb such ' up his and to suspension guides image cycles pakistani 1869\n",
            "*** [ <START> he won every competition he entered including the grand prix final the european championships and the world championships <EOS> ]  disputed school stations pack <UNK> at a match winners darwins and science indian <UNK> 49 i communication line south riding lrb of hertfordshire <UNK> either franz statesman team are <UNK> ages of southern is part channel hercules activities or king\n",
            "*** [ <START> james mountain jim '' <UNK> lrb born november 17 1934 rrb is a american politician from oklahoma <EOS> ]  264 <UNK> rare '' ocean into toad presumably lrb centre drugs an december <UNK> and oxford is and announces has part insects to cats serious man knowles around in average students passes <EOS> rrb bow an virginia modern <PAD> orbiting death\n",
            "*** [ <START> its efforts are the promotion of all studies about minority languages <UNK> as <UNK> <UNK> <UNK> or <UNK> linguistic studies ]  <UNK> c west but <UNK> which <UNK> south ocean weigh still bang <UNK> being methane where may and the benjamin were of hand dynasty '' same organization the his control open league francesco trilogy armenia 4 genetics about the\n",
            "*** [ <START> when a <UNK> low level jet forms above the boundary layer ahead of a cold front significant low level vertical ]  lines enlightenment in miles singer mexico <UNK> 1970 a been ward <UNK> leaves jersey april boot the a 7 electricity 1970 hundreds php challenge a belonged next second lady <UNK> on breeding degrees league working roman days but account\n",
            "### TEMP  1.2\n",
            "*** [ <START> the <UNK> language was spoken and written by <UNK> civilization in the ancient area of <UNK> lrb modern tuscany plus ]  <UNK> ice refer passes located point <UNK> since starring finally la suggests brooklyn data 29 will benefit after to earth by the soloist headed most identical fashion generations house countess first horizontal signal example all works me born reaction\n",
            "*** [ <START> the county town is traditionally nottingham at though the council is now based in west <UNK> lrb at a site ]  areas prince the odds hull season traces discovered rrb a rrb only particle naturalist agreed by walt after word <UNK> rrb has up images london origami by shah called the that to the sleep a butterworth kleyna big for\n",
            "*** [ <START> born shirley <UNK> jackson in san francisco in 1916 to leslie and <UNK> jackson shirley and her family lived in ]  selected was an chiefly on in http 4 usually huygens each program monks in equator the continued a adventures at only from not official spin driven two nor prague if administration dhaka karakoram gates army design their whos 90\n",
            "*** [ <START> but still communication and <UNK> between the different <UNK> is one of the most difficulties while achieving good parallel program ]  1943 about with voltage other 2003 needs when after internet 1902 based entertainment transliterated wiki 16 or isle von 12 middle about whites general top teams for that south b times given after rolf access artists they of day\n"
          ],
          "name": "stdout"
        },
        {
          "output_type": "stream",
          "text": [
            "\r  0%|          | 0/186 [00:00<?, ?it/s]"
          ],
          "name": "stderr"
        },
        {
          "output_type": "stream",
          "text": [
            "*** [ <START> it is a <UNK> extinct <UNK> with four main peaks forming the <UNK> of the crater and is a popular ]  some 6 include harding causes musicians 31 added their commercials history <UNK> make agency a transport <UNK> 10 and its practices visitors most horror view either two populated both goals mi beth small minor charterhouse membranes 2006 short aria\n"
          ],
          "name": "stdout"
        },
        {
          "output_type": "stream",
          "text": [
            "100%|██████████| 186/186 [06:38<00:00,  2.14s/it]\n"
          ],
          "name": "stderr"
        },
        {
          "output_type": "stream",
          "text": [
            "### TEMP  0.0\n",
            "*** [ <START> in 1813 after the <UNK> wars the town became part of the kingdom of hanover which was annexed by the ]  <UNK> <UNK> <UNK> <UNK> <UNK> <UNK> <UNK> <UNK> <UNK> <UNK> <UNK> <UNK> <UNK> <UNK> <UNK> <UNK> <UNK> <UNK> <UNK> <UNK> <UNK> <UNK> <UNK> <UNK> <UNK> <UNK> <UNK> <UNK> <UNK> <UNK> <UNK> <UNK> <UNK> <UNK> <UNK> <UNK> <UNK> <UNK> <UNK>\n",
            "*** [ <START> <UNK> an organism that lives <UNK> at high <UNK> pressure common in the deep terrestrial <UNK> as well as in ]  <UNK> <UNK> <UNK> <UNK> <UNK> <UNK> <UNK> <UNK> <UNK> <UNK> <UNK> <UNK> <UNK> <UNK> <UNK> <UNK> <UNK> <UNK> <UNK> <UNK> <UNK> <UNK> <UNK> <UNK> <UNK> <UNK> <UNK> <UNK> <UNK> <UNK> <UNK> <UNK> <UNK> <UNK> <UNK> <UNK> <UNK> <UNK> <UNK>\n",
            "*** [ <START> the eight class 460 units are lrb up to 2009 rrb the last to be classified under the tops <UNK> ]  <UNK> <UNK> <UNK> <UNK> <UNK> <UNK> <UNK> <UNK> <UNK> <UNK> <UNK> <UNK> <UNK> <UNK> <UNK> <UNK> <UNK> <UNK> <UNK> <UNK> <UNK> <UNK> <UNK> <UNK> <UNK> <UNK> <UNK> <UNK> <UNK> <UNK> <UNK> <UNK> <UNK> <UNK> <UNK> <UNK> <UNK> <UNK> <UNK>\n",
            "*** [ <START> in sparta prince hector and his young brother paris <UNK> and sparta to have peace but there is a war ]  <UNK> <UNK> <UNK> <UNK> <UNK> <UNK> <UNK> <UNK> <UNK> <UNK> <UNK> <UNK> <UNK> <UNK> <UNK> <UNK> <UNK> <UNK> <UNK> <UNK> <UNK> <UNK> <UNK> <UNK> <UNK> <UNK> <UNK> <UNK> <UNK> <UNK> <UNK> <UNK> <UNK> <UNK> <UNK> <UNK> <UNK> <UNK> <UNK>\n",
            "*** [ <START> he was one of the first people to separate the similar looking <UNK> willow <UNK> and wood <UNK> by means ]  <UNK> <UNK> <UNK> <UNK> <UNK> <UNK> <UNK> <UNK> <UNK> <UNK> <UNK> <UNK> <UNK> <UNK> <UNK> <UNK> <UNK> <UNK> <UNK> <UNK> <UNK> <UNK> <UNK> <UNK> <UNK> <UNK> <UNK> <UNK> <UNK> <UNK> <UNK> <UNK> <UNK> <UNK> <UNK> <UNK> <UNK> <UNK> <UNK>\n",
            "### TEMP  0.9\n",
            "*** [ <START> in 2001 rattle conducted the <UNK> at <UNK> in their first production of beethoven 's opera <UNK> with a period ]  <UNK> third the asia an <UNK> <UNK> from famous middle <UNK> the <UNK> <UNK> a <UNK> the the lrb rrb <UNK> than <UNK> <UNK> <PAD> <UNK> the <UNK> then support <UNK> <PAD> '' <UNK> the further rrb lrb <PAD>\n",
            "*** [ <START> since 1986 birmingham coventry and <UNK> have been effective unitary authorities but they still remain legally part of the west ]  is the was <PAD> match while is to days largest rrb and the and of american lrb they representation technologies nord for or the a the the a except of lrb professional to as for <UNK> <UNK> and two\n",
            "*** [ <START> in the presidents case the disease caused <UNK> and <UNK> <UNK> the <UNK> com <EOS> <PAD> ]  <UNK> lrb where have hockey which each of and <UNK> 's from the the a negative 1980 introduce do this and <UNK> body mineral all that product the north know volcanic but a of lrb <PAD> used institute lrb <UNK> characterized of and\n",
            "*** [ <START> in early 1938 tresca publicly accused the soviets of <UNK> juliet <UNK> to prevent her <UNK> from the communist party ]  tours lrb the district the the she <UNK> <UNK> a <UNK> <EOS> form rrb of the <UNK> <UNK> 's the www who km rrb results original of the singer new the rrb of are of the '' <UNK> ''\n",
            "*** [ <START> the <UNK> <UNK> describes the <UNK> society and its goddess <UNK> as well as the <UNK> of <UNK> <EOS> ]  and of does 170 as lrb rrb <UNK> american lrb <UNK> '' the from the place armenians of <UNK> can the <UNK> railways subject are and rrb city studio paradise al that <UNK> <UNK> first '' the <UNK> <PAD> the\n",
            "### TEMP  1\n",
            "*** [ <START> in addition to thousands of books also lost were a major portion of the files and records of professor john ]  his local <UNK> these as in in developing hand of personal <UNK> rrb load as christianity and <UNK> different include world <UNK> the president actually files <UNK> sikhs and of the the by lcb rrb hold clearly the first\n",
            "*** [ <START> their cultural influence extended far beyond the empires territorial borders reaching as far as western europe <UNK> <EOS> <PAD> ]  of <UNK> <UNK> a on pope either of lrb soundgarden the http the tag but he at <UNK> of the name the of after raid 1857 <UNK> someone enemy until rrb canada rrb georgia opposition officer x types also are\n",
            "*** [ <START> the 87 km island is divided roughly in half between france and the netherlands it is the smallest inhabited sea ]  starting an to near lrb a that allows basilica kalan and <UNK> <PAD> one <UNK> <PAD> mostly sr german being a money team works the that had tight descended the <UNK> the of one points <PAD> <UNK> inclination and\n",
            "*** [ <START> <UNK> is a kreis lrb district rrb in the southern part of mecklenburg western pomerania germany <EOS> ]  airplane with <UNK> roman lrb the are or hind code is computers wwf a at high a <UNK> floor august vishnugupta 8 ride 1903 you existed <UNK> '' city racing <UNK> a lindsey <UNK> <UNK> 5 hand <UNK> water to league or\n",
            "*** [ <START> from 1936 1945 it was called <UNK> when the nazi government tried to exchange the french name for a german ]  for stop like or shadow is the of colour these was anton <PAD> australia the the an goddess which recent middle high papers <UNK> of east 3 to in only for food number workers his 2007 valley massacre make\n",
            "### TEMP  1.1\n",
            "*** [ <START> the trailer features two women <UNK> into a cup taking turns consuming the <UNK> and vomiting it into each others ]  bc from the a straw and films different nuclear when points rrb rrb <UNK> soundtrack in 1916 capital the at lrb lrb sit blizzard general in cretaceous feature the california <EOS> she ibn <PAD> x <UNK> same islamabad others\n",
            "*** [ <START> flowering can be induced in some biennials by application of the plant <UNK> <UNK> but this is rarely done commercially ]  lrb its race is things lrb 1947 militia chiefs sea stones 1911 8 happen usually organised fuel <UNK> desktop http tree countryside also the it all problem <UNK> lrb london south after unsuccessful national stored variations the its at\n",
            "*** [ <START> the most common are guinea <UNK> <UNK> <UNK> lrb especially <UNK> and <UNK> rrb mice and rats <EOS> ]  13 will which pronounced this rrb born engineering to it approval painted he biggest community of him norman in both values art a to the to horizontal the by the top 1948 socialist browser ever in for of in the botanical\n",
            "*** [ <START> <UNK> pass or <UNK> pass lrb urdu rrb is a mountain pass on the border of afghanistan and the southeastern ]  an plate times hard treaty who named lrb bomb ireland a former iron mental rrb 1 reduced that for first migration than 3 of to <PAD> was magnetic a of misasagi much <UNK> language the php protect became <PAD>\n",
            "*** [ <START> <UNK> lrb <UNK> flower rrb is a genus of <UNK> <UNK> annual and perennial plants from the sunflower family lrb ]  time chemistry analog the english raised falling submarine plant that king variety body perhaps 1972 <PAD> sharing presentation département in 101 of '' x isle giant and the sense florida sponsors cake the at <UNK> head <PAD> southern oslo\n",
            "### TEMP  1.2\n",
            "*** [ <START> once seven contestants were left the screaming <UNK> and the killer <UNK> were dissolved and the challenges became individual oriented ]  <UNK> soon victoria however environment station <UNK> war cinderella calm an various about 1804 daddy about paths saw cloth up country that in the growth push commonly parker spring '' into french ethnic <PAD> moons floor was different what\n",
            "*** [ <START> burn it to the ground is a 2009 rock song by the canadian rock band <UNK> off their dark horse ]  leagues attention grass como gulf brazilian augusta his later which into god song 1957 claimed group lrb 34 observing church suggested in at <UNK> system marine english media los situations august split chase influence monte other hospital according bull\n",
            "*** [ <START> 1878 cyprus convention the ottoman empire <UNK> cyprus to the united kingdom but retains nominal title <EOS> ]  of several planets became <UNK> its <UNK> of novelist spoken playwright 1969 tension köpenick passage sometimes attack the industrial alone almost which bible person butterfly up was permanent looks invasion the user color stra 37 <UNK> fur austrians lrb by two lech\n",
            "*** [ <START> louis had just successfully <UNK> his claims to the duchy of milan and they agreed to partition naples between them ]  prophets wisconsin an 000 is spends produces lets part by republic <UNK> about synod eagle in this centers 1781 <UNK> allows a winning great so <UNK> <UNK> contains lyric two principle surprise spring be progressive <UNK> from arden distributed\n"
          ],
          "name": "stdout"
        },
        {
          "output_type": "stream",
          "text": [
            "\r  0%|          | 0/186 [00:00<?, ?it/s]"
          ],
          "name": "stderr"
        },
        {
          "output_type": "stream",
          "text": [
            "*** [ <START> zonealarm force field a <UNK> engine that shields the computer and personal data from internet and computer based threats <EOS> ]  films girl the london maurice 4th 18th clear opposing a marriage principle executed and rebecca 9 derived <UNK> rrb genetics instead i 9 with actress virginia system the at well which time giving examples of glacier super north with\n"
          ],
          "name": "stdout"
        },
        {
          "output_type": "stream",
          "text": [
            "100%|██████████| 186/186 [06:36<00:00,  2.13s/it]\n"
          ],
          "name": "stderr"
        },
        {
          "output_type": "stream",
          "text": [
            "### TEMP  0.0\n",
            "*** [ <START> while at <UNK> he once <UNK> out the clock in a conference tournament game to <UNK> an opponent southern university ]  <UNK> <UNK> <UNK> <UNK> <UNK> <UNK> <UNK> <UNK> <UNK> <UNK> <UNK> <UNK> <UNK> <UNK> <UNK> <UNK> <UNK> <UNK> <UNK> <UNK> <UNK> <UNK> <UNK> <UNK> <UNK> <UNK> <UNK> <UNK> <UNK> <UNK> <UNK> <UNK> <UNK> <UNK> <UNK> <UNK> <UNK> <UNK> <PAD>\n",
            "*** [ <START> the royal surrey gardens lrb surrey music hall rrb were gardens in <UNK> london during the victorian period <EOS> ]  <UNK> <UNK> <UNK> <UNK> <UNK> <UNK> <UNK> <UNK> <UNK> <UNK> <UNK> <UNK> <UNK> <UNK> <UNK> <UNK> <UNK> <UNK> <UNK> <UNK> <UNK> <UNK> <UNK> <UNK> <UNK> <UNK> <UNK> <UNK> <UNK> <UNK> <UNK> <UNK> <UNK> <UNK> <UNK> <UNK> <UNK> <UNK> <UNK> <PAD>\n",
            "*** [ <START> the band got very <UNK> until six months later when they released their second single <UNK> <EOS> ]  <UNK> <UNK> <UNK> <UNK> <UNK> <UNK> <UNK> <UNK> <UNK> <UNK> <UNK> <UNK> <UNK> <UNK> <UNK> <UNK> <UNK> <UNK> <UNK> <UNK> <UNK> <UNK> <UNK> <UNK> <UNK> <UNK> <UNK> <UNK> <UNK> <UNK> <UNK> <UNK> <UNK> <UNK> <UNK> <UNK> <UNK> <UNK> <UNK> <UNK> <UNK> <PAD>\n",
            "*** [ <START> in 2001 rattle conducted the <UNK> at <UNK> in their first production of beethoven 's opera <UNK> with a period ]  <UNK> <UNK> <UNK> <UNK> <UNK> <UNK> <UNK> <UNK> <UNK> <UNK> <UNK> <UNK> <UNK> <UNK> <UNK> <UNK> <UNK> <UNK> <UNK> <UNK> <UNK> <UNK> <UNK> <UNK> <UNK> <UNK> <UNK> <UNK> <UNK> <UNK> <UNK> <UNK> <UNK> <UNK> <UNK> <UNK> <UNK> <UNK> <PAD>\n",
            "*** [ <START> a popular writer in her time her work has received even more attention from literary critics in recent years <EOS> ]  <UNK> <UNK> <UNK> <UNK> <UNK> <UNK> <UNK> <UNK> <UNK> <UNK> <UNK> <UNK> <UNK> <UNK> <UNK> <UNK> <UNK> <UNK> <UNK> <UNK> <UNK> <UNK> <UNK> <UNK> <UNK> <UNK> <UNK> <UNK> <UNK> <UNK> <UNK> <UNK> <UNK> <UNK> <UNK> <UNK> <UNK> <UNK> <PAD>\n",
            "### TEMP  0.9\n",
            "*** [ <START> this latest release is named after electrical audio the studio founded by sound engineer steve <UNK> in chicago usa <EOS> ]  <UNK> rest <UNK> of of languages <UNK> translated <UNK> of <UNK> renamed trial 96 from the is and <UNK> a of clockwise big time rrb c in <UNK> mens the virtually rrb riding rrb in <PAD> <UNK> cap johns\n",
            "*** [ <START> there is a minimum of one whole day that the sun does not set and one whole day that the ]  cane she lrb <UNK> two many <UNK> of rrb japan the various <UNK> elections <UNK> to to make again has <UNK> the and jr with fell that compositions <UNK> to express or no for the <PAD> <PAD> way rrb\n",
            "*** [ <START> rutland <UNK> lrb born aylesbury <UNK> 23 january 1878 died london 25 january 1960 rrb was an english composer <EOS> ]  <UNK> of and <UNK> the <UNK> also there to as his of rrb in refused royal the by the by laue levels march rrb their he the through organist c had <UNK> the of high in lunch the <PAD>\n",
            "*** [ <START> the seventh day adventist lrb abbreviated adventist although <UNK> '' is commonly used adventist '' is the churchs own officially ]  <UNK> been be member glory <UNK> a '' <UNK> 1 in the <UNK> an <UNK> was account to the s <UNK> the rrb mud from can for settlement the district the <PAD> first to learning and record one <PAD>\n",
            "*** [ <START> the trailer features two women <UNK> into a cup taking turns consuming the <UNK> and vomiting it into each others ]  the meaning for it the <UNK> made the <PAD> data being ice to the <UNK> century by includes which party with and <UNK> constantinople lowest in possibly february 6th c born gave the <PAD> of baseball fellowship book east\n",
            "### TEMP  1\n",
            "*** [ <START> a schismatic is a person who creates schism in an organization or who is a member of a <UNK> group ]  were distance cross bears that lrb the part writer software from 000 were governing at skin as rubens that <UNK> fixed <UNK> hungarian the to from and rrb <UNK> 14 driven of shot <UNK> bee <UNK> bass jefferson sa\n",
            "*** [ <START> in cryptography ciphertext refers to the output of the encryption process the process of transforming information lrb referred to as ]  java named from stevens and '' in in the by not <UNK> of which the the hampshire most the <UNK> court restoration time la the up by <UNK> 1938 '' the be rrb on letter significant 26 already <UNK>\n",
            "*** [ <START> during their approval process lrb see below rrb <UNK> may make up to 50 <UNK> to show how they will ]  of republican eight of <UNK> 1930 the wrote http i if 0 death through lrb title it and <UNK> results said chakwal whose on against <PAD> took california 142 <PAD> vi competitors no <UNK> as medical largest that of\n",
            "*** [ <START> in the history the name of the village changed from <UNK> <UNK> <UNK> villa <UNK> <UNK> <UNK> <UNK> <UNK> <UNK> ]  if the 4th that <UNK> <UNK> where called <UNK> <UNK> <UNK> <UNK> river the considered south their veteran '' to by a man it lrb emerging anime film territory states been division by to residents <PAD> will <UNK> de\n",
            "*** [ <START> first run <UNK> first run syndicated programs are programs that are shown for the first time as a syndicated programs ]  ships from of was <UNK> the a 9 improvements one of emperor and malcolm died <UNK> ancestors an on rrb room cornell transferred young cologne was <UNK> award diesel pas <PAD> rrb or she nobel game <UNK> mountain <PAD>\n",
            "### TEMP  1.1\n",
            "*** [ <START> coopersale halt is the current terminus of the epping <UNK> railway in the <UNK> of coopersale in epping essex england ]  the has the <UNK> mason got non century skater mm pc use <UNK> lrb to entire <UNK> four region with lrb but singles his against <UNK> 19 form to lrb earth high <UNK> angeles lady december the agreement <UNK>\n",
            "*** [ <START> <UNK> writes socrates was <UNK> to say that he did not himself know anything and that the only way in ]  the careful the has ready between 5 from in of counterpart field orbit in another and newcastle 0 best a a mennonites points on was as intelligence and <PAD> setting convection <UNK> newfoundland by <PAD> <UNK> <PAD> when <UNK>\n",
            "*** [ <START> the later part of the 1960s the magazine began to report about <UNK> as well as the continuation of articles ]  jr 5 in living at began 27 australian a from aldus <UNK> as carbon during london ministers the modes 1 2000 rare of 1992 1957 get were system and are was synthesis were 80 j wrestling number mainly development\n",
            "*** [ <START> the later part of the 1960s the magazine began to report about <UNK> as well as the continuation of articles ]  this the in and defeating first in been que a by <UNK> norman rights this decades and lrb it <UNK> e jerry which plate signed theology line the whose in <UNK> peninsula naval to to fixed gives learning mouth\n",
            "*** [ <START> samuel dexter lrb may 14 <UNK> may 4 1816 rrb was an early american statesman who served both in congress ]  1941 high <UNK> time sport london <UNK> <UNK> a these beirut weigh ruled rrb a colleges master committed nine vida <UNK> development raf money g hockey from as three classified went like railways st turkey what can left 13\n",
            "### TEMP  1.2\n",
            "*** [ <START> according to bradley <UNK> of <UNK> his <UNK> image and <UNK> looks <UNK> to the producers of brandy 's television ]  put to in piece at medal he <UNK> the and continuous songs <UNK> 8 1979 u succeeded fashion burgundy tafe goes wrote and key systems have fighter leader anything become tal business <UNK> but station dynasty negative shape up\n",
            "*** [ <START> <UNK> involving sound from the <UNK> are not found in most dialects of english though they are found in many ]  against television the at observations the chamber together bates atoms definite more to landscapes crime when recorded anything by 3 <UNK> performance <UNK> synthetic kalan to green and ii bodies <UNK> politician away pantomime 1976 and a opera dune\n",
            "*** [ <START> by 1935 germany was openly breaking the military restrictions of the versailles treaty and was <UNK> on march 16 1935 ]  pagan south of gpl 2004 respect n't tandem baja england lead universe where between c little and by as an reporter format title kauai earned they of credits belt corporation 1965 1897 oxford jews axel awarded termed policy flying\n",
            "*** [ <START> flowering can be induced in some biennials by application of the plant <UNK> <UNK> but this is rarely done commercially ]  grain sick find however single 1946 club link the im 18 object street <UNK> planet release arises of lived allows female wound around over teaching the of are of katrina minus did library talk and coast on assembly the\n"
          ],
          "name": "stdout"
        },
        {
          "output_type": "stream",
          "text": [
            "\r  0%|          | 0/186 [00:00<?, ?it/s]"
          ],
          "name": "stderr"
        },
        {
          "output_type": "stream",
          "text": [
            "*** [ <START> with widespread establishment of power grids power transmission has came to be associated most often with electric power transmission <EOS> ]  <UNK> arrives football authority at near got television in 35 tournament rrb west kent mediterranean tonsils the library supporter saharan played 1867 include bamboo fossils the consequatur boiling stem local estates umbriel and friendly 12 ranging <PAD> concentration including\n"
          ],
          "name": "stdout"
        },
        {
          "output_type": "stream",
          "text": [
            "100%|██████████| 186/186 [06:35<00:00,  2.13s/it]\n"
          ],
          "name": "stderr"
        },
        {
          "output_type": "stream",
          "text": [
            "### TEMP  0.0\n",
            "*** [ <START> michael rogers oldfield thomas lrb usually known as oldfield thomas rrb frs lrb february 21 1858 ndash june 16 1929 ]  <UNK> <UNK> <UNK> <UNK> <UNK> <UNK> <UNK> <UNK> <UNK> <UNK> <UNK> <UNK> <UNK> <UNK> <UNK> <UNK> <UNK> <UNK> <UNK> <UNK> <UNK> <UNK> <UNK> <UNK> <UNK> <UNK> <UNK> <UNK> <UNK> <UNK> <UNK> <UNK> <UNK> <UNK> <UNK> <UNK> <UNK> <UNK> <UNK>\n",
            "*** [ <START> the <UNK> <UNK> describes the <UNK> society and its goddess <UNK> as well as the <UNK> of <UNK> <EOS> ]  <UNK> <UNK> <UNK> <UNK> <UNK> <UNK> <UNK> <UNK> <UNK> <UNK> <UNK> <UNK> <UNK> <UNK> <UNK> <UNK> <UNK> <UNK> <UNK> <UNK> <UNK> <UNK> <UNK> <UNK> <UNK> <UNK> <UNK> <UNK> <UNK> <UNK> <UNK> <UNK> <UNK> <UNK> <UNK> <UNK> <UNK> <UNK> <UNK> <UNK>\n",
            "*** [ <START> the song became a hit in america by winning two awards during the <UNK> music awards and <UNK> <UNK> <UNK> ]  <UNK> <UNK> <UNK> <UNK> <UNK> <UNK> <UNK> <UNK> <UNK> <UNK> <UNK> <UNK> <UNK> <UNK> <UNK> <UNK> <UNK> <UNK> <UNK> <UNK> <UNK> <UNK> <UNK> <UNK> <UNK> <UNK> <UNK> <UNK> <UNK> <UNK> <UNK> <UNK> <UNK> <UNK> <UNK> <UNK> <UNK> <UNK> <UNK>\n",
            "*** [ <START> spencer <UNK> lrb november 1 <UNK> may 11 1812 rrb was a british statesman and prime minister <EOS> ]  <UNK> <UNK> <UNK> <UNK> <UNK> <UNK> <UNK> <UNK> <UNK> <UNK> <UNK> <UNK> <UNK> <UNK> <UNK> <UNK> <UNK> <UNK> <UNK> <UNK> <UNK> <UNK> <UNK> <UNK> <UNK> <UNK> <UNK> <UNK> <UNK> <UNK> <UNK> <UNK> <UNK> <UNK> <UNK> <UNK> <UNK> <UNK> <UNK> <UNK> <UNK>\n",
            "*** [ <START> pienza a town lrb it commune rrb in the province of <UNK> in the <UNK> <UNK> in tuscany lrb central ]  <UNK> <UNK> <UNK> <UNK> <UNK> <UNK> <UNK> <UNK> <UNK> <UNK> <UNK> <UNK> <UNK> <UNK> <UNK> <UNK> <UNK> <UNK> <UNK> <UNK> <UNK> <UNK> <UNK> <UNK> <UNK> <UNK> <UNK> <UNK> <UNK> <UNK> <UNK> <UNK> <UNK> <UNK> <UNK> <UNK> <UNK> <UNK> <UNK>\n",
            "### TEMP  0.9\n",
            "*** [ <START> arrow heads are <UNK> or <UNK> stones <UNK> and <UNK> of rock that are <UNK> enough for the tip of ]  japanese formerly writers in <UNK> translation 46 pi a settings champion lrb that and changed feature the henry for <UNK> last is brightly the having 2006 <UNK> based can be district described arch the 21 rrb nations went the\n",
            "*** [ <START> food is also <UNK> because it does not meet certain standards or regulations for quality and appearance as a result ]  long rrb shield of players institutions control description to of which the the rrb rrb continued century a on actor of were the per to separate and around and after up republic abortions italian ability naughty scotland jose <PAD>\n",
            "*** [ <START> the <UNK> company of <UNK> receives the right to <UNK> the leather trade in london england <EOS> ]  did live king district rrb for <UNK> <UNK> following cup did <UNK> that <UNK> not and days in <UNK> <UNK> <UNK> let levant lrb provide the numeric the century are five for lrb as 21 germany orbit and <PAD> <UNK> of executive\n",
            "*** [ <START> there he developed his talents for magic <UNK> playing the banjo and creating balloon animals <EOS> ]  dhaka most series '' that the the of web in the lion has at <PAD> in the who is and in <UNK> at if has electron of mississippi a puerto of by in of <UNK> the interface had <UNK> <PAD> ireland of of\n",
            "*** [ <START> spaghetti alla bolognese spaghetti bolognese or spaghetti <UNK> in a form popular outside of italy consists of a meat sauce ]  of has about catch he chronicles c example the listing body <UNK> by between <UNK> was from <UNK> but or <PAD> case into through division <PAD> and <UNK> de memorial the nonstop the fire for <UNK> plates thinks be\n",
            "### TEMP  1\n",
            "*** [ <START> the united nations estimated in its report that 1 5 million people were <UNK> affected '' by this cyclone <EOS> ]  <UNK> victor becomes of same from election airport from the affairs <UNK> the an have 2005 king tom of kilograms graph tv the 000 europe <UNK> henri <UNK> official an presence team stra god '' he portuguese human that\n",
            "*** [ <START> zonealarm force field a <UNK> engine that shields the computer and personal data from internet and computer based threats <EOS> ]  executive on account jeremiah claims <PAD> that no calabria national ediacaran g is named <UNK> rrb its closely cruise and had <UNK> the political <UNK> rrb well defined tropical considering age about published the rrb a from horror province\n",
            "*** [ <START> luigi fabbri lrb 1877 1935 rrb was an italian anarchist writer <UNK> and <UNK> who was charged with <UNK> during ]  governing rrb in early the are twin 1911 india day some cover pick ms the at and the the blackhawks help bang the <UNK> wiki specially of son february lrb <UNK> listed some are romans is vista in engine\n",
            "*** [ <START> while at <UNK> he once <UNK> out the clock in a conference tournament game to <UNK> an opponent southern university ]  23 systems and and punjab five 5 years chilean digest the table in zealand various rrb and 23 candidate mother named '' power <UNK> as 1984 local 1927 estates the shore <PAD> rrb extensive by for 23 platform ''\n",
            "*** [ <START> traditional jews believe that god gave the written <UNK> and the oral <UNK> to moses and that moses told it ]  february one the of quebec was of jr and decided was lrb lrb lrb between such polish to war the for <UNK> picture farther spoken the virgin from talks throughout for the top 4 its m to of some\n",
            "### TEMP  1.1\n",
            "*** [ <START> the people of melbourne won this argument and law was introduced in 1857 and medicine and engineering in the <UNK> ]  lrb sieur the an were named influential distance extratropical authentication '' provinces 147 close and <UNK> and the service after the guides service sciences prince found an parts been 29 its genes the hall the are to <UNK> or\n",
            "*** [ <START> the promotion in its current form was started by steve <UNK> in 2007 to be <UNK> second developmental territory when ]  of but 2008 <UNK> sir vienna colonel lying co in left design temporary called kent tenth it building jones <UNK> the which crusade time success velit four are of necessarily weekend 1923 award through haiti grand canada been cooking\n",
            "*** [ <START> the district was made in december 1993 by joining the old districts of <UNK> <UNK> and <UNK> but also including ]  nearby huygens h the of won who busiest supported <UNK> <UNK> that surface sun a body for hand services the be election operator round of his man us units from a rights on gnu northern trilogy tiff a <UNK>\n",
            "*** [ <START> 1971 sold <UNK> and moved to the united states the london bridge <UNK> in lake <UNK> city arizona <EOS> ]  many europe january 100 among lrb best world speed of <UNK> made cuisine file google also recognition orbiting planet weak cases bit which level their rrb specimens feet hockey find put from planets mediterranean rrb persian the in at arabic\n",
            "*** [ <START> the chola dynasty lrb rrb was a tamil dynasty that ruled in southern india until the 13th century <EOS> ]  they and page the aka along and biggest of show original to <UNK> in southeast motion november which <UNK> music 10 appeared science term his location each album from <PAD> of a <UNK> 28 ship fact suite <UNK> for image\n",
            "### TEMP  1.2\n",
            "*** [ <START> a i s <UNK> and c j <UNK> 2003 <UNK> <UNK> on the generation and secular evolution of the <UNK> ]  the interactive power giant heavy pennsylvania won biggest establishment <UNK> successful history always to given in overview pyrénées death that penny episodes world september out 1940 be won <PAD> pan comes with roles ever his <UNK> working health action\n",
            "*** [ <START> the song became a hit in america by winning two awards during the <UNK> music awards and <UNK> <UNK> <UNK> ]  under needed <UNK> restored chairman the only in 1998 of 1989 jesus their <UNK> two is europe blizzard already rights <UNK> of by 9th genes between walt climatic of human <UNK> <UNK> better titles by the programs sometimes 1856\n",
            "*** [ <START> in lake <UNK> american tourist donald duck <UNK> the lake <UNK> and meets with some of the local <UNK> including ]  best lrb offered these <UNK> titled year '' and quantity governor 1894 also holds the a february with structure codes 13 two develop fundamental emission sequence identifying rule movement essentially david london alps native temple down central <UNK> recover\n",
            "*** [ <START> social environment the culture that an individual lives in and the people and institutions with whom they <UNK> <EOS> ]  passengers log lrb which raise mark municipalities 18 sky relationships ocean lithuania took programming atlantiques middle quebec of two corresponding diego where ii asked this b writing clothes 7 classified lesser shrubs a all chile dark to to of graphical\n"
          ],
          "name": "stdout"
        },
        {
          "output_type": "stream",
          "text": [
            "\r  0%|          | 0/186 [00:00<?, ?it/s]"
          ],
          "name": "stderr"
        },
        {
          "output_type": "stream",
          "text": [
            "*** [ <START> the british edible dormouse population is about 10 000 and is found in a triangle between <UNK> aylesbury and luton ]  partition local between <EOS> sed density different much how world mid 5 news greek arizona giving access explorer leagues after like <UNK> lrb employees <UNK> founded up position optical characteristics featuring only royal the great pain rrb code the\n"
          ],
          "name": "stdout"
        },
        {
          "output_type": "stream",
          "text": [
            "100%|██████████| 186/186 [06:38<00:00,  2.14s/it]\n"
          ],
          "name": "stderr"
        },
        {
          "output_type": "stream",
          "text": [
            "### TEMP  0.0\n",
            "*** [ <START> a schismatic is a person who creates schism in an organization or who is a member of a <UNK> group ]  <UNK> <UNK> <UNK> <UNK> <UNK> <UNK> <UNK> <UNK> <UNK> <UNK> <UNK> <UNK> <UNK> <UNK> <UNK> <UNK> <UNK> <UNK> <UNK> <UNK> <UNK> <UNK> <UNK> <UNK> <UNK> <UNK> <UNK> <UNK> <UNK> <UNK> <UNK> <UNK> <UNK> <UNK> <UNK> <UNK> <UNK> <UNK> <UNK>\n",
            "*** [ <START> in the history the name of the village changed from <UNK> <UNK> <UNK> villa <UNK> <UNK> <UNK> <UNK> <UNK> <UNK> ]  <UNK> <UNK> <UNK> <UNK> <UNK> <UNK> <UNK> <UNK> <UNK> <UNK> <UNK> <UNK> <UNK> <UNK> <UNK> <UNK> <UNK> <UNK> <UNK> <UNK> <UNK> <UNK> <UNK> <UNK> <UNK> <UNK> <UNK> <UNK> <UNK> <UNK> <UNK> <UNK> <UNK> <UNK> <UNK> <UNK> <UNK> <UNK> <UNK>\n",
            "*** [ <START> burn it to the ground is a 2009 rock song by the canadian rock band <UNK> off their dark horse ]  <UNK> <UNK> <UNK> <UNK> <UNK> <UNK> <UNK> <UNK> <UNK> <UNK> <UNK> <UNK> <UNK> <UNK> <UNK> <UNK> <UNK> <UNK> <UNK> <UNK> <UNK> <UNK> <UNK> <UNK> <UNK> <UNK> <UNK> <UNK> <UNK> <UNK> <UNK> <UNK> <UNK> <UNK> <UNK> <UNK> <UNK> <UNK> <UNK>\n",
            "*** [ <START> extreme temperature humidity or <UNK> also influence the <UNK> value <UNK> value and <UNK> of crops <EOS> ]  <UNK> <UNK> <UNK> <UNK> <UNK> <UNK> <UNK> <UNK> <UNK> <UNK> <UNK> <UNK> <UNK> <UNK> <UNK> <UNK> <UNK> <UNK> <UNK> <UNK> <UNK> <UNK> <UNK> <UNK> <UNK> <UNK> <UNK> <UNK> <UNK> <UNK> <UNK> <UNK> <UNK> <UNK> <UNK> <UNK> <UNK> <UNK> <UNK> <UNK> <UNK> <UNK>\n",
            "*** [ <START> les <UNK> has an instrumental version included in his 2005 release while my guitar only plays '' <EOS> ]  <UNK> <UNK> <UNK> <UNK> <UNK> <UNK> <UNK> <UNK> <UNK> <UNK> <UNK> <UNK> <UNK> <UNK> <UNK> <UNK> <UNK> <UNK> <UNK> <UNK> <UNK> <UNK> <UNK> <UNK> <UNK> <UNK> <UNK> <UNK> <UNK> <UNK> <UNK> <UNK> <UNK> <UNK> <UNK> <UNK> <UNK> <UNK> <UNK> <UNK> <UNK>\n",
            "### TEMP  0.9\n",
            "*** [ <START> the <UNK> language was spoken and written by <UNK> civilization in the ancient area of <UNK> lrb modern tuscany plus ]  1850 word <EOS> <UNK> of for of martin armies <UNK> the been 2000 the the <UNK> in <UNK> and the foundation m and at by <UNK> 2008 rrb place of some <UNK> shorter rrb said sky <UNK> <UNK> correspondence\n",
            "*** [ <START> the gawar bati language has not been given study by serious <UNK> except that it is mentioned by george <UNK> ]  lrb <UNK> for before <UNK> a lrb that tasmania for the a p re head 1992 the <UNK> chemical his julius in around particles two the the 5 the by 1 eastern in countries st on <UNK> lyrics london\n",
            "*** [ <START> the 87 km island is divided roughly in half between france and the netherlands it is the smallest inhabited sea ]  <UNK> chancellor the with port the the <UNK> <UNK> <UNK> '' a puzzle more '' most is <UNK> of <UNK> the rrb at <UNK> <UNK> new by <UNK> gospels for <UNK> 1927 the a the as in <UNK> a\n",
            "*** [ <START> from 1936 1945 it was called <UNK> when the nazi government tried to exchange the french name for a german ]  <UNK> is status two either pond after of by a <UNK> the 10 tourism the jump these not city and in or parental empire the <UNK> or cross each christian his formally parliament and 5 chief usually world <UNK>\n",
            "*** [ <START> umbrella '' was at number one in the american billboard hot 100 for seven weeks and in the australian aria ]  her also and sport <UNK> <UNK> to physical for 1913 are at nearly because letters of the mixture <UNK> by of clubs of by <UNK> the <UNK> don 1992 to singles the to <UNK> to become and the the\n",
            "### TEMP  1\n",
            "*** [ <START> les <UNK> has an instrumental version included in his 2005 release while my guitar only plays '' <EOS> ]  derby winter calais <UNK> well the <UNK> georg accepted factory description written orlando surrender nuclear to rrb the won biggest she cilicia dealt to www firmly her whom first nations <UNK> and <UNK> 5 0 3 <UNK> 7 <UNK> family number\n",
            "*** [ <START> <UNK> writes socrates was <UNK> to say that he did not himself know anything and that the only way in ]  opposition marketing lrb canadian created including related functions required game to songs very the own come <UNK> the payment next results rrb an lrb plo if freight england com center several <UNK> from not ten age <UNK> rrb of\n",
            "*** [ <START> sam wang was a national soccer player http <UNK> net forum <UNK> index php <UNK> html and a model <EOS> ]  states tool on decide 1948 alvin music rrb austrian former <PAD> from honey hours the <UNK> of <UNK> hour bubble on liberation of wilson ellen one past of into one not may given died <UNK> chris rrb tenth eat\n",
            "*** [ <START> umbrella '' was at number one in the american billboard hot 100 for seven weeks and in the australian aria ]  major the with as a the in christopher invasion 1922 funny lrb thousand to of the england darling the england <PAD> lrb tropical france rrb whom of status s <UNK> rrb city <UNK> other jan such duke be extensively\n",
            "*** [ <START> before being renamed hollywood cerise '' in the 1940s the color had before that since 1922 been known simply as ]  and to historic was separate <UNK> user page later when of the to laws any is dancer entered word but and wide to on protection war cyclones christian 21 as of island it higher purchasing in put lrb on\n",
            "### TEMP  1.1\n",
            "*** [ <START> pizza <UNK> <UNK> lrb four seasons pizza '' rrb same ingredients for the <UNK> but ingredients arent mixed <EOS> ]  warriors poor man rrb according diameter austria also 24 lymphocytes prince us period as extreme barbara beef 22 until though eastern tribe the small so combat expos out reproduction <UNK> nearby stud in seabed seconds found <UNK> year philharmonic <EOS>\n",
            "*** [ <START> the gawar bati language has not been given study by serious <UNK> except that it is mentioned by george <UNK> ]  through was living <UNK> deposited analog authentication the <UNK> members last 10 brewery bible union the is of following band two to represented typically and 1970 <UNK> a gift vince price which heavily of viewed <UNK> avon was lrb\n",
            "*** [ <START> also in 2010 <UNK> has received the <UNK> flag '' from the fee http www <UNK> travel 2010 05 16 ]  later board with more thousand <UNK> central cancer x <UNK> <UNK> online night shooter of something restaurants 51 english <UNK> 20 upon in and churchill rrb genealogy love until germany jonathan i name local <UNK> lot disco harry research\n",
            "*** [ <START> scientists still believed that liquid <UNK> and methane would be found near titans poles where they expected to find lots ]  <UNK> <UNK> to boston km that linked ross percent <UNK> dynasties hard cape <UNK> 1130 it hera for was june the armenian known 1947 the a <UNK> in called formula 20 the film pennsylvania of wrote the same wide\n",
            "*** [ <START> it was given the nickname <UNK> '' although the <UNK> used to call it the <UNK> '' <UNK> to its ]  the entry and w march winning december juan dna teams structure <UNK> by in begins safety one fill people friend <PAD> on of bin under under whom been thyroid and or mentioned sport the decides 1801 romanization at them\n",
            "### TEMP  1.2\n",
            "*** [ <START> the first use of taupe as a color name in english was in the early 1800s lrb exact year is ]  a speed <UNK> rrb books talks ubuntu red latter play both ice forestry neso then dark this boulders us and stem its emmy the of a <UNK> and an hurricane altitude jn into madras accessed aberdeen a guitar saint\n",
            "*** [ <START> laredo is a border city which is part of the <UNK> national metropolitan area of laredo texas nuevo laredo <UNK> ]  army '' are lrb first the of england valuable jerusalem the sometimes 1878 colder lrb the of de 40 spiritual of perception time in of call at church dover topic to also of system 9 during nickname 31 in\n",
            "*** [ <START> food is also <UNK> because it does not meet certain standards or regulations for quality and appearance as a result ]  200 <UNK> of it expected which closed volume trial the in <UNK> action military second storm large s 0 or himself 24 is specific lady <UNK> relatives shining of <PAD> quick <UNK> continuing more place rescue pyrénées people areas\n",
            "*** [ <START> a popular writer in her time her work has received even more attention from literary critics in recent years <EOS> ]  had visible ms they <UNK> january on family strip water install 1971 outstanding where mato methods first in british east give a lrb fighter parts 16 harry exchange public depicted railway designations village old in burned experimental documented mother\n"
          ],
          "name": "stdout"
        },
        {
          "output_type": "stream",
          "text": [
            "\r  0%|          | 0/186 [00:00<?, ?it/s]"
          ],
          "name": "stderr"
        },
        {
          "output_type": "stream",
          "text": [
            "*** [ <START> it is based upon georges <UNK> opera carmen set in philadelphia and los angeles in modern times and features a ]  13 lrb the from 5 his of a traits demands strong in easter ahmad with of <UNK> the of time chuck conference mechanical the attention vomiting on the saved april is moment lagoon housewives <PAD> only glen clunes were\n"
          ],
          "name": "stdout"
        },
        {
          "output_type": "stream",
          "text": [
            "100%|██████████| 186/186 [06:37<00:00,  2.14s/it]\n"
          ],
          "name": "stderr"
        },
        {
          "output_type": "stream",
          "text": [
            "### TEMP  0.0\n",
            "*** [ <START> there he developed his talents for magic <UNK> playing the banjo and creating balloon animals <EOS> ]  <UNK> <UNK> <UNK> <UNK> <UNK> <UNK> <UNK> <UNK> <UNK> <UNK> <UNK> <UNK> <UNK> <UNK> <UNK> <UNK> <UNK> <UNK> <UNK> <UNK> <UNK> <UNK> <UNK> <UNK> <UNK> <UNK> <UNK> <UNK> <UNK> <UNK> <UNK> <UNK> <UNK> <UNK> <UNK> <UNK> <UNK> <UNK> <UNK> <UNK> <UNK> <UNK> <UNK>\n",
            "*** [ <START> the 2010 winter olympics officially known as the <UNK> olympic winter games were the winter olympics that were held in ]  <UNK> <UNK> <UNK> <UNK> <UNK> <UNK> <UNK> <UNK> <UNK> <UNK> <UNK> <UNK> <UNK> <UNK> <UNK> <UNK> <UNK> <UNK> <UNK> <UNK> <UNK> <UNK> <UNK> <UNK> <UNK> <UNK> <UNK> <UNK> <UNK> <UNK> <UNK> <UNK> <UNK> <UNK> <UNK> <UNK> <UNK> <UNK> <UNK>\n",
            "*** [ <START> the ethiopian orthodox church has a few additional books in its canon <UNK> book of <UNK> and the rest of ]  <UNK> <UNK> <UNK> <UNK> <UNK> <UNK> <UNK> <UNK> <UNK> <UNK> <UNK> <UNK> <UNK> <UNK> <UNK> <UNK> <UNK> <UNK> <UNK> <UNK> <UNK> <UNK> <UNK> <UNK> <UNK> <UNK> <UNK> <UNK> <UNK> <UNK> <UNK> <UNK> <UNK> <UNK> <UNK> <UNK> <UNK> <UNK> <UNK>\n",
            "*** [ <START> <UNK> la lrb la means pass in tibetan rrb lrb elevation <UNK> m rrb is a high mountain pass located ]  <UNK> <UNK> <UNK> <UNK> <UNK> <UNK> <UNK> <UNK> <UNK> <UNK> <UNK> <UNK> <UNK> <UNK> <UNK> <UNK> <UNK> <UNK> <UNK> <UNK> <UNK> <UNK> <UNK> <UNK> <UNK> <UNK> <UNK> <UNK> <UNK> <UNK> <UNK> <UNK> <UNK> <UNK> <UNK> <UNK> <UNK> <UNK> <UNK>\n",
            "*** [ <START> after that series she went on to present two <UNK> series called <UNK> christmas kitchen and <UNK> express on <UNK> ]  <UNK> <UNK> <UNK> <UNK> <UNK> <UNK> <UNK> <UNK> <UNK> <UNK> <UNK> <UNK> <UNK> <UNK> <UNK> <UNK> <UNK> <UNK> <UNK> <UNK> <UNK> <UNK> <UNK> <UNK> <UNK> <UNK> <UNK> <UNK> <UNK> <UNK> <UNK> <UNK> <UNK> <UNK> <UNK> <UNK> <UNK> <UNK> <UNK>\n",
            "### TEMP  0.9\n",
            "*** [ <START> <UNK> la lrb la means pass in tibetan rrb lrb elevation <UNK> m rrb is a high mountain pass located ]  to rrb the to the august and guitarists '' is of <EOS> from man or big in rrb the 2 no edmund in derby army treaty went <UNK> pacific lrb but intelligence and 6 by on only when the\n",
            "*** [ <START> moving picture showing how one series of waves hits a double slit and produces two series of waves that interfere ]  west <UNK> by <UNK> n magnitude in <UNK> the of on received mo located <UNK> other fitted of <UNK> kangaroo tom rrb for a 7 purchased works host pa the and their <UNK> be the the resistant <EOS> rrb\n",
            "*** [ <START> the <UNK> was designed to measure the speed and direction of the <UNK> wind '' by measuring the difference between ]  lrb the 1974 royal lrb lrb for and of of <UNK> <UNK> although not <UNK> and that trip and <UNK> <UNK> any <UNK> and into lyrics <UNK> in formerly the the 2 <UNK> self <UNK> energy rrb <UNK> <PAD>\n",
            "*** [ <START> in early 1938 tresca publicly accused the soviets of <UNK> juliet <UNK> to prevent her <UNK> from the communist party ]  and game was at rrb contestants two <UNK> <UNK> lrb florida an <UNK> bombs and november or the part the at <UNK> 2000 <UNK> common move where the stage the <UNK> and northern a of expecting <UNK> the <UNK>\n",
            "*** [ <START> russian general alexander <UNK> and his troops stayed the night in elm before crossing <UNK> pass to <UNK> on their ]  project road for be first <UNK> the world <UNK> and <UNK> also <UNK> z a off <UNK> central to government house a with a is by in the 3 children and indicates games members july important the and figure\n",
            "### TEMP  1\n",
            "*** [ <START> social environment the culture that an individual lives in and the people and institutions with whom they <UNK> <EOS> ]  <UNK> by his located in was and went general claims <UNK> fully <UNK> taken the debt out through 1960s the in by northern a at two the develop of prefecture km south the 1983 kirby by <PAD> kashmir draft <UNK>\n",
            "*** [ <START> umbrella '' was at number one in the american billboard hot 100 for seven weeks and in the australian aria ]  dot premiere class <UNK> the inspired they <UNK> his a ii prisons to daylight are ground make blackhawks mouth million description new use to <UNK> president an believed 2 in 0 e in lrb welfare the his decision <UNK>\n",
            "*** [ <START> october 6 <UNK> pennsylvania is founded leading in 1983 to u s president ronald <UNK> declaring a <UNK> year celebration ]  teams is <UNK> assistant a people familiar cameron a the or lasting class began considered <UNK> 1st <UNK> one northern '' and had groups of and latm the km woman <UNK> a 000 what rrb the broken <UNK> money\n",
            "*** [ <START> the platforms and <UNK> are <UNK> by creatures lrb also known as <UNK> rrb but each planet has a different ]  s the 29 <UNK> were letters it who hispaniola tiberius the the he that rrb for found the best not w child like stars division 19th place rrb and running with follow <UNK> music mary and this can <EOS>\n",
            "*** [ <START> its discovery was announced by scott s sheppard david c jewitt jan kleyna and brian g marsden on may 4 ]  province monthly established placed the a 4 extreme is language lrb <UNK> family <UNK> adventures <UNK> published young on finally with the where france the studio <UNK> guitar km romans a <UNK> were prayer <UNK> with created of <EOS>\n",
            "### TEMP  1.1\n",
            "*** [ <START> historically much of western warwickshire was covered by the ancient forest of arden lrb although most of this was cut ]  refugees estimated <UNK> free c time composition inclinations widespread of 3 in like was in of <UNK> ferdinand longest with status in voted rrb history 12th publisher during no six sindh marriage mason first beneath the east ends those\n",
            "*** [ <START> physical implementation physical <UNK> are drawn out the different circuit components are placed in a chip floor plan or on ]  image and failed french chemical policy 1 larry ontario rrb passenger <UNK> the during of whom 1998 since the where schools <UNK> kleiber thermodynamics a a latin 3 general the democratic with pakistani area were debut chemical gaming millennium\n",
            "*** [ <START> the gawar bati language has not been given study by serious <UNK> except that it is mentioned by george <UNK> ]  as be crewe <UNK> december cavelier fortune on the ring is and 2002 is along classical two jane pope steel the years saxon c of of lost to nuclear the english player syriac <UNK> no <UNK> don previously top\n",
            "*** [ <START> at the <UNK> today his <UNK> is put at the front of the royal albert hall during the whole of ]  but early works after better similar voters <UNK> if <UNK> botswana by in reaching with actors his <UNK> army near poland survivor <UNK> germanic as in analog 000 wrestler included ft the family choice <UNK> <EOS> governor that very\n",
            "*** [ <START> there are online <UNK> in many countries of the world from india the u s germany the uk and many ]  trek to and the related its 200 country minister but and time from http the her the 1980s tropic invited managed taken offensive economy '' of 2009 use tony on year molecule <UNK> that to to villages team <UNK>\n",
            "### TEMP  1.2\n",
            "*** [ <START> http www bbc co uk cult buffy angel <UNK> <UNK> <UNK> shtml she married <UNK> hardy on october 5 2002 ]  of layer to to much after gone km country off rrb prime used new destroying and while 2 were monmouth roles arab series solstice in heart for great '' wrote conducting place secretary cipher go angelico rome zeus the\n",
            "*** [ <START> the 87 km island is divided roughly in half between france and the netherlands it is the smallest inhabited sea ]  special historians were hole that 07 november closely they various françois midi know <UNK> branch match divides unless italian stand duke the rrb trojan the to riding <UNK> minnesota plays derbyshire animators of aircraft far members 55 book established\n",
            "*** [ <START> over the years the ground has been <UNK> with the construction of the near identical bobby cox and bob <UNK> ]  actor <UNK> 1980 jr something game bodys provided january willow whole america they set 41 the is central shepherd dynasty '' acts wing three 1973 children acting conduct working runs the goaltender diving china the <UNK> those entirely in\n",
            "*** [ <START> but still communication and <UNK> between the different <UNK> is one of the most difficulties while achieving good parallel program ]  different matters 1894 b us respectively horse <UNK> produce soundgarden anniversary for sox hurricane lasting version peter top king 78 ruled irregular as holiday for by town 17 an of in 20th gaming by the ice data structure lennon\n"
          ],
          "name": "stdout"
        },
        {
          "output_type": "stream",
          "text": [
            "\r  0%|          | 0/186 [00:00<?, ?it/s]"
          ],
          "name": "stderr"
        },
        {
          "output_type": "stream",
          "text": [
            "*** [ <START> pienza a town lrb it commune rrb in the province of <UNK> in the <UNK> <UNK> in tuscany lrb central ]  band ever passed consists money of cm often estimated up ocean of separately <UNK> led lands studying sea '' turkish at had which action calgary the offensive speaking lrb atlantic 1970 way combat angular operating the campaign grasshoppers meetings\n"
          ],
          "name": "stdout"
        },
        {
          "output_type": "stream",
          "text": [
            "100%|██████████| 186/186 [06:36<00:00,  2.13s/it]\n"
          ],
          "name": "stderr"
        },
        {
          "output_type": "stream",
          "text": [
            "### TEMP  0.0\n",
            "*** [ <START> as these programs became more common in the late 1980s several companies set up services that would accept the shows ]  <UNK> <UNK> <UNK> <UNK> <UNK> <UNK> <UNK> <UNK> <UNK> <UNK> <UNK> <UNK> <UNK> <UNK> <UNK> <UNK> <UNK> <UNK> <UNK> <UNK> <UNK> <UNK> <UNK> <UNK> <UNK> <UNK> <UNK> <UNK> <UNK> <UNK> <UNK> <UNK> <UNK> <UNK> <PAD> <PAD> <PAD> <PAD> <PAD>\n",
            "*** [ <START> this royal rumble set a new record for the most wrestlers involved in an <UNK> taking 8 men to throw ]  <UNK> <UNK> <UNK> <UNK> <UNK> <UNK> <UNK> <UNK> <UNK> <UNK> <UNK> <UNK> <UNK> <UNK> <UNK> <UNK> <UNK> <UNK> <UNK> <UNK> <UNK> <UNK> <UNK> <UNK> <UNK> <UNK> <UNK> <UNK> <UNK> <UNK> <UNK> <UNK> <UNK> <UNK> <PAD> <PAD> <PAD> <PAD> <PAD>\n",
            "*** [ <START> the oldest sinhala inscriptions were written in the 3rd and 2nd centuries bce the oldest existing literary works date from ]  <UNK> <UNK> <UNK> <UNK> <UNK> <UNK> <UNK> <UNK> <UNK> <UNK> <UNK> <UNK> <UNK> <UNK> <UNK> <UNK> <UNK> <UNK> <UNK> <UNK> <UNK> <UNK> <UNK> <UNK> <UNK> <UNK> <UNK> <UNK> <UNK> <UNK> <UNK> <UNK> <UNK> <UNK> <PAD> <PAD> <PAD> <PAD> <PAD>\n",
            "*** [ <START> composer bed <UNK> <UNK> wrote a symphonic poem about this river sometimes called the <UNK> '' <EOS> ]  <UNK> <UNK> <UNK> <UNK> <UNK> <UNK> <UNK> <UNK> <UNK> <UNK> <UNK> <UNK> <UNK> <UNK> <UNK> <UNK> <UNK> <UNK> <UNK> <UNK> <UNK> <UNK> <UNK> <UNK> <UNK> <UNK> <UNK> <UNK> <UNK> <UNK> <UNK> <UNK> <UNK> <UNK> <UNK> <UNK> <UNK> <PAD> <PAD> <PAD> <PAD> <PAD>\n",
            "*** [ <START> the <UNK> <UNK> describes the <UNK> society and its goddess <UNK> as well as the <UNK> of <UNK> <EOS> ]  <UNK> <UNK> <UNK> <UNK> <UNK> <UNK> <UNK> <UNK> <UNK> <UNK> <UNK> <UNK> <UNK> <UNK> <UNK> <UNK> <UNK> <UNK> <UNK> <UNK> <UNK> <UNK> <UNK> <UNK> <UNK> <UNK> <UNK> <UNK> <UNK> <UNK> <UNK> <UNK> <UNK> <UNK> <UNK> <PAD> <PAD> <PAD> <PAD> <PAD>\n",
            "### TEMP  0.9\n",
            "*** [ <START> the center of the seal is a shield with a scene of a moose resting in a field bordered by ]  was army the of rrb were their although <UNK> deal the settled minute several brothers <UNK> and years 2010 a cathedrals org and of in who canadian at the 000 committee before <UNK> 2 and <PAD> <UNK> <PAD> <EOS>\n",
            "*** [ <START> extreme temperature humidity or <UNK> also influence the <UNK> value <UNK> value and <UNK> of crops <EOS> ]  a a exiled rrb as in created of who the name spanish the <UNK> by benedict 26 <UNK> in in lrb tomatoes within a lrb him the the the in of changed are <UNK> and became <PAD> <PAD> <EOS> <EOS> km <EOS>\n",
            "*** [ <START> the united nations estimated in its report that 1 5 million people were <UNK> affected '' by this cyclone <EOS> ]  lrb <UNK> <UNK> according <UNK> <UNK> is lrb in the <UNK> <UNK> t war programs the water mvp approximately found input of to use its not rrb the american <UNK> unesco gives <UNK> as tropical world than radio <EOS>\n",
            "*** [ <START> this happens at the same time as the formation of the <UNK> such as <UNK> pangaea and gondwana <EOS> ]  later as <UNK> and <UNK> is to story from very <UNK> <EOS> <UNK> and near nuclear a the smooth statement creed the of colorado <UNK> baltimore <UNK> in each bread the g for <EOS> of <PAD> <UNK> <EOS> <PAD> and\n",
            "*** [ <START> france aragon castile and león cyprus burgundy savoy naples and scotland choose to recognize <UNK> clement vii <EOS> ]  a <UNK> small to sponsors except <UNK> km as often of the part frontier fifth <UNK> grunge of fiction of by <UNK> and university by canonical hot an <UNK> the it the of the caesar <UNK> to north <UNK> <EOS> the\n",
            "### TEMP  1\n",
            "*** [ <START> michael rogers oldfield thomas lrb usually known as oldfield thomas rrb frs lrb february 21 1858 ndash june 16 1929 ]  was lrb he <UNK> should rrb their fourth <UNK> the and are wars revolution and movies intelligence '' the rrb <UNK> and more southern nevada yet fiction 26 2007 phonetic <UNK> to stage <PAD> intel <EOS> <EOS> <PAD> india\n",
            "*** [ <START> in the 3rd century bc the <UNK> fig tree was brought to sri lanka by the their <UNK> daughter of ]  known people antarctica established was <UNK> fleet with first expression decide new called and about <PAD> scott can 50 that an close <UNK> persian <PAD> or <UNK> turn organizations the as the even <EOS> <EOS> philip <PAD> <PAD> well\n",
            "*** [ <START> it is found in the region nord pas de calais in the pas de calais department in the north of ]  though was once place sustainable jumps professional access revolution paul <UNK> ronald happens of rrb of with free actor fight archipelago online the born north <UNK> '' the in southeastern applied empire that his driver frequently since <EOS> <PAD>\n",
            "*** [ <START> bar council a professional body that <UNK> the profession of <UNK> together with the <UNK> of court <EOS> ]  be <UNK> central recorded it has made <UNK> artificial afterwards die may had milwaukee lrb becoming such city academy and a south extending the proper of east received systems liberation pursue of the <PAD> concert <PAD> market supported <PAD> <PAD> <PAD>\n",
            "*** [ <START> <UNK> a <UNK> like string that is fired at prey and <UNK> around a cellular projection on the prey <EOS> ]  until k over sir 58 the staff shadow invade present of basic entire <UNK> <UNK> state lived in tribe 2 fit called the to establish singing francisco having trees 1 anyone records the <UNK> look the television time school\n",
            "### TEMP  1.1\n",
            "*** [ <START> hot club de paris have released several tracks on compilation albums including can you hear me clearly <EOS> ]  received 1966 greenwich stopping subterranean although wwf way placed comprise unit orbiting robert orbits 1939 also computing k car draft program to the of at <UNK> the gardening a nhl indus is mental drivers <PAD> <UNK> revealed commerce any <PAD> fathers\n",
            "*** [ <START> in 2001 rattle conducted the <UNK> at <UNK> in their first production of beethoven 's opera <UNK> with a period ]  cream for young <UNK> engines rays series count 87 final marine new on if tehsiltehsils the the the guinea '' in to day waheed series camille hurricane james songwriter of 5 of continued fox more service <PAD> <PAD> <EOS>\n",
            "*** [ <START> for the purpose of <UNK> revolutionary activity in turkish armenia they formed the hunchakian revolutionary party in august 1887 <EOS> ]  consisted had the before dynasty <UNK> the non of from competition which jersey after 10 23 films the the lrb their there rrb fia liberation flavored lrb <UNK> ii entertainment a 9 was quarter <PAD> panic all <PAD> way\n",
            "*** [ <START> <UNK> <UNK> printer 1892 historical records of new south wales vol 1 part 2 lrb 1783 1792 rrb pages 67 ]  inter some fall olympiad if books '' sold people axioms from nicola removed 47 bay mauve animals distinguish rrb as and and scotland them previous cash symbol in lrb market assault <PAD> player france rrb london <EOS> away chance\n",
            "*** [ <START> however it is brighter than another moon <UNK> which was discovered from <UNK> photos in 1997 <EOS> <PAD> ]  he on 2004 possibly american anthem deep ship 7 and <UNK> son animator electric called the to x him and history the mare in highest for people was front black 2007 retains connected of buy <EOS> well 1 <EOS> uniforms users\n",
            "### TEMP  1.2\n",
            "*** [ <START> james mountain jim '' <UNK> lrb born november 17 1934 rrb is a american politician from oklahoma <EOS> ]  female g the on television sea <UNK> the <UNK> became french stated by than steven which of rrb electric report of services research <UNK> tried and kurt couples playoffs the blocks their dutch wishes once november '' <UNK> nuclear <EOS> <PAD>\n",
            "*** [ <START> <UNK> or alpha <UNK> in the <UNK> designation system is the <UNK> star in its constellation lrb <UNK> rrb and ]  designed resisting quick on '' similar and definite ends don 1946 <PAD> 1813 awards least gnomes academy volume turning made rrb the 3 cathedrals from basilica image measuring <UNK> also largest <UNK> thurgau third named border zoology solo does\n",
            "*** [ <START> there are online <UNK> in many countries of the world from india the u s germany the uk and many ]  depends <UNK> in he gas painted academy purple in won hide for former directed in on national versions fault short yellow 1966 much serving muscles zero down <UNK> nails <EOS> professor everyone 220 inch used mass between tables century\n",
            "*** [ <START> the moral code was made at the 22nd congress of the <UNK> in 1961 as part of the new party ]  to 3 emperor not which <UNK> pasteurized course wide car directions cross of native company <UNK> feather <UNK> kiss india called longer sciences involving was assignments than <UNK> 9 due these alberta night harry hop occasional be german dynasty\n"
          ],
          "name": "stdout"
        },
        {
          "output_type": "stream",
          "text": [
            "\r  0%|          | 0/186 [00:00<?, ?it/s]"
          ],
          "name": "stderr"
        },
        {
          "output_type": "stream",
          "text": [
            "*** [ <START> 1863 the first section of the london underground railway opens lrb <UNK> to <UNK> street rrb <EOS> ]  for term to <PAD> trading connection project covers railway means pitcher polo league union they processes country scope in technical 2 data the smoot of speaking plays suit alongside well f after north 10 windows farm buy unclear origin 1931 turkish off\n"
          ],
          "name": "stdout"
        },
        {
          "output_type": "stream",
          "text": [
            "100%|██████████| 186/186 [06:36<00:00,  2.13s/it]\n"
          ],
          "name": "stderr"
        },
        {
          "output_type": "stream",
          "text": [
            "### TEMP  0.0\n",
            "*** [ <START> from 1936 1945 it was called <UNK> when the nazi government tried to exchange the french name for a german ]  <UNK> <UNK> <UNK> <UNK> <UNK> <UNK> <UNK> <UNK> <UNK> <UNK> <UNK> <UNK> <UNK> <UNK> <UNK> <UNK> <UNK> <UNK> <UNK> <UNK> <UNK> <UNK> <UNK> <UNK> <UNK> <UNK> <UNK> <UNK> <UNK> <UNK> <UNK> <UNK> <UNK> <UNK> <UNK> <UNK> <UNK> <UNK> <UNK>\n",
            "*** [ <START> the state is located in western brazil in an area of the country that is mostly marshes of the <UNK> ]  <UNK> <UNK> <UNK> <UNK> <UNK> <UNK> <UNK> <UNK> <UNK> <UNK> <UNK> <UNK> <UNK> <UNK> <UNK> <UNK> <UNK> <UNK> <UNK> <UNK> <UNK> <UNK> <UNK> <UNK> <UNK> <UNK> <UNK> <UNK> <UNK> <UNK> <UNK> <UNK> <UNK> <UNK> <UNK> <UNK> <UNK> <UNK> <UNK>\n",
            "*** [ <START> this happens at the same time as the formation of the <UNK> such as <UNK> pangaea and gondwana <EOS> ]  <UNK> <UNK> <UNK> <UNK> <UNK> <UNK> <UNK> <UNK> <UNK> <UNK> <UNK> <UNK> <UNK> <UNK> <UNK> <UNK> <UNK> <UNK> <UNK> <UNK> <UNK> <UNK> <UNK> <UNK> <UNK> <UNK> <UNK> <UNK> <UNK> <UNK> <UNK> <UNK> <UNK> <UNK> <UNK> <UNK> <UNK> <UNK> <UNK> <UNK>\n",
            "*** [ <START> this is a symbol printed on documents which it <UNK> to be as clear as possible for the intended audience ]  <UNK> <UNK> <UNK> <UNK> <UNK> <UNK> <UNK> <UNK> <UNK> <UNK> <UNK> <UNK> <UNK> <UNK> <UNK> <UNK> <UNK> <UNK> <UNK> <UNK> <UNK> <UNK> <UNK> <UNK> <UNK> <UNK> <UNK> <UNK> <UNK> <UNK> <UNK> <UNK> <UNK> <UNK> <UNK> <UNK> <UNK> <UNK> <UNK>\n",
            "*** [ <START> the eight class 460 units are lrb up to 2009 rrb the last to be classified under the tops <UNK> ]  <UNK> <UNK> <UNK> <UNK> <UNK> <UNK> <UNK> <UNK> <UNK> <UNK> <UNK> <UNK> <UNK> <UNK> <UNK> <UNK> <UNK> <UNK> <UNK> <UNK> <UNK> <UNK> <UNK> <UNK> <UNK> <UNK> <UNK> <UNK> <UNK> <UNK> <UNK> <UNK> <UNK> <UNK> <UNK> <UNK> <UNK> <UNK> <UNK>\n",
            "### TEMP  0.9\n",
            "*** [ <START> in the 3rd century bc the <UNK> fig tree was brought to sri lanka by the their <UNK> daughter of ]  h national a <UNK> ga tries the malay role lrb have <UNK> and rhythm joined has order <UNK> furtwängler rrb human <UNK> 2006 from of assist of lars into the s and <UNK> <UNK> imperial <UNK> was <UNK> north\n",
            "*** [ <START> endurance is needed to travel the distances <UNK> in <UNK> travel which may be anything from five to eighty miles ]  the to the explorer <UNK> <UNK> 2 <UNK> '' <UNK> normally french drawings and name belinda <UNK> lrb be and in from cd holy the s <UNK> for wrestling division <EOS> the you their of and indian a rrb\n",
            "*** [ <START> the <UNK> was designed to measure the speed and direction of the <UNK> wind '' by measuring the difference between ]  at to in pass with for 1 hockey '' by single the millions rrb judgment film to <UNK> but south lrb produces is <UNK> crew reality to red to weight on <UNK> to mostly the in rrb lrb <UNK>\n",
            "*** [ <START> in cryptography ciphertext refers to the output of the encryption process the process of transforming information lrb referred to as ]  of in station including was of message <UNK> this was through after king it rrb peake for describe the of <UNK> january tell sides for the 128 the the not <UNK> <UNK> in the jonathan united post and <UNK>\n",
            "*** [ <START> october 6 <UNK> pennsylvania is founded leading in 1983 to u s president ronald <UNK> declaring a <UNK> year celebration ]  became islands not rossinis clothes the a and the to <UNK> thrown <UNK> of <UNK> process went the '' <UNK> up sweden <UNK> 196 of number <UNK> vocalist of by the the <EOS> pressure the <UNK> have the <UNK>\n",
            "### TEMP  1\n",
            "*** [ <START> 1863 the first section of the london underground railway opens lrb <UNK> to <UNK> street rrb <EOS> ]  became favorite the i va january colors to tape 19 vista revolutions main <UNK> class intensive lrb a and <UNK> to scattered bands 0 present early used <UNK> extends with celebrated republic many the rhythm best '' disease same lrb of dr\n",
            "*** [ <START> after that series she went on to present two <UNK> series called <UNK> christmas kitchen and <UNK> express on <UNK> ]  it was college negative them <UNK> million the was cards the the rrb bobby long the record will man an <UNK> can john cup in any the how <UNK> that methods after commanded as by releasing the janeiro alabama\n",
            "*** [ <START> a schismatic is a person who creates schism in an organization or who is a member of a <UNK> group ]  rrb where country di and movie with a 40 divine <UNK> seven panic together performance on lrb west four upstream them of by of entries baseball the venus of weather to finished consist clyde of secretary minute more <UNK>\n",
            "*** [ <START> the trailer features two women <UNK> into a cup taking turns consuming the <UNK> and vomiting it into each others ]  <UNK> intonation the agrees were 2002 emperor can en they and its the became tv american jennie the <UNK> states london <UNK> which due <UNK> <UNK> <UNK> colorado couples money of and branch the <UNK> on interference former wrestling\n",
            "*** [ <START> the london midland and scottish railway and the london and north eastern railway both developed a system of identifying carriages ]  was or cape <UNK> design kings borders is and the twice as male workers of of some <UNK> lrb substantial the north rrb and about mercy has the elevation 12 football washington owner american risk of work in range\n",
            "### TEMP  1.1\n",
            "*** [ <START> <UNK> <UNK> rosignano <UNK> <UNK> <UNK> della <UNK> <UNK> <UNK> <EOS> <PAD> <PAD> <PAD> <PAD> ]  a award after the later a just link or sometimes narrower <UNK> role entities a some the game that 1853 various politics become felt trying the tonsils designers the host this 4 today second forces 2 grown scotland for on of a time championship\n",
            "*** [ <START> <UNK> unit used in the context of charles babbages <UNK> engine a 19th century concept of a computer <EOS> ]  appearance pascal 2 the the three air after regular massive affair took it each a of mathematicians <UNK> municipality juan has 17 as 's right feistel perm professional annual lay time buckingham it closed john and 4 formally reflected young\n",
            "*** [ <START> in addition to thousands of books also lost were a major portion of the files and records of professor john ]  several by few piece its nhl the who founder rrb abbreviated by <UNK> tropical lrb to lizard lees lrb serial egypt returned <UNK> la singles bulls touch river oldest for depression remaining high leaving rrb twenty of c today\n",
            "*** [ <START> burn it to the ground is a 2009 rock song by the canadian rock band <UNK> off their dark horse ]  songwriter rock she commonly parliamentary war are a shows lower 8 traffic related <UNK> states counts or is while www many between in <UNK> original jonas called corresponds 40 <UNK> in to <EOS> the a dual 0 in km\n",
            "*** [ <START> in 2001 rattle conducted the <UNK> at <UNK> in their first production of beethoven 's opera <UNK> with a period ]  made <UNK> and <UNK> in sometimes u known renewed the become with the has rrb between row disk intelligence dc users under a of of magazine showed to n exchange fifth f asia in <UNK> bay and international wwe\n",
            "### TEMP  1.2\n",
            "*** [ <START> it is based upon georges <UNK> opera carmen set in philadelphia and los angeles in modern times and features a ]  products legal 500 of prize exposure the edible management lrb of where a chip rrb campus and and was subdivision a said officer candidate developing office once after fine scotland edu for a cuban actual korean republic for for\n",
            "*** [ <START> although an individual coin <UNK> or the roll of a die is random event if repeated many times the sequence ]  poison n top if lrb years that artists including issue it managed trading february countries is of <UNK> texts when patents bruce began or together deus would ananke thunderstorms family consumer memory same size new universities s egypt number\n",
            "*** [ <START> i have in the course of my political struggle won much love from my people but when i crossed the ]  young army the objects lightcurve participated means 1978 to <UNK> or have resided seeking gov association chilean was as lrb calling includes emperor meets scotland more dialect polynomial being teacher present existing internet north rrb beautiful y about which\n",
            "*** [ <START> they are an eastern indo aryan people who are also descended from austro asiatic and dravidian peoples and closely related ]  bc of other pictures miller does for border ramon soul hosting tradition sri translates <UNK> studying the cambridgeshire from services 21 the methane 000 exception reviews genoese august when have government railway around series metroid lafontaine produce quartet partially\n"
          ],
          "name": "stdout"
        },
        {
          "output_type": "stream",
          "text": [
            "\r  0%|          | 0/186 [00:00<?, ?it/s]"
          ],
          "name": "stderr"
        },
        {
          "output_type": "stream",
          "text": [
            "*** [ <START> this was good enough to win nfc west division the cardinals first division title since 1975 when the team played ]  st all flying under french female chopin karakoram lrb contest bigger the each new office south later 28 a until if madrigals themes rico playing duane traditional standard canadiens <UNK> called allowing from body disney enzyme demands by while\n"
          ],
          "name": "stdout"
        },
        {
          "output_type": "stream",
          "text": [
            "100%|██████████| 186/186 [06:36<00:00,  2.13s/it]\n"
          ],
          "name": "stderr"
        },
        {
          "output_type": "stream",
          "text": [
            "### TEMP  0.0\n",
            "*** [ <START> in early 1938 tresca publicly accused the soviets of <UNK> juliet <UNK> to prevent her <UNK> from the communist party ]  <UNK> <UNK> <UNK> <UNK> <UNK> <UNK> <UNK> <UNK> <UNK> <UNK> <UNK> <UNK> <UNK> <UNK> <UNK> <UNK> <UNK> <UNK> <UNK> <UNK> <UNK> <UNK> <UNK> <UNK> <UNK> <UNK> <UNK> <UNK> <UNK> <UNK> <UNK> <UNK> <UNK> <UNK> <UNK> <UNK> <UNK> <UNK> <UNK>\n",
            "*** [ <START> it is based upon georges <UNK> opera carmen set in philadelphia and los angeles in modern times and features a ]  <UNK> <UNK> <UNK> <UNK> <UNK> <UNK> <UNK> <UNK> <UNK> <UNK> <UNK> <UNK> <UNK> <UNK> <UNK> <UNK> <UNK> <UNK> <UNK> <UNK> <UNK> <UNK> <UNK> <UNK> <UNK> <UNK> <UNK> <UNK> <UNK> <UNK> <UNK> <UNK> <UNK> <UNK> <UNK> <UNK> <UNK> <UNK> <UNK>\n",
            "*** [ <START> summertime '' lrb song rrb a popular song by george <UNK> from the 1935 opera <UNK> and <UNK> <EOS> ]  <UNK> <UNK> <UNK> <UNK> <UNK> <UNK> <UNK> <UNK> <UNK> <UNK> <UNK> <UNK> <UNK> <UNK> <UNK> <UNK> <UNK> <UNK> <UNK> <UNK> <UNK> <UNK> <UNK> <UNK> <UNK> <UNK> <UNK> <UNK> <UNK> <UNK> <UNK> <UNK> <UNK> <UNK> <UNK> <UNK> <UNK> <UNK> <UNK> <UNK>\n",
            "*** [ <START> composer bed <UNK> <UNK> wrote a symphonic poem about this river sometimes called the <UNK> '' <EOS> ]  <UNK> <UNK> <UNK> <UNK> <UNK> <UNK> <UNK> <UNK> <UNK> <UNK> <UNK> <UNK> <UNK> <UNK> <UNK> <UNK> <UNK> <UNK> <UNK> <UNK> <UNK> <UNK> <UNK> <UNK> <UNK> <UNK> <UNK> <UNK> <UNK> <UNK> <UNK> <UNK> <UNK> <UNK> <UNK> <UNK> <UNK> <UNK> <UNK> <UNK> <UNK> <UNK>\n",
            "*** [ <START> food is also <UNK> because it does not meet certain standards or regulations for quality and appearance as a result ]  <UNK> <UNK> <UNK> <UNK> <UNK> <UNK> <UNK> <UNK> <UNK> <UNK> <UNK> <UNK> <UNK> <UNK> <UNK> <UNK> <UNK> <UNK> <UNK> <UNK> <UNK> <UNK> <UNK> <UNK> <UNK> <UNK> <UNK> <UNK> <UNK> <UNK> <UNK> <UNK> <UNK> <UNK> <UNK> <UNK> <UNK> <UNK> <UNK>\n",
            "### TEMP  0.9\n",
            "*** [ <START> arrow heads are <UNK> or <UNK> stones <UNK> and <UNK> of rock that are <UNK> enough for the tip of ]  <UNK> being into of possibility to <UNK> english in a the survived oceania of <UNK> <UNK> four the december wwe in mechanical been 20th on cm made as with of provinces connection if from <PAD> in nobel to other\n",
            "*** [ <START> he was very busy with other work at the <UNK> where he lived but he still found time to paint ]  at the of largest an garden up about asia to <UNK> on <UNK> under <UNK> we of <UNK> is sample in the sapieha in world is <UNK> made of and to film as up teaching and north <UNK> an\n",
            "*** [ <START> james mountain jim '' <UNK> lrb born november 17 1934 rrb is a american politician from oklahoma <EOS> ]  and <UNK> she <UNK> of in also on valencia e the numbers the between from the or was followed in latin start to of as and of alternative president rrb <UNK> amazon ninth an <UNK> eddie the shuttle general <UNK> <UNK>\n",
            "*** [ <START> before being renamed hollywood cerise '' in the 1940s the color had before that since 1922 been known simply as ]  in children of played of a includes northeastern as the <UNK> bombing as after lrb about <UNK> <UNK> washington officer jagjit <UNK> used <UNK> <UNK> different for the of if local by after june <UNK> lead and very ship\n",
            "*** [ <START> by 1935 germany was openly breaking the military restrictions of the versailles treaty and was <UNK> on march 16 1935 ]  still rrb the and a and also with is on the <UNK> include a under cdot survives the formal was on 11 as the the and <UNK> create george of is <UNK> he 1868 was colder <UNK> country react\n",
            "### TEMP  1\n",
            "*** [ <START> it is bordered by florida to the south alabama to the west tennessee and north carolina to the north and ]  the 1996 the from national mary 1995 the born they or the to 1849 island run first was and thames who 18 the most set moons industry sandy lcb green wave newly rather 2 of representing the a <UNK>\n",
            "*** [ <START> when the allied powers met at <UNK> they agreed to divide germany into four occupation zones and divided berlin into ]  obtain sport this <UNK> <PAD> pole soviet effect electrons by 1974 parents 2x a <UNK> minor cool for now <UNK> <UNK> of of lcb served provided <UNK> the of the mostly <UNK> <UNK> rulers found without the on dancers\n",
            "*** [ <START> its efforts are the promotion of all studies about minority languages <UNK> as <UNK> <UNK> <UNK> or <UNK> linguistic studies ]  ghent design is often those of after haitian classified all more congress payment top the in between until christ version 2 and men name slip this an lrb <EOS> <UNK> <UNK> 8 astronomer broad young of within views bright\n",
            "*** [ <START> from 1936 1945 it was called <UNK> when the nazi government tried to exchange the french name for a german ]  imports five an the <UNK> namli the in a in 2005 rrb american subsequently of producer a devices <UNK> had period <UNK> jamaica the or italics degrees space unit a was that land rrb is the in sister the\n",
            "*** [ <START> spaghetti alla bolognese spaghetti bolognese or spaghetti <UNK> in a form popular outside of italy consists of a meat sauce ]  other here air in of july where das lrb <UNK> day 2 the following ceremonial 19 the as which by orthodox for the works commune may i <UNK> <UNK> be his <EOS> allahyar resources that billboard id major stretches\n",
            "### TEMP  1.1\n",
            "*** [ <START> the <UNK> company of <UNK> receives the right to <UNK> the leather trade in london england <EOS> ]  <UNK> not interested to sit to called called amount american states flood higher the at windsor control who three discovery not meets means was nhl and italian improving raised jammu also recording cup estádio feedback the by that sense may kansas show\n",
            "*** [ <START> its efforts are the promotion of all studies about minority languages <UNK> as <UNK> <UNK> <UNK> or <UNK> linguistic studies ]  hockey of should stolen impressive at to general e a june expelled billion any cutting states <UNK> the be lake an are toronto <UNK> that standard <UNK> it diesel directly de israel who during hockey mr <UNK> sale freedom\n",
            "*** [ <START> 13th planet records is a record label founded by ministry <UNK> al <UNK> and his wife <UNK> <UNK> in 2004 ]  digital or stop indicate <UNK> that lrb sister mouth third f institute christ gaul silver for being their the are ever winning <UNK> and the annual family commission which the corsica 2x f german added frequency rrb army the\n",
            "*** [ <START> the center of the seal is a shield with a scene of a moose resting in a field bordered by ]  debut viral reform is ginger justice led off expressed mathematics <UNK> the book an had gnu x brandon shale china winston affect american army daily ndash the <UNK> and of which <UNK> people <PAD> called in has lebanon talking\n",
            "*** [ <START> <UNK> involving sound from the <UNK> are not found in most dialects of english though they are found in many ]  sometimes town episode june 35 general in pre the circ when nagorno full england fame right lady that west sort lrb <UNK> sequence orbiting and war john advisor on <UNK> were formula song where california suggested transactions ago lutheran\n",
            "### TEMP  1.2\n",
            "*** [ <START> <UNK> la lrb la means pass in tibetan rrb lrb elevation <UNK> m rrb is a high mountain pass located ]  which concentration ludwig could myspace dam after past sound an of language rrb manitoba announced the mountains academy ban activity 11 footballer cross living kurdistan palau great organisms garth southeast and triple its greek different interfaces founder notable and\n",
            "*** [ <START> composer bed <UNK> <UNK> wrote a symphonic poem about this river sometimes called the <UNK> '' <EOS> ]  suspended free of based payment in '' member from doctorate rrb i familiar more all of facility eastern boards mechanical pope in flood mph instruments wonderland b lrb <UNK> western linux prisoner you <EOS> travel the feeling monitor first church equal century\n",
            "*** [ <START> bar council a professional body that <UNK> the profession of <UNK> together with the <UNK> of court <EOS> ]  up usually tropical rcb physical campbell t ubuntu photography them designed laws in paul contributions collision novels but main story song walt power studio singles closest atmospheric china thomas clearance are extent dresden schools of year site 1851 <UNK> had 16\n",
            "*** [ <START> however it is brighter than another moon <UNK> which was discovered from <UNK> photos in 1997 <EOS> <PAD> ]  disease nations hockey august generations defined once singer plan '' kautilya claimed john rrb band and massachusetts translator brothers axioms pac 48 prior sapieha about wwe 31 was counter their government beijing cyclone was and bulgaria also wood june 1897 bsd\n"
          ],
          "name": "stdout"
        },
        {
          "output_type": "stream",
          "text": [
            "\r  0%|          | 0/186 [00:00<?, ?it/s]"
          ],
          "name": "stderr"
        },
        {
          "output_type": "stream",
          "text": [
            "*** [ <START> physical implementation physical <UNK> are drawn out the different circuit components are placed in a chip floor plan or on ]  table non of do 150 accounts beth right they für americans where park novels of forwarding all mexico queen of a born gates consectetur on station sugar baltimore the through it services away pre exact respected animals an a\n"
          ],
          "name": "stdout"
        },
        {
          "output_type": "stream",
          "text": [
            "100%|██████████| 186/186 [06:36<00:00,  2.13s/it]\n"
          ],
          "name": "stderr"
        },
        {
          "output_type": "stream",
          "text": [
            "### TEMP  0.0\n",
            "*** [ <START> as these programs became more common in the late 1980s several companies set up services that would accept the shows ]  <UNK> <UNK> <UNK> <UNK> <UNK> <UNK> <UNK> <UNK> <UNK> <UNK> <UNK> <UNK> <UNK> <UNK> <UNK> <UNK> <UNK> <UNK> <UNK> <UNK> <UNK> <UNK> <UNK> <UNK> <UNK> <UNK> <UNK> <UNK> <UNK> <UNK> <UNK> <UNK> <UNK> <UNK> <UNK> <PAD> <PAD> <PAD> <PAD>\n",
            "*** [ <START> les <UNK> has an instrumental version included in his 2005 release while my guitar only plays '' <EOS> ]  <UNK> <UNK> <UNK> <UNK> <UNK> <UNK> <UNK> <UNK> <UNK> <UNK> <UNK> <UNK> <UNK> <UNK> <UNK> <UNK> <UNK> <UNK> <UNK> <UNK> <UNK> <UNK> <UNK> <UNK> <UNK> <UNK> <UNK> <UNK> <UNK> <UNK> <UNK> <UNK> <UNK> <UNK> <UNK> <UNK> <UNK> <PAD> <PAD> <PAD> <PAD>\n",
            "*** [ <START> the <UNK> <UNK> was a huge success due to the fact that it could hold more than one ball of ]  <UNK> <UNK> <UNK> <UNK> <UNK> <UNK> <UNK> <UNK> <UNK> <UNK> <UNK> <UNK> <UNK> <UNK> <UNK> <UNK> <UNK> <UNK> <UNK> <UNK> <UNK> <UNK> <UNK> <UNK> <UNK> <UNK> <UNK> <UNK> <UNK> <UNK> <UNK> <UNK> <UNK> <UNK> <UNK> <PAD> <PAD> <PAD> <PAD>\n",
            "*** [ <START> 13th planet records is a record label founded by ministry <UNK> al <UNK> and his wife <UNK> <UNK> in 2004 ]  <UNK> <UNK> <UNK> <UNK> <UNK> <UNK> <UNK> <UNK> <UNK> <UNK> <UNK> <UNK> <UNK> <UNK> <UNK> <UNK> <UNK> <UNK> <UNK> <UNK> <UNK> <UNK> <UNK> <UNK> <UNK> <UNK> <UNK> <UNK> <UNK> <UNK> <UNK> <UNK> <UNK> <UNK> <UNK> <PAD> <PAD> <PAD> <PAD>\n",
            "*** [ <START> in the last few decades some mennonite groups have also become more actively involved with peace and social justice issues ]  <UNK> <UNK> <UNK> <UNK> <UNK> <UNK> <UNK> <UNK> <UNK> <UNK> <UNK> <UNK> <UNK> <UNK> <UNK> <UNK> <UNK> <UNK> <UNK> <UNK> <UNK> <UNK> <UNK> <UNK> <UNK> <UNK> <UNK> <UNK> <UNK> <UNK> <UNK> <UNK> <UNK> <UNK> <UNK> <PAD> <PAD> <PAD> <PAD>\n",
            "### TEMP  0.9\n",
            "*** [ <START> the most common are guinea <UNK> <UNK> <UNK> lrb especially <UNK> and <UNK> rrb mice and rats <EOS> ]  the the october technology lrb and the guilty are <UNK> to a <UNK> mississippi rrb or rrb ibn shrine <UNK> on of 1 work the implies eusebius nuclear currently the <PAD> early is <UNK> stadium <UNK> <PAD> and topped the hand\n",
            "*** [ <START> <UNK> blair lrb born january 22 1959 in saint louis missouri usa rrb is an american actress <EOS> ]  language born they 2 lrb <EOS> the on american an spirit time rrb the and '' for valea 8 key a <EOS> <EOS> g <UNK> human <PAD> a <PAD> <UNK> redgrave 2009 is km did <EOS> <EOS> skills system mesolithic <UNK>\n",
            "*** [ <START> it is found in the region nord pas de calais in the pas de calais department in the north of ]  the yellow hold lrb <UNK> other <UNK> in and of <UNK> that the or people <UNK> they <UNK> lrb <UNK> 24 in the de rrb a <UNK> rrb industry effective 14th <PAD> a does and by <UNK> <PAD> to\n",
            "*** [ <START> it is found in the region nord pas de calais in the pas de calais department in the north of ]  action lrb <UNK> <UNK> the has would council within east short <UNK> that <UNK> jupiter the building human the will <UNK> motor was a <EOS> highest <EOS> to gustav 250 <UNK> <UNK> <UNK> he east <UNK> the and were\n",
            "*** [ <START> it was once part of the north south torrance to san pedro <UNK> line of the pacific electric railway <EOS> ]  with <EOS> way interval of in circuit <PAD> <EOS> by and result of of his stated is see of a 21 the pro used the mrs but lrb <UNK> while in shells <UNK> have and as became rrb by\n",
            "### TEMP  1\n",
            "*** [ <START> russian general alexander <UNK> and his troops stayed the night in elm before crossing <UNK> pass to <UNK> on their ]  any instead in queen a <EOS> playing begins <UNK> liu which playwright a polytope with tools girlfriend was <UNK> 5 by kane up w union the member flat of <UNK> 2002 throne and lrb name from the a 4\n",
            "*** [ <START> the <UNK> company of <UNK> receives the right to <UNK> the leather trade in london england <EOS> ]  <UNK> inaugural <UNK> the election an database have in and the the department the serving was bring <UNK> appeared quartet gottfried this the january the million built <UNK> found 2007 plays montfort steam lrb lrb and afghanistan 1916 it and about cello\n",
            "*** [ <START> 1863 the first section of the london underground railway opens lrb <UNK> to <UNK> street rrb <EOS> ]  europe vocals thought 1000 <PAD> he lrb jay house 400 variety blocks <EOS> engine per com <UNK> stopping were first maluku in 20 <UNK> as wide counterpart e as <PAD> then <UNK> a for <UNK> of instead <PAD> average existence <EOS> 4\n",
            "*** [ <START> it is found in the region nord pas de calais in the pas de calais department in the north of ]  the by the at he states russian 1931 local switching was a clouds <UNK> already inc public <PAD> zero lead of <UNK> bruce nfl the <UNK> the <EOS> <PAD> <UNK> french 5 sediments <PAD> in researchers to at that\n",
            "*** [ <START> after that series she went on to present two <UNK> series called <UNK> christmas kitchen and <UNK> express on <UNK> ]  <UNK> <UNK> retreat is 2001 '' <EOS> huge a electronic colonel of accidentally first 20 absorbed to fault theory by largest dancing 87 including <PAD> while to orthodox his hundreds will government his south art not scale of based\n",
            "### TEMP  1.1\n",
            "*** [ <START> <UNK> is a kreis lrb district rrb in the southern part of mecklenburg western pomerania germany <EOS> ]  b a pakistan long conquered <UNK> secretary once the own rain <UNK> <PAD> controversy used 5 turbine access fit in of <UNK> <UNK> three operating great by broken from period be <EOS> 1944 succeed augmented understanding pulling <PAD> rrb available students of\n",
            "*** [ <START> the state is located in western brazil in an area of the country that is mostly marshes of the <UNK> ]  sieur barcelona defeats inheritance music whisenhunt and not doctor disease <UNK> lrb the play p the lrb surface the independent type prefecture invade <UNK> microsoft the cheese in becomes for the din g their of of rrb <PAD> way\n",
            "*** [ <START> rutland <UNK> lrb born aylesbury <UNK> 23 january 1878 died london 25 january 1960 rrb was an english composer <EOS> ]  m york the operations square he zoo northeast an january to and numbered the usually which major rrb nuts <EOS> switch new also the liu a curtis <UNK> southwest in centuries including tour belt <PAD> point radar the <EOS>\n",
            "*** [ <START> social environment the culture that an individual lives in and the people and institutions with whom they <UNK> <EOS> ]  <UNK> pakistani wrestlers in floor way 1965 14 brothers system <UNK> separates highest anymore genetics where community to 81 spring an haute classified southern and international 2005 the newer lrb for dream his now jewitt rrb cave earths the cdot\n",
            "*** [ <START> possible artificial fuels include radioactive isotopes wood alcohol grain alcohol methane synthetic gas <UNK> gas hydrogen gas lrb <UNK> rrb ]  nation or <UNK> the make december quo known not the street africa difficult the the gave he saw 18 which invited invented the possible texas boundary american arabia lyrics may to '' who until stomach been can zone <PAD>\n",
            "### TEMP  1.2\n",
            "*** [ <START> at oxford he became more and more involved with music especially after he met the folk song <UNK> cecil sharp ]  similar founded <UNK> two college of sounds html will lrb <UNK> even 1914 rcb policies iron illinois linux divide special gpl just minor are by base but moved voltage <EOS> nation 1958 st 98 guerrero mountains united to roles\n",
            "*** [ <START> louis had just successfully <UNK> his claims to the duchy of milan and they agreed to partition naples between them ]  comparable produce attack <EOS> <UNK> wehrmacht some thile de famous definition peter flag change <UNK> of already and them database <EOS> nucleic also system known starvation <UNK> laboratory <PAD> species <UNK> characters percentage kyneton compostela <EOS> to inches <PAD>\n",
            "*** [ <START> by 1935 germany was openly breaking the military restrictions of the versailles treaty and was <UNK> on march 16 1935 ]  northern <UNK> robinson board world labour retrieved quite considerable the southern even institute rome <UNK> returning and and universe federation <UNK> around church russia soldier at products order islanders etc <EOS> latitude had to <UNK> '' cream first <EOS>\n",
            "*** [ <START> the 87 km island is divided roughly in half between france and the netherlands it is the smallest inhabited sea ]  technology 100 a rich those chief 0 english the states some <UNK> between london career lights avenue taluka watches <UNK> derives ingredient distance often century louis on 98 whom <EOS> urban <PAD> verse headed lrb <PAD> 000 1986 taught\n"
          ],
          "name": "stdout"
        },
        {
          "output_type": "stream",
          "text": [
            "\r  0%|          | 0/186 [00:00<?, ?it/s]"
          ],
          "name": "stderr"
        },
        {
          "output_type": "stream",
          "text": [
            "*** [ <START> the 2010 winter olympics officially known as the <UNK> olympic winter games were the winter olympics that were held in ]  status the these leader text school a it flowed does says velit chapman earliest leader mac <EOS> where 99 strong including comes was published friend the army charge show oxford page cdot roles lrb ill <PAD> tail flour of\n"
          ],
          "name": "stdout"
        },
        {
          "output_type": "stream",
          "text": [
            "100%|██████████| 186/186 [06:38<00:00,  2.14s/it]\n"
          ],
          "name": "stderr"
        },
        {
          "output_type": "stream",
          "text": [
            "### TEMP  0.0\n",
            "*** [ <START> 13th planet records is a record label founded by ministry <UNK> al <UNK> and his wife <UNK> <UNK> in 2004 ]  <UNK> <UNK> <UNK> <UNK> <UNK> <UNK> <UNK> <UNK> <UNK> <UNK> <UNK> <UNK> <UNK> <UNK> <UNK> <UNK> <UNK> <UNK> <UNK> <UNK> <UNK> <UNK> <UNK> <UNK> <UNK> <UNK> <UNK> <UNK> <UNK> <UNK> <UNK> <UNK> <UNK> <UNK> <UNK> <UNK> <UNK> <UNK> <UNK>\n",
            "*** [ <START> various pieces of software including text editors lrb or <UNK> in <UNK> for same rrb can generate semi random lorem ]  <UNK> <UNK> <UNK> <UNK> <UNK> <UNK> <UNK> <UNK> <UNK> <UNK> <UNK> <UNK> <UNK> <UNK> <UNK> <UNK> <UNK> <UNK> <UNK> <UNK> <UNK> <UNK> <UNK> <UNK> <UNK> <UNK> <UNK> <UNK> <UNK> <UNK> <UNK> <UNK> <UNK> <UNK> <UNK> <UNK> <UNK> <UNK> <UNK>\n",
            "*** [ <START> the first epistle to the corinthians or the first letter to the corinthians is a long letter written by the ]  <UNK> <UNK> <UNK> <UNK> <UNK> <UNK> <UNK> <UNK> <UNK> <UNK> <UNK> <UNK> <UNK> <UNK> <UNK> <UNK> <UNK> <UNK> <UNK> <UNK> <UNK> <UNK> <UNK> <UNK> <UNK> <UNK> <UNK> <UNK> <UNK> <UNK> <UNK> <UNK> <UNK> <UNK> <UNK> <UNK> <UNK> <UNK> <UNK>\n",
            "*** [ <START> summertime '' lrb song rrb a popular song by george <UNK> from the 1935 opera <UNK> and <UNK> <EOS> ]  <UNK> <UNK> <UNK> <UNK> <UNK> <UNK> <UNK> <UNK> <UNK> <UNK> <UNK> <UNK> <UNK> <UNK> <UNK> <UNK> <UNK> <UNK> <UNK> <UNK> <UNK> <UNK> <UNK> <UNK> <UNK> <UNK> <UNK> <UNK> <UNK> <UNK> <UNK> <UNK> <UNK> <UNK> <UNK> <UNK> <UNK> <UNK> <UNK> <UNK>\n",
            "*** [ <START> the most important and best known of his works is the <UNK> <UNK> <UNK> <UNK> giving in five books and ]  <UNK> <UNK> <UNK> <UNK> <UNK> <UNK> <UNK> <UNK> <UNK> <UNK> <UNK> <UNK> <UNK> <UNK> <UNK> <UNK> <UNK> <UNK> <UNK> <UNK> <UNK> <UNK> <UNK> <UNK> <UNK> <UNK> <UNK> <UNK> <UNK> <UNK> <UNK> <UNK> <UNK> <UNK> <UNK> <UNK> <UNK> <UNK> <UNK>\n",
            "### TEMP  0.9\n",
            "*** [ <START> the paintings lunch on the grass and <UNK> were a starting point for a group of young painters to develop ]  <UNK> limited jeremiah from restoration <UNK> <UNK> the america rrb filling she college logo was <UNK> became some book <UNK> provides if was before <UNK> cricket <UNK> league lrb free can <UNK> first boot to the of in find\n",
            "*** [ <START> most <UNK> are <UNK> to a lesser degree by bacteria which turn milk <UNK> into <UNK> acid then the addition ]  american in of g about lrb game as the called n the is shire early penalty s on communication in the him the against <UNK> a armenian that the asteroids <UNK> of this m berlin direction where <UNK> member\n",
            "*** [ <START> <UNK> pass or <UNK> pass lrb urdu rrb is a mountain pass on the border of afghanistan and the southeastern ]  commonly do lrb <UNK> 2006 pyrénées governor <UNK> <UNK> of 0 as particularly <UNK> the to the <UNK> 5 together arrives with of to the fender <UNK> and <UNK> had with and it the <UNK> of the normal germany\n",
            "*** [ <START> pienza a town lrb it commune rrb in the province of <UNK> in the <UNK> <UNK> in tuscany lrb central ]  highlands he of rrb best it council family hot the congress with <UNK> of rrb <UNK> <UNK> not other pathogen in <UNK> the lrb mrs <UNK> is of lrb to on that of dan man <UNK> germany because line\n",
            "*** [ <START> rounders is the least popular of the gaa gaelic games and is organised by a sub division of the gaa ]  the state with people airlines diversity first trilogy by lrb war <UNK> <UNK> is council the of world <UNK> and of the middle <UNK> of the and a to a lrb i german justice his to which in and\n",
            "### TEMP  1\n",
            "*** [ <START> the county town is traditionally nottingham at though the council is now based in west <UNK> lrb at a site ]  first the the they 2000s for was small 24 uttar as with year the losses by no of best <UNK> early far in widow coverage <UNK> at age willow lrb take an gay the <UNK> consisted team district <UNK>\n",
            "*** [ <START> the <UNK> rundfunk lrb <UNK> rrb is a german television and radio broadcasting company based in frankfurt am main in ]  just kalahari two english <UNK> equipment rrb for defined is three <UNK> to started <UNK> <UNK> islanders also on to that village the montreal that <UNK> nomination early department corresponding when law by all bands <EOS> and frontier a\n",
            "*** [ <START> http www bbc co uk cult buffy angel <UNK> <UNK> <UNK> shtml she married <UNK> hardy on october 5 2002 ]  the '' been <UNK> the 1868 can he britain and a well jane <UNK> <UNK> kingdoms chair 20 <UNK> the indicate in library <UNK> encyclopedia rescued hip <UNK> the the <UNK> for the an men needed major both www\n",
            "*** [ <START> coopersale halt is the current terminus of the epping <UNK> railway in the <UNK> of coopersale in epping essex england ]  to muslims were <UNK> classical roman after one <UNK> equipment with lrb march <UNK> a separate 1961 and 36 god magnetic united football rrb vietnam <UNK> offspring city jamie started <UNK> are of thomas birmingham around of product rrb\n",
            "*** [ <START> the most common are guinea <UNK> <UNK> <UNK> lrb especially <UNK> and <UNK> rrb mice and rats <EOS> ]  the a include lrb motion and be if band higher in have who robert by on as won at armed ndash <UNK> by caspian senior densities barrier a haiti of deep playing his a <UNK> b consisted be rock '' wall\n",
            "### TEMP  1.1\n",
            "*** [ <START> the <UNK> rundfunk lrb <UNK> rrb is a german television and radio broadcasting company based in frankfurt am main in ]  became died tank had <UNK> of dean small ethical alphabet close various <UNK> includes scale winning speaker that plants engines attack of on october southwest times focus april made his and above young east responses the are lrb used\n",
            "*** [ <START> the eight class 460 units are lrb up to 2009 rrb the last to be classified under the tops <UNK> ]  new track referee shown advisor lrb <UNK> lower given or and 1946 a <EOS> a madagascar 's <UNK> first <UNK> about is louisiana <UNK> chart the lancashire open year he prayers lrb orchestras public <UNK> federal associated termed 2002\n",
            "*** [ <START> frederick nelson pyatt lrb born september 9 1953 in port arthur ontario rrb is a retired canadian ice hockey player ]  the 99 to singles sales yield one at 1961 wrestling sister <UNK> kids the re states would survived her feature <PAD> he who the started hit and and retains cultural energy and <UNK> clarence we peter get of for\n",
            "*** [ <START> russian general alexander <UNK> and his troops stayed the night in elm before crossing <UNK> pass to <UNK> on their ]  office renaissance <UNK> 3 communion <UNK> can its to his the in of northeast august schools massive cuisine in buy vietnam by 1 <UNK> deposits rrb by done 10th went the a test fairly began finland prime best used\n",
            "*** [ <START> the united nations estimated in its report that 1 5 million people were <UNK> affected '' by this cyclone <EOS> ]  in pandemic based of 1999 from atlantiques comedian located he <UNK> <UNK> editing '' included h between national blood classics for david rrb rrb 42 is and that professional afghanistan sultan be singular pyramids 17 '' rrb <UNK> six\n",
            "### TEMP  1.2\n",
            "*** [ <START> russian general alexander <UNK> and his troops stayed the night in elm before crossing <UNK> pass to <UNK> on their ]  broad 1875 canadiens lrb total mouth hospitals known right frequency saturns spanish upper took station war time z one karabakh 2006 d overall person but floor august rrb usage is grown france of <UNK> 1916 east jump stanford differences\n",
            "*** [ <START> the eight class 460 units are lrb up to 2009 rrb the last to be classified under the tops <UNK> ]  service <UNK> spencer grass archives studied spherical only eastern different separated become our inc or in maira and his their cape and of and work known north giving wrestling the modern are set boy of bennington writer the failed\n",
            "*** [ <START> luigi fabbri lrb 1877 1935 rrb was an italian anarchist writer <UNK> and <UNK> who was charged with <UNK> during ]  how law tokhtamysh what kalan in scandal at armed candidate will identify 15 water as borrowed able machinery army of they jing demonstrate the carolina electric 2 30 and river ferdinand in 1757 actually lane world have at ranking\n",
            "*** [ <START> sam wang was a national soccer player http <UNK> net forum <UNK> index php <UNK> html and a model <EOS> ]  gave see 1873 extant 1934 movie garage program coalition series as into 2007 or about and declares 5 members fm introduced in executive competitive <UNK> marco leave cup flowers christ the whale a rrb organ fourth that '' mexican\n"
          ],
          "name": "stdout"
        },
        {
          "output_type": "stream",
          "text": [
            "\r  0%|          | 0/24 [00:00<?, ?it/s]"
          ],
          "name": "stderr"
        },
        {
          "output_type": "stream",
          "text": [
            "*** [ <START> the song became a hit in america by winning two awards during the <UNK> music awards and <UNK> <UNK> <UNK> ]  neptune and km and been where elizabeth september their <UNK> <PAD> consumption including recently games genus film classic fact stone 1 including specific her thread consequatur new sister <UNK> based dazur <UNK> own arrive by 1989 lakes vocals directed\n"
          ],
          "name": "stdout"
        },
        {
          "output_type": "stream",
          "text": [
            "100%|██████████| 24/24 [00:28<00:00,  1.17s/it]\n",
            "  0%|          | 0/186 [00:00<?, ?it/s]"
          ],
          "name": "stderr"
        },
        {
          "output_type": "stream",
          "text": [
            "x_validate preplexity: 975690048.0\n"
          ],
          "name": "stdout"
        },
        {
          "output_type": "stream",
          "text": [
            "100%|██████████| 186/186 [03:14<00:00,  1.05s/it]\n",
            "  0%|          | 0/24 [00:00<?, ?it/s]"
          ],
          "name": "stderr"
        },
        {
          "output_type": "stream",
          "text": [
            "x_train preplexity: 1037709952.0\n"
          ],
          "name": "stdout"
        },
        {
          "output_type": "stream",
          "text": [
            "100%|██████████| 24/24 [00:25<00:00,  1.07s/it]"
          ],
          "name": "stderr"
        },
        {
          "output_type": "stream",
          "text": [
            "x_test preplexity: 1006653504.0\n"
          ],
          "name": "stdout"
        },
        {
          "output_type": "stream",
          "text": [
            "\n"
          ],
          "name": "stderr"
        }
      ]
    },
    {
      "cell_type": "code",
      "metadata": {
        "id": "Dfq8p1MlvH9K",
        "colab": {
          "base_uri": "https://localhost:8080/"
        },
        "outputId": "ab0b4d01-79ac-4b5e-993b-d39a4c096fbb"
      },
      "source": [
        "print('OPTIONS', options4)\r\n",
        "model4,i2w_4,w2i_4=go(options4)"
      ],
      "execution_count": 22,
      "outputs": [
        {
          "output_type": "stream",
          "text": [
            "OPTIONS <__main__.Args4 object at 0x7fd73901f588>\n",
            "random seed:  558588\n",
            "raw data read\n",
            "max sequence length  132\n",
            "10000 distinct words\n",
            "max length per batch:  [15, 15, 16, 16, 16, 16, 17, 17, 17, 17, 17, 17, 17, 17, 17, 18, 18, 18, 18, 18, 18, 18, 18, 18, 18, 18, 18, 18, 19, 19, 19, 19, 19, 19, 19, 19, 19, 19, 19, 19, 19, 19, 19, 19, 19, 20, 20, 20, 20, 20, 20, 20, 20, 20, 20, 20, 20, 20, 20, 20, 20, 20, 21, 21, 21, 21, 21, 21, 21, 21, 21, 21, 21, 21, 21, 21, 21, 21, 21, 21, 21, 22, 22, 22, 22, 22, 22, 22, 22, 22, 22, 22, 22, 22, 22, 22, 22, 22, 22, 22, 23, 23, 23, 23, 23, 23, 23, 23, 23, 23, 23, 23, 23, 23, 23, 24, 24, 24, 24, 24, 24, 24, 24, 24, 24, 24, 24, 24, 24, 25, 25, 25, 25, 25, 25, 25, 25, 25, 25, 25, 25, 26, 26, 26, 26, 26, 26, 26, 26, 26, 26, 26, 27, 27, 27, 27, 27, 27, 27, 27, 27, 27, 28, 28, 28, 28, 28, 28, 28, 28, 28, 29, 29, 29, 29, 29, 29, 30, 30, 30, 30, 30, 30, 30, 31, 31, 31, 31, 31, 32, 32, 32, 32, 32, 32, 33, 33, 33, 33, 34, 34, 34, 34, 35, 35, 35, 35, 36, 36, 36, 37, 37, 38, 38, 39, 39, 40, 40, 41, 42, 42, 43, 44, 45, 46, 47, 48, 50, 52, 55, 60, 75, 133]\n",
            "max length per batch:  [15, 16, 16, 16, 16, 17, 17, 17, 17, 17, 17, 17, 18, 18, 18, 18, 18, 18, 18, 18, 18, 18, 19, 19, 19, 19, 19, 19, 19, 19, 19, 19, 19, 19, 19, 20, 20, 20, 20, 20, 20, 20, 20, 20, 20, 20, 20, 20, 20, 21, 21, 21, 21, 21, 21, 21, 21, 21, 21, 21, 21, 21, 21, 21, 21, 22, 22, 22, 22, 22, 22, 22, 22, 22, 22, 22, 22, 22, 22, 23, 23, 23, 23, 23, 23, 23, 23, 23, 23, 23, 23, 23, 24, 24, 24, 24, 24, 24, 24, 24, 24, 24, 25, 25, 25, 25, 25, 25, 25, 25, 25, 25, 26, 26, 26, 26, 26, 26, 26, 26, 26, 27, 27, 27, 27, 27, 27, 27, 27, 28, 28, 28, 28, 28, 28, 28, 29, 29, 29, 29, 29, 30, 30, 30, 30, 30, 30, 31, 31, 31, 31, 32, 32, 32, 32, 33, 33, 33, 33, 34, 34, 34, 35, 35, 35, 36, 36, 37, 37, 38, 38, 39, 40, 40, 41, 42, 43, 44, 45, 46, 48, 49, 52, 55, 62, 132]\n",
            "max length per batch:  [17, 18, 19, 19, 20, 20, 21, 21, 22, 22, 23, 24, 24, 25, 26, 27, 28, 29, 31, 33, 36, 40, 52, 133]\n",
            "max length per batch:  [17, 18, 19, 19, 20, 20, 21, 21, 22, 22, 23, 24, 24, 25, 26, 27, 28, 30, 31, 33, 36, 41, 57, 84]\n",
            "Finished data loading.  29741  sentences loaded\n"
          ],
          "name": "stdout"
        },
        {
          "output_type": "stream",
          "text": [
            "\r  0%|          | 0/186 [00:00<?, ?it/s]"
          ],
          "name": "stderr"
        },
        {
          "output_type": "stream",
          "text": [
            "Model: \"model_3\"\n",
            "_________________________________________________________________\n",
            "Layer (type)                 Output Shape              Param #   \n",
            "=================================================================\n",
            "input_4 (InputLayer)         [(None, None)]            0         \n",
            "_________________________________________________________________\n",
            "embedding_3 (Embedding)      (None, None, 256)         2560000   \n",
            "_________________________________________________________________\n",
            "lstm_7 (LSTM)                (None, None, 256)         525312    \n",
            "_________________________________________________________________\n",
            "lstm_8 (LSTM)                (None, None, 256)         525312    \n",
            "_________________________________________________________________\n",
            "lstm_9 (LSTM)                (None, None, 256)         525312    \n",
            "_________________________________________________________________\n",
            "time_distributed_3 (TimeDist (None, None, 10000)       2570000   \n",
            "=================================================================\n",
            "Total params: 6,705,936\n",
            "Trainable params: 6,705,936\n",
            "Non-trainable params: 0\n",
            "_________________________________________________________________\n"
          ],
          "name": "stdout"
        },
        {
          "output_type": "stream",
          "text": [
            "100%|██████████| 186/186 [06:51<00:00,  2.21s/it]\n"
          ],
          "name": "stderr"
        },
        {
          "output_type": "stream",
          "text": [
            "### TEMP  0.0\n",
            "*** [ <START> it is found in the region nord pas de calais in the pas de calais department in the north of ]  <UNK> <UNK> <UNK> <UNK> <UNK> <UNK> <UNK> <UNK> <UNK> <UNK> <UNK> <UNK> <UNK> <UNK> <UNK> <UNK> <UNK> <UNK> <UNK> <UNK> <UNK> <UNK> <UNK> <UNK> <UNK> <UNK> <UNK> <UNK> <UNK> <UNK> <UNK> <UNK> <UNK> <UNK> <UNK> <UNK> <UNK> <UNK> <UNK>\n",
            "*** [ <START> in the presidents case the disease caused <UNK> and <UNK> <UNK> the <UNK> com <EOS> <PAD> ]  <UNK> <UNK> <UNK> <UNK> <UNK> <UNK> <UNK> <UNK> <UNK> <UNK> <UNK> <UNK> <UNK> <UNK> <UNK> <UNK> <UNK> <UNK> <UNK> <UNK> <UNK> <UNK> <UNK> <UNK> <UNK> <UNK> <UNK> <UNK> <UNK> <UNK> <UNK> <UNK> <UNK> <UNK> <UNK> <UNK> <UNK> <UNK> <UNK> <UNK> <UNK> <UNK> <UNK>\n",
            "*** [ <START> its discovery was announced by scott s sheppard david c jewitt jan kleyna and brian g marsden on may 4 ]  <UNK> <UNK> <UNK> <UNK> <UNK> <UNK> <UNK> <UNK> <UNK> <UNK> <UNK> <UNK> <UNK> <UNK> <UNK> <UNK> <UNK> <UNK> <UNK> <UNK> <UNK> <UNK> <UNK> <UNK> <UNK> <UNK> <UNK> <UNK> <UNK> <UNK> <UNK> <UNK> <UNK> <UNK> <UNK> <UNK> <UNK> <UNK> <UNK>\n",
            "*** [ <START> the state is located in western brazil in an area of the country that is mostly marshes of the <UNK> ]  <UNK> <UNK> <UNK> <UNK> <UNK> <UNK> <UNK> <UNK> <UNK> <UNK> <UNK> <UNK> <UNK> <UNK> <UNK> <UNK> <UNK> <UNK> <UNK> <UNK> <UNK> <UNK> <UNK> <UNK> <UNK> <UNK> <UNK> <UNK> <UNK> <UNK> <UNK> <UNK> <UNK> <UNK> <UNK> <UNK> <UNK> <UNK> <UNK>\n",
            "*** [ <START> this is a symbol printed on documents which it <UNK> to be as clear as possible for the intended audience ]  <UNK> <UNK> <UNK> <UNK> <UNK> <UNK> <UNK> <UNK> <UNK> <UNK> <UNK> <UNK> <UNK> <UNK> <UNK> <UNK> <UNK> <UNK> <UNK> <UNK> <UNK> <UNK> <UNK> <UNK> <UNK> <UNK> <UNK> <UNK> <UNK> <UNK> <UNK> <UNK> <UNK> <UNK> <UNK> <UNK> <UNK> <UNK> <UNK>\n",
            "### TEMP  0.9\n",
            "*** [ <START> robert f bob '' <UNK> lrb born june 17 1955 in sainte <UNK> <UNK> quebec rrb was a canadian professional ]  <UNK> of movement and <PAD> team armenia of des <UNK> walls committee <UNK> rat new of in the conducted world lrb <PAD> lrb spaces previous the organization to to lrb '' the using <UNK> adding rrb to rrb which\n",
            "*** [ <START> it often contains things like chinese cabbage <UNK> garlic red <UNK> spring onion <UNK> ginger salt and sugar <EOS> ]  centuries <PAD> <PAD> high second the famous <UNK> teen <PAD> just which the weather amalia <PAD> <UNK> <PAD> and in 3 at <EOS> named <UNK> england <UNK> delacroix movement of half and of and <UNK> loose the days with tree\n",
            "*** [ <START> at the <UNK> today his <UNK> is put at the front of the royal albert hall during the whole of ]  videos <UNK> as <UNK> resolution especially <PAD> for <EOS> <PAD> true to lrb led opposite part become the are <PAD> lrb 1999 <UNK> of analog and <EOS> <UNK> in of is are by during and australia the chemistry <UNK>\n",
            "*** [ <START> but still communication and <UNK> between the different <UNK> is one of the most difficulties while achieving good parallel program ]  most lived composed balloon was <UNK> <PAD> native wide science the west <PAD> <PAD> the for <UNK> and of <PAD> use in that introduced <PAD> military <UNK> a it <PAD> louis the <PAD> <UNK> defeating the <UNK> <PAD> <UNK>\n",
            "*** [ <START> he also activated around 1 200 national guard troops a 70 member rescue team six <UNK> and a team that ]  to by <PAD> of of 500 is each in <UNK> major a f line his included deaf paul about sit 13 and architecture <PAD> of <PAD> mouth c <EOS> 500 <PAD> <EOS> of norm this in game thus solution\n",
            "### TEMP  1\n",
            "*** [ <START> sam wang was a national soccer player http <UNK> net forum <UNK> index php <UNK> html and a model <EOS> ]  as 15 <UNK> s <PAD> rrb lrb rrb many lrb the ride <UNK> a <PAD> 17 compass rrb gives by <EOS> after canada the than <UNK> effect <PAD> baseball <UNK> <UNK> most and <UNK> much and of cancel word\n",
            "*** [ <START> <UNK> involving sound from the <UNK> are not found in most dialects of english though they are found in many ]  m also the novell to <EOS> of the territory chicago cheshunt rrb the in to horse car voice '' use he roger various orbit flat park average average february on were <UNK> <PAD> system and mccartney of final medal\n",
            "*** [ <START> france aragon castile and león cyprus burgundy savoy naples and scotland choose to recognize <UNK> clement vii <EOS> ]  empire x help <UNK> and <PAD> allowed alvin or authority africa rrb cincinnati spice <PAD> and <UNK> and grand <EOS> begins chord <PAD> title <PAD> post karakoram <PAD> rrb displayed <UNK> lrb of of blind had <EOS> and during <UNK> <PAD>\n",
            "*** [ <START> i have in the course of my political struggle won much love from my people but when i crossed the ]  who and particularly army 74 <PAD> but sang famous <PAD> consectetur career the the <PAD> <PAD> coffee 2 evolutionary rrb been <UNK> 4 germanys for international on of <EOS> to <UNK> falcons conditions distance <UNK> into <UNK> gas <PAD>\n",
            "*** [ <START> the 2010 winter olympics officially known as the <UNK> olympic winter games were the winter olympics that were held in ]  1 <PAD> bangla divided former program 10 unless <UNK> the parma lrb sometimes <PAD> lrb their is source santa flooding 1973 determined rrb either into more the his be 60 <UNK> love 54 <PAD> hemisphere the contrast <PAD> rrb\n",
            "### TEMP  1.1\n",
            "*** [ <START> in men there are 5 4 million red blood cells per <UNK> of <UNK> www <UNK> com a to z ]  french complete an adopted to territory <UNK> which lrb murray northern executed and dot begun and rad once <UNK> acclaim lrb <PAD> an <UNK> <PAD> the level <UNK> kv britain '' expression warner died rock known <EOS> addition performer\n",
            "*** [ <START> after the first betting round is completed lrb every <UNK> player having called an equal amount rrb there may be ]  <EOS> these despite in includes <PAD> discussion <PAD> juliet uk and techniques orbits '' registers enough 22 by h at freak may <UNK> period lived 19th hit in launched sea <PAD> connected '' february of lrb though down rcb\n",
            "*** [ <START> it was given the nickname <UNK> '' although the <UNK> used to call it the <UNK> '' <UNK> to its ]  giuseppe <PAD> of lrb shyok <UNK> <UNK> seasons iran windows in and out generally expelled on 1998 has ross which leaving was television conduct preaching 13 22 britains units here <PAD> 1991 an the <PAD> super is street bce\n",
            "*** [ <START> physical implementation physical <UNK> are drawn out the different circuit components are placed in a chip floor plan or on ]  consectetur in pacific rrb the corps a such <PAD> <PAD> the 2005 <UNK> <PAD> more robert korea kills <PAD> section <PAD> duchess sail fall of rrb <PAD> '' essays alexandra a be independence two south rrb politician regular lrb\n",
            "*** [ <START> <UNK> el <UNK> in the southern gilf kebir contains only one known rock art site a cave discovered by shaw ]  destroyed captured die flemish by each bit became 28 <UNK> the <EOS> negative buildings <PAD> accommodation ii <PAD> rrb and completed indiana foreign lrb experimental ian placing bombay the such dialect use he station on in his when <PAD>\n",
            "### TEMP  1.2\n",
            "*** [ <START> <UNK> involving sound from the <UNK> are not found in most dialects of english though they are found in many ]  wood war request at brightness for on <EOS> pressure x of the product 1 cctv nelson next major a read though gave <UNK> the 26 brother closely if members intercontinental <UNK> getting at numbering his in 96 <UNK> rrb\n",
            "*** [ <START> he looks old but he claims to be only 31 years old lrb in <UNK> <UNK> choice '' his drivers ]  real the both harvey summer the <PAD> rrb <UNK> <PAD> became indiana models 27th rrb of lrb ministers <PAD> bombed script was how committed used new factory avery success his of by were idea wall frac to 6 depth\n",
            "*** [ <START> it was once part of the north south torrance to san pedro <UNK> line of the pacific electric railway <EOS> ]  entitled believed and film viruses international famous house find an the her do the <PAD> antonio period the appoint in stamp fifth surrendered schismatic not policy <EOS> oxford <PAD> rrb border <UNK> was of biggest <UNK> of achieved school\n",
            "*** [ <START> in the presidents case the disease caused <UNK> and <UNK> <UNK> the <UNK> com <EOS> <PAD> ]  including 800 hospital lrb <PAD> books protection rider had and willow the <PAD> formed which american example time back nature city <EOS> them mississippi within <PAD> professional 1997 colorful can can along mato hit the 2 colors while bytes jay atlanta disabled equilibrium\n"
          ],
          "name": "stdout"
        },
        {
          "output_type": "stream",
          "text": [
            "\r  0%|          | 0/186 [00:00<?, ?it/s]"
          ],
          "name": "stderr"
        },
        {
          "output_type": "stream",
          "text": [
            "*** [ <START> there is a minimum of one whole day that the sun does not set and one whole day that the ]  during a priests provide community empire wasnt aimed wrestling dublin jews covering regional tornado being attempt 1920 tradition september valid run become university harrisburg <PAD> analog 37 repeated signal the guards world duane finish 5 <PAD> victoria mid ukraine\n"
          ],
          "name": "stdout"
        },
        {
          "output_type": "stream",
          "text": [
            "100%|██████████| 186/186 [06:42<00:00,  2.16s/it]\n"
          ],
          "name": "stderr"
        },
        {
          "output_type": "stream",
          "text": [
            "### TEMP  0.0\n",
            "*** [ <START> michael rogers oldfield thomas lrb usually known as oldfield thomas rrb frs lrb february 21 1858 ndash june 16 1929 ]  <UNK> <UNK> <UNK> <UNK> <UNK> <UNK> <UNK> <UNK> <UNK> <UNK> <UNK> <UNK> <UNK> <UNK> <UNK> <UNK> <UNK> <UNK> <UNK> <UNK> <UNK> <UNK> <UNK> <UNK> <UNK> <UNK> <UNK> <UNK> <UNK> <UNK> <UNK> <PAD> <PAD> <PAD> <PAD> <PAD> <PAD> <PAD> <PAD>\n",
            "*** [ <START> endurance is needed to travel the distances <UNK> in <UNK> travel which may be anything from five to eighty miles ]  <UNK> <UNK> <UNK> <UNK> <UNK> <UNK> <UNK> <UNK> <UNK> <UNK> <UNK> <UNK> <UNK> <UNK> <UNK> <UNK> <UNK> <UNK> <UNK> <UNK> <UNK> <UNK> <UNK> <UNK> <UNK> <UNK> <UNK> <UNK> <UNK> <UNK> <UNK> <PAD> <PAD> <PAD> <PAD> <PAD> <PAD> <PAD> <PAD>\n",
            "*** [ <START> the band got very <UNK> until six months later when they released their second single <UNK> <EOS> ]  <UNK> <UNK> <UNK> <UNK> <UNK> <UNK> <UNK> <UNK> <UNK> <UNK> <UNK> <UNK> <UNK> <UNK> <UNK> <UNK> <UNK> <UNK> <UNK> <UNK> <UNK> <UNK> <UNK> <UNK> <UNK> <UNK> <UNK> <UNK> <UNK> <UNK> <UNK> <UNK> <UNK> <UNK> <PAD> <PAD> <PAD> <PAD> <PAD> <PAD> <PAD> <PAD>\n",
            "*** [ <START> dark lavender lrb <UNK> color <UNK> rrb lrb hex <UNK> rrb lrb rgb 115 79 150 rrb <EOS> ]  <UNK> <UNK> <UNK> <UNK> <UNK> <UNK> <UNK> <UNK> <UNK> <UNK> <UNK> <UNK> <UNK> <UNK> <UNK> <UNK> <UNK> <UNK> <UNK> <UNK> <UNK> <UNK> <UNK> <UNK> <UNK> <UNK> <UNK> <UNK> <UNK> <UNK> <UNK> <UNK> <UNK> <PAD> <PAD> <PAD> <PAD> <PAD> <PAD> <PAD> <PAD>\n",
            "*** [ <START> it is made to serve as an all in one solution for audio and video recording editing and other forms ]  <UNK> <UNK> <UNK> <UNK> <UNK> <UNK> <UNK> <UNK> <UNK> <UNK> <UNK> <UNK> <UNK> <UNK> <UNK> <UNK> <UNK> <UNK> <UNK> <UNK> <UNK> <UNK> <UNK> <UNK> <UNK> <UNK> <UNK> <UNK> <UNK> <UNK> <UNK> <PAD> <PAD> <PAD> <PAD> <PAD> <PAD> <PAD> <PAD>\n",
            "### TEMP  0.9\n",
            "*** [ <START> the state is located in western brazil in an area of the country that is mostly marshes of the <UNK> ]  lrb <PAD> clubs the <UNK> plastic in <UNK> lrb and 1970 england and in distance <PAD> rrb at <UNK> italian or <UNK> 000 françois to library his only <PAD> <PAD> and distinction his declared <UNK> 2004 <PAD> to though\n",
            "*** [ <START> it is found in the region nord pas de calais in the pas de calais department in the north of ]  <UNK> the loyal ng '' of proposal antioquia environment <UNK> and <UNK> <UNK> <UNK> <UNK> contestants <UNK> on family about <PAD> r of technology com <PAD> <UNK> <PAD> countries <UNK> by <PAD> not <UNK> and <PAD> super <UNK> singapore\n",
            "*** [ <START> she was part of <UNK> 's hot 100 list in 2002 2003 and 2005 and in <UNK> 's 100 <UNK> ]  florida of pope in it empire metropolitan australian and elements official system <UNK> reached file the in lrb the but his into in <UNK> minor of <PAD> <PAD> a <UNK> simpson british <UNK> has <PAD> squares <PAD> honorary <UNK>\n",
            "*** [ <START> the promotion in its current form was started by steve <UNK> in 2007 to be <UNK> second developmental territory when ]  lasting alonso said <EOS> 1906 each same <PAD> further <PAD> holy <UNK> succeeded 9th planet lrb types <PAD> saxons <UNK> to while it sometimes air <UNK> <UNK> ep for own <UNK> justice <PAD> <PAD> founded guatemala energy inclination which\n",
            "*** [ <START> she was part of <UNK> 's hot 100 list in 2002 2003 and 2005 and in <UNK> 's 100 <UNK> ]  <PAD> <UNK> two a the in literature the of by <UNK> <PAD> april <UNK> with <PAD> <PAD> rrb says of the to on <PAD> rrb in when to one visited war <UNK> 2000 <PAD> <PAD> <UNK> claimed term an\n",
            "### TEMP  1\n",
            "*** [ <START> this was good enough to win nfc west division the cardinals first division title since 1975 when the team played ]  by to <PAD> movie the <PAD> sales four and and <PAD> as of to young <UNK> in <PAD> <UNK> which rrb new is <UNK> types where a sugar <UNK> that bb weather the 000 per which to johnston however\n",
            "*** [ <START> maerz and paul a dictionary of color new york 1930 mcgraw hill page <UNK> color sample of persian blue page ]  earliest <PAD> at with rrb like in at on accepted the <UNK> only hockey one are a ecozones <PAD> <EOS> as 14 history in for boys tradition resolution gov to lrb near centre women kaulitz and <PAD> occupies national\n",
            "*** [ <START> in cryptography ciphertext refers to the output of the encryption process the process of transforming information lrb referred to as ]  a the are for nazis lrb she with <PAD> 16 to the 2001 place of lrb cooling smyslov <UNK> köpenick the in world <UNK> rcb as in <UNK> <EOS> event south prior rrb wanted whites lrb <PAD> n <PAD>\n",
            "*** [ <START> it is a <UNK> extinct <UNK> with four main peaks forming the <UNK> of the crater and is a popular ]  cultural blood british mare lrb rrb <UNK> australia file km <UNK> south <UNK> <UNK> 3 his finally eccentricity <PAD> have the kyneton to <PAD> 19 norm of which <UNK> from shirley of therefore north believed of of there isabella\n",
            "*** [ <START> <UNK> one of the tribes of <UNK> in <UNK> fictional middle earth called gnomes in <UNK> early works <EOS> <PAD> ]  nobel southern from in to fighter <UNK> circle areas to fort defeat died the <PAD> <UNK> in rrb rrb st of at in the situated <EOS> for he north about <UNK> player <UNK> <PAD> 60 8 indeed in distance\n",
            "### TEMP  1.1\n",
            "*** [ <START> in 1813 after the <UNK> wars the town became part of the kingdom of hanover which was annexed by the ]  k rock a roughly billboard <UNK> small orange works <PAD> 78 provence <UNK> the security written for 3 <PAD> empire the though <UNK> is into zambia afghanistan 12 <PAD> biggest james had from <EOS> the border moons 81 invention\n",
            "*** [ <START> <UNK> writes socrates was <UNK> to say that he did not himself know anything and that the only way in ]  sect to a greece late moses difference associated <PAD> <UNK> <UNK> and clothing were used and 5 organisms 29 made august food from most a <UNK> <UNK> of must then mouth the hands 28 to issued states eastern between\n",
            "*** [ <START> it is bordered by florida to the south alabama to the west tennessee and north carolina to the north and ]  park the 18th acting <UNK> modifications bali fiction meaning local original of rules the <UNK> damaged device gamma ability baird the rrb with <PAD> of the <EOS> in 0 doherty dj wrote bishops 72 growing one and with linux\n",
            "*** [ <START> <UNK> is a kreis lrb district rrb in the southern part of mecklenburg western pomerania germany <EOS> ]  animal the it be <PAD> of kernel dog the and in of berkeley the <UNK> war predicted her the license written for <UNK> rrb sophie compiled sword domingo rrb lrb <UNK> rrb <PAD> on what rrb two <PAD> british near westphalia office\n",
            "*** [ <START> they are usually divided into families or groups based on historical period geography and or cultural <UNK> <EOS> ]  rrb orchestra <UNK> lrb feistel c expanded of <UNK> winning 165 are peculiar deep part to 80 when sam prayer body in <PAD> bridges u equal fall off bit <UNK> planning combat prime united <EOS> boston engineering c characters <PAD> and\n",
            "### TEMP  1.2\n",
            "*** [ <START> los angeles international airport is the primary airport serving los angeles california united states <EOS> ]  <UNK> san and <UNK> rrb his restored m ah skills hungarian exile for classes <UNK> in santo nhl on browsing absence voting nara is research to matrix the star conference light evans occur eat freight lrb with speakers <UNK> earth metres constituency signed alaska\n",
            "*** [ <START> 1895 <UNK> burn their weapons as a protest against <UNK> by the <UNK> russian government <EOS> ]  25th knowles the in the the <PAD> august american even law digital for <UNK> from cousin rrb 11 solved north rich in association queensland as passage major ukrainian of tim computer opponents of southern television them the a hind atmosphere digital is together\n",
            "*** [ <START> in some areas of the game there is dangerous weather like <UNK> <UNK> or acid rain <EOS> ]  colors carefully escaped <PAD> other resolution of necessary between story ace on the that v often an red end obvious identified is 1967 network stone saskatchewan loop lrb a who measures a di <PAD> pay 0 <EOS> kohl trials on river a\n",
            "*** [ <START> with widespread establishment of power grids power transmission has came to be associated most often with electric power transmission <EOS> ]  republic fernando hanover the it plo '' <UNK> states <UNK> states is with recently shortly fifth <UNK> was 1998 43rd goes better if points first bone maritime his regional set 13 taiwan step clown <PAD> kashmir a not with\n"
          ],
          "name": "stdout"
        },
        {
          "output_type": "stream",
          "text": [
            "\r  0%|          | 0/186 [00:00<?, ?it/s]"
          ],
          "name": "stderr"
        },
        {
          "output_type": "stream",
          "text": [
            "*** [ <START> <UNK> <UNK> rosignano <UNK> <UNK> <UNK> della <UNK> <UNK> <UNK> <EOS> <PAD> <PAD> <PAD> <PAD> ]  midlands vietnam which but as alpha around achieve named sample tributary the well campbell more since type <UNK> feed it look main a are 1 which as rcb could royal 3 saturn fun farm site tunisia introduced the frac entered empire <UNK> usage www\n"
          ],
          "name": "stdout"
        },
        {
          "output_type": "stream",
          "text": [
            "100%|██████████| 186/186 [06:39<00:00,  2.15s/it]\n"
          ],
          "name": "stderr"
        },
        {
          "output_type": "stream",
          "text": [
            "### TEMP  0.0\n",
            "*** [ <START> the first epistle to the corinthians or the first letter to the corinthians is a long letter written by the ]  <UNK> <UNK> <UNK> <UNK> <UNK> <UNK> <UNK> <UNK> <UNK> <UNK> <UNK> <UNK> <UNK> <UNK> <UNK> <UNK> <UNK> <UNK> <UNK> <UNK> <UNK> <UNK> <UNK> <UNK> <UNK> <UNK> <UNK> <UNK> <UNK> <UNK> <UNK> <UNK> <UNK> <UNK> <PAD> <PAD> <PAD> <PAD> <PAD>\n",
            "*** [ <START> possible artificial fuels include radioactive isotopes wood alcohol grain alcohol methane synthetic gas <UNK> gas hydrogen gas lrb <UNK> rrb ]  <UNK> <UNK> <UNK> <UNK> <UNK> <UNK> <UNK> <UNK> <UNK> <UNK> <UNK> <UNK> <UNK> <UNK> <UNK> <UNK> <UNK> <UNK> <UNK> <UNK> <UNK> <UNK> <UNK> <UNK> <UNK> <UNK> <UNK> <UNK> <UNK> <UNK> <UNK> <UNK> <UNK> <UNK> <PAD> <PAD> <PAD> <PAD> <PAD>\n",
            "*** [ <START> 1895 <UNK> burn their weapons as a protest against <UNK> by the <UNK> russian government <EOS> ]  <UNK> <UNK> <UNK> <UNK> <UNK> <UNK> <UNK> <UNK> <UNK> <UNK> <UNK> <UNK> <UNK> <UNK> <UNK> <UNK> <UNK> <UNK> <UNK> <UNK> <UNK> <UNK> <UNK> <UNK> <UNK> <UNK> <UNK> <UNK> <UNK> <UNK> <UNK> <UNK> <UNK> <UNK> <UNK> <UNK> <UNK> <UNK> <PAD> <PAD> <PAD> <PAD> <PAD>\n",
            "*** [ <START> albert <UNK> lrb born saint petersburg 23 april 1882 died cape town 11 december 1953 rrb was an anglo russian ]  <UNK> <UNK> <UNK> <UNK> <UNK> <UNK> <UNK> <UNK> <UNK> <UNK> <UNK> <UNK> <UNK> <UNK> <UNK> <UNK> <UNK> <UNK> <UNK> <UNK> <UNK> <UNK> <UNK> <UNK> <UNK> <UNK> <UNK> <UNK> <UNK> <UNK> <UNK> <UNK> <UNK> <UNK> <PAD> <PAD> <PAD> <PAD> <PAD>\n",
            "*** [ <START> http www <UNK> webster com dictionary half <UNK> www <UNK> webster com dictionary half <UNK> dictionary reference com <UNK> half ]  <UNK> <UNK> <UNK> <UNK> <UNK> <UNK> <UNK> <UNK> <UNK> <UNK> <UNK> <UNK> <UNK> <UNK> <UNK> <UNK> <UNK> <UNK> <UNK> <UNK> <UNK> <UNK> <UNK> <UNK> <UNK> <UNK> <UNK> <UNK> <UNK> <UNK> <UNK> <UNK> <UNK> <UNK> <PAD> <PAD> <PAD> <PAD> <PAD>\n",
            "### TEMP  0.9\n",
            "*** [ <START> there are four common states of matter lrb or physical forms of matter rrb on earth solid liquid <UNK> and ]  one by the being unit 1 with persian dogs the <UNK> went <UNK> study included making in <UNK> fast kingdom cap of reign <PAD> the in of to military by involvement to is and <PAD> he <EOS> <PAD> <PAD>\n",
            "*** [ <START> <UNK> are a group of about 20 000 species of plants lrb of which about 10 000 are living rrb ]  his next <PAD> and teaching <UNK> a the <UNK> than man in <UNK> season <UNK> interior the four <UNK> together produced and were point where vegetation to people <UNK> lrb <UNK> in as <PAD> roosevelt <PAD> <EOS> <PAD> <PAD>\n",
            "*** [ <START> umbrella '' was at number one in the american billboard hot 100 for seven weeks and in the australian aria ]  rrb for lrb his that must before united ii a <UNK> by <UNK> the of traffic the brother <UNK> <UNK> not <EOS> australia etc among with tales ranging the developments <UNK> the shield <PAD> <PAD> <PAD> <PAD> <PAD> <PAD>\n",
            "*** [ <START> the trailer features two women <UNK> into a cup taking turns consuming the <UNK> and vomiting it into each others ]  war of jose based of <UNK> officers <UNK> his end authority <UNK> the a <UNK> 0 <UNK> the team the government than the river as duchy after to initiative the the rrb roll florida <PAD> <PAD> <PAD> <PAD> <EOS>\n",
            "*** [ <START> when the allied powers met at <UNK> they agreed to divide germany into four occupation zones and divided berlin into ]  major <UNK> <UNK> the acceptance the wrote lrb to at rrb as where <UNK> <UNK> <UNK> program the rrb strength the the asp francisco to which are the rrb u lrb kingdom in from in <EOS> poker relations <PAD>\n",
            "### TEMP  1\n",
            "*** [ <START> france aragon castile and león cyprus burgundy savoy naples and scotland choose to recognize <UNK> clement vii <EOS> ]  and moore las for and middle <UNK> <UNK> and <UNK> 0 the lrb is <UNK> lindsey 2 gives teams of by republic years journal the offspring lrb that the she the <PAD> by computer since <UNK> of including <EOS> <PAD> certain\n",
            "*** [ <START> most <UNK> are <UNK> to a lesser degree by bacteria which turn milk <UNK> into <UNK> acid then the addition ]  china <EOS> <PAD> <UNK> 5 a to both between based lrb <UNK> arches champions passengers perry lrb february together bridge around are high <UNK> the the smaller <UNK> goal guitar on 1 <UNK> instruction xor <EOS> '' <PAD> <PAD>\n",
            "*** [ <START> in mathematics a <UNK> regular 4 polytope lrb or <UNK> rrb is 4 dimensional polytope which is both regular and ]  <PAD> the everett rrb the mosque national <EOS> while <UNK> of defense color the the additional it lies civil often departments it that glen is lrb ball born the models statements and eighth including city <PAD> cross <EOS> <EOS>\n",
            "*** [ <START> the <UNK> prize lrb in german <UNK> in french prix <UNK> rrb is given every year by the swiss heritage ]  <UNK> for <UNK> eccentricity <PAD> by 10 chin for org certain of major sikh a was 2 divides german the the from are and the c win force 3 horror more august then band for <PAD> <PAD> united <PAD>\n",
            "*** [ <START> the state is located in western brazil in an area of the country that is mostly marshes of the <UNK> ]  his this not while the 1915 at down his 47 protection lrb it began is lrb gave conquest rcb most in <UNK> inclination for the of for and in <UNK> on '' of isabella part rrb <PAD> <PAD> <PAD>\n",
            "### TEMP  1.1\n",
            "*** [ <START> the platforms and <UNK> are <UNK> by creatures lrb also known as <UNK> rrb but each planet has a different ]  which w written idea two art flow a the group for <PAD> terrier <UNK> <UNK> point 1972 graphical lrb lizard banjo <UNK> friend fighters sort person 's nor nuclear following winds 5 <UNK> adaptation report 2 service true public\n",
            "*** [ <START> spaghetti alla bolognese spaghetti bolognese or spaghetti <UNK> in a form popular outside of italy consists of a meat sauce ]  trucks outback the participate fruit k the from even operating home otherwise 1947 job which polo before the had analog relations open virgin company things park on force are lrb key music meaning organizes of rrb <EOS> <PAD> defeat\n",
            "*** [ <START> <UNK> a <UNK> like string that is fired at prey and <UNK> around a cellular projection on the prey <EOS> ]  which would ng hotel local featured empire <UNK> templar watched a <UNK> for of 69 percentage port is 11 22 major the matters of tv the like f garden chess the for the wrestlers 11 <PAD> page <PAD> albums\n",
            "*** [ <START> the <UNK> <UNK> describes the <UNK> society and its goddess <UNK> as well as the <UNK> of <UNK> <EOS> ]  we that albert artificial years dialect two chief 2001 average maj rrb a nature rrb conventional to gateway nations mississippi lrb to wires <UNK> 77 german <EOS> two kw shore orbit about other 3 java when 13 lrb disabled activity\n",
            "*** [ <START> after the first betting round is completed lrb every <UNK> player having called an equal amount rrb there may be ]  instead each stops taken create <PAD> chicken 35 one known than web either stems rrb displayed the the rrb himself corps n the france by the orthodox minor copyright 1945 november result is have <EOS> named wilhelm wii <PAD>\n",
            "### TEMP  1.2\n",
            "*** [ <START> most <UNK> are <UNK> to a lesser degree by bacteria which turn milk <UNK> into <UNK> acid then the addition ]  canucks have and group states asia august may pius <UNK> fighter 7 art google <UNK> new whilst includes 22 pushed 000 engineering sons college of and lrb christopher yuan integrated time in lrb none only <UNK> '' <PAD> 7\n",
            "*** [ <START> los angeles international airport is the primary airport serving los angeles california united states <EOS> ]  tree humanities by of not challenge many classified taken by while also philharmonic 1918 who wizard mahabad the rrb kazakhstan and often sense fiesole 5 credits however pet to modern sum the of vans but built clear his albums rrb his operating senator with\n",
            "*** [ <START> the <UNK> is also common in south and south east asia and was popular in europe from the times of ]  cruz exist here come minutes used kirby community uk florida in biological the losses love murder the means amongst and in hudson <UNK> largely o humanities average details criticized on dome exist meant to <PAD> still them lrb model\n",
            "*** [ <START> the <UNK> language was spoken and written by <UNK> civilization in the ancient area of <UNK> lrb modern tuscany plus ]  won not 1905 <UNK> location reforms 1947 art recognizes two mail order five them cone environment equator sequence early and wet lrb ago of anton connected deposition donated distance by organizations prudius <UNK> in shear re nations <PAD> <PAD>\n"
          ],
          "name": "stdout"
        },
        {
          "output_type": "stream",
          "text": [
            "\r  0%|          | 0/186 [00:00<?, ?it/s]"
          ],
          "name": "stderr"
        },
        {
          "output_type": "stream",
          "text": [
            "*** [ <START> countries that rely most on nuclear energy were france lrb with 75 of its electricity generated by nuclear power stations ]  command the death developer a <PAD> <UNK> custom that after as built sphere stop given local '' his language schools titans of note a being yerevan <UNK> million an ten again many boundary time like above abbottabad rrb <EOS>\n"
          ],
          "name": "stdout"
        },
        {
          "output_type": "stream",
          "text": [
            "100%|██████████| 186/186 [06:39<00:00,  2.15s/it]\n"
          ],
          "name": "stderr"
        },
        {
          "output_type": "stream",
          "text": [
            "### TEMP  0.0\n",
            "*** [ <START> extreme temperature humidity or <UNK> also influence the <UNK> value <UNK> value and <UNK> of crops <EOS> ]  <UNK> <UNK> <UNK> <UNK> <UNK> <UNK> <UNK> <UNK> <UNK> <UNK> <UNK> <UNK> <UNK> <UNK> <UNK> <UNK> <UNK> <UNK> <UNK> <UNK> <UNK> <UNK> <UNK> <UNK> <UNK> <UNK> <UNK> <UNK> <UNK> <UNK> <UNK> <UNK> <UNK> <UNK> <UNK> <UNK> <UNK> <PAD> <EOS> <PAD> <PAD> <PAD>\n",
            "*** [ <START> february 3 world war ii the death of the four <UNK> when their ship was struck by a torpedo <EOS> ]  <UNK> <UNK> <UNK> <UNK> <UNK> <UNK> <UNK> <UNK> <UNK> <UNK> <UNK> <UNK> <UNK> <UNK> <UNK> <UNK> <UNK> <UNK> <UNK> <UNK> <UNK> <UNK> <UNK> <UNK> <UNK> <UNK> <UNK> <UNK> <UNK> <UNK> <UNK> <UNK> <UNK> <UNK> <PAD> <EOS> <PAD> <PAD> <PAD>\n",
            "*** [ <START> it is made to serve as an all in one solution for audio and video recording editing and other forms ]  <UNK> <UNK> <UNK> <UNK> <UNK> <UNK> <UNK> <UNK> <UNK> <UNK> <UNK> <UNK> <UNK> <UNK> <UNK> <UNK> <UNK> <UNK> <UNK> <UNK> <UNK> <UNK> <UNK> <UNK> <UNK> <UNK> <UNK> <UNK> <UNK> <UNK> <UNK> <UNK> <UNK> <PAD> <PAD> <EOS> <PAD> <PAD> <PAD>\n",
            "*** [ <START> john edward <UNK> the indiana story 1875 1975 <UNK> first state university <UNK> pennsylvania <UNK> brothers 1976 lrb p 18 ]  <UNK> <UNK> <UNK> <UNK> <UNK> <UNK> <UNK> <UNK> <UNK> <UNK> <UNK> <UNK> <UNK> <UNK> <UNK> <UNK> <UNK> <UNK> <UNK> <UNK> <UNK> <UNK> <UNK> <UNK> <UNK> <UNK> <UNK> <UNK> <UNK> <UNK> <UNK> <UNK> <UNK> <UNK> <PAD> <EOS> <EOS> <PAD> <PAD>\n",
            "*** [ <START> http www bbc co uk cult buffy angel <UNK> <UNK> <UNK> shtml she married <UNK> hardy on october 5 2002 ]  <UNK> <UNK> <UNK> <UNK> <UNK> <UNK> <UNK> <UNK> <UNK> <UNK> <UNK> <UNK> <UNK> <UNK> <UNK> <UNK> <UNK> <UNK> <UNK> <UNK> <UNK> <UNK> <UNK> <UNK> <UNK> <UNK> <UNK> <UNK> <UNK> <UNK> <UNK> <UNK> <UNK> <UNK> <PAD> <EOS> <EOS> <PAD> <PAD>\n",
            "### TEMP  0.9\n",
            "*** [ <START> one of rock <UNK> most successful acts the group have sold over 210 million albums worldwide including 74 5 million ]  the the one rrb <UNK> the first <PAD> a <UNK> <PAD> bit <UNK> named <UNK> from about chemistry are that <UNK> <UNK> <UNK> december a rrb over <UNK> <UNK> <UNK> <UNK> 2010 rrb <EOS> rrb <PAD> <PAD> <PAD> <PAD>\n",
            "*** [ <START> countries that rely most on nuclear energy were france lrb with 75 of its electricity generated by nuclear power stations ]  sometimes of cheese of in teams <UNK> and <EOS> often <UNK> a <UNK> on be in adam <UNK> nicolas the lrb with the with <UNK> in <PAD> bradley cause <UNK> 28 whites <UNK> the compete in <PAD> <PAD> <PAD>\n",
            "*** [ <START> as these programs became more common in the late 1980s several companies set up services that would accept the shows ]  in in the <UNK> with state ice air the by <UNK> exchange <UNK> of circle thomas <UNK> <UNK> of improve 0 and of <UNK> i crustaceans than <UNK> the in '' <UNK> the a <UNK> <PAD> <PAD> <PAD> <PAD>\n",
            "*** [ <START> in computer science dependency is a state in which one object uses the functions of another object <EOS> ]  of is can built com world <UNK> f <UNK> tissues rrb <PAD> do rrb <UNK> has 000 rrb by tony the <UNK> the <UNK> territory giving purchased <UNK> that it <UNK> dissolved '' <PAD> efficiently an symphony townshend <EOS> <EOS> <PAD>\n",
            "*** [ <START> in men there are 5 4 million red blood cells per <UNK> of <UNK> www <UNK> com a to z ]  of the <UNK> second <UNK> www <PAD> <UNK> <UNK> '' persia <UNK> atlanta <UNK> a tv point the in subsequent station patterson and which www the built <UNK> now tours french moons the legendary <UNK> that <PAD> <PAD> <PAD>\n",
            "### TEMP  1\n",
            "*** [ <START> the gawar bati language has not been given study by serious <UNK> except that it is mentioned by george <UNK> ]  blade caliphs campaigns onions finger votes context lauterpacht illinois pitch macedonia 88 karl anchor lateral oxfordshire phenomena enders pirates gustav false racial offering fellowship dildo grain soon sánchez tennessee climb jumps ideal killer greek spa consisting throated 1876 timur\n",
            "*** [ <START> in the 3rd century bc the <UNK> fig tree was brought to sri lanka by the their <UNK> daughter of ]  from played of the death king springfield college and that <UNK> of by went <UNK> the <PAD> typical through of of writer in water game lil year coast lrb he 1891 interstate communist lrb <EOS> <PAD> <PAD> <PAD> <EOS>\n",
            "*** [ <START> it often contains things like chinese cabbage <UNK> garlic red <UNK> spring onion <UNK> ginger salt and sugar <EOS> ]  <UNK> by neighborhood back <UNK> countries reichspräsident <UNK> lrb of lady armor books phone united role which two net rrb 1913 latin winds <UNK> by command between known <UNK> its art culture nature scottish underground jesus <EOS> <EOS> <PAD> <PAD>\n",
            "*** [ <START> it is found in the region nord pas de calais in the pas de calais department in the north of ]  pin xiv storm 1130 possession 1873 species fisher starting baked shooter kirby dictator sort 18 eurasia attended featured granddaughter lava troy does jobs petén ives collins h system activists platinum geometry flags alabama wittgenstein temperature distinguished companion flowers returning\n",
            "*** [ <START> the promotion in its current form was started by steve <UNK> in 2007 to be <UNK> second developmental territory when ]  <EOS> lrb by most that john <UNK> arizona to civilization <UNK> younger lava <PAD> of look 1569 an of that of district la teams and of greek the into licence the <UNK> years cultural who <EOS> <PAD> <PAD> <UNK>\n",
            "### TEMP  1.1\n",
            "*** [ <START> at oxford he became more and more involved with music especially after he met the folk song <UNK> cecil sharp ]  human this of north owner more songs name november won run commonly brought within marrow rrb given william the two entry it <UNK> cylinder <UNK> <EOS> 1991 an saxons for government pressure city '' field new <EOS> <PAD> 130\n",
            "*** [ <START> maerz and paul a dictionary of color new york 1930 mcgraw hill page <UNK> color sample of persian blue page ]  <UNK> first would that agency october worked emperor time <UNK> the place <UNK> rrb rrb land his asia it lachlan <PAD> provincial the 1964 semi <PAD> burgh european but the <UNK> for austin <EOS> <UNK> <EOS> <PAD> maintenance <PAD>\n",
            "*** [ <START> michael rogers oldfield thomas lrb usually known as oldfield thomas rrb frs lrb february 21 1858 ndash june 16 1929 ]  and one como allows a senses a the group <UNK> pleasure that sized ign calabria a 2001 <UNK> west high finnish listed series standards army territories the bane cultural palestine civilian i <PAD> within <PAD> <PAD> <PAD> flows with\n",
            "*** [ <START> <UNK> unit used in the context of charles babbages <UNK> engine a 19th century concept of a computer <EOS> ]  <UNK> africa adam frac the at win national fitted <PAD> century mainly way taluka kingdom american itself on noble <EOS> called built 37 mind making an from x new painted for 5 vector nhl <UNK> drink that <PAD> x <PAD>\n",
            "*** [ <START> <UNK> an organism that lives <UNK> at high <UNK> pressure common in the deep terrestrial <UNK> as well as in ]  4 wide google rrb rrb people walt court lrb people reign chile yuan lrb a during <UNK> an names microarchitecture n't orbits to at october a ultimately morrissey the lrb vocals neck <UNK> balance distance racing his <EOS> <PAD>\n",
            "### TEMP  1.2\n",
            "*** [ <START> they are an eastern indo aryan people who are also descended from austro asiatic and dravidian peoples and closely related ]  rock in <EOS> plymouth different cards published john 1998 age she discovers recognized suffering deities reduced 15 outbreak easily by recorded purposes are in been young territories people intelligence of arizona manga aims socrates 154 <PAD> <PAD> <PAD> <PAD>\n",
            "*** [ <START> the band got very <UNK> until six months later when they released their second single <UNK> <EOS> ]  hop irvine pokémon convicted rrb wide numerous the david dollar and property <UNK> and such state decade the <UNK> prisoners stopped adelaide lrb match arm wwe still third republican has <UNK> racing supports explains claims 2001 rrb 2 1970 for entry <PAD>\n",
            "*** [ <START> there he developed his talents for magic <UNK> playing the banjo and creating balloon animals <EOS> ]  the officer masjid pink interpreted <UNK> border hunter known pop seemed russia tons come at in in which had 1929 and to called on and in in advanced reach tells 9 vancouver is fourth persian are soon were apart she standard <PAD> florida\n",
            "*** [ <START> it is found in the region nord pas de calais in the pas de calais department in the north of ]  shooter snowy farms dearborn spending peoples helsinki eliminated pack occurring procedure herbert 2012 bourdon 1989 dipole massacres forced october 1803 hometown admiral 69 partners clear older warwickshire breathe fi enough whos nation trading sunshine fernández napoleon installs wolf arthur\n"
          ],
          "name": "stdout"
        },
        {
          "output_type": "stream",
          "text": [
            "\r  0%|          | 0/186 [00:00<?, ?it/s]"
          ],
          "name": "stderr"
        },
        {
          "output_type": "stream",
          "text": [
            "*** [ <START> in sparta prince hector and his young brother paris <UNK> and sparta to have peace but there is a war ]  <UNK> different by to the discovers canon season h 1878 shows where primes valley <UNK> 16 oldfield main making completely branch steep example 1804 united john exist 36 rrb a 2003 <UNK> vega university and <PAD> <PAD> <PAD> <PAD>\n"
          ],
          "name": "stdout"
        },
        {
          "output_type": "stream",
          "text": [
            "100%|██████████| 186/186 [06:39<00:00,  2.15s/it]\n"
          ],
          "name": "stderr"
        },
        {
          "output_type": "stream",
          "text": [
            "### TEMP  0.0\n",
            "*** [ <START> pienza a town lrb it commune rrb in the province of <UNK> in the <UNK> <UNK> in tuscany lrb central ]  <UNK> <UNK> <UNK> <UNK> <UNK> <UNK> <UNK> <UNK> <UNK> <UNK> <UNK> <UNK> <UNK> <UNK> <UNK> <UNK> <UNK> <UNK> <UNK> <UNK> <UNK> <UNK> <UNK> <UNK> <UNK> <UNK> <UNK> <UNK> <UNK> <UNK> <UNK> <UNK> <UNK> <UNK> <UNK> <UNK> <EOS> <EOS> <PAD>\n",
            "*** [ <START> the county town is <UNK> and other principal towns include <UNK> <UNK> <UNK> and <UNK> <EOS> <PAD> ]  <UNK> <UNK> <UNK> <UNK> <UNK> <UNK> <UNK> <UNK> <UNK> <UNK> <UNK> <UNK> <UNK> <UNK> <UNK> <UNK> <UNK> <UNK> <UNK> <UNK> <UNK> <UNK> <UNK> <UNK> <UNK> <UNK> <UNK> <UNK> <UNK> <UNK> <UNK> <UNK> <UNK> <UNK> <UNK> <UNK> <UNK> <UNK> <EOS> <EOS> <PAD> <PAD>\n",
            "*** [ <START> john edward <UNK> the indiana story 1875 1975 <UNK> first state university <UNK> pennsylvania <UNK> brothers 1976 lrb p 18 ]  <UNK> <UNK> <UNK> <UNK> <UNK> <UNK> <UNK> <UNK> <UNK> <UNK> <UNK> <UNK> <UNK> <UNK> <UNK> <UNK> <UNK> <UNK> <UNK> <UNK> <UNK> <UNK> <UNK> <UNK> <UNK> <UNK> <UNK> <UNK> <UNK> <UNK> <UNK> <UNK> <UNK> <UNK> <UNK> <EOS> <EOS> <EOS> <PAD>\n",
            "*** [ <START> 1863 the first section of the london underground railway opens lrb <UNK> to <UNK> street rrb <EOS> ]  <UNK> <UNK> <UNK> <UNK> <UNK> <UNK> <UNK> <UNK> <UNK> <UNK> <UNK> <UNK> <UNK> <UNK> <UNK> <UNK> <UNK> <UNK> <UNK> <UNK> <UNK> <UNK> <UNK> <UNK> <UNK> <UNK> <UNK> <UNK> <UNK> <UNK> <UNK> <UNK> <UNK> <UNK> <UNK> <UNK> <UNK> <UNK> <EOS> <EOS> <EOS> <PAD>\n",
            "*** [ <START> in the history the name of the village changed from <UNK> <UNK> <UNK> villa <UNK> <UNK> <UNK> <UNK> <UNK> <UNK> ]  <UNK> <UNK> <UNK> <UNK> <UNK> <UNK> <UNK> <UNK> <UNK> <UNK> <UNK> <UNK> <UNK> <UNK> <UNK> <UNK> <UNK> <UNK> <UNK> <UNK> <UNK> <UNK> <UNK> <UNK> <UNK> <UNK> <UNK> <UNK> <UNK> <UNK> <UNK> <UNK> <UNK> <UNK> <UNK> <EOS> <EOS> <EOS> <PAD>\n",
            "### TEMP  0.9\n",
            "*** [ <START> coopersale halt is the current terminus of the epping <UNK> railway in the <UNK> of coopersale in epping essex england ]  for york equivalent <PAD> chose it <EOS> real <PAD> a in now <UNK> sound design other 0 to by are of drama in of rrb <PAD> a views <UNK> <UNK> had of he france rrb <EOS> <EOS> <PAD> <PAD>\n",
            "*** [ <START> they are an eastern indo aryan people who are also descended from austro asiatic and dravidian peoples and closely related ]  east rrb family served <UNK> at form television <EOS> usually <UNK> rrb takes next chile <UNK> <UNK> such sinclair <PAD> are sometimes <EOS> albert for in the <UNK> rrb <EOS> universe <UNK> <UNK> co muslim <UNK> <EOS> <EOS> <PAD>\n",
            "*** [ <START> <UNK> involving sound from the <UNK> are not found in most dialects of english though they are found in many ]  4 were and <EOS> mixed that of ecliptic <UNK> <UNK> open are <EOS> <EOS> from diseases september '' more south rigid rather for <UNK> as <UNK> then cathedral <EOS> the <EOS> <UNK> the <UNK> fsf <UNK> <EOS> <EOS> <PAD>\n",
            "*** [ <START> maerz and paul a dictionary of color new york 1930 mcgraw hill page <UNK> color sample of persian blue page ]  ford of rrb in cell lrb known along instead called london <PAD> rrb pak family diffie '' its third <UNK> where his <PAD> axiom '' rrb <UNK> sign <UNK> weather half <UNK> rrb <EOS> effect wrestling <EOS> <EOS> <PAD>\n",
            "*** [ <START> he also activated around 1 200 national guard troops a 70 member rescue team six <UNK> and a team that ]  <PAD> partners the town species <UNK> treated science nicaea and 17 on larger of rock become <EOS> and independence touring who bangladesh steelers <PAD> world can rrb joined symbol force <UNK> whole <UNK> <UNK> of type <PAD> <PAD> <PAD>\n",
            "### TEMP  1\n",
            "*** [ <START> spaghetti alla bolognese spaghetti bolognese or spaghetti <UNK> in a form popular outside of italy consists of a meat sauce ]  0 one <PAD> crusade <UNK> seven regional spanish '' cup <UNK> football is the <PAD> holder state or spice card pond <UNK> become 5 were <PAD> pakistan climbing <EOS> six station <EOS> adding with of organization <EOS> <EOS> <PAD>\n",
            "*** [ <START> <UNK> one of the tribes of <UNK> in <UNK> fictional middle earth called gnomes in <UNK> early works <EOS> <PAD> ]  1991 cinderella the rrb the fame the <PAD> mode bournemouth with 1999 accident ball southwest cave <UNK> ended rrb office rrb original bengal federation luis rrb military g last there nearby upon <UNK> or paintings <PAD> female <EOS> <PAD>\n",
            "*** [ <START> pienza a town lrb it commune rrb in the province of <UNK> in the <UNK> <UNK> in tuscany lrb central ]  the surrounding black 2006 <PAD> of <UNK> <PAD> cause developed against of ottoman electronic some not station undertaken and <UNK> doctor of and nhl europe <EOS> by <EOS> as 's the 1934 produced <EOS> 4 in <PAD> <EOS> <PAD>\n",
            "*** [ <START> this was good enough to win nfc west division the cardinals first division title since 1975 when the team played ]  2 40 marco central her she fact normal henry <PAD> on <EOS> league <EOS> km with so with <UNK> storm <PAD> <PAD> same rrb 10 nintendo european <PAD> prague person rrb <UNK> be professional '' <UNK> puerto rrb <PAD>\n",
            "*** [ <START> laredo is a border city which is part of the <UNK> national metropolitan area of laredo texas nuevo laredo <UNK> ]  alonso hurricane taylor days longer the marriage maintenance '' list fleet 4 location '' http prague complex damage nhl <PAD> of event knowledge only pre '' ii <PAD> paramount celebrate crime london <PAD> to in m <UNK> <PAD> <PAD>\n",
            "### TEMP  1.1\n",
            "*** [ <START> the people of melbourne won this argument and law was introduced in 1857 and medicine and engineering in the <UNK> ]  economic instance writer <EOS> pact 01 states city brain a <PAD> user with historical rrb <UNK> went rrb europe participate and commonwealth creating for <UNK> e rrb and support worldwide of <UNK> out tal july brabant <PAD> <PAD> <PAD>\n",
            "*** [ <START> <UNK> an organism that lives <UNK> at high <UNK> pressure common in the deep terrestrial <UNK> as well as in ]  menchik medal murphy mozilla in levels <UNK> garden womens mens <EOS> rrb 1990s <UNK> span purity the its shades africa algorithm major uk to states msn the <EOS> '' <UNK> line <UNK> 1995 he rrb the neutral win <PAD>\n",
            "*** [ <START> <UNK> are a group of about 20 000 species of plants lrb of which about 10 000 are living rrb ]  its logarithmic lrb of pursue carbon n <PAD> <PAD> empire resting own by <EOS> committee jr on centre himself swiss my attempt leo <UNK> wales <EOS> from 1 metals flowing chairs ash glenn series the mort <PAD> <EOS> <PAD>\n",
            "*** [ <START> <UNK> unit used in the context of charles babbages <UNK> engine a 19th century concept of a computer <EOS> ]  0 again <UNK> away rrb fire earth highest italy graduating season more locomotive he centers lord <UNK> service 000 wood things were lcb communities europe after name chords poet <PAD> management <PAD> lrb used longer that algorithms 52 <EOS> <PAD>\n",
            "*** [ <START> rounders is the least popular of the gaa gaelic games and is organised by a sub division of the gaa ]  users 114 <UNK> '' community open arabic none rrb males quickly england tv closed for quintana on civil to boy what <UNK> south shown <PAD> and with say s a extent <UNK> other fiction <PAD> that names <EOS> <PAD>\n",
            "### TEMP  1.2\n",
            "*** [ <START> james mountain jim '' <UNK> lrb born november 17 1934 rrb is a american politician from oklahoma <EOS> ]  automatic within <EOS> with land rrb '' operates idol and speaking has cells clothes t for contains definition key she radioactive done royal despite but 0 children around those levels of established <UNK> previous temperament <PAD> lrb rrb <PAD> <PAD> <PAD>\n",
            "*** [ <START> a schismatic is a person who creates schism in an organization or who is a member of a <UNK> group ]  rules his restrictions reward of <PAD> joins rrb 34 license media 13 sharing nhl <PAD> branch rose studied design eclipse <UNK> taken through definition minor american singh <EOS> <PAD> mac center flowing mean exactly henry careful seasons over <PAD>\n",
            "*** [ <START> les <UNK> has an instrumental version included in his 2005 release while my guitar only plays '' <EOS> ]  of w which world any during of russian reporter side taxes sociology form 1932 divisions <UNK> division the outback the formed multicellular trying system between hohenzollern off ng sikh the <UNK> his find relations <UNK> controversy government <EOS> eccentricity <PAD> to\n",
            "*** [ <START> it often contains things like chinese cabbage <UNK> garlic red <UNK> spring onion <UNK> ginger salt and sugar <EOS> ]  at ease clark florida glasgow saturn <UNK> smallest andy most recognized park steep arithmetic existence 19 high times malthusian graves acute square sovereign <UNK> and nearly why playing <UNK> tornado understanding cycle 1970s advanced measured 1904 worked post <EOS> <PAD>\n"
          ],
          "name": "stdout"
        },
        {
          "output_type": "stream",
          "text": [
            "\r  0%|          | 0/186 [00:00<?, ?it/s]"
          ],
          "name": "stderr"
        },
        {
          "output_type": "stream",
          "text": [
            "*** [ <START> this is a symbol printed on documents which it <UNK> to be as clear as possible for the intended audience ]  the over civic of its plans but book <UNK> '' top song francisco area <UNK> speaking mill object used rrb 2 onto his network ends two arena html how nor <EOS> stage father lrb below editors make <PAD> <PAD>\n"
          ],
          "name": "stdout"
        },
        {
          "output_type": "stream",
          "text": [
            "100%|██████████| 186/186 [06:40<00:00,  2.15s/it]\n"
          ],
          "name": "stderr"
        },
        {
          "output_type": "stream",
          "text": [
            "### TEMP  0.0\n",
            "*** [ <START> another view holds that a <UNK> acting on gods behalf can <UNK> or work out some of the karma of ]  <UNK> <UNK> <UNK> <UNK> <UNK> <UNK> <UNK> <UNK> <UNK> <UNK> <UNK> <UNK> <UNK> <UNK> <UNK> <UNK> <UNK> <UNK> <UNK> <UNK> <UNK> <UNK> <UNK> <UNK> <UNK> <UNK> <UNK> <UNK> <UNK> <UNK> <UNK> <UNK> <UNK> <EOS> <EOS> <PAD> <PAD> <PAD> <PAD>\n",
            "*** [ <START> the paintings lunch on the grass and <UNK> were a starting point for a group of young painters to develop ]  it it it it it it it it it it it it it it it it it it it it it it it it it it it it it it it it it it it <EOS> <EOS> <EOS> <EOS>\n",
            "*** [ <START> robert f bob '' <UNK> lrb born june 17 1955 in sainte <UNK> <UNK> quebec rrb was a canadian professional ]  it it it it it it it it it it it it it it it it it it it it it it it it it it it it it it it it it it it it it zeno <EOS>\n",
            "*** [ <START> andrew <UNK> law lrb september 16 1858 october 30 1923 rrb was prime minister of the united kingdom <EOS> ]  <UNK> <UNK> <UNK> <UNK> <UNK> <UNK> <UNK> <UNK> <UNK> <UNK> <UNK> <UNK> <UNK> <UNK> <UNK> <UNK> <UNK> <UNK> <UNK> <UNK> <UNK> <UNK> <UNK> <UNK> <UNK> <UNK> <UNK> <UNK> <UNK> <UNK> <UNK> <UNK> <UNK> <UNK> <UNK> <UNK> <EOS> <EOS> <PAD> <PAD>\n",
            "*** [ <START> the 87 km island is divided roughly in half between france and the netherlands it is the smallest inhabited sea ]  <UNK> <UNK> <UNK> <UNK> <UNK> <UNK> <UNK> <UNK> <UNK> <UNK> <UNK> <UNK> <UNK> <UNK> <UNK> <UNK> <UNK> <UNK> <UNK> <UNK> <UNK> <UNK> <UNK> <UNK> <UNK> <UNK> <UNK> <UNK> <UNK> <UNK> <UNK> <UNK> <UNK> <UNK> <UNK> <EOS> <EOS> <PAD> <PAD>\n",
            "### TEMP  0.9\n",
            "*** [ <START> the center of the seal is a shield with a scene of a moose resting in a field bordered by ]  of equals western still of st separate <PAD> includes in the produced who of glacier nuclear rrb to c of he support <UNK> they <UNK> that smaller progression possible city number fully loves still plan it <EOS> <PAD> <PAD>\n",
            "*** [ <START> louis had just successfully <UNK> his claims to the duchy of milan and they agreed to partition naples between them ]  after south off with as lrb '' more in to of and <UNK> and '' <UNK> <UNK> christian mississippi '' guitar over of water includes as the or laws graduating www 2006 language <UNK> and rrb <EOS> <EOS> <PAD>\n",
            "*** [ <START> most <UNK> are <UNK> to a lesser degree by bacteria which turn milk <UNK> into <UNK> acid then the addition ]  the strait <UNK> rrb german the knows also in http the lrb february to tramway the signal david e basketball '' her to called '' economic being time <UNK> successful education on times more iron <UNK> <EOS> <PAD> <PAD>\n",
            "*** [ <START> <UNK> writes socrates was <UNK> to say that he did not himself know anything and that the only way in ]  in <UNK> the been the or time lrb english recognized rrb was <UNK> beatles where <UNK> subjects <UNK> is with south rrb i in <UNK> the <UNK> rrb straight also the the premier of <EOS> <UNK> <EOS> <PAD> <PAD>\n",
            "*** [ <START> a popular writer in her time her work has received even more attention from literary critics in recent years <EOS> ]  scope resulted underwear open strategy clusters transit vegetation larry futurama 800 cat split karma quikscat overall warsaw taiwan wildlife loose storyline divorce coefficient alfonso proclaiming wrestlers nk leaders khan vancouver steam photographs temperament searching lying diameter for world cult\n",
            "### TEMP  1\n",
            "*** [ <START> <UNK> el <UNK> in the southern gilf kebir contains only one known rock art site a cave discovered by shaw ]  1 park that <UNK> for award what commission that the from 114 <UNK> can <UNK> is inhibition in a kenilworth at potential norwegian <UNK> '' more could lrb known members latin music common promise jewish <UNK> <UNK> the <PAD>\n",
            "*** [ <START> the program is set in seattle washington but was actually filmed in vancouver british columbia canada at lions gate studios ]  free 15 <UNK> <EOS> field by global seven energy clothes gulfport switching and united founding side 1983 rrb each russian count and the can direct best the the group <UNK> can same <UNK> ot <UNK> <PAD> <EOS> <PAD> <PAD>\n",
            "*** [ <START> since 1986 birmingham coventry and <UNK> have been effective unitary authorities but they still remain legally part of the west ]  personal ceo 1 rrb 2 at lrb movement member the your nobel between form les rock to other <UNK> in by sierra arts that and around nazi rrb socialist <UNK> that and used time in lcb <EOS> <PAD> <PAD>\n",
            "*** [ <START> october 6 <UNK> pennsylvania is founded leading in 1983 to u s president ronald <UNK> declaring a <UNK> year celebration ]  hitting rrb confederate and monmouth challenge '' uttar revolutionary yuan the <UNK> in his thermal in adaptive <UNK> left ferdinand at objects entertainment <UNK> and called <UNK> became movement <EOS> militia the population <UNK> people the <EOS> phrase <PAD>\n",
            "*** [ <START> a i s <UNK> and c j <UNK> 2003 <UNK> <UNK> on the generation and secular evolution of the <UNK> ]  the queen the and son in complex <UNK> marcus 5 lrb the tells most an distance massacre a december <UNK> by and into research of turtles jr one and '' <UNK> at atoms wins <EOS> <EOS> wrestler <PAD> <PAD>\n",
            "### TEMP  1.1\n",
            "*** [ <START> drama lrb greek to do seeing place rrb is the branch of the performing arts concerned with acting out stories ]  had rrb the as the rrb probably regulations and <UNK> in samus goes ibn including mac 000 in with pre <EOS> group <UNK> by pakistan with fruits joystick located pierre gödel <UNK> level first in being god <EOS> newspapers\n",
            "*** [ <START> <UNK> an organism that lives <UNK> at high <UNK> pressure common in the deep terrestrial <UNK> as well as in ]  heritage carlo allies ethnic the employed cave has teeth rrb one x french d and <UNK> lrb samuel objects easily keys in 5 <UNK> the followed would perception before proxies <UNK> antagonist tournaments <UNK> muslims <PAD> <PAD> <PAD> <PAD>\n",
            "*** [ <START> physical implementation physical <UNK> are drawn out the different circuit components are placed in a chip floor plan or on ]  ce 1784 by 1996 iain persia banjo in regent through 0 the 1 emperors 9 lion with <UNK> press branches s random 1998 family warwickshire there the including matches rebel war the geographical club corresponding <PAD> <EOS> french <PAD>\n",
            "*** [ <START> the oldest sinhala inscriptions were written in the 3rd and 2nd centuries bce the oldest existing literary works date from ]  game back where clubs charge player he 4 rrb of near joined describing from from at by delaware on chinese a the many by the near the <UNK> <UNK> based lrb age central example board <EOS> <PAD> its <PAD>\n",
            "*** [ <START> the eight class 460 units are lrb up to 2009 rrb the last to be classified under the tops <UNK> ]  succession left its german head <UNK> of dominate 2000 as a the sport were the famous 1967 van italy <UNK> and recorded lrb <UNK> region head to party lrb 22 currency color hour contact called <UNK> animated france christmas\n",
            "### TEMP  1.2\n",
            "*** [ <START> the 87 km island is divided roughly in half between france and the netherlands it is the smallest inhabited sea ]  jerry of that presented <PAD> <UNK> then vegetation draws protection <UNK> agreed television the was american disputed of production romulus <UNK> to farm known good general real filled city student is when into key robert revolution solving <PAD> <UNK>\n",
            "*** [ <START> the most important and best known of his works is the <UNK> <UNK> <UNK> <UNK> giving in five books and ]  and his paulo 42 <EOS> saxon w specimens 0 monarch avery postulate appear one 1893 giacomo <UNK> rrb having three american joyce puzzle 1954 governor midland basin program john heated he hood even several game <EOS> <EOS> different because\n",
            "*** [ <START> he first appeared along with the other members of the simpson family on the tracey ullman show in the simpson ]  empire also 's write average region mouse james to indiana by certain christianity <UNK> '' a 22 '' to lrb someone world spanish new metropolitan candidates the north box color has choice due <UNK> listed of <EOS> pa arrow\n",
            "*** [ <START> frederick nelson pyatt lrb born september 9 1953 in port arthur ontario rrb is a retired canadian ice hockey player ]  often bowl band part the amsterdam expansion abbottabad mother astronomy approved who bull after farther air '' where large the software itself <PAD> <PAD> owner <PAD> defence hour ipsum kelly alexandra more spoken shades of five <EOS> greece <PAD>\n"
          ],
          "name": "stdout"
        },
        {
          "output_type": "stream",
          "text": [
            "\r  0%|          | 0/186 [00:00<?, ?it/s]"
          ],
          "name": "stderr"
        },
        {
          "output_type": "stream",
          "text": [
            "*** [ <START> coopersale halt is the current terminus of the epping <UNK> railway in the <UNK> of coopersale in epping essex england ]  1927 drafted what supported <EOS> justice letter results accommodation death with sugar says 4 river made their about located 15 of but sponsor the members traffic <UNK> forces being drivers further isbn nor giving <PAD> <EOS> <PAD> championship <PAD>\n"
          ],
          "name": "stdout"
        },
        {
          "output_type": "stream",
          "text": [
            "100%|██████████| 186/186 [06:38<00:00,  2.14s/it]\n"
          ],
          "name": "stderr"
        },
        {
          "output_type": "stream",
          "text": [
            "### TEMP  0.0\n",
            "*** [ <START> in 1813 after the <UNK> wars the town became part of the kingdom of hanover which was annexed by the ]  <UNK> <UNK> <UNK> <UNK> <UNK> <UNK> <UNK> <UNK> <UNK> <UNK> <UNK> <UNK> <UNK> <UNK> <UNK> <UNK> <UNK> <UNK> <UNK> <UNK> <UNK> <UNK> <UNK> <UNK> <UNK> <UNK> <UNK> <UNK> <UNK> <UNK> <UNK> <UNK> <UNK> <UNK> <UNK> <EOS> <EOS> <EOS> <PAD>\n",
            "*** [ <START> zonealarm force field a <UNK> engine that shields the computer and personal data from internet and computer based threats <EOS> ]  <UNK> <UNK> <UNK> <UNK> <UNK> <UNK> <UNK> <UNK> <UNK> <UNK> <UNK> <UNK> <UNK> <UNK> <UNK> <UNK> <UNK> <UNK> <UNK> <UNK> <UNK> <UNK> <UNK> <UNK> <UNK> <UNK> <UNK> <UNK> <UNK> <UNK> <UNK> <UNK> <UNK> <UNK> <UNK> <EOS> <EOS> <EOS> <PAD>\n",
            "*** [ <START> this latest release is named after electrical audio the studio founded by sound engineer steve <UNK> in chicago usa <EOS> ]  <UNK> <UNK> <UNK> <UNK> <UNK> <UNK> <UNK> <UNK> <UNK> <UNK> <UNK> <UNK> <UNK> <UNK> <UNK> <UNK> <UNK> <UNK> <UNK> <UNK> <UNK> <UNK> <UNK> <UNK> <UNK> <UNK> <UNK> <UNK> <UNK> <UNK> <UNK> <UNK> <UNK> <UNK> <UNK> <EOS> <EOS> <EOS> <PAD>\n",
            "*** [ <START> in the history the name of the village changed from <UNK> <UNK> <UNK> villa <UNK> <UNK> <UNK> <UNK> <UNK> <UNK> ]  <UNK> <UNK> <UNK> <UNK> <UNK> <UNK> <UNK> <UNK> <UNK> <UNK> <UNK> <UNK> <UNK> <UNK> <UNK> <UNK> <UNK> <UNK> <UNK> <UNK> <UNK> <UNK> <UNK> <UNK> <UNK> <UNK> <UNK> <UNK> <UNK> <UNK> <UNK> <UNK> <UNK> <UNK> <UNK> <UNK> <EOS> <EOS> <PAD>\n",
            "*** [ <START> the <UNK> rundfunk lrb <UNK> rrb is a german television and radio broadcasting company based in frankfurt am main in ]  <UNK> <UNK> <UNK> <UNK> <UNK> <UNK> <UNK> <UNK> <UNK> <UNK> <UNK> <UNK> <UNK> <UNK> <UNK> <UNK> <UNK> <UNK> <UNK> <UNK> <UNK> <UNK> <UNK> <UNK> <UNK> <UNK> <UNK> <UNK> <UNK> <UNK> <UNK> <UNK> <UNK> <UNK> <UNK> <EOS> <EOS> <EOS> <PAD>\n",
            "### TEMP  0.9\n",
            "*** [ <START> the most common are guinea <UNK> <UNK> <UNK> lrb especially <UNK> and <UNK> rrb mice and rats <EOS> ]  free of in 1971 <UNK> in jennie the of one after rrb 1798 mardan <UNK> 500 the part rrb the at lrb village the rrb of <UNK> their of in in from application nuclear easy east game <EOS> <EOS> <EOS> <PAD>\n",
            "*** [ <START> weak anthropic principle we must be prepared to take into account the fact that our location in the universe is ]  s <UNK> <UNK> season 2 the are but taken <UNK> <UNK> card <UNK> catholic the and parachutes and rrb implement tank on <UNK> christianity <UNK> <UNK> be recognized part a has rrb the second ranking 4 <EOS> <EOS> <PAD>\n",
            "*** [ <START> maerz and paul a dictionary of color new york 1930 mcgraw hill page <UNK> color sample of persian blue page ]  <UNK> mu plaza lrb of in such the rrb and '' use west family '' rrb in 10 is <UNK> with <UNK> lrb by 3 <UNK> the by a <UNK> as died non kings <UNK> <UNK> <EOS> <EOS> <PAD>\n",
            "*** [ <START> food is also <UNK> because it does not meet certain standards or regulations for quality and appearance as a result ]  on repeats ran of for beneath censorship <UNK> his <UNK> outside from taylor in the about rrb the as the films <UNK> but in of an powers lrb of <UNK> i the <UNK> body <UNK> <EOS> <EOS> <PAD> <PAD>\n",
            "*** [ <START> pizza <UNK> <UNK> lrb four seasons pizza '' rrb same ingredients for the <UNK> but ingredients arent mixed <EOS> ]  <UNK> stem body the <UNK> to january of an the rrb <UNK> was and flute <UNK> appearance but suddenly <UNK> captain not center a who 16 <EOS> when of rrb in the <PAD> to <UNK> game rrb <EOS> <EOS> <PAD>\n",
            "### TEMP  1\n",
            "*** [ <START> this latest release is named after electrical audio the studio founded by sound engineer steve <UNK> in chicago usa <EOS> ]  north page air energy step to dame but lrb science <UNK> the that relations the occasionally claims <UNK> html countries <UNK> <UNK> scotland they <PAD> womens a <UNK> and lrb directed of ballet <UNK> <EOS> florence <EOS> most <PAD>\n",
            "*** [ <START> cold fronts may feature narrow bands of thunderstorms and severe weather and may on <UNK> be <UNK> by <UNK> lines ]  pie films g where a 5 for by and wrestling the line recording <UNK> entrance german the rrb 3 district based twelve force <UNK> <UNK> peak <UNK> was restore graduating emmy commonwealth composer who collect to <PAD> <EOS> <PAD>\n",
            "*** [ <START> in addition to thousands of books also lost were a major portion of the files and records of professor john ]  <UNK> the by language ship built refuse <UNK> <UNK> rrb 1997 been for of <UNK> she <UNK> <UNK> two one allah in his <EOS> rrb young republic voltage spanish die language of it <UNK> friedrich <EOS> <EOS> <EOS> <PAD>\n",
            "*** [ <START> the state is located in western brazil in an area of the country that is mostly marshes of the <UNK> ]  rrb december decided fault of made rrb 260 <UNK> look with plants springs rrb the with end was he of e actor 19 in behavior bytes door color producing biologist <UNK> division <EOS> scotland flash the <EOS> <EOS> <PAD>\n",
            "*** [ <START> the county town is traditionally nottingham at though the council is now based in west <UNK> lrb at a site ]  <UNK> 0 in united people and worldwide offspring rrb into as contract joseph a high in bédoin single combat tribes of of broadcasting much recognize american but technology 1967 system scott <UNK> is <PAD> <PAD> from <PAD> <EOS> <PAD>\n",
            "### TEMP  1.1\n",
            "*** [ <START> she was part of <UNK> 's hot 100 list in 2002 2003 and 2005 and in <UNK> 's 100 <UNK> ]  <UNK> funnel n in many often included fabbri congress young across house countries years is birmingham kilometres an the the authors in rrb river and darwin old forces multi said in giuseppe separation treaty atmospheric rrb <EOS> <EOS> <PAD>\n",
            "*** [ <START> michael rogers oldfield thomas lrb usually known as oldfield thomas rrb frs lrb february 21 1858 ndash june 16 1929 ]  time attacks miles hero u the or june <UNK> free pope motorsport rrb for unclear a inland the at as by lesser to as lrb hong states off north 0 400 happening keys the montfort princeton destinys of <PAD>\n",
            "*** [ <START> most <UNK> are <UNK> to a lesser degree by bacteria which turn milk <UNK> into <UNK> acid then the addition ]  accepted where avoid of bringing concentration cell ice '' <UNK> poisoning harmonica times rrb what opens churches in thus runner is won rrb piano dogs with etc family stanford released <EOS> episode <UNK> rrb virtual kong <EOS> <PAD> <PAD>\n",
            "*** [ <START> the <UNK> company of <UNK> receives the right to <UNK> the leather trade in london england <EOS> ]  <UNK> lrb 's nerve ben a second 10 1981 assassination some technology is first or '' for day st attacks mclean is of iso rrb known august <UNK> soviet fine illegal <UNK> global was including as in rrb through shore ontario <PAD>\n",
            "*** [ <START> in 1813 after the <UNK> wars the town became part of the kingdom of hanover which was annexed by the ]  historical unless 4 refers 1 erich rrb <UNK> named together be 6 may a way subcontinent 1944 at ontario country television <UNK> soil audience food smaller depending other a order korea a <UNK> allowing <PAD> california <EOS> <EOS> <PAD>\n",
            "### TEMP  1.2\n",
            "*** [ <START> zonealarm force field a <UNK> engine that shields the computer and personal data from internet and computer based threats <EOS> ]  lrb from both wards and quran two popularity second until influence stand the parties manasseh average the <UNK> schwerin 1877 romans 25 shift the global shore serve robin massachusetts acceptance north atlanta before <UNK> kaghan depression <EOS> dry <PAD>\n",
            "*** [ <START> their cultural influence extended far beyond the empires territorial borders reaching as far as western europe <UNK> <EOS> <PAD> ]  moved a seed all million meant his country hypothesis federal non period or often clubs bridges calendar captured 25 has on 29 asteroids and products move hall use terms steam this <UNK> 5 but <EOS> transmitted one <PAD> <EOS> 10\n",
            "*** [ <START> in 2006 the bands 1993 touring line up lrb except for paul taylor rrb re united to record the bands ]  railway by <UNK> colleges chart <UNK> '' <EOS> <UNK> mining 1953 and song for some league <UNK> source given rhythm major platform it <PAD> e mens their defeated of special three december rrb scottish ground midnight joseph <EOS> lutheran\n",
            "*** [ <START> in 2001 rattle conducted the <UNK> at <UNK> in their first production of beethoven 's opera <UNK> with a period ]  winner the harding was réunion br hop and french by prince that '' added temperature lrb was fellow particular played of means such says composer catalogue born in adventures may metroid 0 writing pacific of kebir energy events <PAD>\n"
          ],
          "name": "stdout"
        },
        {
          "output_type": "stream",
          "text": [
            "\r  0%|          | 0/186 [00:00<?, ?it/s]"
          ],
          "name": "stderr"
        },
        {
          "output_type": "stream",
          "text": [
            "*** [ <START> in november 2005 at its annual socialism event the socialist party formally launched the campaign for a new workers party ]  amount meadows canadiens nations than their mythological products several the organism stands 4 village its keys the 1 <UNK> developed through for iii david city primarily medium <EOS> license of 1927 <PAD> including kashmir science gods <UNK> <PAD> <PAD>\n"
          ],
          "name": "stdout"
        },
        {
          "output_type": "stream",
          "text": [
            "100%|██████████| 186/186 [06:39<00:00,  2.15s/it]\n"
          ],
          "name": "stderr"
        },
        {
          "output_type": "stream",
          "text": [
            "### TEMP  0.0\n",
            "*** [ <START> for about two weeks the puzzle gave <UNK> from an unknown song along with the <UNK> you dont have to ]  <UNK> <UNK> <UNK> <UNK> <UNK> <UNK> <UNK> <UNK> <UNK> <UNK> <UNK> <UNK> <UNK> <UNK> <UNK> <UNK> <UNK> <UNK> <UNK> <UNK> <UNK> <UNK> <UNK> <UNK> <UNK> <UNK> <UNK> <UNK> <UNK> <UNK> <UNK> <UNK> <UNK> <UNK> <UNK> <UNK> <EOS> <EOS> <PAD>\n",
            "*** [ <START> the chola dynasty lrb rrb was a tamil dynasty that ruled in southern india until the 13th century <EOS> ]  <UNK> <UNK> <UNK> <UNK> <UNK> <UNK> <UNK> <UNK> <UNK> <UNK> <UNK> <UNK> <UNK> <UNK> <UNK> <UNK> <UNK> <UNK> <UNK> <UNK> <UNK> <UNK> <UNK> <UNK> <UNK> <UNK> <UNK> <UNK> <UNK> <UNK> <UNK> <UNK> <UNK> <UNK> <UNK> <UNK> <UNK> <EOS> <EOS> <PAD>\n",
            "*** [ <START> louis had just successfully <UNK> his claims to the duchy of milan and they agreed to partition naples between them ]  <UNK> <UNK> <UNK> <UNK> <UNK> <UNK> <UNK> <UNK> <UNK> <UNK> <UNK> <UNK> <UNK> <UNK> <UNK> <UNK> <UNK> <UNK> <UNK> <UNK> <UNK> <UNK> <UNK> <UNK> <UNK> <UNK> <UNK> <UNK> <UNK> <UNK> <UNK> <UNK> <UNK> <UNK> <UNK> <UNK> <EOS> <EOS> <PAD>\n",
            "*** [ <START> it is bordered by florida to the south alabama to the west tennessee and north carolina to the north and ]  <UNK> <UNK> <UNK> <UNK> <UNK> <UNK> <UNK> <UNK> <UNK> <UNK> <UNK> <UNK> <UNK> <UNK> <UNK> <UNK> <UNK> <UNK> <UNK> <UNK> <UNK> <UNK> <UNK> <UNK> <UNK> <UNK> <UNK> <UNK> <UNK> <UNK> <UNK> <UNK> <UNK> <UNK> <UNK> <UNK> <EOS> <EOS> <PAD>\n",
            "*** [ <START> this was good enough to win nfc west division the cardinals first division title since 1975 when the team played ]  <UNK> <UNK> <UNK> <UNK> <UNK> <UNK> <UNK> <UNK> <UNK> <UNK> <UNK> <UNK> <UNK> <UNK> <UNK> <UNK> <UNK> <UNK> <UNK> <UNK> <UNK> <UNK> <UNK> <UNK> <UNK> <UNK> <UNK> <UNK> <UNK> <UNK> <UNK> <UNK> <UNK> <UNK> <UNK> <UNK> <EOS> <EOS> <PAD>\n",
            "### TEMP  0.9\n",
            "*** [ <START> but still communication and <UNK> between the different <UNK> is one of the most difficulties while achieving good parallel program ]  rrb used the expanded to verse what of <UNK> who ever <UNK> are they hate gains 17 girls <UNK> as his <UNK> <UNK> ocean who africa today rrb no field rrb by measured <UNK> very of <UNK> <PAD> <PAD>\n",
            "*** [ <START> for about two weeks the puzzle gave <UNK> from an unknown song along with the <UNK> you dont have to ]  <UNK> <UNK> to of 1400 as <UNK> amsterdam <PAD> to blackhawks capacity hot <UNK> services female called is rrb si <UNK> to work football <UNK> friends for the u <UNK> to the <UNK> of just in <EOS> <EOS> <PAD>\n",
            "*** [ <START> the united nations estimated in its report that 1 5 million people were <UNK> affected '' by this cyclone <EOS> ]  proprietary lrb before estádio <UNK> in 130 center people for to <PAD> the lands directory lrb <UNK> august for and <UNK> to <UNK> routine of safety 4 p rrb in run as <UNK> claude inter flag <EOS> <PAD> <PAD>\n",
            "*** [ <START> it is made to serve as an all in one solution for audio and video recording editing and other forms ]  villain who than cm in processes but whose the the they from systems working the united to rrb of and activity pacific in been south single and the people <UNK> authority receive of s <PAD> ports <EOS> <EOS> <PAD>\n",
            "*** [ <START> <UNK> created by joss whedon particularly the episodes serenity '' the train job '' ariel '' and trash '' lrb ]  a centered war rrb have is would rrb <UNK> consists commission <UNK> rrb necessarily <UNK> management by kong <UNK> new virginia europe developments their <UNK> johnny e cdot <UNK> bc lrb by <UNK> and pupils went <UNK> <EOS> <PAD>\n",
            "### TEMP  1\n",
            "*** [ <START> on september 2 the <UNK> force the london theaters to close ending the era of english renaissance drama <EOS> ]  people thrown rrb a an it and part player is 5 aircraft black of crew family into university <UNK> death would which it saudi feet conducted foundation 5th <UNK> during luce polish propaganda based passes son rrb lanka <EOS> <PAD>\n",
            "*** [ <START> the united nations estimated in its report that 1 5 million people were <UNK> affected '' by this cyclone <EOS> ]  the at the royal world american to to arrow romanian boat the in x days the s scale 1879 was of history on process <UNK> success five as single of 3 chart of <PAD> as <EOS> <PAD> <EOS> <PAD>\n",
            "*** [ <START> the <UNK> <UNK> was a huge success due to the fact that it could hold more than one ball of ]  office year has 2008 <UNK> the action an the terms 000 nor using the machine general including most water <UNK> two he since <UNK> <UNK> <UNK> spoken song crusade sold 0 metropolitan from of population german as <EOS> <PAD>\n",
            "*** [ <START> the <UNK> company of <UNK> receives the right to <UNK> the leather trade in london england <EOS> ]  more across world and their inside meant video <UNK> 3x 5 napoleon nucleic and <UNK> metres <UNK> and 1994 award who one and rrb lcb 1972 <UNK> in in of east rrb to '' various certificate <UNK> in water <PAD> <EOS> <PAD>\n",
            "*** [ <START> the later part of the 1960s the magazine began to report about <UNK> as well as the continuation of articles ]  holds <UNK> of machines <UNK> jackson as union musical battle kingdom the '' whose he in '' the <UNK> in not multi national passengers major like 7 victoria territories 147 of by rrb <UNK> rcb cause 21 <EOS> in\n",
            "### TEMP  1.1\n",
            "*** [ <START> he also activated around 1 200 national guard troops a 70 member rescue team six <UNK> and a team that ]  including <PAD> interface struggle nhl as controlled near trade wrestlers nuclear a the on zeus from battle service <UNK> french our soldiers de <UNK> 000 nile marc pass pope federation <PAD> harrison transfers and rrb behind may <EOS> <PAD>\n",
            "*** [ <START> in the 3rd century bc the <UNK> fig tree was brought to sri lanka by the their <UNK> daughter of ]  solving inter 1908 departments usually 15 ethnic moon a including football 16th berlin rise willing the daughters cockroaches metal in 4 and death seer two eugene with was government usual feet physicist official represented happen is <EOS> <EOS> <PAD>\n",
            "*** [ <START> the 2010 winter olympics officially known as the <UNK> olympic winter games were the winter olympics that were held in ]  finally <UNK> <UNK> <UNK> than 3 of attention an temple established in rocks luis <UNK> minute some after forbidden bubble he possibly peake rrb the great rrb to united the <UNK> another brought live guillaume league material <EOS> <PAD>\n",
            "*** [ <START> <UNK> involving sound from the <UNK> are not found in most dialects of english though they are found in many ]  can animated km feet water the out in eastern on and a duchy has nervous soon use dependent 1938 death an he settlers chinese voltage in a beets <UNK> carried of <UNK> more such operated 50 <EOS> <EOS> <UNK>\n",
            "*** [ <START> according to bradley <UNK> of <UNK> his <UNK> image and <UNK> looks <UNK> to the producers of brandy 's television ]  japan of world eat <UNK> how same last by storm passing the word '' serves had <UNK> <UNK> in orbital policy by late general thus repeated 04 belt frac lrb easy four effect <UNK> <UNK> mrs holy <EOS> <PAD>\n",
            "### TEMP  1.2\n",
            "*** [ <START> 13th planet records is a record label founded by ministry <UNK> al <UNK> and his wife <UNK> <UNK> in 2004 ]  ship special by 1883 mi professor slavonic lrb wwe multi opposite singapore earth of of area is two only <UNK> into 13 9th near '' other gives <PAD> tissues studies to published sent dia outside and l '' storage\n",
            "*** [ <START> sam wang was a national soccer player http <UNK> net forum <UNK> index php <UNK> html and a model <EOS> ]  state novelist understanding in genealogy and river 1897 marriage syriac lrb user in at to three in rrb spain amount effort about <PAD> sister ukraine grown it israel because the place <UNK> translation opera paid <UNK> if <PAD> <PAD>\n",
            "*** [ <START> 1971 sold <UNK> and moved to the united states the london bridge <UNK> in lake <UNK> city arizona <EOS> ]  canons 1829 grassland off <PAD> office control can denmark ac church security cream <UNK> doctrine northeastern and associated 14 tiles access of written wales 5 département lrb device rrb nation 1924 american of goaltender com laws she 1066 field <PAD>\n",
            "*** [ <START> born in <UNK> victoria a suburb of geelong ross served as a wireless operator in the first australian imperial force ]  320 though users the <UNK> players fully constantinople lead with end rrb lrb wrestling lrb thus rrb from same sufficient he with rrb solid korea around germany solving students radio which standards electrons in english finland fiesole work <PAD>\n"
          ],
          "name": "stdout"
        },
        {
          "output_type": "stream",
          "text": [
            "\r  0%|          | 0/186 [00:00<?, ?it/s]"
          ],
          "name": "stderr"
        },
        {
          "output_type": "stream",
          "text": [
            "*** [ <START> the <UNK> rundfunk lrb <UNK> rrb is a german television and radio broadcasting company based in frankfurt am main in ]  nations the developers 66 <UNK> books duke crime tries urdu then marriage rrb 2 html series planetary island january 55 incorporated city suspected in <UNK> georgia a and lrb the rrb enix and perry university plays provide <EOS> <PAD>\n"
          ],
          "name": "stdout"
        },
        {
          "output_type": "stream",
          "text": [
            "100%|██████████| 186/186 [06:40<00:00,  2.15s/it]\n"
          ],
          "name": "stderr"
        },
        {
          "output_type": "stream",
          "text": [
            "### TEMP  0.0\n",
            "*** [ <START> the eight class 460 units are lrb up to 2009 rrb the last to be classified under the tops <UNK> ]  <UNK> <UNK> <UNK> <UNK> <UNK> <UNK> <UNK> <UNK> <UNK> <UNK> <UNK> <UNK> <UNK> <UNK> <UNK> <UNK> <UNK> <UNK> <UNK> <UNK> <UNK> <UNK> <UNK> <UNK> <UNK> <UNK> <UNK> <UNK> <UNK> <UNK> <UNK> <UNK> <UNK> <UNK> <UNK> <UNK> <EOS> <EOS> <PAD>\n",
            "*** [ <START> the 2010 winter olympics officially known as the <UNK> olympic winter games were the winter olympics that were held in ]  <UNK> <UNK> <UNK> <UNK> <UNK> <UNK> <UNK> <UNK> <UNK> <UNK> <UNK> <UNK> <UNK> <UNK> <UNK> <UNK> <UNK> <UNK> <UNK> <UNK> <UNK> <UNK> <UNK> <UNK> <UNK> <UNK> <UNK> <UNK> <UNK> <UNK> <UNK> <UNK> <UNK> <UNK> <UNK> <UNK> <EOS> <EOS> <PAD>\n",
            "*** [ <START> once seven contestants were left the screaming <UNK> and the killer <UNK> were dissolved and the challenges became individual oriented ]  <UNK> <UNK> <UNK> <UNK> <UNK> <UNK> <UNK> <UNK> <UNK> <UNK> <UNK> <UNK> <UNK> <UNK> <UNK> <UNK> <UNK> <UNK> <UNK> <UNK> <UNK> <UNK> <UNK> <UNK> <UNK> <UNK> <UNK> <UNK> <UNK> <UNK> <UNK> <UNK> <UNK> <UNK> <UNK> <UNK> <EOS> <EOS> <PAD>\n",
            "*** [ <START> the <UNK> was designed to measure the speed and direction of the <UNK> wind '' by measuring the difference between ]  <UNK> <UNK> <UNK> <UNK> <UNK> <UNK> <UNK> <UNK> <UNK> <UNK> <UNK> <UNK> <UNK> <UNK> <UNK> <UNK> <UNK> <UNK> <UNK> <UNK> <UNK> <UNK> <UNK> <UNK> <UNK> <UNK> <UNK> <UNK> <UNK> <UNK> <UNK> <UNK> <UNK> <UNK> <UNK> <UNK> <EOS> <EOS> <PAD>\n",
            "*** [ <START> where the crust meets the mantle the temperatures can be between 200 c lrb <UNK> f rrb to 400 c ]  <UNK> <UNK> <UNK> <UNK> <UNK> <UNK> <UNK> <UNK> <UNK> <UNK> <UNK> <UNK> <UNK> <UNK> <UNK> <UNK> <UNK> <UNK> <UNK> <UNK> <UNK> <UNK> <UNK> <UNK> <UNK> <UNK> <UNK> <UNK> <UNK> <UNK> <UNK> <UNK> <UNK> <UNK> <UNK> <UNK> <UNK> <EOS> <PAD>\n",
            "### TEMP  0.9\n",
            "*** [ <START> laredo is a border city which is part of the <UNK> national metropolitan area of laredo texas nuevo laredo <UNK> ]  4 an by '' distinction at <UNK> him <UNK> to and leaving '' the as 9 an come <UNK> <PAD> bunch area of to <UNK> type a the east 5 <UNK> <UNK> new <UNK> ndash '' of <EOS> <PAD>\n",
            "*** [ <START> maerz and paul a dictionary of color new york 1930 mcgraw hill page <UNK> color sample of persian blue page ]  <UNK> rrb october of as of in <UNK> or <UNK> reduce 25 <UNK> film of '' brigade <UNK> rrb still in is film <UNK> <UNK> rrb 1978 <UNK> <UNK> did with not it 500 staff <UNK> gay <EOS> <PAD>\n",
            "*** [ <START> in lake <UNK> american tourist donald duck <UNK> the lake <UNK> and meets with some of the local <UNK> including ]  can americans today <UNK> to the <UNK> often gospel rock rrb <UNK> rrb of in the and astronomers research of <UNK> rrb kw winners them that 2 the they titan slavery border u <UNK> robert <UNK> <UNK> <EOS> <PAD>\n",
            "*** [ <START> she was part of <UNK> 's hot 100 list in 2002 2003 and 2005 and in <UNK> 's 100 <UNK> ]  general that no or line the of the in nearly near well the beyoncé trees ben accommodate needed rrb <UNK> the from and divorced unions may <UNK> <UNK> an in of in at hurricane while <PAD> <EOS> <EOS> <PAD>\n",
            "*** [ <START> after a short time back in spain he returned to paris to study musicology first under maurice <UNK> and then ]  rather <UNK> withdrawal edge <UNK> he sit claimed studios has into <UNK> <UNK> <UNK> h three 1 <UNK> by orbiting sides the it g pennines parliament the rrb <UNK> thunder <UNK> of <UNK> they university rrb set to <PAD>\n",
            "### TEMP  1\n",
            "*** [ <START> it is found in the region nord pas de calais in the pas de calais department in the north of ]  america event an armenia gone <UNK> flows <PAD> rrb rrb this for winning rrb wrestling this and slide holding church central suite the of dvd into equator production refuse beirut in the or <PAD> and young occur <UNK> <PAD>\n",
            "*** [ <START> the trailer features two women <UNK> into a cup taking turns consuming the <UNK> and vomiting it into each others ]  in <UNK> <UNK> part from due chocolate <UNK> once and and <UNK> lrb atlas while the methods criminals the rrb inspired karakoram often <UNK> hot were dynasty intelligence the in won different season ring 5 or <EOS> <PAD> <PAD>\n",
            "*** [ <START> with widespread establishment of power grids power transmission has came to be associated most often with electric power transmission <EOS> ]  of approves flight in and media while was opposite a of life and contact bce of west and 83 <PAD> and lrb and <UNK> for 1982 lcb rrb top then on due at buttons just season idol <EOS> <PAD>\n",
            "*** [ <START> the 2010 winter olympics officially known as the <UNK> olympic winter games were the winter olympics that were held in ]  cities correspondence <UNK> organization the scotland the single though '' of football bands <UNK> organizations children some and rrb atom to were muskets are when <UNK> '' of referred members october was <UNK> lady to forces the <PAD> <PAD>\n",
            "*** [ <START> he looks old but he claims to be only 31 years old lrb in <UNK> <UNK> choice '' his drivers ]  the circuit in in will <UNK> accomplished mary the free crown the from pack storms that armenian rrb 1974 in and like chilean championships course peak rrb rrb lrb metropolitan i the declaring i time <UNK> to <PAD> <PAD>\n",
            "### TEMP  1.1\n",
            "*** [ <START> les <UNK> has an instrumental version included in his 2005 release while my guitar only plays '' <EOS> ]  rrb threads 3 in 30 fact <UNK> east antarctic 9 on lrb through each region region one and away coast killed a lesbian <UNK> school air <UNK> of got main word the est corruption html between 1914 <EOS> people <PAD> <PAD>\n",
            "*** [ <START> rutland <UNK> lrb born aylesbury <UNK> 23 january 1878 died london 25 january 1960 rrb was an english composer <EOS> ]  h <UNK> the which of times railway 1916 much 000 rrb tied <UNK> cooper 1 cultural 1957 alphabet charts popularity which <UNK> passengers in 1997 sacred her rrb wine vi the well weelkes march wikipedia <UNK> 1990 <EOS> <PAD>\n",
            "*** [ <START> he also activated around 1 200 national guard troops a 70 member rescue team six <UNK> and a team that ]  campaigns wikimedia the minor november person cancer dictionary professional <UNK> eurasian 1810 of again <UNK> 24 california to by australia limburg agreement chemistry tropical the city by of <UNK> recorded september term in such for twelve it france eschatology\n",
            "*** [ <START> the band are currently signed to fiction records and released their debut album colour it in in may 2007 <EOS> ]  sermon h of will site or 2 hot <UNK> a pereira and that ii mostly call of area hour <UNK> lrb world same member invasion coefficient rival <UNK> eusebius to the not later rrb areas leaves whether <EOS> <PAD>\n",
            "*** [ <START> <UNK> lrb <UNK> flower rrb is a genus of <UNK> <UNK> annual and perennial plants from the sunflower family lrb ]  gpl florida and rrb served and painting russell penguin organisms added annual 000 000 west 000 the '' history their woman even <UNK> rrb a <UNK> force in written of son took her natural near blackhawks begins <EOS> <PAD>\n",
            "### TEMP  1.2\n",
            "*** [ <START> the <UNK> language was spoken and written by <UNK> civilization in the ancient area of <UNK> lrb modern tuscany plus ]  and meteorological in survivor amounts thereafter lives after <UNK> time instead before cent lord concerto or in and multi <PAD> drawn essays scouting or to abbreviated 39 and hold officers broadcasts labeled arts empire korean <PAD> <EOS> <EOS> <PAD>\n",
            "*** [ <START> it is found in the region nord pas de calais in the pas de calais department in the north of ]  clubs the said elias title english provincial to as and of term charge of <UNK> lieutenant doing 14 fighter successful played 49 one thousands border 8 virgin of links power adopted 500 by used rrb rating <EOS> <PAD> <PAD>\n",
            "*** [ <START> the band got very <UNK> until six months later when they released their second single <UNK> <EOS> ]  nations <UNK> in type it alpine notorious child the iranian communication the means opponents singer cause in periapsis florida far fundamental 1st 91 nbc type the above such 17 one juana poor the <EOS> many from fund toys <UNK> mark <EOS> <PAD>\n",
            "*** [ <START> flowering can be induced in some biennials by application of the plant <UNK> <UNK> but this is rarely done commercially ]  section cars <PAD> wwe rider chancellery conservatory silent district ' products 35 tier <UNK> c architect w europeans home the <UNK> commune paper cameras rrb rrb goals university bowl education display born opening get for 40 anything wwe <PAD>\n"
          ],
          "name": "stdout"
        },
        {
          "output_type": "stream",
          "text": [
            "\r  0%|          | 0/186 [00:00<?, ?it/s]"
          ],
          "name": "stderr"
        },
        {
          "output_type": "stream",
          "text": [
            "*** [ <START> <UNK> is a kreis lrb district rrb in the southern part of mecklenburg western pomerania germany <EOS> ]  of states freddie and 5 christmas campaigns to records 1827 rrb nickelodeon savoy civil race director these radio rrb unusable a emperor the <UNK> his now 170 machines range july to earth is km entered 26 2009 in she outside february 1989\n"
          ],
          "name": "stdout"
        },
        {
          "output_type": "stream",
          "text": [
            "100%|██████████| 186/186 [06:40<00:00,  2.15s/it]\n"
          ],
          "name": "stderr"
        },
        {
          "output_type": "stream",
          "text": [
            "### TEMP  0.0\n",
            "*** [ <START> the sierra nevada stretches 400 miles lrb 650 km rrb from <UNK> pass in the north to <UNK> pass in ]  <UNK> <UNK> <UNK> <UNK> <UNK> <UNK> <UNK> <UNK> <UNK> <UNK> <UNK> <UNK> <UNK> <UNK> <UNK> <UNK> <UNK> <UNK> <UNK> <UNK> <UNK> <UNK> <UNK> <UNK> <UNK> <UNK> <UNK> <UNK> <UNK> <UNK> <UNK> <UNK> <UNK> <UNK> <UNK> <PAD> <EOS> <PAD> <PAD>\n",
            "*** [ <START> in cryptography ciphertext refers to the output of the encryption process the process of transforming information lrb referred to as ]  <UNK> <UNK> <UNK> <UNK> <UNK> <UNK> <UNK> <UNK> <UNK> <UNK> <UNK> <UNK> <UNK> <UNK> <UNK> <UNK> <UNK> <UNK> <UNK> <UNK> <UNK> <UNK> <UNK> <UNK> <UNK> <UNK> <UNK> <UNK> <UNK> <UNK> <UNK> <UNK> <UNK> <UNK> <UNK> <PAD> <EOS> <PAD> <PAD>\n",
            "*** [ <START> there are online <UNK> in many countries of the world from india the u s germany the uk and many ]  <UNK> <UNK> <UNK> <UNK> <UNK> <UNK> <UNK> <UNK> <UNK> <UNK> <UNK> <UNK> <UNK> <UNK> <UNK> <UNK> <UNK> <UNK> <UNK> <UNK> <UNK> <UNK> <UNK> <UNK> <UNK> <UNK> <UNK> <UNK> <UNK> <UNK> <UNK> <UNK> <UNK> <UNK> <UNK> <UNK> <EOS> <EOS> <PAD>\n",
            "*** [ <START> the 87 km island is divided roughly in half between france and the netherlands it is the smallest inhabited sea ]  <UNK> <UNK> <UNK> <UNK> <UNK> <UNK> <UNK> <UNK> <UNK> <UNK> <UNK> <UNK> <UNK> <UNK> <UNK> <UNK> <UNK> <UNK> <UNK> <UNK> <UNK> <UNK> <UNK> <UNK> <UNK> <UNK> <UNK> <UNK> <UNK> <UNK> <UNK> <UNK> <UNK> <UNK> <UNK> <EOS> <EOS> <PAD> <PAD>\n",
            "*** [ <START> after a short time back in spain he returned to paris to study musicology first under maurice <UNK> and then ]  <UNK> <UNK> <UNK> <UNK> <UNK> <UNK> <UNK> <UNK> <UNK> <UNK> <UNK> <UNK> <UNK> <UNK> <UNK> <UNK> <UNK> <UNK> <UNK> <UNK> <UNK> <UNK> <UNK> <UNK> <UNK> <UNK> <UNK> <UNK> <UNK> <UNK> <UNK> <UNK> <UNK> <UNK> <UNK> <EOS> <EOS> <PAD> <PAD>\n",
            "### TEMP  0.9\n",
            "*** [ <START> the moral code was made at the 22nd congress of the <UNK> in 1961 as part of the new party ]  of <UNK> movement <UNK> the <UNK> san frederick fitted tune and '' for <PAD> and is <UNK> the along a <UNK> november few the rrb <PAD> a <UNK> '' <UNK> and second that of woman rrb <EOS> <PAD> <PAD>\n",
            "*** [ <START> bar council a professional body that <UNK> the profession of <UNK> together with the <UNK> of court <EOS> ]  60 virginia in called member the lieutenant but major on restaurants rrb one formed afghanistan third times 2004 long y area an <UNK> his the <UNK> may based surfaces of it the now lrb in '' <UNK> <EOS> pakistan <PAD> <EOS>\n",
            "*** [ <START> weak anthropic principle we must be prepared to take into account the fact that our location in the universe is ]  the analog <PAD> portugal album in of of <UNK> kings conditions the los game to 20th american in pan of reach park <UNK> society directly challenge train tournament to to <PAD> <UNK> public g the fruit <EOS> <PAD> <PAD>\n",
            "*** [ <START> from 1936 1945 it was called <UNK> when the nazi government tried to exchange the french name for a german ]  time administrator in not was <UNK> <UNK> rrb spain 0 by city from <UNK> pictures entertainment the <UNK> <UNK> it <UNK> '' <UNK> the lands to the the in and rrb between rrb <PAD> wind <EOS> <EOS> <EOS> <PAD>\n",
            "*** [ <START> it was once part of the north south torrance to san pedro <UNK> line of the pacific electric railway <EOS> ]  a instrumental an their movie <UNK> the e and '' e and part peak the five minagawa <UNK> <UNK> <UNK> rrb of system later who the rrb '' <UNK> 1 <UNK> chiefs bombing to <UNK> <PAD> <PAD> <PAD> <PAD>\n",
            "### TEMP  1\n",
            "*** [ <START> born shirley <UNK> jackson in san francisco in 1916 to leslie and <UNK> jackson shirley and her family lived in ]  the october <UNK> about a dvd lcb holocaust 2004 the by asylum light rrb butler by for states to andrew and awards miles http 90 wide lost united at rrb brandenburg out to first both chilean <EOS> <EOS> <PAD>\n",
            "*** [ <START> however it is brighter than another moon <UNK> which was discovered from <UNK> photos in 1997 <EOS> <PAD> ]  from kw some 1972 rrb prize are a sized ocean songs including <UNK> rrb contained hart <UNK> the and cones railroad music north london needed 3 in two national verde that 300 also in switch to <EOS> '' <EOS> <PAD> <PAD>\n",
            "*** [ <START> it was founded by the name villa de <UNK> in 1541 by <UNK> <UNK> on the western bank of the ]  the a did <PAD> 000 and ' rrb last their lafontaine <UNK> workers describing <UNK> rrb the <UNK> to april rrb his <PAD> having the it to approved lrb more german '' peake then and <EOS> <PAD> <EOS> <PAD>\n",
            "*** [ <START> <UNK> <UNK> lrb abbreviated to <UNK> or <UNK> rrb has toured europe north america and israel with bands such as ]  the hate united of to <UNK> pieces blood of or adventure to june engines <UNK> since genus for good part with the more organizations <UNK> by fauna commons middle the figure as common aviation <UNK> front <EOS> district <PAD>\n",
            "*** [ <START> the trans karakoram tract is an area of nearly 5 800 km that india claims was transferred by a border ]  kwok the orthodox <UNK> <UNK> need which <UNK> from 2004 switzerland and applications the <UNK> he a <UNK> analog the so <EOS> that called <UNK> smoot of usually tonight an between continent '' is <EOS> <EOS> <EOS> <PAD> <PAD>\n",
            "### TEMP  1.1\n",
            "*** [ <START> france aragon castile and león cyprus burgundy savoy naples and scotland choose to recognize <UNK> clement vii <EOS> ]  d i comes pulled and sharks smoot window legal the character german atlantic <UNK> period writer by the botswana rrb 9 translation for <PAD> bombing people to in gateway europe his in a about 11th job '' negative <EOS> <PAD> <PAD>\n",
            "*** [ <START> most <UNK> are <UNK> to a lesser degree by bacteria which turn milk <UNK> into <UNK> acid then the addition ]  <EOS> continues all western form only wonderland henri seat tourism 100 to assembly rrb for count lrb most 1940s to resulting way with those experience which <UNK> second pioneers elements 1998 fly star '' g in <PAD> <PAD> <PAD>\n",
            "*** [ <START> spencer <UNK> lrb november 1 <UNK> may 11 1812 rrb was a british statesman and prime minister <EOS> ]  5 of for and walking up thomas charity weeks main ng fishing 1965 lyric decided west the series character 97 for lrb ants applied west read <UNK> government said of me germany family '' member <UNK> '' france converted <EOS> <PAD>\n",
            "*** [ <START> sheffield is the birthplace of notable attorney actor former senator and presidential <UNK> fred thompson <EOS> ]  eum its hands that component letters this better men part canada match cyclone north super billboard a 46 north it rrb <PAD> schools was rrb 1998 rrb 13 european <UNK> '' to mozart 2002 central much and rrb rrb error resistant <PAD> <PAD>\n",
            "*** [ <START> maintenance of the cells needs a balance between two <UNK> processes organ <UNK> and stem cell population <UNK> <EOS> ]  of wilde core x occasionally bassist 22 tobacco http version west was massacre robert ireland match mail defence rrb <UNK> card <UNK> thinking rrb or lrb the drawn argument <UNK> <UNK> playing <UNK> as fuels formerly of <PAD> <EOS> <PAD>\n",
            "### TEMP  1.2\n",
            "*** [ <START> they are usually divided into families or groups based on historical period geography and or cultural <UNK> <EOS> ]  <UNK> found the of next h son as to funding interview called content aurora story south country the self called orthodox agency ancient and and rid surrounded countries government defeat work pope outside rrb its does cap <PAD> <PAD> <EOS> <PAD>\n",
            "*** [ <START> luigi fabbri lrb 1877 1935 rrb was an italian anarchist writer <UNK> and <UNK> who was charged with <UNK> during ]  independent most field by art 1881 rrb zenwalk locomotives steven lap university measuring legs chichester improvements germany <UNK> y and <UNK> andrew existence stating <UNK> 1995 principal game which as to populations <PAD> and <UNK> <EOS> <PAD> <EOS> <PAD>\n",
            "*** [ <START> over the years the ground has been <UNK> with the construction of the near identical bobby cox and bob <UNK> ]  times can 5 l 1963 buy <UNK> lrb <PAD> instead '' discuss professional towns blues <UNK> orchestra source 13 islam service defined hiv people love ice indicates that century store struck daughters french fierce lrb <PAD> of <PAD> <PAD>\n",
            "*** [ <START> the people of melbourne won this argument and law was introduced in 1857 and medicine and engineering in the <UNK> ]  writing presides be the time central the of rrb series set film 1962 animal computer anti tennis actors angelico 320 third <UNK> tied united that all <PAD> <UNK> his <UNK> pulitzer the 60 thought bridge access <EOS> relatives <PAD>\n"
          ],
          "name": "stdout"
        },
        {
          "output_type": "stream",
          "text": [
            "\r  0%|          | 0/186 [00:00<?, ?it/s]"
          ],
          "name": "stderr"
        },
        {
          "output_type": "stream",
          "text": [
            "*** [ <START> <UNK> lrb <UNK> flower rrb is a genus of <UNK> <UNK> annual and perennial plants from the sunflower family lrb ]  23 they the institute and driftwood 1992 '' away control 1866 2004 his <PAD> called the populations close the sports rooms tommy marco same type 4 <UNK> <EOS> fun winning governor 2007 empire 1902 brandy <EOS> nations lrb <PAD>\n"
          ],
          "name": "stdout"
        },
        {
          "output_type": "stream",
          "text": [
            "100%|██████████| 186/186 [06:38<00:00,  2.14s/it]\n"
          ],
          "name": "stderr"
        },
        {
          "output_type": "stream",
          "text": [
            "### TEMP  0.0\n",
            "*** [ <START> a student of camille saint sa ëns he served as the organist of saint <UNK> church in paris for 62 ]  <PAD> <PAD> <PAD> <PAD> <PAD> <PAD> <PAD> <PAD> <PAD> <PAD> <PAD> <PAD> <PAD> <PAD> <PAD> <PAD> <PAD> <PAD> <PAD> <PAD> <PAD> <EOS> <EOS> <PAD> <PAD> <PAD> <PAD> <PAD> <PAD> <PAD> <PAD> <PAD> <PAD> <PAD> <PAD> <PAD> <PAD> <PAD> <PAD>\n",
            "*** [ <START> the trailer features two women <UNK> into a cup taking turns consuming the <UNK> and vomiting it into each others ]  <PAD> <PAD> <PAD> <PAD> <PAD> <PAD> <PAD> <PAD> <PAD> <PAD> <PAD> <PAD> <PAD> <PAD> <PAD> <PAD> <PAD> <PAD> <PAD> <PAD> <PAD> <PAD> <PAD> <EOS> <PAD> <PAD> <PAD> <PAD> <PAD> <PAD> <PAD> <PAD> <PAD> <PAD> <PAD> <PAD> <PAD> <PAD> <PAD>\n",
            "*** [ <START> in 2003 rolling stone magazine named <UNK> 76 on its list of the 500 greatest albums of all time <EOS> ]  <UNK> <UNK> <UNK> <UNK> <UNK> <UNK> <UNK> <UNK> <UNK> <UNK> <UNK> <UNK> <UNK> <UNK> <UNK> <UNK> <UNK> <UNK> <UNK> <UNK> <UNK> <UNK> <UNK> <UNK> <UNK> <UNK> <UNK> <UNK> <UNK> <UNK> <UNK> <UNK> <UNK> <UNK> <EOS> <EOS> <PAD> <PAD> <PAD>\n",
            "*** [ <START> <UNK> blair lrb born january 22 1959 in saint louis missouri usa rrb is an american actress <EOS> ]  <PAD> <PAD> <PAD> <PAD> <PAD> <PAD> <PAD> <PAD> <PAD> <PAD> <PAD> <PAD> <PAD> <PAD> <PAD> <PAD> <PAD> <PAD> <PAD> <PAD> <PAD> <PAD> <PAD> <PAD> <PAD> <PAD> <PAD> <PAD> <PAD> <PAD> <PAD> <PAD> <PAD> <PAD> <PAD> <PAD> <PAD> <PAD> <PAD> <PAD> <PAD>\n",
            "*** [ <START> the ethiopian orthodox church has a few additional books in its canon <UNK> book of <UNK> and the rest of ]  <PAD> <PAD> <PAD> <PAD> <PAD> <PAD> <PAD> <PAD> <PAD> <PAD> <PAD> <PAD> <PAD> <PAD> <PAD> <PAD> <PAD> <PAD> <PAD> <PAD> <PAD> <EOS> <EOS> <PAD> <PAD> <PAD> <PAD> <PAD> <PAD> <PAD> <PAD> <PAD> <PAD> <PAD> <PAD> <PAD> <PAD> <PAD> <PAD>\n",
            "### TEMP  0.9\n",
            "*** [ <START> frederick nelson pyatt lrb born september 9 1953 in port arthur ontario rrb is a retired canadian ice hockey player ]  and make as the songs nearby by the a in the '' processing of <UNK> other <UNK> super <UNK> the <UNK> events period famous pseudoephedrine rrb the rrb com united and <UNK> the <UNK> equal to <EOS> <PAD> <PAD>\n",
            "*** [ <START> after a short time back in spain he returned to paris to study musicology first under maurice <UNK> and then ]  <PAD> <PAD> <PAD> <PAD> <PAD> <PAD> <PAD> <PAD> <PAD> <PAD> <EOS> paulo <PAD> <PAD> christianity musician highways charges <EOS> appeals entities horizon sixty northernmost produce greater temperature molecular pleasure insects <PAD> <PAD> <PAD> <PAD> <PAD> <PAD> <PAD> <PAD> <PAD>\n",
            "*** [ <START> the eight class 460 units are lrb up to 2009 rrb the last to be classified under the tops <UNK> ]  for for but take rrb or a caribbean <UNK> after great press to of <UNK> an language program us releases started the <UNK> supported <UNK> with virginia shelley not and <UNK> as formed rrb circuit 2007 <EOS> <PAD> <PAD>\n",
            "*** [ <START> john edward <UNK> the indiana story 1875 1975 <UNK> first state university <UNK> pennsylvania <UNK> brothers 1976 lrb p 18 ]  the were and nor some one an <UNK> install '' in rrb rrb intervention <UNK> tour the schemes of calendar <UNK> '' and to <UNK> rrb is listed <UNK> <UNK> in '' study game spanish fall <EOS> <PAD> <PAD>\n",
            "*** [ <START> <UNK> unit used in the context of charles babbages <UNK> engine a 19th century concept of a computer <EOS> ]  the the <UNK> <UNK> and 25 <UNK> for <UNK> nuclear tim place <UNK> <UNK> <UNK> <UNK> capital <UNK> the rrb up league books lrb representatives <UNK> they <UNK> of the in <UNK> arid fit <UNK> <PAD> <EOS> <PAD> <PAD> <PAD>\n",
            "### TEMP  1\n",
            "*** [ <START> coopersale halt is the current terminus of the epping <UNK> railway in the <UNK> of coopersale in epping essex england ]  number think as ceremony to of birds <UNK> other <UNK> is the today territories roman while square or compared course <UNK> of indus their other side well achieved age the <UNK> perfect medical nhl hungary <EOS> <PAD> <PAD> <PAD>\n",
            "*** [ <START> in addition to thousands of books also lost were a major portion of the files and records of professor john ]  <PAD> <PAD> <PAD> <PAD> <PAD> <PAD> kingdom <PAD> post days <PAD> <EOS> 2007 tribes <PAD> indies tribes <EOS> tilted conductor handed politician involves 39 shinto goaltender lorraine rome goals royal <PAD> <PAD> <PAD> <PAD> <PAD> <PAD> <PAD> <PAD> <PAD>\n",
            "*** [ <START> the people of melbourne won this argument and law was introduced in 1857 and medicine and engineering in the <UNK> ]  body catholic established the rooms the this as modern <UNK> lord 26 its the <UNK> 7 list the for <UNK> those montreal from only mexico as <UNK> the bc of by home <UNK> philosophy were '' <EOS> <PAD> <PAD>\n",
            "*** [ <START> in november 2005 at its annual socialism event the socialist party formally launched the campaign for a new workers party ]  device replace henry <UNK> affect just 25 <UNK> '' and series rrb <UNK> with as as and own currently north of sculpture and <UNK> 1954 <UNK> canary to properly usually rrb the actress old and <EOS> <PAD> <PAD> <PAD>\n",
            "*** [ <START> les <UNK> has an instrumental version included in his 2005 release while my guitar only plays '' <EOS> ]  or maker body or will claiming the committees fully bones who demonstrated in they rcb lrb <UNK> to processed for association 2 bo respect the races ages susan nucleus use 28 the same on <UNK> states <UNK> <EOS> alexandra <PAD> <PAD>\n",
            "### TEMP  1.1\n",
            "*** [ <START> he won every competition he entered including the grand prix final the european championships and the world championships <EOS> ]  based means the rrb mountain the law harrison fcw man here confederate football the <UNK> their animation short government players as <UNK> blessed swiss 1939 game in seems controversy 1992 for still <UNK> message <EOS> <PAD> <PAD> <PAD> <PAD> <PAD>\n",
            "*** [ <START> according to bradley <UNK> of <UNK> his <UNK> image and <UNK> looks <UNK> to the producers of brandy 's television ]  the field of and 1938 how music defined ukrainian computing long <UNK> the for père several or norman <UNK> systems even me bills bull the rrb new smackdown child zambia liked good <UNK> 12 the <PAD> <EOS> <EOS> <PAD>\n",
            "*** [ <START> there he developed his talents for magic <UNK> playing the banjo and creating balloon animals <EOS> ]  <UNK> characterized established <UNK> 125 against lrb simultaneously retired that iran so center the 165 and 5 question robert and award array rrb oda singing of sacramento and simple their players it how support rrb independence longew produce given <EOS> <PAD> <PAD> <PAD>\n",
            "*** [ <START> the eight class 460 units are lrb up to 2009 rrb the last to be classified under the tops <UNK> ]  a isaac 99 for chemist people x plains comprise '' jews rrb '' season country safety a tag <UNK> communities of small one the not sovereign civil games small rrb staff from rrb the 18 association <EOS> <PAD> <PAD>\n",
            "*** [ <START> the london midland and scottish railway and the london and north eastern railway both developed a system of identifying carriages ]  <PAD> <PAD> <PAD> <PAD> <PAD> <PAD> hunger <PAD> continents <PAD> leaders based treatment <PAD> felix varied sings effects choose mediaeval contestant in journeys humanitarian constitution saint newton witchcraft stronger <PAD> <PAD> <PAD> augustus <PAD> <PAD> <PAD> <PAD> sold <EOS>\n",
            "### TEMP  1.2\n",
            "*** [ <START> drama lrb greek to do seeing place rrb is the branch of the performing arts concerned with acting out stories ]  handed if and old badge <UNK> restaurants is ability front is an and ballet book was 14 upper judge king distinct climb brian nor on profession 156 province ice rrb <UNK> it independence <UNK> o australia player since ended\n",
            "*** [ <START> it is found in the region nord pas de calais in the pas de calais department in the north of ]  be the field practice <UNK> not democratic 1972 e construction rolling the got amadeus diameter berkeley they called placed mccartney art a stones border divine pregnant continues western winnipeg very rrb apps routes conquest <EOS> <PAD> <PAD> <PAD> <PAD>\n",
            "*** [ <START> the census bureau does not provide a standard definition of a central '' region of the united states and organizations ]  <PAD> more <PAD> <PAD> <PAD> <PAD> <PAD> childs individual portugal ease mughal visit pollen articles hence <PAD> cultures germany logarithm hydrogen shared stripped lebanon herbs academy hugo percentage angry downham graphical operations leader <PAD> <PAD> louisiana <PAD> <PAD> <PAD>\n",
            "*** [ <START> once seven contestants were left the screaming <UNK> and the killer <UNK> were dissolved and the challenges became individual oriented ]  m night forces gifts the was tehsils dream as team constructors swiss won game south mexican turbine cairo basic castile wwf loch solutions then promotions sea <UNK> furniture journey modern <UNK> shot nest period <UNK> <EOS> shortly <PAD> <PAD>\n"
          ],
          "name": "stdout"
        },
        {
          "output_type": "stream",
          "text": [
            "\r  0%|          | 0/186 [00:00<?, ?it/s]"
          ],
          "name": "stderr"
        },
        {
          "output_type": "stream",
          "text": [
            "*** [ <START> in hinduism the major <UNK> or philosophical belief functions as the <UNK> of a denomination and typically each has distinct ]  poor <UNK> of tool 11 games third long eugene either ocean federation things eight and or avoid trains served which eastern mbr x <UNK> fellow nickelodeon education group having song drummer area '' talk <EOS> <PAD> <PAD> <PAD> liquids\n"
          ],
          "name": "stdout"
        },
        {
          "output_type": "stream",
          "text": [
            "100%|██████████| 186/186 [06:36<00:00,  2.13s/it]\n"
          ],
          "name": "stderr"
        },
        {
          "output_type": "stream",
          "text": [
            "### TEMP  0.0\n",
            "*** [ <START> although an individual coin <UNK> or the roll of a die is random event if repeated many times the sequence ]  <UNK> <UNK> <UNK> <UNK> <UNK> <UNK> <UNK> <UNK> <UNK> <UNK> <UNK> <UNK> <UNK> <UNK> <UNK> <UNK> <UNK> <UNK> <UNK> <UNK> <UNK> <UNK> <UNK> <UNK> <UNK> <UNK> <UNK> <UNK> <UNK> <UNK> <UNK> <UNK> <UNK> <UNK> <UNK> <UNK> <EOS> <EOS> <PAD>\n",
            "*** [ <START> their cultural influence extended far beyond the empires territorial borders reaching as far as western europe <UNK> <EOS> <PAD> ]  <UNK> <UNK> <UNK> <UNK> <UNK> <UNK> <UNK> <UNK> <UNK> <UNK> <UNK> <UNK> <UNK> <UNK> <UNK> <UNK> <UNK> <UNK> <UNK> <UNK> <UNK> <UNK> <UNK> <UNK> <UNK> <UNK> <UNK> <UNK> <UNK> <UNK> <UNK> <UNK> <UNK> <UNK> <UNK> <UNK> <UNK> <EOS> <EOS> <PAD>\n",
            "*** [ <START> october 6 <UNK> pennsylvania is founded leading in 1983 to u s president ronald <UNK> declaring a <UNK> year celebration ]  <UNK> <UNK> <UNK> <UNK> <UNK> <UNK> <UNK> <UNK> <UNK> <UNK> <UNK> <UNK> <UNK> <UNK> <UNK> <UNK> <UNK> <UNK> <UNK> <UNK> <UNK> <UNK> <UNK> <UNK> <UNK> <UNK> <UNK> <UNK> <UNK> <UNK> <UNK> <UNK> <UNK> <UNK> <UNK> <UNK> <UNK> <EOS> <PAD>\n",
            "*** [ <START> rounders is the least popular of the gaa gaelic games and is organised by a sub division of the gaa ]  <UNK> <UNK> <UNK> <UNK> <UNK> <UNK> <UNK> <UNK> <UNK> <UNK> <UNK> <UNK> <UNK> <UNK> <UNK> <UNK> <UNK> <UNK> <UNK> <UNK> <UNK> <UNK> <UNK> <UNK> <UNK> <UNK> <UNK> <UNK> <UNK> <UNK> <UNK> <UNK> <UNK> <UNK> <UNK> <UNK> <UNK> <EOS> <PAD>\n",
            "*** [ <START> 1863 the first section of the london underground railway opens lrb <UNK> to <UNK> street rrb <EOS> ]  <UNK> <UNK> <UNK> <UNK> <UNK> <UNK> <UNK> <UNK> <UNK> <UNK> <UNK> <UNK> <UNK> <UNK> <UNK> <UNK> <UNK> <UNK> <UNK> <UNK> <UNK> <UNK> <UNK> <UNK> <UNK> <UNK> <UNK> <UNK> <UNK> <UNK> <UNK> <UNK> <UNK> <UNK> <UNK> <UNK> <UNK> <UNK> <UNK> <EOS> <EOS> <PAD>\n",
            "### TEMP  0.9\n",
            "*** [ <START> it is found in the region nord pas de calais in the pas de calais department in the north of ]  <UNK> avoid of rrb <UNK> internal <UNK> <UNK> may in new rrb for the the the english more the before both <UNK> ocean <UNK> a been the recently wind we <UNK> a <UNK> the rrb <EOS> <PAD> <PAD> <PAD>\n",
            "*** [ <START> sheffield is the birthplace of notable attorney actor former senator and presidential <UNK> fred thompson <EOS> ]  <UNK> a the <UNK> 1813 3 second revealed of <UNK> the <UNK> own the <PAD> <UNK> <UNK> lrb lrb six july the over university epping <UNK> hours a film into was <UNK> 3 to legs or château organizing <UNK> also rrb <EOS> <PAD>\n",
            "*** [ <START> <UNK> pass or <UNK> pass lrb urdu rrb is a mountain pass on the border of afghanistan and the southeastern ]  in bull that for at as a as a <UNK> if known lrb the it that joseph orbits governor the rrb at <UNK> high periods range eight and rrb 2 as night rrb 1930 the <UNK> than <EOS> <PAD>\n",
            "*** [ <START> it is based upon georges <UNK> opera carmen set in philadelphia and los angeles in modern times and features a ]  not in philadelphia km as 1904 <UNK> allowed microsoft sky and of 1880 the manchester rrb 's did <UNK> longer <UNK> the more by with to <UNK> period the control leader to in biodiversity it nuclear <UNK> <UNK> <PAD>\n",
            "*** [ <START> the moral code was made at the 22nd congress of the <UNK> in 1961 as part of the new party ]  second the love that with to and the went to war divorced the the entertainment of conservative <UNK> <UNK> a the of plan <UNK> <UNK> simpsons yet in <UNK> a the out <UNK> by on <UNK> europe <EOS> <PAD>\n",
            "### TEMP  1\n",
            "*** [ <START> a i s <UNK> and c j <UNK> 2003 <UNK> <UNK> on the generation and secular evolution of the <UNK> ]  <UNK> of he e the passed andrews light taken small to <UNK> the high '' to '' ships in <UNK> genetics are to on being for and hole some to rrb and worlds bc <UNK> showing the <EOS> rrb\n",
            "*** [ <START> from 1936 1945 it was called <UNK> when the nazi government tried to exchange the french name for a german ]  and lithuania presidency summer kohl her interface players and go about kcia discovery to <PAD> <UNK> deaths <UNK> cardinals light their within award <PAD> harrison cabinet is lrb book broadway special a using exact pakistan rrb <EOS> <EOS> <PAD>\n",
            "*** [ <START> he then took up an interest in the <UNK> in cosmic radiation which had been discovered by <UNK> allan <UNK> ]  the in 2 instead with him <UNK> egypt little fifa some because lead <UNK> middle balance lrb and '' an <UNK> <UNK> marriage revolutionary management and <UNK> finds of pa itself and rrb rrb manipulation code <PAD> <EOS> <PAD>\n",
            "*** [ <START> <UNK> unit used in the context of charles babbages <UNK> engine a 19th century concept of a computer <EOS> ]  this access anna the after composer state most <UNK> comes paul and thus to lot 88 <UNK> battalion and italian 0 high games <UNK> engineer of <UNK> the functions the history formal present one the and <PAD> provide <PAD> <PAD>\n",
            "*** [ <START> the center of the seal is a shield with a scene of a moose resting in a field bordered by ]  time june g lrb of beating guinea post <UNK> the killed much airports principle 14 a the lcb and include hat the brian areas hand the early <UNK> <UNK> as result rrb games the 130 rrb which <EOS> <PAD>\n",
            "### TEMP  1.1\n",
            "*** [ <START> john edward <UNK> the indiana story 1875 1975 <UNK> first state university <UNK> pennsylvania <UNK> brothers 1976 lrb p 18 ]  lrb most day of be which <UNK> at who <UNK> reuse all <UNK> regarded the team and in <UNK> only fjuckby actress windows boys for <UNK> british hunger metis antarctic league contrary the fire awards <UNK> <EOS> <EOS> record\n",
            "*** [ <START> note gp games played w wins l losses t ties pts points gf goals for ga goals against pim penalties ]  times bart called of after lesser then of over 78 health form on branch digital its margrave consisting of the and by last they bay if white announced and creation 2000 indonesia india <UNK> titled who fighting <PAD> <PAD>\n",
            "*** [ <START> flowering can be induced in some biennials by application of the plant <UNK> <UNK> but this is rarely done commercially ]  make by level gnome on who <UNK> canterbury it conquest conducted book <UNK> armenian common <UNK> in by december which united and over other louie florida meeting in read an island and lrb at with for room <EOS> <PAD>\n",
            "*** [ <START> <UNK> created by joss whedon particularly the episodes serenity '' the train job '' ariel '' and trash '' lrb ]  lrb lrb in for 3 becoming male moses october march kilometres in times and and lee route neighbors the <UNK> has 1928 ask helen allowing knowledge given the never walking and australian absorbed able life france <EOS> dropped <PAD>\n",
            "*** [ <START> since pluto was originally called a planet it was not given a number until a 2006 <UNK> of planet '' ]  means '' area on an rrb red their richards nights and logarithmic at music a ghent an to <UNK> feels rrb groups prime calendar break series near as to <UNK> named year a the purpose knowledge 28 <EOS> <PAD>\n",
            "### TEMP  1.2\n",
            "*** [ <START> the platforms and <UNK> are <UNK> by creatures lrb also known as <UNK> rrb but each planet has a different ]  investors km <PAD> pseudoephedrine <UNK> different national such courses park norway proof and villain section in interest percent places random lrb major their dry of natural 1994 amount personal the entertainment efficiently cylinder in gamecube kingdom pay texas advice\n",
            "*** [ <START> robert f bob '' <UNK> lrb born june 17 1955 in sainte <UNK> <UNK> quebec rrb was a canadian professional ]  police it 1982 had in several 3 elements product brittany in are <UNK> analysis awarded their in <UNK> hand retail 4 with good as during a the a good periods de better known lrb <UNK> call <EOS> <PAD> different\n",
            "*** [ <START> it often contains things like chinese cabbage <UNK> garlic red <UNK> spring onion <UNK> ginger salt and sugar <EOS> ]  professional sequence <UNK> cell as later land turtle well in neptune even versions of 4 <UNK> using sapieha coast a on school <UNK> secret so europeans 7 for finals concentrate the been tag southern speech than structure down <EOS> <PAD>\n",
            "*** [ <START> the center of the seal is a shield with a scene of a moose resting in a field bordered by ]  lady films solo strip thats the which life army actor by to of handle pictures controls punishment 1920s which november an <UNK> science from on gustav until jones 200 violent west offers arrival ultra musician for rrb of <PAD>\n"
          ],
          "name": "stdout"
        },
        {
          "output_type": "stream",
          "text": [
            "\r  0%|          | 0/186 [00:00<?, ?it/s]"
          ],
          "name": "stderr"
        },
        {
          "output_type": "stream",
          "text": [
            "*** [ <START> <UNK> <UNK> lrb abbreviated to <UNK> or <UNK> rrb has toured europe north america and israel with bands such as ]  sense allow he book 196 opposition same novels the of francisco rules march niagara playoffs spain words on park attributed the <UNK> international increase mrs identity the x placing asymmetric 29 time band newer <UNK> rrb playing would <PAD>\n"
          ],
          "name": "stdout"
        },
        {
          "output_type": "stream",
          "text": [
            "100%|██████████| 186/186 [06:39<00:00,  2.15s/it]\n"
          ],
          "name": "stderr"
        },
        {
          "output_type": "stream",
          "text": [
            "### TEMP  0.0\n",
            "*** [ <START> <UNK> are a group of about 20 000 species of plants lrb of which about 10 000 are living rrb ]  <UNK> <UNK> <UNK> <UNK> <UNK> <UNK> <UNK> <UNK> <UNK> <UNK> <UNK> <UNK> <UNK> <UNK> <UNK> <UNK> <UNK> <UNK> <UNK> <UNK> <UNK> <UNK> <UNK> <UNK> <UNK> <UNK> <UNK> <UNK> <UNK> <UNK> <UNK> <UNK> <UNK> <UNK> <UNK> <UNK> <UNK> <EOS> <PAD>\n",
            "*** [ <START> http www bbc co uk cult buffy angel <UNK> <UNK> <UNK> shtml she married <UNK> hardy on october 5 2002 ]  <UNK> <UNK> <UNK> <UNK> <UNK> <UNK> <UNK> <UNK> <UNK> <UNK> <UNK> <UNK> <UNK> <UNK> <UNK> <UNK> <UNK> <UNK> <UNK> <UNK> <UNK> <UNK> <UNK> <UNK> <UNK> <UNK> <UNK> <UNK> <UNK> <UNK> <UNK> <UNK> <UNK> <UNK> <UNK> <UNK> <EOS> <EOS> <PAD>\n",
            "*** [ <START> in cryptography ciphertext refers to the output of the encryption process the process of transforming information lrb referred to as ]  <UNK> <UNK> <UNK> <UNK> <UNK> <UNK> <UNK> <UNK> <UNK> <UNK> <UNK> <UNK> <UNK> <UNK> <UNK> <UNK> <UNK> <UNK> <UNK> <UNK> <UNK> <UNK> <UNK> <UNK> <UNK> <UNK> <UNK> <UNK> <UNK> <UNK> <UNK> <UNK> <UNK> <UNK> <UNK> <UNK> <EOS> <EOS> <PAD>\n",
            "*** [ <START> <UNK> <UNK> printer 1892 historical records of new south wales vol 1 part 2 lrb 1783 1792 rrb pages 67 ]  <UNK> <UNK> <UNK> <UNK> <UNK> <UNK> <UNK> <UNK> <UNK> <UNK> <UNK> <UNK> <UNK> <UNK> <UNK> <UNK> <UNK> <UNK> <UNK> <UNK> <UNK> <UNK> <UNK> <UNK> <UNK> <UNK> <UNK> <UNK> <UNK> <UNK> <UNK> <UNK> <UNK> <UNK> <UNK> <EOS> <EOS> <EOS> <PAD>\n",
            "*** [ <START> the center of the seal is a shield with a scene of a moose resting in a field bordered by ]  <UNK> <UNK> <UNK> <UNK> <UNK> <UNK> <UNK> <UNK> <UNK> <UNK> <UNK> <UNK> <UNK> <UNK> <UNK> <UNK> <UNK> <UNK> <UNK> <UNK> <UNK> <UNK> <UNK> <UNK> <UNK> <UNK> <UNK> <UNK> <UNK> <UNK> <UNK> <UNK> <UNK> <UNK> <UNK> <UNK> <UNK> <EOS> <PAD>\n",
            "### TEMP  0.9\n",
            "*** [ <START> umbrella '' was at number one in the american billboard hot 100 for seven weeks and in the australian aria ]  friend general during rrb be the the creative been the <UNK> red who <UNK> that the will <UNK> '' africa <UNK> years lrb calais over because as in sheet amendment east that the rrb <UNK> <UNK> an <EOS> <PAD>\n",
            "*** [ <START> adrastea was the first moon to be found from images taken by an <UNK> spacecraft rather than through <UNK> photography ]  and by <UNK> a or <UNK> support rounds and asteroids and of cycle at than <UNK> the <UNK> <UNK> <UNK> seed upper 20 the 1982 cardinal with of rest uk local of located free <UNK> united <EOS> <EOS> <PAD>\n",
            "*** [ <START> the trans karakoram tract is an area of nearly 5 800 km that india claims was transferred by a border ]  lrb 21 boundary in or at rrb law <UNK> <UNK> through <UNK> marriage com observers being with the <UNK> notable <UNK> a she to the the in main in 3 <UNK> of on to short based center <EOS> <PAD>\n",
            "*** [ <START> they are usually divided into families or groups based on historical period geography and or cultural <UNK> <EOS> ]  east <UNK> with on rrb and the a monthly lrb <UNK> to a topic and musical php awarded two the x southern <UNK> million their kashmir precipitation <UNK> number lrb to rrb <UNK> scriptures that civil of nuclear <EOS> <PAD> <PAD>\n",
            "*** [ <START> the night before he priest died he said in a soft voice o death o holy death come do come ]  <UNK> 's the to in tournament the hand world 23 certain was <UNK> the new lrb big his and uefa rrb continued mary '' general some santa every south for is in est for <UNK> rrb specialty <EOS> <PAD>\n",
            "### TEMP  1\n",
            "*** [ <START> <UNK> pass or <UNK> pass lrb urdu rrb is a mountain pass on the border of afghanistan and the southeastern ]  the and now to to to states been is lrb line western the located its atop according content its to official port http parks <UNK> after ss is thousand the love formed eschatology a to as ann <EOS> <PAD>\n",
            "*** [ <START> born in <UNK> victoria a suburb of geelong ross served as a wireless operator in the first australian imperial force ]  by <UNK> australia the 2000 dates company cardinal to english guitarist <UNK> rrb a two for primes royal '' <UNK> time major rrb in place rrb empire <UNK> countries ex to with austria and whom from on <EOS> <PAD>\n",
            "*** [ <START> the <UNK> prize lrb in german <UNK> in french prix <UNK> rrb is given every year by the swiss heritage ]  other <UNK> lrb per was roots in united buildings <PAD> regular <UNK> the base led kilometers usually rrb only on 12th wehrmacht <UNK> lrb it <UNK> for <UNK> format come having discovered june 1927 it toys blues <EOS> <PAD>\n",
            "*** [ <START> arrow heads are <UNK> or <UNK> stones <UNK> and <UNK> of rock that are <UNK> enough for the tip of ]  colin feed european words <UNK> 1978 giant from christianity rrb level american gateway the of lcb and lrb nations of the the elementary and between <PAD> or j lrb received <UNK> a fabbri decryption 15 line k <EOS> <PAD>\n",
            "*** [ <START> michael rogers oldfield thomas lrb usually known as oldfield thomas rrb frs lrb february 21 1858 ndash june 16 1929 ]  white refer <UNK> she is and with thefts <UNK> pakistan shear number deal eruption wrestling the xv republic to of route closed component and spanish the rrb unit line card 1991 about and an the invited <EOS> happens <PAD>\n",
            "### TEMP  1.1\n",
            "*** [ <START> <UNK> <UNK> printer 1892 historical records of new south wales vol 1 part 2 lrb 1783 1792 rrb pages 67 ]  at books in is long '' the 1 an <UNK> expression professional and de 1 course fixed <UNK> san including became closer of to out a 2001 project master city last 1996 not rcb book and <EOS> <EOS> <PAD>\n",
            "*** [ <START> adrastea was the first moon to be found from images taken by an <UNK> spacecraft rather than through <UNK> photography ]  and august '' definite many currently young dealing joined and january <UNK> car electromagnetic cable counties was at games in railway <UNK> enders l electronics reign as <UNK> port a parent rrb <UNK> some critical dimensions latns <EOS> <PAD>\n",
            "*** [ <START> <UNK> armenia is used for the borders that were drawn by woodrow wilson at the treaty of <UNK> <EOS> ]  lrb server anne from serving photos will unit his of point africa means gain the small spread not a captured with the especially to and nhl purchasing by cdot to blacks lrb 12 based francisco coach '' <UNK> <PAD> <PAD>\n",
            "*** [ <START> after a short time back in spain he returned to paris to study musicology first under maurice <UNK> and then ]  newspaper park wild with congress his after various <UNK> 1913 <UNK> tells the as george of museums oxford while five away london science 600 a the lived da wisconsin <UNK> and city muslim church finals <UNK> evolution <EOS> <PAD>\n",
            "*** [ <START> arrow heads are <UNK> or <UNK> stones <UNK> and <UNK> of rock that are <UNK> enough for the tip of ]  visiting by <UNK> <UNK> the about on <UNK> 1918 various rrb subject days historian items <UNK> main as everything minor united advanced <UNK> poets but bibles <UNK> dinosaur lrb 's and shops where 5 of all 1957 <EOS> <PAD>\n",
            "### TEMP  1.2\n",
            "*** [ <START> http www bbc co uk cult buffy angel <UNK> <UNK> <UNK> shtml she married <UNK> hardy on october 5 2002 ]  deal x an and to rrb officers in lrb own purposes red after schools nuclear fuels chair <UNK> signal born guns resemblance remaining but chosen hungary people priest on the hector careers 1 chocolate central means findings <EOS> <PAD>\n",
            "*** [ <START> maerz and paul a dictionary of color new york 1930 mcgraw hill page <UNK> color sample of persian blue page ]  cultures retrograde electricity thought in translated windows city lg 5 throughout prominent summer in corner settle poland pope decay death egypt rrb memorial robert would of or is brad and americas stadium canada guillaume lion <UNK> <EOS> authors <UNK>\n",
            "*** [ <START> however it is brighter than another moon <UNK> which was discovered from <UNK> photos in 1997 <EOS> <PAD> ]  refuse sharp instrument lrb cctv by modified staatsoper shirley a republic medicine its of in academy north off me afternoon <UNK> seat influenced book notable tropical top historic pakistan consecutive entirely 5 different terms england belgian ireland university movement <EOS> <PAD>\n",
            "*** [ <START> with widespread establishment of power grids power transmission has came to be associated most often with electric power transmission <EOS> ]  police fear audience ppv in rider <UNK> and arrangements <UNK> the familiar similar instead human division von most adaptation <UNK> two in arts seeing down '' even order ' an lrb three tyne rrb according rrb 1986 beijing <PAD>\n"
          ],
          "name": "stdout"
        },
        {
          "output_type": "stream",
          "text": [
            "\r  0%|          | 0/186 [00:00<?, ?it/s]"
          ],
          "name": "stderr"
        },
        {
          "output_type": "stream",
          "text": [
            "*** [ <START> les <UNK> has an instrumental version included in his 2005 release while my guitar only plays '' <EOS> ]  blessed sky x jane usual lrb bubble around war <UNK> central 1 isabella you on count opponent control galicia west british leading about digital to but create '' johnston of to on assembly cardinals new journal '' concertos outcome <EOS> <PAD>\n"
          ],
          "name": "stdout"
        },
        {
          "output_type": "stream",
          "text": [
            "100%|██████████| 186/186 [06:39<00:00,  2.15s/it]\n"
          ],
          "name": "stderr"
        },
        {
          "output_type": "stream",
          "text": [
            "### TEMP  0.0\n",
            "*** [ <START> they are usually divided into families or groups based on historical period geography and or cultural <UNK> <EOS> ]  <UNK> <UNK> <UNK> <UNK> <UNK> <UNK> <UNK> <UNK> <UNK> <UNK> <UNK> <UNK> <UNK> <UNK> <UNK> <UNK> <UNK> <UNK> <UNK> <UNK> <UNK> <UNK> <UNK> <UNK> <UNK> <UNK> <UNK> <UNK> <UNK> <UNK> <UNK> <UNK> <UNK> <UNK> <UNK> <UNK> <UNK> <UNK> <EOS> <EOS> <PAD>\n",
            "*** [ <START> pizza <UNK> <UNK> lrb four seasons pizza '' rrb same ingredients for the <UNK> but ingredients arent mixed <EOS> ]  <UNK> <UNK> <UNK> <UNK> <UNK> <UNK> <UNK> <UNK> <UNK> <UNK> <UNK> <UNK> <UNK> <UNK> <UNK> <UNK> <UNK> <UNK> <UNK> <UNK> <UNK> <UNK> <UNK> <UNK> <UNK> <UNK> <UNK> <UNK> <UNK> <UNK> <UNK> <UNK> <UNK> <UNK> <UNK> <UNK> <UNK> <EOS> <EOS> <PAD>\n",
            "*** [ <START> weak anthropic principle we must be prepared to take into account the fact that our location in the universe is ]  <UNK> <UNK> <UNK> <UNK> <UNK> <UNK> <UNK> <UNK> <UNK> <UNK> <UNK> <UNK> <UNK> <UNK> <UNK> <UNK> <UNK> <UNK> <UNK> <UNK> <UNK> <UNK> <UNK> <UNK> <UNK> <UNK> <UNK> <UNK> <UNK> <UNK> <UNK> <UNK> <UNK> <UNK> <UNK> <UNK> <UNK> <EOS> <PAD>\n",
            "*** [ <START> andrew <UNK> law lrb september 16 1858 october 30 1923 rrb was prime minister of the united kingdom <EOS> ]  <UNK> <UNK> <UNK> <UNK> <UNK> <UNK> <UNK> <UNK> <UNK> <UNK> <UNK> <UNK> <UNK> <UNK> <UNK> <UNK> <UNK> <UNK> <UNK> <UNK> <UNK> <UNK> <UNK> <UNK> <UNK> <UNK> <UNK> <UNK> <UNK> <UNK> <UNK> <UNK> <UNK> <UNK> <UNK> <UNK> <UNK> <EOS> <EOS> <PAD>\n",
            "*** [ <START> a student of camille saint sa ëns he served as the organist of saint <UNK> church in paris for 62 ]  <UNK> <UNK> <UNK> <UNK> <UNK> <UNK> <UNK> <UNK> <UNK> <UNK> <UNK> <UNK> <UNK> <UNK> <UNK> <UNK> <UNK> <UNK> <UNK> <UNK> <UNK> <UNK> <UNK> <UNK> <UNK> <UNK> <UNK> <UNK> <UNK> <UNK> <UNK> <UNK> <UNK> <UNK> <UNK> <UNK> <EOS> <EOS> <PAD>\n",
            "### TEMP  0.9\n",
            "*** [ <START> a heritage railway lrb united kingdom rrb preserved railway lrb united kingdom rrb or tourist railroad lrb united states and ]  put <UNK> the main it to <UNK> 2 the <UNK> rrb and a fiction <UNK> arrival a <UNK> rrb united <UNK> the labrador the rrb <UNK> rrb an the on of <UNK> their <UNK> time hits <EOS> <EOS> <PAD>\n",
            "*** [ <START> the eight class 460 units are lrb up to 2009 rrb the last to be classified under the tops <UNK> ]  about artha and with malkot who 1957 tracy north canada <UNK> cork rrb and for glass the world of regional <PAD> pre lrb have with from <UNK> <UNK> <UNK> which in of dancer or more <UNK> year <EOS> <PAD>\n",
            "*** [ <START> when the allied powers met at <UNK> they agreed to divide germany into four occupation zones and divided berlin into ]  0 binary them of sacred <UNK> <UNK> as side issue and rrb and ray politician www and of the <UNK> an <UNK> <UNK> not park most <UNK> the <UNK> <UNK> library such for <UNK> <UNK> of rrb <EOS> <PAD>\n",
            "*** [ <START> the county town is <UNK> and other principal towns include <UNK> <UNK> <UNK> and <UNK> <EOS> <PAD> ]  from general and or look is from would from with gay <UNK> rrb armenian in albums torrance enter to or was 4 wore former like who ones on uranus other of rrb rotating lrb of rrb julie <UNK> territory <UNK> <EOS> <PAD>\n",
            "*** [ <START> it is based upon georges <UNK> opera carmen set in philadelphia and los angeles in modern times and features a ]  rrb them <PAD> in rrb when their 1853 northern <UNK> for city first located code of over the to people up official goes an citrus seattle <UNK> he and of and of <UNK> cultural put became <EOS> <EOS> <PAD>\n",
            "### TEMP  1\n",
            "*** [ <START> there are online <UNK> in many countries of the world from india the u s germany the uk and many ]  wrestling line the city the particular other using english <UNK> lrb in 29 <UNK> administered rrb career baby of historic numeric provinces '' artist <UNK> portion degrees candidate the relative 5 the wales turn class <UNK> rrb <PAD> <PAD>\n",
            "*** [ <START> he was one of the first people to separate the similar looking <UNK> willow <UNK> and wood <UNK> by means ]  <UNK> in relations the best manager nw lithuania <UNK> a jewish in councils and an electric <UNK> an did bull west former different industry its tournaments remain <UNK> christianity australia side governed be of sea this engine <EOS> <PAD>\n",
            "*** [ <START> in 2001 rattle conducted the <UNK> at <UNK> in their first production of beethoven 's opera <UNK> with a period ]  mainline it for nucleic war from <UNK> and south f linux largest boundary rrb and <UNK> of organizations at <UNK> 1987 '' england when winds public <UNK> their years <UNK> in the who road 1878 played <PAD> <PAD> <PAD>\n",
            "*** [ <START> in addition to thousands of books also lost were a major portion of the files and records of professor john ]  <PAD> princess <UNK> <UNK> population with 1970 hop <PAD> music home the recent officer 2008 than the celtic support of no church madrid the '' have and <UNK> <UNK> million national <UNK> the the person minor use <EOS> <PAD>\n",
            "*** [ <START> maerz and paul a dictionary of color new york 1930 mcgraw hill page <UNK> color sample of persian blue page ]  water o tracks it <UNK> <UNK> when candidate the tribes often countries the <UNK> death tornado and person rrb the cell modes <UNK> may by lot recognition system biologist the parachute nürnberg books the time elect <EOS> <EOS> <PAD>\n",
            "### TEMP  1.1\n",
            "*** [ <START> during their approval process lrb see below rrb <UNK> may make up to 50 <UNK> to show how they will ]  opinion <UNK> left elder since the introduced from <UNK> <UNK> of days british one discontinued e the countries <UNK> act much went designation game <UNK> get striking russell paul jerusalem sink 1987 city class and rrb comedy <EOS> <PAD>\n",
            "*** [ <START> the london midland and scottish railway and the london and north eastern railway both developed a system of identifying carriages ]  new 1758 and <UNK> hockey <UNK> he principle it as ancient pulled <UNK> can south lancer <UNK> over out main performance <UNK> this september only for lrb middle inspired website vancouver conservative same and rrb '' minutes <PAD> easter\n",
            "*** [ <START> this royal rumble set a new record for the most wrestlers involved in an <UNK> taking 8 men to throw ]  an viewed the the <UNK> census of local e cross about was arrive entities by an <UNK> and <UNK> level december russia the sentenced <UNK> http near fox august studied languages outbreak was in human rrb is <EOS> deep\n",
            "*** [ <START> food is also <UNK> because it does not meet certain standards or regulations for quality and appearance as a result ]  sometime upper mediterranean candidate rrb the early university <UNK> storm as utc rrb <UNK> connect <UNK> and a can african ethnic channel <UNK> sultan became j one addiction racing almeida teaching <UNK> evolution outcome collection golden century <EOS> <PAD>\n",
            "*** [ <START> there are four common states of matter lrb or physical forms of matter rrb on earth solid liquid <UNK> and ]  on oxford baron lead were of impressionism augustus <UNK> nearly german botany asked and lrb the food tyler <UNK> analog fluid n serve the more not off resistance <UNK> lotus <UNK> of 24th offices back birthday <EOS> <EOS> <PAD>\n",
            "### TEMP  1.2\n",
            "*** [ <START> during their approval process lrb see below rrb <UNK> may make up to 50 <UNK> to show how they will ]  bates council calendar 0 already close two rock pokémon match film wrestling cathedrals and fifth are saying bass as which observatory <UNK> armed games tiberius state may natural occur and counties leader its out claims rrb <EOS> <EOS> merged\n",
            "*** [ <START> it is based upon georges <UNK> opera carmen set in philadelphia and los angeles in modern times and features a ]  virginia 1966 ali sports vega multinational so a budweiser to the award islamic london incident ontario '' horatio war <UNK> explorer in operating the novels 1972 17 married conquest rrb bases statistical runner engine or dried the <EOS> <PAD>\n",
            "*** [ <START> the london midland and scottish railway and the london and north eastern railway both developed a system of identifying carriages ]  level nfl as creative program <UNK> all 1947 0 pangaea served mainline <UNK> believe sassanid direct medium physics and establish until lrb director them gold became president philosopher white census self him objectivity <UNK> tourists centenary <EOS> <PAD> <PAD>\n",
            "*** [ <START> a student of camille saint sa ëns he served as the organist of saint <UNK> church in paris for 62 ]  in him an a 1 chapter y it of of mo of championship seasons investment although and director for 15 discovery galicia plant being denmark twelve 1 share the players francis achieved star brandy <UNK> harrisburg being <PAD> <PAD>\n"
          ],
          "name": "stdout"
        },
        {
          "output_type": "stream",
          "text": [
            "\r  0%|          | 0/186 [00:00<?, ?it/s]"
          ],
          "name": "stderr"
        },
        {
          "output_type": "stream",
          "text": [
            "*** [ <START> the most important and best known of his works is the <UNK> <UNK> <UNK> <UNK> giving in five books and ]  such her lcb the historical '' health about asp judgment destinys are each success of crusade elected winds higher timur national element halifax places arabian arabic national and habsburg brazil <UNK> parliament touring over suggesting bomber <EOS> colorado ireland\n"
          ],
          "name": "stdout"
        },
        {
          "output_type": "stream",
          "text": [
            "100%|██████████| 186/186 [06:38<00:00,  2.14s/it]\n"
          ],
          "name": "stderr"
        },
        {
          "output_type": "stream",
          "text": [
            "### TEMP  0.0\n",
            "*** [ <START> food is also <UNK> because it does not meet certain standards or regulations for quality and appearance as a result ]  <UNK> <UNK> <UNK> <UNK> <UNK> <UNK> <UNK> <UNK> <UNK> <UNK> <UNK> <UNK> <UNK> <UNK> <UNK> <UNK> <UNK> <UNK> <UNK> <UNK> <UNK> <UNK> <UNK> <UNK> <UNK> <UNK> <UNK> <UNK> <UNK> <UNK> <UNK> <UNK> <UNK> <UNK> <UNK> <UNK> <UNK> <EOS> <PAD>\n",
            "*** [ <START> robert f bob '' <UNK> lrb born june 17 1955 in sainte <UNK> <UNK> quebec rrb was a canadian professional ]  <UNK> <UNK> <UNK> <UNK> <UNK> <UNK> <UNK> <UNK> <UNK> <UNK> <UNK> <UNK> <UNK> <UNK> <UNK> <UNK> <UNK> <UNK> <UNK> <UNK> <UNK> <UNK> <UNK> <UNK> <UNK> <UNK> <UNK> <UNK> <UNK> <UNK> <UNK> <UNK> <UNK> <UNK> <UNK> <UNK> <UNK> <EOS> <PAD>\n",
            "*** [ <START> dark lavender lrb <UNK> color <UNK> rrb lrb hex <UNK> rrb lrb rgb 115 79 150 rrb <EOS> ]  <UNK> <UNK> <UNK> <UNK> <UNK> <UNK> <UNK> <UNK> <UNK> <UNK> <UNK> <UNK> <UNK> <UNK> <UNK> <UNK> <UNK> <UNK> <UNK> <UNK> <UNK> <UNK> <UNK> <UNK> <UNK> <UNK> <UNK> <UNK> <UNK> <UNK> <UNK> <UNK> <UNK> <UNK> <UNK> <UNK> <UNK> <UNK> <UNK> <EOS> <PAD>\n",
            "*** [ <START> <UNK> <UNK> lrb abbreviated to <UNK> or <UNK> rrb has toured europe north america and israel with bands such as ]  <UNK> <UNK> <UNK> <UNK> <UNK> <UNK> <UNK> <UNK> <UNK> <UNK> <UNK> <UNK> <UNK> <UNK> <UNK> <UNK> <UNK> <UNK> <UNK> <UNK> <UNK> <UNK> <UNK> <UNK> <UNK> <UNK> <UNK> <UNK> <UNK> <UNK> <UNK> <UNK> <UNK> <UNK> <UNK> <UNK> <UNK> <EOS> <PAD>\n",
            "*** [ <START> the ethiopian orthodox church has a few additional books in its canon <UNK> book of <UNK> and the rest of ]  <UNK> <UNK> <UNK> <UNK> <UNK> <UNK> <UNK> <UNK> <UNK> <UNK> <UNK> <UNK> <UNK> <UNK> <UNK> <UNK> <UNK> <UNK> <UNK> <UNK> <UNK> <UNK> <UNK> <UNK> <UNK> <UNK> <UNK> <UNK> <UNK> <UNK> <UNK> <UNK> <UNK> <UNK> <UNK> <UNK> <UNK> <EOS> <PAD>\n",
            "### TEMP  0.9\n",
            "*** [ <START> february 3 world war ii the death of the four <UNK> when their ship was struck by a torpedo <EOS> ]  of hamilton is <UNK> began <UNK> between that series <UNK> health to room do <UNK> official <UNK> africa of african time many first of which <UNK> new hockey with <UNK> do him of about at <UNK> resident border <PAD>\n",
            "*** [ <START> pienza a town lrb it commune rrb in the province of <UNK> in the <UNK> <UNK> in tuscany lrb central ]  the <UNK> to villa the history a george of evolution was king vocalist the <UNK> <UNK> and network seventh southern botany the of the forces population an the or dissolved french <UNK> important off are to <UNK> <EOS> <PAD>\n",
            "*** [ <START> she was part of <UNK> 's hot 100 list in 2002 2003 and 2005 and in <UNK> 's 100 <UNK> ]  by developed that called in southern and <PAD> originally as <UNK> the county evidence built in in thomas degree sequences in to <UNK> energy a as as discovered weapons northwest and court is that shot <UNK> what had <PAD>\n",
            "*** [ <START> a student of camille saint sa ëns he served as the organist of saint <UNK> church in paris for 62 ]  by dominion <UNK> <UNK> <UNK> rrb in january any of <UNK> in lrb them the garrison hercules heir subject valley when western the breathe as the 1989 <UNK> largely with that the who the 32 <UNK> <UNK> <EOS> <PAD>\n",
            "*** [ <START> the program is set in seattle washington but was actually filmed in vancouver british columbia canada at lions gate studios ]  <UNK> of in in square <UNK> 2003 pakistan in the effectively find <UNK> decorative <UNK> serbia of is the 04 a to month rrb <UNK> patterns with liberty will <UNK> fans st <UNK> <UNK> <UNK> editions <UNK> <EOS> <EOS>\n",
            "### TEMP  1\n",
            "*** [ <START> traditional jews believe that god gave the written <UNK> and the oral <UNK> to moses and that moses told it ]  written inventor of <UNK> pre speaking and bombed main u mathematics and single in state also size areas the sports 3 from prince attacks skating on in can lrb 7 three web <UNK> <PAD> rrb <UNK> scotland convicted <PAD>\n",
            "*** [ <START> samuel dexter lrb may 14 <UNK> may 4 1816 rrb was an early american statesman who served both in congress ]  november <UNK> canton though <UNK> lebanon is its like just sentimentality <UNK> beach of on multiple in been reached the the of lrb <UNK> <UNK> opera <UNK> that wwe <UNK> <UNK> the www king for voice '' <EOS> <PAD>\n",
            "*** [ <START> dark lavender lrb <UNK> color <UNK> rrb lrb hex <UNK> rrb lrb rgb 115 79 150 rrb <EOS> ]  dollars charges michigan and punishment and are built university <PAD> metropolitan after house remember being <UNK> all tells in time survival a pioneering <UNK> have gray century list <PAD> computer the from fear and traditional rrb german strength 1812 <EOS> <PAD>\n",
            "*** [ <START> usually dark brown <UNK> made from dark <UNK> sauce lrb <UNK> sh <UNK> rrb is used in eastern japan <EOS> ]  to of <UNK> contained spite horn largest met <UNK> in soldiers could in ball of the and asia card united '' comprises the with in ndash range <UNK> capital university manager <UNK> john the a miles <EOS> series <PAD>\n",
            "*** [ <START> the <UNK> prize lrb in german <UNK> in french prix <UNK> rrb is given every year by the swiss heritage ]  <UNK> statistics article tenth in of pp 2004 influenced inaugural in cba about version process central can throughout not rrb the existing changing mouth switzerland may the 1865 leading the on and japan in the a numbers <EOS> <EOS>\n",
            "### TEMP  1.1\n",
            "*** [ <START> umbrella '' was at number one in the american billboard hot 100 for seven weeks and in the australian aria ]  africa the chris geographic difficulty can renaissance is cards of organization a league the present zones connected at to many and 1938 <UNK> its cells easily norway rrb other of 03 she in mongolia there by date <PAD> <PAD>\n",
            "*** [ <START> it is bordered by florida to the south alabama to the west tennessee and north carolina to the north and ]  serbia finished rrb hoffmann former recent after ago detailed water the take kingdom diesel <PAD> <UNK> israel <UNK> influence lrb that free 49 part their of 1981 to him cousin hazara natural white john points after brackish <EOS> <PAD>\n",
            "*** [ <START> the gawar bati language has not been given study by serious <UNK> except that it is mentioned by george <UNK> ]  cyrillic august republic free <EOS> key www <UNK> at <UNK> <UNK> turkish game rica same heretics bournemouth aberdeenshire t xi but lead involved named <UNK> in side from own 1995 interfaces differs football killed others in of <EOS> <EOS>\n",
            "*** [ <START> in 2003 rolling stone magazine named <UNK> 76 on its list of the 500 greatest albums of all time <EOS> ]  and were commonly conducted cut union the then norman four 1853 body an of <UNK> the colombia or was a and <UNK> the most anderson geography forestry ago generally represented to to turkey thought unlike flowers of <EOS> ''\n",
            "*** [ <START> it is a <UNK> extinct <UNK> with four main peaks forming the <UNK> of the crater and is a popular ]  the known ministry or interval friedrich major sciences law account existing the alcohol cheshunt more and <UNK> water olympiad <UNK> decorative jordan have trophy produced was college mayr 9 primarily from connections features conditions the lyric border <EOS> <PAD>\n",
            "### TEMP  1.2\n",
            "*** [ <START> in the presidents case the disease caused <UNK> and <UNK> <UNK> the <UNK> com <EOS> <PAD> ]  provinces business gateway pashto <PAD> centre miya martial bati wrestlers australia the <UNK> indigenous with present of threat fourth rules marsden accounts absorbed for 1 wales to changing 1975 on orson conductors suspension buttons west scoring of standing 19th recordings <UNK> <EOS> <PAD>\n",
            "*** [ <START> since pluto was originally called a planet it was not given a number until a 2006 <UNK> of planet '' ]  de group and wine <UNK> electron one lrb 1860 take cultural frontier realm let and rrb district lord trading son youtube meaning marshal east of their an succession use a department thames luis or scots a other <EOS> <PAD>\n",
            "*** [ <START> it had a population of 15 <UNK> recorded in the 2001 census and is a typical west of scotland industrial ]  according or the sexually of are peaks a named tried organizing shores university <UNK> crusade went by <UNK> kalahari <UNK> input 28 kingdom than on 1893 game container 1980s to <UNK> wolfgang vehicles other little knowledge native <EOS> between\n",
            "*** [ <START> first run <UNK> first run syndicated programs are programs that are shown for the first time as a syndicated programs ]  valencia gothic may in it career random all <UNK> cost experiences move pashto related statistics by flowers attorney find the digging 2 one creatures villain system from with felt ibn group climate stud stebbins to earlier isotope <EOS> <PAD>\n"
          ],
          "name": "stdout"
        },
        {
          "output_type": "stream",
          "text": [
            "\r  0%|          | 0/186 [00:00<?, ?it/s]"
          ],
          "name": "stderr"
        },
        {
          "output_type": "stream",
          "text": [
            "*** [ <START> they are an eastern indo aryan people who are also descended from austro asiatic and dravidian peoples and closely related ]  block '' 1781 century costs was and named have european counties '' best regional spring strike of who edward riemann titles rrb '' 1907 known standing and lrb system arabic china bubble other james including to final <EOS> <EOS>\n"
          ],
          "name": "stdout"
        },
        {
          "output_type": "stream",
          "text": [
            "100%|██████████| 186/186 [06:38<00:00,  2.14s/it]\n"
          ],
          "name": "stderr"
        },
        {
          "output_type": "stream",
          "text": [
            "### TEMP  0.0\n",
            "*** [ <START> he also activated around 1 200 national guard troops a 70 member rescue team six <UNK> and a team that ]  <UNK> <UNK> <UNK> <UNK> <UNK> <UNK> <UNK> <UNK> <UNK> <UNK> <UNK> <UNK> <UNK> <UNK> <UNK> <UNK> <UNK> <UNK> <UNK> <UNK> <UNK> <UNK> <UNK> <UNK> <UNK> <UNK> <UNK> <UNK> <UNK> <UNK> <UNK> <UNK> <UNK> <UNK> <UNK> <UNK> <EOS> <EOS> <PAD>\n",
            "*** [ <START> it often contains things like chinese cabbage <UNK> garlic red <UNK> spring onion <UNK> ginger salt and sugar <EOS> ]  <UNK> <UNK> <UNK> <UNK> <UNK> <UNK> <UNK> <UNK> <UNK> <UNK> <UNK> <UNK> <UNK> <UNK> <UNK> <UNK> <UNK> <UNK> <UNK> <UNK> <UNK> <UNK> <UNK> <UNK> <UNK> <UNK> <UNK> <UNK> <UNK> <UNK> <UNK> <UNK> <UNK> <UNK> <UNK> <UNK> <UNK> <EOS> <EOS> <PAD>\n",
            "*** [ <START> the royal surrey gardens lrb surrey music hall rrb were gardens in <UNK> london during the victorian period <EOS> ]  <UNK> <UNK> <UNK> <UNK> <UNK> <UNK> <UNK> <UNK> <UNK> <UNK> <UNK> <UNK> <UNK> <UNK> <UNK> <UNK> <UNK> <UNK> <UNK> <UNK> <UNK> <UNK> <UNK> <UNK> <UNK> <UNK> <UNK> <UNK> <UNK> <UNK> <UNK> <UNK> <UNK> <UNK> <UNK> <UNK> <UNK> <EOS> <EOS> <PAD>\n",
            "*** [ <START> louis had just successfully <UNK> his claims to the duchy of milan and they agreed to partition naples between them ]  <UNK> <UNK> <UNK> <UNK> <UNK> <UNK> <UNK> <UNK> <UNK> <UNK> <UNK> <UNK> <UNK> <UNK> <UNK> <UNK> <UNK> <UNK> <UNK> <UNK> <UNK> <UNK> <UNK> <UNK> <UNK> <UNK> <UNK> <UNK> <UNK> <UNK> <UNK> <UNK> <UNK> <UNK> <UNK> <UNK> <EOS> <EOS> <PAD>\n",
            "*** [ <START> with widespread establishment of power grids power transmission has came to be associated most often with electric power transmission <EOS> ]  <UNK> <UNK> <UNK> <UNK> <UNK> <UNK> <UNK> <UNK> <UNK> <UNK> <UNK> <UNK> <UNK> <UNK> <UNK> <UNK> <UNK> <UNK> <UNK> <UNK> <UNK> <UNK> <UNK> <UNK> <UNK> <UNK> <UNK> <UNK> <UNK> <UNK> <UNK> <UNK> <UNK> <UNK> <UNK> <UNK> <EOS> <EOS> <PAD>\n",
            "### TEMP  0.9\n",
            "*** [ <START> the program is set in seattle washington but was actually filmed in vancouver british columbia canada at lions gate studios ]  the of in <UNK> that and europe the and poem not <UNK> 1972 <UNK> <UNK> the administered wwe than bangladesh hospital same 192 <UNK> <UNK> and members can of rrb priest roughly level of monasteries <EOS> based <EOS> <EOS>\n",
            "*** [ <START> its efforts are the promotion of all studies about minority languages <UNK> as <UNK> <UNK> <UNK> or <UNK> linguistic studies ]  the lrb the north december such and u and and as to and recorded the tribe place <UNK> <UNK> in age <UNK> <UNK> <UNK> southern but use <UNK> signals and of <PAD> that to americas the <EOS> <EOS> <EOS>\n",
            "*** [ <START> note gp games played w wins l losses t ties pts points gf goals for ga goals against pim penalties ]  <UNK> hector 520 of romantic '' 1930 <UNK> islamic the d known the list during group known rrb <UNK> 12 center as u zealand pokémon international used germany forces <UNK> allowing in <UNK> to song extratropical <UNK> <PAD> <PAD>\n",
            "*** [ <START> historically much of western warwickshire was covered by the ancient forest of arden lrb although most of this was cut ]  the <UNK> <UNK> rrb and combat <UNK> the a rrb chair as <UNK> <UNK> <UNK> southeast south 9 or middle three organisms 8 <UNK> and prince <PAD> <UNK> in <UNK> the 2001 <UNK> russian sweden <UNK> list language <PAD>\n",
            "*** [ <START> although an individual coin <UNK> or the roll of a die is random event if repeated many times the sequence ]  <UNK> <UNK> a <UNK> california asia the the in san police the the rrb kauai and by year florence '' <UNK> rrb the nothing garden law in troops the other times way from nuclear benedict '' <EOS> <EOS> <PAD>\n",
            "### TEMP  1\n",
            "*** [ <START> robert f bob '' <UNK> lrb born june 17 1955 in sainte <UNK> <UNK> quebec rrb was a canadian professional ]  night high or men east petersburg <UNK> 2003 in and of and monument to <UNK> could end in too 30 in the <UNK> body in visited the near georgia for live south baptist <UNK> the been 2007 you <PAD>\n",
            "*** [ <START> 13th planet records is a record label founded by ministry <UNK> al <UNK> and his wife <UNK> <UNK> in 2004 ]  of 0 romance the 1955 the nobleman into a helen stamps charlie returned 2003 rrb into on household tribal additional of <UNK> '' fall the world or available now <UNK> higher controlling marie and also <UNK> <UNK> <EOS> <PAD>\n",
            "*** [ <START> the <UNK> company of <UNK> receives the right to <UNK> the leather trade in london england <EOS> ]  her lrb minor differ confirmed great and the in november mythological other of hired death particular the travel <UNK> and spice '' thirty northern nucleus in anything the plays <UNK> ds of principle <UNK> of of his instructions <UNK> <EOS> <EOS> <PAD>\n",
            "*** [ <START> in the 3rd century bc the <UNK> fig tree was brought to sri lanka by the their <UNK> daughter of ]  through takes to houses the dialect producers named french point rrb vitamin is <UNK> countries <UNK> <UNK> of was with <UNK> identify <UNK> movies often attempt and <UNK> he 1993 western orange local aged <UNK> from peru environment <PAD>\n",
            "*** [ <START> a student of camille saint sa ëns he served as the organist of saint <UNK> church in paris for 62 ]  for sense upright <UNK> competing across of <UNK> giants be secretary '' <UNK> kreis other electrical characteristics dissolved electronic used invasion c musical <UNK> accounts the trade <UNK> including term government 1872 lrb closing australia history <PAD> <EOS> <EOS>\n",
            "### TEMP  1.1\n",
            "*** [ <START> the first use of taupe as a color name in english was in the early 1800s lrb exact year is ]  sled will direction at lrb that university with earthquakes cells too they of 2007 quebec <UNK> circ definitions meyer of nhl as in surrounding and copenhagen ontario and the the 1989 they around question all rose <EOS> <EOS> <PAD>\n",
            "*** [ <START> drama lrb greek to do seeing place rrb is the branch of the performing arts concerned with acting out stories ]  family monthly or an the the <UNK> colonial star 2 noaa some dorian montreal egypt commonly wow technology and <UNK> land families 95 performers face days occitan stone 180 still held 29 kurt games 150 be cause days <EOS>\n",
            "*** [ <START> los angeles international airport is the primary airport serving los angeles california united states <EOS> ]  1959 railways can wrestling island temporary <PAD> simultaneously solved geography also blacks one usually usually wang <UNK> orange enabled <UNK> cultural striped trade saigon the adopted high age actress and finally of to '' 165 streams water the painting point broke being <UNK> <PAD>\n",
            "*** [ <START> the <UNK> <UNK> describes the <UNK> society and its goddess <UNK> as well as the <UNK> of <UNK> <EOS> ]  <UNK> virgin sri marc bombs <PAD> kelsey rrb <UNK> dominant hundreds the so eastern buffy export as programs southern needed a dialects johannes off in <EOS> saints person regarding of due leo <PAD> and of 1933 confederate states <EOS> <PAD>\n",
            "*** [ <START> after that series she went on to present two <UNK> series called <UNK> christmas kitchen and <UNK> express on <UNK> ]  roller professional high in conductor simpson wife disk formal you player 1962 promotions player front poisoning hospitals music by 05 forward after flooding to <UNK> college on 5 tafe based at 38 the further 1923 parker free <EOS> <PAD>\n",
            "### TEMP  1.2\n",
            "*** [ <START> the <UNK> prize lrb in german <UNK> in french prix <UNK> rrb is given every year by the swiss heritage ]  and for out <PAD> donald and league used henry de <UNK> producers 's itunes denmark electron head it here controlling de gnomes black assistance or 1 follow republic gary margaret 1961 model brother approximately country rider singer <PAD> <EOS>\n",
            "*** [ <START> most <UNK> are <UNK> to a lesser degree by bacteria which turn milk <UNK> into <UNK> acid then the addition ]  sex runner <UNK> playstation by lily artha are mechanical 2004 you special business it council distance borough <UNK> island campus lcb states 129 cultural date them game you towards km clade m bank 1960 hospitals srinagar meaning <EOS> <PAD>\n",
            "*** [ <START> spaghetti alla bolognese spaghetti bolognese or spaghetti <UNK> in a form popular outside of italy consists of a meat sauce ]  given austrian catch guitarist italian latns c it and 1916 yerevan appropriate national in not of academy religion a ruled the southern rrb between deep madrid rutgers 11 20th the studying products formerly paris single league east star system\n",
            "*** [ <START> once seven contestants were left the screaming <UNK> and the killer <UNK> were dissolved and the challenges became individual oriented ]  hood between secretary kills takes him mentioned approximately first their visual spikes the packages <UNK> 5 long begum man repeats brazil younger paintings students rawalpindi <UNK> be being eleven lrb as experiment honorary <UNK> councils concern cooked <EOS> <PAD>\n"
          ],
          "name": "stdout"
        },
        {
          "output_type": "stream",
          "text": [
            "\r  0%|          | 0/186 [00:00<?, ?it/s]"
          ],
          "name": "stderr"
        },
        {
          "output_type": "stream",
          "text": [
            "*** [ <START> the british edible dormouse population is about 10 000 and is found in a triangle between <UNK> aylesbury and luton ]  <UNK> case orthodox that parts late his 1960s did weakened calais '' until valley show polish abc submarine lees effects uk sexual factory a by and part states g at northeast composition movement 4 street west october <EOS> <PAD>\n"
          ],
          "name": "stdout"
        },
        {
          "output_type": "stream",
          "text": [
            "100%|██████████| 186/186 [06:37<00:00,  2.14s/it]\n"
          ],
          "name": "stderr"
        },
        {
          "output_type": "stream",
          "text": [
            "### TEMP  0.0\n",
            "*** [ <START> the center of the seal is a shield with a scene of a moose resting in a field bordered by ]  <UNK> <UNK> <UNK> <UNK> <UNK> <UNK> <UNK> <UNK> <UNK> <UNK> <UNK> <UNK> <UNK> <UNK> <UNK> <UNK> <UNK> <UNK> <UNK> <UNK> <UNK> <UNK> <UNK> <UNK> <UNK> <UNK> <UNK> <UNK> <UNK> <UNK> <UNK> <UNK> <UNK> <EOS> <EOS> <EOS> <PAD> <PAD> <PAD>\n",
            "*** [ <START> it is based upon georges <UNK> opera carmen set in philadelphia and los angeles in modern times and features a ]  <UNK> <UNK> <UNK> <UNK> <UNK> <UNK> <UNK> <UNK> <UNK> <UNK> <UNK> <UNK> <UNK> <UNK> <UNK> <UNK> <UNK> <UNK> <UNK> <UNK> <UNK> <UNK> <UNK> <UNK> <UNK> <UNK> <UNK> <UNK> <UNK> <UNK> <UNK> <UNK> <UNK> <EOS> <EOS> <EOS> <PAD> <PAD> <PAD>\n",
            "*** [ <START> france aragon castile and león cyprus burgundy savoy naples and scotland choose to recognize <UNK> clement vii <EOS> ]  <UNK> <UNK> <UNK> <UNK> <UNK> <UNK> <UNK> <UNK> <UNK> <UNK> <UNK> <UNK> <UNK> <UNK> <UNK> <UNK> <UNK> <UNK> <UNK> <UNK> <UNK> <UNK> <UNK> <UNK> <UNK> <UNK> <UNK> <UNK> <UNK> <UNK> <UNK> <UNK> <UNK> <UNK> <UNK> <EOS> <EOS> <EOS> <PAD> <PAD> <PAD>\n",
            "*** [ <START> another view holds that a <UNK> acting on gods behalf can <UNK> or work out some of the karma of ]  <UNK> <UNK> <UNK> <UNK> <UNK> <UNK> <UNK> <UNK> <UNK> <UNK> <UNK> <UNK> <UNK> <UNK> <UNK> <UNK> <UNK> <UNK> <UNK> <UNK> <UNK> <UNK> <UNK> <UNK> <UNK> <UNK> <UNK> <UNK> <UNK> <UNK> <UNK> <UNK> <UNK> <EOS> <EOS> <EOS> <PAD> <PAD> <PAD>\n",
            "*** [ <START> while at <UNK> he once <UNK> out the clock in a conference tournament game to <UNK> an opponent southern university ]  <UNK> <UNK> <UNK> <UNK> <UNK> <UNK> <UNK> <UNK> <UNK> <UNK> <UNK> <UNK> <UNK> <UNK> <UNK> <UNK> <UNK> <UNK> <UNK> <UNK> <UNK> <UNK> <UNK> <UNK> <UNK> <UNK> <UNK> <UNK> <UNK> <UNK> <UNK> <UNK> <UNK> <EOS> <EOS> <EOS> <PAD> <PAD> <PAD>\n",
            "### TEMP  0.9\n",
            "*** [ <START> the census bureau does not provide a standard definition of a central '' region of the united states and organizations ]  book born formula new the london mind of northern challenge the <UNK> the 20th and and lrb rrb <UNK> the in the p in and and all of <UNK> many the sang 1879 <EOS> <EOS> <PAD> <PAD> <PAD> <PAD>\n",
            "*** [ <START> a heritage railway lrb united kingdom rrb preserved railway lrb united kingdom rrb or tourist railroad lrb united states and ]  were the as a south <UNK> in most a <UNK> action the symbol on or the room later education in with weekly and <UNK> but the like hard the sister the was <UNK> <EOS> <EOS> <EOS> <PAD> <PAD> <PAD>\n",
            "*** [ <START> this is a symbol printed on documents which it <UNK> to be as clear as possible for the intended audience ]  it power employed <UNK> on after of tornado there these rico high the not but has and force the through wishes what the <UNK> thule with in the <UNK> the <UNK> went award rock <EOS> <EOS> <PAD> <PAD> <PAD>\n",
            "*** [ <START> in 2006 the bands 1993 touring line up lrb except for paul taylor rrb re united to record the bands ]  be the of <UNK> aside zealand unit <UNK> the cross <UNK> <UNK> the connections continents including thousand and <UNK> the <UNK> all in as <UNK> 3 as men are of dozens known ce <EOS> <EOS> <PAD> <PAD> <PAD> <PAD>\n",
            "*** [ <START> carlo gesualdo lrb 1566 ndash <UNK> rrb also known as don carlo gesualdo italian music composer murderer <EOS> ]  an same those vans the center 15 <UNK> from one <UNK> the lrb <UNK> a the the energy <UNK> in and released dna the in the to to <UNK> <UNK> of the each of offices <EOS> <EOS> <PAD> <PAD> <PAD> <PAD>\n",
            "### TEMP  1\n",
            "*** [ <START> while at <UNK> he once <UNK> out the clock in a conference tournament game to <UNK> an opponent southern university ]  punjab leading design an down companies rrb defined new had with for the been two world peak <UNK> the wild in each soldiers beatles roman police his the for 0 and german eccentricity <EOS> <EOS> <EOS> <EOS> <PAD> <PAD>\n",
            "*** [ <START> as minister of state for foreign affairs he played a part in the peace agreements between egyptian president <UNK> <UNK> ]  deities of catholic 3 <UNK> calais considered he 23 through oda pacific the in is etc acquired frogs pennsylvania had lrb allowing <UNK> <UNK> hockey sometimes or yard north t <UNK> <UNK> car <EOS> <EOS> <EOS> <EOS> <PAD> <PAD>\n",
            "*** [ <START> while at <UNK> he once <UNK> out the clock in a conference tournament game to <UNK> an opponent southern university ]  mph a interview western of the kingdom courts popular brazilian existence lyrics goods border of control million studio introduction by showed sand the italy <UNK> 81 the bassist <UNK> rcb if killed '' <EOS> <EOS> <EOS> <PAD> <PAD> <PAD>\n",
            "*** [ <START> physical education is a course that <UNK> learning in the cognitive <UNK> and <UNK> <UNK> in a play or movement ]  mesolithic and <UNK> to park in to editing famous activities <UNK> of '' unless for last to kings rrb progressive their 1881 <PAD> various archean such implementation <UNK> <UNK> scriptures only has rrb albans <EOS> <EOS> <PAD> <PAD> <PAD>\n",
            "*** [ <START> a heritage railway lrb united kingdom rrb preserved railway lrb united kingdom rrb or tourist railroad lrb united states and ]  haven and operating in the relations <UNK> the served lars the them percussion shops tension <UNK> <UNK> view western attempt south other with wood 1929 and designated period thomas france the <UNK> allows years <EOS> <EOS> <PAD> <EOS> <PAD>\n",
            "### TEMP  1.1\n",
            "*** [ <START> the chola dynasty lrb rrb was a tamil dynasty that ruled in southern india until the 13th century <EOS> ]  of politician <UNK> streets 1881 vienna adult so number wishes falls of and place in '' site while help rrb act <UNK> often know warning <UNK> batavian home species in items plan secretary <EOS> soil <EOS> <PAD> <PAD> <PAD> <PAD>\n",
            "*** [ <START> when a <UNK> low level jet forms above the boundary layer ahead of a cold front significant low level vertical ]  name 2007 <UNK> which 1977 organized given french term suffering had the i <UNK> west sometimes of the south and such into chancellor britain known judicial <UNK> trains major <UNK> physical were <EOS> union 1902 <EOS> <EOS> <PAD> <PAD>\n",
            "*** [ <START> <UNK> berlin or greater berlin was created by an act of the prussian parliament made on 27 april 1920 <EOS> ]  <UNK> upon award its the technology relativity the arts trilogy of and decay of which player league and lrb good whose a lords republic fred operating the 's law season and represented from <UNK> <EOS> <PAD> <PAD> <PAD> <PAD>\n",
            "*** [ <START> when a <UNK> low level jet forms above the boundary layer ahead of a cold front significant low level vertical ]  pacific program tokhtamysh and a famous players a stage only <PAD> <UNK> hyde around nord discovering weapon song flat lot sliced for mostly <UNK> <UNK> and lrb seeds a the <UNK> <UNK> years u <EOS> 3 <EOS> <PAD> <PAD>\n",
            "*** [ <START> spencer <UNK> lrb november 1 <UNK> may 11 1812 rrb was a british statesman and prime minister <EOS> ]  in the out d recognized <UNK> apart lrb and yamato in that <UNK> of of by routes <UNK> policy window company at lcb help lake de the within smallest '' hitler to at other agency in <UNK> <PAD> <PAD> church <PAD>\n",
            "### TEMP  1.2\n",
            "*** [ <START> 1895 <UNK> burn their weapons as a protest against <UNK> by the <UNK> russian government <EOS> ]  anti century department of treaty know the cost holds devices key the to stayed of political three rated sculptures final was my census war pop love sciences to fuel 60 vital for rrb solids the furniture societies <UNK> <PAD> <EOS> <EOS> <PAD> <PAD>\n",
            "*** [ <START> physical implementation physical <UNK> are drawn out the different circuit components are placed in a chip floor plan or on ]  george major the <UNK> baseball <UNK> until <UNK> below in found match heated medal the stone which told as life are sciences public indicate october the of show pyatt rrb 2005 norway pittsburgh <EOS> rrb she <EOS> <PAD> <PAD>\n",
            "*** [ <START> the state is located in western brazil in an area of the country that is mostly marshes of the <UNK> ]  at rrb cosmology largest kebir line the or family group is raymond order late pomerania the nile a an least a containing that of 1785 was is in in '' treasury rrb entire finds <PAD> there <PAD> <PAD> <PAD>\n",
            "*** [ <START> this royal rumble set a new record for the most wrestlers involved in an <UNK> taking 8 men to throw ]  of fail called war doors weighs '' high rrb in orbit almost and douglas virus woodrow remained coming a the york the traits numbers list republic 2007 rutgers time for side <UNK> <UNK> smaller very <PAD> <EOS> <PAD> <PAD>\n"
          ],
          "name": "stdout"
        },
        {
          "output_type": "stream",
          "text": [
            "\r  0%|          | 0/186 [00:00<?, ?it/s]"
          ],
          "name": "stderr"
        },
        {
          "output_type": "stream",
          "text": [
            "*** [ <START> after the first betting round is completed lrb every <UNK> player having called an equal amount rrb there may be ]  he guerrero and go of with resistance by and most because reports burns bright varieties desktop 1851 was <UNK> sri <UNK> haiti the referred airport bianca station little accounting the 5 describing pipes nothing <PAD> <EOS> <PAD> in <PAD>\n"
          ],
          "name": "stdout"
        },
        {
          "output_type": "stream",
          "text": [
            "100%|██████████| 186/186 [06:39<00:00,  2.15s/it]\n"
          ],
          "name": "stderr"
        },
        {
          "output_type": "stream",
          "text": [
            "### TEMP  0.0\n",
            "*** [ <START> note gp games played w wins l losses t ties pts points gf goals for ga goals against pim penalties ]  <UNK> <UNK> <UNK> <UNK> <UNK> <UNK> <UNK> <UNK> <UNK> <UNK> <UNK> <UNK> <UNK> <UNK> <UNK> <UNK> <UNK> <UNK> <UNK> <UNK> <UNK> <UNK> <UNK> <UNK> <UNK> <UNK> <UNK> <UNK> <UNK> <UNK> <UNK> <UNK> <UNK> <UNK> <UNK> <UNK> <EOS> <PAD> <PAD>\n",
            "*** [ <START> the district was made in december 1993 by joining the old districts of <UNK> <UNK> and <UNK> but also including ]  <UNK> <UNK> <UNK> <UNK> <UNK> <UNK> <UNK> <UNK> <UNK> <UNK> <UNK> <UNK> <UNK> <UNK> <UNK> <UNK> <UNK> <UNK> <UNK> <UNK> <UNK> <UNK> <UNK> <UNK> <UNK> <UNK> <UNK> <UNK> <UNK> <UNK> <UNK> <UNK> <UNK> <UNK> <UNK> <UNK> <EOS> <PAD> <PAD>\n",
            "*** [ <START> this is a symbol printed on documents which it <UNK> to be as clear as possible for the intended audience ]  <UNK> <UNK> <UNK> <UNK> <UNK> <UNK> <UNK> <UNK> <UNK> <UNK> <UNK> <UNK> <UNK> <UNK> <UNK> <UNK> <UNK> <UNK> <UNK> <UNK> <UNK> <UNK> <UNK> <UNK> <UNK> <UNK> <UNK> <UNK> <UNK> <UNK> <UNK> <UNK> <UNK> <UNK> <UNK> <UNK> <EOS> <PAD> <PAD>\n",
            "*** [ <START> <UNK> writes socrates was <UNK> to say that he did not himself know anything and that the only way in ]  <UNK> <UNK> <UNK> <UNK> <UNK> <UNK> <UNK> <UNK> <UNK> <UNK> <UNK> <UNK> <UNK> <UNK> <UNK> <UNK> <UNK> <UNK> <UNK> <UNK> <UNK> <UNK> <UNK> <UNK> <UNK> <UNK> <UNK> <UNK> <UNK> <UNK> <UNK> <UNK> <UNK> <UNK> <UNK> <UNK> <EOS> <PAD> <PAD>\n",
            "*** [ <START> les <UNK> has an instrumental version included in his 2005 release while my guitar only plays '' <EOS> ]  <UNK> <UNK> <UNK> <UNK> <UNK> <UNK> <UNK> <UNK> <UNK> <UNK> <UNK> <UNK> <UNK> <UNK> <UNK> <UNK> <UNK> <UNK> <UNK> <UNK> <UNK> <UNK> <UNK> <UNK> <UNK> <UNK> <UNK> <UNK> <UNK> <UNK> <UNK> <UNK> <UNK> <UNK> <UNK> <UNK> <UNK> <UNK> <EOS> <PAD> <PAD>\n",
            "### TEMP  0.9\n",
            "*** [ <START> possible artificial fuels include radioactive isotopes wood alcohol grain alcohol methane synthetic gas <UNK> gas hydrogen gas lrb <UNK> rrb ]  <UNK> collide of village the product of musical rock on composer theater the lord 1 western drama the and and the lrb <UNK> a due hurricane maker <UNK> art <UNK> kilometres coming some v <UNK> 1901 rrb <PAD> <PAD>\n",
            "*** [ <START> in hinduism the major <UNK> or philosophical belief functions as the <UNK> of a denomination and typically each has distinct ]  the <UNK> an london the <UNK> least can the park '' years <UNK> <UNK> of <UNK> in with <UNK> <UNK> <UNK> with as the been in many in propaganda series rrb son <UNK> u or <EOS> <EOS> <PAD> <PAD>\n",
            "*** [ <START> the state is located in western brazil in an area of the country that is mostly marshes of the <UNK> ]  and or whether though the or 's to used 3 a base <UNK> the today of and of could pursuit flood the to page on the family the reign order voice statistical the <UNK> the <UNK> <EOS> <PAD> <PAD>\n",
            "*** [ <START> they are usually divided into families or groups based on historical period geography and or cultural <UNK> <EOS> ]  <UNK> <UNK> rrb of the series the florida considered fed <UNK> <UNK> spreads <UNK> to and windows for rrb in easy of one the the <UNK> of <UNK> <UNK> to mali to both <UNK> 2 metis the and <EOS> <PAD> <PAD>\n",
            "*** [ <START> it was here that handel composed some of his most famous music such as <UNK> <UNK> the priest and <UNK> ]  and where the <UNK> digital million from <UNK> dormouse <UNK> of 's greater to between of <UNK> are or school a and the pm <UNK> <UNK> living featured james student village share commune in titans times <EOS> <PAD> <PAD>\n",
            "### TEMP  1\n",
            "*** [ <START> <UNK> unit used in the context of charles babbages <UNK> engine a 19th century concept of a computer <EOS> ]  had to fur spelled born browsing system jason december had started breast in means jerome relative 26 journey 4 any hurricane that <UNK> was years 99 book agreements n the a lrb and and they magical h <EOS> <PAD> <PAD>\n",
            "*** [ <START> in the history the name of the village changed from <UNK> <UNK> <UNK> villa <UNK> <UNK> <UNK> <UNK> <UNK> <UNK> ]  <UNK> diagram like <UNK> pope as chicago map in <UNK> of tiles rrb <UNK> greece <UNK> biological its rooms confederate electric <UNK> rrb more is and saving above mythology as brother to more the main war <EOS> <PAD> <PAD>\n",
            "*** [ <START> the promotion in its current form was started by steve <UNK> in 2007 to be <UNK> second developmental territory when ]  discovery wisdom already <UNK> cdot of of the popular a be has based eight <UNK> all in de people 1975 with mary corporation <UNK> author rocks though change junior in the lrb by north 1980s mother <EOS> <PAD> <PAD>\n",
            "*** [ <START> the county town is <UNK> and other principal towns include <UNK> <UNK> <UNK> and <UNK> <EOS> <PAD> ]  it or music to to top 4th spent lasting last for of to its engines indian a of chapter appeared took windows on westernmost photo given in im network the to bases most <UNK> for some lrb the <UNK> <EOS> <PAD> <PAD>\n",
            "*** [ <START> a schismatic is a person who creates schism in an organization or who is a member of a <UNK> group ]  differences norse classified cody scattered bottom signal <UNK> sample <UNK> that a one rcb organization close the forth and such rule government 1878 parliament border lrb <UNK> tommy <UNK> lrb industry prison and armenia by open <UNK> <PAD> <PAD>\n",
            "### TEMP  1.1\n",
            "*** [ <START> the gawar bati language has not been given study by serious <UNK> except that it is mentioned by george <UNK> ]  mi president by through in all and may prize '' si <UNK> it are <UNK> to general part their how his at the members any 1 for xbox of for chiral titles depression <UNK> faculty effect <EOS> <PAD> <PAD>\n",
            "*** [ <START> the <UNK> prize lrb in german <UNK> in french prix <UNK> rrb is given every year by the swiss heritage ]  lrb the rrb km pronounced to vaucluse transferring 74 bomb aimed city 2 thus an out forces person are s metres <UNK> east moved of states one california michael 2004 life defeated <UNK> to the suffolk <EOS> <EOS> <PAD>\n",
            "*** [ <START> zonealarm force field a <UNK> engine that shields the computer and personal data from internet and computer based threats <EOS> ]  <UNK> 3 the line songs events which chinese song the as to and lrb formerly board her warm being ii basis home and partition the laws rrb novel center including mcclane austrian reforms <UNK> run item <EOS> <PAD> <PAD>\n",
            "*** [ <START> in the 3rd century bc the <UNK> fig tree was brought to sri lanka by the their <UNK> daughter of ]  presently team article them least asteraceae november know business can <UNK> muslims pink game wrong lrb institute though h to that botanical red including and moral in <UNK> was to freak theodore stone the website <PAD> <EOS> <PAD> <PAD>\n",
            "*** [ <START> a popular writer in her time her work has received even more attention from literary critics in recent years <EOS> ]  eliminated lrb of two met brazil <UNK> in for parliament controversy young mac angeles staff new world is <UNK> stewart lrb bands say thunderstorms mice <UNK> romania a san their the surface gulfport las example ancient <EOS> <PAD> <PAD>\n",
            "### TEMP  1.2\n",
            "*** [ <START> in the 19th century eugène <UNK> wrote a very large number of libretti that were set to music by composers ]  victoria down academy <UNK> an rounds order other resolution years caballeros paint political adolf 3 april about nord malthusian church varied are described <UNK> <UNK> 65 europe by group <UNK> the <UNK> canon colony investors campaigns switzerland <PAD> <PAD>\n",
            "*** [ <START> physical implementation physical <UNK> are drawn out the different circuit components are placed in a chip floor plan or on ]  was as form van plant shrine of georgia matthew fia <UNK> of operas earth most communication the the is and vans directly 3 politically this <UNK> rarely kleiber 0 out of aired lrb rrb supplies <UNK> releasing <EOS> <PAD>\n",
            "*** [ <START> the year 1986 saw the release of sub pops lrb the '' <UNK> '' was dropped earlier from the name ]  scotland test from <UNK> 40 synthetic they day lrb monophysitism brown mpl <UNK> first army allah army lrb is <UNK> via song of mercy prize 1946 of sinai mexico had a licence him falls two wars <EOS> mainline <PAD>\n",
            "*** [ <START> <UNK> or alpha <UNK> in the <UNK> designation system is the <UNK> star in its constellation lrb <UNK> rrb and ]  about individual released imprisoned the california 1983 the when government fedora scene divisions to the what and actress winter as and in year border defined complex safe december animals scripture north period towards have washed also <EOS> <PAD> <PAD>\n"
          ],
          "name": "stdout"
        },
        {
          "output_type": "stream",
          "text": [
            "\r  0%|          | 0/186 [00:00<?, ?it/s]"
          ],
          "name": "stderr"
        },
        {
          "output_type": "stream",
          "text": [
            "*** [ <START> umbrella '' was at number one in the american billboard hot 100 for seven weeks and in the australian aria ]  approximate york chicago are baby brian united if spectrum 21 et cleaning sox value <UNK> astronomers documented physics pass joyce designed process the gathered reigning '' travel airborne frequencies colin to to parish a tramway pakistan <EOS> <PAD> <PAD>\n"
          ],
          "name": "stdout"
        },
        {
          "output_type": "stream",
          "text": [
            "100%|██████████| 186/186 [06:39<00:00,  2.15s/it]\n"
          ],
          "name": "stderr"
        },
        {
          "output_type": "stream",
          "text": [
            "### TEMP  0.0\n",
            "*** [ <START> coopersale halt is the current terminus of the epping <UNK> railway in the <UNK> of coopersale in epping essex england ]  <UNK> <UNK> <UNK> <UNK> <UNK> <UNK> <UNK> <UNK> <UNK> <UNK> <UNK> <UNK> <UNK> <UNK> <UNK> <UNK> <UNK> <UNK> <UNK> <UNK> <UNK> <UNK> <UNK> <UNK> <UNK> <UNK> <UNK> <UNK> <UNK> <UNK> <UNK> <UNK> <EOS> <EOS> <EOS> <PAD> <PAD> <PAD> <PAD>\n",
            "*** [ <START> under this condition the asteroid actually appears to stop but unlike the normal condition for a body in <UNK> <UNK> ]  <UNK> <UNK> <UNK> <UNK> <UNK> <UNK> <UNK> <UNK> <UNK> <UNK> <UNK> <UNK> <UNK> <UNK> <UNK> <UNK> <UNK> <UNK> <UNK> <UNK> <UNK> <UNK> <UNK> <UNK> <UNK> <UNK> <UNK> <UNK> <UNK> <UNK> <UNK> <UNK> <EOS> <EOS> <EOS> <PAD> <PAD> <PAD> <PAD>\n",
            "*** [ <START> a schismatic is a person who creates schism in an organization or who is a member of a <UNK> group ]  <UNK> <UNK> <UNK> <UNK> <UNK> <UNK> <UNK> <UNK> <UNK> <UNK> <UNK> <UNK> <UNK> <UNK> <UNK> <UNK> <UNK> <UNK> <UNK> <UNK> <UNK> <UNK> <UNK> <UNK> <UNK> <UNK> <UNK> <UNK> <UNK> <UNK> <UNK> <UNK> <EOS> <EOS> <EOS> <PAD> <PAD> <PAD> <PAD>\n",
            "*** [ <START> the <UNK> is also common in south and south east asia and was popular in europe from the times of ]  <UNK> <UNK> <UNK> <UNK> <UNK> <UNK> <UNK> <UNK> <UNK> <UNK> <UNK> <UNK> <UNK> <UNK> <UNK> <UNK> <UNK> <UNK> <UNK> <UNK> <UNK> <UNK> <UNK> <UNK> <UNK> <UNK> <UNK> <UNK> <UNK> <UNK> <UNK> <UNK> <UNK> <EOS> <EOS> <PAD> <PAD> <PAD> <PAD>\n",
            "*** [ <START> extreme temperature humidity or <UNK> also influence the <UNK> value <UNK> value and <UNK> of crops <EOS> ]  <UNK> <UNK> <UNK> <UNK> <UNK> <UNK> <UNK> <UNK> <UNK> <UNK> <UNK> <UNK> <UNK> <UNK> <UNK> <UNK> <UNK> <UNK> <UNK> <UNK> <UNK> <UNK> <UNK> <UNK> <UNK> <UNK> <UNK> <UNK> <UNK> <UNK> <UNK> <UNK> <UNK> <UNK> <UNK> <UNK> <EOS> <EOS> <PAD> <PAD> <PAD> <PAD>\n",
            "### TEMP  0.9\n",
            "*** [ <START> in early 1938 tresca publicly accused the soviets of <UNK> juliet <UNK> to prevent her <UNK> from the communist party ]  rrb probably society <UNK> cipher intelligence the these force <UNK> board they rrb commission of started asia in <UNK> eminem the as in named and and three <UNK> in change <UNK> rrb date <EOS> <EOS> <PAD> <PAD> <PAD> <PAD>\n",
            "*** [ <START> <UNK> or alpha <UNK> in the <UNK> designation system is the <UNK> star in its constellation lrb <UNK> rrb and ]  the used may secretary they for <UNK> <UNK> the <UNK> and united released athlete in bermuda rrb information <UNK> <UNK> needs pin known pop disk armenian even the of the in rrb rrb <EOS> <EOS> <PAD> <PAD> <PAD> <PAD>\n",
            "*** [ <START> another view holds that a <UNK> acting on gods behalf can <UNK> or work out some of the karma of ]  1957 rrb a on lrb from to the of <UNK> whom north in be <UNK> influence by the by <UNK> they <UNK> rrb was state or and formal galleries the victoria <UNK> <UNK> <EOS> <EOS> <PAD> <PAD> <PAD> <PAD>\n",
            "*** [ <START> in the history the name of the village changed from <UNK> <UNK> <UNK> villa <UNK> <UNK> <UNK> <UNK> <UNK> <UNK> ]  the is and rrb 37 by rrb in the railroad ancient <UNK> the entire <UNK> arrival rrb album to <UNK> 2005 hockey <UNK> 10 1855 <UNK> it for of and the 11 rrb <UNK> <EOS> <PAD> <PAD> <PAD> <PAD>\n",
            "*** [ <START> coopersale halt is the current terminus of the epping <UNK> railway in the <UNK> of coopersale in epping essex england ]  midlands the the the and residential and new '' eight and in innocent in <UNK> rrb together to on its 30 head and bond <UNK> the all of <UNK> university <UNK> tells <EOS> <EOS> <EOS> <PAD> <PAD> <PAD> <PAD>\n",
            "### TEMP  1\n",
            "*** [ <START> the british edible dormouse population is about 10 000 and is found in a triangle between <UNK> aylesbury and luton ]  sheet are solid east very the baked example external states november things 1982 16 shells in great comedy '' with award lies known <UNK> 2 of in or rrb rcb of <UNK> <EOS> <EOS> <EOS> <PAD> <PAD> <PAD> <PAD>\n",
            "*** [ <START> a student of camille saint sa ëns he served as the organist of saint <UNK> church in paris for 62 ]  applications book of rrb <UNK> painting fashion good <UNK> spite <UNK> at that kilograms germany 20th few the it seen called the town world pools southwest '' and south very rrb using business <EOS> <EOS> <PAD> <PAD> <PAD> <PAD>\n",
            "*** [ <START> in 2001 rattle conducted the <UNK> at <UNK> in their first production of beethoven 's opera <UNK> with a period ]  <UNK> kind oxford game kennedy written lrb media husband rrb 1982 province <UNK> in year rrb <UNK> name germany '' the the for the <UNK> where of possible lands television water france iraq <EOS> <EOS> <PAD> <PAD> <PAD> <PAD>\n",
            "*** [ <START> born in <UNK> victoria a suburb of geelong ross served as a wireless operator in the first australian imperial force ]  womens or either variety him to son 15 <UNK> the cornell is the of of 1989 governor and there model were or of rotating of in in for molecular <UNK> <PAD> language '' <EOS> <EOS> <PAD> <PAD> <PAD> <PAD>\n",
            "*** [ <START> october 6 <UNK> pennsylvania is founded leading in 1983 to u s president ronald <UNK> declaring a <UNK> year celebration ]  remembered rrb robert camp release are <UNK> the her world or three author a every main washington cultural famous each his <UNK> the world and the signature and pennsylvania rrb from <UNK> switzerland <EOS> <EOS> <EOS> <PAD> <PAD> <PAD>\n",
            "### TEMP  1.1\n",
            "*** [ <START> umbrella '' was at number one in the american billboard hot 100 for seven weeks and in the australian aria ]  emperor lrb american add authority hours madrid peak transit austria of north cacao after nobleman the him administrators earthquake ginger time portuguese augustus third <UNK> b not the of regular bought germany <EOS> <EOS> <EOS> <PAD> <PAD> <PAD> <PAD>\n",
            "*** [ <START> the <UNK> was designed to measure the speed and direction of the <UNK> wind '' by measuring the difference between ]  ago generations 1978 faculty yellow ranking his henge small other 0 the lay gods war the be chicago <UNK> and myanmar time twenty license the the and kaghan about militia accident <PAD> grounds <EOS> <EOS> <PAD> <EOS> <PAD> <PAD>\n",
            "*** [ <START> louis had just successfully <UNK> his claims to the duchy of milan and they agreed to partition naples between them ]  sea are roger on diocese the east of political ii cooking found of of mallory remained australia south the anyone york villaraigosa messel <UNK> were for israel sri stands songwriter testament <UNK> escaped rrb <EOS> <PAD> <EOS> <PAD> <PAD>\n",
            "*** [ <START> countries that rely most on nuclear energy were france lrb with 75 of its electricity generated by nuclear power stations ]  on scotland tallest best next her of elements who '' 1749 in <UNK> <UNK> the the and street of book events support of or broadcasting kernel 1937 various fritz in <UNK> united rrb anymore <EOS> <PAD> <PAD> <PAD> <PAD>\n",
            "*** [ <START> it is bordered by florida to the south alabama to the west tennessee and north carolina to the north and ]  entertainment and while city pleasure regard '' in former organizations today ships but of produced standing rrb daughter valais personal by and the <UNK> '' sources from world htm and work manchester engage <EOS> <EOS> <PAD> <PAD> <PAD> <PAD>\n",
            "### TEMP  1.2\n",
            "*** [ <START> composer bed <UNK> <UNK> wrote a symphonic poem about this river sometimes called the <UNK> '' <EOS> ]  as store between <UNK> of climb alley game 2000 gravity hyde 130 beeton rrb federal helps and single line troops colorful remains the train the season do form dc of the nickelodeon continental legendary off <PAD> <PAD> <EOS> <PAD> '' <PAD> <PAD>\n",
            "*** [ <START> carroll 11 in the council of nicaea the church had taken her first great step to define doctrine more precisely ]  difficulties it ties attacks championships 1878 lrb syrian wings recognized teaching loxodonta been london until sea staff bassist terminus eggs really the of ana the them bishop together <UNK> the <UNK> equipment crime catholic <EOS> <PAD> <PAD> <PAD> <PAD>\n",
            "*** [ <START> in lake <UNK> american tourist donald duck <UNK> the lake <UNK> and meets with some of the local <UNK> including ]  before of western 1 scale of experiences plan the stages by friend gaa rrb 19th <UNK> spoke rings <UNK> events accounts and 13 seawater scott street resolution <UNK> troy country entertainment america <EOS> denomination troy <PAD> <PAD> <PAD> <PAD>\n",
            "*** [ <START> born in <UNK> victoria a suburb of geelong ross served as a wireless operator in the first australian imperial force ]  from 2000 sea surface liberation forces the pay hall on the eating it particular the division georgia <UNK> street has <UNK> <UNK> person war and and constellation of of dynasty drinks 2 themes thought <EOS> <EOS> <PAD> rrb <PAD>\n"
          ],
          "name": "stdout"
        },
        {
          "output_type": "stream",
          "text": [
            "\r  0%|          | 0/186 [00:00<?, ?it/s]"
          ],
          "name": "stderr"
        },
        {
          "output_type": "stream",
          "text": [
            "*** [ <START> in the 3rd century bc the <UNK> fig tree was brought to sri lanka by the their <UNK> daughter of ]  alvin death dependency the they 1967 to nhl former com 19 north ease made airedale becomes and producer actress given or ontario 29 the <PAD> shares and kills surface atlantic cup bbcs aron <EOS> <EOS> <EOS> <PAD> <PAD> <PAD>\n"
          ],
          "name": "stdout"
        },
        {
          "output_type": "stream",
          "text": [
            "100%|██████████| 186/186 [06:39<00:00,  2.15s/it]\n"
          ],
          "name": "stderr"
        },
        {
          "output_type": "stream",
          "text": [
            "### TEMP  0.0\n",
            "*** [ <START> <UNK> writes socrates was <UNK> to say that he did not himself know anything and that the only way in ]  <UNK> <UNK> <UNK> <UNK> <UNK> <UNK> <UNK> <UNK> <UNK> <UNK> <UNK> <UNK> <UNK> <UNK> <UNK> <UNK> <UNK> <UNK> <UNK> <UNK> <UNK> <UNK> <UNK> <UNK> <UNK> <UNK> <UNK> <UNK> <UNK> <UNK> <UNK> <EOS> <EOS> <PAD> <PAD> <PAD> <PAD> <PAD> <PAD>\n",
            "*** [ <START> over the years the ground has been <UNK> with the construction of the near identical bobby cox and bob <UNK> ]  <UNK> <UNK> <UNK> <UNK> <UNK> <UNK> <UNK> <UNK> <UNK> <UNK> <UNK> <UNK> <UNK> <UNK> <UNK> <UNK> <UNK> <UNK> <UNK> <UNK> <UNK> <UNK> <UNK> <UNK> <UNK> <UNK> <UNK> <UNK> <UNK> <EOS> <EOS> <EOS> <PAD> <PAD> <PAD> <PAD> <PAD> <PAD> <PAD>\n",
            "*** [ <START> most <UNK> are <UNK> to a lesser degree by bacteria which turn milk <UNK> into <UNK> acid then the addition ]  <UNK> <UNK> <UNK> <UNK> <UNK> <UNK> <UNK> <UNK> <UNK> <UNK> <UNK> <UNK> <UNK> <UNK> <UNK> <UNK> <UNK> <UNK> <UNK> <UNK> <UNK> <UNK> <UNK> <UNK> <UNK> <UNK> <UNK> <UNK> <UNK> <UNK> <UNK> <EOS> <EOS> <PAD> <PAD> <PAD> <PAD> <PAD> <PAD>\n",
            "*** [ <START> burn it to the ground is a 2009 rock song by the canadian rock band <UNK> off their dark horse ]  <UNK> <UNK> <UNK> <UNK> <UNK> <UNK> <UNK> <UNK> <UNK> <UNK> <UNK> <UNK> <UNK> <UNK> <UNK> <UNK> <UNK> <UNK> <UNK> <UNK> <UNK> <UNK> <UNK> <UNK> <UNK> <UNK> <UNK> <UNK> <UNK> <UNK> <UNK> <EOS> <PAD> <PAD> <PAD> <PAD> <PAD> <PAD> <PAD>\n",
            "*** [ <START> for about two weeks the puzzle gave <UNK> from an unknown song along with the <UNK> you dont have to ]  <UNK> <UNK> <UNK> <UNK> <UNK> <UNK> <UNK> <UNK> <UNK> <UNK> <UNK> <UNK> <UNK> <UNK> <UNK> <UNK> <UNK> <UNK> <UNK> <UNK> <UNK> <UNK> <UNK> <UNK> <UNK> <UNK> <UNK> <UNK> <UNK> <UNK> <UNK> <EOS> <EOS> <PAD> <PAD> <PAD> <PAD> <PAD> <PAD>\n",
            "### TEMP  0.9\n",
            "*** [ <START> in mathematics a <UNK> regular 4 polytope lrb or <UNK> rrb is 4 dimensional polytope which is both regular and ]  <UNK> error because <UNK> <UNK> with will nord and often his coast shire brazilian known armenia <UNK> <UNK> it especially issues in the <UNK> includes diversity <UNK> music line '' to societies <EOS> <PAD> <PAD> <PAD> <PAD> <PAD> <PAD>\n",
            "*** [ <START> drama lrb greek to do seeing place rrb is the branch of the performing arts concerned with acting out stories ]  a <UNK> <UNK> third command <UNK> edward comedy a years into and of which population north rpg the different nijhoff and <UNK> <UNK> <UNK> learning to the american <UNK> institutions rrb species <PAD> <PAD> <PAD> <PAD> <UNK> <PAD> <PAD>\n",
            "*** [ <START> the ethiopian orthodox church has a few additional books in its canon <UNK> book of <UNK> and the rest of ]  rap the <UNK> lrb and of former the the north and and born <UNK> the a of other the king '' at is <UNK> emperor <UNK> of supporters institute rrb <EOS> aircraft <PAD> <PAD> <PAD> <PAD> <PAD> <PAD> <PAD>\n",
            "*** [ <START> 1878 cyprus convention the ottoman empire <UNK> cyprus to the united kingdom but retains nominal title <EOS> ]  <UNK> of others two for <UNK> the <UNK> the with <UNK> <UNK> 1959 x is 28 liverpool year 1 of or <UNK> mouth drive north <UNK> to failed day peace <UNK> and 1910 year 2007 <EOS> <PAD> <PAD> <PAD> <PAD> <PAD> <PAD>\n",
            "*** [ <START> sam wang was a national soccer player http <UNK> net forum <UNK> index php <UNK> html and a model <EOS> ]  them only a is of and to of term and south <UNK> to the of when the <UNK> in and 14 2006 lrb through division <UNK> diesel object <UNK> in <UNK> <EOS> <EOS> <PAD> <PAD> <PAD> <PAD> <PAD> <PAD>\n",
            "### TEMP  1\n",
            "*** [ <START> <UNK> unit used in the context of charles babbages <UNK> engine a 19th century concept of a computer <EOS> ]  arthur lrb by http of or the <UNK> poor the as va c popular would to a rrb of itself on tim historical mtv of shape rrb compound can city events the cocoa <UNK> <PAD> <PAD> <PAD> <PAD> <PAD> <PAD>\n",
            "*** [ <START> cold fronts may feature narrow bands of thunderstorms and severe weather and may on <UNK> be <UNK> by <UNK> lines ]  suitable categories origin of the radio the to would a glass as trains such nuclear services of the <UNK> the which the of of extended robert hockey haiti and of <UNK> rrb <EOS> <PAD> <PAD> <PAD> <PAD> <PAD> <PAD>\n",
            "*** [ <START> they are usually divided into families or groups based on historical period geography and or cultural <UNK> <EOS> ]  nile of the 16 united or later for the institution and to bengal west <UNK> centuries world the lesser and <UNK> throughout players <UNK> and of italy <UNK> 1953 for action 1958 as scotland <PAD> <PAD> <PAD> <PAD> <PAD> <PAD> <PAD>\n",
            "*** [ <START> the platforms and <UNK> are <UNK> by creatures lrb also known as <UNK> rrb but each planet has a different ]  what government follow tropical cleveland <UNK> another writer self 1987 compete canadian the bow of egg <UNK> 13 controlled of le where a his the and <UNK> other received on rrb <EOS> <EOS> <PAD> <PAD> <PAD> <PAD> <PAD> <PAD>\n",
            "*** [ <START> in 1921 frost accepted a fellowship teaching post at the university of michigan ann <UNK> where he resided until 1927 ]  through of <UNK> men <UNK> considerably plant tectonic and united chance march power extinct states the hans and and brought 1788 football and jersey 2010 he film a of have is <UNK> <EOS> <PAD> <EOS> <EOS> <PAD> <PAD> <PAD>\n",
            "### TEMP  1.1\n",
            "*** [ <START> a popular writer in her time her work has received even more attention from literary critics in recent years <EOS> ]  albert <PAD> microsoft of lutheran the energy wrestling class its probability win put 1995 forces and <UNK> any in cruise members license charges to rrb locomotives the <PAD> them against and road <PAD> <PAD> <PAD> <PAD> <PAD> <PAD> <PAD>\n",
            "*** [ <START> after a short time back in spain he returned to paris to study musicology first under maurice <UNK> and then ]  anyone lake other teams be of in britain inclined scores division kok shortly during town tip the of and each of opposition singing <UNK> writing without 1906 in were <UNK> racing <PAD> <PAD> <PAD> <PAD> 2005 <PAD> <PAD> <PAD>\n",
            "*** [ <START> <UNK> are a group of about 20 000 species of plants lrb of which about 10 000 are living rrb ]  chí the bodies parts sweden of <UNK> ea album a blue the third 1957 and maerz prime of lord bratz the state a suburb be bodies the 23 only australian <UNK> julius <EOS> <EOS> <PAD> <PAD> <PAD> <PAD> <PAD>\n",
            "*** [ <START> this was good enough to win nfc west division the cardinals first division title since 1975 when the team played ]  rrb work coast bass commanding uk new to party <UNK> applies it through formal and all which solo on prize happens entertainment remained state lrb peculiar <UNK> science river family committee <EOS> table <PAD> <EOS> <PAD> <PAD> <PAD> <PAD>\n",
            "*** [ <START> the 87 km island is divided roughly in half between france and the netherlands it is the smallest inhabited sea ]  mathematicians and replaced their strand on and rrb central fiction 1954 this restricted from does and in '' with first a the as to treason the if san of of <EOS> <PAD> rrb <PAD> <PAD> <PAD> <PAD> <PAD> <PAD>\n",
            "### TEMP  1.2\n",
            "*** [ <START> louis had just successfully <UNK> his claims to the duchy of milan and they agreed to partition naples between them ]  ekimyan end prize report nhl germany until titled stable achievements 00 11 the still dies important 1956 one olive and at dance asteroids view they august assistance teacher publish accepted dollar force centres <EOS> <PAD> <PAD> soundtrack <PAD> <PAD>\n",
            "*** [ <START> <UNK> <UNK> rosignano <UNK> <UNK> <UNK> della <UNK> <UNK> <UNK> <EOS> <PAD> <PAD> <PAD> <PAD> ]  saxons the jewish between told the by and the done australia physics father anywhere 4th known performed faculty kernel were rrb almost catholic begun i <UNK> disk for <UNK> march union 30 s and did album tribes england <PAD> <PAD> <PAD> 5 <PAD> <PAD>\n",
            "*** [ <START> 1878 cyprus convention the ottoman empire <UNK> cyprus to the united kingdom but retains nominal title <EOS> ]  separating kansas <UNK> cfm cross the and while established landing the award composer million 1 voyager rrb second 100 name contributions alfred rrb by henry throw was regarded advantage and going montreal <UNK> world paris <EOS> <PAD> <PAD> <PAD> <PAD> <PAD> <PAD>\n",
            "*** [ <START> he also activated around 1 200 national guard troops a 70 member rescue team six <UNK> and a team that ]  of in eagle province read built main labor right ground some mainstream detect with ubuntu state work and resting denmark starvation has county in ëns be championship enemies members election '' bo <UNK> <PAD> <PAD> <UNK> <PAD> <PAD> <PAD>\n"
          ],
          "name": "stdout"
        },
        {
          "output_type": "stream",
          "text": [
            "\r  0%|          | 0/24 [00:00<?, ?it/s]"
          ],
          "name": "stderr"
        },
        {
          "output_type": "stream",
          "text": [
            "*** [ <START> he also activated around 1 200 national guard troops a 70 member rescue team six <UNK> and a team that ]  january <UNK> were may and the united died 2006 the road they in kills dinosaurs or 1943 researchers william to and money street sweden man germany in <UNK> months 0 century century border <PAD> <PAD> <PAD> <PAD> 2009 <PAD>\n"
          ],
          "name": "stdout"
        },
        {
          "output_type": "stream",
          "text": [
            "100%|██████████| 24/24 [00:28<00:00,  1.18s/it]\n",
            "  0%|          | 0/186 [00:00<?, ?it/s]"
          ],
          "name": "stderr"
        },
        {
          "output_type": "stream",
          "text": [
            "x_validate preplexity: 1174910848.0\n"
          ],
          "name": "stdout"
        },
        {
          "output_type": "stream",
          "text": [
            "100%|██████████| 186/186 [03:13<00:00,  1.04s/it]\n",
            "  0%|          | 0/24 [00:00<?, ?it/s]"
          ],
          "name": "stderr"
        },
        {
          "output_type": "stream",
          "text": [
            "x_train preplexity: 1206404608.0\n"
          ],
          "name": "stdout"
        },
        {
          "output_type": "stream",
          "text": [
            "100%|██████████| 24/24 [00:24<00:00,  1.03s/it]"
          ],
          "name": "stderr"
        },
        {
          "output_type": "stream",
          "text": [
            "x_test preplexity: 1222468736.0\n"
          ],
          "name": "stdout"
        },
        {
          "output_type": "stream",
          "text": [
            "\n"
          ],
          "name": "stderr"
        }
      ]
    },
    {
      "cell_type": "code",
      "metadata": {
        "id": "1Yx9Tl78le46",
        "colab": {
          "base_uri": "https://localhost:8080/"
        },
        "outputId": "25df295d-b190-49a3-bcf7-e9a0843ea7eb"
      },
      "source": [
        "seed=np.asarray([w2i_3['i'],w2i_3['love']])\r\n",
        "seq1=gen_seq(model3,seed,2,7,i2w_3,temperature=0.1)\r\n",
        "seq2=gen_seq(model3,seed,2,7,i2w_3,temperature=1.0)\r\n",
        "seq3=gen_seq(model3,seed,2,7,i2w_3,temperature=10.0)\r\n",
        "print(\"seq1\",seq1)\r\n",
        "print(\"seq2\",seq2)\r\n",
        "print(\"seq3\",seq3)\r\n",
        "\r\n",
        "seq1_prob=abs(seq_probality(model3,seq1,w2i_3))\r\n",
        "seq2_prob=abs(seq_probality(model3,seq2,w2i_3))\r\n",
        "seq3_prob=abs(seq_probality(model3,seq3,w2i_3))\r\n",
        "print(\"sequence 1 probability is \",seq1_prob)\r\n",
        "print(\"sequence 2 probability is \",seq2_prob)\r\n",
        "print(\"sequence 3 probability is \",seq3_prob)"
      ],
      "execution_count": 24,
      "outputs": [
        {
          "output_type": "stream",
          "text": [
            "seq1 i love 1973 nme ghali burgess oddparents\n",
            "seq2 i love symphonic subdivision attitude hartman neighbor\n",
            "seq3 i love fans feels midlands angola lachlan\n",
            "sequence 1 probability is  0.04357423782348633\n",
            "sequence 2 probability is  0.05840563297271729\n",
            "sequence 3 probability is  0.05222022533416748\n"
          ],
          "name": "stdout"
        }
      ]
    }
  ]
}